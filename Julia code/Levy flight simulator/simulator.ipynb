{
 "cells": [
  {
   "cell_type": "code",
   "execution_count": 6,
   "metadata": {},
   "outputs": [],
   "source": [
    "using Distributions\n",
    "using AlphaStableDistributions\n",
    "using Statistics\n",
    "using Plots\n",
    "using StatsPlots\n",
    "using StatsFuns"
   ]
  },
  {
   "cell_type": "code",
   "execution_count": 7,
   "metadata": {},
   "outputs": [
    {
     "data": {
      "text/plain": [
       "generate_levy_priors"
      ]
     },
     "metadata": {},
     "output_type": "display_data"
    }
   ],
   "source": [
    "include(\"datasets.jl\")\n",
    "include(\"diffusion.jl\")\n",
    "include(\"experiment.jl\")\n",
    "include(\"priors.jl\")"
   ]
  },
  {
   "cell_type": "markdown",
   "metadata": {},
   "source": [
    "Parameters\n",
    "\n",
    "•\ta = threshold separation; \n",
    "\n",
    "•\tzr = relative starting point;\n",
    "\n",
    "•\tv0 = drift rate for blue stimuli or non-word stimuli;\n",
    "\n",
    "•\tv1 = drift rate for orange stimuli or word stimuli; \n",
    "\n",
    "•\tt0 = non-decisional time; \n",
    "\n",
    "•\talpha = stability parameter of noise distribution; \n",
    "\n",
    "•\tsz = across-trial variability in starting point; \n",
    "\n",
    "•\tsv = across-trial variability in drift rate;\n",
    "\n",
    "•\tst = across-trial variability in non-decisional processes \n",
    "\n"
   ]
  },
  {
   "cell_type": "markdown",
   "metadata": {},
   "source": [
    "Other Stuff\n",
    "\n",
    "•\tdt = granularity of time steps\n",
    "\n",
    "•\ttol = maximum number of time steps\n",
    "\n",
    "•\trho = scaling factor\n",
    "\n",
    "•\tbeta = skewness of the levy distribution (always 0 in our use case?)"
   ]
  },
  {
   "cell_type": "code",
   "execution_count": 8,
   "metadata": {},
   "outputs": [],
   "source": [
    "# Generate a batch of datasets for each model (1-4)\n",
    "n_datasets_per_model = 3\n",
    "\n",
    "datasets_m1 = generate_levy_batch(1, n_datasets_per_model, 40, 900);\n",
    "datasets_m2 = generate_levy_batch(2, n_datasets_per_model, 40, 900);\n",
    "datasets_m3 = generate_levy_batch(3, n_datasets_per_model, 40, 900);\n",
    "datasets_m4 = generate_levy_batch(4, n_datasets_per_model, 40, 900);"
   ]
  }
 ],
 "metadata": {
  "kernelspec": {
   "display_name": "Julia 1.7.2",
   "language": "julia",
   "name": "julia-1.7"
  },
  "language_info": {
   "file_extension": ".jl",
   "mimetype": "application/julia",
   "name": "julia",
   "version": "1.7.2"
  },
  "orig_nbformat": 4
 },
 "nbformat": 4,
 "nbformat_minor": 2
}
