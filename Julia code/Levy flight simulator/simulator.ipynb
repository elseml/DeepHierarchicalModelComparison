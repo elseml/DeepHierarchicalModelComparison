{
 "cells": [
  {
   "cell_type": "code",
   "execution_count": 3,
   "metadata": {},
   "outputs": [],
   "source": [
    "using Distributions\n",
    "using AlphaStableDistributions\n",
    "using Statistics\n",
    "using Plots\n",
    "using StatsPlots\n",
    "using StatsFuns\n",
    "using NPZ"
   ]
  },
  {
   "cell_type": "code",
   "execution_count": 4,
   "metadata": {},
   "outputs": [
    {
     "data": {
      "text/plain": [
       "generate_levy_priors"
      ]
     },
     "metadata": {},
     "output_type": "display_data"
    }
   ],
   "source": [
    "include(\"datasets.jl\")\n",
    "include(\"diffusion.jl\")\n",
    "include(\"experiment.jl\")\n",
    "include(\"priors.jl\")"
   ]
  },
  {
   "cell_type": "code",
   "execution_count": 5,
   "metadata": {},
   "outputs": [
    {
     "data": {
      "text/plain": [
       "save_to_npy"
      ]
     },
     "metadata": {},
     "output_type": "display_data"
    }
   ],
   "source": [
    "\"Helper function to save simulated datasets as npy files.\"\n",
    "function save_to_npy(dataset::Array{Float64, 4}, name::String)\n",
    "    coding_folder = dirname(dirname(pwd()))\n",
    "    target_folder = \"data\\\\Levy_flight_application\"\n",
    "\n",
    "    filename = \"$name.npy\"\n",
    "    target_path = joinpath(coding_folder, target_folder, filename)\n",
    "\n",
    "    npzwrite(target_path, dataset)\n",
    "end"
   ]
  },
  {
   "cell_type": "markdown",
   "metadata": {},
   "source": [
    "# Generate training datasets"
   ]
  },
  {
   "cell_type": "code",
   "execution_count": 12,
   "metadata": {},
   "outputs": [],
   "source": [
    "# Generate a batch of training datasets for each model (1-4)\n",
    "# Separate calls to keep computation times and size requirements per call reasonable\n",
    "\n",
    "n_datasets_per_model = 2000\n",
    "n_clusters = 40\n",
    "n_trials = 900; # Wieschen et al. (2020): 900 trials"
   ]
  },
  {
   "cell_type": "code",
   "execution_count": 13,
   "metadata": {},
   "outputs": [
    {
     "name": "stderr",
     "output_type": "stream",
     "text": [
      "\r0.0%┣                                               ┫ 0/50 [00:00<00:-2, -0s/it]\n",
      "\u001b[1A\r2.0%┣▉                                          ┫ 1/50 [00:00<Inf:Inf, InfGs/it]\n",
      "\u001b[1A\r4.0%┣██                                              ┫ 2/50 [00:00<00:23, 2it/s]\n",
      "\u001b[1A\r6.0%┣██▉                                             ┫ 3/50 [00:01<00:25, 2it/s]\n",
      "\u001b[1A\r8.0%┣███▉                                            ┫ 4/50 [00:01<00:23, 2it/s]\n",
      "\u001b[1A\r10.0%┣████▊                                          ┫ 5/50 [00:02<00:21, 2it/s]\n",
      "\u001b[1A\r12.0%┣█████▋                                         ┫ 6/50 [00:02<00:22, 2it/s]\n",
      "\u001b[1A\r14.0%┣██████▋                                        ┫ 7/50 [00:03<00:20, 2it/s]\n",
      "\u001b[1A\r16.0%┣███████▌                                       ┫ 8/50 [00:03<00:19, 2it/s]\n",
      "\u001b[1A\r18.0%┣████████▌                                      ┫ 9/50 [00:04<00:18, 2it/s]\n",
      "\u001b[1A\r20.0%┣█████████▏                                    ┫ 10/50 [00:04<00:18, 2it/s]\n",
      "\u001b[1A\r22.0%┣██████████▏                                   ┫ 11/50 [00:04<00:18, 2it/s]\n",
      "\u001b[1A\r24.0%┣███████████                                   ┫ 12/50 [00:05<00:17, 2it/s]\n",
      "\u001b[1A\r26.0%┣████████████                                  ┫ 13/50 [00:05<00:16, 2it/s]\n",
      "\u001b[1A\r28.0%┣████████████▉                                 ┫ 14/50 [00:06<00:16, 2it/s]\n",
      "\u001b[1A\r30.0%┣█████████████▉                                ┫ 15/50 [00:06<00:15, 2it/s]\n",
      "\u001b[1A\r32.0%┣██████████████▊                               ┫ 16/50 [00:06<00:14, 2it/s]\n",
      "\u001b[1A\r34.0%┣███████████████▋                              ┫ 17/50 [00:07<00:14, 2it/s]\n",
      "\u001b[1A\r36.0%┣████████████████▋                             ┫ 18/50 [00:07<00:13, 2it/s]\n",
      "\u001b[1A\r38.0%┣█████████████████▌                            ┫ 19/50 [00:07<00:12, 2it/s]\n",
      "\u001b[1A\r40.0%┣██████████████████▍                           ┫ 20/50 [00:08<00:12, 3it/s]\n",
      "\u001b[1A\r42.0%┣███████████████████▎                          ┫ 21/50 [00:08<00:11, 3it/s]\n",
      "\u001b[1A\r44.0%┣████████████████████▎                         ┫ 22/50 [00:08<00:11, 3it/s]\n",
      "\u001b[1A\r46.0%┣█████████████████████▏                        ┫ 23/50 [00:08<00:10, 3it/s]\n",
      "\u001b[1A\r48.0%┣██████████████████████                        ┫ 24/50 [00:08<00:10, 3it/s]\n",
      "\u001b[1A\r50.0%┣███████████████████████                       ┫ 25/50 [00:09<00:09, 3it/s]\n",
      "\u001b[1A\r52.0%┣████████████████████████                      ┫ 26/50 [00:09<00:09, 3it/s]\n",
      "\u001b[1A\r56.0%┣█████████████████████████▊                    ┫ 28/50 [00:10<00:08, 3it/s]\n",
      "\u001b[1A\r58.0%┣██████████████████████████▊                   ┫ 29/50 [00:10<00:07, 3it/s]\n",
      "\u001b[1A\r60.0%┣███████████████████████████▋                  ┫ 30/50 [00:10<00:07, 3it/s]\n",
      "\u001b[1A\r62.0%┣████████████████████████████▌                 ┫ 31/50 [00:10<00:07, 3it/s]\n",
      "\u001b[1A\r64.0%┣█████████████████████████████▍                ┫ 32/50 [00:11<00:07, 3it/s]\n",
      "\u001b[1A\r66.0%┣██████████████████████████████▍               ┫ 33/50 [00:11<00:06, 3it/s]\n",
      "\u001b[1A\r68.0%┣███████████████████████████████▎              ┫ 34/50 [00:11<00:06, 3it/s]\n",
      "\u001b[1A\r70.0%┣████████████████████████████████▏             ┫ 35/50 [00:12<00:05, 3it/s]\n",
      "\u001b[1A\r72.0%┣█████████████████████████████████▏            ┫ 36/50 [00:12<00:05, 3it/s]\n",
      "\u001b[1A\r74.0%┣██████████████████████████████████            ┫ 37/50 [00:12<00:04, 3it/s]\n",
      "\u001b[1A\r76.0%┣███████████████████████████████████           ┫ 38/50 [00:12<00:04, 3it/s]\n",
      "\u001b[1A\r78.0%┣███████████████████████████████████▉          ┫ 39/50 [00:13<00:04, 3it/s]\n",
      "\u001b[1A\r80.0%┣████████████████████████████████████▉         ┫ 40/50 [00:14<00:04, 3it/s]\n",
      "\u001b[1A\r82.0%┣█████████████████████████████████████▊        ┫ 41/50 [00:14<00:03, 3it/s]\n",
      "\u001b[1A\r84.0%┣██████████████████████████████████████▋       ┫ 42/50 [00:15<00:03, 3it/s]\n",
      "\u001b[1A\r86.0%┣███████████████████████████████████████▋      ┫ 43/50 [00:15<00:03, 3it/s]\n",
      "\u001b[1A\r88.0%┣████████████████████████████████████████▌     ┫ 44/50 [00:16<00:02, 3it/s]\n",
      "\u001b[1A\r90.0%┣█████████████████████████████████████████▍    ┫ 45/50 [00:16<00:02, 3it/s]\n",
      "\u001b[1A\r92.0%┣██████████████████████████████████████████▎   ┫ 46/50 [00:16<00:01, 3it/s]\n",
      "\u001b[1A\r94.0%┣███████████████████████████████████████████▎  ┫ 47/50 [00:16<00:01, 3it/s]\n",
      "\u001b[1A\r96.0%┣████████████████████████████████████████████▏ ┫ 48/50 [00:17<00:01, 3it/s]\n",
      "\u001b[1A\r98.0%┣█████████████████████████████████████████████ ┫ 49/50 [00:18<00:00, 3it/s]\n",
      "\u001b[1A\r100.0%┣█████████████████████████████████████████████┫ 50/50 [00:18<00:00, 3it/s]\n"
     ]
    }
   ],
   "source": [
    "indices_m1, datasets_m1 = generate_levy_batch(1, n_datasets_per_model, n_clusters, n_trials);"
   ]
  },
  {
   "cell_type": "code",
   "execution_count": 49,
   "metadata": {},
   "outputs": [],
   "source": [
    "indices_m2, datasets_m2 = generate_levy_batch(2, n_datasets_per_model, n_clusters, n_trials);"
   ]
  },
  {
   "cell_type": "code",
   "execution_count": 50,
   "metadata": {},
   "outputs": [],
   "source": [
    "indices_m3, datasets_m3 = generate_levy_batch(3, n_datasets_per_model, n_clusters, n_trials);"
   ]
  },
  {
   "cell_type": "code",
   "execution_count": 51,
   "metadata": {},
   "outputs": [],
   "source": [
    "indices_m4, datasets_m4 = generate_levy_batch(4, n_datasets_per_model, n_clusters, n_trials);"
   ]
  },
  {
   "cell_type": "code",
   "execution_count": 52,
   "metadata": {},
   "outputs": [],
   "source": [
    "# Concatenate sets\n",
    "\n",
    "indices = vcat(indices_m1, indices_m2, indices_m3, indices_m4)\n",
    "datasets = vcat(datasets_m1, datasets_m2, datasets_m3, datasets_m4);"
   ]
  },
  {
   "cell_type": "code",
   "execution_count": 53,
   "metadata": {},
   "outputs": [],
   "source": [
    "# reshape indices due to weird requirements by save_to_npy()\n",
    "indices = Float64.(cat(indices, dims=4));"
   ]
  },
  {
   "cell_type": "markdown",
   "metadata": {},
   "source": [
    "## Save training datasets"
   ]
  },
  {
   "cell_type": "code",
   "execution_count": 54,
   "metadata": {},
   "outputs": [],
   "source": [
    "save_to_npy(indices, \"train_indices\")\n",
    "save_to_npy(datasets, \"train_datasets\")"
   ]
  },
  {
   "cell_type": "markdown",
   "metadata": {},
   "source": [
    "# Generate validation datasets"
   ]
  },
  {
   "cell_type": "code",
   "execution_count": 7,
   "metadata": {},
   "outputs": [
    {
     "data": {
      "text/plain": [
       "5000"
      ]
     },
     "metadata": {},
     "output_type": "display_data"
    }
   ],
   "source": [
    "# Generate a batch of validation datasets for each model (1-4)\n",
    "n_datasets_per_model = 2000\n",
    "n_clusters = 40\n",
    "n_trials = 900; # Wieschen et al. (2020): 900 trials"
   ]
  },
  {
   "cell_type": "code",
   "execution_count": 8,
   "metadata": {},
   "outputs": [],
   "source": [
    "val_indices_m1, val_datasets_m1 = generate_levy_batch(1, n_datasets_per_model, n_clusters, n_trials);"
   ]
  },
  {
   "cell_type": "code",
   "execution_count": 9,
   "metadata": {},
   "outputs": [],
   "source": [
    "val_indices_m2, val_datasets_m2 = generate_levy_batch(2, n_datasets_per_model, n_clusters, n_trials);"
   ]
  },
  {
   "cell_type": "code",
   "execution_count": 10,
   "metadata": {},
   "outputs": [],
   "source": [
    "val_indices_m3, val_datasets_m3 = generate_levy_batch(3, n_datasets_per_model, n_clusters, n_trials);"
   ]
  },
  {
   "cell_type": "code",
   "execution_count": 11,
   "metadata": {},
   "outputs": [],
   "source": [
    "val_indices_m4, val_datasets_m4 = generate_levy_batch(4, n_datasets_per_model, n_clusters, n_trials);"
   ]
  },
  {
   "cell_type": "code",
   "execution_count": 12,
   "metadata": {},
   "outputs": [],
   "source": [
    "# Concatenate sets\n",
    "\n",
    "val_indices = vcat(val_indices_m1, val_indices_m2, val_indices_m3, val_indices_m4)\n",
    "val_datasets = vcat(val_datasets_m1, val_datasets_m2, val_datasets_m3, val_datasets_m4);"
   ]
  },
  {
   "cell_type": "code",
   "execution_count": 15,
   "metadata": {},
   "outputs": [],
   "source": [
    "# reshape indices due to weird requirements by save_to_npy()\n",
    "val_indices = Float64.(cat(val_indices, dims=4));"
   ]
  },
  {
   "cell_type": "markdown",
   "metadata": {},
   "source": [
    "## Save validation datasets"
   ]
  },
  {
   "cell_type": "code",
   "execution_count": 16,
   "metadata": {},
   "outputs": [],
   "source": [
    "save_to_npy(val_indices, \"val_indices\")\n",
    "save_to_npy(val_datasets, \"val_datasets\")"
   ]
  }
 ],
 "metadata": {
  "kernelspec": {
   "display_name": "Julia 1.7.2",
   "language": "julia",
   "name": "julia-1.7"
  },
  "language_info": {
   "file_extension": ".jl",
   "mimetype": "application/julia",
   "name": "julia",
   "version": "1.7.2"
  },
  "orig_nbformat": 4
 },
 "nbformat": 4,
 "nbformat_minor": 2
}
