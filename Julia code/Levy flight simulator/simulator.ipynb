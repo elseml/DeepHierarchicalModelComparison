{
 "cells": [
  {
   "cell_type": "code",
   "execution_count": 6,
   "metadata": {},
   "outputs": [],
   "source": [
    "using Distributions\n",
    "using AlphaStableDistributions\n",
    "using Statistics\n",
    "using Plots\n",
    "using StatsPlots\n",
    "using StatsFuns\n",
    "using NPZ"
   ]
  },
  {
   "cell_type": "code",
   "execution_count": 64,
   "metadata": {},
   "outputs": [
    {
     "data": {
      "text/plain": [
       "generate_levy_priors"
      ]
     },
     "metadata": {},
     "output_type": "display_data"
    }
   ],
   "source": [
    "include(\"datasets.jl\")\n",
    "include(\"diffusion.jl\")\n",
    "include(\"experiment.jl\")\n",
    "include(\"priors.jl\")"
   ]
  },
  {
   "cell_type": "code",
   "execution_count": null,
   "metadata": {},
   "outputs": [],
   "source": [
    "\"Helper function to save simulated datasets as npy files.\"\n",
    "function save_to_npy(dataset::Array{Float64, 4}, name::String)\n",
    "    coding_folder = dirname(dirname(pwd()))\n",
    "    target_folder = \"data\\\\Levy_flight_application\"\n",
    "\n",
    "    filename = \"$name.npy\"\n",
    "    target_path = joinpath(coding_folder, target_folder, filename)\n",
    "\n",
    "    npzwrite(target_path, dataset)\n",
    "end"
   ]
  },
  {
   "cell_type": "markdown",
   "metadata": {},
   "source": [
    "# Generate training datasets"
   ]
  },
  {
   "cell_type": "code",
   "execution_count": 92,
   "metadata": {},
   "outputs": [],
   "source": [
    "# Generate a batch of training datasets for each model (1-4)\n",
    "n_datasets_per_model = 500\n",
    "\n",
    "datasets_m1 = generate_levy_batch(1, n_datasets_per_model, 40, 900);"
   ]
  },
  {
   "cell_type": "code",
   "execution_count": null,
   "metadata": {},
   "outputs": [],
   "source": [
    "datasets_m2 = generate_levy_batch(2, n_datasets_per_model, 40, 900);"
   ]
  },
  {
   "cell_type": "code",
   "execution_count": null,
   "metadata": {},
   "outputs": [],
   "source": [
    "datasets_m3 = generate_levy_batch(3, n_datasets_per_model, 40, 900);"
   ]
  },
  {
   "cell_type": "code",
   "execution_count": null,
   "metadata": {},
   "outputs": [],
   "source": [
    "datasets_m4 = generate_levy_batch(4, n_datasets_per_model, 40, 900);"
   ]
  },
  {
   "cell_type": "markdown",
   "metadata": {},
   "source": [
    "## Save training datasets"
   ]
  },
  {
   "cell_type": "code",
   "execution_count": 88,
   "metadata": {},
   "outputs": [
    {
     "data": {
      "text/plain": [
       "save_to_npy (generic function with 2 methods)"
      ]
     },
     "metadata": {},
     "output_type": "display_data"
    }
   ],
   "source": [
    "save_to_npy(datasets_m1, \"datasets_m1\")\n",
    "#save_to_npy(datasets_m2, \"datasets_m2\")\n",
    "#save_to_npy(datasets_m3, \"datasets_m3\")\n",
    "#save_to_npy(datasets_m4, \"datasets_m4\")"
   ]
  },
  {
   "cell_type": "markdown",
   "metadata": {},
   "source": [
    "# Generate validation datasets"
   ]
  },
  {
   "cell_type": "code",
   "execution_count": null,
   "metadata": {},
   "outputs": [],
   "source": [
    "# Generate a batch of validation datasets for each model (1-4)\n",
    "n_datasets_per_model = 5000\n",
    "\n",
    "datasets_m1_val = generate_levy_batch(1, n_datasets_per_model, 40, 900);"
   ]
  },
  {
   "cell_type": "code",
   "execution_count": null,
   "metadata": {},
   "outputs": [],
   "source": [
    "datasets_m2_val = generate_levy_batch(2, n_datasets_per_model, 40, 900);"
   ]
  },
  {
   "cell_type": "code",
   "execution_count": null,
   "metadata": {},
   "outputs": [],
   "source": [
    "datasets_m3_val = generate_levy_batch(3, n_datasets_per_model, 40, 900);"
   ]
  },
  {
   "cell_type": "code",
   "execution_count": null,
   "metadata": {},
   "outputs": [],
   "source": [
    "datasets_m4_val = generate_levy_batch(4, n_datasets_per_model, 40, 900);"
   ]
  },
  {
   "cell_type": "markdown",
   "metadata": {},
   "source": [
    "## Save validation datasets"
   ]
  },
  {
   "cell_type": "code",
   "execution_count": null,
   "metadata": {},
   "outputs": [],
   "source": [
    "save_to_npy(datasets_m1_val, \"datasets_m1_val\")\n",
    "save_to_npy(datasets_m2_val, \"datasets_m2_val\")\n",
    "save_to_npy(datasets_m3_val, \"datasets_m3_val\")\n",
    "save_to_npy(datasets_m4_val, \"datasets_m4_val\")"
   ]
  }
 ],
 "metadata": {
  "kernelspec": {
   "display_name": "Julia 1.7.2",
   "language": "julia",
   "name": "julia-1.7"
  },
  "language_info": {
   "file_extension": ".jl",
   "mimetype": "application/julia",
   "name": "julia",
   "version": "1.7.2"
  },
  "orig_nbformat": 4
 },
 "nbformat": 4,
 "nbformat_minor": 2
}
