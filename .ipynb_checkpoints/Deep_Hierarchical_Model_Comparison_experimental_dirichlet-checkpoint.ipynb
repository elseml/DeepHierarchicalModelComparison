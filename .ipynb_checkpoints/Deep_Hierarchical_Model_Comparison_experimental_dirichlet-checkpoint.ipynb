{
 "cells": [
  {
   "cell_type": "markdown",
   "metadata": {},
   "source": [
    "# Setup"
   ]
  },
  {
   "cell_type": "code",
   "execution_count": 1,
   "metadata": {},
   "outputs": [],
   "source": [
    "import os\n",
    "from datetime import datetime, timezone, timedelta\n",
    "import numpy as np\n",
    "np.set_printoptions(suppress=True)\n",
    "import pandas as pd\n",
    "import tensorflow as tf\n",
    "from scipy import stats\n",
    "from tqdm.notebook import tqdm\n",
    "from functools import partial\n",
    "import matplotlib.pyplot as plt\n",
    "import seaborn as sns\n",
    "from sklearn.calibration import calibration_curve\n",
    "from sklearn.metrics import confusion_matrix, accuracy_score, mean_absolute_error\n",
    "from time import perf_counter"
   ]
  },
  {
   "cell_type": "markdown",
   "metadata": {},
   "source": [
    "# Model formulation"
   ]
  },
  {
   "cell_type": "markdown",
   "metadata": {},
   "source": [
    "Hierarchical Normal Example Model: New formulation with explicit distributions\n",
    "\n",
    "$$\n",
    "\\begin{align}\n",
    "x_n &\\sim \\mathcal{N}(\\theta_l, \\sigma^2) \\text{ for } n=1,...,N \\\\\n",
    "\\theta_l &\\sim \\mathcal{N}(\\mu, \\tau^2) \\text{ for } l=1,...,L\\\\\n",
    "\\sigma^2 &\\sim Inv.-Gamma(\\alpha_s, \\beta_s)\\\\\n",
    "\\mu &\\sim \\mathcal{N}(\\mu_0, \\tau_0)\\\\\n",
    "\\tau^2 &\\sim Inv.-Gamma(\\alpha_t, \\beta_t)\\\\\n",
    "\\end{align}\n",
    "$$"
   ]
  },
  {
   "cell_type": "markdown",
   "metadata": {},
   "source": [
    "$$\n",
    "\\begin{align}\n",
    "&\\text{Null Model }M_0 \\text{: } \\mu=0\\\\\n",
    "&\\text{Alternative Model }M_1 \\text{: } \\mu \\text{ allowed to differ from 0} \\\\\n",
    "\\end{align}\n",
    "$$"
   ]
  },
  {
   "cell_type": "code",
   "execution_count": 2,
   "metadata": {},
   "outputs": [
    {
     "data": {
      "text/plain": [
       "<matplotlib.legend.Legend at 0x1d41358e7c0>"
      ]
     },
     "execution_count": 2,
     "metadata": {},
     "output_type": "execute_result"
    },
    {
     "data": {
      "image/png": "[encoded data removed]",
      "text/plain": [
       "<Figure size 576x432 with 1 Axes>"
      ]
     },
     "metadata": {
      "needs_background": "light"
     },
     "output_type": "display_data"
    }
   ],
   "source": [
    "# plot model assumptions about mu\n",
    "\n",
    "# plot setup\n",
    "plt.rcParams['font.size'] = 12\n",
    "colors = ['#2f6e9e', '#9e2f36']\n",
    "f, ax = plt.subplots(1, 1, figsize=(8, 6))\n",
    "distri = stats.norm(0, np.sqrt(1))\n",
    "x = np.linspace(-5, 5, 101)\n",
    "\n",
    "# generate model pdfs\n",
    "x_pdf_m0 = [0] * 50 + [1] + [0] * 50\n",
    "x_pdf_m1 = distri.pdf(x)\n",
    "\n",
    "# plot pdfs\n",
    "ax.plot(x, x_pdf_m0, label='$M_0$', color=colors[0], lw=2.5, alpha=0.8)\n",
    "ax.plot(x, x_pdf_m1, label='$M_1$', color=colors[1], lw=2.5, alpha=0.8)\n",
    "ax.set_ylabel('Density')\n",
    "ax.spines['right'].set_visible(False)\n",
    "ax.spines['top'].set_visible(False)\n",
    "ax.set_xlabel('$\\\\mu$')\n",
    "ax.legend(fontsize=12)"
   ]
  },
  {
   "cell_type": "markdown",
   "metadata": {},
   "source": [
    "# Utility functions"
   ]
  },
  {
   "cell_type": "code",
   "execution_count": 3,
   "metadata": {
    "code_folding": [
     0,
     40,
     62,
     90,
     118
    ]
   },
   "outputs": [],
   "source": [
    "def plot_confusion_matrix(m_true, m_pred, model_names, ax, normalize=True, \n",
    "                          cmap=plt.cm.Blues, annotate=True):\n",
    "    \"\"\"\n",
    "    Helper function to print and plot the confusion matrix. \n",
    "    Normalization can be applied by setting `normalize=True`.\n",
    "    \"\"\"\n",
    "\n",
    "\n",
    "    # Compute confusion matrix\n",
    "    cm = confusion_matrix(m_true, m_pred)\n",
    "\n",
    "    if normalize:\n",
    "        cm = cm.astype('float') / cm.sum(axis=1)[:, np.newaxis]\n",
    "\n",
    "    im = ax.imshow(cm, interpolation='nearest', cmap=cmap)\n",
    "    ax.figure.colorbar(im, ax=ax)\n",
    "    # We want to show all ticks...\n",
    "    ax.set(xticks=np.arange(cm.shape[1]),\n",
    "           yticks=np.arange(cm.shape[0]),\n",
    "           xticklabels=model_names, yticklabels=model_names,\n",
    "           ylabel='True Model',\n",
    "           xlabel='Predicted Model')\n",
    "\n",
    "    # Rotate the tick labels and set their alignment.\n",
    "    plt.setp(ax.get_xticklabels(), rotation=45, ha=\"right\",\n",
    "             rotation_mode=\"anchor\")\n",
    "\n",
    "    # Loop over data dimensions and create text annotations.\n",
    "    if annotate:\n",
    "        fmt = '.2f' if normalize else 'd'\n",
    "        thresh = cm.max() / 2.\n",
    "        for i in range(cm.shape[0]):\n",
    "            for j in range(cm.shape[1]):\n",
    "                ax.text(j, i, format(cm[i, j], fmt),\n",
    "                        ha=\"center\", va=\"center\",\n",
    "                        color=\"white\" if cm[i, j] > thresh else \"black\")\n",
    "    ax.set_title('Confusion Matrix')\n",
    "\n",
    "    \n",
    "def plot_calibration_curve(m_true, m_pred, n_bins, ax):\n",
    "    \"\"\"Helper function to plot calibration curve and ece.\"\"\"\n",
    "    \n",
    "    prob_true, prob_pred = calibration_curve(m_true, m_pred, n_bins=n_bins)\n",
    "    cal_err = np.mean(np.abs(prob_true - prob_pred))\n",
    "    ax.plot(prob_true, prob_pred)\n",
    "    ax.set_xlim([0, 1])\n",
    "    ax.set_ylim([0, 1])\n",
    "    ax.plot(ax.get_xlim(), ax.get_xlim(), '--')\n",
    "    ax.set_xticks([0.2, 0.4, 0.6, 0.8, 1.0])\n",
    "    ax.set_yticks([0.2, 0.4, 0.6, 0.8, 1.0])\n",
    "    ax.set_xlabel('Accuracy')\n",
    "    ax.set_ylabel('Confidence')\n",
    "    ax.text(0.1, 0.9,  'ECE = {0:.3f}'.format(cal_err),\n",
    "                        horizontalalignment='left',\n",
    "                        verticalalignment='center',\n",
    "                        transform=ax.transAxes,\n",
    "                        size=12)\n",
    "    ax.set_title('Calibration')\n",
    "    sns.despine(ax=ax)\n",
    "    \n",
    "    \n",
    "def plot_bootstrap_accuracy(m_true, m_pred, n_bootstrap, ax):\n",
    "    \"\"\"Helper function to plot the bootstrap accuracy of recovery.\"\"\"\n",
    "    \n",
    "    \n",
    "    n_test = m_true.shape[0]\n",
    "    accs = []\n",
    "    for bi in range(n_bootstrap):\n",
    "        b_idx = np.random.choice(np.random.permutation(n_test), size=n_test, replace=True)\n",
    "        m_true_b, m_pred_b = m_true[b_idx], m_pred[b_idx]\n",
    "        accs.append(accuracy_score(m_true_b, m_pred_b))\n",
    "    \n",
    "    sns.histplot(accs, ax=ax, stat='probability')\n",
    "    sns.despine(ax=ax)\n",
    "    ax.set_xlabel('Accuracy')\n",
    "    ax.set_ylabel('')\n",
    "    ax.yaxis.set_ticks([])\n",
    "    ax.text(0.05, 0.9,  'Bootstrap accuracy = {0:.3f}'.format(np.mean(accs)),\n",
    "                        horizontalalignment='left',\n",
    "                        verticalalignment='center',\n",
    "                        transform=ax.transAxes,\n",
    "                        size=12)\n",
    "    ax.text(0.05, 0.8,  'SD = {0:.3f}'.format(np.std(accs)),\n",
    "                        horizontalalignment='left',\n",
    "                        verticalalignment='center',\n",
    "                        transform=ax.transAxes,\n",
    "                        size=12)\n",
    "    \n",
    "    \n",
    "def plot_bootstrap_mae(m_true, m_pred, n_bootstrap, ax):\n",
    "    \"\"\"Helper function to plot the bootstrap accuracy of recovery.\"\"\"\n",
    "    \n",
    "    \n",
    "    n_test = m_true.shape[0]\n",
    "    maes = []\n",
    "    for bi in range(n_bootstrap):\n",
    "        b_idx = np.random.choice(np.random.permutation(n_test), size=n_test, replace=True)\n",
    "        m_true_b, m_pred_b = m_true[b_idx], m_pred[b_idx]\n",
    "        maes.append(mean_absolute_error(m_true_b, m_pred_b))\n",
    "    \n",
    "    sns.histplot(maes, ax=ax, stat='probability')\n",
    "    sns.despine(ax=ax)\n",
    "    ax.set_xlabel('MAE')\n",
    "    ax.set_ylabel('')\n",
    "    ax.yaxis.set_ticks([])\n",
    "    ax.text(0.05, 0.9,  'Mean MAE = {0:.3f}'.format(np.mean(maes)),\n",
    "                        horizontalalignment='left',\n",
    "                        verticalalignment='center',\n",
    "                        transform=ax.transAxes,\n",
    "                        size=12)\n",
    "    ax.text(0.05, 0.8,  'SD = {0:.3f}'.format(np.std(maes)),\n",
    "                        horizontalalignment='left',\n",
    "                        verticalalignment='center',\n",
    "                        transform=ax.transAxes,\n",
    "                        size=12)\n",
    "    \n",
    "\n",
    "def perf_tester(model, val_data, n_bootstrap=100, n_cal_bins=15):\n",
    "    \"\"\"Utility function to test the performance of the model.\"\"\"\n",
    "    \n",
    "    # Compute model predictions in chunks so that GPU memory does not blow-up\n",
    "    m_soft = tf.concat([model.predict(x_chunk)['m_probs'][:,1] for x_chunk in tf.split(val_data['X'], 20)], axis=0).numpy()\n",
    "    m_hard = (m_soft > 0.5).astype(np.int32)\n",
    "    m_true = val_data['m']\n",
    "    \n",
    "    # Prepare figures\n",
    "    fig, axarr = plt.subplots(2, 2, figsize=(16, 8))\n",
    "    \n",
    "    # Plot stuff\n",
    "    plot_calibration_curve(m_true, m_soft, n_cal_bins, axarr[0, 0])\n",
    "    plot_confusion_matrix(m_true, m_hard, ['$M_0$','$M_1$'], axarr[0, 1])\n",
    "    plot_bootstrap_accuracy(m_true, m_hard, n_bootstrap, axarr[1, 0])\n",
    "    plot_bootstrap_mae(m_true, m_hard, n_bootstrap, axarr[1, 1])\n",
    "    fig.tight_layout()"
   ]
  },
  {
   "cell_type": "code",
   "execution_count": null,
   "metadata": {},
   "outputs": [],
   "source": [
    "# For training with fixed numbers of clusters and variable number of observations\n",
    "\n",
    "def plot_eces_over_obs(m_true, m_pred, n_obs_min, n_obs_max, n_bins):\n",
    "    \"\"\"Helper function to plot ece as a function of N and L.\"\"\"\n",
    "\n",
    "    f, ax = plt.subplots(1, 1, figsize=(8, 6))\n",
    "    \n",
    "    n_obs_points = np.arange(n_obs_min, n_obs_max+1)\n",
    "    prob_true, prob_pred, cal_err = ([] for i in range(3))\n",
    "    \n",
    "    for i in n_obs_points-1:\n",
    "        prob_true_i, prob_pred_i = calibration_curve(m_true[i], m_pred[i], n_bins=n_bins)\n",
    "        prob_true.append(prob_true_i)\n",
    "        prob_pred.append(prob_pred_i)\n",
    "        cal_err_i = np.mean(np.abs(prob_true[i] - prob_pred[i]))\n",
    "        cal_err.append(cal_err_i)\n",
    "    ax.plot(n_obs_points, cal_err)\n",
    "    mean_ece = np.mean(cal_err)\n",
    "    sd_ece = np.std(cal_err)\n",
    "    plt.axhline(y=mean_ece, color='tab:red')\n",
    "    plt.fill_between(n_obs_points, mean_ece-3*sd_ece, mean_ece+3*sd_ece, \n",
    "                     color='tab:red', alpha=0.1)\n",
    "    ax.set_xlim([0, n_obs_max])\n",
    "    ax.set_ylim([0, 1])\n",
    "    ax.set_xlabel('N')\n",
    "    ax.set_ylabel('ECE')\n",
    "    ax.text(0.1, 0.9,  'Mean ECE = {0:.3f}'.format(mean_ece),\n",
    "                        horizontalalignment='left',\n",
    "                        verticalalignment='center',\n",
    "                        transform=ax.transAxes,\n",
    "                        size=12)\n",
    "    ax.text(0.1, 0.85,  'Shaded region: Mean ECE +/- 3SD ',\n",
    "                        horizontalalignment='left',\n",
    "                        verticalalignment='center',\n",
    "                        transform=ax.transAxes,\n",
    "                        size=12)    \n",
    "    ax.set_title('Expected Calibration Error (ECE)')    \n",
    "\n",
    "\n",
    "def perf_tester_over_obs(model, val_data, n_obs_min, n_obs_max, n_bootstrap=100, n_cal_bins=15):\n",
    "    \"\"\"Utility function to test the performance of the model.\"\"\"\n",
    "    \n",
    "    # Compute model predictions in chunks so GPU memory does not blow-up\n",
    "    m_soft, m_hard, m_true = ([] for i in range(3))\n",
    "    \n",
    "    for i in range(n_obs_min-1, n_obs_max):\n",
    "        m_soft_i = tf.concat([model.predict(x_chunk) for x_chunk in tf.split(val_data[i]['X'], 5)], axis=0).numpy()\n",
    "        m_soft.append(m_soft_i)\n",
    "        m_hard_i = (m_soft[i] > 0.5).astype(np.int32)\n",
    "        m_hard.append(m_hard_i)\n",
    "        m_true_i = val_data[i]['m']\n",
    "        m_true.append(m_true_i)\n",
    "\n",
    "    \n",
    "    # Plot stuff\n",
    "    plot_eces_over_obs(m_true, m_soft, n_obs_min, n_obs_max, n_cal_bins)"
   ]
  },
  {
   "cell_type": "code",
   "execution_count": null,
   "metadata": {},
   "outputs": [],
   "source": [
    "# For training with variable numbers of clusters and observations\n",
    "\n",
    "def compute_eces_variable(model, simulator, n_val_per_setting, n_clust_min, n_clust_max, n_obs_min, n_obs_max, n_cal_bins=15):\n",
    "    \"\"\"\n",
    "    Simulates validation data per setting and computes the expected calibration error of the model.\n",
    "    --------\n",
    "\n",
    "    Returns:\n",
    "    2 lists of shape((n_clust_max+1 - n_clust_min)*(n_obs_max+1 - n_obs_min)) \n",
    "    - containing the mean (1st list) / sd (2nd list) eces of all possible combinations on L and N.\n",
    "    \"\"\"\n",
    "    \n",
    "    # Create lists\n",
    "    ece_means = []\n",
    "    \n",
    "    with tqdm(total=(n_clust_max+1 - n_clust_min), desc='Loop through clusters progress') as p_bar: \n",
    "        with tqdm(total=(n_obs_max+1 - n_obs_min), desc='Loop through nested observations progress') as p_bar_within:\n",
    "            for l in range(n_clust_min, n_clust_max+1): # Loop through clusters\n",
    "                \n",
    "                p_bar_within.reset((n_obs_max+1 - n_obs_min)) # reuse 2nd bar so that screen doesn't explode\n",
    "                for n in range(n_obs_min, n_obs_max+1): # Loop through nested observations\n",
    "\n",
    "                    # Simulate validation data\n",
    "                    val_data = simulator(batch_size=n_val_per_setting, n_clust_min=l, n_clust_max=l, \n",
    "                                         n_obs_min=n, n_obs_max=n)\n",
    "\n",
    "                    # Predict model probabilities\n",
    "                    m_soft = model(val_data['X']).numpy()        \n",
    "                    m_true = val_data['m']\n",
    "\n",
    "                    # Compute calibration error\n",
    "                    prob_true, prob_pred = calibration_curve(m_true, m_soft, n_bins=n_cal_bins)\n",
    "                    cal_err = np.abs(prob_true - prob_pred)\n",
    "\n",
    "                    mean_ece = np.mean(cal_err)\n",
    "                    ece_means.append(mean_ece)\n",
    "\n",
    "                    # Update inner progess bar\n",
    "                    p_bar_within.set_postfix_str(\"Cluster {0}, Observation {1}\".format(l, n + 1))\n",
    "                    p_bar_within.update()\n",
    "\n",
    "                # Refresh inner + update outer progess bar\n",
    "                p_bar_within.refresh() \n",
    "                p_bar.set_postfix_str(\"Finished clusters: {}\".format(l))\n",
    "                p_bar.update()\n",
    "    \n",
    "    return(ece_means)\n",
    "\n",
    "\n",
    "def plot_eces_variable(ece_means, n_val_per_setting, n_clust_min, n_clust_max, n_obs_min, n_obs_max, n_cal_bins=15):\n",
    "    \"\"\" \n",
    "    Takes the ECE results from compute_eces_variable() and \n",
    "    projects them onto a 3D-plot.\n",
    "    \"\"\"\n",
    "    \n",
    "    # Prepare objects\n",
    "    f = plt.figure(figsize=(16, 12))\n",
    "    ax = plt.axes(projection='3d')\n",
    "\n",
    "    n_clust_points = np.arange(n_clust_min, n_clust_max+1)\n",
    "    n_obs_points = np.arange(n_obs_min, n_obs_max+1)\n",
    "\n",
    "    n_clust_grid, n_obs_grid = np.meshgrid(n_clust_points, n_obs_points)\n",
    "    cal_err_grid = np.reshape(ece_means, (-1, n_clust_max)) # reshape into (#clusters, #observations)\n",
    "    ax.plot_surface(n_clust_grid, n_obs_grid, cal_err_grid, cmap='viridis', edgecolor='none')\n",
    "\n",
    "    ax.elev = 15\n",
    "    #ax.set_xlim([n_clust_max, n_clust_min]) # UNCOMMENT FOR INSPECTION: are values close to 1 more prone to high ECEs?\n",
    "    #ax.set_ylim([n_obs_min, n_obs_max]) # UNCOMMENT FOR INSPECTION: are values close to 1 more prone to high ECEs?\n",
    "    ax.set_xlim([n_clust_min, n_clust_max]) # COMMENT IN FOR INSPECTION: are values close to 1 more prone to high ECEs?\n",
    "    ax.set_ylim([n_obs_max, n_obs_min]) # COMMENT IN FOR INSPECTION: are values close to 1 more prone to high ECEs?\n",
    "    ax.set_zlim([0, 1])\n",
    "    ax.set_xlabel('L')\n",
    "    ax.set_ylabel('N')    \n",
    "    ax.set_zlabel('ECE')\n",
    "    ax.text2D(0.05, 0.95, 'Mean ECE = {0:.3f}'.format(np.mean(ece_means)), transform=ax.transAxes)\n",
    "    ax.text2D(0.05, 0.90, 'SD around mean ECE = {0:.3f}'.format(np.std(ece_means)), transform=ax.transAxes)\n",
    "    ax.set_title('Expected Calibration Error (ECE)')"
   ]
  },
  {
   "cell_type": "markdown",
   "metadata": {},
   "source": [
    "# Simulator class"
   ]
  },
  {
   "cell_type": "code",
   "execution_count": 4,
   "metadata": {
    "code_folding": [
     5,
     28,
     41,
     63
    ]
   },
   "outputs": [],
   "source": [
    "class HierarchicalNormalSimulator:\n",
    "    \n",
    "    def __init__(self):    \n",
    "        pass\n",
    "    \n",
    "    def draw_from_prior(self, model_index, n_clusters, mu0, tau20, alpha_t, beta_t, alpha_s, beta_s):\n",
    "        \"\"\"\n",
    "        Draws parameter values from the specified prior distributions of the \n",
    "        hyperprior and the conditional prior.\n",
    "        ----------\n",
    "        \n",
    "        Arguments:        \n",
    "        n_clusters : int -- number of higher order clusters that the observations are nested in\n",
    "        mu0        : float -- higher order mean prior - mean\n",
    "        tau20      : float -- higher order mean prior - variance\n",
    "        alpha_t    : float -- higher order variance prior - shape parameter\n",
    "        beta_t     : float -- higher order variance prior - rate parameter\n",
    "        alpha_s    : float -- variance prior - shape parameter\n",
    "        beta_s     : float -- variance prior - rate parameter\n",
    "        \"\"\"\n",
    "        \n",
    "        if model_index == 0: \n",
    "            mu = 0 # must be mu=0 // mu=5 for quick model convergence checks\n",
    "        if model_index == 1:\n",
    "            mu = np.random.normal(loc=mu0, scale=np.sqrt(tau20))\n",
    "            \n",
    "        tau2 = 1/np.random.gamma(alpha_t, beta_t)\n",
    "        sigma2 = 1/np.random.gamma(alpha_s, beta_s)\n",
    "        theta = np.random.normal(loc=mu, scale=np.sqrt(tau2), size=n_clusters)\n",
    "        return theta, sigma2\n",
    "    \n",
    "    def gen_from_likelihood(self, theta, sigma2, n_obs):\n",
    "        \"\"\"\n",
    "        Generates a single hierarchical dataset from the sampled parameter values.\n",
    "        ----------\n",
    "        \n",
    "        Arguments: \n",
    "        params : list -- parameters sampled from prior \n",
    "        n_obs  : int -- number of observations per cluster\n",
    "        \"\"\"\n",
    "        \n",
    "        X = np.random.normal(loc=theta, scale=sigma2, size=(n_obs, theta.shape[0])).T \n",
    "        return X\n",
    "    \n",
    "    def generate_single(self, model_index, n_clusters, n_obs, mu0=0, tau20=1, alpha_t=1, beta_t=1, alpha_s=1, beta_s=1):\n",
    "        \"\"\"\n",
    "        Generates a single hierarchical dataset utilizing the draw_from_prior and gen_from_likelihood functions.\n",
    "        ----------\n",
    "        \n",
    "        Arguments:\n",
    "        model_index : int -- index of the model to be simulated from\n",
    "        n_clusters  : int -- number of higher order clusters that the observations are nested in\n",
    "        n_obs       : int -- number of observations per cluster\n",
    "        mu0         : float -- higher order mean prior - mean\n",
    "        tau20       : float -- higher order mean prior - variance\n",
    "        alpha_t     : float -- higher order variance prior - shape parameter\n",
    "        beta_t      : float -- higher order variance prior - rate parameter\n",
    "        alpha_s     : float -- variance prior - shape parameter\n",
    "        beta_s      : float -- variance prior - rate parameter\n",
    "        --------\n",
    "        \n",
    "        Returns:\n",
    "        numpy array of shape (n_clusters, n_obs, n_variables) - contains the simulated hierarchical datasets\n",
    "        \"\"\"\n",
    "        theta, sigma2 = self.draw_from_prior(model_index, n_clusters, mu0, tau20, alpha_t, beta_t, alpha_s, beta_s)\n",
    "        x_generated = self.gen_from_likelihood(theta, sigma2, n_obs)\n",
    "        return x_generated[...,np.newaxis]\n",
    "        \n",
    "    def simulate(self, batch_size, n_models, n_clusters, n_obs, mu0=0, tau20=1, alpha_t=1, beta_t=1, alpha_s=1, beta_s=1):\n",
    "        \"\"\"\n",
    "        Simulates multiple hierarchical datasets. Useful for single usage and debugging (both without the MainSimulator).\n",
    "        ----------\n",
    "        \n",
    "        Arguments:\n",
    "        batch_size  : int -- number of batches to be generated\n",
    "        n_models    : int -- number of models to be simulated from\n",
    "        n_clusters  : int -- number of higher order clusters that the observations are nested in\n",
    "        n_obs       : int -- number of observations per cluster\n",
    "        n_variables : int -- number of variables in the simulated datasets \n",
    "        mu0         : float -- higher order mean prior - mean\n",
    "        tau20       : float -- higher order mean prior - variance\n",
    "        alpha_t     : float -- higher order variance prior - shape parameter\n",
    "        beta_t      : float -- higher order variance prior - rate parameter\n",
    "        alpha_s     : float -- variance prior - shape parameter\n",
    "        beta_s      : float -- variance prior - rate parameter\n",
    "        --------\n",
    "        \n",
    "        Returns:\n",
    "        numpy array of shape (batch_size * n_models, n_clusters, n_obs, n_variables) - contains the simulated hierarchical datasets\n",
    "        \"\"\"\n",
    "        \n",
    "        X = []\n",
    "        for b in range(batch_size):\n",
    "            prior_sample = self.draw_from_prior(n_clusters, mu0, tau20, alpha_t, beta_t, alpha_s, beta_s)\n",
    "            x_generated = self.gen_from_likelihood(prior_sample, n_obs)\n",
    "            X.append(x_generated)\n",
    "        return np.array(X)[...,np.newaxis]"
   ]
  },
  {
   "cell_type": "code",
   "execution_count": 5,
   "metadata": {
    "code_folding": [
     2,
     6,
     32,
     67
    ]
   },
   "outputs": [],
   "source": [
    "class MainSimulator:\n",
    "    \n",
    "    def __init__(self, simulator):\n",
    "        \n",
    "        self.simulator = simulator\n",
    "    \n",
    "    def draw_from_model_prior(self, batch_size, n_models, model_prior):\n",
    "        \"\"\"\n",
    "        Creates the sequence of models to be simulated from in the batch.\n",
    "        ----------\n",
    "        \n",
    "        Arguments:\n",
    "        batch_size     : int -- number of batches to be generated\n",
    "        n_models       : int -- number of models to be simulated from\n",
    "        model_prior    : list -- prior model probabilities\n",
    "        --------\n",
    "        \n",
    "        Returns:\n",
    "        array of shape (batch_size) - array of indices corresponding to the sampled model from p(M).\n",
    "        \"\"\"\n",
    "        \n",
    "        # create base list of model indices\n",
    "        model_base_indices = [*range(n_models)]\n",
    "        \n",
    "        # uniform prior over model probabilities if no model prior given\n",
    "        if model_prior == None:\n",
    "            model_prior = [1/n_models] * n_models\n",
    "        \n",
    "        # generate sampling list of model indeces\n",
    "        model_indices = np.random.choice(model_base_indices, size=batch_size, p=model_prior)\n",
    "        return model_indices\n",
    "    \n",
    "    def simulate(self, batch_size, n_models, model_prior, \n",
    "                 n_clust_min=2, n_clust_max=100, n_obs_min=2, n_obs_max=200):\n",
    "        \"\"\"\n",
    "        Simulates a batch of hierarchical datasets.\n",
    "        ----------\n",
    "        \n",
    "        Arguments:\n",
    "        batch_size     : int -- number of datasets to be generated per batch\n",
    "        n_models       : int -- number of models to be simulated from\n",
    "        model_prior    : list -- prior model probabilities\n",
    "        n_clust_min    : int -- minimum number of clusters\n",
    "        n_clust_max    : int -- maximum number of cluster\n",
    "        n_obs_min      : int -- minimum number of observations\n",
    "        n_obs_max      : int -- maximum number of observations\n",
    "        --------\n",
    "        \n",
    "        Returns:\n",
    "        dict of {'X' : array of shape (batch_size, n_clusters, n_obs, n_variables),  \n",
    "                 'm' : array of shape (batch_size)}\n",
    "        \"\"\"\n",
    "        # Draw K and N (drawn values apply for all datasets in the batch)\n",
    "        n_clusters = np.random.randint(n_clust_min, n_clust_max+1)\n",
    "        n_obs = np.random.randint(n_obs_min, n_obs_max+1)\n",
    "        \n",
    "        # Draw sampling list of model indices\n",
    "        model_indices = self.draw_from_model_prior(batch_size, n_models, model_prior)\n",
    "        \n",
    "        # Prepare an array to hold simulations\n",
    "        X_gen = np.zeros((batch_size, n_clusters, n_obs, 1), dtype=np.float32)\n",
    "        \n",
    "        for b in range(batch_size):\n",
    "            X_gen[b] = self.simulator.generate_single(model_indices[b], n_clusters, n_obs)\n",
    "               \n",
    "        return {'X': X_gen, 'm': model_indices, 'n_clusters': n_clusters, 'n_obs': n_obs}\n",
    "    \n",
    "    def __call__(self, batch_size, n_models=2, model_prior=None, \n",
    "                 n_clust_min=2, n_clust_max=100, n_obs_min=2, n_obs_max=200):\n",
    "        return self.simulate(batch_size, n_models, model_prior, n_clust_min, n_clust_max, n_obs_min, n_obs_max)"
   ]
  },
  {
   "cell_type": "markdown",
   "metadata": {},
   "source": [
    "# Neural networks"
   ]
  },
  {
   "cell_type": "markdown",
   "metadata": {},
   "source": [
    "## Invariant Module"
   ]
  },
  {
   "cell_type": "code",
   "execution_count": 6,
   "metadata": {
    "code_folding": [
     3,
     25
    ]
   },
   "outputs": [],
   "source": [
    "class InvariantModule(tf.keras.Model):\n",
    "    \"\"\"Implements an invariant nn module as proposed by Bloem-Reddy and Teh (2019).\"\"\"\n",
    "\n",
    "    def __init__(self, model_settings, pooler=tf.reduce_mean):\n",
    "        \"\"\"\n",
    "        Creates an invariant function with mean pooling.\n",
    "        ----------\n",
    "        \n",
    "        Arguments:\n",
    "        model_settings : dict -- hyperparameter settings for the invariant module\n",
    "        \"\"\"\n",
    "        \n",
    "        super(InvariantModule, self).__init__()\n",
    "        \n",
    "        # Pre pooling network\n",
    "        self.pre_pooling_dense = tf.keras.Sequential([tf.keras.layers.Dense(**model_settings['dense_inv_pre_pooling_args'])\n",
    "                                                     for _ in range(model_settings['n_dense_inv'])])\n",
    "        \n",
    "        self.pooler = pooler\n",
    "        \n",
    "        # Post pooling network\n",
    "        self.post_pooling_dense = tf.keras.Sequential([tf.keras.layers.Dense(**model_settings['dense_inv_post_pooling_args'])\n",
    "                                                      for _ in range(model_settings['n_dense_inv'])])\n",
    "        \n",
    "            \n",
    "    def call(self, x):\n",
    "        \"\"\"\n",
    "        Transforms the input into an invariant representation.\n",
    "        ----------\n",
    "        \n",
    "        Arguments:\n",
    "        x : tf.Tensor of variable shape - 4-dimensional with (batch_size, n_clusters, n_obs, n_variables)\n",
    "                                          or 3-dimensional with (batch_size, n_clusters, inv_embedding)\n",
    "        --------\n",
    "        \n",
    "        Returns:\n",
    "        out: tf.Tensor of variable shape - either 3-dimensional (when input is 4D) with (batch_size, n_clusters, inv_embedding)\n",
    "                                           or 2-dimensional (when input is 3D) with (batch_size, inv_embedding)\n",
    "        \"\"\"\n",
    "        \n",
    "        # Embed input before pooling\n",
    "        x_emb = self.pre_pooling_dense(x)\n",
    "        \n",
    "        # Get dimensionality of lowest exchangeable level before pooling and repeat\n",
    "        # shape of rep_N is (batch_size, K, 1) or (batch_size, 1) depending on input dimensions\n",
    "        log_N = np.log(x_emb.shape[-2])\n",
    "        if len(x.shape) == 4:\n",
    "            rep_N = np.repeat([log_N], x_emb.shape[0]*x_emb.shape[1]).reshape(x_emb.shape[0], x_emb.shape[1], 1)\n",
    "        else:\n",
    "            rep_N = np.repeat([log_N], x_emb.shape[0])[:, np.newaxis]\n",
    "        rep_N = tf.convert_to_tensor(rep_N, dtype=tf.float32)\n",
    "        \n",
    "        # Perform mean pooling, shape of pooled is (batch_size, K, dense_out)\n",
    "        pooled = self.pooler(x_emb, axis=-2) # always reduce dimensionality of the lowest exchangable data level \n",
    "        pooled = tf.concat((pooled, rep_N), axis=-1) # concatenate to preserve info about N\n",
    "        \n",
    "        # Increase representational power\n",
    "        out = self.post_pooling_dense(pooled)\n",
    "        return out"
   ]
  },
  {
   "cell_type": "code",
   "execution_count": 7,
   "metadata": {},
   "outputs": [],
   "source": [
    "class HierarchicalEvidentialNetwork(tf.keras.Model):\n",
    "    \"\"\"\n",
    "    Implements an evidential network that is able to process hierarchical data.\n",
    "    \"\"\"\n",
    "    \n",
    "    def __init__(self, model_settings):\n",
    "        \"\"\"\n",
    "        Creates a hierarchical Network consisting of two stacked invariant modules.\n",
    "        ----------\n",
    "        \n",
    "        Arguments:\n",
    "        model_settings : dict -- hyperparameter settings for the invariant module\n",
    "        \"\"\"\n",
    "        \n",
    "        super(HierarchicalEvidentialNetwork, self).__init__()\n",
    "        \n",
    "        # Invariant modules to reduce the hierarchical structure\n",
    "        self.inv_4d = InvariantModule(model_settings)\n",
    "        self.inv_3d = InvariantModule(model_settings)\n",
    "        \n",
    "        # The final layer to output model evidences\n",
    "        n_out = model_settings['n_models']\n",
    "        act_out = \"softplus\"\n",
    "        self.evidence_layer = tf.keras.layers.Dense(n_out, activation=act_out)\n",
    "        \n",
    "        # save number of Models (J)\n",
    "        self.J = model_settings['n_models']\n",
    "        \n",
    "    def call(self, x):\n",
    "        \"\"\"\n",
    "        Transforms the 4-dimensional input into model evidences (parameters of a Dirichlet distribution).\n",
    "        ----------\n",
    "        \n",
    "        Arguments:\n",
    "        x : tf.Tensor of shape (batch_size, n_clusters, n_obs, n_variables)\n",
    "        --------\n",
    "        \n",
    "        Returns:\n",
    "        alpha : tf.Tensor of shape (batch_size, n_models) -- the model evidences\n",
    "        \"\"\"\n",
    "        \n",
    "        x_3d = self.inv_4d(x)\n",
    "        x_2d = self.inv_3d(x_3d)\n",
    "        \n",
    "        evidence = self.evidence_layer(x_2d)\n",
    "        alpha = evidence + 1\n",
    "        \n",
    "        return alpha\n",
    "    \n",
    "    def predict(self, x, to_numpy=True):\n",
    "        \"\"\"\n",
    "        Returns the mean, variance and uncertainty implied by the estimated Dirichlet density.\n",
    "        ----------\n",
    "        \n",
    "        Arguments:\n",
    "        x : tf.Tensor of shape (batch_size, n_clusters, n_obs, n_variables) - empirical data\n",
    "        to_numpy : bool, default: True -- Flag that controls whether the output is a np.array or tf.Tensor\n",
    "        --------\n",
    "        \n",
    "        Returns:\n",
    "        dict -- Dictionary with keys {m_probs, m_var, uncertainty}\n",
    "        \"\"\"\n",
    "\n",
    "        alpha = self.call(x) # better way to do this???\n",
    "        alpha0 = tf.reduce_sum(alpha, axis=1, keepdims=True)\n",
    "        mean = alpha / alpha0\n",
    "        var = alpha * (alpha0 - alpha) / (alpha0 * alpha0 * (alpha0 + 1))\n",
    "        uncertainty = self.J / alpha0\n",
    "\n",
    "        if to_numpy:\n",
    "            mean = mean.numpy()\n",
    "            var = var.numpy()\n",
    "            uncertainty = uncertainty.numpy()\n",
    "\n",
    "        return {'m_probs': mean, 'm_var': var, 'uncertainty': uncertainty}"
   ]
  },
  {
   "cell_type": "markdown",
   "metadata": {},
   "source": [
    "### Experiments"
   ]
  },
  {
   "cell_type": "markdown",
   "metadata": {},
   "source": [
    "#### Network settings"
   ]
  },
  {
   "cell_type": "code",
   "execution_count": 88,
   "metadata": {},
   "outputs": [],
   "source": [
    "# Network settings for all experiments\n",
    "model_settings = {\n",
    "    'n_models'                    : 2,\n",
    "    #'dense_inv_pre_pooling_args'  : dict(units=4, activation='elu', kernel_initializer='glorot_normal'),\n",
    "    'dense_inv_pre_pooling_args'  : dict(units=32, activation='elu', kernel_initializer='glorot_normal'),\n",
    "    'dense_inv_post_pooling_args' : dict(units=64, activation='elu', kernel_initializer='glorot_normal'),\n",
    "    'dense_equiv_args'            : dict(units=32, activation='elu', kernel_initializer='glorot_normal'),\n",
    "    'n_dense_inv'                 : 2,\n",
    "    'n_dense_equiv'               : 2\n",
    "}"
   ]
  },
  {
   "cell_type": "markdown",
   "metadata": {},
   "source": [
    "#### Helper functions for online training"
   ]
  },
  {
   "cell_type": "code",
   "execution_count": 9,
   "metadata": {},
   "outputs": [],
   "source": [
    "def log_loss(alpha, model_indices):\n",
    "    \"\"\"\n",
    "    Computes the logloss given Alpha values and true model indices m_true.\n",
    "    ----------\n",
    "\n",
    "    Arguments:\n",
    "    alpha : tf.Tensor of shape (batch_size, n_models) -- the model evidences\n",
    "    model_indices : numpy array of shape (batch_size, n_models) -- true model indices\n",
    "    --------\n",
    "\n",
    "    Returns:\n",
    "    loss : tf.Tensor of shape (,) -- A single scalar Monte-Carlo approximation of the regularized Bayes risk\n",
    "    \"\"\"\n",
    "\n",
    "    # Obtain probs\n",
    "    model_probs = alpha / tf.reduce_sum(alpha, axis=1, keepdims=True)\n",
    "\n",
    "    # Numerical stability\n",
    "    model_probs = tf.clip_by_value(model_probs, 1e-15, 1 - 1e-15)\n",
    "\n",
    "    # Actual loss\n",
    "    loss = -tf.reduce_mean(tf.reduce_sum(model_indices * tf.math.log(model_probs), axis=1))\n",
    "\n",
    "    return loss"
   ]
  },
  {
   "cell_type": "code",
   "execution_count": 10,
   "metadata": {
    "code_folding": [
     0
    ]
   },
   "outputs": [],
   "source": [
    "def train_online(model, optimizer, simulator, iterations, epochs, batch_size):\n",
    "    \"\"\"\n",
    "    Trains a Hierarchical Network.\n",
    "    ----------\n",
    "        \n",
    "    Arguments:\n",
    "    model      : the hierarchical model to be trained\n",
    "    optimizer  : the algorithm that optimizes the neural network\n",
    "    simulator  : the simulator that generates data from the hierarchical models\n",
    "    loss_fun   : the loss function that shall be minimized during training\n",
    "    iterations : int -- number of iterations per epoch\n",
    "    epochs     : int -- number of epochs \n",
    "    batch_size : int -- batch_size for training\n",
    "    --------\n",
    "        \n",
    "    Returns:\n",
    "    losses : numpy array of shape (iterations * epochs)\n",
    "    \"\"\"\n",
    "    \n",
    "    losses = dict()\n",
    "    # For loop through epochs\n",
    "    for ep in range(1, epochs+1):\n",
    "        # Init losses for this epoch\n",
    "        losses[ep] = []\n",
    "        with tqdm(total=iterations, desc='Training epoch {}'.format(ep)) as p_bar:\n",
    "            for it in range(1, iterations+1):\n",
    "                # Simulate batch of datasets\n",
    "                batch = simulator(batch_size)\n",
    "                with tf.GradientTape() as tape:\n",
    "                    # Forward pass\n",
    "                    alpha = model(batch[\"X\"])\n",
    "                    batch_m = np.vstack((1-batch[\"m\"],batch[\"m\"])).T # transform 1d array to 2d array\n",
    "                    loss = log_loss(alpha, batch_m)\n",
    "                # One step backprop\n",
    "                gradients = tape.gradient(loss, model.trainable_variables)\n",
    "                optimizer.apply_gradients(zip(gradients, model.trainable_variables))\n",
    "\n",
    "                # Store losses\n",
    "                losses[ep].append(loss)\n",
    "                \n",
    "                # Update progess bar\n",
    "                p_bar.set_postfix_str(\"Epoch {0},Iteration {1},Loss: {2:.3f},Running Loss: {3:.3f}\"\n",
    "                                          .format(ep, it + 1, loss, np.mean(losses[ep])))\n",
    "                p_bar.update(1)\n",
    "    \n",
    "    return losses"
   ]
  },
  {
   "cell_type": "markdown",
   "metadata": {},
   "source": [
    "#### Training with fixed number of clusters and observations"
   ]
  },
  {
   "cell_type": "code",
   "execution_count": 93,
   "metadata": {},
   "outputs": [],
   "source": [
    "batch_size = 32\n",
    "iterations = 1000\n",
    "epochs = 10\n",
    "\n",
    "optimizer = tf.keras.optimizers.Adam(learning_rate=0.0005)\n",
    "simulator = partial(MainSimulator(HierarchicalNormalSimulator()), \n",
    "                    n_clust_min=30, n_clust_max=30, n_obs_min=50, n_obs_max=50)\n",
    "# For comparison with Bridge Sampling\n",
    "#simulator = partial(MainSimulator(HierarchicalNormalSimulator()), \n",
    "#                    n_clust_min=53, n_clust_max=53, n_obs_min=94, n_obs_max=94)\n",
    "model = HierarchicalEvidentialNetwork(model_settings)"
   ]
  },
  {
   "cell_type": "code",
   "execution_count": 97,
   "metadata": {
    "scrolled": false
   },
   "outputs": [
    {
     "data": {
      "application/vnd.jupyter.widget-view+json": {
       "model_id": "29204a61c59146a1a2836dc521743181",
       "version_major": 2,
       "version_minor": 0
      },
      "text/plain": [
       "Training epoch 1:   0%|          | 0/1000 [00:00<?, ?it/s]"
      ]
     },
     "metadata": {},
     "output_type": "display_data"
    },
    {
     "data": {
      "application/vnd.jupyter.widget-view+json": {
       "model_id": "314dd069089d4bb59751a39d4f588561",
       "version_major": 2,
       "version_minor": 0
      },
      "text/plain": [
       "Training epoch 2:   0%|          | 0/1000 [00:00<?, ?it/s]"
      ]
     },
     "metadata": {},
     "output_type": "display_data"
    },
    {
     "data": {
      "application/vnd.jupyter.widget-view+json": {
       "model_id": "98f017d74635478989c35de9d0b80795",
       "version_major": 2,
       "version_minor": 0
      },
      "text/plain": [
       "Training epoch 3:   0%|          | 0/1000 [00:00<?, ?it/s]"
      ]
     },
     "metadata": {},
     "output_type": "display_data"
    },
    {
     "data": {
      "application/vnd.jupyter.widget-view+json": {
       "model_id": "d6aa802a71734b17b63ffb0f39a52f80",
       "version_major": 2,
       "version_minor": 0
      },
      "text/plain": [
       "Training epoch 4:   0%|          | 0/1000 [00:00<?, ?it/s]"
      ]
     },
     "metadata": {},
     "output_type": "display_data"
    },
    {
     "data": {
      "application/vnd.jupyter.widget-view+json": {
       "model_id": "fda9df037bbb4dd8b973b2af90ba7a9f",
       "version_major": 2,
       "version_minor": 0
      },
      "text/plain": [
       "Training epoch 5:   0%|          | 0/1000 [00:00<?, ?it/s]"
      ]
     },
     "metadata": {},
     "output_type": "display_data"
    },
    {
     "data": {
      "application/vnd.jupyter.widget-view+json": {
       "model_id": "87827874553547558007948a30fcbf3f",
       "version_major": 2,
       "version_minor": 0
      },
      "text/plain": [
       "Training epoch 6:   0%|          | 0/1000 [00:00<?, ?it/s]"
      ]
     },
     "metadata": {},
     "output_type": "display_data"
    },
    {
     "data": {
      "application/vnd.jupyter.widget-view+json": {
       "model_id": "66a429e57763468580e2583a1ea27fb5",
       "version_major": 2,
       "version_minor": 0
      },
      "text/plain": [
       "Training epoch 7:   0%|          | 0/1000 [00:00<?, ?it/s]"
      ]
     },
     "metadata": {},
     "output_type": "display_data"
    },
    {
     "data": {
      "application/vnd.jupyter.widget-view+json": {
       "model_id": "4382bcc3f7af4274bee111c48f47537b",
       "version_major": 2,
       "version_minor": 0
      },
      "text/plain": [
       "Training epoch 8:   0%|          | 0/1000 [00:00<?, ?it/s]"
      ]
     },
     "metadata": {},
     "output_type": "display_data"
    },
    {
     "data": {
      "application/vnd.jupyter.widget-view+json": {
       "model_id": "32d3a0ff832240e9a82c687c63a917b7",
       "version_major": 2,
       "version_minor": 0
      },
      "text/plain": [
       "Training epoch 9:   0%|          | 0/1000 [00:00<?, ?it/s]"
      ]
     },
     "metadata": {},
     "output_type": "display_data"
    },
    {
     "data": {
      "application/vnd.jupyter.widget-view+json": {
       "model_id": "5ec478bee8c24a36bf719b89c7824f25",
       "version_major": 2,
       "version_minor": 0
      },
      "text/plain": [
       "Training epoch 10:   0%|          | 0/1000 [00:00<?, ?it/s]"
      ]
     },
     "metadata": {},
     "output_type": "display_data"
    },
    {
     "name": "stdout",
     "output_type": "stream",
     "text": [
      "Wall time: 2min 38s\n"
     ]
    }
   ],
   "source": [
    "%%time\n",
    "\n",
    "training_time_start = perf_counter()\n",
    "losses = train_online(model, optimizer, simulator, iterations, epochs, batch_size)\n",
    "training_time_stop = perf_counter()"
   ]
  },
  {
   "cell_type": "code",
   "execution_count": 98,
   "metadata": {},
   "outputs": [],
   "source": [
    "# Validation\n",
    "n_val = 5000\n",
    "val_data = simulator(n_val)"
   ]
  },
  {
   "cell_type": "code",
   "execution_count": 99,
   "metadata": {
    "scrolled": true
   },
   "outputs": [
    {
     "data": {
      "image/png": "[encoded data removed]",
      "text/plain": [
       "<Figure size 1152x576 with 5 Axes>"
      ]
     },
     "metadata": {
      "needs_background": "light"
     },
     "output_type": "display_data"
    }
   ],
   "source": [
    "perf_tester(model, val_data, n_cal_bins=10)"
   ]
  },
  {
   "cell_type": "markdown",
   "metadata": {
    "code_folding": [
     0,
     39,
     60,
     88,
     116
    ]
   },
   "source": [
    "#### Training with fixed numbers of clusters and variable number of observations"
   ]
  },
  {
   "cell_type": "code",
   "execution_count": 14,
   "metadata": {},
   "outputs": [],
   "source": [
    "# Experimental variables setup\n",
    "\n",
    "n_clust_min = 30\n",
    "n_clust_max =30\n",
    "n_obs_min = 1\n",
    "n_obs_max = 200"
   ]
  },
  {
   "cell_type": "code",
   "execution_count": 15,
   "metadata": {},
   "outputs": [],
   "source": [
    "# NN setup\n",
    "optimizer = tf.keras.optimizers.Adam(learning_rate=0.0005)\n",
    "simulator = partial(MainSimulator(HierarchicalNormalSimulator()), \n",
    "                    n_clust_min=n_clust_min, n_clust_max=n_clust_max, \n",
    "                    n_obs_min=n_obs_min, n_obs_max=n_obs_max)\n",
    "loss_fun = tf.losses.BinaryCrossentropy()\n",
    "model = HierarchicalEvidentialNetwork(model_settings)"
   ]
  },
  {
   "cell_type": "code",
   "execution_count": 16,
   "metadata": {},
   "outputs": [
    {
     "data": {
      "application/vnd.jupyter.widget-view+json": {
       "model_id": "9ef27970f6eb4406933558dd9156c4a2",
       "version_major": 2,
       "version_minor": 0
      },
      "text/plain": [
       "Training epoch 1:   0%|          | 0/1000 [00:00<?, ?it/s]"
      ]
     },
     "metadata": {},
     "output_type": "display_data"
    },
    {
     "data": {
      "application/vnd.jupyter.widget-view+json": {
       "model_id": "ee4f0decc7ae403daa506c0f04401a04",
       "version_major": 2,
       "version_minor": 0
      },
      "text/plain": [
       "Training epoch 2:   0%|          | 0/1000 [00:00<?, ?it/s]"
      ]
     },
     "metadata": {},
     "output_type": "display_data"
    },
    {
     "data": {
      "application/vnd.jupyter.widget-view+json": {
       "model_id": "b4e46f35ed624b27bd3093e75f0156cf",
       "version_major": 2,
       "version_minor": 0
      },
      "text/plain": [
       "Training epoch 3:   0%|          | 0/1000 [00:00<?, ?it/s]"
      ]
     },
     "metadata": {},
     "output_type": "display_data"
    },
    {
     "data": {
      "application/vnd.jupyter.widget-view+json": {
       "model_id": "22be764af48b495ba2a329735d5562e9",
       "version_major": 2,
       "version_minor": 0
      },
      "text/plain": [
       "Training epoch 4:   0%|          | 0/1000 [00:00<?, ?it/s]"
      ]
     },
     "metadata": {},
     "output_type": "display_data"
    },
    {
     "data": {
      "application/vnd.jupyter.widget-view+json": {
       "model_id": "e472298299114eec99fbf1111447d0a0",
       "version_major": 2,
       "version_minor": 0
      },
      "text/plain": [
       "Training epoch 5:   0%|          | 0/1000 [00:00<?, ?it/s]"
      ]
     },
     "metadata": {},
     "output_type": "display_data"
    },
    {
     "data": {
      "application/vnd.jupyter.widget-view+json": {
       "model_id": "813bb054c24a4415af2b6e0942bcc915",
       "version_major": 2,
       "version_minor": 0
      },
      "text/plain": [
       "Training epoch 6:   0%|          | 0/1000 [00:00<?, ?it/s]"
      ]
     },
     "metadata": {},
     "output_type": "display_data"
    },
    {
     "data": {
      "application/vnd.jupyter.widget-view+json": {
       "model_id": "d17923e151b743c8b1998990e7047d4b",
       "version_major": 2,
       "version_minor": 0
      },
      "text/plain": [
       "Training epoch 7:   0%|          | 0/1000 [00:00<?, ?it/s]"
      ]
     },
     "metadata": {},
     "output_type": "display_data"
    },
    {
     "data": {
      "application/vnd.jupyter.widget-view+json": {
       "model_id": "6ed4cd3cf01e493e83987e4c7804df16",
       "version_major": 2,
       "version_minor": 0
      },
      "text/plain": [
       "Training epoch 8:   0%|          | 0/1000 [00:00<?, ?it/s]"
      ]
     },
     "metadata": {},
     "output_type": "display_data"
    },
    {
     "data": {
      "application/vnd.jupyter.widget-view+json": {
       "model_id": "f9962656c6c945c9b8c26731e2344b84",
       "version_major": 2,
       "version_minor": 0
      },
      "text/plain": [
       "Training epoch 9:   0%|          | 0/1000 [00:00<?, ?it/s]"
      ]
     },
     "metadata": {},
     "output_type": "display_data"
    },
    {
     "data": {
      "application/vnd.jupyter.widget-view+json": {
       "model_id": "cc96ea4af8f4414aba7f4b503ddabdfa",
       "version_major": 2,
       "version_minor": 0
      },
      "text/plain": [
       "Training epoch 10:   0%|          | 0/1000 [00:00<?, ?it/s]"
      ]
     },
     "metadata": {},
     "output_type": "display_data"
    },
    {
     "name": "stdout",
     "output_type": "stream",
     "text": [
      "Wall time: 3min 21s\n"
     ]
    }
   ],
   "source": [
    "%%time\n",
    "losses = train_online(model, optimizer, simulator, loss_fun, iterations, epochs, batch_size)"
   ]
  },
  {
   "cell_type": "code",
   "execution_count": 17,
   "metadata": {},
   "outputs": [],
   "source": [
    "# Validation setup\n",
    "n_val_total = 10000\n",
    "n_val_per_setting = int(n_val_total/(n_obs_max+1-n_obs_min))\n",
    "simulator = MainSimulator(HierarchicalNormalSimulator())"
   ]
  },
  {
   "cell_type": "code",
   "execution_count": 18,
   "metadata": {},
   "outputs": [],
   "source": [
    "# Generate data for each setting\n",
    "\n",
    "# Create list of validation data\n",
    "val_data = []\n",
    "for i in range(n_obs_min, n_obs_max+1):\n",
    "    sim_data = simulator(n_val_per_setting, n_clust_min=n_clust_min, n_clust_max=n_clust_max, \n",
    "                         n_obs_min=i, n_obs_max=i)\n",
    "    val_data.append(sim_data)"
   ]
  },
  {
   "cell_type": "code",
   "execution_count": 20,
   "metadata": {
    "scrolled": false
   },
   "outputs": [
    {
     "name": "stdout",
     "output_type": "stream",
     "text": [
      "Wall time: 3.85 s\n"
     ]
    },
    {
     "data": {
      "image/png": "[encoded data removed]",
      "text/plain": [
       "<Figure size 576x432 with 1 Axes>"
      ]
     },
     "metadata": {
      "needs_background": "light"
     },
     "output_type": "display_data"
    }
   ],
   "source": [
    "%%time\n",
    "\n",
    "perf_tester_over_obs(model, val_data, n_obs_min, n_obs_max)"
   ]
  },
  {
   "cell_type": "markdown",
   "metadata": {},
   "source": [
    "#### Training with variable numbers of clusters and observations"
   ]
  },
  {
   "cell_type": "code",
   "execution_count": 11,
   "metadata": {},
   "outputs": [],
   "source": [
    "# Setup\n",
    "\n",
    "n_clust_min = 1\n",
    "n_clust_max = 50\n",
    "n_obs_min = 1\n",
    "n_obs_max = 200"
   ]
  },
  {
   "cell_type": "code",
   "execution_count": 158,
   "metadata": {},
   "outputs": [],
   "source": [
    "# Setup\n",
    "#Bridge Sampling comparison\n",
    "n_clust_min = 1\n",
    "n_clust_max = 100\n",
    "n_obs_min = 50\n",
    "n_obs_max = 150"
   ]
  },
  {
   "cell_type": "code",
   "execution_count": 12,
   "metadata": {},
   "outputs": [],
   "source": [
    "optimizer = tf.keras.optimizers.Adam(learning_rate=0.0005)\n",
    "simulator = partial(MainSimulator(HierarchicalNormalSimulator()), \n",
    "                    n_clust_min=n_clust_min, n_clust_max=n_clust_max, \n",
    "                    n_obs_min=n_obs_min, n_obs_max=n_obs_max)\n",
    "loss_fun = tf.losses.BinaryCrossentropy()\n",
    "model = HierarchicalEvidentialNetwork(model_settings)"
   ]
  },
  {
   "cell_type": "code",
   "execution_count": 13,
   "metadata": {},
   "outputs": [
    {
     "data": {
      "application/vnd.jupyter.widget-view+json": {
       "model_id": "85fa920dc24b4aa6aeb6cf4213569cef",
       "version_major": 2,
       "version_minor": 0
      },
      "text/plain": [
       "Training epoch 1:   0%|          | 0/1000 [00:00<?, ?it/s]"
      ]
     },
     "metadata": {},
     "output_type": "display_data"
    },
    {
     "data": {
      "application/vnd.jupyter.widget-view+json": {
       "model_id": "35f93cb413a0462e95294f6832278680",
       "version_major": 2,
       "version_minor": 0
      },
      "text/plain": [
       "Training epoch 2:   0%|          | 0/1000 [00:00<?, ?it/s]"
      ]
     },
     "metadata": {},
     "output_type": "display_data"
    },
    {
     "data": {
      "application/vnd.jupyter.widget-view+json": {
       "model_id": "703ed3424a9f4736ae207635dd80eaa3",
       "version_major": 2,
       "version_minor": 0
      },
      "text/plain": [
       "Training epoch 3:   0%|          | 0/1000 [00:00<?, ?it/s]"
      ]
     },
     "metadata": {},
     "output_type": "display_data"
    },
    {
     "data": {
      "application/vnd.jupyter.widget-view+json": {
       "model_id": "1d5d57c0397e4aa39fba0269b794489f",
       "version_major": 2,
       "version_minor": 0
      },
      "text/plain": [
       "Training epoch 4:   0%|          | 0/1000 [00:00<?, ?it/s]"
      ]
     },
     "metadata": {},
     "output_type": "display_data"
    },
    {
     "data": {
      "application/vnd.jupyter.widget-view+json": {
       "model_id": "2f41c6bc3aac40f684af25b941a12893",
       "version_major": 2,
       "version_minor": 0
      },
      "text/plain": [
       "Training epoch 5:   0%|          | 0/1000 [00:00<?, ?it/s]"
      ]
     },
     "metadata": {},
     "output_type": "display_data"
    },
    {
     "data": {
      "application/vnd.jupyter.widget-view+json": {
       "model_id": "23207b2a7c1547468f51e540ce9a7985",
       "version_major": 2,
       "version_minor": 0
      },
      "text/plain": [
       "Training epoch 6:   0%|          | 0/1000 [00:00<?, ?it/s]"
      ]
     },
     "metadata": {},
     "output_type": "display_data"
    },
    {
     "data": {
      "application/vnd.jupyter.widget-view+json": {
       "model_id": "380ca421043346f6b73fbeedc6d07588",
       "version_major": 2,
       "version_minor": 0
      },
      "text/plain": [
       "Training epoch 7:   0%|          | 0/1000 [00:00<?, ?it/s]"
      ]
     },
     "metadata": {},
     "output_type": "display_data"
    },
    {
     "data": {
      "application/vnd.jupyter.widget-view+json": {
       "model_id": "3baa8ff5b17545c68604b7266c5ff7c9",
       "version_major": 2,
       "version_minor": 0
      },
      "text/plain": [
       "Training epoch 8:   0%|          | 0/1000 [00:00<?, ?it/s]"
      ]
     },
     "metadata": {},
     "output_type": "display_data"
    },
    {
     "data": {
      "application/vnd.jupyter.widget-view+json": {
       "model_id": "8fbbac15d6634f8ba94dcbd4cc9b0fc9",
       "version_major": 2,
       "version_minor": 0
      },
      "text/plain": [
       "Training epoch 9:   0%|          | 0/1000 [00:00<?, ?it/s]"
      ]
     },
     "metadata": {},
     "output_type": "display_data"
    },
    {
     "data": {
      "application/vnd.jupyter.widget-view+json": {
       "model_id": "190dace92f54488e935823fedeff5c55",
       "version_major": 2,
       "version_minor": 0
      },
      "text/plain": [
       "Training epoch 10:   0%|          | 0/1000 [00:00<?, ?it/s]"
      ]
     },
     "metadata": {},
     "output_type": "display_data"
    },
    {
     "name": "stdout",
     "output_type": "stream",
     "text": [
      "Wall time: 8min 32s\n"
     ]
    }
   ],
   "source": [
    "%%time\n",
    "\n",
    "training_time_start = perf_counter()\n",
    "losses = train_online(model, optimizer, simulator, loss_fun, iterations, epochs, batch_size)\n",
    "training_time_stop = perf_counter()"
   ]
  },
  {
   "cell_type": "code",
   "execution_count": 173,
   "metadata": {},
   "outputs": [
    {
     "data": {
      "application/vnd.jupyter.widget-view+json": {
       "model_id": "7be4463258234089b5cb0c7575a10408",
       "version_major": 2,
       "version_minor": 0
      },
      "text/plain": [
       "Loop through clusters progress:   0%|          | 0/50 [00:00<?, ?it/s]"
      ]
     },
     "metadata": {},
     "output_type": "display_data"
    },
    {
     "data": {
      "application/vnd.jupyter.widget-view+json": {
       "model_id": "5d245f3502694c5e844be25840f3c55a",
       "version_major": 2,
       "version_minor": 0
      },
      "text/plain": [
       "Loop through nested observations progress:   0%|          | 0/200 [00:00<?, ?it/s]"
      ]
     },
     "metadata": {},
     "output_type": "display_data"
    }
   ],
   "source": [
    "# Validation setup\n",
    "n_val_per_setting = 50\n",
    "simulator = MainSimulator(HierarchicalNormalSimulator())\n",
    "\n",
    "# Compute ECEs\n",
    "ece_means = compute_eces_variable(model, simulator, n_val_per_setting, n_clust_min, n_clust_max, n_obs_min, n_obs_max)"
   ]
  },
  {
   "cell_type": "code",
   "execution_count": 211,
   "metadata": {},
   "outputs": [
    {
     "data": {
      "image/png": "[encoded data removed]",
      "text/plain": [
       "<Figure size 1152x864 with 1 Axes>"
      ]
     },
     "metadata": {
      "needs_background": "light"
     },
     "output_type": "display_data"
    }
   ],
   "source": [
    "# Plot ECEs\n",
    "plot_eces_variable(ece_means, n_val_per_setting, n_clust_min, n_clust_max, n_obs_min, n_obs_max)"
   ]
  },
  {
   "cell_type": "markdown",
   "metadata": {},
   "source": [
    "# Bridge Sampling Comparison - Bayes Factor Approximation"
   ]
  },
  {
   "cell_type": "markdown",
   "metadata": {},
   "source": [
    "## Generation of the datasets"
   ]
  },
  {
   "cell_type": "code",
   "execution_count": 16,
   "metadata": {},
   "outputs": [
    {
     "name": "stdout",
     "output_type": "stream",
     "text": [
      "Shape of the simulated datasets (batch_size, n_clusters, n_obs, n_variables): (100, 53, 94, 1)\n"
     ]
    }
   ],
   "source": [
    "np.random.seed(42)\n",
    "\n",
    "simulator = MainSimulator(HierarchicalNormalSimulator())\n",
    "\n",
    "test_data_bf = simulator(100)\n",
    "test_data_bf_true_indices = test_data_bf[\"m\"]\n",
    "test_data_bf_datasets = test_data_bf[\"X\"]\n",
    "\n",
    "print('Shape of the simulated datasets (batch_size, n_clusters, n_obs, n_variables): {}'.format(test_data_bf_datasets.shape))"
   ]
  },
  {
   "cell_type": "code",
   "execution_count": 17,
   "metadata": {},
   "outputs": [],
   "source": [
    "# save datasets\n",
    "#np.save('test_data_bf', test_data_bf)\n",
    "#np.save('test_data_bf_true_indices', test_data_bf_true_indices)\n",
    "#np.save('test_data_bf_datasets', test_data_bf_datasets)"
   ]
  },
  {
   "cell_type": "markdown",
   "metadata": {},
   "source": [
    "## Bayes Factor computation by trained NN"
   ]
  },
  {
   "cell_type": "code",
   "execution_count": 18,
   "metadata": {},
   "outputs": [],
   "source": [
    "def get_preds_and_bfs(model, data, training_time_start, training_time_stop):\n",
    "    \"\"\" Writes model predictions and resulting Bayes Factors for a given \n",
    "    array of datasets into a pandas DataFrame. \n",
    "    \"\"\"\n",
    "\n",
    "    dataset = np.arange(1,test_data_bf[\"X\"].shape[0]+1)\n",
    "    true_model = data[\"m\"]\n",
    "\n",
    "    # Predict\n",
    "    inference_time_start = perf_counter()\n",
    "    m_predictions = model.predict(test_data_bf[\"X\"])\n",
    "    inference_time_stop = perf_counter()\n",
    "    m1_prob = m_predictions['m_probs'][:,1]\n",
    "    m0_prob = m_predictions['m_probs'][:,0]\n",
    "    selected_model = (m1_prob > 0.5)\n",
    "    m_var = m_predictions['m_var'][:,1] # same for both models in case of binary classification\n",
    "    uncertainty = m_predictions['uncertainty']\n",
    "\n",
    "    # Bayes Factors\n",
    "    bayes_factor = m1_prob / m0_prob\n",
    "    \n",
    "    # Times\n",
    "    training_time = np.repeat((training_time_stop-training_time_start), 100)\n",
    "    inference_time = np.repeat((inference_time_stop-inference_time_start), 100)\n",
    "    \n",
    "    # Final epoch mean loss\n",
    "    final_epoch_loss = np.repeat(np.mean(losses[10]), 100)\n",
    "\n",
    "    # Create DataFrame\n",
    "    vals = np.c_[dataset, true_model, m0_prob, m1_prob, selected_model, bayes_factor,\n",
    "                 training_time, inference_time, m_var, uncertainty, final_epoch_loss]\n",
    "    names = ['dataset', 'true_model', 'm0_prob', 'm1_prob', 'selected_model', 'bayes_factor',\n",
    "             'training_time', 'inference_time', 'dirichlet_variance', 'uncertainty', 'final_epoch_loss']\n",
    "    df = pd.DataFrame(vals, columns = names)\n",
    "    df[[\"dataset\", \"true_model\", \"selected_model\"]] = df[[\"dataset\", \"true_model\", \"selected_model\"]].astype(int)\n",
    "    \n",
    "    return df"
   ]
  },
  {
   "cell_type": "code",
   "execution_count": 25,
   "metadata": {},
   "outputs": [],
   "source": [
    "comparison_results = get_preds_and_bfs(model, test_data_bf, training_time_start, training_time_stop)"
   ]
  },
  {
   "cell_type": "code",
   "execution_count": 26,
   "metadata": {},
   "outputs": [
    {
     "data": {
      "text/html": [
       "<div>\n",
       "<style scoped>\n",
       "    .dataframe tbody tr th:only-of-type {\n",
       "        vertical-align: middle;\n",
       "    }\n",
       "\n",
       "    .dataframe tbody tr th {\n",
       "        vertical-align: top;\n",
       "    }\n",
       "\n",
       "    .dataframe thead th {\n",
       "        text-align: right;\n",
       "    }\n",
       "</style>\n",
       "<table border=\"1\" class=\"dataframe\">\n",
       "  <thead>\n",
       "    <tr style=\"text-align: right;\">\n",
       "      <th></th>\n",
       "      <th>dataset</th>\n",
       "      <th>true_model</th>\n",
       "      <th>m0_prob</th>\n",
       "      <th>m1_prob</th>\n",
       "      <th>selected_model</th>\n",
       "      <th>bayes_factor</th>\n",
       "      <th>training_time</th>\n",
       "      <th>inference_time</th>\n",
       "      <th>dirichlet_variance</th>\n",
       "      <th>uncertainty</th>\n",
       "      <th>final_epoch_loss</th>\n",
       "    </tr>\n",
       "  </thead>\n",
       "  <tbody>\n",
       "    <tr>\n",
       "      <th>0</th>\n",
       "      <td>1</td>\n",
       "      <td>0</td>\n",
       "      <td>0.807988</td>\n",
       "      <td>0.192012</td>\n",
       "      <td>0</td>\n",
       "      <td>0.237642</td>\n",
       "      <td>158.504157</td>\n",
       "      <td>0.065993</td>\n",
       "      <td>0.024898</td>\n",
       "      <td>0.382316</td>\n",
       "      <td>0.5441</td>\n",
       "    </tr>\n",
       "    <tr>\n",
       "      <th>1</th>\n",
       "      <td>2</td>\n",
       "      <td>1</td>\n",
       "      <td>0.500000</td>\n",
       "      <td>0.500000</td>\n",
       "      <td>0</td>\n",
       "      <td>1.000000</td>\n",
       "      <td>158.504157</td>\n",
       "      <td>0.065993</td>\n",
       "      <td>0.083333</td>\n",
       "      <td>1.000000</td>\n",
       "      <td>0.5441</td>\n",
       "    </tr>\n",
       "    <tr>\n",
       "      <th>2</th>\n",
       "      <td>3</td>\n",
       "      <td>1</td>\n",
       "      <td>0.500002</td>\n",
       "      <td>0.499998</td>\n",
       "      <td>0</td>\n",
       "      <td>0.999991</td>\n",
       "      <td>158.504157</td>\n",
       "      <td>0.065993</td>\n",
       "      <td>0.083333</td>\n",
       "      <td>0.999995</td>\n",
       "      <td>0.5441</td>\n",
       "    </tr>\n",
       "    <tr>\n",
       "      <th>3</th>\n",
       "      <td>4</td>\n",
       "      <td>0</td>\n",
       "      <td>0.833476</td>\n",
       "      <td>0.166524</td>\n",
       "      <td>0</td>\n",
       "      <td>0.199794</td>\n",
       "      <td>158.504157</td>\n",
       "      <td>0.065993</td>\n",
       "      <td>0.019805</td>\n",
       "      <td>0.332883</td>\n",
       "      <td>0.5441</td>\n",
       "    </tr>\n",
       "    <tr>\n",
       "      <th>4</th>\n",
       "      <td>5</td>\n",
       "      <td>0</td>\n",
       "      <td>0.577089</td>\n",
       "      <td>0.422911</td>\n",
       "      <td>0</td>\n",
       "      <td>0.732835</td>\n",
       "      <td>158.504157</td>\n",
       "      <td>0.065993</td>\n",
       "      <td>0.072537</td>\n",
       "      <td>0.845813</td>\n",
       "      <td>0.5441</td>\n",
       "    </tr>\n",
       "    <tr>\n",
       "      <th>5</th>\n",
       "      <td>6</td>\n",
       "      <td>0</td>\n",
       "      <td>0.411181</td>\n",
       "      <td>0.588819</td>\n",
       "      <td>1</td>\n",
       "      <td>1.432018</td>\n",
       "      <td>158.504157</td>\n",
       "      <td>0.065993</td>\n",
       "      <td>0.047884</td>\n",
       "      <td>0.493066</td>\n",
       "      <td>0.5441</td>\n",
       "    </tr>\n",
       "    <tr>\n",
       "      <th>6</th>\n",
       "      <td>7</td>\n",
       "      <td>0</td>\n",
       "      <td>0.733609</td>\n",
       "      <td>0.266391</td>\n",
       "      <td>0</td>\n",
       "      <td>0.363125</td>\n",
       "      <td>158.504157</td>\n",
       "      <td>0.065993</td>\n",
       "      <td>0.041108</td>\n",
       "      <td>0.532759</td>\n",
       "      <td>0.5441</td>\n",
       "    </tr>\n",
       "    <tr>\n",
       "      <th>7</th>\n",
       "      <td>8</td>\n",
       "      <td>0</td>\n",
       "      <td>0.721547</td>\n",
       "      <td>0.278453</td>\n",
       "      <td>0</td>\n",
       "      <td>0.385911</td>\n",
       "      <td>158.504157</td>\n",
       "      <td>0.065993</td>\n",
       "      <td>0.043759</td>\n",
       "      <td>0.556885</td>\n",
       "      <td>0.5441</td>\n",
       "    </tr>\n",
       "    <tr>\n",
       "      <th>8</th>\n",
       "      <td>9</td>\n",
       "      <td>1</td>\n",
       "      <td>0.177563</td>\n",
       "      <td>0.822437</td>\n",
       "      <td>1</td>\n",
       "      <td>4.631792</td>\n",
       "      <td>158.504157</td>\n",
       "      <td>0.065993</td>\n",
       "      <td>0.021608</td>\n",
       "      <td>0.347326</td>\n",
       "      <td>0.5441</td>\n",
       "    </tr>\n",
       "    <tr>\n",
       "      <th>9</th>\n",
       "      <td>10</td>\n",
       "      <td>0</td>\n",
       "      <td>0.855228</td>\n",
       "      <td>0.144772</td>\n",
       "      <td>0</td>\n",
       "      <td>0.169279</td>\n",
       "      <td>158.504157</td>\n",
       "      <td>0.065993</td>\n",
       "      <td>0.015633</td>\n",
       "      <td>0.289023</td>\n",
       "      <td>0.5441</td>\n",
       "    </tr>\n",
       "    <tr>\n",
       "      <th>10</th>\n",
       "      <td>11</td>\n",
       "      <td>1</td>\n",
       "      <td>0.024935</td>\n",
       "      <td>0.975065</td>\n",
       "      <td>1</td>\n",
       "      <td>39.104836</td>\n",
       "      <td>158.504157</td>\n",
       "      <td>0.065993</td>\n",
       "      <td>0.000588</td>\n",
       "      <td>0.049542</td>\n",
       "      <td>0.5441</td>\n",
       "    </tr>\n",
       "    <tr>\n",
       "      <th>11</th>\n",
       "      <td>12</td>\n",
       "      <td>1</td>\n",
       "      <td>0.023761</td>\n",
       "      <td>0.976239</td>\n",
       "      <td>1</td>\n",
       "      <td>41.086506</td>\n",
       "      <td>158.504157</td>\n",
       "      <td>0.065993</td>\n",
       "      <td>0.000537</td>\n",
       "      <td>0.047408</td>\n",
       "      <td>0.5441</td>\n",
       "    </tr>\n",
       "    <tr>\n",
       "      <th>12</th>\n",
       "      <td>13</td>\n",
       "      <td>0</td>\n",
       "      <td>0.830997</td>\n",
       "      <td>0.169003</td>\n",
       "      <td>0</td>\n",
       "      <td>0.203373</td>\n",
       "      <td>158.504157</td>\n",
       "      <td>0.065993</td>\n",
       "      <td>0.020293</td>\n",
       "      <td>0.337792</td>\n",
       "      <td>0.5441</td>\n",
       "    </tr>\n",
       "    <tr>\n",
       "      <th>13</th>\n",
       "      <td>14</td>\n",
       "      <td>1</td>\n",
       "      <td>0.523426</td>\n",
       "      <td>0.476573</td>\n",
       "      <td>0</td>\n",
       "      <td>0.910488</td>\n",
       "      <td>158.504157</td>\n",
       "      <td>0.065993</td>\n",
       "      <td>0.080512</td>\n",
       "      <td>0.953145</td>\n",
       "      <td>0.5441</td>\n",
       "    </tr>\n",
       "    <tr>\n",
       "      <th>14</th>\n",
       "      <td>15</td>\n",
       "      <td>1</td>\n",
       "      <td>0.500023</td>\n",
       "      <td>0.499977</td>\n",
       "      <td>0</td>\n",
       "      <td>0.999908</td>\n",
       "      <td>158.504157</td>\n",
       "      <td>0.065993</td>\n",
       "      <td>0.083331</td>\n",
       "      <td>0.999954</td>\n",
       "      <td>0.5441</td>\n",
       "    </tr>\n",
       "    <tr>\n",
       "      <th>15</th>\n",
       "      <td>16</td>\n",
       "      <td>1</td>\n",
       "      <td>0.732248</td>\n",
       "      <td>0.267752</td>\n",
       "      <td>0</td>\n",
       "      <td>0.365658</td>\n",
       "      <td>158.504157</td>\n",
       "      <td>0.065993</td>\n",
       "      <td>0.039183</td>\n",
       "      <td>0.499534</td>\n",
       "      <td>0.5441</td>\n",
       "    </tr>\n",
       "    <tr>\n",
       "      <th>16</th>\n",
       "      <td>17</td>\n",
       "      <td>0</td>\n",
       "      <td>0.505737</td>\n",
       "      <td>0.494263</td>\n",
       "      <td>0</td>\n",
       "      <td>0.977311</td>\n",
       "      <td>158.504157</td>\n",
       "      <td>0.065993</td>\n",
       "      <td>0.056413</td>\n",
       "      <td>0.582911</td>\n",
       "      <td>0.5441</td>\n",
       "    </tr>\n",
       "    <tr>\n",
       "      <th>17</th>\n",
       "      <td>18</td>\n",
       "      <td>0</td>\n",
       "      <td>0.810072</td>\n",
       "      <td>0.189928</td>\n",
       "      <td>0</td>\n",
       "      <td>0.234458</td>\n",
       "      <td>158.504157</td>\n",
       "      <td>0.065993</td>\n",
       "      <td>0.024341</td>\n",
       "      <td>0.375883</td>\n",
       "      <td>0.5441</td>\n",
       "    </tr>\n",
       "    <tr>\n",
       "      <th>18</th>\n",
       "      <td>19</td>\n",
       "      <td>1</td>\n",
       "      <td>0.500000</td>\n",
       "      <td>0.500000</td>\n",
       "      <td>0</td>\n",
       "      <td>0.999999</td>\n",
       "      <td>158.504157</td>\n",
       "      <td>0.065993</td>\n",
       "      <td>0.083333</td>\n",
       "      <td>1.000000</td>\n",
       "      <td>0.5441</td>\n",
       "    </tr>\n",
       "    <tr>\n",
       "      <th>19</th>\n",
       "      <td>20</td>\n",
       "      <td>0</td>\n",
       "      <td>0.355596</td>\n",
       "      <td>0.644404</td>\n",
       "      <td>1</td>\n",
       "      <td>1.812181</td>\n",
       "      <td>158.504157</td>\n",
       "      <td>0.065993</td>\n",
       "      <td>0.057207</td>\n",
       "      <td>0.665433</td>\n",
       "      <td>0.5441</td>\n",
       "    </tr>\n",
       "    <tr>\n",
       "      <th>20</th>\n",
       "      <td>21</td>\n",
       "      <td>0</td>\n",
       "      <td>0.768142</td>\n",
       "      <td>0.231858</td>\n",
       "      <td>0</td>\n",
       "      <td>0.301842</td>\n",
       "      <td>158.504157</td>\n",
       "      <td>0.065993</td>\n",
       "      <td>0.033518</td>\n",
       "      <td>0.463655</td>\n",
       "      <td>0.5441</td>\n",
       "    </tr>\n",
       "    <tr>\n",
       "      <th>21</th>\n",
       "      <td>22</td>\n",
       "      <td>1</td>\n",
       "      <td>0.500000</td>\n",
       "      <td>0.500000</td>\n",
       "      <td>0</td>\n",
       "      <td>1.000000</td>\n",
       "      <td>158.504157</td>\n",
       "      <td>0.065993</td>\n",
       "      <td>0.083333</td>\n",
       "      <td>1.000000</td>\n",
       "      <td>0.5441</td>\n",
       "    </tr>\n",
       "    <tr>\n",
       "      <th>22</th>\n",
       "      <td>23</td>\n",
       "      <td>0</td>\n",
       "      <td>0.847159</td>\n",
       "      <td>0.152841</td>\n",
       "      <td>0</td>\n",
       "      <td>0.180416</td>\n",
       "      <td>158.504157</td>\n",
       "      <td>0.065993</td>\n",
       "      <td>0.017126</td>\n",
       "      <td>0.304865</td>\n",
       "      <td>0.5441</td>\n",
       "    </tr>\n",
       "    <tr>\n",
       "      <th>23</th>\n",
       "      <td>24</td>\n",
       "      <td>0</td>\n",
       "      <td>0.818165</td>\n",
       "      <td>0.181835</td>\n",
       "      <td>0</td>\n",
       "      <td>0.222248</td>\n",
       "      <td>158.504157</td>\n",
       "      <td>0.065993</td>\n",
       "      <td>0.022161</td>\n",
       "      <td>0.350067</td>\n",
       "      <td>0.5441</td>\n",
       "    </tr>\n",
       "    <tr>\n",
       "      <th>24</th>\n",
       "      <td>25</td>\n",
       "      <td>1</td>\n",
       "      <td>0.290128</td>\n",
       "      <td>0.709872</td>\n",
       "      <td>1</td>\n",
       "      <td>2.446753</td>\n",
       "      <td>158.504157</td>\n",
       "      <td>0.065993</td>\n",
       "      <td>0.029562</td>\n",
       "      <td>0.335181</td>\n",
       "      <td>0.5441</td>\n",
       "    </tr>\n",
       "    <tr>\n",
       "      <th>25</th>\n",
       "      <td>26</td>\n",
       "      <td>0</td>\n",
       "      <td>0.625459</td>\n",
       "      <td>0.374541</td>\n",
       "      <td>0</td>\n",
       "      <td>0.598825</td>\n",
       "      <td>158.504157</td>\n",
       "      <td>0.065993</td>\n",
       "      <td>0.063799</td>\n",
       "      <td>0.748540</td>\n",
       "      <td>0.5441</td>\n",
       "    </tr>\n",
       "    <tr>\n",
       "      <th>26</th>\n",
       "      <td>27</td>\n",
       "      <td>1</td>\n",
       "      <td>0.015802</td>\n",
       "      <td>0.984198</td>\n",
       "      <td>1</td>\n",
       "      <td>62.282585</td>\n",
       "      <td>158.504157</td>\n",
       "      <td>0.065993</td>\n",
       "      <td>0.000242</td>\n",
       "      <td>0.031604</td>\n",
       "      <td>0.5441</td>\n",
       "    </tr>\n",
       "    <tr>\n",
       "      <th>27</th>\n",
       "      <td>28</td>\n",
       "      <td>0</td>\n",
       "      <td>0.500036</td>\n",
       "      <td>0.499964</td>\n",
       "      <td>0</td>\n",
       "      <td>0.999854</td>\n",
       "      <td>158.504157</td>\n",
       "      <td>0.065993</td>\n",
       "      <td>0.083329</td>\n",
       "      <td>0.999927</td>\n",
       "      <td>0.5441</td>\n",
       "    </tr>\n",
       "    <tr>\n",
       "      <th>28</th>\n",
       "      <td>29</td>\n",
       "      <td>1</td>\n",
       "      <td>0.765093</td>\n",
       "      <td>0.234907</td>\n",
       "      <td>0</td>\n",
       "      <td>0.307030</td>\n",
       "      <td>158.504157</td>\n",
       "      <td>0.065993</td>\n",
       "      <td>0.034186</td>\n",
       "      <td>0.469789</td>\n",
       "      <td>0.5441</td>\n",
       "    </tr>\n",
       "    <tr>\n",
       "      <th>29</th>\n",
       "      <td>30</td>\n",
       "      <td>1</td>\n",
       "      <td>0.441776</td>\n",
       "      <td>0.558224</td>\n",
       "      <td>1</td>\n",
       "      <td>1.263590</td>\n",
       "      <td>158.504157</td>\n",
       "      <td>0.065993</td>\n",
       "      <td>0.066533</td>\n",
       "      <td>0.738945</td>\n",
       "      <td>0.5441</td>\n",
       "    </tr>\n",
       "    <tr>\n",
       "      <th>30</th>\n",
       "      <td>31</td>\n",
       "      <td>0</td>\n",
       "      <td>0.850042</td>\n",
       "      <td>0.149958</td>\n",
       "      <td>0</td>\n",
       "      <td>0.176412</td>\n",
       "      <td>158.504157</td>\n",
       "      <td>0.065993</td>\n",
       "      <td>0.016609</td>\n",
       "      <td>0.299637</td>\n",
       "      <td>0.5441</td>\n",
       "    </tr>\n",
       "    <tr>\n",
       "      <th>31</th>\n",
       "      <td>32</td>\n",
       "      <td>0</td>\n",
       "      <td>0.801528</td>\n",
       "      <td>0.198472</td>\n",
       "      <td>0</td>\n",
       "      <td>0.247618</td>\n",
       "      <td>158.504157</td>\n",
       "      <td>0.065993</td>\n",
       "      <td>0.026339</td>\n",
       "      <td>0.396845</td>\n",
       "      <td>0.5441</td>\n",
       "    </tr>\n",
       "    <tr>\n",
       "      <th>32</th>\n",
       "      <td>33</td>\n",
       "      <td>1</td>\n",
       "      <td>0.669245</td>\n",
       "      <td>0.330755</td>\n",
       "      <td>0</td>\n",
       "      <td>0.494220</td>\n",
       "      <td>158.504157</td>\n",
       "      <td>0.065993</td>\n",
       "      <td>0.055016</td>\n",
       "      <td>0.661491</td>\n",
       "      <td>0.5441</td>\n",
       "    </tr>\n",
       "    <tr>\n",
       "      <th>33</th>\n",
       "      <td>34</td>\n",
       "      <td>1</td>\n",
       "      <td>0.500003</td>\n",
       "      <td>0.499997</td>\n",
       "      <td>0</td>\n",
       "      <td>0.999986</td>\n",
       "      <td>158.504157</td>\n",
       "      <td>0.065993</td>\n",
       "      <td>0.083333</td>\n",
       "      <td>0.999993</td>\n",
       "      <td>0.5441</td>\n",
       "    </tr>\n",
       "    <tr>\n",
       "      <th>34</th>\n",
       "      <td>35</td>\n",
       "      <td>0</td>\n",
       "      <td>0.849056</td>\n",
       "      <td>0.150944</td>\n",
       "      <td>0</td>\n",
       "      <td>0.177779</td>\n",
       "      <td>158.504157</td>\n",
       "      <td>0.065993</td>\n",
       "      <td>0.016741</td>\n",
       "      <td>0.300506</td>\n",
       "      <td>0.5441</td>\n",
       "    </tr>\n",
       "    <tr>\n",
       "      <th>35</th>\n",
       "      <td>36</td>\n",
       "      <td>0</td>\n",
       "      <td>0.752547</td>\n",
       "      <td>0.247453</td>\n",
       "      <td>0</td>\n",
       "      <td>0.328820</td>\n",
       "      <td>158.504157</td>\n",
       "      <td>0.065993</td>\n",
       "      <td>0.036939</td>\n",
       "      <td>0.494886</td>\n",
       "      <td>0.5441</td>\n",
       "    </tr>\n",
       "    <tr>\n",
       "      <th>36</th>\n",
       "      <td>37</td>\n",
       "      <td>0</td>\n",
       "      <td>0.738824</td>\n",
       "      <td>0.261176</td>\n",
       "      <td>0</td>\n",
       "      <td>0.353502</td>\n",
       "      <td>158.504157</td>\n",
       "      <td>0.065993</td>\n",
       "      <td>0.039946</td>\n",
       "      <td>0.522117</td>\n",
       "      <td>0.5441</td>\n",
       "    </tr>\n",
       "    <tr>\n",
       "      <th>37</th>\n",
       "      <td>38</td>\n",
       "      <td>0</td>\n",
       "      <td>0.770687</td>\n",
       "      <td>0.229313</td>\n",
       "      <td>0</td>\n",
       "      <td>0.297544</td>\n",
       "      <td>158.504157</td>\n",
       "      <td>0.065993</td>\n",
       "      <td>0.032964</td>\n",
       "      <td>0.458588</td>\n",
       "      <td>0.5441</td>\n",
       "    </tr>\n",
       "    <tr>\n",
       "      <th>38</th>\n",
       "      <td>39</td>\n",
       "      <td>1</td>\n",
       "      <td>0.839847</td>\n",
       "      <td>0.160153</td>\n",
       "      <td>0</td>\n",
       "      <td>0.190693</td>\n",
       "      <td>158.504157</td>\n",
       "      <td>0.065993</td>\n",
       "      <td>0.018555</td>\n",
       "      <td>0.320047</td>\n",
       "      <td>0.5441</td>\n",
       "    </tr>\n",
       "    <tr>\n",
       "      <th>39</th>\n",
       "      <td>40</td>\n",
       "      <td>1</td>\n",
       "      <td>0.028846</td>\n",
       "      <td>0.971155</td>\n",
       "      <td>1</td>\n",
       "      <td>33.667435</td>\n",
       "      <td>158.504157</td>\n",
       "      <td>0.065993</td>\n",
       "      <td>0.000776</td>\n",
       "      <td>0.056965</td>\n",
       "      <td>0.5441</td>\n",
       "    </tr>\n",
       "    <tr>\n",
       "      <th>40</th>\n",
       "      <td>41</td>\n",
       "      <td>1</td>\n",
       "      <td>0.779136</td>\n",
       "      <td>0.220864</td>\n",
       "      <td>0</td>\n",
       "      <td>0.283474</td>\n",
       "      <td>158.504157</td>\n",
       "      <td>0.065993</td>\n",
       "      <td>0.031130</td>\n",
       "      <td>0.441700</td>\n",
       "      <td>0.5441</td>\n",
       "    </tr>\n",
       "    <tr>\n",
       "      <th>41</th>\n",
       "      <td>42</td>\n",
       "      <td>0</td>\n",
       "      <td>0.854351</td>\n",
       "      <td>0.145649</td>\n",
       "      <td>0</td>\n",
       "      <td>0.170479</td>\n",
       "      <td>158.504157</td>\n",
       "      <td>0.065993</td>\n",
       "      <td>0.015151</td>\n",
       "      <td>0.277281</td>\n",
       "      <td>0.5441</td>\n",
       "    </tr>\n",
       "    <tr>\n",
       "      <th>42</th>\n",
       "      <td>43</td>\n",
       "      <td>0</td>\n",
       "      <td>0.808213</td>\n",
       "      <td>0.191787</td>\n",
       "      <td>0</td>\n",
       "      <td>0.237298</td>\n",
       "      <td>158.504157</td>\n",
       "      <td>0.065993</td>\n",
       "      <td>0.022934</td>\n",
       "      <td>0.347300</td>\n",
       "      <td>0.5441</td>\n",
       "    </tr>\n",
       "    <tr>\n",
       "      <th>43</th>\n",
       "      <td>44</td>\n",
       "      <td>0</td>\n",
       "      <td>0.853028</td>\n",
       "      <td>0.146972</td>\n",
       "      <td>0</td>\n",
       "      <td>0.172295</td>\n",
       "      <td>158.504157</td>\n",
       "      <td>0.065993</td>\n",
       "      <td>0.016007</td>\n",
       "      <td>0.292734</td>\n",
       "      <td>0.5441</td>\n",
       "    </tr>\n",
       "    <tr>\n",
       "      <th>44</th>\n",
       "      <td>45</td>\n",
       "      <td>1</td>\n",
       "      <td>0.504628</td>\n",
       "      <td>0.495372</td>\n",
       "      <td>0</td>\n",
       "      <td>0.981659</td>\n",
       "      <td>158.504157</td>\n",
       "      <td>0.065993</td>\n",
       "      <td>0.082810</td>\n",
       "      <td>0.990743</td>\n",
       "      <td>0.5441</td>\n",
       "    </tr>\n",
       "    <tr>\n",
       "      <th>45</th>\n",
       "      <td>46</td>\n",
       "      <td>0</td>\n",
       "      <td>0.825137</td>\n",
       "      <td>0.174863</td>\n",
       "      <td>0</td>\n",
       "      <td>0.211920</td>\n",
       "      <td>158.504157</td>\n",
       "      <td>0.065993</td>\n",
       "      <td>0.021338</td>\n",
       "      <td>0.347113</td>\n",
       "      <td>0.5441</td>\n",
       "    </tr>\n",
       "    <tr>\n",
       "      <th>46</th>\n",
       "      <td>47</td>\n",
       "      <td>0</td>\n",
       "      <td>0.850409</td>\n",
       "      <td>0.149591</td>\n",
       "      <td>0</td>\n",
       "      <td>0.175905</td>\n",
       "      <td>158.504157</td>\n",
       "      <td>0.065993</td>\n",
       "      <td>0.016235</td>\n",
       "      <td>0.292580</td>\n",
       "      <td>0.5441</td>\n",
       "    </tr>\n",
       "    <tr>\n",
       "      <th>47</th>\n",
       "      <td>48</td>\n",
       "      <td>1</td>\n",
       "      <td>0.458798</td>\n",
       "      <td>0.541202</td>\n",
       "      <td>1</td>\n",
       "      <td>1.179607</td>\n",
       "      <td>158.504157</td>\n",
       "      <td>0.065993</td>\n",
       "      <td>0.069710</td>\n",
       "      <td>0.780656</td>\n",
       "      <td>0.5441</td>\n",
       "    </tr>\n",
       "    <tr>\n",
       "      <th>48</th>\n",
       "      <td>49</td>\n",
       "      <td>0</td>\n",
       "      <td>0.658779</td>\n",
       "      <td>0.341221</td>\n",
       "      <td>0</td>\n",
       "      <td>0.517959</td>\n",
       "      <td>158.504157</td>\n",
       "      <td>0.065993</td>\n",
       "      <td>0.057160</td>\n",
       "      <td>0.681986</td>\n",
       "      <td>0.5441</td>\n",
       "    </tr>\n",
       "    <tr>\n",
       "      <th>49</th>\n",
       "      <td>50</td>\n",
       "      <td>1</td>\n",
       "      <td>0.011348</td>\n",
       "      <td>0.988652</td>\n",
       "      <td>1</td>\n",
       "      <td>87.121635</td>\n",
       "      <td>158.504157</td>\n",
       "      <td>0.065993</td>\n",
       "      <td>0.000126</td>\n",
       "      <td>0.022696</td>\n",
       "      <td>0.5441</td>\n",
       "    </tr>\n",
       "  </tbody>\n",
       "</table>\n",
       "</div>"
      ],
      "text/plain": [
       "    dataset  true_model   m0_prob   m1_prob  selected_model  bayes_factor  \\\n",
       "0         1           0  0.807988  0.192012               0      0.237642   \n",
       "1         2           1  0.500000  0.500000               0      1.000000   \n",
       "2         3           1  0.500002  0.499998               0      0.999991   \n",
       "3         4           0  0.833476  0.166524               0      0.199794   \n",
       "4         5           0  0.577089  0.422911               0      0.732835   \n",
       "5         6           0  0.411181  0.588819               1      1.432018   \n",
       "6         7           0  0.733609  0.266391               0      0.363125   \n",
       "7         8           0  0.721547  0.278453               0      0.385911   \n",
       "8         9           1  0.177563  0.822437               1      4.631792   \n",
       "9        10           0  0.855228  0.144772               0      0.169279   \n",
       "10       11           1  0.024935  0.975065               1     39.104836   \n",
       "11       12           1  0.023761  0.976239               1     41.086506   \n",
       "12       13           0  0.830997  0.169003               0      0.203373   \n",
       "13       14           1  0.523426  0.476573               0      0.910488   \n",
       "14       15           1  0.500023  0.499977               0      0.999908   \n",
       "15       16           1  0.732248  0.267752               0      0.365658   \n",
       "16       17           0  0.505737  0.494263               0      0.977311   \n",
       "17       18           0  0.810072  0.189928               0      0.234458   \n",
       "18       19           1  0.500000  0.500000               0      0.999999   \n",
       "19       20           0  0.355596  0.644404               1      1.812181   \n",
       "20       21           0  0.768142  0.231858               0      0.301842   \n",
       "21       22           1  0.500000  0.500000               0      1.000000   \n",
       "22       23           0  0.847159  0.152841               0      0.180416   \n",
       "23       24           0  0.818165  0.181835               0      0.222248   \n",
       "24       25           1  0.290128  0.709872               1      2.446753   \n",
       "25       26           0  0.625459  0.374541               0      0.598825   \n",
       "26       27           1  0.015802  0.984198               1     62.282585   \n",
       "27       28           0  0.500036  0.499964               0      0.999854   \n",
       "28       29           1  0.765093  0.234907               0      0.307030   \n",
       "29       30           1  0.441776  0.558224               1      1.263590   \n",
       "30       31           0  0.850042  0.149958               0      0.176412   \n",
       "31       32           0  0.801528  0.198472               0      0.247618   \n",
       "32       33           1  0.669245  0.330755               0      0.494220   \n",
       "33       34           1  0.500003  0.499997               0      0.999986   \n",
       "34       35           0  0.849056  0.150944               0      0.177779   \n",
       "35       36           0  0.752547  0.247453               0      0.328820   \n",
       "36       37           0  0.738824  0.261176               0      0.353502   \n",
       "37       38           0  0.770687  0.229313               0      0.297544   \n",
       "38       39           1  0.839847  0.160153               0      0.190693   \n",
       "39       40           1  0.028846  0.971155               1     33.667435   \n",
       "40       41           1  0.779136  0.220864               0      0.283474   \n",
       "41       42           0  0.854351  0.145649               0      0.170479   \n",
       "42       43           0  0.808213  0.191787               0      0.237298   \n",
       "43       44           0  0.853028  0.146972               0      0.172295   \n",
       "44       45           1  0.504628  0.495372               0      0.981659   \n",
       "45       46           0  0.825137  0.174863               0      0.211920   \n",
       "46       47           0  0.850409  0.149591               0      0.175905   \n",
       "47       48           1  0.458798  0.541202               1      1.179607   \n",
       "48       49           0  0.658779  0.341221               0      0.517959   \n",
       "49       50           1  0.011348  0.988652               1     87.121635   \n",
       "\n",
       "    training_time  inference_time  dirichlet_variance  uncertainty  \\\n",
       "0      158.504157        0.065993            0.024898     0.382316   \n",
       "1      158.504157        0.065993            0.083333     1.000000   \n",
       "2      158.504157        0.065993            0.083333     0.999995   \n",
       "3      158.504157        0.065993            0.019805     0.332883   \n",
       "4      158.504157        0.065993            0.072537     0.845813   \n",
       "5      158.504157        0.065993            0.047884     0.493066   \n",
       "6      158.504157        0.065993            0.041108     0.532759   \n",
       "7      158.504157        0.065993            0.043759     0.556885   \n",
       "8      158.504157        0.065993            0.021608     0.347326   \n",
       "9      158.504157        0.065993            0.015633     0.289023   \n",
       "10     158.504157        0.065993            0.000588     0.049542   \n",
       "11     158.504157        0.065993            0.000537     0.047408   \n",
       "12     158.504157        0.065993            0.020293     0.337792   \n",
       "13     158.504157        0.065993            0.080512     0.953145   \n",
       "14     158.504157        0.065993            0.083331     0.999954   \n",
       "15     158.504157        0.065993            0.039183     0.499534   \n",
       "16     158.504157        0.065993            0.056413     0.582911   \n",
       "17     158.504157        0.065993            0.024341     0.375883   \n",
       "18     158.504157        0.065993            0.083333     1.000000   \n",
       "19     158.504157        0.065993            0.057207     0.665433   \n",
       "20     158.504157        0.065993            0.033518     0.463655   \n",
       "21     158.504157        0.065993            0.083333     1.000000   \n",
       "22     158.504157        0.065993            0.017126     0.304865   \n",
       "23     158.504157        0.065993            0.022161     0.350067   \n",
       "24     158.504157        0.065993            0.029562     0.335181   \n",
       "25     158.504157        0.065993            0.063799     0.748540   \n",
       "26     158.504157        0.065993            0.000242     0.031604   \n",
       "27     158.504157        0.065993            0.083329     0.999927   \n",
       "28     158.504157        0.065993            0.034186     0.469789   \n",
       "29     158.504157        0.065993            0.066533     0.738945   \n",
       "30     158.504157        0.065993            0.016609     0.299637   \n",
       "31     158.504157        0.065993            0.026339     0.396845   \n",
       "32     158.504157        0.065993            0.055016     0.661491   \n",
       "33     158.504157        0.065993            0.083333     0.999993   \n",
       "34     158.504157        0.065993            0.016741     0.300506   \n",
       "35     158.504157        0.065993            0.036939     0.494886   \n",
       "36     158.504157        0.065993            0.039946     0.522117   \n",
       "37     158.504157        0.065993            0.032964     0.458588   \n",
       "38     158.504157        0.065993            0.018555     0.320047   \n",
       "39     158.504157        0.065993            0.000776     0.056965   \n",
       "40     158.504157        0.065993            0.031130     0.441700   \n",
       "41     158.504157        0.065993            0.015151     0.277281   \n",
       "42     158.504157        0.065993            0.022934     0.347300   \n",
       "43     158.504157        0.065993            0.016007     0.292734   \n",
       "44     158.504157        0.065993            0.082810     0.990743   \n",
       "45     158.504157        0.065993            0.021338     0.347113   \n",
       "46     158.504157        0.065993            0.016235     0.292580   \n",
       "47     158.504157        0.065993            0.069710     0.780656   \n",
       "48     158.504157        0.065993            0.057160     0.681986   \n",
       "49     158.504157        0.065993            0.000126     0.022696   \n",
       "\n",
       "    final_epoch_loss  \n",
       "0             0.5441  \n",
       "1             0.5441  \n",
       "2             0.5441  \n",
       "3             0.5441  \n",
       "4             0.5441  \n",
       "5             0.5441  \n",
       "6             0.5441  \n",
       "7             0.5441  \n",
       "8             0.5441  \n",
       "9             0.5441  \n",
       "10            0.5441  \n",
       "11            0.5441  \n",
       "12            0.5441  \n",
       "13            0.5441  \n",
       "14            0.5441  \n",
       "15            0.5441  \n",
       "16            0.5441  \n",
       "17            0.5441  \n",
       "18            0.5441  \n",
       "19            0.5441  \n",
       "20            0.5441  \n",
       "21            0.5441  \n",
       "22            0.5441  \n",
       "23            0.5441  \n",
       "24            0.5441  \n",
       "25            0.5441  \n",
       "26            0.5441  \n",
       "27            0.5441  \n",
       "28            0.5441  \n",
       "29            0.5441  \n",
       "30            0.5441  \n",
       "31            0.5441  \n",
       "32            0.5441  \n",
       "33            0.5441  \n",
       "34            0.5441  \n",
       "35            0.5441  \n",
       "36            0.5441  \n",
       "37            0.5441  \n",
       "38            0.5441  \n",
       "39            0.5441  \n",
       "40            0.5441  \n",
       "41            0.5441  \n",
       "42            0.5441  \n",
       "43            0.5441  \n",
       "44            0.5441  \n",
       "45            0.5441  \n",
       "46            0.5441  \n",
       "47            0.5441  \n",
       "48            0.5441  \n",
       "49            0.5441  "
      ]
     },
     "execution_count": 26,
     "metadata": {},
     "output_type": "execute_result"
    }
   ],
   "source": [
    "comparison_results.head(50)"
   ]
  },
  {
   "cell_type": "code",
   "execution_count": 156,
   "metadata": {},
   "outputs": [],
   "source": [
    "# Export experimental results\n",
    "# FIXED VARIANT\n",
    "local_timezone = datetime.now(timezone(timedelta(0))).astimezone().tzinfo\n",
    "filename = pd.Timestamp.today(tz=local_timezone).strftime('%Y_%m_%d___%H_%M_BF_NN_comp')\n",
    "comparison_folder = os.path.join(os.getcwd(),'data', 'BF_approximation_comparison')\n",
    "\n",
    "comparison_results.to_csv(os.path.join(comparison_folder, filename), index = False)"
   ]
  },
  {
   "cell_type": "code",
   "execution_count": 163,
   "metadata": {},
   "outputs": [],
   "source": [
    "# Export experimental results\n",
    "# VARIABLE VARIANT\n",
    "local_timezone = datetime.now(timezone(timedelta(0))).astimezone().tzinfo\n",
    "filename = pd.Timestamp.today(tz=local_timezone).strftime('%Y_%m_%d___%H_%M_BF_NN_variable_comp')\n",
    "comparison_folder = os.path.join(os.getcwd(),'data', 'BF_approximation_comparison')\n",
    "\n",
    "comparison_results.to_csv(os.path.join(comparison_folder, filename), index = False)"
   ]
  }
 ],
 "metadata": {
  "kernelspec": {
   "display_name": "Python 3",
   "language": "python",
   "name": "python3"
  },
  "language_info": {
   "codemirror_mode": {
    "name": "ipython",
    "version": 3
   },
   "file_extension": ".py",
   "mimetype": "text/x-python",
   "name": "python",
   "nbconvert_exporter": "python",
   "pygments_lexer": "ipython3",
   "version": "3.8.8"
  },
  "toc": {
   "base_numbering": 1,
   "nav_menu": {},
   "number_sections": true,
   "sideBar": true,
   "skip_h1_title": false,
   "title_cell": "Table of Contents",
   "title_sidebar": "Contents",
   "toc_cell": false,
   "toc_position": {
    "height": "calc(100% - 180px)",
    "left": "10px",
    "top": "150px",
    "width": "165px"
   },
   "toc_section_display": true,
   "toc_window_display": true
  },
  "varInspector": {
   "cols": {
    "lenName": 16,
    "lenType": 16,
    "lenVar": 40
   },
   "kernels_config": {
    "python": {
     "delete_cmd_postfix": "",
     "delete_cmd_prefix": "del ",
     "library": "var_list.py",
     "varRefreshCmd": "print(var_dic_list())"
    },
    "r": {
     "delete_cmd_postfix": ") ",
     "delete_cmd_prefix": "rm(",
     "library": "var_list.r",
     "varRefreshCmd": "cat(var_dic_list()) "
    }
   },
   "types_to_exclude": [
    "module",
    "function",
    "builtin_function_or_method",
    "instance",
    "_Feature"
   ],
   "window_display": false
  }
 },
 "nbformat": 4,
 "nbformat_minor": 2
}
