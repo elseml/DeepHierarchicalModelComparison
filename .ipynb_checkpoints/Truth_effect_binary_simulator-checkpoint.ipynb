{
 "cells": [
  {
   "cell_type": "code",
   "execution_count": 1,
   "id": "minute-liabilities",
   "metadata": {},
   "outputs": [],
   "source": [
    "import numpy as np\n",
    "from scipy import stats\n",
    "import pandas as pd"
   ]
  },
  {
   "cell_type": "code",
   "execution_count": 76,
   "id": "single-ecology",
   "metadata": {},
   "outputs": [],
   "source": [
    "# Simulated data for testing\n",
    "\n",
    "n_clusters = 30\n",
    "n_obs = 60\n",
    "\n",
    "cluster = np.repeat(range(1,n_clusters+1),n_obs)\n",
    "observation = np.tile(np.arange(1,n_obs+1),n_clusters)\n",
    "\n",
    "sim_data = pd.DataFrame([cluster, observation]).T\n",
    "sim_data.columns = ['cluster', 'observation']\n",
    "\n",
    "t = [] # truth status: 0=false / 1=true\n",
    "x = [] # repetition condition: 0=new / 1=repeated\n",
    "for i in range(n_clusters):\n",
    "    t_j = np.random.binomial(n=1, p=0.5, size=n_obs) # truth status of statement j\n",
    "    t.append(t_j)\n",
    "    x_k = np.random.binomial(n=1, p=0.5, size=n_obs) # repetition condition (new=0 / old=1)\n",
    "    x.append(x_k)\n",
    "    \n",
    "sim_data['truth status'] = np.ndarray.flatten(np.array(t))\n",
    "sim_data['repetition condition'] = np.ndarray.flatten(np.array(x))"
   ]
  },
  {
   "cell_type": "code",
   "execution_count": 83,
   "id": "christian-builder",
   "metadata": {},
   "outputs": [],
   "source": [
    "# Simulation settings\n",
    "\n",
    "n_clusters = 30\n",
    "n_obs = 60"
   ]
  },
  {
   "cell_type": "code",
   "execution_count": 84,
   "id": "photographic-mistress",
   "metadata": {},
   "outputs": [],
   "source": [
    "# Specific priors that vary over models\n",
    "\n",
    "# g-priors for theta\n",
    "rscale = 0.5\n",
    "prior_g_theta = 1/np.random.gamma(shape=.5, scale=(rscale**2)/2)\n",
    "prior_g_nu = 1/np.random.gamma(shape=.5, scale=(rscale**2)/2)\n",
    "prior_nu = np.random.normal(0, np.sqrt(prior_g_nu))\n",
    "\n",
    "# theta prior for each model\n",
    "theta_prior_unconstr = np.random.normal(prior_nu, np.sqrt(prior_g_theta), size=n_clusters) # in code: general\n",
    "theta_prior_pos_eff = stats.truncnorm.rvs(loc=prior_nu, scale=1, a=-prior_nu, b=np.inf, size=n_clusters)\n",
    "theta_prior_com_eff = np.repeat(prior_nu, n_clusters) # in code: one\n",
    "theta_prior_null = np.repeat(0, n_clusters) "
   ]
  },
  {
   "cell_type": "code",
   "execution_count": 85,
   "id": "returning-paragraph",
   "metadata": {},
   "outputs": [],
   "source": [
    "# Common priors for all models\n",
    "\n",
    "# Scale param for alpha_i: prior_g_alpha\n",
    "prior_g_alpha = 1/np.random.gamma(2**2)\n",
    "\n",
    "# Scale param for beta: prior_g_beta\n",
    "prior_g_beta = 1/np.random.gamma(2**2)"
   ]
  },
  {
   "cell_type": "code",
   "execution_count": 86,
   "id": "accessible-basin",
   "metadata": {},
   "outputs": [],
   "source": [
    "# Final priors for linear model\n",
    "mu = np.random.normal(0, 1) # Grand mean intercept # just standard-normal instead of Jeffreys prior as we don't have sigma anymore\n",
    "alpha_i = np.random.normal(0, prior_g_alpha, size=n_clusters) # Person-specific intercept\n",
    "beta = np.random.normal(0, prior_g_beta) # Effect of factual truth of statement\n",
    "theta_i = theta_prior_null # Individuals truth effect as stated by selected model"
   ]
  },
  {
   "cell_type": "code",
   "execution_count": 90,
   "id": "whole-split",
   "metadata": {},
   "outputs": [
    {
     "name": "stdout",
     "output_type": "stream",
     "text": [
      "True\n"
     ]
    },
    {
     "data": {
      "text/plain": [
       "0.6416666666666667"
      ]
     },
     "execution_count": 90,
     "metadata": {},
     "output_type": "execute_result"
    }
   ],
   "source": [
    "# Simulate a dataset X of binary responses\n",
    "\n",
    "X = []\n",
    "\n",
    "t_j = np.repeat([0,1],n_obs/2) # truth status of statement j / assumed to be 50/50\n",
    "x_k = np.repeat([0,1,0,1],n_obs/4) # repetition condition (new=0 / old=1) / assumed to be 50/50\n",
    "print(len(t_j)==len(x_k)) # check if both vectors have equal length (satisfied if n_obs is dividable by 4 without rest)\n",
    "\n",
    "for l in range(n_clusters):\n",
    "\n",
    "    # list to hold individual responses\n",
    "    x_i = []\n",
    "    \n",
    "    for n in range(n_obs):\n",
    "        \n",
    "        # Specify linear model\n",
    "        lin_model = mu + alpha_i[l] + t_j[n]*beta + x_k[n]*theta_i[l] \n",
    "    \n",
    "        # Estimate p\n",
    "        p = np.exp(lin_model)/(1+np.exp(lin_model))\n",
    "        \n",
    "        # Generate x\n",
    "        x = np.random.binomial(n=1, p=p)\n",
    "        \n",
    "        x_i.append(x)\n",
    "    \n",
    "    X.append(x_i)\n",
    "\n",
    "X = np.array(X)\n",
    "X.mean()"
   ]
  },
  {
   "cell_type": "code",
   "execution_count": null,
   "id": "proprietary-technical",
   "metadata": {},
   "outputs": [],
   "source": [
    "# wenn 32 batch in < 1 sek simuliert wird, muss nicht optimiert werden"
   ]
  },
  {
   "cell_type": "code",
   "execution_count": 9,
   "id": "union-oasis",
   "metadata": {},
   "outputs": [
    {
     "data": {
      "text/plain": [
       "(30, 10)"
      ]
     },
     "execution_count": 9,
     "metadata": {},
     "output_type": "execute_result"
    }
   ],
   "source": [
    "X.shape"
   ]
  },
  {
   "cell_type": "code",
   "execution_count": 10,
   "id": "binding-nursing",
   "metadata": {},
   "outputs": [
    {
     "data": {
      "text/plain": [
       "array([[0, 0, 0, 1, 0, 0, 0, 1, 0, 0],\n",
       "       [0, 1, 0, 1, 1, 0, 0, 1, 1, 1],\n",
       "       [0, 1, 0, 0, 1, 1, 0, 1, 0, 0],\n",
       "       [1, 0, 1, 1, 1, 1, 1, 1, 0, 1],\n",
       "       [0, 0, 0, 0, 1, 1, 1, 1, 1, 0],\n",
       "       [1, 1, 0, 0, 0, 1, 0, 0, 1, 1],\n",
       "       [0, 1, 0, 1, 1, 1, 0, 1, 0, 0],\n",
       "       [0, 0, 0, 0, 0, 1, 1, 1, 1, 1],\n",
       "       [1, 1, 0, 1, 1, 1, 0, 0, 0, 0],\n",
       "       [0, 1, 0, 0, 0, 1, 1, 0, 0, 1],\n",
       "       [0, 1, 0, 0, 0, 0, 0, 1, 0, 0],\n",
       "       [0, 0, 1, 1, 1, 1, 1, 0, 1, 1],\n",
       "       [0, 0, 1, 1, 1, 0, 1, 0, 1, 0],\n",
       "       [1, 1, 0, 1, 1, 1, 1, 1, 1, 1],\n",
       "       [1, 0, 1, 0, 0, 1, 1, 0, 1, 0],\n",
       "       [1, 1, 0, 0, 0, 1, 0, 1, 0, 0],\n",
       "       [1, 1, 1, 1, 0, 1, 1, 1, 0, 0],\n",
       "       [1, 0, 0, 1, 0, 0, 1, 0, 1, 1],\n",
       "       [0, 1, 1, 1, 0, 0, 0, 0, 0, 0],\n",
       "       [1, 0, 0, 0, 0, 1, 0, 0, 0, 1],\n",
       "       [1, 0, 0, 0, 0, 1, 0, 1, 1, 1],\n",
       "       [0, 0, 0, 0, 0, 1, 0, 1, 0, 0],\n",
       "       [1, 0, 0, 0, 1, 1, 0, 1, 1, 1],\n",
       "       [0, 1, 1, 1, 1, 1, 0, 1, 0, 1],\n",
       "       [1, 0, 1, 0, 1, 0, 1, 1, 1, 0],\n",
       "       [0, 1, 0, 1, 1, 0, 0, 1, 1, 0],\n",
       "       [0, 1, 0, 1, 0, 1, 1, 1, 1, 0],\n",
       "       [0, 1, 0, 0, 1, 1, 0, 1, 1, 0],\n",
       "       [1, 0, 0, 0, 0, 1, 1, 0, 0, 0],\n",
       "       [1, 0, 1, 0, 0, 1, 1, 0, 0, 0]])"
      ]
     },
     "execution_count": 10,
     "metadata": {},
     "output_type": "execute_result"
    }
   ],
   "source": [
    "X"
   ]
  }
 ],
 "metadata": {
  "kernelspec": {
   "display_name": "Python 3",
   "language": "python",
   "name": "python3"
  },
  "language_info": {
   "codemirror_mode": {
    "name": "ipython",
    "version": 3
   },
   "file_extension": ".py",
   "mimetype": "text/x-python",
   "name": "python",
   "nbconvert_exporter": "python",
   "pygments_lexer": "ipython3",
   "version": "3.8.8"
  },
  "toc": {
   "base_numbering": 1,
   "nav_menu": {},
   "number_sections": true,
   "sideBar": true,
   "skip_h1_title": false,
   "title_cell": "Table of Contents",
   "title_sidebar": "Contents",
   "toc_cell": false,
   "toc_position": {},
   "toc_section_display": true,
   "toc_window_display": false
  },
  "varInspector": {
   "cols": {
    "lenName": 16,
    "lenType": 16,
    "lenVar": 40
   },
   "kernels_config": {
    "python": {
     "delete_cmd_postfix": "",
     "delete_cmd_prefix": "del ",
     "library": "var_list.py",
     "varRefreshCmd": "print(var_dic_list())"
    },
    "r": {
     "delete_cmd_postfix": ") ",
     "delete_cmd_prefix": "rm(",
     "library": "var_list.r",
     "varRefreshCmd": "cat(var_dic_list()) "
    }
   },
   "types_to_exclude": [
    "module",
    "function",
    "builtin_function_or_method",
    "instance",
    "_Feature"
   ],
   "window_display": false
  }
 },
 "nbformat": 4,
 "nbformat_minor": 5
}
