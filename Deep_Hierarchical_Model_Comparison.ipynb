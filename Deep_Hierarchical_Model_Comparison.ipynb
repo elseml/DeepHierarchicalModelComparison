{
 "cells": [
  {
   "cell_type": "markdown",
   "metadata": {},
   "source": [
    "# Setup"
   ]
  },
  {
   "cell_type": "code",
   "execution_count": 1,
   "metadata": {},
   "outputs": [],
   "source": [
    "import numpy as np\n",
    "np.set_printoptions(suppress=True)\n",
    "import tensorflow as tf\n",
    "from scipy import stats\n",
    "from tqdm.notebook import tqdm\n",
    "from functools import partial\n",
    "import matplotlib.pyplot as plt\n",
    "import seaborn as sns\n",
    "from sklearn.calibration import calibration_curve\n",
    "from sklearn.metrics import confusion_matrix, accuracy_score, mean_absolute_error"
   ]
  },
  {
   "cell_type": "markdown",
   "metadata": {},
   "source": [
    "# Model formulation"
   ]
  },
  {
   "cell_type": "markdown",
   "metadata": {},
   "source": [
    "Hierarchical Normal Example Model: New formulation with explicit distributions\n",
    "\n",
    "$$\n",
    "\\begin{align}\n",
    "x_n &\\sim \\mathcal{N}(\\theta_l, \\sigma^2) \\text{ for } n=1,...,N \\\\\n",
    "\\theta_l &\\sim \\mathcal{N}(\\mu, \\tau^2) \\text{ for } l=1,...,L\\\\\n",
    "\\sigma^2 &\\sim Inv.-Gamma(\\alpha_s, \\beta_s)\\\\\n",
    "\\mu &\\sim \\mathcal{N}(\\mu_0, \\tau_0)\\\\\n",
    "\\tau^2 &\\sim Inv.-Gamma(\\alpha_t, \\beta_t)\\\\\n",
    "\\end{align}\n",
    "$$"
   ]
  },
  {
   "cell_type": "markdown",
   "metadata": {},
   "source": [
    "$$\n",
    "\\begin{align}\n",
    "&\\text{Null Model }H_0 \\text{: } \\mu=0\\\\\n",
    "&\\text{Alternative Model }H_1 \\text{: } \\mu \\text{ allowed to differ from 0} \\\\\n",
    "\\end{align}\n",
    "$$"
   ]
  },
  {
   "cell_type": "code",
   "execution_count": 2,
   "metadata": {},
   "outputs": [
    {
     "data": {
      "text/plain": [
       "<matplotlib.legend.Legend at 0x201bc5bb580>"
      ]
     },
     "execution_count": 2,
     "metadata": {},
     "output_type": "execute_result"
    },
    {
     "data": {
      "image/png": "[encoded data removed]",
      "text/plain": [
       "<Figure size 576x432 with 1 Axes>"
      ]
     },
     "metadata": {
      "needs_background": "light"
     },
     "output_type": "display_data"
    }
   ],
   "source": [
    "# for fun: plot model assumptions about mu\n",
    "\n",
    "# plot setup\n",
    "plt.rcParams['font.size'] = 12\n",
    "colors = ['#2f6e9e', '#9e2f36']\n",
    "f, ax = plt.subplots(1, 1, figsize=(8, 6))\n",
    "distri = stats.norm(0, np.sqrt(1))\n",
    "x = np.linspace(-5, 5, 101)\n",
    "\n",
    "# generate model pdfs\n",
    "x_pdf_m0 = [0] * 50 + [1] + [0] * 50\n",
    "x_pdf_m1 = distri.pdf(x)\n",
    "\n",
    "# plot pdfs\n",
    "ax.plot(x, x_pdf_m0, label=r'$\\mu$ = {}'.format(0), color=colors[0], lw=2.5, alpha=0.8)\n",
    "ax.plot(x, x_pdf_m1, label=r'$\\mu \\sim N(\\mu_0$={}, $\\tau_0$={})'.format(0, 1), color=colors[1], lw=2.5, alpha=0.8)\n",
    "ax.set_ylabel('Density')\n",
    "ax.spines['right'].set_visible(False)\n",
    "ax.spines['top'].set_visible(False)\n",
    "ax.set_xlabel('$\\\\mu$')\n",
    "ax.legend(fontsize=12)"
   ]
  },
  {
   "cell_type": "markdown",
   "metadata": {},
   "source": [
    "# Utility functions"
   ]
  },
  {
   "cell_type": "code",
   "execution_count": 3,
   "metadata": {
    "code_folding": [
     0,
     40,
     62,
     90,
     118
    ]
   },
   "outputs": [],
   "source": [
    "def plot_confusion_matrix(m_true, m_pred, model_names, ax, normalize=True, \n",
    "                          cmap=plt.cm.Blues, annotate=True):\n",
    "    \"\"\"\n",
    "    Helper function to print and plot the confusion matrix. \n",
    "    Normalization can be applied by setting `normalize=True`.\n",
    "    \"\"\"\n",
    "\n",
    "\n",
    "    # Compute confusion matrix\n",
    "    cm = confusion_matrix(m_true, m_pred)\n",
    "\n",
    "    if normalize:\n",
    "        cm = cm.astype('float') / cm.sum(axis=1)[:, np.newaxis]\n",
    "\n",
    "    im = ax.imshow(cm, interpolation='nearest', cmap=cmap)\n",
    "    ax.figure.colorbar(im, ax=ax)\n",
    "    # We want to show all ticks...\n",
    "    ax.set(xticks=np.arange(cm.shape[1]),\n",
    "           yticks=np.arange(cm.shape[0]),\n",
    "           xticklabels=model_names, yticklabels=model_names,\n",
    "           ylabel='True Model',\n",
    "           xlabel='Predicted Model')\n",
    "\n",
    "    # Rotate the tick labels and set their alignment.\n",
    "    plt.setp(ax.get_xticklabels(), rotation=45, ha=\"right\",\n",
    "             rotation_mode=\"anchor\")\n",
    "\n",
    "    # Loop over data dimensions and create text annotations.\n",
    "    if annotate:\n",
    "        fmt = '.2f' if normalize else 'd'\n",
    "        thresh = cm.max() / 2.\n",
    "        for i in range(cm.shape[0]):\n",
    "            for j in range(cm.shape[1]):\n",
    "                ax.text(j, i, format(cm[i, j], fmt),\n",
    "                        ha=\"center\", va=\"center\",\n",
    "                        color=\"white\" if cm[i, j] > thresh else \"black\")\n",
    "    ax.set_title('Confusion Matrix')\n",
    "\n",
    "    \n",
    "def plot_calibration_curve(m_true, m_pred, n_bins, ax):\n",
    "    \"\"\"Helper function to plot calibration curve and ece.\"\"\"\n",
    "    \n",
    "    prob_true, prob_pred = calibration_curve(m_true, m_pred, n_bins=n_bins)\n",
    "    cal_err = np.mean(np.abs(prob_true - prob_pred))\n",
    "    ax.plot(prob_true, prob_pred)\n",
    "    ax.set_xlim([0, 1])\n",
    "    ax.set_ylim([0, 1])\n",
    "    ax.plot(ax.get_xlim(), ax.get_xlim(), '--')\n",
    "    ax.set_xticks([0.2, 0.4, 0.6, 0.8, 1.0])\n",
    "    ax.set_yticks([0.2, 0.4, 0.6, 0.8, 1.0])\n",
    "    ax.set_xlabel('Accuracy')\n",
    "    ax.set_ylabel('Confidence')\n",
    "    ax.text(0.1, 0.9,  'ECE = {0:.3f}'.format(cal_err),\n",
    "                        horizontalalignment='left',\n",
    "                        verticalalignment='center',\n",
    "                        transform=ax.transAxes,\n",
    "                        size=12)\n",
    "    ax.set_title('Calibration')\n",
    "    sns.despine(ax=ax)\n",
    "    \n",
    "    \n",
    "def plot_bootstrap_accuracy(m_true, m_pred, n_bootstrap, ax):\n",
    "    \"\"\"Helper function to plot the bootstrap accuracy of recovery.\"\"\"\n",
    "    \n",
    "    \n",
    "    n_test = m_true.shape[0]\n",
    "    accs = []\n",
    "    for bi in range(n_bootstrap):\n",
    "        b_idx = np.random.choice(np.random.permutation(n_test), size=n_test, replace=True)\n",
    "        m_true_b, m_pred_b = m_true[b_idx], m_pred[b_idx]\n",
    "        accs.append(accuracy_score(m_true_b, m_pred_b))\n",
    "    \n",
    "    sns.histplot(accs, ax=ax, stat='probability')\n",
    "    sns.despine(ax=ax)\n",
    "    ax.set_xlabel('Accuracy')\n",
    "    ax.set_ylabel('')\n",
    "    ax.yaxis.set_ticks([])\n",
    "    ax.text(0.05, 0.9,  'Bootstrap accuracy = {0:.3f}'.format(np.mean(accs)),\n",
    "                        horizontalalignment='left',\n",
    "                        verticalalignment='center',\n",
    "                        transform=ax.transAxes,\n",
    "                        size=12)\n",
    "    ax.text(0.05, 0.8,  'SD = {0:.3f}'.format(np.std(accs)),\n",
    "                        horizontalalignment='left',\n",
    "                        verticalalignment='center',\n",
    "                        transform=ax.transAxes,\n",
    "                        size=12)\n",
    "    \n",
    "    \n",
    "def plot_bootstrap_mae(m_true, m_pred, n_bootstrap, ax):\n",
    "    \"\"\"Helper function to plot the bootstrap accuracy of recovery.\"\"\"\n",
    "    \n",
    "    \n",
    "    n_test = m_true.shape[0]\n",
    "    maes = []\n",
    "    for bi in range(n_bootstrap):\n",
    "        b_idx = np.random.choice(np.random.permutation(n_test), size=n_test, replace=True)\n",
    "        m_true_b, m_pred_b = m_true[b_idx], m_pred[b_idx]\n",
    "        maes.append(mean_absolute_error(m_true_b, m_pred_b))\n",
    "    \n",
    "    sns.histplot(maes, ax=ax, stat='probability')\n",
    "    sns.despine(ax=ax)\n",
    "    ax.set_xlabel('MAE')\n",
    "    ax.set_ylabel('')\n",
    "    ax.yaxis.set_ticks([])\n",
    "    ax.text(0.05, 0.9,  'Mean MAE = {0:.3f}'.format(np.mean(maes)),\n",
    "                        horizontalalignment='left',\n",
    "                        verticalalignment='center',\n",
    "                        transform=ax.transAxes,\n",
    "                        size=12)\n",
    "    ax.text(0.05, 0.8,  'SD = {0:.3f}'.format(np.std(maes)),\n",
    "                        horizontalalignment='left',\n",
    "                        verticalalignment='center',\n",
    "                        transform=ax.transAxes,\n",
    "                        size=12)\n",
    "    \n",
    "\n",
    "def perf_tester(model, val_data, n_bootstrap=100, n_cal_bins=15):\n",
    "    \"\"\"Utility function to test the performance of the model.\"\"\"\n",
    "    \n",
    "    # Compute model predictions in chunks so GPU memory does not blow-up\n",
    "    m_soft = tf.concat([model(x_chunk) for x_chunk in tf.split(val_data['X'], 20)], axis=0).numpy()\n",
    "    m_hard = (m_soft > 0.5).astype(np.int32)\n",
    "    m_true = val_data['m']\n",
    "    \n",
    "    # Prepare figures\n",
    "    fig, axarr = plt.subplots(2, 2, figsize=(16, 8))\n",
    "    \n",
    "    # Plot stuff\n",
    "    plot_calibration_curve(m_true, m_soft, n_cal_bins, axarr[0, 0])\n",
    "    plot_confusion_matrix(m_true, m_hard, ['M1', 'M2'], axarr[0, 1])\n",
    "    plot_bootstrap_accuracy(m_true, m_hard, n_bootstrap, axarr[1, 0])\n",
    "    plot_bootstrap_mae(m_true, m_hard, n_bootstrap, axarr[1, 1])\n",
    "    fig.tight_layout()"
   ]
  },
  {
   "cell_type": "markdown",
   "metadata": {},
   "source": [
    "# Simulator class"
   ]
  },
  {
   "cell_type": "code",
   "execution_count": 4,
   "metadata": {
    "code_folding": [
     5,
     28,
     41,
     63
    ]
   },
   "outputs": [],
   "source": [
    "class HierarchicalNormalSimulator:\n",
    "    \n",
    "    def __init__(self):    \n",
    "        pass\n",
    "    \n",
    "    def draw_from_prior(self, model_index, n_clusters, mu0, tau20, alpha_t, beta_t, alpha_s, beta_s):\n",
    "        \"\"\"\n",
    "        Draws parameter values from the specified prior distributions of the \n",
    "        hyperprior and the conditional prior.\n",
    "        ----------\n",
    "        \n",
    "        Arguments:        \n",
    "        n_clusters : int -- number of higher order clusters that the observations are nested in\n",
    "        mu0        : float -- higher order mean prior - mean\n",
    "        tau20      : float -- higher order mean prior - variance\n",
    "        alpha_t    : float -- higher order variance prior - shape parameter\n",
    "        beta_t     : float -- higher order variance prior - rate parameter\n",
    "        alpha_s    : float -- variance prior - shape parameter\n",
    "        beta_s     : float -- variance prior - rate parameter\n",
    "        \"\"\"\n",
    "        \n",
    "        if model_index == 0: \n",
    "            mu = 0 # must be mu=0 // mu=5 for quick model convergence checks\n",
    "        if model_index == 1:\n",
    "            mu = np.random.normal(loc=mu0, scale=np.sqrt(tau20))\n",
    "            \n",
    "        tau2 = 1/np.random.gamma(alpha_t, beta_t)\n",
    "        sigma2 = 1/np.random.gamma(alpha_s, beta_s)\n",
    "        theta = np.random.normal(loc=mu, scale=np.sqrt(tau2), size=n_clusters)\n",
    "        return theta, sigma2\n",
    "    \n",
    "    def gen_from_likelihood(self, theta, sigma2, n_obs):\n",
    "        \"\"\"\n",
    "        Generates a single hierarchical dataset from the sampled parameter values.\n",
    "        ----------\n",
    "        \n",
    "        Arguments: \n",
    "        params : list -- parameters sampled from prior \n",
    "        n_obs  : int -- number of observations per cluster\n",
    "        \"\"\"\n",
    "        \n",
    "        X = np.random.normal(loc=theta, scale=sigma2, size=(n_obs, theta.shape[0])).T \n",
    "        return X\n",
    "    \n",
    "    def generate_single(self, model_index, n_clusters, n_obs, mu0=0, tau20=1, alpha_t=1, beta_t=1, alpha_s=1, beta_s=1):\n",
    "        \"\"\"\n",
    "        Generates a single hierarchical dataset utilizing the draw_from_prior and gen_from_likelihood functions.\n",
    "        ----------\n",
    "        \n",
    "        Arguments:\n",
    "        model_index : int -- index of the model to be simulated from\n",
    "        n_clusters  : int -- number of higher order clusters that the observations are nested in\n",
    "        n_obs       : int -- number of observations per cluster\n",
    "        mu0         : float -- higher order mean prior - mean\n",
    "        tau20       : float -- higher order mean prior - variance\n",
    "        alpha_t     : float -- higher order variance prior - shape parameter\n",
    "        beta_t      : float -- higher order variance prior - rate parameter\n",
    "        alpha_s     : float -- variance prior - shape parameter\n",
    "        beta_s      : float -- variance prior - rate parameter\n",
    "        --------\n",
    "        \n",
    "        Returns:\n",
    "        numpy array of shape (n_clusters, n_obs, n_variables) - contains the simulated hierarchical datasets\n",
    "        \"\"\"\n",
    "        theta, sigma2 = self.draw_from_prior(model_index, n_clusters, mu0, tau20, alpha_t, beta_t, alpha_s, beta_s)\n",
    "        x_generated = self.gen_from_likelihood(theta, sigma2, n_obs)\n",
    "        return x_generated[...,np.newaxis]\n",
    "        \n",
    "    def simulate(self, batch_size, n_models, n_clusters, n_obs, mu0=0, tau20=1, alpha_t=1, beta_t=1, alpha_s=1, beta_s=1):\n",
    "        \"\"\"\n",
    "        Simulates multiple hierarchical datasets. Useful for single usage and debugging (both without the MainSimulator).\n",
    "        ----------\n",
    "        \n",
    "        Arguments:\n",
    "        batch_size  : int -- number of batches to be generated\n",
    "        n_models    : int -- number of models to be simulated from\n",
    "        n_clusters  : int -- number of higher order clusters that the observations are nested in\n",
    "        n_obs       : int -- number of observations per cluster\n",
    "        n_variables : int -- number of variables in the simulated datasets \n",
    "        mu0         : float -- higher order mean prior - mean\n",
    "        tau20       : float -- higher order mean prior - variance\n",
    "        alpha_t     : float -- higher order variance prior - shape parameter\n",
    "        beta_t      : float -- higher order variance prior - rate parameter\n",
    "        alpha_s     : float -- variance prior - shape parameter\n",
    "        beta_s      : float -- variance prior - rate parameter\n",
    "        --------\n",
    "        \n",
    "        Returns:\n",
    "        numpy array of shape (batch_size * n_models, n_clusters, n_obs, n_variables) - contains the simulated hierarchical datasets\n",
    "        \"\"\"\n",
    "        \n",
    "        X = []\n",
    "        for b in range(batch_size):\n",
    "            prior_sample = self.draw_from_prior(n_clusters, mu0, tau20, alpha_t, beta_t, alpha_s, beta_s)\n",
    "            x_generated = self.gen_from_likelihood(prior_sample, n_obs)\n",
    "            X.append(x_generated)\n",
    "        return np.array(X)[...,np.newaxis]"
   ]
  },
  {
   "cell_type": "code",
   "execution_count": 5,
   "metadata": {
    "code_folding": [
     2,
     6,
     32,
     67
    ]
   },
   "outputs": [],
   "source": [
    "class MainSimulator:\n",
    "    \n",
    "    def __init__(self, simulator):\n",
    "        \n",
    "        self.simulator = simulator\n",
    "    \n",
    "    def draw_from_model_prior(self, batch_size, n_models, model_prior):\n",
    "        \"\"\"\n",
    "        Creates the sequence of models to be simulated from in the batch.\n",
    "        ----------\n",
    "        \n",
    "        Arguments:\n",
    "        batch_size     : int -- number of batches to be generated\n",
    "        n_models       : int -- number of models to be simulated from\n",
    "        model_prior    : list -- prior model probabilities\n",
    "        --------\n",
    "        \n",
    "        Returns:\n",
    "        array of shape (batch_size) - array of indices corresponding to the sampled model from p(M).\n",
    "        \"\"\"\n",
    "        \n",
    "        # create base list of model indices\n",
    "        model_base_indices = [*range(n_models)]\n",
    "        \n",
    "        # uniform prior over model probabilities if no model prior given\n",
    "        if model_prior == None:\n",
    "            model_prior = [1/n_models] * n_models\n",
    "        \n",
    "        # generate sampling list of model indeces\n",
    "        model_indices = np.random.choice(model_base_indices, size=batch_size, p=model_prior)\n",
    "        return model_indices\n",
    "    \n",
    "    def simulate(self, batch_size, n_models, model_prior, \n",
    "                 n_clust_min=2, n_clust_max=100, n_obs_min=2, n_obs_max=200):\n",
    "        \"\"\"\n",
    "        Simulates a batch of hierarchical datasets.\n",
    "        ----------\n",
    "        \n",
    "        Arguments:\n",
    "        batch_size     : int -- number of datasets to be generated per batch\n",
    "        n_models       : int -- number of models to be simulated from\n",
    "        model_prior    : list -- prior model probabilities\n",
    "        n_clust_min    : int -- minimum number of clusters\n",
    "        n_clust_max    : int -- maximum number of cluster\n",
    "        n_obs_min      : int -- minimum number of observations\n",
    "        n_obs_max      : int -- maximum number of observations\n",
    "        --------\n",
    "        \n",
    "        Returns:\n",
    "        dict of {'X' : array of shape (batch_size, n_clusters, n_obs, n_variables),  \n",
    "                 'm' : array of shape (batch_size)}\n",
    "        \"\"\"\n",
    "        # Draw K and N (drawn values apply for all datasets in the batch)\n",
    "        n_clusters = np.random.randint(n_clust_min, n_clust_max+1)\n",
    "        n_obs = np.random.randint(n_obs_min, n_obs_max+1)\n",
    "        \n",
    "        # Draw sampling list of model indices\n",
    "        model_indices = self.draw_from_model_prior(batch_size, n_models, model_prior)\n",
    "        \n",
    "        # Prepare an array to hold simulations\n",
    "        X_gen = np.zeros((batch_size, n_clusters, n_obs, 1), dtype=np.float32)\n",
    "        \n",
    "        for b in range(batch_size):\n",
    "            X_gen[b] = self.simulator.generate_single(model_indices[b], n_clusters, n_obs)\n",
    "               \n",
    "        return {'X': X_gen, 'm': model_indices, 'n_clusters': n_clusters, 'n_obs': n_obs}\n",
    "    \n",
    "    def __call__(self, batch_size, n_models=2, model_prior=None, \n",
    "                 n_clust_min=2, n_clust_max=100, n_obs_min=2, n_obs_max=200):\n",
    "        return self.simulate(batch_size, n_models, model_prior, n_clust_min, n_clust_max, n_obs_min, n_obs_max)"
   ]
  },
  {
   "cell_type": "markdown",
   "metadata": {},
   "source": [
    "# Neural networks"
   ]
  },
  {
   "cell_type": "markdown",
   "metadata": {},
   "source": [
    "## Invariant Module"
   ]
  },
  {
   "cell_type": "code",
   "execution_count": 6,
   "metadata": {
    "code_folding": [
     3,
     25
    ]
   },
   "outputs": [],
   "source": [
    "class InvariantModule(tf.keras.Model):\n",
    "    \"\"\"Implements an invariant nn module as proposed by Bloem-Reddy and Teh (2019).\"\"\"\n",
    "\n",
    "    def __init__(self, model_settings, pooler=tf.reduce_mean):\n",
    "        \"\"\"\n",
    "        Creates an invariant function with mean pooling.\n",
    "        ----------\n",
    "        \n",
    "        Arguments:\n",
    "        model_settings : dict -- hyperparameter settings for the invariant module\n",
    "        \"\"\"\n",
    "        \n",
    "        super(InvariantModule, self).__init__()\n",
    "        \n",
    "        # Pre pooling network\n",
    "        self.pre_pooling_dense = tf.keras.Sequential([tf.keras.layers.Dense(**model_settings['dense_inv_pre_pooling_args'])\n",
    "                                                     for _ in range(model_settings['n_dense_inv'])])\n",
    "        \n",
    "        self.pooler = pooler\n",
    "        \n",
    "        # Post pooling network\n",
    "        self.post_pooling_dense = tf.keras.Sequential([tf.keras.layers.Dense(**model_settings['dense_inv_post_pooling_args'])\n",
    "                                                      for _ in range(model_settings['n_dense_inv'])])\n",
    "        \n",
    "            \n",
    "    def call(self, x):\n",
    "        \"\"\"\n",
    "        Transforms the input into an invariant representation.\n",
    "        ----------\n",
    "        \n",
    "        Arguments:\n",
    "        x : tf.Tensor of variable shape - 4-dimensional with (batch_size, n_clusters, n_obs, n_variables)\n",
    "                                          or 3-dimensional with (batch_size, n_clusters, inv_embedding)\n",
    "        --------\n",
    "        \n",
    "        Returns:\n",
    "        out: tf.Tensor of variable shape - either 3-dimensional (when input is 4D) with (batch_size, n_clusters, inv_embedding)\n",
    "                                           or 2-dimensional (when input is 3D) with (batch_size, inv_embedding)\n",
    "        \"\"\"\n",
    "        \n",
    "        # Embed input before pooling\n",
    "        x_emb = self.pre_pooling_dense(x)\n",
    "        \n",
    "        # Get dimensionality of lowest exchangeable level before pooling and repeat\n",
    "        # shape of rep_N is (batch_size, K, 1) or (batch_size, 1) depending on input dimensions\n",
    "        log_N = np.log(x_emb.shape[-2])\n",
    "        if len(x.shape) == 4:\n",
    "            rep_N = np.repeat([log_N], x_emb.shape[0]*x_emb.shape[1]).reshape(x_emb.shape[0], x_emb.shape[1], 1)\n",
    "        else:\n",
    "            rep_N = np.repeat([log_N], x_emb.shape[0])[:, np.newaxis]\n",
    "        rep_N = tf.convert_to_tensor(rep_N, dtype=tf.float32)\n",
    "        \n",
    "        # Perform mean pooling, shape of pooled is (batch_size, K, dense_out)\n",
    "        pooled = self.pooler(x_emb, axis=-2) # always reduce dimensionality of the lowest exchangable data level \n",
    "        pooled = tf.concat((pooled, rep_N), axis=-1) # concatenate to preserve info about N\n",
    "        \n",
    "        # Increase representational power\n",
    "        out = self.post_pooling_dense(pooled)\n",
    "        return out"
   ]
  },
  {
   "cell_type": "code",
   "execution_count": 7,
   "metadata": {
    "code_folding": [
     5,
     29
    ]
   },
   "outputs": [],
   "source": [
    "class HierarchicalNetwork(tf.keras.Model):\n",
    "    \"\"\"\n",
    "    Implements a network that can process hierarchical data.\n",
    "    \"\"\"\n",
    "    \n",
    "    def __init__(self, model_settings):\n",
    "        \"\"\"\n",
    "        Creates a hierarchical Network consisting of two stacked invariant modules.\n",
    "        ----------\n",
    "        \n",
    "        Arguments:\n",
    "        model_settings : dict -- hyperparameter settings for the invariant module\n",
    "        \"\"\"\n",
    "        \n",
    "        super(HierarchicalNetwork, self).__init__()\n",
    "        \n",
    "        self.inv_4d = InvariantModule(model_settings)\n",
    "        self.inv_3d = InvariantModule(model_settings)\n",
    "        \n",
    "        # The final layer to output model evidences\n",
    "        if model_settings['n_models'] == 2: # Binary Classification\n",
    "            n_out = 1 \n",
    "            act_out = \"sigmoid\"\n",
    "        else:\n",
    "            n_out = model_settings['n_models']\n",
    "            act_out = \"softmax\"\n",
    "        self.model_probs_layer = tf.keras.layers.Dense(n_out, activation=act_out)\n",
    "        \n",
    "        \n",
    "    def call(self, x):\n",
    "        \"\"\"\n",
    "        Transforms the 4-dimensional input into model probabilities.\n",
    "        ----------\n",
    "        \n",
    "        Arguments:\n",
    "        x : tf.Tensor of shape (batch_size, n_clusters, n_obs, n_variables)\n",
    "        --------\n",
    "        \n",
    "        Returns:\n",
    "        model_probs : tf.Tensor of shape (batch_size, n_models) -- the model posterior probabilities\n",
    "        \"\"\"\n",
    "        \n",
    "        x_3d = self.inv_4d(x)\n",
    "        x_2d = self.inv_3d(x_3d)\n",
    "        model_probs = self.model_probs_layer(x_2d)\n",
    "        return model_probs"
   ]
  },
  {
   "cell_type": "markdown",
   "metadata": {},
   "source": [
    "### Experiments"
   ]
  },
  {
   "cell_type": "markdown",
   "metadata": {},
   "source": [
    "#### Network settings"
   ]
  },
  {
   "cell_type": "code",
   "execution_count": 8,
   "metadata": {},
   "outputs": [],
   "source": [
    "# Network settings for all experiments\n",
    "model_settings = {\n",
    "    'n_models'                    : 2,\n",
    "    'dense_inv_pre_pooling_args'  : dict(units=4, activation='elu', kernel_initializer='glorot_normal'),\n",
    "    'dense_inv_post_pooling_args' : dict(units=64, activation='elu', kernel_initializer='glorot_normal'),\n",
    "    'dense_equiv_args'            : dict(units=32, activation='elu', kernel_initializer='glorot_normal'),\n",
    "    'n_dense_inv'                 : 2,\n",
    "    'n_dense_equiv'               : 2\n",
    "}"
   ]
  },
  {
   "cell_type": "markdown",
   "metadata": {},
   "source": [
    "#### Helper function for online training"
   ]
  },
  {
   "cell_type": "code",
   "execution_count": 9,
   "metadata": {
    "code_folding": [
     0
    ]
   },
   "outputs": [],
   "source": [
    "def train_online(model, optimizer, simulator, loss_fun, iterations, epochs, batch_size):\n",
    "    \"\"\"\n",
    "    Trains a Hierarchical Network.\n",
    "    ----------\n",
    "        \n",
    "    Arguments:\n",
    "    model      : the hierarchical model to be trained\n",
    "    optimizer  : the algorithm that optimizes the neural network\n",
    "    simulator  : the simulator that generates data from the hierarchical models\n",
    "    loss_fun   : the loss function that shall be minimized during training\n",
    "    iterations : int -- number of iterations per epoch\n",
    "    epochs     : int -- number of epochs \n",
    "    batch_size : int -- batch_size for training\n",
    "    --------\n",
    "        \n",
    "    Returns:\n",
    "    losses : numpy array of shape (iterations * epochs)\n",
    "    \"\"\"\n",
    "    \n",
    "    losses = dict()\n",
    "    # For loop through epochs\n",
    "    for ep in range(1, epochs+1):\n",
    "        # Init losses for this epoch\n",
    "        losses[ep] = []\n",
    "        with tqdm(total=iterations, desc='Training epoch {}'.format(ep)) as p_bar:\n",
    "            for it in range(1, iterations+1):\n",
    "                # Simulate batch of datasets\n",
    "                batch = simulator(batch_size)\n",
    "                with tf.GradientTape() as tape:\n",
    "                    # Forward pass\n",
    "                    preds_m = model(batch[\"X\"])[:,0] # [:,0] to match shape of predictions with true indices\n",
    "                    batch_m = batch[\"m\"]\n",
    "                    loss = loss_fun(batch_m, preds_m)\n",
    "                # One step backprop\n",
    "                gradients = tape.gradient(loss, model.trainable_variables)\n",
    "                optimizer.apply_gradients(zip(gradients, model.trainable_variables))\n",
    "\n",
    "                # Store losses\n",
    "                losses[ep].append(loss)\n",
    "                \n",
    "                # Update progess bar\n",
    "                p_bar.set_postfix_str(\"Epoch {0},Iteration {1},Loss: {2:.3f},Running Loss: {3:.3f}\"\n",
    "                                          .format(ep, it + 1, loss, np.mean(losses[ep])))\n",
    "                p_bar.update(1)\n",
    "    \n",
    "    return losses"
   ]
  },
  {
   "cell_type": "markdown",
   "metadata": {},
   "source": [
    "#### Training with fixed number of clusters and observations"
   ]
  },
  {
   "cell_type": "code",
   "execution_count": 10,
   "metadata": {},
   "outputs": [],
   "source": [
    "batch_size = 32\n",
    "iterations = 1000\n",
    "epochs = 10\n",
    "\n",
    "# Optimizer hyperparameters\n",
    "starter_learning_rate = 0.0005\n",
    "decay_steps = 1000\n",
    "decay_rate = 0.95\n",
    "\n",
    "learning_rate = tf.keras.optimizers.schedules.ExponentialDecay(\n",
    "    starter_learning_rate, decay_steps, decay_rate, staircase=False\n",
    ")\n",
    "optimizer = tf.keras.optimizers.Adam(learning_rate=0.0005)\n",
    "simulator = partial(MainSimulator(HierarchicalNormalSimulator()), \n",
    "                    n_clust_min=30, n_clust_max=30, n_obs_min=50, n_obs_max=50)\n",
    "loss_fun = tf.losses.BinaryCrossentropy()\n",
    "model = HierarchicalNetwork(model_settings)"
   ]
  },
  {
   "cell_type": "code",
   "execution_count": 11,
   "metadata": {
    "scrolled": true
   },
   "outputs": [
    {
     "data": {
      "application/vnd.jupyter.widget-view+json": {
       "model_id": "d137f5e34be0479799fbca6643978d91",
       "version_major": 2,
       "version_minor": 0
      },
      "text/plain": [
       "Training epoch 1:   0%|          | 0/1000 [00:00<?, ?it/s]"
      ]
     },
     "metadata": {},
     "output_type": "display_data"
    },
    {
     "data": {
      "application/vnd.jupyter.widget-view+json": {
       "model_id": "53e414c032f8482789e1f2fb4cfe010a",
       "version_major": 2,
       "version_minor": 0
      },
      "text/plain": [
       "Training epoch 2:   0%|          | 0/1000 [00:00<?, ?it/s]"
      ]
     },
     "metadata": {},
     "output_type": "display_data"
    },
    {
     "data": {
      "application/vnd.jupyter.widget-view+json": {
       "model_id": "932b4ea08e7f4e2c976b1fb9fd44a60a",
       "version_major": 2,
       "version_minor": 0
      },
      "text/plain": [
       "Training epoch 3:   0%|          | 0/1000 [00:00<?, ?it/s]"
      ]
     },
     "metadata": {},
     "output_type": "display_data"
    },
    {
     "data": {
      "application/vnd.jupyter.widget-view+json": {
       "model_id": "99f441cc81bc4ea89f11582b21c7bfd8",
       "version_major": 2,
       "version_minor": 0
      },
      "text/plain": [
       "Training epoch 4:   0%|          | 0/1000 [00:00<?, ?it/s]"
      ]
     },
     "metadata": {},
     "output_type": "display_data"
    },
    {
     "data": {
      "application/vnd.jupyter.widget-view+json": {
       "model_id": "cc423e54e00143e39b53e766dab3157b",
       "version_major": 2,
       "version_minor": 0
      },
      "text/plain": [
       "Training epoch 5:   0%|          | 0/1000 [00:00<?, ?it/s]"
      ]
     },
     "metadata": {},
     "output_type": "display_data"
    },
    {
     "data": {
      "application/vnd.jupyter.widget-view+json": {
       "model_id": "633a19f1704a443984eb3da30c61a0c4",
       "version_major": 2,
       "version_minor": 0
      },
      "text/plain": [
       "Training epoch 6:   0%|          | 0/1000 [00:00<?, ?it/s]"
      ]
     },
     "metadata": {},
     "output_type": "display_data"
    },
    {
     "data": {
      "application/vnd.jupyter.widget-view+json": {
       "model_id": "dd531e0a2b7b41ee9db3ffb5cafd05b3",
       "version_major": 2,
       "version_minor": 0
      },
      "text/plain": [
       "Training epoch 7:   0%|          | 0/1000 [00:00<?, ?it/s]"
      ]
     },
     "metadata": {},
     "output_type": "display_data"
    },
    {
     "data": {
      "application/vnd.jupyter.widget-view+json": {
       "model_id": "c23f50560fff417f8974b9e938986b17",
       "version_major": 2,
       "version_minor": 0
      },
      "text/plain": [
       "Training epoch 8:   0%|          | 0/1000 [00:00<?, ?it/s]"
      ]
     },
     "metadata": {},
     "output_type": "display_data"
    },
    {
     "data": {
      "application/vnd.jupyter.widget-view+json": {
       "model_id": "86ac0d4b486a46f7a047e3e161e442d7",
       "version_major": 2,
       "version_minor": 0
      },
      "text/plain": [
       "Training epoch 9:   0%|          | 0/1000 [00:00<?, ?it/s]"
      ]
     },
     "metadata": {},
     "output_type": "display_data"
    },
    {
     "data": {
      "application/vnd.jupyter.widget-view+json": {
       "model_id": "6fdb5e7cd4034832be49b4bbf5e61acf",
       "version_major": 2,
       "version_minor": 0
      },
      "text/plain": [
       "Training epoch 10:   0%|          | 0/1000 [00:00<?, ?it/s]"
      ]
     },
     "metadata": {},
     "output_type": "display_data"
    },
    {
     "name": "stdout",
     "output_type": "stream",
     "text": [
      "Wall time: 2min 36s\n"
     ]
    }
   ],
   "source": [
    "%%time\n",
    "losses = train_online(model, optimizer, simulator, loss_fun, iterations, epochs, batch_size)"
   ]
  },
  {
   "cell_type": "code",
   "execution_count": 12,
   "metadata": {},
   "outputs": [],
   "source": [
    "# Validation\n",
    "n_val = 5000\n",
    "val_data = simulator(n_val)"
   ]
  },
  {
   "cell_type": "code",
   "execution_count": 13,
   "metadata": {
    "scrolled": true
   },
   "outputs": [
    {
     "data": {
      "image/png": "[encoded data removed]",
      "text/plain": [
       "<Figure size 1152x576 with 5 Axes>"
      ]
     },
     "metadata": {
      "needs_background": "light"
     },
     "output_type": "display_data"
    }
   ],
   "source": [
    "perf_tester(model, val_data, n_cal_bins=10)"
   ]
  },
  {
   "cell_type": "markdown",
   "metadata": {
    "code_folding": [
     0,
     39,
     60,
     88,
     116
    ]
   },
   "source": [
    "#### Training with fixed numbers of clusters and variable number of observations"
   ]
  },
  {
   "cell_type": "code",
   "execution_count": 14,
   "metadata": {},
   "outputs": [],
   "source": [
    "# Experimental variables setup\n",
    "\n",
    "n_clust_min = 30\n",
    "n_clust_max =30\n",
    "n_obs_min = 1\n",
    "n_obs_max = 200"
   ]
  },
  {
   "cell_type": "code",
   "execution_count": 15,
   "metadata": {},
   "outputs": [],
   "source": [
    "# NN setup\n",
    "learning_rate = tf.keras.optimizers.schedules.ExponentialDecay(\n",
    "    starter_learning_rate, decay_steps, decay_rate, staircase=False\n",
    ")\n",
    "optimizer = tf.keras.optimizers.Adam(learning_rate=0.0005)\n",
    "simulator = partial(MainSimulator(HierarchicalNormalSimulator()), \n",
    "                    n_clust_min=n_clust_min, n_clust_max=n_clust_max, \n",
    "                    n_obs_min=n_obs_min, n_obs_max=n_obs_max)\n",
    "loss_fun = tf.losses.BinaryCrossentropy()\n",
    "model = HierarchicalNetwork(model_settings)"
   ]
  },
  {
   "cell_type": "code",
   "execution_count": 16,
   "metadata": {},
   "outputs": [
    {
     "data": {
      "application/vnd.jupyter.widget-view+json": {
       "model_id": "9ef27970f6eb4406933558dd9156c4a2",
       "version_major": 2,
       "version_minor": 0
      },
      "text/plain": [
       "Training epoch 1:   0%|          | 0/1000 [00:00<?, ?it/s]"
      ]
     },
     "metadata": {},
     "output_type": "display_data"
    },
    {
     "data": {
      "application/vnd.jupyter.widget-view+json": {
       "model_id": "ee4f0decc7ae403daa506c0f04401a04",
       "version_major": 2,
       "version_minor": 0
      },
      "text/plain": [
       "Training epoch 2:   0%|          | 0/1000 [00:00<?, ?it/s]"
      ]
     },
     "metadata": {},
     "output_type": "display_data"
    },
    {
     "data": {
      "application/vnd.jupyter.widget-view+json": {
       "model_id": "b4e46f35ed624b27bd3093e75f0156cf",
       "version_major": 2,
       "version_minor": 0
      },
      "text/plain": [
       "Training epoch 3:   0%|          | 0/1000 [00:00<?, ?it/s]"
      ]
     },
     "metadata": {},
     "output_type": "display_data"
    },
    {
     "data": {
      "application/vnd.jupyter.widget-view+json": {
       "model_id": "22be764af48b495ba2a329735d5562e9",
       "version_major": 2,
       "version_minor": 0
      },
      "text/plain": [
       "Training epoch 4:   0%|          | 0/1000 [00:00<?, ?it/s]"
      ]
     },
     "metadata": {},
     "output_type": "display_data"
    },
    {
     "data": {
      "application/vnd.jupyter.widget-view+json": {
       "model_id": "e472298299114eec99fbf1111447d0a0",
       "version_major": 2,
       "version_minor": 0
      },
      "text/plain": [
       "Training epoch 5:   0%|          | 0/1000 [00:00<?, ?it/s]"
      ]
     },
     "metadata": {},
     "output_type": "display_data"
    },
    {
     "data": {
      "application/vnd.jupyter.widget-view+json": {
       "model_id": "813bb054c24a4415af2b6e0942bcc915",
       "version_major": 2,
       "version_minor": 0
      },
      "text/plain": [
       "Training epoch 6:   0%|          | 0/1000 [00:00<?, ?it/s]"
      ]
     },
     "metadata": {},
     "output_type": "display_data"
    },
    {
     "data": {
      "application/vnd.jupyter.widget-view+json": {
       "model_id": "d17923e151b743c8b1998990e7047d4b",
       "version_major": 2,
       "version_minor": 0
      },
      "text/plain": [
       "Training epoch 7:   0%|          | 0/1000 [00:00<?, ?it/s]"
      ]
     },
     "metadata": {},
     "output_type": "display_data"
    },
    {
     "data": {
      "application/vnd.jupyter.widget-view+json": {
       "model_id": "6ed4cd3cf01e493e83987e4c7804df16",
       "version_major": 2,
       "version_minor": 0
      },
      "text/plain": [
       "Training epoch 8:   0%|          | 0/1000 [00:00<?, ?it/s]"
      ]
     },
     "metadata": {},
     "output_type": "display_data"
    },
    {
     "data": {
      "application/vnd.jupyter.widget-view+json": {
       "model_id": "f9962656c6c945c9b8c26731e2344b84",
       "version_major": 2,
       "version_minor": 0
      },
      "text/plain": [
       "Training epoch 9:   0%|          | 0/1000 [00:00<?, ?it/s]"
      ]
     },
     "metadata": {},
     "output_type": "display_data"
    },
    {
     "data": {
      "application/vnd.jupyter.widget-view+json": {
       "model_id": "cc96ea4af8f4414aba7f4b503ddabdfa",
       "version_major": 2,
       "version_minor": 0
      },
      "text/plain": [
       "Training epoch 10:   0%|          | 0/1000 [00:00<?, ?it/s]"
      ]
     },
     "metadata": {},
     "output_type": "display_data"
    },
    {
     "name": "stdout",
     "output_type": "stream",
     "text": [
      "Wall time: 3min 21s\n"
     ]
    }
   ],
   "source": [
    "%%time\n",
    "losses = train_online(model, optimizer, simulator, loss_fun, iterations, epochs, batch_size)"
   ]
  },
  {
   "cell_type": "code",
   "execution_count": 17,
   "metadata": {},
   "outputs": [],
   "source": [
    "# Validation setup\n",
    "n_val_total = 10000\n",
    "n_val_per_setting = int(n_val_total/(n_obs_max+1-n_obs_min))\n",
    "simulator = MainSimulator(HierarchicalNormalSimulator())"
   ]
  },
  {
   "cell_type": "code",
   "execution_count": 18,
   "metadata": {},
   "outputs": [],
   "source": [
    "# Generate data for each setting\n",
    "\n",
    "# Create list of validation data\n",
    "val_data = []\n",
    "for i in range(n_obs_min, n_obs_max+1):\n",
    "    sim_data = simulator(n_val_per_setting, n_clust_min=n_clust_min, n_clust_max=n_clust_max, \n",
    "                         n_obs_min=i, n_obs_max=i)\n",
    "    val_data.append(sim_data)"
   ]
  },
  {
   "cell_type": "code",
   "execution_count": 19,
   "metadata": {},
   "outputs": [],
   "source": [
    "def plot_eces(m_true, m_pred, n_obs_min, n_obs_max, n_bins):\n",
    "    \"\"\"Helper function to plot ece as a function of N and L.\"\"\"\n",
    "\n",
    "    f, ax = plt.subplots(1, 1, figsize=(8, 6))\n",
    "    \n",
    "    n_obs_points = np.arange(n_obs_min, n_obs_max+1)\n",
    "    prob_true, prob_pred, cal_err = ([] for i in range(3))\n",
    "    \n",
    "    for i in n_obs_points-1:\n",
    "        prob_true_i, prob_pred_i = calibration_curve(m_true[i], m_pred[i], n_bins=n_bins)\n",
    "        prob_true.append(prob_true_i)\n",
    "        prob_pred.append(prob_pred_i)\n",
    "        cal_err_i = np.mean(np.abs(prob_true[i] - prob_pred[i]))\n",
    "        cal_err.append(cal_err_i)\n",
    "    ax.plot(n_obs_points, cal_err)\n",
    "    mean_ece = np.mean(cal_err)\n",
    "    sd_ece = np.std(cal_err)\n",
    "    plt.axhline(y=mean_ece, color='tab:red')\n",
    "    plt.fill_between(n_obs_points, mean_ece-3*sd_ece, mean_ece+3*sd_ece, \n",
    "                     color='tab:red', alpha=0.1)\n",
    "    ax.set_xlim([0, n_obs_max])\n",
    "    ax.set_ylim([0, 1])\n",
    "    ax.set_xlabel('N')\n",
    "    ax.set_ylabel('ECE')\n",
    "    ax.text(0.1, 0.9,  'Mean ECE = {0:.3f}'.format(mean_ece),\n",
    "                        horizontalalignment='left',\n",
    "                        verticalalignment='center',\n",
    "                        transform=ax.transAxes,\n",
    "                        size=12)\n",
    "    ax.text(0.1, 0.85,  'Shaded region: Mean ECE +/- 3SD ',\n",
    "                        horizontalalignment='left',\n",
    "                        verticalalignment='center',\n",
    "                        transform=ax.transAxes,\n",
    "                        size=12)    \n",
    "    ax.set_title('Expected Calibration Error (ECE)')    \n",
    "\n",
    "\n",
    "def perf_tester(model, val_data, n_obs_min, n_obs_max, n_bootstrap=100, n_cal_bins=15):\n",
    "    \"\"\"Utility function to test the performance of the model.\"\"\"\n",
    "    \n",
    "    # Compute model predictions in chunks so GPU memory does not blow-up\n",
    "    m_soft, m_hard, m_true = ([] for i in range(3))\n",
    "    \n",
    "    for i in range(n_obs_min-1, n_obs_max):\n",
    "        m_soft_i = tf.concat([model(x_chunk) for x_chunk in tf.split(val_data[i]['X'], 5)], axis=0).numpy()\n",
    "        m_soft.append(m_soft_i)\n",
    "        m_hard_i = (m_soft[i] > 0.5).astype(np.int32)\n",
    "        m_hard.append(m_hard_i)\n",
    "        m_true_i = val_data[i]['m']\n",
    "        m_true.append(m_true_i)\n",
    "\n",
    "    \n",
    "    # Plot stuff\n",
    "    plot_eces(m_true, m_soft, n_obs_min, n_obs_max, n_cal_bins)"
   ]
  },
  {
   "cell_type": "code",
   "execution_count": 20,
   "metadata": {
    "scrolled": false
   },
   "outputs": [
    {
     "name": "stdout",
     "output_type": "stream",
     "text": [
      "Wall time: 3.85 s\n"
     ]
    },
    {
     "data": {
      "image/png": "[encoded data removed]",
      "text/plain": [
       "<Figure size 576x432 with 1 Axes>"
      ]
     },
     "metadata": {
      "needs_background": "light"
     },
     "output_type": "display_data"
    }
   ],
   "source": [
    "%%time\n",
    "\n",
    "perf_tester(model, val_data, n_obs_min, n_obs_max)"
   ]
  },
  {
   "cell_type": "markdown",
   "metadata": {},
   "source": [
    "#### Training with variable numbers of clusters and observations"
   ]
  },
  {
   "cell_type": "code",
   "execution_count": 21,
   "metadata": {},
   "outputs": [],
   "source": [
    "# Setup\n",
    "\n",
    "n_clust_min = 1\n",
    "n_clust_max = 50\n",
    "n_obs_min = 1\n",
    "n_obs_max = 200"
   ]
  },
  {
   "cell_type": "code",
   "execution_count": 22,
   "metadata": {},
   "outputs": [],
   "source": [
    "learning_rate = tf.keras.optimizers.schedules.ExponentialDecay(\n",
    "    starter_learning_rate, decay_steps, decay_rate, staircase=False\n",
    ")\n",
    "optimizer = tf.keras.optimizers.Adam(learning_rate=0.0005)\n",
    "simulator = partial(MainSimulator(HierarchicalNormalSimulator()), \n",
    "                    n_clust_min=n_clust_min, n_clust_max=n_clust_max, \n",
    "                    n_obs_min=n_obs_min, n_obs_max=n_obs_max)\n",
    "loss_fun = tf.losses.BinaryCrossentropy()\n",
    "model = HierarchicalNetwork(model_settings)"
   ]
  },
  {
   "cell_type": "code",
   "execution_count": 23,
   "metadata": {},
   "outputs": [
    {
     "data": {
      "application/vnd.jupyter.widget-view+json": {
       "model_id": "65fdfce57a784d35b29fc94fc9beebeb",
       "version_major": 2,
       "version_minor": 0
      },
      "text/plain": [
       "Training epoch 1:   0%|          | 0/1000 [00:00<?, ?it/s]"
      ]
     },
     "metadata": {},
     "output_type": "display_data"
    },
    {
     "data": {
      "application/vnd.jupyter.widget-view+json": {
       "model_id": "9e2535c6901d4d5684f7265e67866b70",
       "version_major": 2,
       "version_minor": 0
      },
      "text/plain": [
       "Training epoch 2:   0%|          | 0/1000 [00:00<?, ?it/s]"
      ]
     },
     "metadata": {},
     "output_type": "display_data"
    },
    {
     "data": {
      "application/vnd.jupyter.widget-view+json": {
       "model_id": "3bd9a183b1c44c6c876608190fa0ff8b",
       "version_major": 2,
       "version_minor": 0
      },
      "text/plain": [
       "Training epoch 3:   0%|          | 0/1000 [00:00<?, ?it/s]"
      ]
     },
     "metadata": {},
     "output_type": "display_data"
    },
    {
     "data": {
      "application/vnd.jupyter.widget-view+json": {
       "model_id": "c38b5da65fda47f6a57811e333543948",
       "version_major": 2,
       "version_minor": 0
      },
      "text/plain": [
       "Training epoch 4:   0%|          | 0/1000 [00:00<?, ?it/s]"
      ]
     },
     "metadata": {},
     "output_type": "display_data"
    },
    {
     "data": {
      "application/vnd.jupyter.widget-view+json": {
       "model_id": "d29259bca83c4a698224df154329232e",
       "version_major": 2,
       "version_minor": 0
      },
      "text/plain": [
       "Training epoch 5:   0%|          | 0/1000 [00:00<?, ?it/s]"
      ]
     },
     "metadata": {},
     "output_type": "display_data"
    },
    {
     "data": {
      "application/vnd.jupyter.widget-view+json": {
       "model_id": "5da3b695fc914c7aa09123bfce3ea621",
       "version_major": 2,
       "version_minor": 0
      },
      "text/plain": [
       "Training epoch 6:   0%|          | 0/1000 [00:00<?, ?it/s]"
      ]
     },
     "metadata": {},
     "output_type": "display_data"
    },
    {
     "data": {
      "application/vnd.jupyter.widget-view+json": {
       "model_id": "f2863119deeb46f797c8bb5042770ecd",
       "version_major": 2,
       "version_minor": 0
      },
      "text/plain": [
       "Training epoch 7:   0%|          | 0/1000 [00:00<?, ?it/s]"
      ]
     },
     "metadata": {},
     "output_type": "display_data"
    },
    {
     "data": {
      "application/vnd.jupyter.widget-view+json": {
       "model_id": "c5b0f2e9cfe14dc18edcf905a40a5871",
       "version_major": 2,
       "version_minor": 0
      },
      "text/plain": [
       "Training epoch 8:   0%|          | 0/1000 [00:00<?, ?it/s]"
      ]
     },
     "metadata": {},
     "output_type": "display_data"
    },
    {
     "data": {
      "application/vnd.jupyter.widget-view+json": {
       "model_id": "dd7a7282dacd4111bcc1e1fd2ab8b704",
       "version_major": 2,
       "version_minor": 0
      },
      "text/plain": [
       "Training epoch 9:   0%|          | 0/1000 [00:00<?, ?it/s]"
      ]
     },
     "metadata": {},
     "output_type": "display_data"
    },
    {
     "data": {
      "application/vnd.jupyter.widget-view+json": {
       "model_id": "8441557c5abb439f9b9439fb2005d32e",
       "version_major": 2,
       "version_minor": 0
      },
      "text/plain": [
       "Training epoch 10:   0%|          | 0/1000 [00:00<?, ?it/s]"
      ]
     },
     "metadata": {},
     "output_type": "display_data"
    },
    {
     "name": "stdout",
     "output_type": "stream",
     "text": [
      "Wall time: 3min 17s\n"
     ]
    }
   ],
   "source": [
    "%%time\n",
    "losses = train_online(model, optimizer, simulator, loss_fun, iterations, epochs, batch_size)"
   ]
  },
  {
   "cell_type": "code",
   "execution_count": 24,
   "metadata": {},
   "outputs": [],
   "source": [
    "### FOR TESTING ###\n",
    "\n",
    "#n_obs_max = 20\n",
    "#n_val_total = 1000"
   ]
  },
  {
   "cell_type": "code",
   "execution_count": 25,
   "metadata": {},
   "outputs": [
    {
     "name": "stdout",
     "output_type": "stream",
     "text": [
      "Number of settings = 10000\n",
      "Number of validation datasets per setting = 50\n"
     ]
    }
   ],
   "source": [
    "# Validation setup\n",
    "n_val_total = 500000 # COMMENT OUT FOR TESTING\n",
    "n_val_settings = (n_obs_max+1-n_obs_min)*(n_clust_max+1-n_clust_min)\n",
    "print('Number of settings = {}'.format(n_val_settings))\n",
    "n_val_per_setting = int(n_val_total/n_val_settings)\n",
    "print('Number of validation datasets per setting = {}'.format(n_val_per_setting))\n",
    "simulator = MainSimulator(HierarchicalNormalSimulator())"
   ]
  },
  {
   "cell_type": "code",
   "execution_count": 26,
   "metadata": {},
   "outputs": [
    {
     "name": "stdout",
     "output_type": "stream",
     "text": [
      "Wall time: 47.4 s\n"
     ]
    }
   ],
   "source": [
    "%%time\n",
    "# Generate data for each setting\n",
    "\n",
    "# Create list of validation data\n",
    "val_data = []\n",
    "for l in range(n_clust_min, n_clust_max+1):\n",
    "    for n in range(n_obs_min, n_obs_max+1):\n",
    "        sim_data = simulator(n_val_per_setting, n_clust_min=l, n_clust_max=l, \n",
    "                         n_obs_min=n, n_obs_max=n)\n",
    "        val_data.append(sim_data)"
   ]
  },
  {
   "cell_type": "code",
   "execution_count": null,
   "metadata": {},
   "outputs": [],
   "source": [
    "# to do: Berechnung der eces innerhalb des Loops! \n",
    "# -> Dann speichern in Matrix und das ganze in eine Funktion (compute_eces?) packen, die die Matrix returned\n",
    "# dann werden auch die ganzen appends unnötig\n",
    "# Matrix nehmen wir als Grundlage für's Plotting\n",
    "# insgesamt überall 5.000 (noch besser: 10.000) Simulationen pro Kombination!"
   ]
  },
  {
   "cell_type": "code",
   "execution_count": 27,
   "metadata": {},
   "outputs": [],
   "source": [
    "def plot_eces(m_true, m_pred, n_val_settings, n_clust_min, n_clust_max, n_obs_min, n_obs_max, n_bins):\n",
    "    \"\"\"Helper function to plot ece as a function of N and L.\"\"\"\n",
    "    \n",
    "    # Prepare objects\n",
    "    f = plt.figure(figsize=(16, 12))\n",
    "    ax = plt.axes(projection='3d')\n",
    "    \n",
    "    n_clust_points = np.arange(n_clust_min, n_clust_max+1)\n",
    "    n_obs_points = np.arange(n_obs_min, n_obs_max+1)\n",
    "    prob_true, prob_pred, cal_err = ([] for i in range(3))\n",
    "    \n",
    "    # Calculate ECEs\n",
    "    for i in range(n_val_settings):\n",
    "        prob_true_i, prob_pred_i = calibration_curve(m_true[i], m_pred[i], n_bins=n_bins)\n",
    "        prob_true.append(prob_true_i)\n",
    "        prob_pred.append(prob_pred_i)\n",
    "        cal_err_i = np.mean(np.abs(prob_true[i] - prob_pred[i]))\n",
    "        cal_err.append(cal_err_i)\n",
    "    \n",
    "    # Plot\n",
    "    n_clust_grid, n_obs_grid = np.meshgrid(n_clust_points, n_obs_points)\n",
    "    cal_err_grid = np.reshape(cal_err, (-1, n_clust_max))\n",
    "    ax.plot_surface(n_clust_grid, n_obs_grid, cal_err_grid, cmap='viridis', edgecolor='none')\n",
    "    \n",
    "    mean_ece = np.mean(cal_err)\n",
    "    sd_ece = np.std(cal_err)\n",
    "    print('Mean ECE = {}'.format(mean_ece))\n",
    "    print('SD around mean = {}'.format(sd_ece))\n",
    "    \n",
    "#    mean_ece_grid = np.reshape(np.repeat(mean_ece, n_val_settings), (-1, n_clust_max))\n",
    "#    ax.plot_surface(n_clust_grid, n_obs_grid, mean_ece_grid, color='tab:red')\n",
    "#    plt.fill_between(n_obs_points, mean_ece-3*sd_ece, mean_ece+3*sd_ece, \n",
    "#                     color='tab:red', alpha=0.1)\n",
    "\n",
    "    ax.elev = 15\n",
    "    ax.set_xlim([0, n_clust_max])\n",
    "    ax.set_ylim([n_obs_max, 0])\n",
    "    ax.set_zlim([0, 1])\n",
    "    ax.set_xlabel('L')\n",
    "    ax.set_ylabel('N')    \n",
    "    ax.set_zlabel('ECE')\n",
    "#    ax.invert_yaxis()\n",
    "#    ax.text(0.1, 0.1, 0.9,  'Mean ECE = {0:.3f}'.format(mean_ece),\n",
    "#                        horizontalalignment='left',\n",
    "#                        verticalalignment='center',\n",
    "#                        transform=ax.transAxes,\n",
    "#                        size=12)\n",
    "#    ax.text(0.1, 0.1, 0.85,  'Shaded region: Mean ECE +/- 3SD ',\n",
    "#                        horizontalalignment='left',\n",
    "#                        verticalalignment='center',\n",
    "#                       transform=ax.transAxes,\n",
    "#                      size=12)    \n",
    "    ax.set_title('Expected Calibration Error (ECE)')    \n",
    "\n",
    "\n",
    "def perf_tester(model, val_data, n_val_settings, n_clust_min, n_clust_max, n_obs_min, n_obs_max, n_bootstrap=100, n_cal_bins=15):\n",
    "    \"\"\"Utility function to test the performance of the model.\"\"\"\n",
    "\n",
    "\n",
    "    m_soft, m_hard, m_true = ([] for i in range(3))\n",
    "    \n",
    "    for i in range(n_val_settings):\n",
    "        m_soft_i = model(val_data[i]['X']).numpy()\n",
    "        m_soft.append(m_soft_i)          \n",
    "        m_hard_i = (m_soft[i] > 0.5).astype(np.int32)\n",
    "        m_hard.append(m_hard_i)\n",
    "        m_true_i = val_data[i]['m']\n",
    "        m_true.append(m_true_i)\n",
    "\n",
    "\n",
    "    # Plot stuff\n",
    "    plot_eces(m_true, m_soft, n_val_settings, n_clust_min, n_clust_max, n_obs_min, n_obs_max, n_cal_bins)"
   ]
  },
  {
   "cell_type": "code",
   "execution_count": 28,
   "metadata": {},
   "outputs": [
    {
     "name": "stdout",
     "output_type": "stream",
     "text": [
      "Mean ECE = 0.20922832613350198\n",
      "SD around mean = 0.04544796375513453\n",
      "Wall time: 43.8 s\n"
     ]
    },
    {
     "data": {
      "image/png": "[encoded data removed]",
      "text/plain": [
       "<Figure size 1152x864 with 1 Axes>"
      ]
     },
     "metadata": {
      "needs_background": "light"
     },
     "output_type": "display_data"
    }
   ],
   "source": [
    "%%time\n",
    "\n",
    "perf_tester(model, val_data, n_val_settings, n_clust_min, n_clust_max, n_obs_min, n_obs_max)"
   ]
  },
  {
   "cell_type": "markdown",
   "metadata": {},
   "source": [
    "# Bridge Sampling Comparison - Bayes Factor Approximation"
   ]
  },
  {
   "cell_type": "markdown",
   "metadata": {},
   "source": [
    "## Generation of the datasets"
   ]
  },
  {
   "cell_type": "code",
   "execution_count": 82,
   "metadata": {},
   "outputs": [
    {
     "name": "stdout",
     "output_type": "stream",
     "text": [
      "Shape of the simulated datasets (batch_size, n_clusters, n_obs, n_variables): (100, 53, 94, 1)\n"
     ]
    }
   ],
   "source": [
    "np.random.seed(42)\n",
    "\n",
    "simulator = MainSimulator(HierarchicalNormalSimulator())\n",
    "\n",
    "test_data_bf = simulator(100)\n",
    "test_data_bf_true_indices = test_data_bf[\"m\"]\n",
    "test_data_bf = test_data_bf[\"X\"]\n",
    "\n",
    "print('Shape of the simulated datasets (batch_size, n_clusters, n_obs, n_variables): {}'.format(test_data_bf.shape))"
   ]
  },
  {
   "cell_type": "code",
   "execution_count": 20,
   "metadata": {},
   "outputs": [],
   "source": [
    "# save datasets\n",
    "np.save('test_data_bf', test_data_bf)\n",
    "np.save('test_data_bf_true_indices', test_data_bf_true_indices)"
   ]
  },
  {
   "cell_type": "markdown",
   "metadata": {},
   "source": [
    "## Bayes Factor computation by trained NN"
   ]
  },
  {
   "cell_type": "code",
   "execution_count": 83,
   "metadata": {},
   "outputs": [
    {
     "name": "stdout",
     "output_type": "stream",
     "text": [
      "Mean absolute error: 0.25682252645492554\n",
      "Accuracy: 0.81\n"
     ]
    }
   ],
   "source": [
    "# Apply trained model to the generated data\n",
    "# Reshape\n",
    "m_true = np.reshape(test_data_bf_true_indices, (100,1))\n",
    "\n",
    "# Predict\n",
    "m1_soft = model(test_data_bf) \n",
    "m1_hard = np.round(m1_soft)\n",
    "\n",
    "# Mean absolute error\n",
    "mae = np.mean(abs(m_true-m1_soft))\n",
    "print('Mean absolute error: {}'.format(mae))\n",
    "\n",
    "# Accuracy\n",
    "accuracy = (m_true == m1_hard).mean()\n",
    "print('Accuracy: {}'.format(accuracy))"
   ]
  },
  {
   "cell_type": "code",
   "execution_count": 84,
   "metadata": {},
   "outputs": [
    {
     "data": {
      "text/html": [
       "<div>\n",
       "<style scoped>\n",
       "    .dataframe tbody tr th:only-of-type {\n",
       "        vertical-align: middle;\n",
       "    }\n",
       "\n",
       "    .dataframe tbody tr th {\n",
       "        vertical-align: top;\n",
       "    }\n",
       "\n",
       "    .dataframe thead th {\n",
       "        text-align: right;\n",
       "    }\n",
       "</style>\n",
       "<table border=\"1\" class=\"dataframe\">\n",
       "  <thead>\n",
       "    <tr style=\"text-align: right;\">\n",
       "      <th></th>\n",
       "      <th>m_true</th>\n",
       "      <th>m0_soft</th>\n",
       "      <th>m1_soft</th>\n",
       "      <th>bf_hat</th>\n",
       "    </tr>\n",
       "  </thead>\n",
       "  <tbody>\n",
       "    <tr>\n",
       "      <th>0</th>\n",
       "      <td>0.0</td>\n",
       "      <td>0.808049</td>\n",
       "      <td>0.191951</td>\n",
       "      <td>0.237548</td>\n",
       "    </tr>\n",
       "    <tr>\n",
       "      <th>1</th>\n",
       "      <td>1.0</td>\n",
       "      <td>0.000004</td>\n",
       "      <td>0.999996</td>\n",
       "      <td>246722.765625</td>\n",
       "    </tr>\n",
       "    <tr>\n",
       "      <th>2</th>\n",
       "      <td>1.0</td>\n",
       "      <td>0.538564</td>\n",
       "      <td>0.461436</td>\n",
       "      <td>0.856791</td>\n",
       "    </tr>\n",
       "    <tr>\n",
       "      <th>3</th>\n",
       "      <td>0.0</td>\n",
       "      <td>0.837536</td>\n",
       "      <td>0.162464</td>\n",
       "      <td>0.193979</td>\n",
       "    </tr>\n",
       "    <tr>\n",
       "      <th>4</th>\n",
       "      <td>0.0</td>\n",
       "      <td>0.574344</td>\n",
       "      <td>0.425656</td>\n",
       "      <td>0.741117</td>\n",
       "    </tr>\n",
       "    <tr>\n",
       "      <th>5</th>\n",
       "      <td>0.0</td>\n",
       "      <td>0.517663</td>\n",
       "      <td>0.482337</td>\n",
       "      <td>0.931758</td>\n",
       "    </tr>\n",
       "    <tr>\n",
       "      <th>6</th>\n",
       "      <td>0.0</td>\n",
       "      <td>0.688939</td>\n",
       "      <td>0.311061</td>\n",
       "      <td>0.451507</td>\n",
       "    </tr>\n",
       "    <tr>\n",
       "      <th>7</th>\n",
       "      <td>0.0</td>\n",
       "      <td>0.678061</td>\n",
       "      <td>0.321939</td>\n",
       "      <td>0.474793</td>\n",
       "    </tr>\n",
       "    <tr>\n",
       "      <th>8</th>\n",
       "      <td>1.0</td>\n",
       "      <td>0.295770</td>\n",
       "      <td>0.704230</td>\n",
       "      <td>2.381001</td>\n",
       "    </tr>\n",
       "    <tr>\n",
       "      <th>9</th>\n",
       "      <td>0.0</td>\n",
       "      <td>0.871978</td>\n",
       "      <td>0.128022</td>\n",
       "      <td>0.146817</td>\n",
       "    </tr>\n",
       "    <tr>\n",
       "      <th>10</th>\n",
       "      <td>1.0</td>\n",
       "      <td>0.007320</td>\n",
       "      <td>0.992680</td>\n",
       "      <td>135.604477</td>\n",
       "    </tr>\n",
       "    <tr>\n",
       "      <th>11</th>\n",
       "      <td>1.0</td>\n",
       "      <td>0.003658</td>\n",
       "      <td>0.996342</td>\n",
       "      <td>272.355865</td>\n",
       "    </tr>\n",
       "    <tr>\n",
       "      <th>12</th>\n",
       "      <td>0.0</td>\n",
       "      <td>0.832983</td>\n",
       "      <td>0.167017</td>\n",
       "      <td>0.200504</td>\n",
       "    </tr>\n",
       "    <tr>\n",
       "      <th>13</th>\n",
       "      <td>1.0</td>\n",
       "      <td>0.389142</td>\n",
       "      <td>0.610858</td>\n",
       "      <td>1.569754</td>\n",
       "    </tr>\n",
       "    <tr>\n",
       "      <th>14</th>\n",
       "      <td>1.0</td>\n",
       "      <td>0.024571</td>\n",
       "      <td>0.975429</td>\n",
       "      <td>39.697689</td>\n",
       "    </tr>\n",
       "    <tr>\n",
       "      <th>15</th>\n",
       "      <td>1.0</td>\n",
       "      <td>0.720565</td>\n",
       "      <td>0.279435</td>\n",
       "      <td>0.387799</td>\n",
       "    </tr>\n",
       "    <tr>\n",
       "      <th>16</th>\n",
       "      <td>0.0</td>\n",
       "      <td>0.582776</td>\n",
       "      <td>0.417224</td>\n",
       "      <td>0.715925</td>\n",
       "    </tr>\n",
       "    <tr>\n",
       "      <th>17</th>\n",
       "      <td>0.0</td>\n",
       "      <td>0.809612</td>\n",
       "      <td>0.190388</td>\n",
       "      <td>0.235160</td>\n",
       "    </tr>\n",
       "    <tr>\n",
       "      <th>18</th>\n",
       "      <td>1.0</td>\n",
       "      <td>0.011041</td>\n",
       "      <td>0.988959</td>\n",
       "      <td>89.570160</td>\n",
       "    </tr>\n",
       "    <tr>\n",
       "      <th>19</th>\n",
       "      <td>0.0</td>\n",
       "      <td>0.456758</td>\n",
       "      <td>0.543242</td>\n",
       "      <td>1.189345</td>\n",
       "    </tr>\n",
       "  </tbody>\n",
       "</table>\n",
       "</div>"
      ],
      "text/plain": [
       "    m_true   m0_soft   m1_soft         bf_hat\n",
       "0      0.0  0.808049  0.191951       0.237548\n",
       "1      1.0  0.000004  0.999996  246722.765625\n",
       "2      1.0  0.538564  0.461436       0.856791\n",
       "3      0.0  0.837536  0.162464       0.193979\n",
       "4      0.0  0.574344  0.425656       0.741117\n",
       "5      0.0  0.517663  0.482337       0.931758\n",
       "6      0.0  0.688939  0.311061       0.451507\n",
       "7      0.0  0.678061  0.321939       0.474793\n",
       "8      1.0  0.295770  0.704230       2.381001\n",
       "9      0.0  0.871978  0.128022       0.146817\n",
       "10     1.0  0.007320  0.992680     135.604477\n",
       "11     1.0  0.003658  0.996342     272.355865\n",
       "12     0.0  0.832983  0.167017       0.200504\n",
       "13     1.0  0.389142  0.610858       1.569754\n",
       "14     1.0  0.024571  0.975429      39.697689\n",
       "15     1.0  0.720565  0.279435       0.387799\n",
       "16     0.0  0.582776  0.417224       0.715925\n",
       "17     0.0  0.809612  0.190388       0.235160\n",
       "18     1.0  0.011041  0.988959      89.570160\n",
       "19     0.0  0.456758  0.543242       1.189345"
      ]
     },
     "execution_count": 84,
     "metadata": {},
     "output_type": "execute_result"
    }
   ],
   "source": [
    "import pandas as pd\n",
    "\n",
    "# Posterior model probabilities\n",
    "m0_soft = 1 - m1_soft\n",
    "\n",
    "# Bayes Factors\n",
    "bf_hat = m1_soft / m0_soft\n",
    "\n",
    "# Overview\n",
    "predictions=np.c_[m_true,m0_soft,m1_soft,bf_hat]\n",
    "predictions = pd.DataFrame(predictions, columns=['m_true','m0_soft','m1_soft','bf_hat'])\n",
    "predictions.head(20)"
   ]
  }
 ],
 "metadata": {
  "kernelspec": {
   "display_name": "Python 3",
   "language": "python",
   "name": "python3"
  },
  "language_info": {
   "codemirror_mode": {
    "name": "ipython",
    "version": 3
   },
   "file_extension": ".py",
   "mimetype": "text/x-python",
   "name": "python",
   "nbconvert_exporter": "python",
   "pygments_lexer": "ipython3",
   "version": "3.8.8"
  },
  "toc": {
   "base_numbering": 1,
   "nav_menu": {},
   "number_sections": true,
   "sideBar": true,
   "skip_h1_title": false,
   "title_cell": "Table of Contents",
   "title_sidebar": "Contents",
   "toc_cell": false,
   "toc_position": {
    "height": "calc(100% - 180px)",
    "left": "10px",
    "top": "150px",
    "width": "165px"
   },
   "toc_section_display": true,
   "toc_window_display": true
  },
  "varInspector": {
   "cols": {
    "lenName": 16,
    "lenType": 16,
    "lenVar": 40
   },
   "kernels_config": {
    "python": {
     "delete_cmd_postfix": "",
     "delete_cmd_prefix": "del ",
     "library": "var_list.py",
     "varRefreshCmd": "print(var_dic_list())"
    },
    "r": {
     "delete_cmd_postfix": ") ",
     "delete_cmd_prefix": "rm(",
     "library": "var_list.r",
     "varRefreshCmd": "cat(var_dic_list()) "
    }
   },
   "types_to_exclude": [
    "module",
    "function",
    "builtin_function_or_method",
    "instance",
    "_Feature"
   ],
   "window_display": false
  }
 },
 "nbformat": 4,
 "nbformat_minor": 2
}
