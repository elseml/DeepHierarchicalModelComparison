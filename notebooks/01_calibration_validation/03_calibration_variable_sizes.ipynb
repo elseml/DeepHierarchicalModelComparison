{
 "cells": [
  {
   "cell_type": "code",
   "execution_count": 2,
   "metadata": {},
   "outputs": [],
   "source": [
    "import os, sys\n",
    "sys.path.append(os.path.abspath(os.path.join('../..'))) # access sibling directories\n",
    "sys.path.append(\"C:\\\\Users\\\\lasse\\\\Documents\\\\GitHub\\\\BayesFlow\")\n",
    "\n",
    "from src.python.settings import summary_meta_validation, probability_meta_validation\n",
    "from src.python.networks import HierarchicalInvariantNetwork, ModelProbabilityNetwork\n",
    "from src.python.models import HierarchicalNormalSimulator, MainSimulator\n",
    "from src.python.losses import softmax_loss\n",
    "from src.python.helpers import n_clust_obs_v_v, get_preds_and_bfs\n",
    "from src.python.visualization import compute_eces_variable, plot_eces_variable, plot_eces_marginalized\n",
    "\n",
    "import numpy as np\n",
    "import pandas as pd\n",
    "from tensorflow.keras.experimental import CosineDecay\n",
    "from tensorflow.keras.optimizers import Adam\n",
    "from functools import partial\n",
    "from time import perf_counter\n",
    "from datetime import datetime, timezone, timedelta\n",
    "\n",
    "from bayesflow.trainers import ModelComparisonTrainer\n",
    "from bayesflow.amortizers import MultiModelAmortizer"
   ]
  },
  {
   "cell_type": "markdown",
   "metadata": {},
   "source": [
    "# Model formulation"
   ]
  },
  {
   "cell_type": "markdown",
   "metadata": {},
   "source": [
    "$$\n",
    "\\begin{align}\n",
    "x_n &\\sim \\mathcal{N}(\\theta_l, \\sigma^2) \\text{ for } n=1,...,N \\\\\n",
    "\\theta_l &\\sim \\mathcal{N}(\\mu, \\tau^2) \\text{ for } l=1,...,L\\\\\n",
    "\\sigma^2 &\\sim Half-Normal(\\sigma_s)\\\\\n",
    "\\mu &\\sim \\mathcal{N}(\\mu_0, \\tau_0)\\\\\n",
    "\\tau^2 &\\sim Half-Normal(\\sigma_t)\\\\\n",
    "\\end{align}\n",
    "$$\n",
    "\n",
    "$$\n",
    "\\begin{align}\n",
    "&\\text{Null Model }M_0 \\text{: } \\mu=0\\\\\n",
    "&\\text{Alternative Model }M_1 \\text{: } \\mu \\text{ allowed to differ from 0} \\\\\n",
    "\\end{align}\n",
    "$$"
   ]
  },
  {
   "cell_type": "markdown",
   "metadata": {},
   "source": [
    "# Set up networks"
   ]
  },
  {
   "cell_type": "code",
   "execution_count": 3,
   "metadata": {},
   "outputs": [],
   "source": [
    "summary_net = HierarchicalInvariantNetwork(summary_meta_validation)\n",
    "probability_net = ModelProbabilityNetwork(probability_meta_validation)\n",
    "\n",
    "amortizer = MultiModelAmortizer(probability_net, summary_net)\n",
    "\n",
    "simulator = MainSimulator(HierarchicalNormalSimulator())"
   ]
  },
  {
   "cell_type": "code",
   "execution_count": 4,
   "metadata": {},
   "outputs": [
    {
     "name": "stdout",
     "output_type": "stream",
     "text": [
      "Initializing networks from scratch.\n"
     ]
    }
   ],
   "source": [
    "# Training steps\n",
    "epochs = 40 \n",
    "iterations_per_epoch = 1000\n",
    "\n",
    "# Range of groups and nested observations\n",
    "n_clust_min = 1\n",
    "n_clust_max = 100\n",
    "n_obs_min = 1\n",
    "n_obs_max = 100\n",
    "\n",
    "# Cosine decaying learning rate\n",
    "initial_lr = 0.0005\n",
    "decay_steps = epochs*iterations_per_epoch\n",
    "alpha = 0\n",
    "lr_schedule = CosineDecay(\n",
    "    initial_lr, decay_steps, alpha=alpha\n",
    "    )\n",
    "\n",
    "# Checkpoint path for loading pretrained network and saving the final network\n",
    "checkpoint_path = 'C:\\\\Users\\\\lasse\\\\Documents\\\\hierarchical_model_comparison_project\\\\checkpoints\\\\01_calibration_validation\\\\checkpoints_var_sizes'\n",
    "\n",
    "trainer = ModelComparisonTrainer(\n",
    "    network=amortizer, \n",
    "    generative_model=simulator, \n",
    "    loss=partial(softmax_loss),\n",
    "    optimizer=partial(Adam, lr_schedule),\n",
    "    checkpoint_path=checkpoint_path,\n",
    "    skip_checks=True,\n",
    "    )"
   ]
  },
  {
   "cell_type": "markdown",
   "metadata": {},
   "source": [
    "# Train & validate"
   ]
  },
  {
   "cell_type": "code",
   "execution_count": 5,
   "metadata": {},
   "outputs": [
    {
     "data": {
      "application/vnd.jupyter.widget-view+json": {
       "model_id": "fa628608f21a4e01a5bbc780958fe575",
       "version_major": 2,
       "version_minor": 0
      },
      "text/plain": [
       "Training epoch 1:   0%|          | 0/1000 [00:00<?, ?it/s]"
      ]
     },
     "metadata": {},
     "output_type": "display_data"
    },
    {
     "data": {
      "application/vnd.jupyter.widget-view+json": {
       "model_id": "f940ab60e54c4c21abe7f40333356b5d",
       "version_major": 2,
       "version_minor": 0
      },
      "text/plain": [
       "Training epoch 2:   0%|          | 0/1000 [00:00<?, ?it/s]"
      ]
     },
     "metadata": {},
     "output_type": "display_data"
    },
    {
     "data": {
      "application/vnd.jupyter.widget-view+json": {
       "model_id": "81778a0bb40049a19f713360243d2358",
       "version_major": 2,
       "version_minor": 0
      },
      "text/plain": [
       "Training epoch 3:   0%|          | 0/1000 [00:00<?, ?it/s]"
      ]
     },
     "metadata": {},
     "output_type": "display_data"
    },
    {
     "data": {
      "application/vnd.jupyter.widget-view+json": {
       "model_id": "6392c72d3722439abb120c6d0aea7612",
       "version_major": 2,
       "version_minor": 0
      },
      "text/plain": [
       "Training epoch 4:   0%|          | 0/1000 [00:00<?, ?it/s]"
      ]
     },
     "metadata": {},
     "output_type": "display_data"
    },
    {
     "data": {
      "application/vnd.jupyter.widget-view+json": {
       "model_id": "aab028c2106242d7a8ab081d773410f1",
       "version_major": 2,
       "version_minor": 0
      },
      "text/plain": [
       "Training epoch 5:   0%|          | 0/1000 [00:00<?, ?it/s]"
      ]
     },
     "metadata": {},
     "output_type": "display_data"
    },
    {
     "data": {
      "application/vnd.jupyter.widget-view+json": {
       "model_id": "38ed27af5e864f7eb9229ca2cdb3bf9a",
       "version_major": 2,
       "version_minor": 0
      },
      "text/plain": [
       "Training epoch 6:   0%|          | 0/1000 [00:00<?, ?it/s]"
      ]
     },
     "metadata": {},
     "output_type": "display_data"
    },
    {
     "data": {
      "application/vnd.jupyter.widget-view+json": {
       "model_id": "d641cea1630c428fbb5a88cfaab6240c",
       "version_major": 2,
       "version_minor": 0
      },
      "text/plain": [
       "Training epoch 7:   0%|          | 0/1000 [00:00<?, ?it/s]"
      ]
     },
     "metadata": {},
     "output_type": "display_data"
    },
    {
     "data": {
      "application/vnd.jupyter.widget-view+json": {
       "model_id": "080eed36b63e4264aeecf6fd91d0bb24",
       "version_major": 2,
       "version_minor": 0
      },
      "text/plain": [
       "Training epoch 8:   0%|          | 0/1000 [00:00<?, ?it/s]"
      ]
     },
     "metadata": {},
     "output_type": "display_data"
    },
    {
     "data": {
      "application/vnd.jupyter.widget-view+json": {
       "model_id": "0f27ed3b209c4dbe80d8b2bf7e3066bc",
       "version_major": 2,
       "version_minor": 0
      },
      "text/plain": [
       "Training epoch 9:   0%|          | 0/1000 [00:00<?, ?it/s]"
      ]
     },
     "metadata": {},
     "output_type": "display_data"
    },
    {
     "data": {
      "application/vnd.jupyter.widget-view+json": {
       "model_id": "ea8c04015dce4c7ea3de948c0298caa6",
       "version_major": 2,
       "version_minor": 0
      },
      "text/plain": [
       "Training epoch 10:   0%|          | 0/1000 [00:00<?, ?it/s]"
      ]
     },
     "metadata": {},
     "output_type": "display_data"
    },
    {
     "data": {
      "application/vnd.jupyter.widget-view+json": {
       "model_id": "0fd077b516ba4b8b9c795f9b18edb545",
       "version_major": 2,
       "version_minor": 0
      },
      "text/plain": [
       "Training epoch 11:   0%|          | 0/1000 [00:00<?, ?it/s]"
      ]
     },
     "metadata": {},
     "output_type": "display_data"
    },
    {
     "data": {
      "application/vnd.jupyter.widget-view+json": {
       "model_id": "8b2eb1c5c9e54633bbe1d67041c4397d",
       "version_major": 2,
       "version_minor": 0
      },
      "text/plain": [
       "Training epoch 12:   0%|          | 0/1000 [00:00<?, ?it/s]"
      ]
     },
     "metadata": {},
     "output_type": "display_data"
    },
    {
     "data": {
      "application/vnd.jupyter.widget-view+json": {
       "model_id": "0e7e87c842014f6abd25a542125582a1",
       "version_major": 2,
       "version_minor": 0
      },
      "text/plain": [
       "Training epoch 13:   0%|          | 0/1000 [00:00<?, ?it/s]"
      ]
     },
     "metadata": {},
     "output_type": "display_data"
    },
    {
     "data": {
      "application/vnd.jupyter.widget-view+json": {
       "model_id": "1e56a59ca6a848308b7f97f4ecc605bc",
       "version_major": 2,
       "version_minor": 0
      },
      "text/plain": [
       "Training epoch 14:   0%|          | 0/1000 [00:00<?, ?it/s]"
      ]
     },
     "metadata": {},
     "output_type": "display_data"
    },
    {
     "data": {
      "application/vnd.jupyter.widget-view+json": {
       "model_id": "1547d23c138942439b87dc1311671f6a",
       "version_major": 2,
       "version_minor": 0
      },
      "text/plain": [
       "Training epoch 15:   0%|          | 0/1000 [00:00<?, ?it/s]"
      ]
     },
     "metadata": {},
     "output_type": "display_data"
    },
    {
     "data": {
      "application/vnd.jupyter.widget-view+json": {
       "model_id": "9bf1fcba5b4c4db2a2d756be5e5e5379",
       "version_major": 2,
       "version_minor": 0
      },
      "text/plain": [
       "Training epoch 16:   0%|          | 0/1000 [00:00<?, ?it/s]"
      ]
     },
     "metadata": {},
     "output_type": "display_data"
    },
    {
     "data": {
      "application/vnd.jupyter.widget-view+json": {
       "model_id": "51108635f54a4dacbc729521844d229f",
       "version_major": 2,
       "version_minor": 0
      },
      "text/plain": [
       "Training epoch 17:   0%|          | 0/1000 [00:00<?, ?it/s]"
      ]
     },
     "metadata": {},
     "output_type": "display_data"
    },
    {
     "data": {
      "application/vnd.jupyter.widget-view+json": {
       "model_id": "2912e93d248a4693a94400c6604c2d53",
       "version_major": 2,
       "version_minor": 0
      },
      "text/plain": [
       "Training epoch 18:   0%|          | 0/1000 [00:00<?, ?it/s]"
      ]
     },
     "metadata": {},
     "output_type": "display_data"
    },
    {
     "data": {
      "application/vnd.jupyter.widget-view+json": {
       "model_id": "1f4e7109334942478c95fc65704df09a",
       "version_major": 2,
       "version_minor": 0
      },
      "text/plain": [
       "Training epoch 19:   0%|          | 0/1000 [00:00<?, ?it/s]"
      ]
     },
     "metadata": {},
     "output_type": "display_data"
    },
    {
     "data": {
      "application/vnd.jupyter.widget-view+json": {
       "model_id": "42ce53b3002e4151b1a155f0e3441947",
       "version_major": 2,
       "version_minor": 0
      },
      "text/plain": [
       "Training epoch 20:   0%|          | 0/1000 [00:00<?, ?it/s]"
      ]
     },
     "metadata": {},
     "output_type": "display_data"
    },
    {
     "data": {
      "application/vnd.jupyter.widget-view+json": {
       "model_id": "1c9bef318ff341db8793477c13b0bea0",
       "version_major": 2,
       "version_minor": 0
      },
      "text/plain": [
       "Training epoch 21:   0%|          | 0/1000 [00:00<?, ?it/s]"
      ]
     },
     "metadata": {},
     "output_type": "display_data"
    },
    {
     "data": {
      "application/vnd.jupyter.widget-view+json": {
       "model_id": "4d5f23e6c1984691849c155bfb90329a",
       "version_major": 2,
       "version_minor": 0
      },
      "text/plain": [
       "Training epoch 22:   0%|          | 0/1000 [00:00<?, ?it/s]"
      ]
     },
     "metadata": {},
     "output_type": "display_data"
    },
    {
     "data": {
      "application/vnd.jupyter.widget-view+json": {
       "model_id": "a168f47cd1374e98842bbe562654c92d",
       "version_major": 2,
       "version_minor": 0
      },
      "text/plain": [
       "Training epoch 23:   0%|          | 0/1000 [00:00<?, ?it/s]"
      ]
     },
     "metadata": {},
     "output_type": "display_data"
    },
    {
     "data": {
      "application/vnd.jupyter.widget-view+json": {
       "model_id": "ba3ef8ab4352417c8c7eac5955208dec",
       "version_major": 2,
       "version_minor": 0
      },
      "text/plain": [
       "Training epoch 24:   0%|          | 0/1000 [00:00<?, ?it/s]"
      ]
     },
     "metadata": {},
     "output_type": "display_data"
    },
    {
     "data": {
      "application/vnd.jupyter.widget-view+json": {
       "model_id": "c7a3ddc286794062832624de159eea84",
       "version_major": 2,
       "version_minor": 0
      },
      "text/plain": [
       "Training epoch 25:   0%|          | 0/1000 [00:00<?, ?it/s]"
      ]
     },
     "metadata": {},
     "output_type": "display_data"
    },
    {
     "data": {
      "application/vnd.jupyter.widget-view+json": {
       "model_id": "3c57b663e2344ecc8f9d372dc99bae37",
       "version_major": 2,
       "version_minor": 0
      },
      "text/plain": [
       "Training epoch 26:   0%|          | 0/1000 [00:00<?, ?it/s]"
      ]
     },
     "metadata": {},
     "output_type": "display_data"
    },
    {
     "data": {
      "application/vnd.jupyter.widget-view+json": {
       "model_id": "cffff5789e284159987d7ab76036c534",
       "version_major": 2,
       "version_minor": 0
      },
      "text/plain": [
       "Training epoch 27:   0%|          | 0/1000 [00:00<?, ?it/s]"
      ]
     },
     "metadata": {},
     "output_type": "display_data"
    },
    {
     "data": {
      "application/vnd.jupyter.widget-view+json": {
       "model_id": "2ab9f88efc014bc99ed0778b6f1df2d8",
       "version_major": 2,
       "version_minor": 0
      },
      "text/plain": [
       "Training epoch 28:   0%|          | 0/1000 [00:00<?, ?it/s]"
      ]
     },
     "metadata": {},
     "output_type": "display_data"
    },
    {
     "data": {
      "application/vnd.jupyter.widget-view+json": {
       "model_id": "17fd2776bff94848affb63a08b24fda4",
       "version_major": 2,
       "version_minor": 0
      },
      "text/plain": [
       "Training epoch 29:   0%|          | 0/1000 [00:00<?, ?it/s]"
      ]
     },
     "metadata": {},
     "output_type": "display_data"
    },
    {
     "data": {
      "application/vnd.jupyter.widget-view+json": {
       "model_id": "ffedccf9643b4a728b92dc0ee154b8c3",
       "version_major": 2,
       "version_minor": 0
      },
      "text/plain": [
       "Training epoch 30:   0%|          | 0/1000 [00:00<?, ?it/s]"
      ]
     },
     "metadata": {},
     "output_type": "display_data"
    },
    {
     "data": {
      "application/vnd.jupyter.widget-view+json": {
       "model_id": "5b0281dd08a84250aebd2618698c5105",
       "version_major": 2,
       "version_minor": 0
      },
      "text/plain": [
       "Training epoch 31:   0%|          | 0/1000 [00:00<?, ?it/s]"
      ]
     },
     "metadata": {},
     "output_type": "display_data"
    },
    {
     "data": {
      "application/vnd.jupyter.widget-view+json": {
       "model_id": "2de98697d5f04a49ba623a6223156e80",
       "version_major": 2,
       "version_minor": 0
      },
      "text/plain": [
       "Training epoch 32:   0%|          | 0/1000 [00:00<?, ?it/s]"
      ]
     },
     "metadata": {},
     "output_type": "display_data"
    },
    {
     "data": {
      "application/vnd.jupyter.widget-view+json": {
       "model_id": "c8b537aabdee4d51954cd6bdcc0f74a5",
       "version_major": 2,
       "version_minor": 0
      },
      "text/plain": [
       "Training epoch 33:   0%|          | 0/1000 [00:00<?, ?it/s]"
      ]
     },
     "metadata": {},
     "output_type": "display_data"
    },
    {
     "data": {
      "application/vnd.jupyter.widget-view+json": {
       "model_id": "f5dfa2a7b2074934b49375af005d0998",
       "version_major": 2,
       "version_minor": 0
      },
      "text/plain": [
       "Training epoch 34:   0%|          | 0/1000 [00:00<?, ?it/s]"
      ]
     },
     "metadata": {},
     "output_type": "display_data"
    },
    {
     "data": {
      "application/vnd.jupyter.widget-view+json": {
       "model_id": "f76b03e0064e48b3b6743f0be4ea531d",
       "version_major": 2,
       "version_minor": 0
      },
      "text/plain": [
       "Training epoch 35:   0%|          | 0/1000 [00:00<?, ?it/s]"
      ]
     },
     "metadata": {},
     "output_type": "display_data"
    },
    {
     "data": {
      "application/vnd.jupyter.widget-view+json": {
       "model_id": "d165d67ef971489585bf2fa98d866cee",
       "version_major": 2,
       "version_minor": 0
      },
      "text/plain": [
       "Training epoch 36:   0%|          | 0/1000 [00:00<?, ?it/s]"
      ]
     },
     "metadata": {},
     "output_type": "display_data"
    },
    {
     "data": {
      "application/vnd.jupyter.widget-view+json": {
       "model_id": "6ca719e12f7c4ab0b8c786456f4fe105",
       "version_major": 2,
       "version_minor": 0
      },
      "text/plain": [
       "Training epoch 37:   0%|          | 0/1000 [00:00<?, ?it/s]"
      ]
     },
     "metadata": {},
     "output_type": "display_data"
    },
    {
     "data": {
      "application/vnd.jupyter.widget-view+json": {
       "model_id": "2e92640f3ec44d6fa3068a4748e75806",
       "version_major": 2,
       "version_minor": 0
      },
      "text/plain": [
       "Training epoch 38:   0%|          | 0/1000 [00:00<?, ?it/s]"
      ]
     },
     "metadata": {},
     "output_type": "display_data"
    },
    {
     "data": {
      "application/vnd.jupyter.widget-view+json": {
       "model_id": "f8be502867b344b7bf735beaa443eacf",
       "version_major": 2,
       "version_minor": 0
      },
      "text/plain": [
       "Training epoch 39:   0%|          | 0/1000 [00:00<?, ?it/s]"
      ]
     },
     "metadata": {},
     "output_type": "display_data"
    },
    {
     "data": {
      "application/vnd.jupyter.widget-view+json": {
       "model_id": "9045a5a0b5554e72aa119e93e6c3d447",
       "version_major": 2,
       "version_minor": 0
      },
      "text/plain": [
       "Training epoch 40:   0%|          | 0/1000 [00:00<?, ?it/s]"
      ]
     },
     "metadata": {},
     "output_type": "display_data"
    }
   ],
   "source": [
    "training_time_start = perf_counter()\n",
    "losses = trainer.train_online(\n",
    "    epochs=epochs, iterations_per_epoch=iterations_per_epoch, batch_size=32, \n",
    "    n_obs=partial(n_clust_obs_v_v, n_clust_min, n_clust_max, n_obs_min, n_obs_max)\n",
    "    )\n",
    "training_time_stop = perf_counter()"
   ]
  },
  {
   "cell_type": "code",
   "execution_count": 6,
   "metadata": {},
   "outputs": [
    {
     "data": {
      "application/vnd.jupyter.widget-view+json": {
       "model_id": "bf5af8d8c5d04c5081d4fd51c6e1bf7c",
       "version_major": 2,
       "version_minor": 0
      },
      "text/plain": [
       "Loop through clusters progress:   0%|          | 0/100 [00:00<?, ?it/s]"
      ]
     },
     "metadata": {},
     "output_type": "display_data"
    },
    {
     "data": {
      "application/vnd.jupyter.widget-view+json": {
       "model_id": "f0d54f30afbf420081e30d4ae3192277",
       "version_major": 2,
       "version_minor": 0
      },
      "text/plain": [
       "Loop through nested observations progress:   0%|          | 0/100 [00:00<?, ?it/s]"
      ]
     },
     "metadata": {},
     "output_type": "display_data"
    },
    {
     "ename": "KeyboardInterrupt",
     "evalue": "",
     "output_type": "error",
     "traceback": [
      "\u001b[1;31m---------------------------------------------------------------------------\u001b[0m",
      "\u001b[1;31mKeyboardInterrupt\u001b[0m                         Traceback (most recent call last)",
      "\u001b[1;32mc:\\Users\\lasse\\Dropbox\\Uni Mannheim\\M.Sc\\4. Semester\\Masterarbeit\\Coding\\notebooks\\01_calibration_validation\\03_calibration_variable_sizes.ipynb Zelle 9\u001b[0m in \u001b[0;36m<cell line: 12>\u001b[1;34m()\u001b[0m\n\u001b[0;32m      <a href='vscode-notebook-cell:/c%3A/Users/lasse/Dropbox/Uni%20Mannheim/M.Sc/4.%20Semester/Masterarbeit/Coding/notebooks/01_calibration_validation/03_calibration_variable_sizes.ipynb#X11sZmlsZQ%3D%3D?line=5'>6</a>\u001b[0m     ece_means \u001b[39m=\u001b[39m compute_eces_variable(\n\u001b[0;32m      <a href='vscode-notebook-cell:/c%3A/Users/lasse/Dropbox/Uni%20Mannheim/M.Sc/4.%20Semester/Masterarbeit/Coding/notebooks/01_calibration_validation/03_calibration_variable_sizes.ipynb#X11sZmlsZQ%3D%3D?line=6'>7</a>\u001b[0m     probability_net, summary_net, simulator, \n\u001b[0;32m      <a href='vscode-notebook-cell:/c%3A/Users/lasse/Dropbox/Uni%20Mannheim/M.Sc/4.%20Semester/Masterarbeit/Coding/notebooks/01_calibration_validation/03_calibration_variable_sizes.ipynb#X11sZmlsZQ%3D%3D?line=7'>8</a>\u001b[0m     n_val_per_setting, n_clust_min, n_clust_max, \n\u001b[0;32m      <a href='vscode-notebook-cell:/c%3A/Users/lasse/Dropbox/Uni%20Mannheim/M.Sc/4.%20Semester/Masterarbeit/Coding/notebooks/01_calibration_validation/03_calibration_variable_sizes.ipynb#X11sZmlsZQ%3D%3D?line=8'>9</a>\u001b[0m     n_obs_min, n_obs_max\n\u001b[0;32m     <a href='vscode-notebook-cell:/c%3A/Users/lasse/Dropbox/Uni%20Mannheim/M.Sc/4.%20Semester/Masterarbeit/Coding/notebooks/01_calibration_validation/03_calibration_variable_sizes.ipynb#X11sZmlsZQ%3D%3D?line=9'>10</a>\u001b[0m     )\n\u001b[0;32m     <a href='vscode-notebook-cell:/c%3A/Users/lasse/Dropbox/Uni%20Mannheim/M.Sc/4.%20Semester/Masterarbeit/Coding/notebooks/01_calibration_validation/03_calibration_variable_sizes.ipynb#X11sZmlsZQ%3D%3D?line=11'>12</a>\u001b[0m \u001b[39mif\u001b[39;00m get_accuracies:\n\u001b[1;32m---> <a href='vscode-notebook-cell:/c%3A/Users/lasse/Dropbox/Uni%20Mannheim/M.Sc/4.%20Semester/Masterarbeit/Coding/notebooks/01_calibration_validation/03_calibration_variable_sizes.ipynb#X11sZmlsZQ%3D%3D?line=12'>13</a>\u001b[0m     ece_means, accuracies \u001b[39m=\u001b[39m compute_eces_variable(\n\u001b[0;32m     <a href='vscode-notebook-cell:/c%3A/Users/lasse/Dropbox/Uni%20Mannheim/M.Sc/4.%20Semester/Masterarbeit/Coding/notebooks/01_calibration_validation/03_calibration_variable_sizes.ipynb#X11sZmlsZQ%3D%3D?line=13'>14</a>\u001b[0m         probability_net, summary_net, simulator, \n\u001b[0;32m     <a href='vscode-notebook-cell:/c%3A/Users/lasse/Dropbox/Uni%20Mannheim/M.Sc/4.%20Semester/Masterarbeit/Coding/notebooks/01_calibration_validation/03_calibration_variable_sizes.ipynb#X11sZmlsZQ%3D%3D?line=14'>15</a>\u001b[0m         n_val_per_setting, n_clust_min, n_clust_max, \n\u001b[0;32m     <a href='vscode-notebook-cell:/c%3A/Users/lasse/Dropbox/Uni%20Mannheim/M.Sc/4.%20Semester/Masterarbeit/Coding/notebooks/01_calibration_validation/03_calibration_variable_sizes.ipynb#X11sZmlsZQ%3D%3D?line=15'>16</a>\u001b[0m         n_obs_min, n_obs_max, add_accuracy\u001b[39m=\u001b[39;49m\u001b[39mTrue\u001b[39;49;00m\n\u001b[0;32m     <a href='vscode-notebook-cell:/c%3A/Users/lasse/Dropbox/Uni%20Mannheim/M.Sc/4.%20Semester/Masterarbeit/Coding/notebooks/01_calibration_validation/03_calibration_variable_sizes.ipynb#X11sZmlsZQ%3D%3D?line=16'>17</a>\u001b[0m         )\n",
      "File \u001b[1;32mc:\\Users\\lasse\\Dropbox\\Uni Mannheim\\M.Sc\\4. Semester\\Masterarbeit\\Coding\\src\\python\\visualization.py:440\u001b[0m, in \u001b[0;36mcompute_eces_variable\u001b[1;34m(probability_net, summary_net, simulator, n_val_per_setting, n_clust_min, n_clust_max, n_obs_min, n_obs_max, n_cal_bins, add_accuracy)\u001b[0m\n\u001b[0;32m    436\u001b[0m p_bar_within\u001b[39m.\u001b[39mreset((n_obs_max\u001b[39m+\u001b[39m\u001b[39m1\u001b[39m \u001b[39m-\u001b[39m n_obs_min)) \u001b[39m# reuse 2nd bar so that screen doesn't explode\u001b[39;00m\n\u001b[0;32m    437\u001b[0m \u001b[39mfor\u001b[39;00m n \u001b[39min\u001b[39;00m \u001b[39mrange\u001b[39m(n_obs_min, n_obs_max\u001b[39m+\u001b[39m\u001b[39m1\u001b[39m): \u001b[39m# Loop through nested observations\u001b[39;00m\n\u001b[0;32m    438\u001b[0m \n\u001b[0;32m    439\u001b[0m     \u001b[39m# Simulate validation data\u001b[39;00m\n\u001b[1;32m--> 440\u001b[0m     m_val_sim, _, x_val_sim \u001b[39m=\u001b[39m simulator(n_val_per_setting, n_clust_obs_f_v_val(l, n))\n\u001b[0;32m    442\u001b[0m     \u001b[39m# Predict model probabilities\u001b[39;00m\n\u001b[0;32m    443\u001b[0m     m_soft \u001b[39m=\u001b[39m tf\u001b[39m.\u001b[39mconcat([probability_net\u001b[39m.\u001b[39mpredict(summary_net(x_chunk))[\u001b[39m'\u001b[39m\u001b[39mm_probs\u001b[39m\u001b[39m'\u001b[39m][:, \u001b[39m1\u001b[39m] \u001b[39mfor\u001b[39;00m x_chunk \u001b[39min\u001b[39;00m tf\u001b[39m.\u001b[39msplit(x_val_sim, \u001b[39m20\u001b[39m)], axis\u001b[39m=\u001b[39m\u001b[39m0\u001b[39m)\u001b[39m.\u001b[39mnumpy()      \n",
      "File \u001b[1;32mc:\\Users\\lasse\\Dropbox\\Uni Mannheim\\M.Sc\\4. Semester\\Masterarbeit\\Coding\\src\\python\\models.py:299\u001b[0m, in \u001b[0;36mMainSimulator.__call__\u001b[1;34m(self, batch_size, n_obs, n_vars, n_models, model_prior)\u001b[0m\n\u001b[0;32m    298\u001b[0m \u001b[39mdef\u001b[39;00m \u001b[39m__call__\u001b[39m(\u001b[39mself\u001b[39m, batch_size, n_obs, n_vars\u001b[39m=\u001b[39m\u001b[39m1\u001b[39m, n_models\u001b[39m=\u001b[39m\u001b[39m2\u001b[39m, model_prior\u001b[39m=\u001b[39m\u001b[39mNone\u001b[39;00m):\n\u001b[1;32m--> 299\u001b[0m     \u001b[39mreturn\u001b[39;00m \u001b[39mself\u001b[39;49m\u001b[39m.\u001b[39;49msimulate(batch_size, n_obs, n_vars, n_models, model_prior)\n",
      "File \u001b[1;32mc:\\Users\\lasse\\Dropbox\\Uni Mannheim\\M.Sc\\4. Semester\\Masterarbeit\\Coding\\src\\python\\models.py:294\u001b[0m, in \u001b[0;36mMainSimulator.simulate\u001b[1;34m(self, batch_size, n_obs, n_vars, n_models, model_prior)\u001b[0m\n\u001b[0;32m    291\u001b[0m X_gen \u001b[39m=\u001b[39m np\u001b[39m.\u001b[39mzeros((batch_size, K, N, n_vars), dtype\u001b[39m=\u001b[39mnp\u001b[39m.\u001b[39mfloat32)\n\u001b[0;32m    293\u001b[0m \u001b[39mfor\u001b[39;00m b \u001b[39min\u001b[39;00m \u001b[39mrange\u001b[39m(batch_size):\n\u001b[1;32m--> 294\u001b[0m     X_gen[b] \u001b[39m=\u001b[39m \u001b[39mself\u001b[39;49m\u001b[39m.\u001b[39;49msimulator\u001b[39m.\u001b[39;49mgenerate_single(model_indices[b], K, N)\n\u001b[0;32m    296\u001b[0m \u001b[39mreturn\u001b[39;00m to_categorical(model_indices), \u001b[39mNone\u001b[39;00m, X_gen\n",
      "File \u001b[1;32mc:\\Users\\lasse\\Dropbox\\Uni Mannheim\\M.Sc\\4. Semester\\Masterarbeit\\Coding\\src\\python\\models.py:71\u001b[0m, in \u001b[0;36mHierarchicalNormalSimulator.generate_single\u001b[1;34m(self, model_index, n_clusters, n_obs, mu0, tau20, sigma_t, sigma_s)\u001b[0m\n\u001b[0;32m     53\u001b[0m \u001b[39m\"\"\"\u001b[39;00m\n\u001b[0;32m     54\u001b[0m \u001b[39mGenerates a single hierarchical data set utilizing the draw_from_prior and gen_from_likelihood functions.\u001b[39;00m\n\u001b[0;32m     55\u001b[0m \u001b[39m----------\u001b[39;00m\n\u001b[1;32m   (...)\u001b[0m\n\u001b[0;32m     68\u001b[0m \u001b[39mnumpy array of shape (n_clusters, n_obs, n_variables) - contains the simulated hierarchical data sets\u001b[39;00m\n\u001b[0;32m     69\u001b[0m \u001b[39m\"\"\"\u001b[39;00m\n\u001b[0;32m     70\u001b[0m theta, sigma2 \u001b[39m=\u001b[39m \u001b[39mself\u001b[39m\u001b[39m.\u001b[39mdraw_from_prior(model_index, n_clusters, mu0, tau20, sigma_t, sigma_s)\n\u001b[1;32m---> 71\u001b[0m x_generated \u001b[39m=\u001b[39m \u001b[39mself\u001b[39;49m\u001b[39m.\u001b[39;49mgen_from_likelihood(theta, sigma2, n_obs)\n\u001b[0;32m     72\u001b[0m \u001b[39mreturn\u001b[39;00m x_generated[\u001b[39m.\u001b[39m\u001b[39m.\u001b[39m\u001b[39m.\u001b[39m,np\u001b[39m.\u001b[39mnewaxis]\n",
      "File \u001b[1;32mc:\\Users\\lasse\\Dropbox\\Uni Mannheim\\M.Sc\\4. Semester\\Masterarbeit\\Coding\\src\\python\\models.py:49\u001b[0m, in \u001b[0;36mHierarchicalNormalSimulator.gen_from_likelihood\u001b[1;34m(self, theta, sigma2, n_obs)\u001b[0m\n\u001b[0;32m     39\u001b[0m \u001b[39mdef\u001b[39;00m \u001b[39mgen_from_likelihood\u001b[39m(\u001b[39mself\u001b[39m, theta, sigma2, n_obs):\n\u001b[0;32m     40\u001b[0m     \u001b[39m\"\"\"\u001b[39;00m\n\u001b[0;32m     41\u001b[0m \u001b[39m    Generates a single hierarchical data set from the sampled parameter values.\u001b[39;00m\n\u001b[0;32m     42\u001b[0m \u001b[39m    ----------\u001b[39;00m\n\u001b[1;32m   (...)\u001b[0m\n\u001b[0;32m     46\u001b[0m \u001b[39m    n_obs  : int -- number of observations per cluster\u001b[39;00m\n\u001b[0;32m     47\u001b[0m \u001b[39m    \"\"\"\u001b[39;00m\n\u001b[1;32m---> 49\u001b[0m     X \u001b[39m=\u001b[39m np\u001b[39m.\u001b[39;49mrandom\u001b[39m.\u001b[39;49mnormal(loc\u001b[39m=\u001b[39;49mtheta, scale\u001b[39m=\u001b[39;49mnp\u001b[39m.\u001b[39;49msqrt(sigma2), size\u001b[39m=\u001b[39;49m(n_obs, theta\u001b[39m.\u001b[39;49mshape[\u001b[39m0\u001b[39;49m]))\u001b[39m.\u001b[39mT \n\u001b[0;32m     50\u001b[0m     \u001b[39mreturn\u001b[39;00m X\n",
      "\u001b[1;31mKeyboardInterrupt\u001b[0m: "
     ]
    }
   ],
   "source": [
    "# Validation\n",
    "n_val_per_setting = 5000\n",
    "get_accuracies = True # Compute accuracies additionally to ECEs?\n",
    "\n",
    "if not get_accuracies:\n",
    "    eces = compute_eces_variable(\n",
    "    probability_net, summary_net, simulator, \n",
    "    n_val_per_setting, n_clust_min, n_clust_max, \n",
    "    n_obs_min, n_obs_max\n",
    "    )\n",
    "\n",
    "if get_accuracies:\n",
    "    eces, accuracies = compute_eces_variable(\n",
    "        probability_net, summary_net, simulator, \n",
    "        n_val_per_setting, n_clust_min, n_clust_max, \n",
    "        n_obs_min, n_obs_max, add_accuracy=True\n",
    "        )"
   ]
  },
  {
   "cell_type": "code",
   "execution_count": 7,
   "metadata": {},
   "outputs": [
    {
     "ename": "NameError",
     "evalue": "name 'ece_means' is not defined",
     "output_type": "error",
     "traceback": [
      "\u001b[1;31m---------------------------------------------------------------------------\u001b[0m",
      "\u001b[1;31mNameError\u001b[0m                                 Traceback (most recent call last)",
      "\u001b[1;32mc:\\Users\\lasse\\Dropbox\\Uni Mannheim\\M.Sc\\4. Semester\\Masterarbeit\\Coding\\notebooks\\01_calibration_validation\\03_calibration_variable_sizes.ipynb Zelle 10\u001b[0m in \u001b[0;36m<cell line: 2>\u001b[1;34m()\u001b[0m\n\u001b[0;32m      <a href='vscode-notebook-cell:/c%3A/Users/lasse/Dropbox/Uni%20Mannheim/M.Sc/4.%20Semester/Masterarbeit/Coding/notebooks/01_calibration_validation/03_calibration_variable_sizes.ipynb#X12sZmlsZQ%3D%3D?line=0'>1</a>\u001b[0m \u001b[39m# Plot ECEs\u001b[39;00m\n\u001b[1;32m----> <a href='vscode-notebook-cell:/c%3A/Users/lasse/Dropbox/Uni%20Mannheim/M.Sc/4.%20Semester/Masterarbeit/Coding/notebooks/01_calibration_validation/03_calibration_variable_sizes.ipynb#X12sZmlsZQ%3D%3D?line=1'>2</a>\u001b[0m plot_eces_variable(ece_means, n_clust_min, n_clust_max, n_obs_min, n_obs_max, save\u001b[39m=\u001b[39m\u001b[39mFalse\u001b[39;00m)\n",
      "\u001b[1;31mNameError\u001b[0m: name 'ece_means' is not defined"
     ]
    }
   ],
   "source": [
    "# Plot ECEs\n",
    "plot_eces_variable(eces, n_clust_min, n_clust_max, n_obs_min, n_obs_max, save=False)"
   ]
  },
  {
   "cell_type": "code",
   "execution_count": null,
   "metadata": {},
   "outputs": [
    {
     "name": "stdout",
     "output_type": "stream",
     "text": [
      "Mean ECE = 0.86189452\n"
     ]
    },
    {
     "data": {
      "image/png": "[encoded data removed]",
      "text/plain": [
       "<Figure size 504x504 with 1 Axes>"
      ]
     },
     "metadata": {
      "needs_background": "light"
     },
     "output_type": "display_data"
    }
   ],
   "source": [
    "# Plot accuracies\n",
    "plot_accuracies = True\n",
    "\n",
    "if plot_accuracies:\n",
    "    plot_eces_variable(accuracies, n_clust_min, n_clust_max, n_obs_min, n_obs_max, zlims=[0.5, 1], zlabel='Accuracy', save=False)"
   ]
  },
  {
   "cell_type": "code",
   "execution_count": 17,
   "metadata": {},
   "outputs": [
    {
     "name": "stdout",
     "output_type": "stream",
     "text": [
      "[0.03976436 0.03990685 0.03950575 0.04247136 0.04218206]\n"
     ]
    },
    {
     "data": {
      "image/png": "[encoded data removed]",
      "text/plain": [
       "<Figure size 720x720 with 1 Axes>"
      ]
     },
     "metadata": {
      "needs_background": "light"
     },
     "output_type": "display_data"
    }
   ],
   "source": [
    "# Plot ECEs for diffent J's (averaged over N)\n",
    "plot_eces_marginalized(eces, n_clust_min, n_clust_max, n_obs_min, n_obs_max, x_axis=0)"
   ]
  },
  {
   "cell_type": "code",
   "execution_count": 18,
   "metadata": {},
   "outputs": [
    {
     "name": "stdout",
     "output_type": "stream",
     "text": [
      "[0.09253617 0.05324117 0.04301675 0.04057226 0.03614685]\n"
     ]
    },
    {
     "data": {
      "image/png": "[encoded data removed]",
      "text/plain": [
       "<Figure size 720x720 with 1 Axes>"
      ]
     },
     "metadata": {
      "needs_background": "light"
     },
     "output_type": "display_data"
    }
   ],
   "source": [
    "# Plot ECEs for diffent N's (averaged over J)\n",
    "plot_eces_marginalized(eces, n_clust_min, n_clust_max, n_obs_min, n_obs_max, x_axis=1)"
   ]
  },
  {
   "cell_type": "code",
   "execution_count": 19,
   "metadata": {},
   "outputs": [],
   "source": [
    "# Export ECE data\n",
    "local_timezone = datetime.now(timezone(timedelta(0))).astimezone().tzinfo\n",
    "filename = pd.Timestamp.today(tz=local_timezone).strftime('%Y_%m_%d_eces_var_sizes')\n",
    "val_folder = os.path.join(os.path.dirname(os.path.dirname(os.getcwd())),'data', '01_calibration_validation', 'eces')\n",
    "np.save(os.path.join(val_folder, filename), eces)"
   ]
  },
  {
   "cell_type": "code",
   "execution_count": 8,
   "metadata": {},
   "outputs": [],
   "source": [
    "# Save training meta-information for bridge sampling comparison?\n",
    "save_training_vars = True\n",
    "\n",
    "if save_training_vars:\n",
    "    folder = os.path.join(os.path.dirname(os.path.dirname(os.getcwd())),'data', '01_calibration_validation', '03_variable')\n",
    "\n",
    "    np.save(os.path.join(folder, 'training_time_start'), training_time_start, allow_pickle=True)\n",
    "    np.save(os.path.join(folder, 'training_time_stop'), training_time_stop, allow_pickle=True)\n",
    "    np.save(os.path.join(folder, 'losses'), losses, allow_pickle=True)"
   ]
  },
  {
   "cell_type": "code",
   "execution_count": 5,
   "metadata": {},
   "outputs": [],
   "source": [
    "# Load ECE data\n",
    "n_val_per_setting = 5000\n",
    "\n",
    "n_clust_min = 1\n",
    "n_clust_max = 100\n",
    "n_obs_min = 1\n",
    "n_obs_max = 100\n",
    "\n",
    "val_folder = os.path.join(os.path.dirname(os.path.dirname(os.getcwd())),'data', '01_calibration_validation')\n",
    "ece_filename = \"2022_08_10_eces_var_sizes.npy\"\n",
    "eces = np.load(os.path.join(val_folder, ece_filename))"
   ]
  },
  {
   "cell_type": "markdown",
   "metadata": {},
   "source": [
    "# Calculate Bayes factors for bridge sampling comparison"
   ]
  },
  {
   "cell_type": "code",
   "execution_count": 9,
   "metadata": {},
   "outputs": [],
   "source": [
    "# Import training meta-information? (if network was loaded from checkpoint)\n",
    "import_training_vars = False\n",
    "\n",
    "if import_training_vars:\n",
    "    folder = os.path.join(os.path.dirname(os.path.dirname(os.getcwd())),'data', '01_calibration_validation', '03_variable')\n",
    "\n",
    "    training_time_start = np.load(os.path.join(folder, 'training_time_start.npy'), allow_pickle=True)\n",
    "    training_time_stop = np.load(os.path.join(folder, 'training_time_stop.npy'), allow_pickle=True)\n",
    "    losses = np.load(os.path.join(folder, 'losses.npy'), allow_pickle=True).item()"
   ]
  },
  {
   "cell_type": "code",
   "execution_count": 10,
   "metadata": {},
   "outputs": [],
   "source": [
    "# Import test data\n",
    "val_folder = os.path.join(os.path.dirname(os.path.dirname(os.getcwd())),'data', '02_bridge_sampling_comparison', 'nested_models')\n",
    "data_filename = \"test_data.npy\"\n",
    "test_data = np.load(os.path.join(val_folder, data_filename), allow_pickle=True).item()"
   ]
  },
  {
   "cell_type": "code",
   "execution_count": 11,
   "metadata": {},
   "outputs": [
    {
     "data": {
      "text/html": [
       "<div>\n",
       "<style scoped>\n",
       "    .dataframe tbody tr th:only-of-type {\n",
       "        vertical-align: middle;\n",
       "    }\n",
       "\n",
       "    .dataframe tbody tr th {\n",
       "        vertical-align: top;\n",
       "    }\n",
       "\n",
       "    .dataframe thead th {\n",
       "        text-align: right;\n",
       "    }\n",
       "</style>\n",
       "<table border=\"1\" class=\"dataframe\">\n",
       "  <thead>\n",
       "    <tr style=\"text-align: right;\">\n",
       "      <th></th>\n",
       "      <th>dataset</th>\n",
       "      <th>true_model</th>\n",
       "      <th>m0_prob</th>\n",
       "      <th>m1_prob</th>\n",
       "      <th>selected_model</th>\n",
       "      <th>bayes_factor</th>\n",
       "      <th>training_time</th>\n",
       "      <th>inference_time</th>\n",
       "      <th>final_epoch_loss</th>\n",
       "    </tr>\n",
       "  </thead>\n",
       "  <tbody>\n",
       "    <tr>\n",
       "      <th>0</th>\n",
       "      <td>1</td>\n",
       "      <td>0</td>\n",
       "      <td>0.818189</td>\n",
       "      <td>0.181811</td>\n",
       "      <td>0</td>\n",
       "      <td>0.222211</td>\n",
       "      <td>2912.233736</td>\n",
       "      <td>0.00317</td>\n",
       "      <td>0.325452</td>\n",
       "    </tr>\n",
       "    <tr>\n",
       "      <th>1</th>\n",
       "      <td>2</td>\n",
       "      <td>0</td>\n",
       "      <td>0.873253</td>\n",
       "      <td>0.126747</td>\n",
       "      <td>0</td>\n",
       "      <td>0.145144</td>\n",
       "      <td>2912.233736</td>\n",
       "      <td>0.00317</td>\n",
       "      <td>0.325452</td>\n",
       "    </tr>\n",
       "    <tr>\n",
       "      <th>2</th>\n",
       "      <td>3</td>\n",
       "      <td>0</td>\n",
       "      <td>0.889816</td>\n",
       "      <td>0.110184</td>\n",
       "      <td>0</td>\n",
       "      <td>0.123828</td>\n",
       "      <td>2912.233736</td>\n",
       "      <td>0.00317</td>\n",
       "      <td>0.325452</td>\n",
       "    </tr>\n",
       "    <tr>\n",
       "      <th>3</th>\n",
       "      <td>4</td>\n",
       "      <td>1</td>\n",
       "      <td>0.000006</td>\n",
       "      <td>0.999994</td>\n",
       "      <td>1</td>\n",
       "      <td>164481.509804</td>\n",
       "      <td>2912.233736</td>\n",
       "      <td>0.00317</td>\n",
       "      <td>0.325452</td>\n",
       "    </tr>\n",
       "    <tr>\n",
       "      <th>4</th>\n",
       "      <td>5</td>\n",
       "      <td>0</td>\n",
       "      <td>0.887359</td>\n",
       "      <td>0.112641</td>\n",
       "      <td>0</td>\n",
       "      <td>0.126939</td>\n",
       "      <td>2912.233736</td>\n",
       "      <td>0.00317</td>\n",
       "      <td>0.325452</td>\n",
       "    </tr>\n",
       "  </tbody>\n",
       "</table>\n",
       "</div>"
      ],
      "text/plain": [
       "   dataset  true_model   m0_prob   m1_prob  selected_model   bayes_factor  \\\n",
       "0        1           0  0.818189  0.181811               0       0.222211   \n",
       "1        2           0  0.873253  0.126747               0       0.145144   \n",
       "2        3           0  0.889816  0.110184               0       0.123828   \n",
       "3        4           1  0.000006  0.999994               1  164481.509804   \n",
       "4        5           0  0.887359  0.112641               0       0.126939   \n",
       "\n",
       "   training_time  inference_time  final_epoch_loss  \n",
       "0    2912.233736         0.00317          0.325452  \n",
       "1    2912.233736         0.00317          0.325452  \n",
       "2    2912.233736         0.00317          0.325452  \n",
       "3    2912.233736         0.00317          0.325452  \n",
       "4    2912.233736         0.00317          0.325452  "
      ]
     },
     "execution_count": 11,
     "metadata": {},
     "output_type": "execute_result"
    }
   ],
   "source": [
    "# Get NN predictions\n",
    "comparison_results = get_preds_and_bfs(probability_net, summary_net, test_data, training_time_start, training_time_stop, losses)\n",
    "comparison_results.head(5)"
   ]
  },
  {
   "cell_type": "code",
   "execution_count": 12,
   "metadata": {},
   "outputs": [],
   "source": [
    "# Export results\n",
    "local_timezone = datetime.now(timezone(timedelta(0))).astimezone().tzinfo\n",
    "filename = pd.Timestamp.today(tz=local_timezone).strftime('%Y_%m_%d_BF_NN_variable')\n",
    "comparison_folder = os.path.join(os.path.dirname(os.path.dirname(os.getcwd())),'data', '02_bridge_sampling_comparison', 'nested_models')\n",
    "\n",
    "comparison_results.to_csv(os.path.join(comparison_folder, filename), index = False)"
   ]
  }
 ],
 "metadata": {
  "kernelspec": {
   "display_name": "Python 3.8.13 ('tf')",
   "language": "python",
   "name": "python3"
  },
  "language_info": {
   "codemirror_mode": {
    "name": "ipython",
    "version": 3
   },
   "file_extension": ".py",
   "mimetype": "text/x-python",
   "name": "python",
   "nbconvert_exporter": "python",
   "pygments_lexer": "ipython3",
   "version": "3.8.13"
  },
  "toc": {
   "base_numbering": 1,
   "nav_menu": {},
   "number_sections": true,
   "sideBar": true,
   "skip_h1_title": false,
   "title_cell": "Table of Contents",
   "title_sidebar": "Contents",
   "toc_cell": false,
   "toc_position": {},
   "toc_section_display": true,
   "toc_window_display": false
  },
  "varInspector": {
   "cols": {
    "lenName": 16,
    "lenType": 16,
    "lenVar": 40
   },
   "kernels_config": {
    "python": {
     "delete_cmd_postfix": "",
     "delete_cmd_prefix": "del ",
     "library": "var_list.py",
     "varRefreshCmd": "print(var_dic_list())"
    },
    "r": {
     "delete_cmd_postfix": ") ",
     "delete_cmd_prefix": "rm(",
     "library": "var_list.r",
     "varRefreshCmd": "cat(var_dic_list()) "
    }
   },
   "types_to_exclude": [
    "module",
    "function",
    "builtin_function_or_method",
    "instance",
    "_Feature"
   ],
   "window_display": false
  },
  "vscode": {
   "interpreter": {
    "hash": "27a86c9f63fe2f1aa7d9f3c637434a8367b5c148236c1390e91d25c0e560ef1a"
   }
  }
 },
 "nbformat": 4,
 "nbformat_minor": 2
}
