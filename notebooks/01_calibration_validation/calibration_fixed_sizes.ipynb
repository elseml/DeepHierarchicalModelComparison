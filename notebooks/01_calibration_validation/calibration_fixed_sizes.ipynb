{
 "cells": [
  {
   "cell_type": "code",
   "execution_count": 1,
   "metadata": {},
   "outputs": [],
   "source": [
    "import os, sys\n",
    "sys.path.append(os.path.abspath(os.path.join('../..'))) # access sibling directories\n",
    "sys.path.append(\"C:\\\\Users\\\\lasse\\\\Documents\\\\GitHub\\\\BayesFlow\")\n",
    "\n",
    "from src.python.settings import summary_meta_validation, evidence_meta_validation\n",
    "from src.python.networks import HierarchicalInvariantNetwork, EvidentialNetwork\n",
    "from src.python.models import HierarchicalNormalSimulator, MainSimulator\n",
    "from src.python.helpers import n_clust_obs_f_f, get_preds_and_bfs\n",
    "from src.python.visualization import perf_tester\n",
    "\n",
    "import numpy as np\n",
    "import pandas as pd\n",
    "from tensorflow.keras.experimental import CosineDecayRestarts\n",
    "from tensorflow.keras.optimizers import Adam\n",
    "from functools import partial\n",
    "from time import perf_counter\n",
    "from datetime import datetime, timezone, timedelta\n",
    "\n",
    "from bayesflow.trainers import ModelComparisonTrainer\n",
    "from bayesflow.amortizers import MultiModelAmortizer \n",
    "from bayesflow.losses import log_loss"
   ]
  },
  {
   "cell_type": "markdown",
   "metadata": {},
   "source": [
    "# Model formulation"
   ]
  },
  {
   "cell_type": "markdown",
   "metadata": {},
   "source": [
    "$$\n",
    "\\begin{align}\n",
    "x_n &\\sim \\mathcal{N}(\\theta_l, \\sigma^2) \\text{ for } n=1,...,N \\\\\n",
    "\\theta_l &\\sim \\mathcal{N}(\\mu, \\tau^2) \\text{ for } l=1,...,L\\\\\n",
    "\\sigma^2 &\\sim Half-Normal(\\sigma_s)\\\\\n",
    "\\mu &\\sim \\mathcal{N}(\\mu_0, \\tau_0)\\\\\n",
    "\\tau^2 &\\sim Half-Normal(\\sigma_t)\\\\\n",
    "\\end{align}\n",
    "$$\n",
    "\n",
    "$$\n",
    "\\begin{align}\n",
    "&\\text{Null Model }M_0 \\text{: } \\mu=0\\\\\n",
    "&\\text{Alternative Model }M_1 \\text{: } \\mu \\text{ allowed to differ from 0} \\\\\n",
    "\\end{align}\n",
    "$$"
   ]
  },
  {
   "cell_type": "markdown",
   "metadata": {},
   "source": [
    "# Set up networks"
   ]
  },
  {
   "cell_type": "code",
   "execution_count": 2,
   "metadata": {},
   "outputs": [],
   "source": [
    "summary_net = HierarchicalInvariantNetwork(summary_meta_validation)\n",
    "evidence_net = EvidentialNetwork(evidence_meta_validation)\n",
    "\n",
    "amortizer = MultiModelAmortizer(evidence_net, summary_net)\n",
    "\n",
    "simulator = MainSimulator(HierarchicalNormalSimulator())"
   ]
  },
  {
   "cell_type": "code",
   "execution_count": 3,
   "metadata": {},
   "outputs": [],
   "source": [
    "# Cosine Decay with Restarts\n",
    "\n",
    "initial_lr = 0.0005\n",
    "first_decay_steps = 1000\n",
    "t_mul = 2\n",
    "m_mul = 0.9\n",
    "alpha = 0.2\n",
    "lr_schedule_restart = CosineDecayRestarts(\n",
    "    initial_lr, first_decay_steps, t_mul=t_mul, m_mul=m_mul, alpha=alpha\n",
    "    )\n",
    "\n",
    "trainer = ModelComparisonTrainer(\n",
    "    network=amortizer, \n",
    "    generative_model=simulator, \n",
    "    loss=partial(log_loss, kl_weight=0),\n",
    "    optimizer=partial(Adam, lr_schedule_restart),\n",
    "    skip_checks=True\n",
    "    )"
   ]
  },
  {
   "cell_type": "markdown",
   "metadata": {},
   "source": [
    "# Train & validate"
   ]
  },
  {
   "cell_type": "code",
   "execution_count": 4,
   "metadata": {},
   "outputs": [
    {
     "data": {
      "application/vnd.jupyter.widget-view+json": {
       "model_id": "92270f6a86554da0b61a0c156948b3eb",
       "version_major": 2,
       "version_minor": 0
      },
      "text/plain": [
       "Training epoch 1:   0%|          | 0/1 [00:00<?, ?it/s]"
      ]
     },
     "metadata": {},
     "output_type": "display_data"
    },
    {
     "data": {
      "application/vnd.jupyter.widget-view+json": {
       "model_id": "f9f4c26dbb194abd82cac95eb9955b14",
       "version_major": 2,
       "version_minor": 0
      },
      "text/plain": [
       "Training epoch 2:   0%|          | 0/1 [00:00<?, ?it/s]"
      ]
     },
     "metadata": {},
     "output_type": "display_data"
    },
    {
     "data": {
      "application/vnd.jupyter.widget-view+json": {
       "model_id": "94a1d1db49034ca8bd1fa4147345ea49",
       "version_major": 2,
       "version_minor": 0
      },
      "text/plain": [
       "Training epoch 3:   0%|          | 0/1 [00:00<?, ?it/s]"
      ]
     },
     "metadata": {},
     "output_type": "display_data"
    },
    {
     "data": {
      "application/vnd.jupyter.widget-view+json": {
       "model_id": "eddcbc866f68420e8c23563cb3b9259b",
       "version_major": 2,
       "version_minor": 0
      },
      "text/plain": [
       "Training epoch 4:   0%|          | 0/1 [00:00<?, ?it/s]"
      ]
     },
     "metadata": {},
     "output_type": "display_data"
    },
    {
     "data": {
      "application/vnd.jupyter.widget-view+json": {
       "model_id": "73483d1ab0e549c69f9e5a86b51a26f6",
       "version_major": 2,
       "version_minor": 0
      },
      "text/plain": [
       "Training epoch 5:   0%|          | 0/1 [00:00<?, ?it/s]"
      ]
     },
     "metadata": {},
     "output_type": "display_data"
    },
    {
     "data": {
      "application/vnd.jupyter.widget-view+json": {
       "model_id": "63448218b4904a329800f407f5499df5",
       "version_major": 2,
       "version_minor": 0
      },
      "text/plain": [
       "Training epoch 6:   0%|          | 0/1 [00:00<?, ?it/s]"
      ]
     },
     "metadata": {},
     "output_type": "display_data"
    },
    {
     "data": {
      "application/vnd.jupyter.widget-view+json": {
       "model_id": "95ac8c17bc44419e9997f5ff235707e8",
       "version_major": 2,
       "version_minor": 0
      },
      "text/plain": [
       "Training epoch 7:   0%|          | 0/1 [00:00<?, ?it/s]"
      ]
     },
     "metadata": {},
     "output_type": "display_data"
    },
    {
     "data": {
      "application/vnd.jupyter.widget-view+json": {
       "model_id": "f34d152b66ae4cd588963fcdd14390ea",
       "version_major": 2,
       "version_minor": 0
      },
      "text/plain": [
       "Training epoch 8:   0%|          | 0/1 [00:00<?, ?it/s]"
      ]
     },
     "metadata": {},
     "output_type": "display_data"
    },
    {
     "data": {
      "application/vnd.jupyter.widget-view+json": {
       "model_id": "21e8236c5f6a435b9f4d488360533e73",
       "version_major": 2,
       "version_minor": 0
      },
      "text/plain": [
       "Training epoch 9:   0%|          | 0/1 [00:00<?, ?it/s]"
      ]
     },
     "metadata": {},
     "output_type": "display_data"
    },
    {
     "data": {
      "application/vnd.jupyter.widget-view+json": {
       "model_id": "ddfab364956e4f4ea33911438785feaf",
       "version_major": 2,
       "version_minor": 0
      },
      "text/plain": [
       "Training epoch 10:   0%|          | 0/1 [00:00<?, ?it/s]"
      ]
     },
     "metadata": {},
     "output_type": "display_data"
    }
   ],
   "source": [
    "training_time_start = perf_counter()\n",
    "losses = trainer.train_online(epochs=10, iterations_per_epoch=1000, batch_size=32, n_obs=n_clust_obs_f_f)\n",
    "training_time_stop = perf_counter()"
   ]
  },
  {
   "cell_type": "code",
   "execution_count": 5,
   "metadata": {},
   "outputs": [
    {
     "data": {
      "image/png": "[encoded data removed]",
      "text/plain": [
       "<Figure size 1152x576 with 5 Axes>"
      ]
     },
     "metadata": {},
     "output_type": "display_data"
    }
   ],
   "source": [
    "# Validation\n",
    "n_val = 5000\n",
    "m_val, _, x_val = simulator(n_val, n_clust_obs_f_f())\n",
    "val_data = {'X' : x_val, 'm' : m_val}\n",
    "\n",
    "perf_tester(evidence_net, summary_net, val_data, n_cal_bins=15)"
   ]
  },
  {
   "cell_type": "code",
   "execution_count": 6,
   "metadata": {},
   "outputs": [
    {
     "name": "stdout",
     "output_type": "stream",
     "text": [
      "ECE = 0.097\n"
     ]
    },
    {
     "data": {
      "image/png": "[encoded data removed]",
      "text/plain": [
       "<Figure size 360x360 with 1 Axes>"
      ]
     },
     "metadata": {},
     "output_type": "display_data"
    }
   ],
   "source": [
    "# Publication-ready calibration curve\n",
    "perf_tester(evidence_net, summary_net, val_data, n_cal_bins=15, pub_style=True)"
   ]
  },
  {
   "cell_type": "markdown",
   "metadata": {},
   "source": [
    "# Calculate Bayes factors for bridge sampling comparison"
   ]
  },
  {
   "cell_type": "code",
   "execution_count": 5,
   "metadata": {},
   "outputs": [],
   "source": [
    "val_folder = os.path.join(os.path.dirname(os.path.dirname(os.getcwd())),'data', 'BF_approximation_comparison')\n",
    "data_filename = \"test_data_bf.npy\"\n",
    "test_data = np.load(os.path.join(val_folder, data_filename), allow_pickle=True).item()"
   ]
  },
  {
   "cell_type": "code",
   "execution_count": 7,
   "metadata": {},
   "outputs": [
    {
     "data": {
      "text/html": [
       "<div>\n",
       "<style scoped>\n",
       "    .dataframe tbody tr th:only-of-type {\n",
       "        vertical-align: middle;\n",
       "    }\n",
       "\n",
       "    .dataframe tbody tr th {\n",
       "        vertical-align: top;\n",
       "    }\n",
       "\n",
       "    .dataframe thead th {\n",
       "        text-align: right;\n",
       "    }\n",
       "</style>\n",
       "<table border=\"1\" class=\"dataframe\">\n",
       "  <thead>\n",
       "    <tr style=\"text-align: right;\">\n",
       "      <th></th>\n",
       "      <th>dataset</th>\n",
       "      <th>true_model</th>\n",
       "      <th>m0_prob</th>\n",
       "      <th>m1_prob</th>\n",
       "      <th>selected_model</th>\n",
       "      <th>bayes_factor</th>\n",
       "      <th>training_time</th>\n",
       "      <th>inference_time</th>\n",
       "      <th>final_epoch_loss</th>\n",
       "    </tr>\n",
       "  </thead>\n",
       "  <tbody>\n",
       "    <tr>\n",
       "      <th>0</th>\n",
       "      <td>1</td>\n",
       "      <td>0</td>\n",
       "      <td>0.579586</td>\n",
       "      <td>0.420414</td>\n",
       "      <td>0</td>\n",
       "      <td>0.725369</td>\n",
       "      <td>1.734369</td>\n",
       "      <td>0.146455</td>\n",
       "      <td>0.604693</td>\n",
       "    </tr>\n",
       "    <tr>\n",
       "      <th>1</th>\n",
       "      <td>2</td>\n",
       "      <td>1</td>\n",
       "      <td>0.312148</td>\n",
       "      <td>0.687852</td>\n",
       "      <td>1</td>\n",
       "      <td>2.203606</td>\n",
       "      <td>1.734369</td>\n",
       "      <td>0.146455</td>\n",
       "      <td>0.604693</td>\n",
       "    </tr>\n",
       "    <tr>\n",
       "      <th>2</th>\n",
       "      <td>3</td>\n",
       "      <td>1</td>\n",
       "      <td>0.292862</td>\n",
       "      <td>0.707138</td>\n",
       "      <td>1</td>\n",
       "      <td>2.414577</td>\n",
       "      <td>1.734369</td>\n",
       "      <td>0.146455</td>\n",
       "      <td>0.604693</td>\n",
       "    </tr>\n",
       "    <tr>\n",
       "      <th>3</th>\n",
       "      <td>4</td>\n",
       "      <td>1</td>\n",
       "      <td>0.400188</td>\n",
       "      <td>0.599812</td>\n",
       "      <td>1</td>\n",
       "      <td>1.498823</td>\n",
       "      <td>1.734369</td>\n",
       "      <td>0.146455</td>\n",
       "      <td>0.604693</td>\n",
       "    </tr>\n",
       "    <tr>\n",
       "      <th>4</th>\n",
       "      <td>5</td>\n",
       "      <td>0</td>\n",
       "      <td>0.564618</td>\n",
       "      <td>0.435382</td>\n",
       "      <td>0</td>\n",
       "      <td>0.771110</td>\n",
       "      <td>1.734369</td>\n",
       "      <td>0.146455</td>\n",
       "      <td>0.604693</td>\n",
       "    </tr>\n",
       "  </tbody>\n",
       "</table>\n",
       "</div>"
      ],
      "text/plain": [
       "   dataset  true_model   m0_prob   m1_prob  selected_model  bayes_factor  \\\n",
       "0        1           0  0.579586  0.420414               0      0.725369   \n",
       "1        2           1  0.312148  0.687852               1      2.203606   \n",
       "2        3           1  0.292862  0.707138               1      2.414577   \n",
       "3        4           1  0.400188  0.599812               1      1.498823   \n",
       "4        5           0  0.564618  0.435382               0      0.771110   \n",
       "\n",
       "   training_time  inference_time  final_epoch_loss  \n",
       "0       1.734369        0.146455          0.604693  \n",
       "1       1.734369        0.146455          0.604693  \n",
       "2       1.734369        0.146455          0.604693  \n",
       "3       1.734369        0.146455          0.604693  \n",
       "4       1.734369        0.146455          0.604693  "
      ]
     },
     "execution_count": 7,
     "metadata": {},
     "output_type": "execute_result"
    }
   ],
   "source": [
    "comparison_results = get_preds_and_bfs(evidence_net, summary_net, test_data, training_time_start, training_time_stop, losses)\n",
    "#comparison_results.head(5)"
   ]
  },
  {
   "cell_type": "code",
   "execution_count": null,
   "metadata": {},
   "outputs": [],
   "source": [
    "# Export results\n",
    "local_timezone = datetime.now(timezone(timedelta(0))).astimezone().tzinfo\n",
    "filename = pd.Timestamp.today(tz=local_timezone).strftime('%Y_%m_%d___%H_%M_BF_NN_comp')\n",
    "comparison_folder = os.path.join(os.path.dirname(os.getcwd()),'data', 'BF_approximation_comparison')\n",
    "\n",
    "comparison_results.to_csv(os.path.join(comparison_folder, filename), index = False)"
   ]
  }
 ],
 "metadata": {
  "interpreter": {
   "hash": "6e985f906936a09865fbf820cf96d845d1c4c025fe72eb1ea5eaf5d42b903f7b"
  },
  "kernelspec": {
   "display_name": "Python 3.8.8 ('tf')",
   "language": "python",
   "name": "python3"
  },
  "language_info": {
   "codemirror_mode": {
    "name": "ipython",
    "version": 3
   },
   "file_extension": ".py",
   "mimetype": "text/x-python",
   "name": "python",
   "nbconvert_exporter": "python",
   "pygments_lexer": "ipython3",
   "version": "3.8.8"
  },
  "orig_nbformat": 4
 },
 "nbformat": 4,
 "nbformat_minor": 2
}
