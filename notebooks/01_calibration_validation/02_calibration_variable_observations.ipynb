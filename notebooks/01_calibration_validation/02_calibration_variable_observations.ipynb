{
 "cells": [
  {
   "cell_type": "code",
   "execution_count": 1,
   "metadata": {},
   "outputs": [],
   "source": [
    "import os, sys\n",
    "sys.path.append(os.path.abspath(os.path.join('../..'))) # access sibling directories\n",
    "sys.path.append(\"C:\\\\Users\\\\lasse\\\\Documents\\\\GitHub\\\\BayesFlow\")\n",
    "\n",
    "from src.python.settings import summary_meta_validation, probability_meta_validation\n",
    "from src.python.networks import HierarchicalInvariantNetwork, ModelProbabilityNetwork\n",
    "from src.python.models import HierarchicalNormalSimulator, MainSimulator\n",
    "from src.python.losses import softmax_loss\n",
    "from src.python.helpers import n_clust_obs_f_v, n_clust_obs_f_v_val, get_repeated_predictions, get_bootstrapped_predictions, get_preds_and_bfs\n",
    "from src.python.visualization import perf_tester_over_obs, plot_eces_over_obs_repeated\n",
    "\n",
    "import numpy as np\n",
    "import pandas as pd\n",
    "import tensorflow as tf\n",
    "from tensorflow.keras.experimental import CosineDecay\n",
    "from tensorflow.keras.optimizers import Adam\n",
    "from functools import partial\n",
    "from time import perf_counter\n",
    "from datetime import datetime, timezone, timedelta\n",
    "import matplotlib.pyplot as plt\n",
    "\n",
    "from bayesflow.trainers import ModelComparisonTrainer\n",
    "from bayesflow.amortizers import MultiModelAmortizer "
   ]
  },
  {
   "cell_type": "code",
   "execution_count": 2,
   "metadata": {},
   "outputs": [
    {
     "data": {
      "text/plain": [
       "<Figure size 432x288 with 0 Axes>"
      ]
     },
     "metadata": {},
     "output_type": "display_data"
    }
   ],
   "source": [
    "# Hack to correctly set facecolor to white\n",
    "# matplotlib 3.5 only sets facecolor if a plot was already created \n",
    "_ = plt.figure()\n",
    "plt.rcParams['figure.facecolor'] = 'w'"
   ]
  },
  {
   "cell_type": "markdown",
   "metadata": {},
   "source": [
    "# Model formulation"
   ]
  },
  {
   "cell_type": "markdown",
   "metadata": {},
   "source": [
    "$$\n",
    "\\begin{align}\n",
    "x_n &\\sim \\mathcal{N}(\\theta_l, \\sigma^2) \\text{ for } n=1,...,N \\\\\n",
    "\\theta_l &\\sim \\mathcal{N}(\\mu, \\tau^2) \\text{ for } l=1,...,L\\\\\n",
    "\\sigma^2 &\\sim Half-Normal(\\sigma_s)\\\\\n",
    "\\mu &\\sim \\mathcal{N}(\\mu_0, \\tau_0)\\\\\n",
    "\\tau^2 &\\sim Half-Normal(\\sigma_t)\\\\\n",
    "\\end{align}\n",
    "$$\n",
    "\n",
    "$$\n",
    "\\begin{align}\n",
    "&\\text{Null Model }M_0 \\text{: } \\mu=0\\\\\n",
    "&\\text{Alternative Model }M_1 \\text{: } \\mu \\text{ allowed to differ from 0} \\\\\n",
    "\\end{align}\n",
    "$$"
   ]
  },
  {
   "cell_type": "markdown",
   "metadata": {},
   "source": [
    "# Set up networks"
   ]
  },
  {
   "cell_type": "code",
   "execution_count": 3,
   "metadata": {},
   "outputs": [],
   "source": [
    "summary_net = HierarchicalInvariantNetwork(summary_meta_validation)\n",
    "probability_net = ModelProbabilityNetwork(probability_meta_validation)\n",
    "\n",
    "amortizer = MultiModelAmortizer(probability_net, summary_net)\n",
    "\n",
    "simulator = MainSimulator(HierarchicalNormalSimulator())"
   ]
  },
  {
   "cell_type": "code",
   "execution_count": 4,
   "metadata": {},
   "outputs": [
    {
     "name": "stdout",
     "output_type": "stream",
     "text": [
      "Networks loaded from C:\\Users\\lasse\\Documents\\hierarchical_model_comparison_project\\checkpoints\\01_calibration_validation\\checkpoints_var_obs\\ckpt-20\n"
     ]
    }
   ],
   "source": [
    "# Training steps\n",
    "epochs=20 \n",
    "iterations_per_epoch=1000\n",
    "\n",
    "# Range of nested observations\n",
    "n_obs_min = 1 \n",
    "n_obs_max = 100\n",
    "\n",
    "# Cosine decaying learning rate\n",
    "initial_lr = 0.0005\n",
    "decay_steps = epochs*iterations_per_epoch\n",
    "alpha = 0\n",
    "lr_schedule = CosineDecay(\n",
    "    initial_lr, decay_steps, alpha=alpha\n",
    "    )\n",
    "\n",
    "# Checkpoint path for loading pretrained network and saving the final network\n",
    "checkpoint_path = 'C:\\\\Users\\\\lasse\\\\Documents\\\\hierarchical_model_comparison_project\\\\checkpoints\\\\01_calibration_validation\\\\checkpoints_var_obs'\n",
    "\n",
    "trainer = ModelComparisonTrainer(\n",
    "    network=amortizer, \n",
    "    generative_model=simulator, \n",
    "    loss=partial(softmax_loss),\n",
    "    optimizer=partial(Adam, lr_schedule),\n",
    "    checkpoint_path=checkpoint_path,\n",
    "    skip_checks=True,\n",
    "    )"
   ]
  },
  {
   "cell_type": "markdown",
   "metadata": {},
   "source": [
    "# Train & validate"
   ]
  },
  {
   "cell_type": "code",
   "execution_count": 4,
   "metadata": {},
   "outputs": [
    {
     "data": {
      "application/vnd.jupyter.widget-view+json": {
       "model_id": "0e275d4ea5654dab9e34f53fe3e182b3",
       "version_major": 2,
       "version_minor": 0
      },
      "text/plain": [
       "Training epoch 1:   0%|          | 0/1000 [00:00<?, ?it/s]"
      ]
     },
     "metadata": {},
     "output_type": "display_data"
    },
    {
     "data": {
      "application/vnd.jupyter.widget-view+json": {
       "model_id": "bc27ac7355b143b798695f0acfd58eca",
       "version_major": 2,
       "version_minor": 0
      },
      "text/plain": [
       "Training epoch 2:   0%|          | 0/1000 [00:00<?, ?it/s]"
      ]
     },
     "metadata": {},
     "output_type": "display_data"
    },
    {
     "data": {
      "application/vnd.jupyter.widget-view+json": {
       "model_id": "c238f5e7b331480cb38a21dcb4526a7c",
       "version_major": 2,
       "version_minor": 0
      },
      "text/plain": [
       "Training epoch 3:   0%|          | 0/1000 [00:00<?, ?it/s]"
      ]
     },
     "metadata": {},
     "output_type": "display_data"
    },
    {
     "data": {
      "application/vnd.jupyter.widget-view+json": {
       "model_id": "9d65264305fa40ecb2f7f36c875df1a0",
       "version_major": 2,
       "version_minor": 0
      },
      "text/plain": [
       "Training epoch 4:   0%|          | 0/1000 [00:00<?, ?it/s]"
      ]
     },
     "metadata": {},
     "output_type": "display_data"
    },
    {
     "data": {
      "application/vnd.jupyter.widget-view+json": {
       "model_id": "f5bc2b210d7543feb498484b56f3a8b7",
       "version_major": 2,
       "version_minor": 0
      },
      "text/plain": [
       "Training epoch 5:   0%|          | 0/1000 [00:00<?, ?it/s]"
      ]
     },
     "metadata": {},
     "output_type": "display_data"
    },
    {
     "data": {
      "application/vnd.jupyter.widget-view+json": {
       "model_id": "29355b04a773487b9b67e625a055c3e3",
       "version_major": 2,
       "version_minor": 0
      },
      "text/plain": [
       "Training epoch 6:   0%|          | 0/1000 [00:00<?, ?it/s]"
      ]
     },
     "metadata": {},
     "output_type": "display_data"
    },
    {
     "data": {
      "application/vnd.jupyter.widget-view+json": {
       "model_id": "f77c5eaa13a746e98f64e2e75de18ed5",
       "version_major": 2,
       "version_minor": 0
      },
      "text/plain": [
       "Training epoch 7:   0%|          | 0/1000 [00:00<?, ?it/s]"
      ]
     },
     "metadata": {},
     "output_type": "display_data"
    },
    {
     "data": {
      "application/vnd.jupyter.widget-view+json": {
       "model_id": "ed3f182a85a741ebb6bc1c4fa599039d",
       "version_major": 2,
       "version_minor": 0
      },
      "text/plain": [
       "Training epoch 8:   0%|          | 0/1000 [00:00<?, ?it/s]"
      ]
     },
     "metadata": {},
     "output_type": "display_data"
    },
    {
     "data": {
      "application/vnd.jupyter.widget-view+json": {
       "model_id": "6536d8543a0d4c38b1f943094e710753",
       "version_major": 2,
       "version_minor": 0
      },
      "text/plain": [
       "Training epoch 9:   0%|          | 0/1000 [00:00<?, ?it/s]"
      ]
     },
     "metadata": {},
     "output_type": "display_data"
    },
    {
     "data": {
      "application/vnd.jupyter.widget-view+json": {
       "model_id": "6ff11d45d5a5411ba28039943273e51b",
       "version_major": 2,
       "version_minor": 0
      },
      "text/plain": [
       "Training epoch 10:   0%|          | 0/1000 [00:00<?, ?it/s]"
      ]
     },
     "metadata": {},
     "output_type": "display_data"
    },
    {
     "data": {
      "application/vnd.jupyter.widget-view+json": {
       "model_id": "bbd2b01a418c4a65bb6042a038b036b9",
       "version_major": 2,
       "version_minor": 0
      },
      "text/plain": [
       "Training epoch 11:   0%|          | 0/1000 [00:00<?, ?it/s]"
      ]
     },
     "metadata": {},
     "output_type": "display_data"
    },
    {
     "data": {
      "application/vnd.jupyter.widget-view+json": {
       "model_id": "0526f5b153784d91a1c47de855f28714",
       "version_major": 2,
       "version_minor": 0
      },
      "text/plain": [
       "Training epoch 12:   0%|          | 0/1000 [00:00<?, ?it/s]"
      ]
     },
     "metadata": {},
     "output_type": "display_data"
    },
    {
     "data": {
      "application/vnd.jupyter.widget-view+json": {
       "model_id": "2f198630f2c6481db04c3b957f584acd",
       "version_major": 2,
       "version_minor": 0
      },
      "text/plain": [
       "Training epoch 13:   0%|          | 0/1000 [00:00<?, ?it/s]"
      ]
     },
     "metadata": {},
     "output_type": "display_data"
    },
    {
     "data": {
      "application/vnd.jupyter.widget-view+json": {
       "model_id": "fb650231f9ce4113b1635d4bda5c8b78",
       "version_major": 2,
       "version_minor": 0
      },
      "text/plain": [
       "Training epoch 14:   0%|          | 0/1000 [00:00<?, ?it/s]"
      ]
     },
     "metadata": {},
     "output_type": "display_data"
    },
    {
     "data": {
      "application/vnd.jupyter.widget-view+json": {
       "model_id": "2f5a8ca3c2c34d24ba00af26deb9b101",
       "version_major": 2,
       "version_minor": 0
      },
      "text/plain": [
       "Training epoch 15:   0%|          | 0/1000 [00:00<?, ?it/s]"
      ]
     },
     "metadata": {},
     "output_type": "display_data"
    },
    {
     "data": {
      "application/vnd.jupyter.widget-view+json": {
       "model_id": "3fcfabf043ff47f9aa69112d1da4d8b7",
       "version_major": 2,
       "version_minor": 0
      },
      "text/plain": [
       "Training epoch 16:   0%|          | 0/1000 [00:00<?, ?it/s]"
      ]
     },
     "metadata": {},
     "output_type": "display_data"
    },
    {
     "data": {
      "application/vnd.jupyter.widget-view+json": {
       "model_id": "bbd996074d4541eab74b5901afbe2301",
       "version_major": 2,
       "version_minor": 0
      },
      "text/plain": [
       "Training epoch 17:   0%|          | 0/1000 [00:00<?, ?it/s]"
      ]
     },
     "metadata": {},
     "output_type": "display_data"
    },
    {
     "data": {
      "application/vnd.jupyter.widget-view+json": {
       "model_id": "f9c4af03eb1a41f38334c4032bd6f51d",
       "version_major": 2,
       "version_minor": 0
      },
      "text/plain": [
       "Training epoch 18:   0%|          | 0/1000 [00:00<?, ?it/s]"
      ]
     },
     "metadata": {},
     "output_type": "display_data"
    },
    {
     "data": {
      "application/vnd.jupyter.widget-view+json": {
       "model_id": "05a132799d7d43dbbf0e7dce005fff6c",
       "version_major": 2,
       "version_minor": 0
      },
      "text/plain": [
       "Training epoch 19:   0%|          | 0/1000 [00:00<?, ?it/s]"
      ]
     },
     "metadata": {},
     "output_type": "display_data"
    },
    {
     "data": {
      "application/vnd.jupyter.widget-view+json": {
       "model_id": "f7dfbcd3392747acb582d8b6d0b59a1b",
       "version_major": 2,
       "version_minor": 0
      },
      "text/plain": [
       "Training epoch 20:   0%|          | 0/1000 [00:00<?, ?it/s]"
      ]
     },
     "metadata": {},
     "output_type": "display_data"
    }
   ],
   "source": [
    "training_time_start = perf_counter()\n",
    "losses = trainer.train_online(\n",
    "    epochs=epochs, iterations_per_epoch=iterations_per_epoch, batch_size=32, \n",
    "    n_obs=partial(n_clust_obs_f_v, n_obs_min, n_obs_max)\n",
    "    )\n",
    "training_time_stop = perf_counter()"
   ]
  },
  {
   "cell_type": "code",
   "execution_count": 4,
   "metadata": {},
   "outputs": [
    {
     "name": "stdout",
     "output_type": "stream",
     "text": [
      "Iteration 0 finished\n",
      "Iteration 25 finished\n",
      "Iteration 50 finished\n",
      "Iteration 75 finished\n"
     ]
    }
   ],
   "source": [
    "# Get repeated predictions\n",
    "n_settings = n_obs_max + 1 - n_obs_min\n",
    "n_repetitions = 25\n",
    "n_data_sets = 5000\n",
    "n_models = 2\n",
    "\n",
    "m_soft = np.zeros((n_settings, n_repetitions, n_data_sets, n_models))\n",
    "m_true = np.zeros((n_settings, n_repetitions, n_data_sets, n_models))\n",
    "\n",
    "for n in range(n_settings):\n",
    "    for i in range(n_repetitions):\n",
    "        m_val, _, x_val = simulator(n_data_sets, n_clust_obs_f_v_val(n+1))\n",
    "\n",
    "        m_soft[n,i,:,:] = tf.concat([probability_net.predict(summary_net(x_chunk))['m_probs'] for x_chunk in tf.split(x_val, 20)], axis=0)\n",
    "        m_true[n,i,:,:] = m_val\n",
    "    \n",
    "    if n%25 == 0:\n",
    "        print('Iteration {} finished'.format(n))"
   ]
  },
  {
   "cell_type": "code",
   "execution_count": 5,
   "metadata": {},
   "outputs": [],
   "source": [
    "# Export repeated predictions\n",
    "export_preds = False\n",
    "\n",
    "if export_preds==True:\n",
    "    local_timezone = datetime.now(timezone(timedelta(0))).astimezone().tzinfo\n",
    "\n",
    "    filename_soft = pd.Timestamp.today(tz=local_timezone).strftime('%Y_%m_%d_m_soft')\n",
    "    filename_true = pd.Timestamp.today(tz=local_timezone).strftime('%Y_%m_%d_m_true')\n",
    "    val_folder = 'C:\\\\Users\\\\lasse\\\\Documents\\\\hierarchical_model_comparison_project\\\\data\\\\01_calibration_validation\\\\02_variable_observations'\n",
    "\n",
    "    np.save(os.path.join(val_folder, filename_soft), m_soft)\n",
    "    np.save(os.path.join(val_folder, filename_true), m_true)"
   ]
  },
  {
   "cell_type": "code",
   "execution_count": 5,
   "metadata": {},
   "outputs": [],
   "source": [
    "# Import repeated predictions\n",
    "import_preds = True\n",
    "\n",
    "if import_preds==True:\n",
    "    n_settings = n_obs_max + 1 - n_obs_min\n",
    "    n_repetitions = 25\n",
    "    n_data_sets = 5000\n",
    "    n_models = 2\n",
    "\n",
    "    filename_soft = '2022_12_15_m_soft.npy'\n",
    "    filename_true = '2022_12_15_m_true.npy'\n",
    "    val_folder = 'C:\\\\Users\\\\lasse\\\\Documents\\\\hierarchical_model_comparison_project\\\\data\\\\01_calibration_validation\\\\02_variable_observations'\n",
    "\n",
    "    m_soft = np.load(os.path.join(val_folder, filename_soft))\n",
    "    m_true = np.load(os.path.join(val_folder, filename_true))"
   ]
  },
  {
   "cell_type": "code",
   "execution_count": 6,
   "metadata": {},
   "outputs": [
    {
     "name": "stdout",
     "output_type": "stream",
     "text": [
      "Grand median ECE = 0.011592153501138094\n",
      "Median accuracy = 0.8848\n"
     ]
    },
    {
     "data": {
      "image/png": "[encoded data removed]",
      "text/plain": [
       "<Figure size 360x360 with 1 Axes>"
      ]
     },
     "metadata": {},
     "output_type": "display_data"
    }
   ],
   "source": [
    "plot_eces_over_obs_repeated(m_true, m_soft, n_obs_min, n_obs_max, narrow_ci=[0.25, 0.75], \n",
    "                            wide_ci=[0.025, 0.975], n_repetitions=n_repetitions, print_accuracy=True, save=True)"
   ]
  },
  {
   "cell_type": "markdown",
   "metadata": {},
   "source": [
    "# For publication: Plot together with calibration curve from calibration experiment 1"
   ]
  },
  {
   "cell_type": "code",
   "execution_count": null,
   "metadata": {},
   "outputs": [],
   "source": [
    "# TODO if needed"
   ]
  },
  {
   "cell_type": "code",
   "execution_count": 3,
   "metadata": {},
   "outputs": [
    {
     "name": "stdout",
     "output_type": "stream",
     "text": [
      "TRAINER INITIALIZATION: No generative model provided. Only offline learning mode is available!\n",
      "Networks loaded from c:\\Users\\lasse\\Dropbox\\Uni Mannheim\\M.Sc\\4. Semester\\Masterarbeit\\Coding\\notebooks\\01_calibration_validation\\checkpoints_fixed\\ckpt-10\n"
     ]
    }
   ],
   "source": [
    "# load network from calibration experiment 1\n",
    "\n",
    "summary_net_1 = HierarchicalInvariantNetwork(summary_meta_validation)\n",
    "evidence_net_1 = EvidentialNetwork(evidence_meta_validation)\n",
    "\n",
    "amortizer_1 = MultiModelAmortizer(evidence_net_1, summary_net_1)\n",
    "\n",
    "simulator_1 = MainSimulator(HierarchicalNormalSimulator())\n",
    "\n",
    "# Checkpoint path for loading pretrained network and saving the final network\n",
    "trial_folder = 'checkpoints_fixed'\n",
    "checkpoint_path = os.path.join(os.getcwd(), trial_folder)\n",
    "\n",
    "trainer = ModelComparisonTrainer(\n",
    "    network=amortizer_1, \n",
    "    checkpoint_path=checkpoint_path,\n",
    "    )"
   ]
  },
  {
   "cell_type": "code",
   "execution_count": 5,
   "metadata": {},
   "outputs": [
    {
     "name": "stdout",
     "output_type": "stream",
     "text": [
      "ECE = 0.041\n"
     ]
    },
    {
     "data": {
      "image/png": "[encoded data removed]",
      "text/plain": [
       "<Figure size 360x360 with 1 Axes>"
      ]
     },
     "metadata": {},
     "output_type": "display_data"
    }
   ],
   "source": [
    "from src.python.helpers import n_clust_obs_f_f\n",
    "from src.python.visualization import perf_tester\n",
    "\n",
    "n_val_1 = 5000\n",
    "m_val_1, _, x_val_1 = simulator_1(n_val_1, n_clust_obs_f_f())\n",
    "val_data_1 = {'X' : x_val_1, 'm' : m_val_1}\n",
    "\n",
    "perf_tester(evidence_net_1, summary_net_1, val_data_1, n_cal_bins=15, pub_style=True)"
   ]
  },
  {
   "cell_type": "code",
   "execution_count": null,
   "metadata": {},
   "outputs": [],
   "source": [
    "import matplotlib as plt\n",
    "fig, axarr = plt.subplots(1, 2, figsize=(8, 4))\n",
    "\n",
    "# TODO: embed both figures into one subplot"
   ]
  }
 ],
 "metadata": {
  "interpreter": {
   "hash": "27a86c9f63fe2f1aa7d9f3c637434a8367b5c148236c1390e91d25c0e560ef1a"
  },
  "kernelspec": {
   "display_name": "Python 3.8.8 ('tf')",
   "language": "python",
   "name": "python3"
  },
  "language_info": {
   "codemirror_mode": {
    "name": "ipython",
    "version": 3
   },
   "file_extension": ".py",
   "mimetype": "text/x-python",
   "name": "python",
   "nbconvert_exporter": "python",
   "pygments_lexer": "ipython3",
   "version": "3.8.13 | packaged by conda-forge | (default, Mar 25 2022, 05:59:45) [MSC v.1929 64 bit (AMD64)]"
  },
  "toc": {
   "base_numbering": 1,
   "nav_menu": {},
   "number_sections": true,
   "sideBar": true,
   "skip_h1_title": false,
   "title_cell": "Table of Contents",
   "title_sidebar": "Contents",
   "toc_cell": false,
   "toc_position": {},
   "toc_section_display": true,
   "toc_window_display": false
  },
  "varInspector": {
   "cols": {
    "lenName": 16,
    "lenType": 16,
    "lenVar": 40
   },
   "kernels_config": {
    "python": {
     "delete_cmd_postfix": "",
     "delete_cmd_prefix": "del ",
     "library": "var_list.py",
     "varRefreshCmd": "print(var_dic_list())"
    },
    "r": {
     "delete_cmd_postfix": ") ",
     "delete_cmd_prefix": "rm(",
     "library": "var_list.r",
     "varRefreshCmd": "cat(var_dic_list()) "
    }
   },
   "types_to_exclude": [
    "module",
    "function",
    "builtin_function_or_method",
    "instance",
    "_Feature"
   ],
   "window_display": false
  }
 },
 "nbformat": 4,
 "nbformat_minor": 2
}
