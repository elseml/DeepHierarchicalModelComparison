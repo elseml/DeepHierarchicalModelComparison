{
 "cells": [
  {
   "cell_type": "code",
   "execution_count": 1,
   "metadata": {},
   "outputs": [],
   "source": [
    "import os, sys\n",
    "sys.path.append(os.path.abspath(os.path.join('../../..'))) # access sibling directories\n",
    "\n",
    "from src.python.models import HierarchicalNormalSimulator, MainSimulator\n",
    "from src.python.helpers import n_clust_obs_f_f\n",
    "\n",
    "import numpy as np"
   ]
  },
  {
   "cell_type": "code",
   "execution_count": 16,
   "metadata": {},
   "outputs": [
    {
     "name": "stdout",
     "output_type": "stream",
     "text": [
      "Shape of the simulated data sets (batch_size, n_clusters, n_obs, n_variables): (100, 50, 50, 1)\n",
      "Data sets generated from model1 / model2: 50.0 / 50.0\n"
     ]
    }
   ],
   "source": [
    "np.random.seed(11) \n",
    "# hack as generator samples models randomly \n",
    "# seed=11 -> first seed (starting from 0) that generates exactly 50 datasets per model\n",
    "\n",
    "simulator = MainSimulator(HierarchicalNormalSimulator())\n",
    "\n",
    "n_val = 100\n",
    "test_data_bf_true_indices, _, test_data_bf_datasets = simulator(n_val, n_clust_obs_f_f())\n",
    "test_data_bf = {'X' : test_data_bf_datasets, 'm' : test_data_bf_true_indices}\n",
    "\n",
    "print('Shape of the simulated data sets (batch_size, n_clusters, n_obs, n_variables): {}'.format(test_data_bf_datasets.shape))\n",
    "print('Data sets generated from model1 / model2: {} / {}'.format(test_data_bf_true_indices[:,0].sum(), test_data_bf_true_indices[:,1].sum()))"
   ]
  },
  {
   "cell_type": "code",
   "execution_count": 3,
   "metadata": {},
   "outputs": [],
   "source": [
    "# save data sets\n",
    "\n",
    "np.save('test_data', test_data_bf)\n",
    "np.save('test_data_true_indices', test_data_bf_true_indices)\n",
    "np.save('test_data_datasets', test_data_bf_datasets)"
   ]
  }
 ],
 "metadata": {
  "kernelspec": {
   "display_name": "Python 3.8.13 ('tf')",
   "language": "python",
   "name": "python3"
  },
  "language_info": {
   "codemirror_mode": {
    "name": "ipython",
    "version": 3
   },
   "file_extension": ".py",
   "mimetype": "text/x-python",
   "name": "python",
   "nbconvert_exporter": "python",
   "pygments_lexer": "ipython3",
   "version": "3.8.13"
  },
  "orig_nbformat": 4,
  "vscode": {
   "interpreter": {
    "hash": "27a86c9f63fe2f1aa7d9f3c637434a8367b5c148236c1390e91d25c0e560ef1a"
   }
  }
 },
 "nbformat": 4,
 "nbformat_minor": 2
}
