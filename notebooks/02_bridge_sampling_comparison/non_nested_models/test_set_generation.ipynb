{
 "cells": [
  {
   "cell_type": "code",
   "execution_count": 1,
   "metadata": {},
   "outputs": [],
   "source": [
    "import os, sys\n",
    "sys.path.append(os.path.abspath(os.path.join('../../..'))) # access sibling directories\n",
    "\n",
    "from src.python.models import HierarchicalSdtMptSimulator, MainSimulator\n",
    "from src.python.helpers import n_clust_obs_f_f\n",
    "\n",
    "import numpy as np"
   ]
  },
  {
   "cell_type": "code",
   "execution_count": 2,
   "metadata": {},
   "outputs": [
    {
     "name": "stdout",
     "output_type": "stream",
     "text": [
      "Shape of the simulated data sets (batch_size, n_clusters, n_obs, n_variables): (100, 25, 50, 2)\n",
      "Data sets generated from model1 / model2: 50.0 / 50.0\n"
     ]
    }
   ],
   "source": [
    "np.random.seed(11) \n",
    "# hack as generator samples models randomly \n",
    "# seed=11 -> first seed (starting from 0) that generates exactly 50 datasets per model\n",
    "\n",
    "simulator = MainSimulator(HierarchicalSdtMptSimulator())\n",
    "\n",
    "n_data_sets = 100\n",
    "n_clusters = 25\n",
    "n_obs = 50\n",
    "\n",
    "test_data_bf_true_indices, _, test_data_bf_datasets = simulator(batch_size=n_data_sets, n_obs=n_clust_obs_f_f(n_clusters, n_obs), n_vars=2)\n",
    "test_data_bf = {'X' : test_data_bf_datasets, 'm' : test_data_bf_true_indices}\n",
    "\n",
    "print('Shape of the simulated data sets (batch_size, n_clusters, n_obs, n_variables): {}'.format(test_data_bf_datasets.shape))\n",
    "print('Data sets generated from model1 / model2: {} / {}'.format(test_data_bf_true_indices[:,0].sum(), test_data_bf_true_indices[:,1].sum()))"
   ]
  },
  {
   "cell_type": "code",
   "execution_count": 3,
   "metadata": {},
   "outputs": [],
   "source": [
    "# save data sets\n",
    "val_folder = os.path.join(os.path.dirname(os.path.dirname(os.path.dirname(os.getcwd()))),'data', '02_bridge_sampling_comparison','non_nested_models')\n",
    "\n",
    "np.save(os.path.join(val_folder, 'test_data'), test_data_bf)\n",
    "np.save(os.path.join(val_folder, 'test_data_true_indices'), test_data_bf_true_indices)\n",
    "np.save(os.path.join(val_folder, 'test_data_datasets'), test_data_bf_datasets)"
   ]
  }
 ],
 "metadata": {
  "kernelspec": {
   "display_name": "Python 3.8.13 ('tf')",
   "language": "python",
   "name": "python3"
  },
  "language_info": {
   "codemirror_mode": {
    "name": "ipython",
    "version": 3
   },
   "file_extension": ".py",
   "mimetype": "text/x-python",
   "name": "python",
   "nbconvert_exporter": "python",
   "pygments_lexer": "ipython3",
   "version": "3.8.13"
  },
  "orig_nbformat": 4,
  "vscode": {
   "interpreter": {
    "hash": "27a86c9f63fe2f1aa7d9f3c637434a8367b5c148236c1390e91d25c0e560ef1a"
   }
  }
 },
 "nbformat": 4,
 "nbformat_minor": 2
}
