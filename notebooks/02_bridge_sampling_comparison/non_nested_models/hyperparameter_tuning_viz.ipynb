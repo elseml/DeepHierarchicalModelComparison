{
 "cells": [
  {
   "cell_type": "code",
   "execution_count": 1,
   "metadata": {},
   "outputs": [],
   "source": [
    "import numpy as np\n",
    "import pandas as pd\n",
    "import matplotlib.pyplot as plt"
   ]
  },
  {
   "cell_type": "code",
   "execution_count": 2,
   "metadata": {},
   "outputs": [
    {
     "data": {
      "text/plain": [
       "<Figure size 432x288 with 0 Axes>"
      ]
     },
     "metadata": {},
     "output_type": "display_data"
    }
   ],
   "source": [
    "# Hack to correctly set facecolor to white\n",
    "# matplotlib 3.5 only sets facecolor if a plot was already created \n",
    "_ = plt.figure()\n",
    "plt.rcParams['figure.facecolor'] = 'w'"
   ]
  },
  {
   "cell_type": "markdown",
   "metadata": {},
   "source": [
    "# Learning Rate Decay (Cosine Decay with Resets) Hyperparameters"
   ]
  },
  {
   "cell_type": "markdown",
   "metadata": {},
   "source": [
    "## Initial test with M = 75"
   ]
  },
  {
   "cell_type": "code",
   "execution_count": 4,
   "metadata": {},
   "outputs": [
    {
     "data": {
      "text/html": [
       "<div>\n",
       "<style scoped>\n",
       "    .dataframe tbody tr th:only-of-type {\n",
       "        vertical-align: middle;\n",
       "    }\n",
       "\n",
       "    .dataframe tbody tr th {\n",
       "        vertical-align: top;\n",
       "    }\n",
       "\n",
       "    .dataframe thead th {\n",
       "        text-align: right;\n",
       "    }\n",
       "</style>\n",
       "<table border=\"1\" class=\"dataframe\">\n",
       "  <thead>\n",
       "    <tr style=\"text-align: right;\">\n",
       "      <th></th>\n",
       "      <th>initial_lr</th>\n",
       "      <th>m_mul</th>\n",
       "      <th>final_loss</th>\n",
       "    </tr>\n",
       "  </thead>\n",
       "  <tbody>\n",
       "    <tr>\n",
       "      <th>0</th>\n",
       "      <td>0.00065</td>\n",
       "      <td>0.95</td>\n",
       "      <td>0.165389</td>\n",
       "    </tr>\n",
       "    <tr>\n",
       "      <th>1</th>\n",
       "      <td>0.00065</td>\n",
       "      <td>0.95</td>\n",
       "      <td>0.175521</td>\n",
       "    </tr>\n",
       "    <tr>\n",
       "      <th>2</th>\n",
       "      <td>0.00065</td>\n",
       "      <td>0.95</td>\n",
       "      <td>0.175811</td>\n",
       "    </tr>\n",
       "    <tr>\n",
       "      <th>3</th>\n",
       "      <td>0.00065</td>\n",
       "      <td>0.95</td>\n",
       "      <td>0.165079</td>\n",
       "    </tr>\n",
       "    <tr>\n",
       "      <th>4</th>\n",
       "      <td>0.00065</td>\n",
       "      <td>0.95</td>\n",
       "      <td>0.189475</td>\n",
       "    </tr>\n",
       "    <tr>\n",
       "      <th>...</th>\n",
       "      <td>...</td>\n",
       "      <td>...</td>\n",
       "      <td>...</td>\n",
       "    </tr>\n",
       "    <tr>\n",
       "      <th>95</th>\n",
       "      <td>0.00050</td>\n",
       "      <td>0.75</td>\n",
       "      <td>0.179936</td>\n",
       "    </tr>\n",
       "    <tr>\n",
       "      <th>96</th>\n",
       "      <td>0.00050</td>\n",
       "      <td>0.75</td>\n",
       "      <td>0.213220</td>\n",
       "    </tr>\n",
       "    <tr>\n",
       "      <th>97</th>\n",
       "      <td>0.00050</td>\n",
       "      <td>0.75</td>\n",
       "      <td>0.226972</td>\n",
       "    </tr>\n",
       "    <tr>\n",
       "      <th>98</th>\n",
       "      <td>0.00050</td>\n",
       "      <td>0.75</td>\n",
       "      <td>0.218954</td>\n",
       "    </tr>\n",
       "    <tr>\n",
       "      <th>99</th>\n",
       "      <td>0.00050</td>\n",
       "      <td>0.75</td>\n",
       "      <td>0.201153</td>\n",
       "    </tr>\n",
       "  </tbody>\n",
       "</table>\n",
       "<p>100 rows × 3 columns</p>\n",
       "</div>"
      ],
      "text/plain": [
       "    initial_lr  m_mul  final_loss\n",
       "0      0.00065   0.95    0.165389\n",
       "1      0.00065   0.95    0.175521\n",
       "2      0.00065   0.95    0.175811\n",
       "3      0.00065   0.95    0.165079\n",
       "4      0.00065   0.95    0.189475\n",
       "..         ...    ...         ...\n",
       "95     0.00050   0.75    0.179936\n",
       "96     0.00050   0.75    0.213220\n",
       "97     0.00050   0.75    0.226972\n",
       "98     0.00050   0.75    0.218954\n",
       "99     0.00050   0.75    0.201153\n",
       "\n",
       "[100 rows x 3 columns]"
      ]
     },
     "execution_count": 4,
     "metadata": {},
     "output_type": "execute_result"
    }
   ],
   "source": [
    "# Import data\n",
    "results = pd.read_csv('hyperparameter_tuning_results_m75', index_col=0)\n",
    "results"
   ]
  },
  {
   "cell_type": "markdown",
   "metadata": {},
   "source": [
    "Comment: A final running loss of .18 corresponds to accuracies between .95-.97 for both the evidential and the softmax output (and ECEs around .07)."
   ]
  },
  {
   "cell_type": "code",
   "execution_count": 5,
   "metadata": {},
   "outputs": [
    {
     "data": {
      "text/plain": [
       "<matplotlib.legend.Legend at 0x244ba9cc6a0>"
      ]
     },
     "execution_count": 5,
     "metadata": {},
     "output_type": "execute_result"
    },
    {
     "data": {
      "image/png": "[encoded data removed]",
      "text/plain": [
       "<Figure size 720x360 with 1 Axes>"
      ]
     },
     "metadata": {},
     "output_type": "display_data"
    }
   ],
   "source": [
    "# Plot final epoch loss with respect to initial learning rate\n",
    "outcome = 'initial_lr'\n",
    "\n",
    "fig, ax = plt.subplots(1,1, figsize=(10,5))\n",
    "uniques = list(set(results[outcome])) # get categories\n",
    "colors = plt.cm.viridis(np.linspace(0, 1, len(uniques)))\n",
    "for i, value in enumerate(uniques):\n",
    "    ax.bar(x=results.index[results[outcome]==value], height=results['final_loss'][results[outcome]==value], color=colors[i], label=f'{outcome}={value}')\n",
    "    \n",
    "ax.set_xlim(-0.5,99.5)\n",
    "ax.set_ylim(0,2)\n",
    "ax.set_ylabel('Final epoch running loss')\n",
    "\n",
    "# fix wrong ordering of legend\n",
    "handles,labels = ax.get_legend_handles_labels()\n",
    "order = [2,0,1,3]\n",
    "ax.legend([handles[i] for i in order], [labels[i] for i in order])"
   ]
  },
  {
   "cell_type": "code",
   "execution_count": 6,
   "metadata": {},
   "outputs": [
    {
     "data": {
      "text/plain": [
       "<matplotlib.legend.Legend at 0x244bbb59d00>"
      ]
     },
     "execution_count": 6,
     "metadata": {},
     "output_type": "execute_result"
    },
    {
     "data": {
      "image/png": "[encoded data removed]",
      "text/plain": [
       "<Figure size 720x360 with 1 Axes>"
      ]
     },
     "metadata": {},
     "output_type": "display_data"
    }
   ],
   "source": [
    "# Plot final epoch loss with respect to decay rate (lower=faster decay)\n",
    "outcome = 'm_mul'\n",
    "\n",
    "fig, ax = plt.subplots(1,1, figsize=(10,5))\n",
    "uniques = list(set(results[outcome])) # get categories\n",
    "colors = plt.cm.viridis(np.linspace(0, 1, len(uniques)))\n",
    "for i, value in enumerate(uniques):\n",
    "    ax.bar(x=results.index[results[outcome]==value], height=results['final_loss'][results[outcome]==value], color=colors[i], label=f'{outcome}={value}')\n",
    "    \n",
    "ax.set_xlim(-0.5,99.5)\n",
    "ax.set_ylim(0,2)\n",
    "ax.set_ylabel('Final epoch running loss')\n",
    "ax.legend()"
   ]
  },
  {
   "cell_type": "markdown",
   "metadata": {},
   "source": [
    "## Second test with M = 50"
   ]
  },
  {
   "cell_type": "code",
   "execution_count": 7,
   "metadata": {},
   "outputs": [
    {
     "data": {
      "text/html": [
       "<div>\n",
       "<style scoped>\n",
       "    .dataframe tbody tr th:only-of-type {\n",
       "        vertical-align: middle;\n",
       "    }\n",
       "\n",
       "    .dataframe tbody tr th {\n",
       "        vertical-align: top;\n",
       "    }\n",
       "\n",
       "    .dataframe thead th {\n",
       "        text-align: right;\n",
       "    }\n",
       "</style>\n",
       "<table border=\"1\" class=\"dataframe\">\n",
       "  <thead>\n",
       "    <tr style=\"text-align: right;\">\n",
       "      <th></th>\n",
       "      <th>initial_lr</th>\n",
       "      <th>m_mul</th>\n",
       "      <th>final_loss</th>\n",
       "    </tr>\n",
       "  </thead>\n",
       "  <tbody>\n",
       "    <tr>\n",
       "      <th>0</th>\n",
       "      <td>0.00065</td>\n",
       "      <td>0.8</td>\n",
       "      <td>0.236606</td>\n",
       "    </tr>\n",
       "    <tr>\n",
       "      <th>1</th>\n",
       "      <td>0.00065</td>\n",
       "      <td>0.8</td>\n",
       "      <td>0.242102</td>\n",
       "    </tr>\n",
       "    <tr>\n",
       "      <th>2</th>\n",
       "      <td>0.00065</td>\n",
       "      <td>0.8</td>\n",
       "      <td>0.227229</td>\n",
       "    </tr>\n",
       "    <tr>\n",
       "      <th>3</th>\n",
       "      <td>0.00065</td>\n",
       "      <td>0.8</td>\n",
       "      <td>0.221264</td>\n",
       "    </tr>\n",
       "    <tr>\n",
       "      <th>4</th>\n",
       "      <td>0.00065</td>\n",
       "      <td>0.8</td>\n",
       "      <td>0.277865</td>\n",
       "    </tr>\n",
       "    <tr>\n",
       "      <th>5</th>\n",
       "      <td>0.00050</td>\n",
       "      <td>0.8</td>\n",
       "      <td>0.226577</td>\n",
       "    </tr>\n",
       "    <tr>\n",
       "      <th>6</th>\n",
       "      <td>0.00050</td>\n",
       "      <td>0.8</td>\n",
       "      <td>0.237445</td>\n",
       "    </tr>\n",
       "    <tr>\n",
       "      <th>7</th>\n",
       "      <td>0.00050</td>\n",
       "      <td>0.8</td>\n",
       "      <td>0.308270</td>\n",
       "    </tr>\n",
       "    <tr>\n",
       "      <th>8</th>\n",
       "      <td>0.00050</td>\n",
       "      <td>0.8</td>\n",
       "      <td>0.252728</td>\n",
       "    </tr>\n",
       "    <tr>\n",
       "      <th>9</th>\n",
       "      <td>0.00050</td>\n",
       "      <td>0.8</td>\n",
       "      <td>0.266609</td>\n",
       "    </tr>\n",
       "  </tbody>\n",
       "</table>\n",
       "</div>"
      ],
      "text/plain": [
       "   initial_lr  m_mul  final_loss\n",
       "0     0.00065    0.8    0.236606\n",
       "1     0.00065    0.8    0.242102\n",
       "2     0.00065    0.8    0.227229\n",
       "3     0.00065    0.8    0.221264\n",
       "4     0.00065    0.8    0.277865\n",
       "5     0.00050    0.8    0.226577\n",
       "6     0.00050    0.8    0.237445\n",
       "7     0.00050    0.8    0.308270\n",
       "8     0.00050    0.8    0.252728\n",
       "9     0.00050    0.8    0.266609"
      ]
     },
     "execution_count": 7,
     "metadata": {},
     "output_type": "execute_result"
    }
   ],
   "source": [
    "# Import data\n",
    "results = pd.read_csv('hyperparameter_tuning_results_m50', index_col=0)\n",
    "results"
   ]
  },
  {
   "cell_type": "code",
   "execution_count": 8,
   "metadata": {},
   "outputs": [
    {
     "data": {
      "text/plain": [
       "<matplotlib.legend.Legend at 0x244bbc62d30>"
      ]
     },
     "execution_count": 8,
     "metadata": {},
     "output_type": "execute_result"
    },
    {
     "data": {
      "image/png": "[encoded data removed]",
      "text/plain": [
       "<Figure size 720x360 with 1 Axes>"
      ]
     },
     "metadata": {},
     "output_type": "display_data"
    }
   ],
   "source": [
    "# Plot final epoch loss with respect to initial learning rate\n",
    "outcome = 'initial_lr'\n",
    "\n",
    "fig, ax = plt.subplots(1,1, figsize=(10,5))\n",
    "uniques = list(set(results[outcome])) # get categories\n",
    "colors = plt.cm.viridis(np.linspace(0, 1, len(uniques)))\n",
    "for i, value in enumerate(uniques):\n",
    "    ax.bar(x=results.index[results[outcome]==value], height=results['final_loss'][results[outcome]==value], color=colors[i], label=f'{outcome}={value}')\n",
    "    \n",
    "ax.set_xlim(-0.5,9.5)\n",
    "ax.set_ylabel('Final epoch running loss')\n",
    "ax.legend()"
   ]
  },
  {
   "cell_type": "markdown",
   "metadata": {},
   "source": [
    "Comment: A final running loss of .23 corresponds to accuracies between .93-.96 for both the evidential and the softmax output (and ECEs around .07)."
   ]
  },
  {
   "cell_type": "code",
   "execution_count": 10,
   "metadata": {},
   "outputs": [
    {
     "data": {
      "text/plain": [
       "0.2318004775"
      ]
     },
     "execution_count": 10,
     "metadata": {},
     "output_type": "execute_result"
    }
   ],
   "source": [
    "np.mean(results['final_loss'][0:4])"
   ]
  },
  {
   "cell_type": "code",
   "execution_count": 11,
   "metadata": {},
   "outputs": [
    {
     "data": {
      "text/plain": [
       "0.2562551375"
      ]
     },
     "execution_count": 11,
     "metadata": {},
     "output_type": "execute_result"
    }
   ],
   "source": [
    "np.mean(results['final_loss'][5:9])"
   ]
  },
  {
   "cell_type": "markdown",
   "metadata": {},
   "source": [
    "# Dropout and Input Noise"
   ]
  },
  {
   "cell_type": "markdown",
   "metadata": {},
   "source": [
    "## M = 25"
   ]
  },
  {
   "cell_type": "code",
   "execution_count": 25,
   "metadata": {},
   "outputs": [
    {
     "data": {
      "text/html": [
       "<div>\n",
       "<style scoped>\n",
       "    .dataframe tbody tr th:only-of-type {\n",
       "        vertical-align: middle;\n",
       "    }\n",
       "\n",
       "    .dataframe tbody tr th {\n",
       "        vertical-align: top;\n",
       "    }\n",
       "\n",
       "    .dataframe thead th {\n",
       "        text-align: right;\n",
       "    }\n",
       "</style>\n",
       "<table border=\"1\" class=\"dataframe\">\n",
       "  <thead>\n",
       "    <tr style=\"text-align: right;\">\n",
       "      <th></th>\n",
       "      <th>dropout</th>\n",
       "      <th>input noise</th>\n",
       "      <th>final_loss</th>\n",
       "    </tr>\n",
       "  </thead>\n",
       "  <tbody>\n",
       "    <tr>\n",
       "      <th>0</th>\n",
       "      <td>False</td>\n",
       "      <td>0.00</td>\n",
       "      <td>0.166121</td>\n",
       "    </tr>\n",
       "    <tr>\n",
       "      <th>1</th>\n",
       "      <td>False</td>\n",
       "      <td>0.00</td>\n",
       "      <td>0.178621</td>\n",
       "    </tr>\n",
       "    <tr>\n",
       "      <th>2</th>\n",
       "      <td>False</td>\n",
       "      <td>0.00</td>\n",
       "      <td>0.172776</td>\n",
       "    </tr>\n",
       "    <tr>\n",
       "      <th>3</th>\n",
       "      <td>False</td>\n",
       "      <td>0.00</td>\n",
       "      <td>0.200245</td>\n",
       "    </tr>\n",
       "    <tr>\n",
       "      <th>4</th>\n",
       "      <td>False</td>\n",
       "      <td>0.00</td>\n",
       "      <td>0.177154</td>\n",
       "    </tr>\n",
       "    <tr>\n",
       "      <th>5</th>\n",
       "      <td>False</td>\n",
       "      <td>0.05</td>\n",
       "      <td>0.237931</td>\n",
       "    </tr>\n",
       "    <tr>\n",
       "      <th>6</th>\n",
       "      <td>False</td>\n",
       "      <td>0.05</td>\n",
       "      <td>0.164746</td>\n",
       "    </tr>\n",
       "    <tr>\n",
       "      <th>7</th>\n",
       "      <td>False</td>\n",
       "      <td>0.05</td>\n",
       "      <td>0.250386</td>\n",
       "    </tr>\n",
       "    <tr>\n",
       "      <th>8</th>\n",
       "      <td>False</td>\n",
       "      <td>0.05</td>\n",
       "      <td>0.174719</td>\n",
       "    </tr>\n",
       "    <tr>\n",
       "      <th>9</th>\n",
       "      <td>False</td>\n",
       "      <td>0.05</td>\n",
       "      <td>0.466809</td>\n",
       "    </tr>\n",
       "    <tr>\n",
       "      <th>10</th>\n",
       "      <td>True</td>\n",
       "      <td>0.00</td>\n",
       "      <td>0.623129</td>\n",
       "    </tr>\n",
       "    <tr>\n",
       "      <th>11</th>\n",
       "      <td>True</td>\n",
       "      <td>0.00</td>\n",
       "      <td>0.693116</td>\n",
       "    </tr>\n",
       "    <tr>\n",
       "      <th>12</th>\n",
       "      <td>True</td>\n",
       "      <td>0.00</td>\n",
       "      <td>0.167123</td>\n",
       "    </tr>\n",
       "    <tr>\n",
       "      <th>13</th>\n",
       "      <td>True</td>\n",
       "      <td>0.00</td>\n",
       "      <td>0.166923</td>\n",
       "    </tr>\n",
       "    <tr>\n",
       "      <th>14</th>\n",
       "      <td>True</td>\n",
       "      <td>0.00</td>\n",
       "      <td>0.693147</td>\n",
       "    </tr>\n",
       "    <tr>\n",
       "      <th>15</th>\n",
       "      <td>True</td>\n",
       "      <td>0.05</td>\n",
       "      <td>0.693187</td>\n",
       "    </tr>\n",
       "    <tr>\n",
       "      <th>16</th>\n",
       "      <td>True</td>\n",
       "      <td>0.05</td>\n",
       "      <td>0.693197</td>\n",
       "    </tr>\n",
       "    <tr>\n",
       "      <th>17</th>\n",
       "      <td>True</td>\n",
       "      <td>0.05</td>\n",
       "      <td>0.693427</td>\n",
       "    </tr>\n",
       "    <tr>\n",
       "      <th>18</th>\n",
       "      <td>True</td>\n",
       "      <td>0.05</td>\n",
       "      <td>0.164863</td>\n",
       "    </tr>\n",
       "    <tr>\n",
       "      <th>19</th>\n",
       "      <td>True</td>\n",
       "      <td>0.05</td>\n",
       "      <td>0.693230</td>\n",
       "    </tr>\n",
       "  </tbody>\n",
       "</table>\n",
       "</div>"
      ],
      "text/plain": [
       "    dropout  input noise  final_loss\n",
       "0     False         0.00    0.166121\n",
       "1     False         0.00    0.178621\n",
       "2     False         0.00    0.172776\n",
       "3     False         0.00    0.200245\n",
       "4     False         0.00    0.177154\n",
       "5     False         0.05    0.237931\n",
       "6     False         0.05    0.164746\n",
       "7     False         0.05    0.250386\n",
       "8     False         0.05    0.174719\n",
       "9     False         0.05    0.466809\n",
       "10     True         0.00    0.623129\n",
       "11     True         0.00    0.693116\n",
       "12     True         0.00    0.167123\n",
       "13     True         0.00    0.166923\n",
       "14     True         0.00    0.693147\n",
       "15     True         0.05    0.693187\n",
       "16     True         0.05    0.693197\n",
       "17     True         0.05    0.693427\n",
       "18     True         0.05    0.164863\n",
       "19     True         0.05    0.693230"
      ]
     },
     "execution_count": 25,
     "metadata": {},
     "output_type": "execute_result"
    }
   ],
   "source": [
    "# Import data\n",
    "results = pd.read_csv('hyperparameter_tuning_results_dropout_input_noise', index_col=0)\n",
    "results['input noise'] = results['input noise'].fillna(0)\n",
    "results"
   ]
  },
  {
   "cell_type": "code",
   "execution_count": 28,
   "metadata": {},
   "outputs": [
    {
     "data": {
      "text/plain": [
       "<matplotlib.legend.Legend at 0x129517e2280>"
      ]
     },
     "execution_count": 28,
     "metadata": {},
     "output_type": "execute_result"
    },
    {
     "data": {
      "image/png": "[encoded data removed]",
      "text/plain": [
       "<Figure size 720x360 with 1 Axes>"
      ]
     },
     "metadata": {},
     "output_type": "display_data"
    }
   ],
   "source": [
    "# Plot final epoch loss with respect to dropout\n",
    "outcome = 'dropout'\n",
    "\n",
    "fig, ax = plt.subplots(1,1, figsize=(10,5))\n",
    "uniques = list(set(results[outcome])) # get categories\n",
    "colors = plt.cm.viridis(np.linspace(0, 1, len(uniques)))\n",
    "for i, value in enumerate(uniques):\n",
    "    ax.bar(x=results.index[results[outcome]==value], height=results['final_loss'][results[outcome]==value], color=colors[i], label=f'{outcome}={value}')\n",
    "    \n",
    "ax.set_xlim(-0.5,19.5)\n",
    "ax.set_xlabel('NN training trial')\n",
    "ax.set_ylabel('Final epoch running loss')\n",
    "ax.legend()"
   ]
  },
  {
   "cell_type": "code",
   "execution_count": 29,
   "metadata": {},
   "outputs": [
    {
     "data": {
      "text/plain": [
       "<matplotlib.legend.Legend at 0x12951891910>"
      ]
     },
     "execution_count": 29,
     "metadata": {},
     "output_type": "execute_result"
    },
    {
     "data": {
      "image/png": "[encoded data removed]",
      "text/plain": [
       "<Figure size 720x360 with 1 Axes>"
      ]
     },
     "metadata": {},
     "output_type": "display_data"
    }
   ],
   "source": [
    "# Plot final epoch loss with respect to input noise\n",
    "outcome = 'input noise'\n",
    "\n",
    "fig, ax = plt.subplots(1,1, figsize=(10,5))\n",
    "uniques = list(set(results[outcome])) # get categories\n",
    "colors = plt.cm.viridis(np.linspace(0, 1, len(uniques)))\n",
    "for i, value in enumerate(uniques):\n",
    "    ax.bar(x=results.index[results[outcome]==value], height=results['final_loss'][results[outcome]==value], color=colors[i], label=f'{outcome}={value}')\n",
    "    \n",
    "ax.set_xlim(-0.5,19.5)\n",
    "ax.set_xlabel('NN training trial')\n",
    "ax.set_ylabel('Final epoch running loss')\n",
    "ax.legend()"
   ]
  }
 ],
 "metadata": {
  "kernelspec": {
   "display_name": "Python 3.8.13 ('tf')",
   "language": "python",
   "name": "python3"
  },
  "language_info": {
   "codemirror_mode": {
    "name": "ipython",
    "version": 3
   },
   "file_extension": ".py",
   "mimetype": "text/x-python",
   "name": "python",
   "nbconvert_exporter": "python",
   "pygments_lexer": "ipython3",
   "version": "3.8.13"
  },
  "orig_nbformat": 4,
  "vscode": {
   "interpreter": {
    "hash": "27a86c9f63fe2f1aa7d9f3c637434a8367b5c148236c1390e91d25c0e560ef1a"
   }
  }
 },
 "nbformat": 4,
 "nbformat_minor": 2
}
