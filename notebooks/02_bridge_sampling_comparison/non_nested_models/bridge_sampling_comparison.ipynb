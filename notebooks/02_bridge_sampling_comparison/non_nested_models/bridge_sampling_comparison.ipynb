{
 "cells": [
  {
   "cell_type": "markdown",
   "id": "stretch-fancy",
   "metadata": {},
   "source": [
    "# Setup"
   ]
  },
  {
   "cell_type": "code",
   "execution_count": 1,
   "id": "selective-civilian",
   "metadata": {},
   "outputs": [],
   "source": [
    "import os, sys\n",
    "sys.path.append(os.path.abspath(os.path.join('../../..'))) # access sibling directories\n",
    "\n",
    "from src.python.metrics import performance_metrics, bootstrapped_metrics\n",
    "from src.python.helpers import log_with_inf_noise_addition, computation_times\n",
    "from src.python.visualization import plot_approximations, plot_computation_times\n",
    "\n",
    "import numpy as np\n",
    "np.set_printoptions(suppress=True)\n",
    "import pandas as pd\n",
    "import matplotlib.pyplot as plt"
   ]
  },
  {
   "cell_type": "code",
   "execution_count": 2,
   "id": "4d7faa2c",
   "metadata": {},
   "outputs": [
    {
     "data": {
      "text/plain": [
       "<Figure size 432x288 with 0 Axes>"
      ]
     },
     "metadata": {},
     "output_type": "display_data"
    }
   ],
   "source": [
    "# Hack to correctly set facecolor to white\n",
    "# matplotlib 3.5 only sets facecolor if a plot was already created \n",
    "_ = plt.figure()\n",
    "plt.rcParams['figure.facecolor'] = 'w'"
   ]
  },
  {
   "cell_type": "markdown",
   "id": "friendly-authorization",
   "metadata": {},
   "source": [
    "# Load data"
   ]
  },
  {
   "cell_type": "code",
   "execution_count": 3,
   "id": "undefined-visibility",
   "metadata": {},
   "outputs": [],
   "source": [
    "comparison_folder = os.path.join(os.path.dirname(os.path.dirname(os.path.dirname(os.getcwd()))),'data', '02_bridge_sampling_comparison', 'non_nested_models')\n",
    "bridge_file = '2022_12_02_BF_BS'\n",
    "NN_fixed_file = '2022_12_06_BF_NN_softmax'\n",
    "\n",
    "bridge = pd.read_csv(os.path.join(comparison_folder, bridge_file), sep = \" \").reset_index(drop=True)\n",
    "NN_fixed = pd.read_csv(os.path.join(comparison_folder, NN_fixed_file))\n",
    "\n",
    "results_list = [bridge, NN_fixed]"
   ]
  },
  {
   "cell_type": "code",
   "execution_count": 4,
   "id": "75ba26af",
   "metadata": {},
   "outputs": [
    {
     "data": {
      "text/html": [
       "<div>\n",
       "<style scoped>\n",
       "    .dataframe tbody tr th:only-of-type {\n",
       "        vertical-align: middle;\n",
       "    }\n",
       "\n",
       "    .dataframe tbody tr th {\n",
       "        vertical-align: top;\n",
       "    }\n",
       "\n",
       "    .dataframe thead th {\n",
       "        text-align: right;\n",
       "    }\n",
       "</style>\n",
       "<table border=\"1\" class=\"dataframe\">\n",
       "  <thead>\n",
       "    <tr style=\"text-align: right;\">\n",
       "      <th></th>\n",
       "      <th>dataset</th>\n",
       "      <th>true_model</th>\n",
       "      <th>m0_prob</th>\n",
       "      <th>m1_prob</th>\n",
       "      <th>selected_model</th>\n",
       "      <th>bayes_factor</th>\n",
       "      <th>training_time</th>\n",
       "      <th>inference_time</th>\n",
       "      <th>final_epoch_loss</th>\n",
       "    </tr>\n",
       "  </thead>\n",
       "  <tbody>\n",
       "    <tr>\n",
       "      <th>0</th>\n",
       "      <td>1</td>\n",
       "      <td>0</td>\n",
       "      <td>0.969890</td>\n",
       "      <td>3.011040e-02</td>\n",
       "      <td>0</td>\n",
       "      <td>3.104519e-02</td>\n",
       "      <td>1090.605605</td>\n",
       "      <td>0.000359</td>\n",
       "      <td>0.210434</td>\n",
       "    </tr>\n",
       "    <tr>\n",
       "      <th>1</th>\n",
       "      <td>2</td>\n",
       "      <td>0</td>\n",
       "      <td>0.981640</td>\n",
       "      <td>1.835998e-02</td>\n",
       "      <td>0</td>\n",
       "      <td>1.870337e-02</td>\n",
       "      <td>1090.605605</td>\n",
       "      <td>0.000359</td>\n",
       "      <td>0.210434</td>\n",
       "    </tr>\n",
       "    <tr>\n",
       "      <th>2</th>\n",
       "      <td>3</td>\n",
       "      <td>0</td>\n",
       "      <td>1.000000</td>\n",
       "      <td>3.446686e-07</td>\n",
       "      <td>0</td>\n",
       "      <td>3.446688e-07</td>\n",
       "      <td>1090.605605</td>\n",
       "      <td>0.000359</td>\n",
       "      <td>0.210434</td>\n",
       "    </tr>\n",
       "    <tr>\n",
       "      <th>3</th>\n",
       "      <td>4</td>\n",
       "      <td>1</td>\n",
       "      <td>0.142598</td>\n",
       "      <td>8.574018e-01</td>\n",
       "      <td>1</td>\n",
       "      <td>6.012711e+00</td>\n",
       "      <td>1090.605605</td>\n",
       "      <td>0.000359</td>\n",
       "      <td>0.210434</td>\n",
       "    </tr>\n",
       "    <tr>\n",
       "      <th>4</th>\n",
       "      <td>5</td>\n",
       "      <td>0</td>\n",
       "      <td>0.991528</td>\n",
       "      <td>8.472254e-03</td>\n",
       "      <td>0</td>\n",
       "      <td>8.544647e-03</td>\n",
       "      <td>1090.605605</td>\n",
       "      <td>0.000359</td>\n",
       "      <td>0.210434</td>\n",
       "    </tr>\n",
       "    <tr>\n",
       "      <th>...</th>\n",
       "      <td>...</td>\n",
       "      <td>...</td>\n",
       "      <td>...</td>\n",
       "      <td>...</td>\n",
       "      <td>...</td>\n",
       "      <td>...</td>\n",
       "      <td>...</td>\n",
       "      <td>...</td>\n",
       "      <td>...</td>\n",
       "    </tr>\n",
       "    <tr>\n",
       "      <th>95</th>\n",
       "      <td>96</td>\n",
       "      <td>0</td>\n",
       "      <td>0.998685</td>\n",
       "      <td>1.314761e-03</td>\n",
       "      <td>0</td>\n",
       "      <td>1.316492e-03</td>\n",
       "      <td>1090.605605</td>\n",
       "      <td>0.000359</td>\n",
       "      <td>0.210434</td>\n",
       "    </tr>\n",
       "    <tr>\n",
       "      <th>96</th>\n",
       "      <td>97</td>\n",
       "      <td>0</td>\n",
       "      <td>0.379772</td>\n",
       "      <td>6.202282e-01</td>\n",
       "      <td>1</td>\n",
       "      <td>1.633160e+00</td>\n",
       "      <td>1090.605605</td>\n",
       "      <td>0.000359</td>\n",
       "      <td>0.210434</td>\n",
       "    </tr>\n",
       "    <tr>\n",
       "      <th>97</th>\n",
       "      <td>98</td>\n",
       "      <td>1</td>\n",
       "      <td>0.000058</td>\n",
       "      <td>9.999417e-01</td>\n",
       "      <td>1</td>\n",
       "      <td>1.715362e+04</td>\n",
       "      <td>1090.605605</td>\n",
       "      <td>0.000359</td>\n",
       "      <td>0.210434</td>\n",
       "    </tr>\n",
       "    <tr>\n",
       "      <th>98</th>\n",
       "      <td>99</td>\n",
       "      <td>1</td>\n",
       "      <td>0.000221</td>\n",
       "      <td>9.997793e-01</td>\n",
       "      <td>1</td>\n",
       "      <td>4.529709e+03</td>\n",
       "      <td>1090.605605</td>\n",
       "      <td>0.000359</td>\n",
       "      <td>0.210434</td>\n",
       "    </tr>\n",
       "    <tr>\n",
       "      <th>99</th>\n",
       "      <td>100</td>\n",
       "      <td>1</td>\n",
       "      <td>0.011309</td>\n",
       "      <td>9.886914e-01</td>\n",
       "      <td>1</td>\n",
       "      <td>8.742866e+01</td>\n",
       "      <td>1090.605605</td>\n",
       "      <td>0.000359</td>\n",
       "      <td>0.210434</td>\n",
       "    </tr>\n",
       "  </tbody>\n",
       "</table>\n",
       "<p>100 rows × 9 columns</p>\n",
       "</div>"
      ],
      "text/plain": [
       "    dataset  true_model   m0_prob       m1_prob  selected_model  bayes_factor  \\\n",
       "0         1           0  0.969890  3.011040e-02               0  3.104519e-02   \n",
       "1         2           0  0.981640  1.835998e-02               0  1.870337e-02   \n",
       "2         3           0  1.000000  3.446686e-07               0  3.446688e-07   \n",
       "3         4           1  0.142598  8.574018e-01               1  6.012711e+00   \n",
       "4         5           0  0.991528  8.472254e-03               0  8.544647e-03   \n",
       "..      ...         ...       ...           ...             ...           ...   \n",
       "95       96           0  0.998685  1.314761e-03               0  1.316492e-03   \n",
       "96       97           0  0.379772  6.202282e-01               1  1.633160e+00   \n",
       "97       98           1  0.000058  9.999417e-01               1  1.715362e+04   \n",
       "98       99           1  0.000221  9.997793e-01               1  4.529709e+03   \n",
       "99      100           1  0.011309  9.886914e-01               1  8.742866e+01   \n",
       "\n",
       "    training_time  inference_time  final_epoch_loss  \n",
       "0     1090.605605        0.000359          0.210434  \n",
       "1     1090.605605        0.000359          0.210434  \n",
       "2     1090.605605        0.000359          0.210434  \n",
       "3     1090.605605        0.000359          0.210434  \n",
       "4     1090.605605        0.000359          0.210434  \n",
       "..            ...             ...               ...  \n",
       "95    1090.605605        0.000359          0.210434  \n",
       "96    1090.605605        0.000359          0.210434  \n",
       "97    1090.605605        0.000359          0.210434  \n",
       "98    1090.605605        0.000359          0.210434  \n",
       "99    1090.605605        0.000359          0.210434  \n",
       "\n",
       "[100 rows x 9 columns]"
      ]
     },
     "execution_count": 4,
     "metadata": {},
     "output_type": "execute_result"
    }
   ],
   "source": [
    "NN_fixed"
   ]
  },
  {
   "cell_type": "markdown",
   "id": "alive-bacteria",
   "metadata": {},
   "source": [
    "# Calculate performance metrics"
   ]
  },
  {
   "cell_type": "code",
   "execution_count": 5,
   "id": "closed-ferry",
   "metadata": {},
   "outputs": [],
   "source": [
    "n_bootstrap = 100000\n",
    "names = ['Bridge sampling', 'Neural network']\n",
    "metrics = ['Accuracy', 'ROC AUC', 'MAE', 'RMSE', 'Log score', 'Bias']\n",
    "\n",
    "# Calculate performance metrics\n",
    "perf_metrics = performance_metrics(results_list, names=names, metrics=metrics)\n",
    "\n",
    "# Calculate bootstrapped performance metrics\n",
    "metrics_means, metrics_ses = bootstrapped_metrics(results_list, n_bootstrap=1000, names=names, metrics=metrics)"
   ]
  },
  {
   "cell_type": "code",
   "execution_count": 6,
   "id": "dcc6ec00",
   "metadata": {},
   "outputs": [
    {
     "data": {
      "text/html": [
       "<div>\n",
       "<style scoped>\n",
       "    .dataframe tbody tr th:only-of-type {\n",
       "        vertical-align: middle;\n",
       "    }\n",
       "\n",
       "    .dataframe tbody tr th {\n",
       "        vertical-align: top;\n",
       "    }\n",
       "\n",
       "    .dataframe thead th {\n",
       "        text-align: right;\n",
       "    }\n",
       "</style>\n",
       "<table border=\"1\" class=\"dataframe\">\n",
       "  <thead>\n",
       "    <tr style=\"text-align: right;\">\n",
       "      <th></th>\n",
       "      <th>Accuracy</th>\n",
       "      <th>ROC AUC</th>\n",
       "      <th>MAE</th>\n",
       "      <th>RMSE</th>\n",
       "      <th>Log score</th>\n",
       "      <th>Bias</th>\n",
       "    </tr>\n",
       "  </thead>\n",
       "  <tbody>\n",
       "    <tr>\n",
       "      <th>Bridge sampling</th>\n",
       "      <td>0.95</td>\n",
       "      <td>0.9852</td>\n",
       "      <td>0.095463</td>\n",
       "      <td>0.218608</td>\n",
       "      <td>0.154887</td>\n",
       "      <td>-0.006345</td>\n",
       "    </tr>\n",
       "    <tr>\n",
       "      <th>Neural network</th>\n",
       "      <td>0.93</td>\n",
       "      <td>0.9796</td>\n",
       "      <td>0.117834</td>\n",
       "      <td>0.242601</td>\n",
       "      <td>0.184791</td>\n",
       "      <td>0.004503</td>\n",
       "    </tr>\n",
       "  </tbody>\n",
       "</table>\n",
       "</div>"
      ],
      "text/plain": [
       "                 Accuracy  ROC AUC       MAE      RMSE  Log score      Bias\n",
       "Bridge sampling      0.95   0.9852  0.095463  0.218608   0.154887 -0.006345\n",
       "Neural network       0.93   0.9796  0.117834  0.242601   0.184791  0.004503"
      ]
     },
     "execution_count": 6,
     "metadata": {},
     "output_type": "execute_result"
    }
   ],
   "source": [
    "# Raw results\n",
    "perf_metrics"
   ]
  },
  {
   "cell_type": "code",
   "execution_count": 7,
   "id": "77e62a80",
   "metadata": {},
   "outputs": [
    {
     "data": {
      "text/html": [
       "<div>\n",
       "<style scoped>\n",
       "    .dataframe tbody tr th:only-of-type {\n",
       "        vertical-align: middle;\n",
       "    }\n",
       "\n",
       "    .dataframe tbody tr th {\n",
       "        vertical-align: top;\n",
       "    }\n",
       "\n",
       "    .dataframe thead th {\n",
       "        text-align: right;\n",
       "    }\n",
       "</style>\n",
       "<table border=\"1\" class=\"dataframe\">\n",
       "  <thead>\n",
       "    <tr style=\"text-align: right;\">\n",
       "      <th></th>\n",
       "      <th>Accuracy</th>\n",
       "      <th>ROC AUC</th>\n",
       "      <th>MAE</th>\n",
       "      <th>RMSE</th>\n",
       "      <th>Log score</th>\n",
       "      <th>Bias</th>\n",
       "    </tr>\n",
       "  </thead>\n",
       "  <tbody>\n",
       "    <tr>\n",
       "      <th>Bridge sampling</th>\n",
       "      <td>0.95060</td>\n",
       "      <td>0.985266</td>\n",
       "      <td>0.095426</td>\n",
       "      <td>0.215570</td>\n",
       "      <td>0.15458</td>\n",
       "      <td>-0.006623</td>\n",
       "    </tr>\n",
       "    <tr>\n",
       "      <th>Neural network</th>\n",
       "      <td>0.92949</td>\n",
       "      <td>0.979443</td>\n",
       "      <td>0.118061</td>\n",
       "      <td>0.240508</td>\n",
       "      <td>0.18506</td>\n",
       "      <td>0.004575</td>\n",
       "    </tr>\n",
       "  </tbody>\n",
       "</table>\n",
       "</div>"
      ],
      "text/plain": [
       "                 Accuracy   ROC AUC       MAE      RMSE  Log score      Bias\n",
       "Bridge sampling   0.95060  0.985266  0.095426  0.215570    0.15458 -0.006623\n",
       "Neural network    0.92949  0.979443  0.118061  0.240508    0.18506  0.004575"
      ]
     },
     "execution_count": 7,
     "metadata": {},
     "output_type": "execute_result"
    }
   ],
   "source": [
    "# Bootstrapped means\n",
    "metrics_means"
   ]
  },
  {
   "cell_type": "code",
   "execution_count": 8,
   "id": "7fef7407",
   "metadata": {},
   "outputs": [
    {
     "data": {
      "text/html": [
       "<div>\n",
       "<style scoped>\n",
       "    .dataframe tbody tr th:only-of-type {\n",
       "        vertical-align: middle;\n",
       "    }\n",
       "\n",
       "    .dataframe tbody tr th {\n",
       "        vertical-align: top;\n",
       "    }\n",
       "\n",
       "    .dataframe thead th {\n",
       "        text-align: right;\n",
       "    }\n",
       "</style>\n",
       "<table border=\"1\" class=\"dataframe\">\n",
       "  <thead>\n",
       "    <tr style=\"text-align: right;\">\n",
       "      <th></th>\n",
       "      <th>Accuracy</th>\n",
       "      <th>ROC AUC</th>\n",
       "      <th>MAE</th>\n",
       "      <th>RMSE</th>\n",
       "      <th>Log score</th>\n",
       "      <th>Bias</th>\n",
       "    </tr>\n",
       "  </thead>\n",
       "  <tbody>\n",
       "    <tr>\n",
       "      <th>Bridge sampling</th>\n",
       "      <td>0.021690</td>\n",
       "      <td>0.009057</td>\n",
       "      <td>0.019936</td>\n",
       "      <td>0.034671</td>\n",
       "      <td>0.042497</td>\n",
       "      <td>0.021597</td>\n",
       "    </tr>\n",
       "    <tr>\n",
       "      <th>Neural network</th>\n",
       "      <td>0.026722</td>\n",
       "      <td>0.011197</td>\n",
       "      <td>0.021864</td>\n",
       "      <td>0.033378</td>\n",
       "      <td>0.043470</td>\n",
       "      <td>0.024242</td>\n",
       "    </tr>\n",
       "  </tbody>\n",
       "</table>\n",
       "</div>"
      ],
      "text/plain": [
       "                 Accuracy   ROC AUC       MAE      RMSE  Log score      Bias\n",
       "Bridge sampling  0.021690  0.009057  0.019936  0.034671   0.042497  0.021597\n",
       "Neural network   0.026722  0.011197  0.021864  0.033378   0.043470  0.024242"
      ]
     },
     "execution_count": 8,
     "metadata": {},
     "output_type": "execute_result"
    }
   ],
   "source": [
    "# Bootstrapped standard errors\n",
    "metrics_ses"
   ]
  },
  {
   "cell_type": "code",
   "execution_count": 9,
   "id": "ec8e6bad",
   "metadata": {},
   "outputs": [
    {
     "name": "stdout",
     "output_type": "stream",
     "text": [
      "\\begin{table}[h]\n",
      "\\centering\n",
      "\\begin{tabular}{llllll}\n",
      "\\toprule\n",
      " & Accuracy & ROC AUC & RMSE & Log score & Bias \\\\\n",
      "\\midrule\n",
      "Bridge sampling & 0.95 (0.02) & 0.99 (0.01) & 0.22 (0.03) & 0.15 (0.04) & -0.01 (0.02) \\\\\n",
      "Neural network & 0.93 (0.03) & 0.98 (0.01) & 0.24 (0.03) & 0.19 (0.04) & 0.0 (0.02) \\\\\n",
      "\\bottomrule\n",
      "\\end{tabular}\n",
      "\\end{table}\n",
      "\n"
     ]
    }
   ],
   "source": [
    "# Convert to latex table\n",
    "metrics_means = metrics_means.round(2).drop('MAE', axis=1) # drop MAE column as results do not add much information\n",
    "metrics_ses = metrics_ses.round(2).drop('MAE', axis=1) # drop MAE column as results do not add much information\n",
    "\n",
    "for row in range(metrics_means.shape[0]):\n",
    "    for col in range(metrics_means.shape[1]):\n",
    "        metrics_means.iloc[row,col] = f'{metrics_means.iloc[row,col]}' + f' ({metrics_ses.iloc[row,col]})'\n",
    "\n",
    "print(metrics_means.style.to_latex(position='h', position_float='centering', hrules=True))"
   ]
  },
  {
   "cell_type": "code",
   "execution_count": 10,
   "id": "unique-steel",
   "metadata": {},
   "outputs": [
    {
     "name": "stdout",
     "output_type": "stream",
     "text": [
      "True proportion = 0.5\n",
      "Bridge Sampling proportion = 0.51\n",
      "NN proportion = 0.51\n"
     ]
    }
   ],
   "source": [
    "# How do the proportions of selected models look like?\n",
    "\n",
    "print('True proportion = {}'.format(bridge['true_model'].mean()))\n",
    "print('Bridge Sampling proportion = {}'.format(bridge['selected_model'].mean()))\n",
    "print('NN proportion = {}'.format(NN_fixed['selected_model'].mean()))"
   ]
  },
  {
   "cell_type": "markdown",
   "id": "cathedral-issue",
   "metadata": {},
   "source": [
    "# Plot PMPs & log BFs"
   ]
  },
  {
   "cell_type": "code",
   "execution_count": 11,
   "id": "variable-judgment",
   "metadata": {},
   "outputs": [],
   "source": [
    "# Compute Log BFs\n",
    "\n",
    "log_bridge_bfs = log_with_inf_noise_addition(bridge)\n",
    "log_NN_fixed_bfs = log_with_inf_noise_addition(NN_fixed)"
   ]
  },
  {
   "cell_type": "markdown",
   "id": "03f54f26",
   "metadata": {},
   "source": [
    "## BS vs fixed NN"
   ]
  },
  {
   "cell_type": "code",
   "execution_count": 12,
   "id": "015b067c",
   "metadata": {},
   "outputs": [
    {
     "data": {
      "image/png": "[encoded data removed]",
      "text/plain": [
       "<Figure size 360x360 with 1 Axes>"
      ]
     },
     "metadata": {},
     "output_type": "display_data"
    }
   ],
   "source": [
    "# PMPs\n",
    "plot_approximations(bridge, NN_fixed, approximated_outcome='PMPs', NN_name='neural network', save=False)"
   ]
  },
  {
   "cell_type": "code",
   "execution_count": 13,
   "id": "b64ec477",
   "metadata": {},
   "outputs": [
    {
     "data": {
      "image/png": "[encoded data removed]",
      "text/plain": [
       "<Figure size 360x360 with 1 Axes>"
      ]
     },
     "metadata": {},
     "output_type": "display_data"
    }
   ],
   "source": [
    "# Log BFs\n",
    "plot_approximations(bridge, NN_fixed, approximated_outcome='Log BFs', NN_name='neural network')"
   ]
  },
  {
   "cell_type": "code",
   "execution_count": 14,
   "id": "2ae13a95",
   "metadata": {},
   "outputs": [
    {
     "name": "stdout",
     "output_type": "stream",
     "text": [
      "# of included datasets: 85\n"
     ]
    },
    {
     "data": {
      "image/png": "[encoded data removed]",
      "text/plain": [
       "<Figure size 360x360 with 1 Axes>"
      ]
     },
     "metadata": {},
     "output_type": "display_data"
    }
   ],
   "source": [
    "# Log Bfs with filter\n",
    "filter_high = bridge['bayes_factor']<100000\n",
    "filter_low = bridge['bayes_factor']>0.00001\n",
    "bridge_filtered = bridge[filter_high & filter_low].reset_index(drop=True)\n",
    "NN_fixed_filtered = NN_fixed[filter_high & filter_low].reset_index(drop=True)\n",
    "print('# of included datasets: {}'.format(min([sum(filter_high), sum(filter_low)])))\n",
    "\n",
    "plot_approximations(bridge_filtered, NN_fixed_filtered, approximated_outcome='Log BFs', NN_name='Neural network (fixed sample sizes)', save=False)"
   ]
  },
  {
   "cell_type": "markdown",
   "id": "8dd9dabe",
   "metadata": {},
   "source": [
    "# Find biggest discrepancies and compare implications"
   ]
  },
  {
   "cell_type": "code",
   "execution_count": 15,
   "id": "35b0c2c3",
   "metadata": {},
   "outputs": [],
   "source": [
    "# Find biggest PMP discrepancies\n",
    "divergence_fixed = np.argmax(abs(bridge[\"m1_prob\"] - NN_fixed[\"m1_prob\"]))"
   ]
  },
  {
   "cell_type": "code",
   "execution_count": 16,
   "id": "2fb92ed5",
   "metadata": {},
   "outputs": [
    {
     "name": "stdout",
     "output_type": "stream",
     "text": [
      "BF Bridge sampling: 96.8850569630086\n",
      "BF NN: 1.4190993487678645\n"
     ]
    }
   ],
   "source": [
    "# Look up respective BFs: Bridge vs. fixed network\n",
    "print(f'BF Bridge sampling: {bridge.loc[divergence_fixed, \"bayes_factor\"]}')\n",
    "print(f'BF NN: {NN_fixed.loc[divergence_fixed, \"bayes_factor\"]}')"
   ]
  },
  {
   "cell_type": "code",
   "execution_count": 17,
   "id": "ce82c29a",
   "metadata": {},
   "outputs": [
    {
     "data": {
      "text/html": [
       "<div>\n",
       "<style scoped>\n",
       "    .dataframe tbody tr th:only-of-type {\n",
       "        vertical-align: middle;\n",
       "    }\n",
       "\n",
       "    .dataframe tbody tr th {\n",
       "        vertical-align: top;\n",
       "    }\n",
       "\n",
       "    .dataframe thead th {\n",
       "        text-align: right;\n",
       "    }\n",
       "</style>\n",
       "<table border=\"1\" class=\"dataframe\">\n",
       "  <thead>\n",
       "    <tr style=\"text-align: right;\">\n",
       "      <th></th>\n",
       "      <th>dataset</th>\n",
       "      <th>true_model</th>\n",
       "      <th>m0_prob</th>\n",
       "      <th>m1_prob</th>\n",
       "      <th>selected_model</th>\n",
       "      <th>bayes_factor</th>\n",
       "      <th>m0_bridge_error</th>\n",
       "      <th>m1_bridge_error</th>\n",
       "      <th>compile_time</th>\n",
       "      <th>stan_time</th>\n",
       "      <th>bridge_time</th>\n",
       "      <th>divergences</th>\n",
       "    </tr>\n",
       "  </thead>\n",
       "  <tbody>\n",
       "    <tr>\n",
       "      <th>20</th>\n",
       "      <td>21</td>\n",
       "      <td>1</td>\n",
       "      <td>1.021606e-02</td>\n",
       "      <td>9.897839e-01</td>\n",
       "      <td>1</td>\n",
       "      <td>9.688506e+01</td>\n",
       "      <td>0%</td>\n",
       "      <td>1%</td>\n",
       "      <td>41.988324</td>\n",
       "      <td>178.812704</td>\n",
       "      <td>52.748515</td>\n",
       "      <td>4.031609e-01</td>\n",
       "    </tr>\n",
       "    <tr>\n",
       "      <th>66</th>\n",
       "      <td>67</td>\n",
       "      <td>1</td>\n",
       "      <td>2.450077e-01</td>\n",
       "      <td>7.549923e-01</td>\n",
       "      <td>1</td>\n",
       "      <td>3.081505e+00</td>\n",
       "      <td>0%</td>\n",
       "      <td>1%</td>\n",
       "      <td>41.988324</td>\n",
       "      <td>180.472303</td>\n",
       "      <td>52.836880</td>\n",
       "      <td>3.787467e-01</td>\n",
       "    </tr>\n",
       "    <tr>\n",
       "      <th>71</th>\n",
       "      <td>72</td>\n",
       "      <td>1</td>\n",
       "      <td>4.934690e-01</td>\n",
       "      <td>5.065310e-01</td>\n",
       "      <td>1</td>\n",
       "      <td>1.026470e+00</td>\n",
       "      <td>0%</td>\n",
       "      <td>1%</td>\n",
       "      <td>41.988324</td>\n",
       "      <td>143.168328</td>\n",
       "      <td>53.623555</td>\n",
       "      <td>2.691587e-01</td>\n",
       "    </tr>\n",
       "    <tr>\n",
       "      <th>31</th>\n",
       "      <td>32</td>\n",
       "      <td>1</td>\n",
       "      <td>1.704504e-01</td>\n",
       "      <td>8.295496e-01</td>\n",
       "      <td>1</td>\n",
       "      <td>4.866809e+00</td>\n",
       "      <td>0%</td>\n",
       "      <td>1%</td>\n",
       "      <td>41.988324</td>\n",
       "      <td>175.021875</td>\n",
       "      <td>52.785549</td>\n",
       "      <td>2.647987e-01</td>\n",
       "    </tr>\n",
       "    <tr>\n",
       "      <th>26</th>\n",
       "      <td>27</td>\n",
       "      <td>1</td>\n",
       "      <td>2.663987e-02</td>\n",
       "      <td>9.733601e-01</td>\n",
       "      <td>1</td>\n",
       "      <td>3.653772e+01</td>\n",
       "      <td>0%</td>\n",
       "      <td>1%</td>\n",
       "      <td>41.988324</td>\n",
       "      <td>184.990202</td>\n",
       "      <td>53.571511</td>\n",
       "      <td>2.388397e-01</td>\n",
       "    </tr>\n",
       "    <tr>\n",
       "      <th>...</th>\n",
       "      <td>...</td>\n",
       "      <td>...</td>\n",
       "      <td>...</td>\n",
       "      <td>...</td>\n",
       "      <td>...</td>\n",
       "      <td>...</td>\n",
       "      <td>...</td>\n",
       "      <td>...</td>\n",
       "      <td>...</td>\n",
       "      <td>...</td>\n",
       "      <td>...</td>\n",
       "      <td>...</td>\n",
       "    </tr>\n",
       "    <tr>\n",
       "      <th>61</th>\n",
       "      <td>62</td>\n",
       "      <td>1</td>\n",
       "      <td>3.789413e-10</td>\n",
       "      <td>1.000000e+00</td>\n",
       "      <td>1</td>\n",
       "      <td>2.638931e+09</td>\n",
       "      <td>0%</td>\n",
       "      <td>2%</td>\n",
       "      <td>41.988324</td>\n",
       "      <td>179.702695</td>\n",
       "      <td>52.948475</td>\n",
       "      <td>1.239739e-05</td>\n",
       "    </tr>\n",
       "    <tr>\n",
       "      <th>38</th>\n",
       "      <td>39</td>\n",
       "      <td>0</td>\n",
       "      <td>1.000000e+00</td>\n",
       "      <td>7.516608e-12</td>\n",
       "      <td>0</td>\n",
       "      <td>7.516608e-12</td>\n",
       "      <td>0%</td>\n",
       "      <td>1%</td>\n",
       "      <td>41.988324</td>\n",
       "      <td>230.230717</td>\n",
       "      <td>52.648407</td>\n",
       "      <td>1.215190e-05</td>\n",
       "    </tr>\n",
       "    <tr>\n",
       "      <th>2</th>\n",
       "      <td>3</td>\n",
       "      <td>0</td>\n",
       "      <td>1.000000e+00</td>\n",
       "      <td>6.428038e-24</td>\n",
       "      <td>0</td>\n",
       "      <td>6.428038e-24</td>\n",
       "      <td>1%</td>\n",
       "      <td>3%</td>\n",
       "      <td>41.988324</td>\n",
       "      <td>188.762416</td>\n",
       "      <td>53.992873</td>\n",
       "      <td>3.446686e-07</td>\n",
       "    </tr>\n",
       "    <tr>\n",
       "      <th>17</th>\n",
       "      <td>18</td>\n",
       "      <td>0</td>\n",
       "      <td>1.000000e+00</td>\n",
       "      <td>4.223497e-25</td>\n",
       "      <td>0</td>\n",
       "      <td>4.223497e-25</td>\n",
       "      <td>0%</td>\n",
       "      <td>2%</td>\n",
       "      <td>41.988324</td>\n",
       "      <td>178.876926</td>\n",
       "      <td>54.210204</td>\n",
       "      <td>2.545590e-07</td>\n",
       "    </tr>\n",
       "    <tr>\n",
       "      <th>51</th>\n",
       "      <td>52</td>\n",
       "      <td>0</td>\n",
       "      <td>1.000000e+00</td>\n",
       "      <td>3.753283e-26</td>\n",
       "      <td>0</td>\n",
       "      <td>3.753283e-26</td>\n",
       "      <td>0%</td>\n",
       "      <td>1%</td>\n",
       "      <td>41.988324</td>\n",
       "      <td>217.242283</td>\n",
       "      <td>52.929459</td>\n",
       "      <td>1.107286e-07</td>\n",
       "    </tr>\n",
       "  </tbody>\n",
       "</table>\n",
       "<p>100 rows × 12 columns</p>\n",
       "</div>"
      ],
      "text/plain": [
       "    dataset  true_model       m0_prob       m1_prob  selected_model  \\\n",
       "20       21           1  1.021606e-02  9.897839e-01               1   \n",
       "66       67           1  2.450077e-01  7.549923e-01               1   \n",
       "71       72           1  4.934690e-01  5.065310e-01               1   \n",
       "31       32           1  1.704504e-01  8.295496e-01               1   \n",
       "26       27           1  2.663987e-02  9.733601e-01               1   \n",
       "..      ...         ...           ...           ...             ...   \n",
       "61       62           1  3.789413e-10  1.000000e+00               1   \n",
       "38       39           0  1.000000e+00  7.516608e-12               0   \n",
       "2         3           0  1.000000e+00  6.428038e-24               0   \n",
       "17       18           0  1.000000e+00  4.223497e-25               0   \n",
       "51       52           0  1.000000e+00  3.753283e-26               0   \n",
       "\n",
       "    bayes_factor m0_bridge_error m1_bridge_error  compile_time   stan_time  \\\n",
       "20  9.688506e+01              0%              1%     41.988324  178.812704   \n",
       "66  3.081505e+00              0%              1%     41.988324  180.472303   \n",
       "71  1.026470e+00              0%              1%     41.988324  143.168328   \n",
       "31  4.866809e+00              0%              1%     41.988324  175.021875   \n",
       "26  3.653772e+01              0%              1%     41.988324  184.990202   \n",
       "..           ...             ...             ...           ...         ...   \n",
       "61  2.638931e+09              0%              2%     41.988324  179.702695   \n",
       "38  7.516608e-12              0%              1%     41.988324  230.230717   \n",
       "2   6.428038e-24              1%              3%     41.988324  188.762416   \n",
       "17  4.223497e-25              0%              2%     41.988324  178.876926   \n",
       "51  3.753283e-26              0%              1%     41.988324  217.242283   \n",
       "\n",
       "    bridge_time   divergences  \n",
       "20    52.748515  4.031609e-01  \n",
       "66    52.836880  3.787467e-01  \n",
       "71    53.623555  2.691587e-01  \n",
       "31    52.785549  2.647987e-01  \n",
       "26    53.571511  2.388397e-01  \n",
       "..          ...           ...  \n",
       "61    52.948475  1.239739e-05  \n",
       "38    52.648407  1.215190e-05  \n",
       "2     53.992873  3.446686e-07  \n",
       "17    54.210204  2.545590e-07  \n",
       "51    52.929459  1.107286e-07  \n",
       "\n",
       "[100 rows x 12 columns]"
      ]
     },
     "execution_count": 17,
     "metadata": {},
     "output_type": "execute_result"
    }
   ],
   "source": [
    "bridge[\"divergences\"] = abs(bridge[\"m1_prob\"] - NN_fixed[\"m1_prob\"])\n",
    "NN_fixed[\"divergences\"] = abs(bridge[\"m1_prob\"] - NN_fixed[\"m1_prob\"])\n",
    "bridge.sort_values(\"divergences\", ascending=False)"
   ]
  },
  {
   "cell_type": "code",
   "execution_count": 18,
   "id": "61e40163",
   "metadata": {},
   "outputs": [
    {
     "data": {
      "text/html": [
       "<div>\n",
       "<style scoped>\n",
       "    .dataframe tbody tr th:only-of-type {\n",
       "        vertical-align: middle;\n",
       "    }\n",
       "\n",
       "    .dataframe tbody tr th {\n",
       "        vertical-align: top;\n",
       "    }\n",
       "\n",
       "    .dataframe thead th {\n",
       "        text-align: right;\n",
       "    }\n",
       "</style>\n",
       "<table border=\"1\" class=\"dataframe\">\n",
       "  <thead>\n",
       "    <tr style=\"text-align: right;\">\n",
       "      <th></th>\n",
       "      <th>dataset</th>\n",
       "      <th>true_model</th>\n",
       "      <th>m0_prob</th>\n",
       "      <th>m1_prob</th>\n",
       "      <th>selected_model</th>\n",
       "      <th>bayes_factor</th>\n",
       "      <th>training_time</th>\n",
       "      <th>inference_time</th>\n",
       "      <th>final_epoch_loss</th>\n",
       "      <th>divergences</th>\n",
       "    </tr>\n",
       "  </thead>\n",
       "  <tbody>\n",
       "    <tr>\n",
       "      <th>20</th>\n",
       "      <td>21</td>\n",
       "      <td>1</td>\n",
       "      <td>0.413377</td>\n",
       "      <td>5.866230e-01</td>\n",
       "      <td>1</td>\n",
       "      <td>1.419099e+00</td>\n",
       "      <td>1090.605605</td>\n",
       "      <td>0.000359</td>\n",
       "      <td>0.210434</td>\n",
       "      <td>4.031609e-01</td>\n",
       "    </tr>\n",
       "    <tr>\n",
       "      <th>66</th>\n",
       "      <td>67</td>\n",
       "      <td>1</td>\n",
       "      <td>0.623754</td>\n",
       "      <td>3.762456e-01</td>\n",
       "      <td>0</td>\n",
       "      <td>6.031952e-01</td>\n",
       "      <td>1090.605605</td>\n",
       "      <td>0.000359</td>\n",
       "      <td>0.210434</td>\n",
       "      <td>3.787467e-01</td>\n",
       "    </tr>\n",
       "    <tr>\n",
       "      <th>71</th>\n",
       "      <td>72</td>\n",
       "      <td>1</td>\n",
       "      <td>0.762628</td>\n",
       "      <td>2.373724e-01</td>\n",
       "      <td>0</td>\n",
       "      <td>3.112559e-01</td>\n",
       "      <td>1090.605605</td>\n",
       "      <td>0.000359</td>\n",
       "      <td>0.210434</td>\n",
       "      <td>2.691587e-01</td>\n",
       "    </tr>\n",
       "    <tr>\n",
       "      <th>31</th>\n",
       "      <td>32</td>\n",
       "      <td>1</td>\n",
       "      <td>0.435249</td>\n",
       "      <td>5.647509e-01</td>\n",
       "      <td>1</td>\n",
       "      <td>1.297535e+00</td>\n",
       "      <td>1090.605605</td>\n",
       "      <td>0.000359</td>\n",
       "      <td>0.210434</td>\n",
       "      <td>2.647987e-01</td>\n",
       "    </tr>\n",
       "    <tr>\n",
       "      <th>26</th>\n",
       "      <td>27</td>\n",
       "      <td>1</td>\n",
       "      <td>0.265480</td>\n",
       "      <td>7.345204e-01</td>\n",
       "      <td>1</td>\n",
       "      <td>2.766768e+00</td>\n",
       "      <td>1090.605605</td>\n",
       "      <td>0.000359</td>\n",
       "      <td>0.210434</td>\n",
       "      <td>2.388397e-01</td>\n",
       "    </tr>\n",
       "    <tr>\n",
       "      <th>...</th>\n",
       "      <td>...</td>\n",
       "      <td>...</td>\n",
       "      <td>...</td>\n",
       "      <td>...</td>\n",
       "      <td>...</td>\n",
       "      <td>...</td>\n",
       "      <td>...</td>\n",
       "      <td>...</td>\n",
       "      <td>...</td>\n",
       "      <td>...</td>\n",
       "    </tr>\n",
       "    <tr>\n",
       "      <th>61</th>\n",
       "      <td>62</td>\n",
       "      <td>1</td>\n",
       "      <td>0.000012</td>\n",
       "      <td>9.999876e-01</td>\n",
       "      <td>1</td>\n",
       "      <td>8.065869e+04</td>\n",
       "      <td>1090.605605</td>\n",
       "      <td>0.000359</td>\n",
       "      <td>0.210434</td>\n",
       "      <td>1.239739e-05</td>\n",
       "    </tr>\n",
       "    <tr>\n",
       "      <th>38</th>\n",
       "      <td>39</td>\n",
       "      <td>0</td>\n",
       "      <td>0.999988</td>\n",
       "      <td>1.215191e-05</td>\n",
       "      <td>0</td>\n",
       "      <td>1.215206e-05</td>\n",
       "      <td>1090.605605</td>\n",
       "      <td>0.000359</td>\n",
       "      <td>0.210434</td>\n",
       "      <td>1.215190e-05</td>\n",
       "    </tr>\n",
       "    <tr>\n",
       "      <th>2</th>\n",
       "      <td>3</td>\n",
       "      <td>0</td>\n",
       "      <td>1.000000</td>\n",
       "      <td>3.446686e-07</td>\n",
       "      <td>0</td>\n",
       "      <td>3.446688e-07</td>\n",
       "      <td>1090.605605</td>\n",
       "      <td>0.000359</td>\n",
       "      <td>0.210434</td>\n",
       "      <td>3.446686e-07</td>\n",
       "    </tr>\n",
       "    <tr>\n",
       "      <th>17</th>\n",
       "      <td>18</td>\n",
       "      <td>0</td>\n",
       "      <td>1.000000</td>\n",
       "      <td>2.545590e-07</td>\n",
       "      <td>0</td>\n",
       "      <td>2.545590e-07</td>\n",
       "      <td>1090.605605</td>\n",
       "      <td>0.000359</td>\n",
       "      <td>0.210434</td>\n",
       "      <td>2.545590e-07</td>\n",
       "    </tr>\n",
       "    <tr>\n",
       "      <th>51</th>\n",
       "      <td>52</td>\n",
       "      <td>0</td>\n",
       "      <td>1.000000</td>\n",
       "      <td>1.107286e-07</td>\n",
       "      <td>0</td>\n",
       "      <td>1.107286e-07</td>\n",
       "      <td>1090.605605</td>\n",
       "      <td>0.000359</td>\n",
       "      <td>0.210434</td>\n",
       "      <td>1.107286e-07</td>\n",
       "    </tr>\n",
       "  </tbody>\n",
       "</table>\n",
       "<p>100 rows × 10 columns</p>\n",
       "</div>"
      ],
      "text/plain": [
       "    dataset  true_model   m0_prob       m1_prob  selected_model  bayes_factor  \\\n",
       "20       21           1  0.413377  5.866230e-01               1  1.419099e+00   \n",
       "66       67           1  0.623754  3.762456e-01               0  6.031952e-01   \n",
       "71       72           1  0.762628  2.373724e-01               0  3.112559e-01   \n",
       "31       32           1  0.435249  5.647509e-01               1  1.297535e+00   \n",
       "26       27           1  0.265480  7.345204e-01               1  2.766768e+00   \n",
       "..      ...         ...       ...           ...             ...           ...   \n",
       "61       62           1  0.000012  9.999876e-01               1  8.065869e+04   \n",
       "38       39           0  0.999988  1.215191e-05               0  1.215206e-05   \n",
       "2         3           0  1.000000  3.446686e-07               0  3.446688e-07   \n",
       "17       18           0  1.000000  2.545590e-07               0  2.545590e-07   \n",
       "51       52           0  1.000000  1.107286e-07               0  1.107286e-07   \n",
       "\n",
       "    training_time  inference_time  final_epoch_loss   divergences  \n",
       "20    1090.605605        0.000359          0.210434  4.031609e-01  \n",
       "66    1090.605605        0.000359          0.210434  3.787467e-01  \n",
       "71    1090.605605        0.000359          0.210434  2.691587e-01  \n",
       "31    1090.605605        0.000359          0.210434  2.647987e-01  \n",
       "26    1090.605605        0.000359          0.210434  2.388397e-01  \n",
       "..            ...             ...               ...           ...  \n",
       "61    1090.605605        0.000359          0.210434  1.239739e-05  \n",
       "38    1090.605605        0.000359          0.210434  1.215190e-05  \n",
       "2     1090.605605        0.000359          0.210434  3.446686e-07  \n",
       "17    1090.605605        0.000359          0.210434  2.545590e-07  \n",
       "51    1090.605605        0.000359          0.210434  1.107286e-07  \n",
       "\n",
       "[100 rows x 10 columns]"
      ]
     },
     "execution_count": 18,
     "metadata": {},
     "output_type": "execute_result"
    }
   ],
   "source": [
    "NN_fixed.sort_values(\"divergences\", ascending=False)"
   ]
  },
  {
   "cell_type": "markdown",
   "id": "adjacent-biology",
   "metadata": {},
   "source": [
    "# Plot computation times as function of data sets"
   ]
  },
  {
   "cell_type": "code",
   "execution_count": 19,
   "id": "bfeaff81",
   "metadata": {},
   "outputs": [],
   "source": [
    "# Calculate computation times\n",
    "results_time_list = computation_times(results_list)"
   ]
  },
  {
   "cell_type": "code",
   "execution_count": 20,
   "id": "middle-thread",
   "metadata": {},
   "outputs": [
    {
     "name": "stdout",
     "output_type": "stream",
     "text": [
      "Stan: 173.02seconds / 2.88minutes\n",
      "Bridge: 53.58seconds / 1minutes\n",
      "NN training: 1090.61seconds / 18minutes\n",
      "NN inference: 0.00035856299999970006seconds\n"
     ]
    }
   ],
   "source": [
    "# Mean computation times per phase\n",
    "# Bridge Sampling\n",
    "print('Stan: {}seconds / {}minutes'.format(round(np.mean(bridge['stan_time']), 2), round((np.mean(bridge['stan_time'])/60), 2)))\n",
    "print('Bridge: {}seconds / {}minutes'.format(round(np.mean(bridge['bridge_time']), 2), round(np.mean(bridge['bridge_time'])/60), 2))\n",
    "\n",
    "# NN fixed\n",
    "print('NN training: {}seconds / {}minutes'.format(round(np.mean(NN_fixed['training_time']), 2), round(np.mean(NN_fixed['training_time'])/60), 2))\n",
    "print('NN inference: {}seconds'.format(np.mean(NN_fixed['inference_time'])))"
   ]
  },
  {
   "cell_type": "code",
   "execution_count": 21,
   "id": "befe41b2",
   "metadata": {},
   "outputs": [
    {
     "data": {
      "image/png": "[encoded data removed]",
      "text/plain": [
       "<Figure size 360x360 with 1 Axes>"
      ]
     },
     "metadata": {},
     "output_type": "display_data"
    }
   ],
   "source": [
    "plot_computation_times(results_time_list, names=names, save=True)"
   ]
  },
  {
   "cell_type": "code",
   "execution_count": 22,
   "id": "beba627c",
   "metadata": {},
   "outputs": [
    {
     "name": "stdout",
     "output_type": "stream",
     "text": [
      "5\n"
     ]
    }
   ],
   "source": [
    "# Get minimum number of datasets for which NNs are faster than bridge sampling\n",
    "\n",
    "print(np.where(results_time_list[0] > results_time_list[1])[0][0]+1) # +1 as numpy uses 0-based indexing"
   ]
  }
 ],
 "metadata": {
  "interpreter": {
   "hash": "27a86c9f63fe2f1aa7d9f3c637434a8367b5c148236c1390e91d25c0e560ef1a"
  },
  "kernelspec": {
   "display_name": "Python 3.8.8 ('tf')",
   "language": "python",
   "name": "python3"
  },
  "language_info": {
   "codemirror_mode": {
    "name": "ipython",
    "version": 3
   },
   "file_extension": ".py",
   "mimetype": "text/x-python",
   "name": "python",
   "nbconvert_exporter": "python",
   "pygments_lexer": "ipython3",
   "version": "3.8.13"
  },
  "toc": {
   "base_numbering": 1,
   "nav_menu": {},
   "number_sections": true,
   "sideBar": true,
   "skip_h1_title": false,
   "title_cell": "Table of Contents",
   "title_sidebar": "Contents",
   "toc_cell": false,
   "toc_position": {},
   "toc_section_display": true,
   "toc_window_display": false
  },
  "varInspector": {
   "cols": {
    "lenName": 16,
    "lenType": 16,
    "lenVar": 40
   },
   "kernels_config": {
    "python": {
     "delete_cmd_postfix": "",
     "delete_cmd_prefix": "del ",
     "library": "var_list.py",
     "varRefreshCmd": "print(var_dic_list())"
    },
    "r": {
     "delete_cmd_postfix": ") ",
     "delete_cmd_prefix": "rm(",
     "library": "var_list.r",
     "varRefreshCmd": "cat(var_dic_list()) "
    }
   },
   "types_to_exclude": [
    "module",
    "function",
    "builtin_function_or_method",
    "instance",
    "_Feature"
   ],
   "window_display": false
  }
 },
 "nbformat": 4,
 "nbformat_minor": 5
}
