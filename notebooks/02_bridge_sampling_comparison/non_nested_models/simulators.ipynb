{
 "cells": [
  {
   "cell_type": "code",
   "execution_count": 1,
   "metadata": {},
   "outputs": [],
   "source": [
    "import os, sys\n",
    "sys.path.append(os.path.abspath(os.path.join('../../..'))) # access sibling directories\n",
    "\n",
    "from src.python.models import MainSimulator\n",
    "\n",
    "import numpy as np\n",
    "from scipy import stats"
   ]
  },
  {
   "cell_type": "code",
   "execution_count": 33,
   "metadata": {},
   "outputs": [],
   "source": [
    "RNG = np.random.default_rng()"
   ]
  },
  {
   "cell_type": "markdown",
   "metadata": {},
   "source": [
    "# Model formulation"
   ]
  },
  {
   "cell_type": "markdown",
   "metadata": {},
   "source": [
    "We define stimulus type and response as\n",
    "- 0 = \"new\"\n",
    "- 1 = \"old\"."
   ]
  },
  {
   "cell_type": "markdown",
   "metadata": {},
   "source": [
    "## Signal-detection model"
   ]
  },
  {
   "cell_type": "markdown",
   "metadata": {},
   "source": [
    "Hyperpriors:\n",
    "$$\n",
    "\\begin{align}\n",
    "\\mu_{h'} &\\sim \\mathcal{N}(0, 1) \\\\\n",
    "\\sigma_{h'} &\\sim \\textrm{Gamma}(1, 1)\\\\\n",
    "\\mu_{f'} &\\sim \\mathcal{N}(0, 1)\\\\\n",
    "\\sigma_{f'} &\\sim \\textrm{Gamma}(1, 1)\\\\\n",
    "\\end{align}\n",
    "$$\n",
    "Group-level model:\n",
    "$$\n",
    "\\begin{align}\n",
    "h_m' &\\sim \\mathcal{N}(\\mu_{h'}, \\sigma_{h'}) \\text{ for } m=1,\\dots,M\\\\\n",
    "f_m' &\\sim \\mathcal{N}(\\mu_{f'}, \\sigma_{f'}) \\text{ for } m=1,\\dots,M\\\\\n",
    "h_m &= \\Phi(h_m') \\text{ for } m=1,\\dots,M\\\\\n",
    "f_m &= \\Phi(f_m') \\text{ for } m=1,\\dots,M\\\\\n",
    "\\end{align}\n",
    "$$\n",
    "Observation-level model:\n",
    "$$\n",
    "\\begin{align}\n",
    "x_n^{h}|h_m &\\sim \\textrm{Bin}(O_m, h_m) \\text{ for } n=1,\\dots,N_m\\\\\n",
    "x_n^{f}|f_m &\\sim \\textrm{Bin}(W_m, f_m) \\text{ for } n=1,\\dots,N_m\n",
    "\\end{align}\n",
    "$$"
   ]
  },
  {
   "cell_type": "markdown",
   "metadata": {},
   "source": [
    "$\\Phi =$ Standard normal cumulative distribution function\n",
    "\n",
    "$h_m' = \\Phi^{-1}(h_m) =$ probit-transformed hit probability (on old items)\n",
    "\n",
    "$f_m' = \\Phi^{-1}(f_m) =$ probit-transformed false alarm probability (on new items)\n",
    "\n",
    "$O_m =$ Number of old/signal trials per participant m\n",
    "\n",
    "$W_m =$ Number of new/noise trials per participant m\n",
    "\n",
    "[Notation follows Rouder & Lu (2005)]\n",
    "\n",
    "[Priors are informed by the results of Greene, Martin & Naveh-Benjamin (2021)]"
   ]
  },
  {
   "cell_type": "markdown",
   "metadata": {},
   "source": [
    "## MPT model (Latent-trait 2HTM)"
   ]
  },
  {
   "cell_type": "markdown",
   "metadata": {},
   "source": [
    "Hyperpriors:\n",
    "$$\n",
    "\\begin{align}\n",
    "\\mu_{d'} &\\sim \\mathcal{N}(0, 1) \\\\\n",
    "\\mu_{g'} &\\sim \\mathcal{N}(0, 1) \\\\\n",
    "\\lambda_p &\\sim \\textrm{Uniform}(0, 10) \\text{ for } p= d', g'\\\\\n",
    "Q &\\sim InvWishart(\\mathbb{I}, P+1)\\\\\n",
    "\\Sigma &= \\textrm{Diag}(\\lambda_p) Q \\textrm{Diag}(\\lambda_p)\\\\\n",
    "\\end{align}\n",
    "$$\n",
    "Group-level model:\n",
    "$$\n",
    "\\begin{align}\n",
    "\\left[ \\begin{array}{l} d_m' \\\\ g_m' \\end{array} \\right] \n",
    "&\\sim \\mathcal{N} \\left( \n",
    "\\left[\\begin{array}{l} \\mu_{d'} \\\\ \\mu_{g'} \\end{array} \\right], \\Sigma\n",
    "\\right) \\text{ for } m=1,\\dots,M\\\\\n",
    "\n",
    "d_m &= \\Phi(d_m') \\text{ for } m=1,\\dots,M\\\\\n",
    "g_m &= \\Phi(g_m') \\text{ for } m=1,\\dots,M\\\\\n",
    "h_m &= d_m + (1-d_m)*g_m \\text{ for } m=1,\\dots,M\\\\\n",
    "f_m &= (1-d_m)*g_m \\text{ for } m=1,\\dots,M\\\\\n",
    "\\end{align}\n",
    "$$\n",
    "Observation-level model:\n",
    "$$\n",
    "\\begin{align}\n",
    "x_n^{h}|h_m &\\sim \\textrm{Bin}(O_m, h_m) \\text{ for } n=1,\\dots,N_m\\\\\n",
    "x_n^{f}|f_m &\\sim \\textrm{Bin}(W_m, f_m) \\text{ for } n=1,\\dots,N_m\n",
    "\\end{align}\n",
    "$$"
   ]
  },
  {
   "cell_type": "markdown",
   "metadata": {},
   "source": [
    "Restriction: $d_O = d_W$\n",
    "\n",
    "$\\Phi =$ Standard normal cumulative distribution function\n",
    "\n",
    "$h_m' = \\Phi^{-1}(h_m) =$ probit-transformed hit probability (on old items)\n",
    "\n",
    "$f_m' = \\Phi^{-1}(f_m) =$ probit-transformed false alarm probability (on new items)\n",
    "\n",
    "$O_m =$ Number of old/signal trials per participant m\n",
    "\n",
    "$W_m =$ Number of new/noise trials per participant m\n",
    "\n",
    "[Notation follows Klauer(2010)]\n",
    "\n",
    "[Prior choices are informed by Gronau, Wagenmakers & Heck (2019)]"
   ]
  },
  {
   "cell_type": "markdown",
   "metadata": {},
   "source": [
    "# Simulator"
   ]
  },
  {
   "cell_type": "code",
   "execution_count": 172,
   "metadata": {},
   "outputs": [],
   "source": [
    "# TODO: Clarify if using Variance notation or SD notation!!!\n",
    "\n",
    "class HierarchicalSdtMptSimulator:\n",
    "\n",
    "    def __init__(self):\n",
    "        pass\n",
    "\n",
    "    def draw_from_prior(self, model_index, n_clusters):\n",
    "        \"\"\" Draws parameter values from the specified prior distributions of the hyperprior and the conditional prior.\n",
    "\n",
    "        Parameters\n",
    "        ----------\n",
    "        model_index : int\n",
    "            Index of the model to be simulated from.\n",
    "        n_clusters : int\n",
    "            Number of higher order clusters that the observations are nested in.\n",
    "\n",
    "        Returns\n",
    "        -------\n",
    "        p_h_m : np.array\n",
    "            Hit probability per cluster.\n",
    "        p_h_m : np.array\n",
    "            False alarm probability per cluster.\n",
    "        \"\"\"\n",
    "\n",
    "        if model_index == 0: # SDT model\n",
    "\n",
    "            # Hyperpriors\n",
    "            mu_h = RNG.normal(0.5, 1)\n",
    "            sigma_h = RNG.gamma(1, 1)\n",
    "            mu_f = RNG.normal(-1, 1)\n",
    "            sigma_f = RNG.gamma(1, 1)\n",
    "\n",
    "            # Group-level priors\n",
    "            h_m = RNG.normal(loc=mu_h, scale=sigma_h, size=n_clusters)\n",
    "            f_m = RNG.normal(loc=mu_f, scale=sigma_f, size=n_clusters)\n",
    "\n",
    "            # Transform probit-transformed parameters to probabilities\n",
    "            p_h_m = stats.norm.cdf(h_m) \n",
    "            p_f_m = stats.norm.cdf(f_m)\n",
    "\n",
    "        if model_index == 1: # MPT model\n",
    "\n",
    "            # Hyperpriors\n",
    "            mu_d = RNG.normal(0, 1)\n",
    "            mu_g = RNG.normal(0, 1)\n",
    "            lambdas = RNG.uniform(0, 10, size=2)\n",
    "            Q = stats.invwishart.rvs(df=3, scale=np.identity(2))\n",
    "            sigma = np.matmul(np.matmul(np.diag(lambdas), Q), np.diag(lambdas))\n",
    "\n",
    "            # Group-level priors\n",
    "            params = RNG.multivariate_normal([mu_d, mu_g], sigma, size=n_clusters)\n",
    "            d_m = params[:, 0]\n",
    "            g_m = params[:, 1]\n",
    "            p_d_m = stats.norm.cdf(d_m) # Transform probit-transformed parameters to probabilities\n",
    "            p_g_m = stats.norm.cdf(g_m) # Transform probit-transformed parameters to probabilities\n",
    "            p_h_m = p_d_m + (1-p_d_m)*p_g_m\n",
    "            p_f_m = (1-p_d_m)*p_g_m\n",
    "        \n",
    "        return p_h_m, p_f_m\n",
    "\n",
    "    def generate_from_likelihood(self, p_h_m, p_f_m, n_clusters, n_obs):\n",
    "        \"\"\" Generates a single hierarchical data set from the sampled parameter values.\n",
    "\n",
    "        Parameters\n",
    "        ----------\n",
    "        p_h_m : np.array\n",
    "            Hit probability per cluster.\n",
    "        p_h_m : np.array\n",
    "            False alarm probability per cluster.\n",
    "        n_clusters : int\n",
    "            Number of higher order clusters that the observations are nested in.\n",
    "        n_obs : int\n",
    "            Number of observations per cluster.\n",
    "\n",
    "        Returns\n",
    "        -------\n",
    "        X : np.array\n",
    "            Generated data set with shape (n_clusters, n_obs, 2).\n",
    "            Contains 2 binary variables with stimulus type and response (for both applies: 0=\"new\" / 1=\"old\").\n",
    "        \"\"\"\n",
    "\n",
    "        # Determine amount of signal (old item) and noise (new item) trials\n",
    "        assert n_obs%2 == 0, \"n_obs has to be dividable by 2.\"\n",
    "        n_trials_per_cat = int(n_obs/2)\n",
    "\n",
    "        # Create stimulus types (0=\"new\" / 1=\"old\")\n",
    "        stim_cluster = np.repeat([[1,0]], repeats=n_trials_per_cat, axis=1) # for 1 participant\n",
    "        stim_data_set = np.repeat(stim_cluster, repeats=n_clusters, axis=0) # for 1 data set\n",
    "\n",
    "        # Create individual responses (0=\"new\" / 1=\"old\")\n",
    "        X_h = RNG.binomial(n=1, p=p_h_m, size=(n_trials_per_cat, n_clusters)).T # Old items\n",
    "        X_f = RNG.binomial(n=1, p=p_f_m, size=(n_trials_per_cat, n_clusters)).T # New items\n",
    "        X_responses = np.concatenate((X_h, X_f), axis=1)\n",
    "\n",
    "        # Create final data set\n",
    "        X = np.stack((stim_data_set, X_responses), axis=2)\n",
    "\n",
    "        return X\n",
    "\n",
    "    def generate_single(self, model_index, n_clusters, n_obs):\n",
    "        \"\"\"Generates a single hierarchical data set utilizing the draw_from_prior and gen_from_likelihood functions.\n",
    "\n",
    "        Parameters\n",
    "        ----------\n",
    "        model_index : int\n",
    "            Index of the model to be simulated from.\n",
    "        n_clusters : int\n",
    "            Number of higher order clusters that the observations are nested in.\n",
    "        n_obs : int\n",
    "            Number of observations per cluster.\n",
    "\n",
    "        Returns\n",
    "        -------\n",
    "        X : np.array\n",
    "            Generated data set with shape (n_clusters, n_obs, 2).\n",
    "            Contains 2 binary variables with stimulus type and response (for both applies: 0=\"new\" / 1=\"old\").\n",
    "        \"\"\"\n",
    "\n",
    "        p_h_m, p_f_m = self.draw_from_prior(model_index, n_clusters)\n",
    "        X = self.generate_from_likelihood(p_h_m, p_f_m, n_clusters, n_obs)\n",
    "\n",
    "        return X"
   ]
  },
  {
   "cell_type": "code",
   "execution_count": 197,
   "metadata": {},
   "outputs": [
    {
     "data": {
      "text/plain": [
       "0.4537"
      ]
     },
     "execution_count": 197,
     "metadata": {},
     "output_type": "execute_result"
    }
   ],
   "source": [
    "# Test class for single data set\n",
    "simulator_single = HierarchicalSdtMptSimulator()\n",
    "simulator_single.generate_single(model_index=1, n_clusters=100, n_obs=50).mean()"
   ]
  },
  {
   "cell_type": "code",
   "execution_count": 198,
   "metadata": {},
   "outputs": [
    {
     "data": {
      "text/plain": [
       "0.48662272"
      ]
     },
     "execution_count": 198,
     "metadata": {},
     "output_type": "execute_result"
    }
   ],
   "source": [
    "# Test class for batch of data sets\n",
    "def n_clust_obs():\n",
    "    \"\"\"\n",
    "    Nasty hack to make compatible with BayesFlow.\n",
    "    Defines a fixed number of clusters and observations.\n",
    "    \"\"\"\n",
    "    \n",
    "    M = 50\n",
    "    N = 50\n",
    "    return (M, N)\n",
    "\n",
    "simulator = MainSimulator(HierarchicalSdtMptSimulator())\n",
    "m_sim, _, x_sim = simulator(batch_size=5000, n_obs=(100,50), n_vars=2)\n",
    "sim_data = {'X' : x_sim, 'm' : m_sim}\n",
    "\n",
    "sim_data['X'].mean()"
   ]
  },
  {
   "cell_type": "markdown",
   "metadata": {},
   "source": [
    "## Prior predictive checks"
   ]
  },
  {
   "cell_type": "markdown",
   "metadata": {},
   "source": [
    "### Parameter distributions"
   ]
  },
  {
   "cell_type": "code",
   "execution_count": null,
   "metadata": {},
   "outputs": [],
   "source": [
    "# hit prob and false alarm prob for each model\n",
    "\n",
    "# Simulate only 1 "
   ]
  },
  {
   "cell_type": "markdown",
   "metadata": {},
   "source": [
    "### Data distributions"
   ]
  },
  {
   "cell_type": "code",
   "execution_count": null,
   "metadata": {},
   "outputs": [],
   "source": [
    "# hit rates and false alarm rates for each model"
   ]
  }
 ],
 "metadata": {
  "kernelspec": {
   "display_name": "Python 3.8.13 ('tf')",
   "language": "python",
   "name": "python3"
  },
  "language_info": {
   "codemirror_mode": {
    "name": "ipython",
    "version": 3
   },
   "file_extension": ".py",
   "mimetype": "text/x-python",
   "name": "python",
   "nbconvert_exporter": "python",
   "pygments_lexer": "ipython3",
   "version": "3.8.13"
  },
  "orig_nbformat": 4,
  "vscode": {
   "interpreter": {
    "hash": "27a86c9f63fe2f1aa7d9f3c637434a8367b5c148236c1390e91d25c0e560ef1a"
   }
  }
 },
 "nbformat": 4,
 "nbformat_minor": 2
}
