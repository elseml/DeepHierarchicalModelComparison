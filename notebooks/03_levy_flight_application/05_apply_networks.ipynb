{
 "cells": [
  {
   "cell_type": "code",
   "execution_count": 1,
   "metadata": {},
   "outputs": [],
   "source": [
    "import os, sys\n",
    "sys.path.append(os.path.abspath(os.path.join('../..'))) # access sibling directories\n",
    "sys.path.append(\"C:\\\\Users\\\\lasse\\\\Documents\\\\GitHub\\\\BayesFlow\")\n",
    "\n",
    "from src.python.settings import summary_meta_diffusion, evidence_meta_diffusion\n",
    "from src.python.helpers import load_empirical_rt_data, join_and_fill_missings, mask_inputs\n",
    "from src.python.networks import HierarchicalInvariantNetwork, EvidentialNetwork\n",
    "\n",
    "import numpy as np\n",
    "import pandas as pd\n",
    "import tensorflow as tf\n",
    "from tensorflow.keras.optimizers import Adam\n",
    "from functools import partial\n",
    "import matplotlib.pyplot as plt\n",
    "import seaborn as sns\n",
    "plt.rcParams['figure.facecolor'] = 'w'\n",
    "\n",
    "from bayesflow.trainers import ModelComparisonTrainer\n",
    "from bayesflow.amortizers import MultiModelAmortizer \n",
    "from bayesflow.losses import log_loss"
   ]
  },
  {
   "cell_type": "markdown",
   "metadata": {},
   "source": [
    "# Application to empirical data"
   ]
  },
  {
   "cell_type": "markdown",
   "metadata": {},
   "source": [
    "## Load in data"
   ]
  },
  {
   "cell_type": "code",
   "execution_count": 2,
   "metadata": {},
   "outputs": [],
   "source": [
    "# Load data from folders\n",
    "\n",
    "parent_folder = os.path.dirname(os.path.dirname(os.getcwd()))\n",
    "color_folder = os.path.join(parent_folder, 'data\\\\Levy_flight_application\\\\data_rts\\\\color')\n",
    "lexical_folder = os.path.join(parent_folder, 'data\\\\Levy_flight_application\\\\data_rts\\\\lexical')\n",
    "\n",
    "color_data = load_empirical_rt_data(color_folder)\n",
    "lexical_data = load_empirical_rt_data(lexical_folder)\n",
    "\n",
    "# Join experimental data and fill missing values\n",
    "empirical_data = join_and_fill_missings(color_data, lexical_data, n_trials=900, missing_rts_equal_mean=True)"
   ]
  },
  {
   "cell_type": "markdown",
   "metadata": {},
   "source": [
    "## Load in trained network"
   ]
  },
  {
   "cell_type": "code",
   "execution_count": 3,
   "metadata": {},
   "outputs": [
    {
     "name": "stdout",
     "output_type": "stream",
     "text": [
      "TRAINER INITIALIZATION: No generative model provided. Only offline learning mode is available!\n",
      "Networks loaded from c:\\Users\\lasse\\Dropbox\\Uni Mannheim\\M.Sc\\4. Semester\\Masterarbeit\\Coding\\notebooks\\03_levy_flight_application\\training_checkpoints\\trial_4\\ckpt-64\n"
     ]
    }
   ],
   "source": [
    "summary_net = HierarchicalInvariantNetwork(summary_meta_diffusion)\n",
    "evidence_net = EvidentialNetwork(evidence_meta_diffusion)\n",
    "amortizer = MultiModelAmortizer(evidence_net, summary_net)\n",
    "\n",
    "# Checkpoint path for loading pretrained network and saving the final network\n",
    "trial_folder = 'trial_4'\n",
    "checkpoint_path = os.path.join(os.getcwd(), 'training_checkpoints', trial_folder)\n",
    "\n",
    "trainer = ModelComparisonTrainer(\n",
    "    network=amortizer, \n",
    "    loss=partial(log_loss, kl_weight=0),\n",
    "    optimizer=partial(Adam),\n",
    "    checkpoint_path=checkpoint_path,\n",
    "    skip_checks=True\n",
    "    )"
   ]
  },
  {
   "cell_type": "markdown",
   "metadata": {},
   "source": [
    "## Predict"
   ]
  },
  {
   "cell_type": "code",
   "execution_count": 4,
   "metadata": {},
   "outputs": [
    {
     "data": {
      "text/plain": [
       "{'m_probs': array([[0.12481197, 0.12581766, 0.53787893, 0.21149142]], dtype=float32),\n",
       " 'm_var': array([[0.01188062, 0.01196259, 0.02703471, 0.01813763]], dtype=float32),\n",
       " 'uncertainty': array([[0.48814434]], dtype=float32)}"
      ]
     },
     "execution_count": 4,
     "metadata": {},
     "output_type": "execute_result"
    }
   ],
   "source": [
    "labels = ['Basic Diffusion Model',\n",
    "          'Basic Lévy Flight Model',\n",
    "           'Full Diffusion Model',\n",
    "           'Full Lévy Flight Model',]\n",
    "           \n",
    "preds = evidence_net.predict(summary_net(empirical_data))\n",
    "preds"
   ]
  },
  {
   "cell_type": "code",
   "execution_count": 5,
   "metadata": {},
   "outputs": [
    {
     "data": {
      "text/html": [
       "<div>\n",
       "<style scoped>\n",
       "    .dataframe tbody tr th:only-of-type {\n",
       "        vertical-align: middle;\n",
       "    }\n",
       "\n",
       "    .dataframe tbody tr th {\n",
       "        vertical-align: top;\n",
       "    }\n",
       "\n",
       "    .dataframe thead th {\n",
       "        text-align: right;\n",
       "    }\n",
       "</style>\n",
       "<table border=\"1\" class=\"dataframe\">\n",
       "  <thead>\n",
       "    <tr style=\"text-align: right;\">\n",
       "      <th></th>\n",
       "      <th>Basic Diffusion Model</th>\n",
       "      <th>Basic Lévy Flight Model</th>\n",
       "      <th>Full Diffusion Model</th>\n",
       "      <th>Full Lévy Flight Model</th>\n",
       "    </tr>\n",
       "  </thead>\n",
       "  <tbody>\n",
       "    <tr>\n",
       "      <th>Posterior model probability</th>\n",
       "      <td>0.124812</td>\n",
       "      <td>0.125818</td>\n",
       "      <td>0.537879</td>\n",
       "      <td>0.211491</td>\n",
       "    </tr>\n",
       "  </tbody>\n",
       "</table>\n",
       "</div>"
      ],
      "text/plain": [
       "                             Basic Diffusion Model  Basic Lévy Flight Model  \\\n",
       "Posterior model probability               0.124812                 0.125818   \n",
       "\n",
       "                             Full Diffusion Model  Full Lévy Flight Model  \n",
       "Posterior model probability              0.537879                0.211491  "
      ]
     },
     "execution_count": 5,
     "metadata": {},
     "output_type": "execute_result"
    }
   ],
   "source": [
    "pd.DataFrame(preds['m_probs'], index=['Posterior model probability'], columns=labels)"
   ]
  },
  {
   "cell_type": "code",
   "execution_count": 6,
   "metadata": {},
   "outputs": [
    {
     "data": {
      "text/html": [
       "<div>\n",
       "<style scoped>\n",
       "    .dataframe tbody tr th:only-of-type {\n",
       "        vertical-align: middle;\n",
       "    }\n",
       "\n",
       "    .dataframe tbody tr th {\n",
       "        vertical-align: top;\n",
       "    }\n",
       "\n",
       "    .dataframe thead th {\n",
       "        text-align: right;\n",
       "    }\n",
       "</style>\n",
       "<table border=\"1\" class=\"dataframe\">\n",
       "  <thead>\n",
       "    <tr style=\"text-align: right;\">\n",
       "      <th></th>\n",
       "      <th>Basic Diffusion Model</th>\n",
       "      <th>Basic Lévy Flight Model</th>\n",
       "      <th>Full Diffusion Model</th>\n",
       "      <th>Full Lévy Flight Model</th>\n",
       "    </tr>\n",
       "  </thead>\n",
       "  <tbody>\n",
       "    <tr>\n",
       "      <th>Basic Diffusion Model</th>\n",
       "      <td>1.00</td>\n",
       "      <td>1.01</td>\n",
       "      <td>4.31</td>\n",
       "      <td>1.69</td>\n",
       "    </tr>\n",
       "    <tr>\n",
       "      <th>Basic Lévy Flight Model</th>\n",
       "      <td>0.99</td>\n",
       "      <td>1.00</td>\n",
       "      <td>4.28</td>\n",
       "      <td>1.68</td>\n",
       "    </tr>\n",
       "    <tr>\n",
       "      <th>Full Diffusion Model</th>\n",
       "      <td>0.23</td>\n",
       "      <td>0.23</td>\n",
       "      <td>1.00</td>\n",
       "      <td>0.39</td>\n",
       "    </tr>\n",
       "    <tr>\n",
       "      <th>Full Lévy Flight Model</th>\n",
       "      <td>0.59</td>\n",
       "      <td>0.59</td>\n",
       "      <td>2.54</td>\n",
       "      <td>1.00</td>\n",
       "    </tr>\n",
       "  </tbody>\n",
       "</table>\n",
       "</div>"
      ],
      "text/plain": [
       "                         Basic Diffusion Model  Basic Lévy Flight Model  \\\n",
       "Basic Diffusion Model                     1.00                     1.01   \n",
       "Basic Lévy Flight Model                   0.99                     1.00   \n",
       "Full Diffusion Model                      0.23                     0.23   \n",
       "Full Lévy Flight Model                    0.59                     0.59   \n",
       "\n",
       "                         Full Diffusion Model  Full Lévy Flight Model  \n",
       "Basic Diffusion Model                    4.31                    1.69  \n",
       "Basic Lévy Flight Model                  4.28                    1.68  \n",
       "Full Diffusion Model                     1.00                    0.39  \n",
       "Full Lévy Flight Model                   2.54                    1.00  "
      ]
     },
     "execution_count": 6,
     "metadata": {},
     "output_type": "execute_result"
    }
   ],
   "source": [
    "bfs = []\n",
    "\n",
    "for model in range(4):\n",
    "    for model_prob in preds['m_probs']:\n",
    "        model_bfs = model_prob/preds['m_probs'][0][model]\n",
    "        bfs.append(model_bfs.round(2))\n",
    "\n",
    "pd.DataFrame(bfs, index=labels, columns=labels)"
   ]
  },
  {
   "cell_type": "code",
   "execution_count": 7,
   "metadata": {},
   "outputs": [],
   "source": [
    "evidences = evidence_net(summary_net(empirical_data))\n",
    "dirichlet = evidence_net.sample(summary_net(empirical_data),10000)\n",
    "dirichlet = np.squeeze(dirichlet)"
   ]
  },
  {
   "cell_type": "code",
   "execution_count": 20,
   "metadata": {},
   "outputs": [
    {
     "data": {
      "text/plain": [
       "Text(0, 0.5, 'Approximated posterior model probability')"
      ]
     },
     "execution_count": 20,
     "metadata": {},
     "output_type": "execute_result"
    },
    {
     "data": {
      "image/png": "[encoded data removed]",
      "text/plain": [
       "<Figure size 360x360 with 1 Axes>"
      ]
     },
     "metadata": {},
     "output_type": "display_data"
    }
   ],
   "source": [
    "fig, ax = plt.subplots(figsize=(5,5))\n",
    "\n",
    "# TODO: \n",
    "# Change line colors. to black?\n",
    "# Test palette for line plots -> is yellow visible?\n",
    "\n",
    "violin_plot = ax.violinplot(dirichlet, showmedians=True)\n",
    "colors = ('#440154FF', '#33638DFF', '#29AF7FFF', '#DCE319FF')\n",
    "for c, vp in zip(colors, violin_plot['bodies']):\n",
    "    vp.set_facecolor(c)\n",
    "    vp.set_edgecolor('black')\n",
    "    vp.set_alpha(0.8)\n",
    "\n",
    "ax.set_xticks([1, 2, 3, 4])\n",
    "ax.set_xticklabels(labels, rotation=45)\n",
    "ax.set_ylabel('Model posterior')\n",
    "#fig.savefig('Diffusion_violin_plot.png', dpi=300, bbox_inches='tight')"
   ]
  },
  {
   "cell_type": "markdown",
   "metadata": {},
   "source": [
    "# Robustness checks"
   ]
  },
  {
   "cell_type": "markdown",
   "metadata": {},
   "source": [
    "## Additional noise"
   ]
  },
  {
   "cell_type": "code",
   "execution_count": 14,
   "metadata": {},
   "outputs": [],
   "source": [
    "def mean_predictions_noisy_data(empirical_data, evidence_net, summary_net, missings_mean, n_runs):\n",
    "\n",
    "    noise_proportion = []\n",
    "    probs = []\n",
    "    vars = []\n",
    "\n",
    "    for r in range(n_runs):\n",
    "        noisy_data = mask_inputs(empirical_data, missings_mean=missings_mean, missings_sd=13.5, missing_rts_equal_mean=True, insert_additional_missings=True)\n",
    "        noise_proportion_run = (noisy_data == -1).sum()/(40*900)\n",
    "        noise_proportion.append(noise_proportion_run)\n",
    "        preds = evidence_net.predict(summary_net(noisy_data))\n",
    "        probs.append(preds['m_probs'])\n",
    "        vars.append(preds['m_var'])\n",
    "    \n",
    "    mean_noise_proportion = np.mean(noise_proportion)\n",
    "    mean_probs = np.mean(probs, axis=0)\n",
    "    mean_vars = np.mean(vars, axis=0)\n",
    "    \n",
    "    return mean_noise_proportion, mean_probs, mean_vars\n"
   ]
  },
  {
   "cell_type": "code",
   "execution_count": 45,
   "metadata": {},
   "outputs": [],
   "source": [
    "mean_noise_proportion, mean_probs, mean_vars = mean_predictions_noisy_data(empirical_data, evidence_net, summary_net, missings_mean=180, n_runs=100)"
   ]
  },
  {
   "cell_type": "code",
   "execution_count": 46,
   "metadata": {},
   "outputs": [
    {
     "name": "stdout",
     "output_type": "stream",
     "text": [
      "mean_noise_proportion: 0.20770083333333336\n",
      "mean_probs: [[0.134081   0.13316798 0.54897577 0.18377504]]\n",
      "mean_vars: [[0.01405235 0.0139815  0.02645076 0.0176365 ]]\n"
     ]
    }
   ],
   "source": [
    "print(f'mean_noise_proportion: {mean_noise_proportion}')\n",
    "print(f'mean_probs: {mean_probs}')\n",
    "print(f'mean_vars: {mean_vars}')"
   ]
  },
  {
   "cell_type": "markdown",
   "metadata": {},
   "source": [
    "## Resampled trials within participants"
   ]
  },
  {
   "cell_type": "code",
   "execution_count": 190,
   "metadata": {},
   "outputs": [],
   "source": [
    "# TODO: Refactor into bootstrapping function (together with bridge sampling comparison bootstrapped_metrics function?)"
   ]
  },
  {
   "cell_type": "code",
   "execution_count": 157,
   "metadata": {},
   "outputs": [],
   "source": [
    "# Bootstrap trials\n",
    "\n",
    "n_bootstrap = 100\n",
    "bootstrapped_probs = []\n",
    "n_trials = empirical_data.shape[2]\n",
    "\n",
    "for b in range(n_bootstrap):\n",
    "    b_idx = np.random.choice(np.arange(n_trials), size=n_trials, replace=True)\n",
    "    bootstrapped_data = empirical_data[:,:,b_idx,:]\n",
    "    probs = evidence_net.predict(summary_net(bootstrapped_data))['m_probs']\n",
    "    bootstrapped_probs.append(probs)\n",
    "\n",
    "bootstrapped_probs = np.asarray(bootstrapped_probs)[:,0,:]"
   ]
  },
  {
   "cell_type": "code",
   "execution_count": 161,
   "metadata": {},
   "outputs": [],
   "source": [
    "# Bootstrap participants\n",
    "\n",
    "n_bootstrap = 100\n",
    "bootstrapped_probs = []\n",
    "n_participants = empirical_data.shape[1]\n",
    "\n",
    "for b in range(n_bootstrap):\n",
    "    b_idx = np.random.choice(np.arange(n_participants), size=n_participants, replace=True)\n",
    "    bootstrapped_data = empirical_data[:,b_idx,:,:]\n",
    "    probs = evidence_net.predict(summary_net(bootstrapped_data))['m_probs']\n",
    "    bootstrapped_probs.append(probs)\n",
    "\n",
    "bootstrapped_probs = np.asarray(bootstrapped_probs)[:,0,:]"
   ]
  },
  {
   "cell_type": "code",
   "execution_count": 189,
   "metadata": {},
   "outputs": [],
   "source": [
    "# Drop participants (leave one out)\n",
    "\n",
    "bootstrapped_probs = []\n",
    "n_participants = empirical_data.shape[1]\n",
    "\n",
    "for b in range(n_participants):\n",
    "    cropped_data = np.delete(empirical_data, b, axis=1)\n",
    "    probs = evidence_net.predict(summary_net(cropped_data))['m_probs']\n",
    "    bootstrapped_probs.append(probs)\n",
    "\n",
    "bootstrapped_probs = np.asarray(bootstrapped_probs)[:,0,:]"
   ]
  },
  {
   "cell_type": "code",
   "execution_count": 183,
   "metadata": {},
   "outputs": [
    {
     "data": {
      "text/plain": [
       "{2: 40}"
      ]
     },
     "execution_count": 183,
     "metadata": {},
     "output_type": "execute_result"
    }
   ],
   "source": [
    "modes = [np.argmax(bootstrapped_probs[sample]) for sample in range(n_participants)]\n",
    "unique, counts = np.unique(modes, return_counts=True)\n",
    "dict(zip(unique, counts))"
   ]
  },
  {
   "cell_type": "code",
   "execution_count": 187,
   "metadata": {},
   "outputs": [
    {
     "data": {
      "text/plain": [
       "Text(0, 0.5, 'Approximated posterior model probability')"
      ]
     },
     "execution_count": 187,
     "metadata": {},
     "output_type": "execute_result"
    },
    {
     "data": {
      "image/png": "[encoded data removed]",
      "text/plain": [
       "<Figure size 360x360 with 1 Axes>"
      ]
     },
     "metadata": {},
     "output_type": "display_data"
    }
   ],
   "source": [
    "fig, ax = plt.subplots(figsize=(5,5))\n",
    "\n",
    "ax.violinplot(bootstrapped_probs, showmedians=True)\n",
    "ax.set_xticks([1, 2, 3, 4])\n",
    "ax.set_xticklabels(labels, rotation=45)\n",
    "ax.set_ylabel('Approximated posterior model probability')"
   ]
  },
  {
   "cell_type": "code",
   "execution_count": null,
   "metadata": {},
   "outputs": [],
   "source": []
  }
 ],
 "metadata": {
  "kernelspec": {
   "display_name": "Python 3",
   "language": "python",
   "name": "python3"
  },
  "language_info": {
   "codemirror_mode": {
    "name": "ipython",
    "version": 3
   },
   "file_extension": ".py",
   "mimetype": "text/x-python",
   "name": "python",
   "nbconvert_exporter": "python",
   "pygments_lexer": "ipython3",
   "version": "3.8.8"
  },
  "toc": {
   "base_numbering": 1,
   "nav_menu": {},
   "number_sections": true,
   "sideBar": true,
   "skip_h1_title": false,
   "title_cell": "Table of Contents",
   "title_sidebar": "Contents",
   "toc_cell": false,
   "toc_position": {
    "height": "calc(100% - 180px)",
    "left": "10px",
    "top": "150px",
    "width": "165px"
   },
   "toc_section_display": true,
   "toc_window_display": true
  },
  "varInspector": {
   "cols": {
    "lenName": 16,
    "lenType": 16,
    "lenVar": 40
   },
   "kernels_config": {
    "python": {
     "delete_cmd_postfix": "",
     "delete_cmd_prefix": "del ",
     "library": "var_list.py",
     "varRefreshCmd": "print(var_dic_list())"
    },
    "r": {
     "delete_cmd_postfix": ") ",
     "delete_cmd_prefix": "rm(",
     "library": "var_list.r",
     "varRefreshCmd": "cat(var_dic_list()) "
    }
   },
   "types_to_exclude": [
    "module",
    "function",
    "builtin_function_or_method",
    "instance",
    "_Feature"
   ],
   "window_display": false
  }
 },
 "nbformat": 4,
 "nbformat_minor": 2
}
