{
 "cells": [
  {
   "cell_type": "code",
   "execution_count": 1,
   "metadata": {},
   "outputs": [],
   "source": [
    "import os, sys\n",
    "sys.path.append(os.path.abspath(os.path.join('../..'))) # access sibling directories\n",
    "sys.path.append(\"C:\\\\Users\\\\lasse\\\\Documents\\\\GitHub\\\\BayesFlow\")\n",
    "\n",
    "from src.python.settings import summary_meta_diffusion, evidence_meta_diffusion\n",
    "from src.python.helpers import load_empirical_rt_data, join_and_fill_missings\n",
    "from src.python.helpers import inspect_robustness_noise, inspect_robustness_bootstrap, inspect_robustness_lopo\n",
    "from src.python.networks import HierarchicalInvariantNetwork, EvidentialNetwork\n",
    "from src.python.visualization import plot_model_posteriors, plot_noise_robustness\n",
    "\n",
    "import numpy as np\n",
    "import pandas as pd\n",
    "from tensorflow.keras.optimizers import Adam\n",
    "from functools import partial\n",
    "import matplotlib.pyplot as plt\n",
    "import seaborn as sns\n",
    "plt.rcParams['figure.facecolor'] = 'w'\n",
    "\n",
    "from bayesflow.trainers import ModelComparisonTrainer\n",
    "from bayesflow.amortizers import MultiModelAmortizer \n",
    "from bayesflow.losses import log_loss"
   ]
  },
  {
   "cell_type": "code",
   "execution_count": 2,
   "metadata": {},
   "outputs": [
    {
     "data": {
      "text/plain": [
       "<Figure size 432x288 with 0 Axes>"
      ]
     },
     "metadata": {},
     "output_type": "display_data"
    }
   ],
   "source": [
    "# Hack to correctly set facecolor to white\n",
    "# matplotlib 3.5 only sets facecolor if a plot was already created \n",
    "_ = plt.figure()\n",
    "plt.rcParams['figure.facecolor'] = 'w'"
   ]
  },
  {
   "cell_type": "markdown",
   "metadata": {},
   "source": [
    "# Application to empirical data"
   ]
  },
  {
   "cell_type": "markdown",
   "metadata": {},
   "source": [
    "## Load in data"
   ]
  },
  {
   "cell_type": "code",
   "execution_count": 3,
   "metadata": {},
   "outputs": [],
   "source": [
    "# Load data from folders\n",
    "\n",
    "parent_folder = os.path.dirname(os.path.dirname(os.getcwd()))\n",
    "color_folder = os.path.join(parent_folder, 'data\\\\03_levy_flight_application\\\\data_rts\\\\color')\n",
    "lexical_folder = os.path.join(parent_folder, 'data\\\\03_levy_flight_application\\\\data_rts\\\\lexical')\n",
    "\n",
    "color_data = load_empirical_rt_data(color_folder)\n",
    "lexical_data = load_empirical_rt_data(lexical_folder)\n",
    "\n",
    "# Join experimental data and fill missing values\n",
    "empirical_data = join_and_fill_missings(color_data, lexical_data, n_trials=900, missing_rts_equal_mean=True)"
   ]
  },
  {
   "cell_type": "markdown",
   "metadata": {},
   "source": [
    "## Load in trained network"
   ]
  },
  {
   "cell_type": "code",
   "execution_count": 4,
   "metadata": {},
   "outputs": [
    {
     "name": "stdout",
     "output_type": "stream",
     "text": [
      "TRAINER INITIALIZATION: No generative model provided. Only offline learning mode is available!\n",
      "Networks loaded from c:\\Users\\lasse\\documents\\hierarchical model comparison project\\checkpoints\\03_levy_flight_application\\fine-tuned_net\\ckpt-64\n"
     ]
    }
   ],
   "source": [
    "summary_net = HierarchicalInvariantNetwork(summary_meta_diffusion)\n",
    "evidence_net = EvidentialNetwork(evidence_meta_diffusion)\n",
    "amortizer = MultiModelAmortizer(evidence_net, summary_net)\n",
    "\n",
    "# Checkpoint path for loading pretrained network and saving the final network\n",
    "checkpoint_path = \"c:\\\\Users\\\\lasse\\\\documents\\\\hierarchical model comparison project\\\\checkpoints\\\\03_levy_flight_application\\\\fine-tuned_net\"\n",
    "\n",
    "trainer = ModelComparisonTrainer(\n",
    "    network=amortizer, \n",
    "    loss=partial(log_loss, kl_weight=0),\n",
    "    optimizer=partial(Adam),\n",
    "    checkpoint_path=checkpoint_path,\n",
    "    skip_checks=True\n",
    "    )"
   ]
  },
  {
   "cell_type": "markdown",
   "metadata": {},
   "source": [
    "## Predict"
   ]
  },
  {
   "cell_type": "code",
   "execution_count": 5,
   "metadata": {},
   "outputs": [
    {
     "data": {
      "text/plain": [
       "{'m_probs': array([[0.00721496, 0.00721496, 0.00721496, 0.9783551 ]], dtype=float32),\n",
       " 'm_var': array([[0.00005131, 0.00005131, 0.00005131, 0.00015169]], dtype=float32),\n",
       " 'uncertainty': array([[0.02885986]], dtype=float32)}"
      ]
     },
     "execution_count": 5,
     "metadata": {},
     "output_type": "execute_result"
    }
   ],
   "source": [
    "preds = evidence_net.predict(summary_net(empirical_data))\n",
    "preds"
   ]
  },
  {
   "cell_type": "code",
   "execution_count": 6,
   "metadata": {},
   "outputs": [],
   "source": [
    "labels_verbose = ['Basic diffusion model',\n",
    "                  'Basic Lévy flight model',\n",
    "                  'Full diffusion model',\n",
    "                  'Full Lévy flight model']\n",
    "\n",
    "labels = ['$\\mathcal{M}_1$',\n",
    "          '$\\mathcal{M}_2$',\n",
    "          '$\\mathcal{M}_3$',\n",
    "          '$\\mathcal{M}_4$']"
   ]
  },
  {
   "cell_type": "markdown",
   "metadata": {},
   "source": [
    "### Plot model posteriors"
   ]
  },
  {
   "cell_type": "code",
   "execution_count": 7,
   "metadata": {},
   "outputs": [],
   "source": [
    "# Get samples from dirichlet distribution\n",
    "evidences = evidence_net(summary_net(empirical_data))\n",
    "dirichlet = evidence_net.sample(summary_net(empirical_data),100000)\n",
    "dirichlet_flat = np.squeeze(dirichlet)"
   ]
  },
  {
   "cell_type": "code",
   "execution_count": 8,
   "metadata": {},
   "outputs": [
    {
     "data": {
      "image/png": "[encoded data removed]",
      "text/plain": [
       "<Figure size 360x360 with 1 Axes>"
      ]
     },
     "metadata": {},
     "output_type": "display_data"
    }
   ],
   "source": [
    "# Plot model posterior \n",
    "plot_model_posteriors(dirichlet_samples=dirichlet, labels=labels, save=True)"
   ]
  },
  {
   "cell_type": "markdown",
   "metadata": {},
   "source": [
    "### Get PMP & BF tables"
   ]
  },
  {
   "cell_type": "code",
   "execution_count": 9,
   "metadata": {},
   "outputs": [
    {
     "data": {
      "text/html": [
       "<div>\n",
       "<style scoped>\n",
       "    .dataframe tbody tr th:only-of-type {\n",
       "        vertical-align: middle;\n",
       "    }\n",
       "\n",
       "    .dataframe tbody tr th {\n",
       "        vertical-align: top;\n",
       "    }\n",
       "\n",
       "    .dataframe thead th {\n",
       "        text-align: right;\n",
       "    }\n",
       "</style>\n",
       "<table border=\"1\" class=\"dataframe\">\n",
       "  <thead>\n",
       "    <tr style=\"text-align: right;\">\n",
       "      <th></th>\n",
       "      <th>$\\mathcal{M}_1$</th>\n",
       "      <th>$\\mathcal{M}_2$</th>\n",
       "      <th>$\\mathcal{M}_3$</th>\n",
       "      <th>$\\mathcal{M}_4$</th>\n",
       "    </tr>\n",
       "  </thead>\n",
       "  <tbody>\n",
       "    <tr>\n",
       "      <th>PMP</th>\n",
       "      <td>0.007215</td>\n",
       "      <td>0.007215</td>\n",
       "      <td>0.007215</td>\n",
       "      <td>0.978355</td>\n",
       "    </tr>\n",
       "  </tbody>\n",
       "</table>\n",
       "</div>"
      ],
      "text/plain": [
       "     $\\mathcal{M}_1$  $\\mathcal{M}_2$  $\\mathcal{M}_3$  $\\mathcal{M}_4$\n",
       "PMP         0.007215         0.007215         0.007215         0.978355"
      ]
     },
     "execution_count": 9,
     "metadata": {},
     "output_type": "execute_result"
    }
   ],
   "source": [
    "# Get posterior model probabilities\n",
    "\n",
    "pmp_table = pd.DataFrame(preds['m_probs'], index=['PMP'], columns=labels)\n",
    "pmp_table"
   ]
  },
  {
   "cell_type": "code",
   "execution_count": 10,
   "metadata": {},
   "outputs": [
    {
     "data": {
      "text/plain": [
       "array([[0.  , 0.  , 0.  , 0.95],\n",
       "       [0.03, 0.03, 0.03, 1.  ]])"
      ]
     },
     "execution_count": 10,
     "metadata": {},
     "output_type": "execute_result"
    }
   ],
   "source": [
    "# Get 95% credible interval for posterior model probabilities\n",
    "cred_pmps = np.quantile(dirichlet_flat, [0.025, 0.975], axis=0).round(2)\n",
    "cred_pmps"
   ]
  },
  {
   "cell_type": "code",
   "execution_count": 11,
   "metadata": {},
   "outputs": [
    {
     "data": {
      "text/html": [
       "<div>\n",
       "<style scoped>\n",
       "    .dataframe tbody tr th:only-of-type {\n",
       "        vertical-align: middle;\n",
       "    }\n",
       "\n",
       "    .dataframe tbody tr th {\n",
       "        vertical-align: top;\n",
       "    }\n",
       "\n",
       "    .dataframe thead th {\n",
       "        text-align: right;\n",
       "    }\n",
       "</style>\n",
       "<table border=\"1\" class=\"dataframe\">\n",
       "  <thead>\n",
       "    <tr style=\"text-align: right;\">\n",
       "      <th></th>\n",
       "      <th>Basic diffusion model</th>\n",
       "      <th>Basic Lévy flight model</th>\n",
       "      <th>Full diffusion model</th>\n",
       "      <th>Full Lévy flight model</th>\n",
       "    </tr>\n",
       "  </thead>\n",
       "  <tbody>\n",
       "    <tr>\n",
       "      <th>Basic diffusion model</th>\n",
       "      <td>1.00</td>\n",
       "      <td>1.00</td>\n",
       "      <td>1.00</td>\n",
       "      <td>135.600006</td>\n",
       "    </tr>\n",
       "    <tr>\n",
       "      <th>Basic Lévy flight model</th>\n",
       "      <td>1.00</td>\n",
       "      <td>1.00</td>\n",
       "      <td>1.00</td>\n",
       "      <td>135.600006</td>\n",
       "    </tr>\n",
       "    <tr>\n",
       "      <th>Full diffusion model</th>\n",
       "      <td>1.00</td>\n",
       "      <td>1.00</td>\n",
       "      <td>1.00</td>\n",
       "      <td>135.600006</td>\n",
       "    </tr>\n",
       "    <tr>\n",
       "      <th>Full Lévy flight model</th>\n",
       "      <td>0.01</td>\n",
       "      <td>0.01</td>\n",
       "      <td>0.01</td>\n",
       "      <td>1.000000</td>\n",
       "    </tr>\n",
       "  </tbody>\n",
       "</table>\n",
       "</div>"
      ],
      "text/plain": [
       "                         Basic diffusion model  Basic Lévy flight model  \\\n",
       "Basic diffusion model                     1.00                     1.00   \n",
       "Basic Lévy flight model                   1.00                     1.00   \n",
       "Full diffusion model                      1.00                     1.00   \n",
       "Full Lévy flight model                    0.01                     0.01   \n",
       "\n",
       "                         Full diffusion model  Full Lévy flight model  \n",
       "Basic diffusion model                    1.00              135.600006  \n",
       "Basic Lévy flight model                  1.00              135.600006  \n",
       "Full diffusion model                     1.00              135.600006  \n",
       "Full Lévy flight model                   0.01                1.000000  "
      ]
     },
     "execution_count": 11,
     "metadata": {},
     "output_type": "execute_result"
    }
   ],
   "source": [
    "# Get Bayes Factors\n",
    "\n",
    "bfs = []\n",
    "\n",
    "for model in range(4):\n",
    "    for model_prob in preds['m_probs']:\n",
    "        model_bfs = model_prob/preds['m_probs'][0][model]\n",
    "        bfs.append(model_bfs.round(2))\n",
    "\n",
    "bf_table_all = pd.DataFrame(bfs, index=labels_verbose, columns=labels_verbose)\n",
    "bf_table_all"
   ]
  },
  {
   "cell_type": "code",
   "execution_count": 12,
   "metadata": {},
   "outputs": [
    {
     "data": {
      "text/html": [
       "<div>\n",
       "<style scoped>\n",
       "    .dataframe tbody tr th:only-of-type {\n",
       "        vertical-align: middle;\n",
       "    }\n",
       "\n",
       "    .dataframe tbody tr th {\n",
       "        vertical-align: top;\n",
       "    }\n",
       "\n",
       "    .dataframe thead th {\n",
       "        text-align: right;\n",
       "    }\n",
       "</style>\n",
       "<table border=\"1\" class=\"dataframe\">\n",
       "  <thead>\n",
       "    <tr style=\"text-align: right;\">\n",
       "      <th></th>\n",
       "      <th>$\\mathcal{M}_1$</th>\n",
       "      <th>$\\mathcal{M}_2$</th>\n",
       "      <th>$\\mathcal{M}_3$</th>\n",
       "      <th>$\\mathcal{M}_4$</th>\n",
       "    </tr>\n",
       "  </thead>\n",
       "  <tbody>\n",
       "    <tr>\n",
       "      <th>BF</th>\n",
       "      <td>1.0</td>\n",
       "      <td>1.0</td>\n",
       "      <td>1.0</td>\n",
       "      <td>135.600006</td>\n",
       "    </tr>\n",
       "  </tbody>\n",
       "</table>\n",
       "</div>"
      ],
      "text/plain": [
       "    $\\mathcal{M}_1$  $\\mathcal{M}_2$  $\\mathcal{M}_3$  $\\mathcal{M}_4$\n",
       "BF              1.0              1.0              1.0       135.600006"
      ]
     },
     "execution_count": 12,
     "metadata": {},
     "output_type": "execute_result"
    }
   ],
   "source": [
    "# Select Bayes Factors for publication\n",
    "\n",
    "bf_table = pd.DataFrame(bf_table_all.iloc[2, :].values.reshape(1, 4), index=['BF'], columns=labels)\n",
    "bf_table"
   ]
  },
  {
   "cell_type": "code",
   "execution_count": 13,
   "metadata": {},
   "outputs": [
    {
     "data": {
      "text/plain": [
       "array([[   0.02,    0.03,    1.  ,   36.  ],\n",
       "       [  39.76,   40.33,    1.  , 5303.38]])"
      ]
     },
     "execution_count": 13,
     "metadata": {},
     "output_type": "execute_result"
    }
   ],
   "source": [
    "# Get 95% credible interval for Bayes factors\n",
    "dirichlet_pref_model = np.reshape(np.repeat(dirichlet_flat[:,2], 4), (100000, 4))\n",
    "dirichlet_bfs = dirichlet_flat/dirichlet_pref_model\n",
    "cred_bfs = np.quantile(dirichlet_bfs, [0.025, 0.975], axis=0).round(2)\n",
    "cred_bfs"
   ]
  },
  {
   "cell_type": "code",
   "execution_count": 14,
   "metadata": {},
   "outputs": [
    {
     "data": {
      "text/html": [
       "<div>\n",
       "<style scoped>\n",
       "    .dataframe tbody tr th:only-of-type {\n",
       "        vertical-align: middle;\n",
       "    }\n",
       "\n",
       "    .dataframe tbody tr th {\n",
       "        vertical-align: top;\n",
       "    }\n",
       "\n",
       "    .dataframe thead th {\n",
       "        text-align: right;\n",
       "    }\n",
       "</style>\n",
       "<table border=\"1\" class=\"dataframe\">\n",
       "  <thead>\n",
       "    <tr style=\"text-align: right;\">\n",
       "      <th></th>\n",
       "      <th>$\\mathcal{M}_1$</th>\n",
       "      <th>$\\mathcal{M}_2$</th>\n",
       "      <th>$\\mathcal{M}_3$</th>\n",
       "      <th>$\\mathcal{M}_4$</th>\n",
       "    </tr>\n",
       "  </thead>\n",
       "  <tbody>\n",
       "    <tr>\n",
       "      <th>BF</th>\n",
       "      <td>1.0 (0.02--39.76)</td>\n",
       "      <td>1.0 (0.03--40.33)</td>\n",
       "      <td>*</td>\n",
       "      <td>1.36e+02 (36.0--5303.38)</td>\n",
       "    </tr>\n",
       "    <tr>\n",
       "      <th>PMP</th>\n",
       "      <td>0.0072 (0.0--0.03)</td>\n",
       "      <td>0.0072 (0.0--0.03)</td>\n",
       "      <td>0.0072 (0.0--0.03)</td>\n",
       "      <td>0.98 (0.95--1.0)</td>\n",
       "    </tr>\n",
       "  </tbody>\n",
       "</table>\n",
       "</div>"
      ],
      "text/plain": [
       "        $\\mathcal{M}_1$     $\\mathcal{M}_2$     $\\mathcal{M}_3$  \\\n",
       "BF    1.0 (0.02--39.76)   1.0 (0.03--40.33)                   *   \n",
       "PMP  0.0072 (0.0--0.03)  0.0072 (0.0--0.03)  0.0072 (0.0--0.03)   \n",
       "\n",
       "              $\\mathcal{M}_4$  \n",
       "BF   1.36e+02 (36.0--5303.38)  \n",
       "PMP          0.98 (0.95--1.0)  "
      ]
     },
     "execution_count": 14,
     "metadata": {},
     "output_type": "execute_result"
    }
   ],
   "source": [
    "# Create table for publication\n",
    "\n",
    "# Insert credible intervals\n",
    "for m in range(4):\n",
    "    bf_table.iloc[0, m] = f'{bf_table.iloc[0, m]:.3}' + f' ({cred_bfs[0][m]}--{cred_bfs[1][m]})' \n",
    "    # :.3 to prevent unrounding of BFs\n",
    "    pmp_table.iloc[0, m] = f'{pmp_table.iloc[0, m]:.2}' + f' ({cred_pmps[0][m]}--{cred_pmps[1][m]})' \n",
    "    \n",
    "bf_table.iloc[0, 2] = '*' # replace 1s of preferred model\n",
    "results_table = pd.concat([bf_table, pmp_table])\n",
    "results_table\n"
   ]
  },
  {
   "cell_type": "code",
   "execution_count": 15,
   "metadata": {},
   "outputs": [
    {
     "name": "stdout",
     "output_type": "stream",
     "text": [
      "\\begin{table}[h]\n",
      "\\centering\n",
      "\\begin{tabular}{lllll}\n",
      "\\toprule\n",
      " & $\\mathcal{M}_1$ & $\\mathcal{M}_2$ & $\\mathcal{M}_3$ & $\\mathcal{M}_4$ \\\\\n",
      "\\midrule\n",
      "BF & 1.0 (0.02--39.76) & 1.0 (0.03--40.33) & * & 1.36e+02 (36.0--5303.38) \\\\\n",
      "PMP & 0.0072 (0.0--0.03) & 0.0072 (0.0--0.03) & 0.0072 (0.0--0.03) & 0.98 (0.95--1.0) \\\\\n",
      "\\bottomrule\n",
      "\\end{tabular}\n",
      "\\end{table}\n",
      "\n"
     ]
    }
   ],
   "source": [
    "# Get LaTeX table for publication\n",
    "print(results_table.style.to_latex(position='h', position_float='centering', hrules=True))"
   ]
  },
  {
   "cell_type": "markdown",
   "metadata": {},
   "source": [
    "# Robustness checks"
   ]
  },
  {
   "cell_type": "markdown",
   "metadata": {},
   "source": [
    "## Additional noise"
   ]
  },
  {
   "cell_type": "code",
   "execution_count": 16,
   "metadata": {},
   "outputs": [
    {
     "data": {
      "image/png": "[encoded data removed]",
      "text/plain": [
       "<Figure size 360x360 with 1 Axes>"
      ]
     },
     "metadata": {},
     "output_type": "display_data"
    }
   ],
   "source": [
    "added_noise_percentages = np.arange(0, 0.27, 0.01)\n",
    "mean_noise_proportion_list, mean_probs, mean_sds, mean_vars = inspect_robustness_noise(added_noise_percentages, \n",
    "                                                                                       empirical_data, evidence_net, \n",
    "                                                                                       summary_net, n_runs=100)\n",
    "\n",
    "plot_noise_robustness(mean_noise_proportion_list, mean_probs, mean_sds, labels, save=False)"
   ]
  },
  {
   "cell_type": "markdown",
   "metadata": {},
   "source": [
    "## Resampled trials within participants"
   ]
  },
  {
   "cell_type": "code",
   "execution_count": 17,
   "metadata": {},
   "outputs": [],
   "source": [
    "bootstrapped_trials = inspect_robustness_bootstrap(empirical_data, evidence_net, summary_net, level='trials')\n",
    "bootstrapped_participants = inspect_robustness_bootstrap(empirical_data, evidence_net, summary_net, level='participants')\n",
    "leave_one_participant_out = inspect_robustness_lopo(empirical_data, evidence_net, summary_net)"
   ]
  },
  {
   "cell_type": "code",
   "execution_count": 18,
   "metadata": {},
   "outputs": [
    {
     "data": {
      "image/png": "[encoded data removed]",
      "text/plain": [
       "<Figure size 1224x360 with 3 Axes>"
      ]
     },
     "metadata": {},
     "output_type": "display_data"
    }
   ],
   "source": [
    "fig, axarr = plt.subplots(1, 3, figsize=(17, 5))\n",
    "plt.subplots_adjust(wspace=0.25)\n",
    "\n",
    "plot_model_posteriors(bootstrapped_trials, labels, title='Bootstrapped trials', ax=axarr[0])\n",
    "plot_model_posteriors(bootstrapped_participants, labels, title='Bootstrapped participants',ax=axarr[1])\n",
    "plot_model_posteriors(leave_one_participant_out, labels, title='Leave-one-participant-out',ax=axarr[2])\n",
    "\n",
    "plt.savefig('levy_resampling_robustness.png', dpi=300, bbox_inches='tight')"
   ]
  }
 ],
 "metadata": {
  "interpreter": {
   "hash": "27a86c9f63fe2f1aa7d9f3c637434a8367b5c148236c1390e91d25c0e560ef1a"
  },
  "kernelspec": {
   "display_name": "Python 3.8.13 ('tf')",
   "language": "python",
   "name": "python3"
  },
  "language_info": {
   "codemirror_mode": {
    "name": "ipython",
    "version": 3
   },
   "file_extension": ".py",
   "mimetype": "text/x-python",
   "name": "python",
   "nbconvert_exporter": "python",
   "pygments_lexer": "ipython3",
   "version": "3.8.13"
  },
  "toc": {
   "base_numbering": 1,
   "nav_menu": {},
   "number_sections": true,
   "sideBar": true,
   "skip_h1_title": false,
   "title_cell": "Table of Contents",
   "title_sidebar": "Contents",
   "toc_cell": false,
   "toc_position": {
    "height": "calc(100% - 180px)",
    "left": "10px",
    "top": "150px",
    "width": "165px"
   },
   "toc_section_display": true,
   "toc_window_display": true
  },
  "varInspector": {
   "cols": {
    "lenName": 16,
    "lenType": 16,
    "lenVar": 40
   },
   "kernels_config": {
    "python": {
     "delete_cmd_postfix": "",
     "delete_cmd_prefix": "del ",
     "library": "var_list.py",
     "varRefreshCmd": "print(var_dic_list())"
    },
    "r": {
     "delete_cmd_postfix": ") ",
     "delete_cmd_prefix": "rm(",
     "library": "var_list.r",
     "varRefreshCmd": "cat(var_dic_list()) "
    }
   },
   "types_to_exclude": [
    "module",
    "function",
    "builtin_function_or_method",
    "instance",
    "_Feature"
   ],
   "window_display": false
  }
 },
 "nbformat": 4,
 "nbformat_minor": 2
}
