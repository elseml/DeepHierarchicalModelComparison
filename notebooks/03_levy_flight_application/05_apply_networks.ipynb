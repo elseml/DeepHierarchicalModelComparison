{
 "cells": [
  {
   "cell_type": "code",
   "execution_count": 1,
   "metadata": {},
   "outputs": [],
   "source": [
    "import os, sys\n",
    "sys.path.append(os.path.abspath(os.path.join('../..'))) # access sibling directories\n",
    "sys.path.append(\"C:\\\\Users\\\\lasse\\\\Documents\\\\GitHub\\\\BayesFlow\")\n",
    "\n",
    "from src.python.settings import summary_meta_diffusion, probability_meta_diffusion\n",
    "from src.python.helpers import load_empirical_rt_data, join_and_fill_missings\n",
    "from src.python.helpers import inspect_robustness_noise, inspect_robustness_bootstrap, inspect_robustness_lopo\n",
    "from src.python.losses import softmax_loss\n",
    "from src.python.networks import HierarchicalInvariantNetwork, ModelProbabilityNetwork\n",
    "from src.python.visualization import plot_model_posteriors, plot_noise_robustness\n",
    "\n",
    "import numpy as np\n",
    "import pandas as pd\n",
    "from tensorflow.keras.optimizers import Adam\n",
    "from functools import partial\n",
    "import matplotlib.pyplot as plt\n",
    "import seaborn as sns\n",
    "plt.rcParams['figure.facecolor'] = 'w'\n",
    "\n",
    "from bayesflow.trainers import ModelComparisonTrainer\n",
    "from bayesflow.amortizers import MultiModelAmortizer"
   ]
  },
  {
   "cell_type": "code",
   "execution_count": 2,
   "metadata": {},
   "outputs": [
    {
     "data": {
      "text/plain": [
       "<Figure size 432x288 with 0 Axes>"
      ]
     },
     "metadata": {},
     "output_type": "display_data"
    }
   ],
   "source": [
    "# Hack to correctly set facecolor to white\n",
    "# matplotlib 3.5 only sets facecolor if a plot was already created \n",
    "_ = plt.figure()\n",
    "plt.rcParams['figure.facecolor'] = 'w'"
   ]
  },
  {
   "cell_type": "markdown",
   "metadata": {},
   "source": [
    "# Application to empirical data"
   ]
  },
  {
   "cell_type": "markdown",
   "metadata": {},
   "source": [
    "## Load in data"
   ]
  },
  {
   "cell_type": "code",
   "execution_count": 3,
   "metadata": {},
   "outputs": [],
   "source": [
    "# Load data from folders\n",
    "\n",
    "parent_folder = os.path.dirname(os.path.dirname(os.getcwd()))\n",
    "color_folder = os.path.join(parent_folder, 'data\\\\03_levy_flight_application\\\\data_rts\\\\color')\n",
    "lexical_folder = os.path.join(parent_folder, 'data\\\\03_levy_flight_application\\\\data_rts\\\\lexical')\n",
    "\n",
    "color_data = load_empirical_rt_data(color_folder)\n",
    "lexical_data = load_empirical_rt_data(lexical_folder)\n",
    "\n",
    "# Join experimental data and fill missing values\n",
    "empirical_data = join_and_fill_missings(color_data, lexical_data, n_trials=900, missing_rts_equal_mean=True)"
   ]
  },
  {
   "cell_type": "markdown",
   "metadata": {},
   "source": [
    "## Load in trained network"
   ]
  },
  {
   "cell_type": "code",
   "execution_count": 4,
   "metadata": {},
   "outputs": [
    {
     "name": "stdout",
     "output_type": "stream",
     "text": [
      "TRAINER INITIALIZATION: No generative model provided. Only offline learning mode is available!\n",
      "Networks loaded from c:\\Users\\lasse\\documents\\hierarchical_model_comparison_project\\checkpoints\\03_levy_flight_application\\truncnormal_alpha_prior\\fine-tuned_net\\ckpt-50\n"
     ]
    }
   ],
   "source": [
    "summary_net = HierarchicalInvariantNetwork(summary_meta_diffusion)\n",
    "probability_net = ModelProbabilityNetwork(probability_meta_diffusion)\n",
    "amortizer = MultiModelAmortizer(probability_net, summary_net)\n",
    "\n",
    "# Checkpoint path for loading pretrained network and saving the final network\n",
    "checkpoint_path = \"c:\\\\Users\\\\lasse\\\\documents\\\\hierarchical_model_comparison_project\\\\checkpoints\\\\03_levy_flight_application\\\\truncnormal_alpha_prior\\\\fine-tuned_net\"\n",
    "\n",
    "trainer = ModelComparisonTrainer(\n",
    "    network=amortizer, \n",
    "    loss=partial(softmax_loss),\n",
    "    optimizer=partial(Adam),\n",
    "    checkpoint_path=checkpoint_path,\n",
    "    skip_checks=True\n",
    "    )"
   ]
  },
  {
   "cell_type": "markdown",
   "metadata": {},
   "source": [
    "## Predict"
   ]
  },
  {
   "cell_type": "code",
   "execution_count": 5,
   "metadata": {},
   "outputs": [
    {
     "data": {
      "text/plain": [
       "{'m_probs': array([[0.00000014, 0.00026828, 0.02859666, 0.9711349 ]], dtype=float32)}"
      ]
     },
     "execution_count": 5,
     "metadata": {},
     "output_type": "execute_result"
    }
   ],
   "source": [
    "preds = probability_net.predict(summary_net(empirical_data))\n",
    "preds"
   ]
  },
  {
   "cell_type": "code",
   "execution_count": 6,
   "metadata": {},
   "outputs": [],
   "source": [
    "labels_verbose = ['Basic diffusion model',\n",
    "                  'Basic Lévy flight model',\n",
    "                  'Full diffusion model',\n",
    "                  'Full Lévy flight model']\n",
    "\n",
    "labels = ['$\\mathcal{M}_1$',\n",
    "          '$\\mathcal{M}_2$',\n",
    "          '$\\mathcal{M}_3$',\n",
    "          '$\\mathcal{M}_4$']"
   ]
  },
  {
   "cell_type": "markdown",
   "metadata": {},
   "source": [
    "### Plot model posteriors"
   ]
  },
  {
   "cell_type": "code",
   "execution_count": 7,
   "metadata": {},
   "outputs": [],
   "source": [
    "# Get samples from dirichlet distribution\n",
    "#dirichlet = probability_net.sample(summary_net(empirical_data),100000)\n",
    "#dirichlet_flat = np.squeeze(dirichlet)"
   ]
  },
  {
   "cell_type": "code",
   "execution_count": 8,
   "metadata": {},
   "outputs": [],
   "source": [
    "# Plot model posterior \n",
    "#plot_model_posteriors(dirichlet_samples=dirichlet, labels=labels, save=True)"
   ]
  },
  {
   "cell_type": "markdown",
   "metadata": {},
   "source": [
    "### Get PMP & BF tables"
   ]
  },
  {
   "cell_type": "code",
   "execution_count": 96,
   "metadata": {},
   "outputs": [
    {
     "data": {
      "text/html": [
       "<div>\n",
       "<style scoped>\n",
       "    .dataframe tbody tr th:only-of-type {\n",
       "        vertical-align: middle;\n",
       "    }\n",
       "\n",
       "    .dataframe tbody tr th {\n",
       "        vertical-align: top;\n",
       "    }\n",
       "\n",
       "    .dataframe thead th {\n",
       "        text-align: right;\n",
       "    }\n",
       "</style>\n",
       "<table border=\"1\" class=\"dataframe\">\n",
       "  <thead>\n",
       "    <tr style=\"text-align: right;\">\n",
       "      <th></th>\n",
       "      <th>$\\mathcal{M}_1$</th>\n",
       "      <th>$\\mathcal{M}_2$</th>\n",
       "      <th>$\\mathcal{M}_3$</th>\n",
       "      <th>$\\mathcal{M}_4$</th>\n",
       "    </tr>\n",
       "  </thead>\n",
       "  <tbody>\n",
       "    <tr>\n",
       "      <th>$PMP$</th>\n",
       "      <td>1.417793e-07</td>\n",
       "      <td>0.000268</td>\n",
       "      <td>0.028597</td>\n",
       "      <td>0.971135</td>\n",
       "    </tr>\n",
       "  </tbody>\n",
       "</table>\n",
       "</div>"
      ],
      "text/plain": [
       "       $\\mathcal{M}_1$  $\\mathcal{M}_2$  $\\mathcal{M}_3$  $\\mathcal{M}_4$\n",
       "$PMP$     1.417793e-07         0.000268         0.028597         0.971135"
      ]
     },
     "execution_count": 96,
     "metadata": {},
     "output_type": "execute_result"
    }
   ],
   "source": [
    "# Get posterior model probabilities\n",
    "\n",
    "pmp_table = pd.DataFrame(preds['m_probs'], index=['$\\text{PMP}$'], columns=labels)\n",
    "pmp_table"
   ]
  },
  {
   "cell_type": "code",
   "execution_count": 97,
   "metadata": {},
   "outputs": [],
   "source": [
    "# Get 95% credible interval for posterior model probabilities\n",
    "#cred_pmps = np.quantile(dirichlet_flat, [0.025, 0.975], axis=0).round(2)\n",
    "#cred_pmps"
   ]
  },
  {
   "cell_type": "code",
   "execution_count": 98,
   "metadata": {},
   "outputs": [
    {
     "data": {
      "text/html": [
       "<div>\n",
       "<style scoped>\n",
       "    .dataframe tbody tr th:only-of-type {\n",
       "        vertical-align: middle;\n",
       "    }\n",
       "\n",
       "    .dataframe tbody tr th {\n",
       "        vertical-align: top;\n",
       "    }\n",
       "\n",
       "    .dataframe thead th {\n",
       "        text-align: right;\n",
       "    }\n",
       "</style>\n",
       "<table border=\"1\" class=\"dataframe\">\n",
       "  <thead>\n",
       "    <tr style=\"text-align: right;\">\n",
       "      <th></th>\n",
       "      <th>Basic diffusion model</th>\n",
       "      <th>Basic Lévy flight model</th>\n",
       "      <th>Full diffusion model</th>\n",
       "      <th>Full Lévy flight model</th>\n",
       "    </tr>\n",
       "  </thead>\n",
       "  <tbody>\n",
       "    <tr>\n",
       "      <th>Basic diffusion model</th>\n",
       "      <td>1.000000e+00</td>\n",
       "      <td>1892.249390</td>\n",
       "      <td>201698.359375</td>\n",
       "      <td>6.849622e+06</td>\n",
       "    </tr>\n",
       "    <tr>\n",
       "      <th>Basic Lévy flight model</th>\n",
       "      <td>5.284715e-04</td>\n",
       "      <td>1.000000</td>\n",
       "      <td>106.591843</td>\n",
       "      <td>3.619831e+03</td>\n",
       "    </tr>\n",
       "    <tr>\n",
       "      <th>Full diffusion model</th>\n",
       "      <td>4.957898e-06</td>\n",
       "      <td>0.009382</td>\n",
       "      <td>1.000000</td>\n",
       "      <td>3.395973e+01</td>\n",
       "    </tr>\n",
       "    <tr>\n",
       "      <th>Full Lévy flight model</th>\n",
       "      <td>1.459935e-07</td>\n",
       "      <td>0.000276</td>\n",
       "      <td>0.029447</td>\n",
       "      <td>1.000000e+00</td>\n",
       "    </tr>\n",
       "  </tbody>\n",
       "</table>\n",
       "</div>"
      ],
      "text/plain": [
       "                         Basic diffusion model  Basic Lévy flight model  \\\n",
       "Basic diffusion model             1.000000e+00              1892.249390   \n",
       "Basic Lévy flight model           5.284715e-04                 1.000000   \n",
       "Full diffusion model              4.957898e-06                 0.009382   \n",
       "Full Lévy flight model            1.459935e-07                 0.000276   \n",
       "\n",
       "                         Full diffusion model  Full Lévy flight model  \n",
       "Basic diffusion model           201698.359375            6.849622e+06  \n",
       "Basic Lévy flight model            106.591843            3.619831e+03  \n",
       "Full diffusion model                 1.000000            3.395973e+01  \n",
       "Full Lévy flight model               0.029447            1.000000e+00  "
      ]
     },
     "execution_count": 98,
     "metadata": {},
     "output_type": "execute_result"
    }
   ],
   "source": [
    "# Get Bayes Factors\n",
    "\n",
    "bfs = []\n",
    "\n",
    "for model in range(4):\n",
    "    for model_prob in preds['m_probs']:\n",
    "        model_bfs = model_prob/preds['m_probs'][0][model]\n",
    "        #bfs.append(model_bfs.round(2))\n",
    "        bfs.append(model_bfs)\n",
    "\n",
    "bf_table_all = pd.DataFrame(bfs, index=labels_verbose, columns=labels_verbose)\n",
    "bf_table_all"
   ]
  },
  {
   "cell_type": "code",
   "execution_count": 99,
   "metadata": {},
   "outputs": [
    {
     "data": {
      "text/html": [
       "<div>\n",
       "<style scoped>\n",
       "    .dataframe tbody tr th:only-of-type {\n",
       "        vertical-align: middle;\n",
       "    }\n",
       "\n",
       "    .dataframe tbody tr th {\n",
       "        vertical-align: top;\n",
       "    }\n",
       "\n",
       "    .dataframe thead th {\n",
       "        text-align: right;\n",
       "    }\n",
       "</style>\n",
       "<table border=\"1\" class=\"dataframe\">\n",
       "  <thead>\n",
       "    <tr style=\"text-align: right;\">\n",
       "      <th></th>\n",
       "      <th>$\\mathcal{M}_1$</th>\n",
       "      <th>$\\mathcal{M}_2$</th>\n",
       "      <th>$\\mathcal{M}_3$</th>\n",
       "      <th>$\\mathcal{M}_4$</th>\n",
       "    </tr>\n",
       "  </thead>\n",
       "  <tbody>\n",
       "    <tr>\n",
       "      <th>$BF_{j4}$</th>\n",
       "      <td>1.459935e-07</td>\n",
       "      <td>0.000276</td>\n",
       "      <td>0.029447</td>\n",
       "      <td>1.0</td>\n",
       "    </tr>\n",
       "  </tbody>\n",
       "</table>\n",
       "</div>"
      ],
      "text/plain": [
       "           $\\mathcal{M}_1$  $\\mathcal{M}_2$  $\\mathcal{M}_3$  $\\mathcal{M}_4$\n",
       "$BF_{j4}$     1.459935e-07         0.000276         0.029447              1.0"
      ]
     },
     "execution_count": 99,
     "metadata": {},
     "output_type": "execute_result"
    }
   ],
   "source": [
    "# Select Bayes Factors for publication\n",
    "\n",
    "bfs_contra = pd.DataFrame(bf_table_all.iloc[3, :].values.reshape(1, 4), index=['$\\text{BF}_{j4}$'], columns=labels)\n",
    "bfs_contra"
   ]
  },
  {
   "cell_type": "code",
   "execution_count": 100,
   "metadata": {},
   "outputs": [
    {
     "data": {
      "text/html": [
       "<div>\n",
       "<style scoped>\n",
       "    .dataframe tbody tr th:only-of-type {\n",
       "        vertical-align: middle;\n",
       "    }\n",
       "\n",
       "    .dataframe tbody tr th {\n",
       "        vertical-align: top;\n",
       "    }\n",
       "\n",
       "    .dataframe thead th {\n",
       "        text-align: right;\n",
       "    }\n",
       "</style>\n",
       "<table border=\"1\" class=\"dataframe\">\n",
       "  <thead>\n",
       "    <tr style=\"text-align: right;\">\n",
       "      <th></th>\n",
       "      <th>$\\mathcal{M}_1$</th>\n",
       "      <th>$\\mathcal{M}_2$</th>\n",
       "      <th>$\\mathcal{M}_3$</th>\n",
       "      <th>$\\mathcal{M}_4$</th>\n",
       "    </tr>\n",
       "  </thead>\n",
       "  <tbody>\n",
       "    <tr>\n",
       "      <th>$BF_{4j}$</th>\n",
       "      <td>6849622.0</td>\n",
       "      <td>3619.830566</td>\n",
       "      <td>33.959732</td>\n",
       "      <td>1.0</td>\n",
       "    </tr>\n",
       "  </tbody>\n",
       "</table>\n",
       "</div>"
      ],
      "text/plain": [
       "           $\\mathcal{M}_1$  $\\mathcal{M}_2$  $\\mathcal{M}_3$  $\\mathcal{M}_4$\n",
       "$BF_{4j}$        6849622.0      3619.830566        33.959732              1.0"
      ]
     },
     "execution_count": 100,
     "metadata": {},
     "output_type": "execute_result"
    }
   ],
   "source": [
    "bfs_pro = pd.DataFrame(bf_table_all.iloc[:, 3].values.reshape(1, 4), index=['$\\text{BF}_{4j}$'], columns=labels)\n",
    "bfs_pro"
   ]
  },
  {
   "cell_type": "code",
   "execution_count": 101,
   "metadata": {},
   "outputs": [],
   "source": [
    "# # Get 95% credible interval for Bayes factors\n",
    "# dirichlet_pref_model = np.reshape(np.repeat(dirichlet_flat[:,3], 4), (100000, 4))\n",
    "# dirichlet_bfs = dirichlet_flat/dirichlet_pref_model\n",
    "# cred_bfs = np.quantile(dirichlet_bfs, [0.025, 0.975], axis=0).round(2)\n",
    "# cred_bfs"
   ]
  },
  {
   "cell_type": "code",
   "execution_count": 102,
   "metadata": {},
   "outputs": [],
   "source": [
    "# # Create table for publication\n",
    "\n",
    "# # Insert credible intervals\n",
    "# for m in range(4):\n",
    "#     bf_table.iloc[0, m] = f'{bf_table.iloc[0, m]:.3}' + f' ({cred_bfs[0][m]}--{cred_bfs[1][m]})' \n",
    "#     # :.3 to prevent unrounding of BFs\n",
    "#     pmp_table.iloc[0, m] = f'{pmp_table.iloc[0, m]:.2}' + f' ({cred_pmps[0][m]}--{cred_pmps[1][m]})' \n",
    "    \n",
    "# bf_table.iloc[0, 3] = '*' # replace 1s of preferred model\n",
    "# results_table = pd.concat([bf_table, pmp_table])\n",
    "# results_table"
   ]
  },
  {
   "cell_type": "code",
   "execution_count": 103,
   "metadata": {},
   "outputs": [],
   "source": [
    "# Get LaTeX table for publication\n",
    "#print(results_table.style.to_latex(position='h', position_float='centering', hrules=True))"
   ]
  },
  {
   "cell_type": "code",
   "execution_count": 104,
   "metadata": {},
   "outputs": [
    {
     "data": {
      "text/html": [
       "<div>\n",
       "<style scoped>\n",
       "    .dataframe tbody tr th:only-of-type {\n",
       "        vertical-align: middle;\n",
       "    }\n",
       "\n",
       "    .dataframe tbody tr th {\n",
       "        vertical-align: top;\n",
       "    }\n",
       "\n",
       "    .dataframe thead th {\n",
       "        text-align: right;\n",
       "    }\n",
       "</style>\n",
       "<table border=\"1\" class=\"dataframe\">\n",
       "  <thead>\n",
       "    <tr style=\"text-align: right;\">\n",
       "      <th></th>\n",
       "      <th>$\\mathcal{M}_1$</th>\n",
       "      <th>$\\mathcal{M}_2$</th>\n",
       "      <th>$\\mathcal{M}_3$</th>\n",
       "      <th>$\\mathcal{M}_4$</th>\n",
       "    </tr>\n",
       "  </thead>\n",
       "  <tbody>\n",
       "    <tr>\n",
       "      <th>$BF_{j4}$</th>\n",
       "      <td>1.46e-07</td>\n",
       "      <td>2.76e-04</td>\n",
       "      <td>0.030000</td>\n",
       "      <td>*</td>\n",
       "    </tr>\n",
       "    <tr>\n",
       "      <th>$BF_{4j}$</th>\n",
       "      <td>6.85e+06</td>\n",
       "      <td>3.62e+03</td>\n",
       "      <td>33.959999</td>\n",
       "      <td>*</td>\n",
       "    </tr>\n",
       "    <tr>\n",
       "      <th>$PMP$</th>\n",
       "      <td>1.42e-07</td>\n",
       "      <td>2.68e-04</td>\n",
       "      <td>0.030000</td>\n",
       "      <td>0.97</td>\n",
       "    </tr>\n",
       "  </tbody>\n",
       "</table>\n",
       "</div>"
      ],
      "text/plain": [
       "          $\\mathcal{M}_1$ $\\mathcal{M}_2$  $\\mathcal{M}_3$ $\\mathcal{M}_4$\n",
       "$BF_{j4}$        1.46e-07        2.76e-04         0.030000               *\n",
       "$BF_{4j}$        6.85e+06        3.62e+03        33.959999               *\n",
       "$PMP$            1.42e-07        2.68e-04         0.030000            0.97"
      ]
     },
     "execution_count": 104,
     "metadata": {},
     "output_type": "execute_result"
    }
   ],
   "source": [
    "# Create table for publication WITHOUT UNCERTAINTIES\n",
    "\n",
    "for m in range(4):\n",
    "    if bfs_contra.iloc[0, m] < 0.01: # only resort to scientific notation when needed\n",
    "        bfs_contra.iloc[0, m] = f'{bfs_contra.iloc[0, m]:.2e}'\n",
    "    else:\n",
    "        bfs_contra.iloc[0, m] = bfs_contra.iloc[0, m].round(2)\n",
    "\n",
    "    if bfs_pro.iloc[0, m] > 1000: # only resort to scientific notation when needed\n",
    "        bfs_pro.iloc[0, m] = f'{bfs_pro.iloc[0, m]:.2e}'\n",
    "    else:\n",
    "        bfs_pro.iloc[0, m] = bfs_pro.iloc[0, m].round(2)\n",
    "\n",
    "    if pmp_table.iloc[0, m] < 0.01:\n",
    "        pmp_table.iloc[0, m] = f'{pmp_table.iloc[0, m]:.2e}'\n",
    "    else:\n",
    "        pmp_table.iloc[0, m] = pmp_table.iloc[0, m].round(2)\n",
    "\n",
    "bfs_contra.iloc[0, 3] = '*' # replace 1s of preferred model\n",
    "bfs_pro.iloc[0, 3] = '*' # replace 1s of preferred model\n",
    "results_table = pd.concat([bfs_contra, bfs_pro, pmp_table])\n",
    "results_table"
   ]
  },
  {
   "cell_type": "code",
   "execution_count": 93,
   "metadata": {},
   "outputs": [
    {
     "name": "stdout",
     "output_type": "stream",
     "text": [
      "\\begin{table}[h]\n",
      "\\centering\n",
      "\\begin{tabular}{lllrl}\n",
      "\\toprule\n",
      " & $\\mathcal{M}_1$ & $\\mathcal{M}_2$ & $\\mathcal{M}_3$ & $\\mathcal{M}_4$ \\\\\n",
      "\\midrule\n",
      "$BF_{j4}$ & 1.46e-07 & 2.76e-04 & 0.030000 & * \\\\\n",
      "$BF_{4j}$ & 6.85e+06 & 3.62e+03 & 33.959999 & * \\\\\n",
      "$PMP$ & 1.42e-07 & 2.68e-04 & 0.030000 & 0.970000 \\\\\n",
      "\\bottomrule\n",
      "\\end{tabular}\n",
      "\\end{table}\n",
      "\n"
     ]
    }
   ],
   "source": [
    "print(results_table.style.to_latex(position='h', position_float='centering', hrules=True))"
   ]
  },
  {
   "cell_type": "markdown",
   "metadata": {},
   "source": [
    "# Robustness checks"
   ]
  },
  {
   "attachments": {},
   "cell_type": "markdown",
   "metadata": {},
   "source": [
    "## Results under data perturbations"
   ]
  },
  {
   "cell_type": "code",
   "execution_count": 7,
   "metadata": {},
   "outputs": [],
   "source": [
    "bootstrapped_trials = inspect_robustness_bootstrap(empirical_data, probability_net, summary_net, level='trials', n_bootstrap=100)\n",
    "bootstrapped_participants = inspect_robustness_bootstrap(empirical_data, probability_net, summary_net, level='participants', n_bootstrap=100)\n",
    "leave_one_participant_out = inspect_robustness_lopo(empirical_data, probability_net, summary_net)"
   ]
  },
  {
   "cell_type": "code",
   "execution_count": 8,
   "metadata": {},
   "outputs": [
    {
     "data": {
      "image/png": "[encoded data removed]",
      "text/plain": [
       "<Figure size 1152x360 with 3 Axes>"
      ]
     },
     "metadata": {},
     "output_type": "display_data"
    }
   ],
   "source": [
    "fig, axarr = plt.subplots(1, 3, figsize=(16, 5))\n",
    "plt.subplots_adjust(wspace=0.15)\n",
    "\n",
    "plot_model_posteriors(bootstrapped_trials, labels, title='Bootstrapped trials', ax=axarr[0])\n",
    "plot_model_posteriors(bootstrapped_participants, labels, ylabel=False, title='Bootstrapped participants',ax=axarr[1])\n",
    "plot_model_posteriors(leave_one_participant_out, labels, ylabel=False,  title='Leave-one-participant-out',ax=axarr[2])\n",
    "\n",
    "plt.savefig('levy_perturbation_robustness.pdf', dpi=300, bbox_inches='tight')"
   ]
  },
  {
   "attachments": {},
   "cell_type": "markdown",
   "metadata": {},
   "source": [
    "## Results under additional noise"
   ]
  },
  {
   "cell_type": "code",
   "execution_count": 7,
   "metadata": {},
   "outputs": [
    {
     "data": {
      "image/png": "[encoded data removed]",
      "text/plain": [
       "<Figure size 360x360 with 1 Axes>"
      ]
     },
     "metadata": {},
     "output_type": "display_data"
    }
   ],
   "source": [
    "added_noise_percentages = np.arange(0, 0.51, 0.01)\n",
    "mean_noise_proportion_list, mean_probs, mean_sds = inspect_robustness_noise(added_noise_percentages, \n",
    "                                                                                       empirical_data, probability_net, \n",
    "                                                                                       summary_net, n_runs=100)\n",
    "\n",
    "plot_noise_robustness(mean_noise_proportion_list, mean_probs, mean_sds, labels, save=True)"
   ]
  }
 ],
 "metadata": {
  "interpreter": {
   "hash": "27a86c9f63fe2f1aa7d9f3c637434a8367b5c148236c1390e91d25c0e560ef1a"
  },
  "kernelspec": {
   "display_name": "Python 3.8.13 ('tf')",
   "language": "python",
   "name": "python3"
  },
  "language_info": {
   "codemirror_mode": {
    "name": "ipython",
    "version": 3
   },
   "file_extension": ".py",
   "mimetype": "text/x-python",
   "name": "python",
   "nbconvert_exporter": "python",
   "pygments_lexer": "ipython3",
   "version": "3.8.13"
  },
  "toc": {
   "base_numbering": 1,
   "nav_menu": {},
   "number_sections": true,
   "sideBar": true,
   "skip_h1_title": false,
   "title_cell": "Table of Contents",
   "title_sidebar": "Contents",
   "toc_cell": false,
   "toc_position": {
    "height": "calc(100% - 180px)",
    "left": "10px",
    "top": "150px",
    "width": "165px"
   },
   "toc_section_display": true,
   "toc_window_display": true
  },
  "varInspector": {
   "cols": {
    "lenName": 16,
    "lenType": 16,
    "lenVar": 40
   },
   "kernels_config": {
    "python": {
     "delete_cmd_postfix": "",
     "delete_cmd_prefix": "del ",
     "library": "var_list.py",
     "varRefreshCmd": "print(var_dic_list())"
    },
    "r": {
     "delete_cmd_postfix": ") ",
     "delete_cmd_prefix": "rm(",
     "library": "var_list.r",
     "varRefreshCmd": "cat(var_dic_list()) "
    }
   },
   "types_to_exclude": [
    "module",
    "function",
    "builtin_function_or_method",
    "instance",
    "_Feature"
   ],
   "window_display": false
  }
 },
 "nbformat": 4,
 "nbformat_minor": 2
}
