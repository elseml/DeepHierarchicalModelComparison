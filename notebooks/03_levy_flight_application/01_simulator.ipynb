{
 "cells": [
  {
   "cell_type": "code",
   "execution_count": 1,
   "metadata": {},
   "outputs": [],
   "source": [
    "using Distributions\n",
    "using AlphaStableDistributions\n",
    "using Statistics\n",
    "using Plots\n",
    "using StatsPlots\n",
    "using StatsFuns\n",
    "using NPZ"
   ]
  },
  {
   "cell_type": "code",
   "execution_count": 2,
   "metadata": {},
   "outputs": [],
   "source": [
    "parent_folder = dirname(dirname(pwd()))\n",
    "source_path = parent_folder * \"\\\\src\\\\julia\"\n",
    "\n",
    "include(\"$source_path/01_priors.jl\")\n",
    "include(\"$source_path/02_diffusion.jl\")\n",
    "include(\"$source_path/03_experiment.jl\")\n",
    "include(\"$source_path/04_datasets.jl\");"
   ]
  },
  {
   "cell_type": "code",
   "execution_count": 3,
   "metadata": {},
   "outputs": [],
   "source": [
    "\"Helper function to save simulated datasets as npy files.\"\n",
    "function save_to_npy(dataset::Array{Float64, 4}, name::String)\n",
    "    target_folder = \"c:\\\\Users\\\\lasse\\\\documents\\\\hierarchical_model_comparison_project\\\\data\\\\03_levy_flight_application\"\n",
    "    filename = \"$name.npy\"\n",
    "    target_path = joinpath(target_folder, filename)\n",
    "\n",
    "    npzwrite(target_path, dataset)\n",
    "end;"
   ]
  },
  {
   "cell_type": "markdown",
   "metadata": {},
   "source": [
    "# Generate training data sets"
   ]
  },
  {
   "cell_type": "code",
   "execution_count": 4,
   "metadata": {},
   "outputs": [],
   "source": [
    "# Settings\n",
    "\n",
    "goal = \"finetuning\"\n",
    "n_clusters = 40;"
   ]
  },
  {
   "cell_type": "code",
   "execution_count": 5,
   "metadata": {},
   "outputs": [],
   "source": [
    "if goal == \"pretraining\"\n",
    "\n",
    "    n_datasets_per_model = 10000 \n",
    "    n_trials = 100\n",
    "\n",
    "    indices_names = \"train_indices_100_trials\"\n",
    "    datasets_names = \"train_datasets_100_trials\"\n",
    "\n",
    "end\n",
    "\n",
    "\n",
    "if goal == \"finetuning\"\n",
    "\n",
    "    n_datasets_per_model = 2000 \n",
    "    n_trials = 900\n",
    "\n",
    "    indices_names = \"train_indices_900_trials\"\n",
    "    datasets_names = \"train_datasets_900_trials\"\n",
    "\n",
    "end\n",
    "\n",
    "\n",
    "if goal == \"validation\"\n",
    "\n",
    "    n_datasets_per_model = 2000\n",
    "    n_trials = 900\n",
    "\n",
    "    indices_names = \"val_indices_900_trials\"\n",
    "    datasets_names = \"val_datasets_900_trials\"\n",
    "\n",
    "end;"
   ]
  },
  {
   "cell_type": "code",
   "execution_count": 6,
   "metadata": {},
   "outputs": [],
   "source": [
    "# Basic diffusion model\n",
    "indices_m1, datasets_m1 = generate_levy_batch(1, n_datasets_per_model, n_clusters, n_trials);"
   ]
  },
  {
   "cell_type": "code",
   "execution_count": 7,
   "metadata": {},
   "outputs": [],
   "source": [
    "# Basic Lévy flight model\n",
    "indices_m2, datasets_m2 = generate_levy_batch(2, n_datasets_per_model, n_clusters, n_trials);"
   ]
  },
  {
   "cell_type": "code",
   "execution_count": 8,
   "metadata": {},
   "outputs": [],
   "source": [
    "# Full diffusion model\n",
    "indices_m3, datasets_m3 = generate_levy_batch(3, n_datasets_per_model, n_clusters, n_trials);"
   ]
  },
  {
   "cell_type": "code",
   "execution_count": 9,
   "metadata": {},
   "outputs": [],
   "source": [
    "# Full Lévy flight model\n",
    "indices_m4, datasets_m4 = generate_levy_batch(4, n_datasets_per_model, n_clusters, n_trials);"
   ]
  },
  {
   "cell_type": "code",
   "execution_count": 10,
   "metadata": {},
   "outputs": [],
   "source": [
    "# Concatenate data sets\n",
    "indices = vcat(indices_m1, indices_m2, indices_m3, indices_m4)\n",
    "datasets = vcat(datasets_m1, datasets_m2, datasets_m3, datasets_m4);"
   ]
  },
  {
   "cell_type": "code",
   "execution_count": 11,
   "metadata": {},
   "outputs": [],
   "source": [
    "# Reshape indices to fulfill requirements of save_to_npy()\n",
    "indices = Float64.(cat(indices, dims=4));"
   ]
  },
  {
   "attachments": {},
   "cell_type": "markdown",
   "metadata": {},
   "source": [
    "Simulation times\n",
    "\n",
    "pre-training: 60 minutes\n",
    "\n",
    "fine-tuning: 110 minutes"
   ]
  },
  {
   "cell_type": "markdown",
   "metadata": {},
   "source": [
    "## Save training datasets"
   ]
  },
  {
   "cell_type": "code",
   "execution_count": 12,
   "metadata": {},
   "outputs": [],
   "source": [
    "save_to_npy(indices, indices_names)\n",
    "save_to_npy(datasets, datasets_names)"
   ]
  }
 ],
 "metadata": {
  "kernelspec": {
   "display_name": "Julia 1.7.2",
   "language": "julia",
   "name": "julia-1.7"
  },
  "language_info": {
   "file_extension": ".jl",
   "mimetype": "application/julia",
   "name": "julia",
   "version": "1.7.2"
  },
  "orig_nbformat": 4
 },
 "nbformat": 4,
 "nbformat_minor": 2
}
