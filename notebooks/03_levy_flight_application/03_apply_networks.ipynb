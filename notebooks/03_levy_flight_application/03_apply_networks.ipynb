{
 "cells": [
  {
   "cell_type": "code",
   "execution_count": 1,
   "metadata": {},
   "outputs": [],
   "source": [
    "import os, sys\n",
    "sys.path.append(os.path.abspath(os.path.join('../..'))) # access sibling directories\n",
    "sys.path.append(\"C:\\\\Users\\\\lasse\\\\Documents\\\\GitHub\\\\BayesFlow\")\n",
    "\n",
    "from src.python.settings import summary_meta_diffusion, evidence_meta_diffusion\n",
    "from src.python.helpers import load_empirical_rt_data\n",
    "from src.python.networks import HierarchicalInvariantNetwork, EvidentialNetwork\n",
    "\n",
    "import numpy as np\n",
    "import pandas as pd\n",
    "import tensorflow as tf\n",
    "from tensorflow.keras.optimizers import Adam\n",
    "from functools import partial\n",
    "import matplotlib.pyplot as plt\n",
    "import seaborn as sns\n",
    "plt.rcParams['figure.facecolor'] = 'w'\n",
    "\n",
    "from bayesflow.trainers import ModelComparisonTrainer\n",
    "from bayesflow.amortizers import MultiModelAmortizer \n",
    "from bayesflow.losses import log_loss"
   ]
  },
  {
   "cell_type": "markdown",
   "metadata": {},
   "source": [
    "# Application to empirical data"
   ]
  },
  {
   "cell_type": "markdown",
   "metadata": {},
   "source": [
    "## Load in data"
   ]
  },
  {
   "cell_type": "code",
   "execution_count": 2,
   "metadata": {},
   "outputs": [],
   "source": [
    "import tensorflow as tf\n",
    "import numpy as np\n",
    "import pandas as pd\n",
    "\n",
    "\n",
    "def load_from_folder(load_dir):\n",
    "    \"\"\"\n",
    "    Reads single subject datasets from a folder and transforms into list of 4D-arrays \n",
    "    which allows for a variable number of observations between participants.\n",
    "    Assumes data files have a three-column csv format (Condition, Response, Response Time).\n",
    "    ----------\n",
    "    \n",
    "    Arguments:\n",
    "    load_dir : str -- a string indicating the directory from which to load the data\n",
    "    --------\n",
    "        \n",
    "    Returns:\n",
    "    X: list of length (n_clusters), containing tf.Tensors of shape (1, 1, n_obs, 3) \n",
    "        -- variable order now (Condition, Response Time, Response)\n",
    "    \"\"\"\n",
    "    \n",
    "    data_files = os.listdir(load_dir)\n",
    "    X = []\n",
    "    \n",
    "    # Loop through data files and estimate\n",
    "    for data_file in data_files:\n",
    "        \n",
    "        ### Read in and transform data\n",
    "        data = pd.read_csv(os.path.join(load_dir, data_file), header=None, sep=' ')\n",
    "        data = data[[0,2,1]].values # reorder columns\n",
    "        X_file = tf.convert_to_tensor(data, dtype=tf.float32)[np.newaxis][np.newaxis] # get 4D tensor\n",
    "        X.append(X_file)\n",
    "      \n",
    "    return X"
   ]
  },
  {
   "cell_type": "code",
   "execution_count": 3,
   "metadata": {},
   "outputs": [],
   "source": [
    "# Load data from folders\n",
    "\n",
    "parent_folder = os.path.dirname(os.path.dirname(os.getcwd()))\n",
    "color_folder = os.path.join(parent_folder, 'data\\\\Levy_flight_application\\\\data_rts\\\\color')\n",
    "lexical_folder = os.path.join(parent_folder, 'data\\\\Levy_flight_application\\\\data_rts\\\\lexical')\n",
    "\n",
    "color_data = load_from_folder(color_folder)\n",
    "lexical_data = load_from_folder(lexical_folder)"
   ]
  },
  {
   "cell_type": "code",
   "execution_count": 105,
   "metadata": {},
   "outputs": [
    {
     "data": {
      "text/plain": [
       "28.525"
      ]
     },
     "execution_count": 105,
     "metadata": {},
     "output_type": "execute_result"
    }
   ],
   "source": [
    "# Join experimental data and fill missing values\n",
    "\n",
    "n_clusters = len(color_data)\n",
    "empirical_data = []\n",
    "\n",
    "for j in range(n_clusters):\n",
    "    joint_data = tf.concat([color_data[j], lexical_data[j]], axis=2).numpy()\n",
    "    npad = ((0,0), (0,0), (0,900-joint_data.shape[2]), (0,0))\n",
    "    joint_data = np.pad(joint_data, npad,  'constant', constant_values=-1)\n",
    "    empirical_data.append(joint_data)\n",
    "\n",
    "# Transform to np.array\n",
    "empirical_data = np.reshape(np.asarray(empirical_data), (1,40,900,3))\n",
    "\n",
    "# Assert that the number of coded missings equals the real number of missings\n",
    "(empirical_data == -1).sum()/(40*3)"
   ]
  },
  {
   "cell_type": "code",
   "execution_count": 203,
   "metadata": {},
   "outputs": [
    {
     "name": "stdout",
     "output_type": "stream",
     "text": [
      "[0.188 0.188 0.189 0.196 0.197 0.197 0.197 0.198 0.198]\n",
      "[4.001 4.009 4.041 4.097 4.114 4.12  4.206 4.287 4.289 4.304 4.346 4.401\n",
      " 4.423 4.561 4.631 4.647 4.727]\n"
     ]
    },
    {
     "data": {
      "text/plain": [
       "array([[<AxesSubplot:title={'center':'0'}>]], dtype=object)"
      ]
     },
     "execution_count": 203,
     "metadata": {},
     "output_type": "execute_result"
    },
    {
     "data": {
      "image/png": "[encoded data removed]",
      "text/plain": [
       "<Figure size 432x288 with 1 Axes>"
      ]
     },
     "metadata": {},
     "output_type": "display_data"
    }
   ],
   "source": [
    "# Check RTs\n",
    "rts = empirical_data[:,:,:,1]\n",
    "rts = rts[rts > 0]\n",
    "rts.sort()\n",
    "print(rts[rts < .2])\n",
    "print(rts[rts > 4])\n",
    "pd.DataFrame(rts).hist(bins=500)"
   ]
  },
  {
   "cell_type": "markdown",
   "metadata": {},
   "source": [
    "## Load in trained network"
   ]
  },
  {
   "cell_type": "code",
   "execution_count": null,
   "metadata": {},
   "outputs": [],
   "source": [
    "summary_net = HierarchicalInvariantNetwork(summary_meta_diffusion)\n",
    "evidence_net = EvidentialNetwork(evidence_meta_diffusion)\n",
    "amortizer = MultiModelAmortizer(evidence_net, summary_net)\n",
    "\n",
    "# Checkpoint path for loading pretrained network and saving the final network\n",
    "trial_folder = 'trial_2'\n",
    "checkpoint_path = os.path.join(os.getcwd(), 'training_checkpoints', trial_folder)\n",
    "\n",
    "trainer = ModelComparisonTrainer(\n",
    "    network=amortizer, \n",
    "    loss=partial(log_loss, kl_weight=0),\n",
    "    optimizer=partial(Adam),\n",
    "    checkpoint_path=checkpoint_path,\n",
    "    skip_checks=True\n",
    "    )"
   ]
  },
  {
   "cell_type": "markdown",
   "metadata": {},
   "source": [
    "## Predict"
   ]
  },
  {
   "cell_type": "code",
   "execution_count": 99,
   "metadata": {},
   "outputs": [
    {
     "data": {
      "text/plain": [
       "{'m_probs': array([[0.00163904, 0.28250086, 0.00163904, 0.714221  ]], dtype=float32),\n",
       " 'm_var': array([[0.00000268, 0.00033168, 0.00000268, 0.000334  ]], dtype=float32),\n",
       " 'uncertainty': array([[0.00655617]], dtype=float32)}"
      ]
     },
     "execution_count": 99,
     "metadata": {},
     "output_type": "execute_result"
    }
   ],
   "source": [
    "labels = ['Basic Diffusion Model',\n",
    "          'Basic Lévy Flight Model',\n",
    "           'Full Diffusion Model',\n",
    "           'Full Lévy Flight Model',]\n",
    "           \n",
    "preds = evidence_net.predict(summary_net(empirical_data))\n",
    "preds"
   ]
  },
  {
   "cell_type": "code",
   "execution_count": 67,
   "metadata": {},
   "outputs": [
    {
     "data": {
      "text/html": [
       "<div>\n",
       "<style scoped>\n",
       "    .dataframe tbody tr th:only-of-type {\n",
       "        vertical-align: middle;\n",
       "    }\n",
       "\n",
       "    .dataframe tbody tr th {\n",
       "        vertical-align: top;\n",
       "    }\n",
       "\n",
       "    .dataframe thead th {\n",
       "        text-align: right;\n",
       "    }\n",
       "</style>\n",
       "<table border=\"1\" class=\"dataframe\">\n",
       "  <thead>\n",
       "    <tr style=\"text-align: right;\">\n",
       "      <th></th>\n",
       "      <th>Basic Diffusion Model</th>\n",
       "      <th>Basic Lévy Flight Model</th>\n",
       "      <th>Full Diffusion Model</th>\n",
       "      <th>Full Lévy Flight Model</th>\n",
       "    </tr>\n",
       "  </thead>\n",
       "  <tbody>\n",
       "    <tr>\n",
       "      <th>Posterior model probability</th>\n",
       "      <td>0.001253</td>\n",
       "      <td>0.001253</td>\n",
       "      <td>0.001253</td>\n",
       "      <td>0.99624</td>\n",
       "    </tr>\n",
       "  </tbody>\n",
       "</table>\n",
       "</div>"
      ],
      "text/plain": [
       "                             Basic Diffusion Model  Basic Lévy Flight Model  \\\n",
       "Posterior model probability               0.001253                 0.001253   \n",
       "\n",
       "                             Full Diffusion Model  Full Lévy Flight Model  \n",
       "Posterior model probability              0.001253                 0.99624  "
      ]
     },
     "execution_count": 67,
     "metadata": {},
     "output_type": "execute_result"
    }
   ],
   "source": [
    "pd.DataFrame(preds['m_probs'], index=['Posterior model probability'], columns=labels)"
   ]
  },
  {
   "cell_type": "code",
   "execution_count": 69,
   "metadata": {},
   "outputs": [
    {
     "data": {
      "text/html": [
       "<div>\n",
       "<style scoped>\n",
       "    .dataframe tbody tr th:only-of-type {\n",
       "        vertical-align: middle;\n",
       "    }\n",
       "\n",
       "    .dataframe tbody tr th {\n",
       "        vertical-align: top;\n",
       "    }\n",
       "\n",
       "    .dataframe thead th {\n",
       "        text-align: right;\n",
       "    }\n",
       "</style>\n",
       "<table border=\"1\" class=\"dataframe\">\n",
       "  <thead>\n",
       "    <tr style=\"text-align: right;\">\n",
       "      <th></th>\n",
       "      <th>Basic Diffusion Model</th>\n",
       "      <th>Basic Lévy Flight Model</th>\n",
       "      <th>Full Diffusion Model</th>\n",
       "      <th>Full Lévy Flight Model</th>\n",
       "    </tr>\n",
       "  </thead>\n",
       "  <tbody>\n",
       "    <tr>\n",
       "      <th>Bayes factor</th>\n",
       "      <td>0.001258</td>\n",
       "      <td>0.001258</td>\n",
       "      <td>0.001258</td>\n",
       "      <td>1.0</td>\n",
       "    </tr>\n",
       "  </tbody>\n",
       "</table>\n",
       "</div>"
      ],
      "text/plain": [
       "              Basic Diffusion Model  Basic Lévy Flight Model  \\\n",
       "Bayes factor               0.001258                 0.001258   \n",
       "\n",
       "              Full Diffusion Model  Full Lévy Flight Model  \n",
       "Bayes factor              0.001258                     1.0  "
      ]
     },
     "execution_count": 69,
     "metadata": {},
     "output_type": "execute_result"
    }
   ],
   "source": [
    "bfs = [prob/preds['m_probs'][0][3] for prob in preds['m_probs']]\n",
    "pd.DataFrame(bfs, index=['Bayes factor'], columns=labels)"
   ]
  },
  {
   "cell_type": "code",
   "execution_count": 89,
   "metadata": {},
   "outputs": [],
   "source": [
    "evidences = evidence_net(summary_net(empirical_data))\n",
    "dirichlet = evidence_net.sample(summary_net(empirical_data),10000)\n",
    "dirichlet = np.squeeze(dirichlet)"
   ]
  },
  {
   "cell_type": "code",
   "execution_count": 91,
   "metadata": {},
   "outputs": [
    {
     "data": {
      "image/png": "[encoded data removed]",
      "text/plain": [
       "<Figure size 360x360 with 1 Axes>"
      ]
     },
     "metadata": {},
     "output_type": "display_data"
    }
   ],
   "source": [
    "fig, ax = plt.subplots(figsize=(5,5))\n",
    "\n",
    "\n",
    "ax.violinplot(dirichlet, showmedians=True)\n",
    "ax.set_xticks([1, 2, 3, 4])\n",
    "ax.set_xticklabels(labels, rotation=45)\n",
    "ax.set_ylabel('Approximated posterior model probability')\n",
    "#fig.savefig('Diffusion_violin_plot.png', dpi=300, bbox_inches='tight')"
   ]
  }
 ],
 "metadata": {
  "kernelspec": {
   "display_name": "Python 3",
   "language": "python",
   "name": "python3"
  },
  "language_info": {
   "codemirror_mode": {
    "name": "ipython",
    "version": 3
   },
   "file_extension": ".py",
   "mimetype": "text/x-python",
   "name": "python",
   "nbconvert_exporter": "python",
   "pygments_lexer": "ipython3",
   "version": "3.8.8"
  },
  "toc": {
   "base_numbering": 1,
   "nav_menu": {},
   "number_sections": true,
   "sideBar": true,
   "skip_h1_title": false,
   "title_cell": "Table of Contents",
   "title_sidebar": "Contents",
   "toc_cell": false,
   "toc_position": {
    "height": "calc(100% - 180px)",
    "left": "10px",
    "top": "150px",
    "width": "165px"
   },
   "toc_section_display": true,
   "toc_window_display": true
  },
  "varInspector": {
   "cols": {
    "lenName": 16,
    "lenType": 16,
    "lenVar": 40
   },
   "kernels_config": {
    "python": {
     "delete_cmd_postfix": "",
     "delete_cmd_prefix": "del ",
     "library": "var_list.py",
     "varRefreshCmd": "print(var_dic_list())"
    },
    "r": {
     "delete_cmd_postfix": ") ",
     "delete_cmd_prefix": "rm(",
     "library": "var_list.r",
     "varRefreshCmd": "cat(var_dic_list()) "
    }
   },
   "types_to_exclude": [
    "module",
    "function",
    "builtin_function_or_method",
    "instance",
    "_Feature"
   ],
   "window_display": false
  }
 },
 "nbformat": 4,
 "nbformat_minor": 2
}
