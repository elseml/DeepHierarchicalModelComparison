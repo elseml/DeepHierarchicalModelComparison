{
 "cells": [
  {
   "cell_type": "markdown",
   "id": "distinct-dance",
   "metadata": {},
   "source": [
    "# Setup"
   ]
  },
  {
   "cell_type": "code",
   "execution_count": 1,
   "id": "sophisticated-english",
   "metadata": {},
   "outputs": [],
   "source": [
    "import os\n",
    "import numpy as np\n",
    "np.set_printoptions(suppress=True)\n",
    "import pandas as pd\n",
    "import matplotlib.pyplot as plt\n",
    "import seaborn as sns\n",
    "from sklearn.metrics import confusion_matrix, accuracy_score, mean_absolute_error\n",
    "import sys"
   ]
  },
  {
   "cell_type": "markdown",
   "id": "north-newport",
   "metadata": {},
   "source": [
    "# Load data"
   ]
  },
  {
   "cell_type": "code",
   "execution_count": 2,
   "id": "underlying-speech",
   "metadata": {},
   "outputs": [],
   "source": [
    "comparison_folder = os.path.join(os.getcwd(),'data', 'BF_approximation_comparison')\n",
    "bridge_file = '2021_06_29___15_12_BF_approx_comp'\n",
    "NN_fixed_file = '2021_07_01___12_35_BF_NN_comp'\n",
    "NN_variable_file = '2021_07_01___15_24_BF_NN_variable_comp'\n",
    "\n",
    "bridge = pd.read_csv(os.path.join(comparison_folder, bridge_file), sep = \" \").reset_index(drop=True)\n",
    "NN_fixed = pd.read_csv(os.path.join(comparison_folder, NN_fixed_file))\n",
    "NN_variable = pd.read_csv(os.path.join(comparison_folder, NN_variable_file))"
   ]
  },
  {
   "cell_type": "code",
   "execution_count": 3,
   "id": "large-helping",
   "metadata": {},
   "outputs": [
    {
     "data": {
      "text/html": [
       "<div>\n",
       "<style scoped>\n",
       "    .dataframe tbody tr th:only-of-type {\n",
       "        vertical-align: middle;\n",
       "    }\n",
       "\n",
       "    .dataframe tbody tr th {\n",
       "        vertical-align: top;\n",
       "    }\n",
       "\n",
       "    .dataframe thead th {\n",
       "        text-align: right;\n",
       "    }\n",
       "</style>\n",
       "<table border=\"1\" class=\"dataframe\">\n",
       "  <thead>\n",
       "    <tr style=\"text-align: right;\">\n",
       "      <th></th>\n",
       "      <th>dataset</th>\n",
       "      <th>true_model</th>\n",
       "      <th>m0_prob</th>\n",
       "      <th>m1_prob</th>\n",
       "      <th>selected_model</th>\n",
       "      <th>bayes_factor</th>\n",
       "      <th>m0_bridge_error</th>\n",
       "      <th>m1_bridge_error</th>\n",
       "      <th>compile_time</th>\n",
       "      <th>stan_time</th>\n",
       "      <th>bridge_time</th>\n",
       "    </tr>\n",
       "  </thead>\n",
       "  <tbody>\n",
       "    <tr>\n",
       "      <th>0</th>\n",
       "      <td>1</td>\n",
       "      <td>0</td>\n",
       "      <td>8.388963e-01</td>\n",
       "      <td>0.161104</td>\n",
       "      <td>0</td>\n",
       "      <td>1.920424e-01</td>\n",
       "      <td>0%</td>\n",
       "      <td>0%</td>\n",
       "      <td>39.907145</td>\n",
       "      <td>52.258780</td>\n",
       "      <td>35.962266</td>\n",
       "    </tr>\n",
       "    <tr>\n",
       "      <th>1</th>\n",
       "      <td>2</td>\n",
       "      <td>1</td>\n",
       "      <td>2.226466e-27</td>\n",
       "      <td>1.000000</td>\n",
       "      <td>1</td>\n",
       "      <td>4.491424e+26</td>\n",
       "      <td>0%</td>\n",
       "      <td>0%</td>\n",
       "      <td>39.907145</td>\n",
       "      <td>48.838711</td>\n",
       "      <td>35.385838</td>\n",
       "    </tr>\n",
       "    <tr>\n",
       "      <th>2</th>\n",
       "      <td>3</td>\n",
       "      <td>1</td>\n",
       "      <td>5.490843e-01</td>\n",
       "      <td>0.450916</td>\n",
       "      <td>0</td>\n",
       "      <td>8.212140e-01</td>\n",
       "      <td>1%</td>\n",
       "      <td>1%</td>\n",
       "      <td>39.907145</td>\n",
       "      <td>125.710194</td>\n",
       "      <td>37.204897</td>\n",
       "    </tr>\n",
       "    <tr>\n",
       "      <th>3</th>\n",
       "      <td>4</td>\n",
       "      <td>0</td>\n",
       "      <td>7.737407e-01</td>\n",
       "      <td>0.226259</td>\n",
       "      <td>0</td>\n",
       "      <td>2.924226e-01</td>\n",
       "      <td>0%</td>\n",
       "      <td>0%</td>\n",
       "      <td>39.907145</td>\n",
       "      <td>48.535535</td>\n",
       "      <td>35.359315</td>\n",
       "    </tr>\n",
       "    <tr>\n",
       "      <th>4</th>\n",
       "      <td>5</td>\n",
       "      <td>0</td>\n",
       "      <td>5.384046e-01</td>\n",
       "      <td>0.461595</td>\n",
       "      <td>0</td>\n",
       "      <td>8.573394e-01</td>\n",
       "      <td>0%</td>\n",
       "      <td>0%</td>\n",
       "      <td>39.907145</td>\n",
       "      <td>49.718692</td>\n",
       "      <td>35.450406</td>\n",
       "    </tr>\n",
       "  </tbody>\n",
       "</table>\n",
       "</div>"
      ],
      "text/plain": [
       "   dataset  true_model       m0_prob   m1_prob  selected_model  bayes_factor  \\\n",
       "0        1           0  8.388963e-01  0.161104               0  1.920424e-01   \n",
       "1        2           1  2.226466e-27  1.000000               1  4.491424e+26   \n",
       "2        3           1  5.490843e-01  0.450916               0  8.212140e-01   \n",
       "3        4           0  7.737407e-01  0.226259               0  2.924226e-01   \n",
       "4        5           0  5.384046e-01  0.461595               0  8.573394e-01   \n",
       "\n",
       "  m0_bridge_error m1_bridge_error  compile_time   stan_time  bridge_time  \n",
       "0              0%              0%     39.907145   52.258780    35.962266  \n",
       "1              0%              0%     39.907145   48.838711    35.385838  \n",
       "2              1%              1%     39.907145  125.710194    37.204897  \n",
       "3              0%              0%     39.907145   48.535535    35.359315  \n",
       "4              0%              0%     39.907145   49.718692    35.450406  "
      ]
     },
     "execution_count": 3,
     "metadata": {},
     "output_type": "execute_result"
    }
   ],
   "source": [
    "bridge.head()"
   ]
  },
  {
   "cell_type": "code",
   "execution_count": 4,
   "id": "neural-giving",
   "metadata": {},
   "outputs": [
    {
     "data": {
      "text/html": [
       "<div>\n",
       "<style scoped>\n",
       "    .dataframe tbody tr th:only-of-type {\n",
       "        vertical-align: middle;\n",
       "    }\n",
       "\n",
       "    .dataframe tbody tr th {\n",
       "        vertical-align: top;\n",
       "    }\n",
       "\n",
       "    .dataframe thead th {\n",
       "        text-align: right;\n",
       "    }\n",
       "</style>\n",
       "<table border=\"1\" class=\"dataframe\">\n",
       "  <thead>\n",
       "    <tr style=\"text-align: right;\">\n",
       "      <th></th>\n",
       "      <th>dataset</th>\n",
       "      <th>true_model</th>\n",
       "      <th>m0_prob</th>\n",
       "      <th>m1_prob</th>\n",
       "      <th>selected_model</th>\n",
       "      <th>bayes_factor</th>\n",
       "      <th>training_time</th>\n",
       "      <th>inference_time</th>\n",
       "    </tr>\n",
       "  </thead>\n",
       "  <tbody>\n",
       "    <tr>\n",
       "      <th>0</th>\n",
       "      <td>1</td>\n",
       "      <td>0</td>\n",
       "      <td>0.843062</td>\n",
       "      <td>0.156938</td>\n",
       "      <td>0</td>\n",
       "      <td>0.186153</td>\n",
       "      <td>233.972196</td>\n",
       "      <td>0.005538</td>\n",
       "    </tr>\n",
       "    <tr>\n",
       "      <th>1</th>\n",
       "      <td>2</td>\n",
       "      <td>1</td>\n",
       "      <td>0.000000</td>\n",
       "      <td>1.000000</td>\n",
       "      <td>1</td>\n",
       "      <td>inf</td>\n",
       "      <td>233.972196</td>\n",
       "      <td>0.005538</td>\n",
       "    </tr>\n",
       "    <tr>\n",
       "      <th>2</th>\n",
       "      <td>3</td>\n",
       "      <td>1</td>\n",
       "      <td>0.559820</td>\n",
       "      <td>0.440180</td>\n",
       "      <td>0</td>\n",
       "      <td>0.786288</td>\n",
       "      <td>233.972196</td>\n",
       "      <td>0.005538</td>\n",
       "    </tr>\n",
       "    <tr>\n",
       "      <th>3</th>\n",
       "      <td>4</td>\n",
       "      <td>0</td>\n",
       "      <td>0.748114</td>\n",
       "      <td>0.251886</td>\n",
       "      <td>0</td>\n",
       "      <td>0.336695</td>\n",
       "      <td>233.972196</td>\n",
       "      <td>0.005538</td>\n",
       "    </tr>\n",
       "    <tr>\n",
       "      <th>4</th>\n",
       "      <td>5</td>\n",
       "      <td>0</td>\n",
       "      <td>0.697229</td>\n",
       "      <td>0.302771</td>\n",
       "      <td>0</td>\n",
       "      <td>0.434250</td>\n",
       "      <td>233.972196</td>\n",
       "      <td>0.005538</td>\n",
       "    </tr>\n",
       "  </tbody>\n",
       "</table>\n",
       "</div>"
      ],
      "text/plain": [
       "   dataset  true_model   m0_prob   m1_prob  selected_model  bayes_factor  \\\n",
       "0        1           0  0.843062  0.156938               0      0.186153   \n",
       "1        2           1  0.000000  1.000000               1           inf   \n",
       "2        3           1  0.559820  0.440180               0      0.786288   \n",
       "3        4           0  0.748114  0.251886               0      0.336695   \n",
       "4        5           0  0.697229  0.302771               0      0.434250   \n",
       "\n",
       "   training_time  inference_time  \n",
       "0     233.972196        0.005538  \n",
       "1     233.972196        0.005538  \n",
       "2     233.972196        0.005538  \n",
       "3     233.972196        0.005538  \n",
       "4     233.972196        0.005538  "
      ]
     },
     "execution_count": 4,
     "metadata": {},
     "output_type": "execute_result"
    }
   ],
   "source": [
    "NN_fixed.head()"
   ]
  },
  {
   "cell_type": "code",
   "execution_count": 5,
   "id": "incomplete-penny",
   "metadata": {},
   "outputs": [
    {
     "data": {
      "text/html": [
       "<div>\n",
       "<style scoped>\n",
       "    .dataframe tbody tr th:only-of-type {\n",
       "        vertical-align: middle;\n",
       "    }\n",
       "\n",
       "    .dataframe tbody tr th {\n",
       "        vertical-align: top;\n",
       "    }\n",
       "\n",
       "    .dataframe thead th {\n",
       "        text-align: right;\n",
       "    }\n",
       "</style>\n",
       "<table border=\"1\" class=\"dataframe\">\n",
       "  <thead>\n",
       "    <tr style=\"text-align: right;\">\n",
       "      <th></th>\n",
       "      <th>dataset</th>\n",
       "      <th>true_model</th>\n",
       "      <th>m0_prob</th>\n",
       "      <th>m1_prob</th>\n",
       "      <th>selected_model</th>\n",
       "      <th>bayes_factor</th>\n",
       "      <th>training_time</th>\n",
       "      <th>inference_time</th>\n",
       "    </tr>\n",
       "  </thead>\n",
       "  <tbody>\n",
       "    <tr>\n",
       "      <th>0</th>\n",
       "      <td>1</td>\n",
       "      <td>0</td>\n",
       "      <td>0.824269</td>\n",
       "      <td>0.175731</td>\n",
       "      <td>0</td>\n",
       "      <td>0.213197</td>\n",
       "      <td>238.349188</td>\n",
       "      <td>0.014821</td>\n",
       "    </tr>\n",
       "    <tr>\n",
       "      <th>1</th>\n",
       "      <td>2</td>\n",
       "      <td>1</td>\n",
       "      <td>0.001745</td>\n",
       "      <td>0.998255</td>\n",
       "      <td>1</td>\n",
       "      <td>572.129368</td>\n",
       "      <td>238.349188</td>\n",
       "      <td>0.014821</td>\n",
       "    </tr>\n",
       "    <tr>\n",
       "      <th>2</th>\n",
       "      <td>3</td>\n",
       "      <td>1</td>\n",
       "      <td>0.353277</td>\n",
       "      <td>0.646723</td>\n",
       "      <td>1</td>\n",
       "      <td>1.830639</td>\n",
       "      <td>238.349188</td>\n",
       "      <td>0.014821</td>\n",
       "    </tr>\n",
       "    <tr>\n",
       "      <th>3</th>\n",
       "      <td>4</td>\n",
       "      <td>0</td>\n",
       "      <td>0.630828</td>\n",
       "      <td>0.369172</td>\n",
       "      <td>0</td>\n",
       "      <td>0.585218</td>\n",
       "      <td>238.349188</td>\n",
       "      <td>0.014821</td>\n",
       "    </tr>\n",
       "    <tr>\n",
       "      <th>4</th>\n",
       "      <td>5</td>\n",
       "      <td>0</td>\n",
       "      <td>0.556635</td>\n",
       "      <td>0.443365</td>\n",
       "      <td>0</td>\n",
       "      <td>0.796510</td>\n",
       "      <td>238.349188</td>\n",
       "      <td>0.014821</td>\n",
       "    </tr>\n",
       "  </tbody>\n",
       "</table>\n",
       "</div>"
      ],
      "text/plain": [
       "   dataset  true_model   m0_prob   m1_prob  selected_model  bayes_factor  \\\n",
       "0        1           0  0.824269  0.175731               0      0.213197   \n",
       "1        2           1  0.001745  0.998255               1    572.129368   \n",
       "2        3           1  0.353277  0.646723               1      1.830639   \n",
       "3        4           0  0.630828  0.369172               0      0.585218   \n",
       "4        5           0  0.556635  0.443365               0      0.796510   \n",
       "\n",
       "   training_time  inference_time  \n",
       "0     238.349188        0.014821  \n",
       "1     238.349188        0.014821  \n",
       "2     238.349188        0.014821  \n",
       "3     238.349188        0.014821  \n",
       "4     238.349188        0.014821  "
      ]
     },
     "execution_count": 5,
     "metadata": {},
     "output_type": "execute_result"
    }
   ],
   "source": [
    "NN_variable.head()"
   ]
  },
  {
   "cell_type": "markdown",
   "id": "automated-guitar",
   "metadata": {},
   "source": [
    "# Calculate performance metrics"
   ]
  },
  {
   "cell_type": "code",
   "execution_count": 48,
   "id": "finished-amino",
   "metadata": {},
   "outputs": [],
   "source": [
    "def performance_metrics(bridge_sampling_results, NN_fixed_results, NN_variable_results):\n",
    "    \n",
    "    mae = []\n",
    "    rmse = []\n",
    "    accuracy = []\n",
    "    \n",
    "    for d in (bridge_sampling_results, NN_fixed_results, NN_variable_results):\n",
    "        mae_temp = np.mean(abs(d['true_model']-d['m1_prob']))\n",
    "        mae.append(mae_temp)\n",
    "        rmse_temp = np.sqrt(((d['true_model']-d['m1_prob'])**2).mean())\n",
    "        rmse.append(rmse_temp)                    \n",
    "        accuracy_temp = (d['true_model'] == d['selected_model']).mean()\n",
    "        accuracy.append(accuracy_temp)\n",
    "    \n",
    "    df = pd.DataFrame([mae, rmse, accuracy], index = ['MAE', 'RMSE', 'Accuracy'], \n",
    "                      columns = ['Bridge Sampling', 'Hierarchical Network fixed', \n",
    "                                 'Hierarchical Network variable']).transpose()\n",
    "    \n",
    "    return df"
   ]
  },
  {
   "cell_type": "code",
   "execution_count": 49,
   "id": "turkish-precipitation",
   "metadata": {},
   "outputs": [
    {
     "data": {
      "text/html": [
       "<div>\n",
       "<style scoped>\n",
       "    .dataframe tbody tr th:only-of-type {\n",
       "        vertical-align: middle;\n",
       "    }\n",
       "\n",
       "    .dataframe tbody tr th {\n",
       "        vertical-align: top;\n",
       "    }\n",
       "\n",
       "    .dataframe thead th {\n",
       "        text-align: right;\n",
       "    }\n",
       "</style>\n",
       "<table border=\"1\" class=\"dataframe\">\n",
       "  <thead>\n",
       "    <tr style=\"text-align: right;\">\n",
       "      <th></th>\n",
       "      <th>MAE</th>\n",
       "      <th>RMSE</th>\n",
       "      <th>Accuracy</th>\n",
       "    </tr>\n",
       "  </thead>\n",
       "  <tbody>\n",
       "    <tr>\n",
       "      <th>Bridge Sampling</th>\n",
       "      <td>0.228593</td>\n",
       "      <td>0.322116</td>\n",
       "      <td>0.86</td>\n",
       "    </tr>\n",
       "    <tr>\n",
       "      <th>Hierarchical Network fixed</th>\n",
       "      <td>0.234634</td>\n",
       "      <td>0.322376</td>\n",
       "      <td>0.83</td>\n",
       "    </tr>\n",
       "    <tr>\n",
       "      <th>Hierarchical Network variable</th>\n",
       "      <td>0.255145</td>\n",
       "      <td>0.333028</td>\n",
       "      <td>0.83</td>\n",
       "    </tr>\n",
       "  </tbody>\n",
       "</table>\n",
       "</div>"
      ],
      "text/plain": [
       "                                    MAE      RMSE  Accuracy\n",
       "Bridge Sampling                0.228593  0.322116      0.86\n",
       "Hierarchical Network fixed     0.234634  0.322376      0.83\n",
       "Hierarchical Network variable  0.255145  0.333028      0.83"
      ]
     },
     "execution_count": 49,
     "metadata": {},
     "output_type": "execute_result"
    }
   ],
   "source": [
    "perf_metrics = performance_metrics(bridge, NN_fixed, NN_variable)\n",
    "perf_metrics"
   ]
  },
  {
   "cell_type": "code",
   "execution_count": 52,
   "id": "beautiful-repeat",
   "metadata": {},
   "outputs": [
    {
     "data": {
      "text/plain": [
       "<matplotlib.legend.Legend at 0x1a2f9d286d0>"
      ]
     },
     "execution_count": 52,
     "metadata": {},
     "output_type": "execute_result"
    },
    {
     "data": {
      "image/png": "[encoded data removed]",
      "text/plain": [
       "<Figure size 432x288 with 1 Axes>"
      ]
     },
     "metadata": {
      "needs_background": "light"
     },
     "output_type": "display_data"
    }
   ],
   "source": [
    "plt.plot(perf_metrics)\n",
    "plt.legend(perf_metrics)"
   ]
  },
  {
   "cell_type": "code",
   "execution_count": 11,
   "id": "tracked-sierra",
   "metadata": {},
   "outputs": [
    {
     "name": "stdout",
     "output_type": "stream",
     "text": [
      "True proportion = 0.49\n",
      "Bridge Sampling proportion = 0.39\n",
      "NN fixed proportion = 0.36\n",
      "NN variable proportion = 0.46\n"
     ]
    }
   ],
   "source": [
    "# Inspired by simulation-based calibration: \n",
    "# Does the proportion of selected models match the 50/50 prior \n",
    "# / the 49/51 proportion in the simulated datasets?\n",
    "\n",
    "print('True proportion = {}'.format(bridge['true_model'].mean()))\n",
    "print('Bridge Sampling proportion = {}'.format(bridge['selected_model'].mean()))\n",
    "print('NN fixed proportion = {}'.format(NN_fixed['selected_model'].mean()))\n",
    "print('NN variable proportion = {}'.format(NN_variable['selected_model'].mean()))\n",
    "\n",
    "# -> All methods exhibit a bias towards model 0, but the worst one (NN_variable) the least!"
   ]
  },
  {
   "cell_type": "markdown",
   "id": "circular-fortune",
   "metadata": {},
   "source": [
    "# Plot log BF approximation"
   ]
  },
  {
   "cell_type": "code",
   "execution_count": 53,
   "id": "fifteen-nitrogen",
   "metadata": {},
   "outputs": [],
   "source": [
    "def log_with_inf_replacement(x):\n",
    "    \"\"\" Replaces Inf values with highest value possible and \n",
    "    then computes the log of the given array. \n",
    "    \"\"\"\n",
    "    \n",
    "    x_copy = x.copy()\n",
    "    if all(np.isfinite(x)) == False:\n",
    "        x_copy[np.isfinite(x) == False] = sys.maxsize\n",
    "    x_copy = np.log(x_copy)\n",
    "    return x_copy"
   ]
  },
  {
   "cell_type": "code",
   "execution_count": 54,
   "id": "danish-simon",
   "metadata": {},
   "outputs": [],
   "source": [
    "log_bridge_bfs = log_with_inf_replacement(bridge['bayes_factor'])\n",
    "log_NN_fixed_bfs = log_with_inf_replacement(NN_fixed['bayes_factor'])\n",
    "log_NN_variable_bfs = log_with_inf_replacement(NN_variable['bayes_factor'])"
   ]
  },
  {
   "cell_type": "code",
   "execution_count": 59,
   "id": "surface-officer",
   "metadata": {},
   "outputs": [
    {
     "data": {
      "text/plain": [
       "Text(0.5, 1.0, 'Bayes Factor approximation: Hierarchical Network trained with fixed dataset sizes')"
      ]
     },
     "execution_count": 59,
     "metadata": {},
     "output_type": "execute_result"
    },
    {
     "data": {
      "image/png": "[encoded data removed]",
      "text/plain": [
       "<Figure size 576x432 with 1 Axes>"
      ]
     },
     "metadata": {
      "needs_background": "light"
     },
     "output_type": "display_data"
    }
   ],
   "source": [
    "# vs fixed NN\n",
    "\n",
    "f, ax = plt.subplots(1, 1, figsize=(8, 6))\n",
    "ax.scatter(log_bridge_bfs, log_NN_fixed_bfs, color = 'tab:orange')\n",
    "ax.plot(ax.get_xlim(), ax.get_xlim(), '--', color='black')\n",
    "ax.spines['right'].set_visible(False)\n",
    "ax.spines['top'].set_visible(False)\n",
    "ax.set_xlabel(r'Bridge Sampling Log $BF_{10}$')\n",
    "ax.set_ylabel('Hierarchical Network fixed Log $BF_{10}$')\n",
    "ax.set_title('Bayes Factor approximation: Hierarchical Network trained with fixed dataset sizes')\n",
    "#f.savefig('figures/BF_toy.png', dpi=300, bbox_inches='tight')"
   ]
  },
  {
   "cell_type": "code",
   "execution_count": 109,
   "id": "streaming-questionnaire",
   "metadata": {},
   "outputs": [
    {
     "data": {
      "text/plain": [
       "Text(0.5, 1.0, 'Bayes Factor approximation: Hierarchical Network trained with variable dataset sizes')"
      ]
     },
     "execution_count": 109,
     "metadata": {},
     "output_type": "execute_result"
    },
    {
     "data": {
      "image/png": "[encoded data removed]",
      "text/plain": [
       "<Figure size 576x432 with 1 Axes>"
      ]
     },
     "metadata": {
      "needs_background": "light"
     },
     "output_type": "display_data"
    }
   ],
   "source": [
    "# vs variable NN\n",
    "\n",
    "f, ax = plt.subplots(1, 1, figsize=(8, 6))\n",
    "ax.scatter(log_bridge_bfs, log_NN_variable_bfs, color = 'tab:green')\n",
    "ax.plot(ax.get_xlim(), ax.get_xlim(), '--', color='black')\n",
    "ax.spines['right'].set_visible(False)\n",
    "ax.spines['top'].set_visible(False)\n",
    "ax.set_xlabel(r'Bridge Sampling Log $BF_{10}$')\n",
    "ax.set_ylabel('Hierarchical Network variable Log $BF_{10}$')\n",
    "ax.set_title('Bayes Factor approximation: Hierarchical Network trained with variable dataset sizes')\n",
    "#f.savefig('figures/BF_toy.png', dpi=300, bbox_inches='tight')"
   ]
  },
  {
   "cell_type": "markdown",
   "id": "innocent-sullivan",
   "metadata": {},
   "source": [
    "# Plot Computation time as function of datasets"
   ]
  },
  {
   "cell_type": "code",
   "execution_count": 192,
   "id": "dated-receiver",
   "metadata": {},
   "outputs": [
    {
     "data": {
      "image/png": "[encoded data removed]",
      "text/plain": [
       "<Figure size 576x432 with 1 Axes>"
      ]
     },
     "metadata": {
      "needs_background": "light"
     },
     "output_type": "display_data"
    }
   ],
   "source": [
    "# Plot for all datasets\n",
    "\n",
    "# Calculate computation times\n",
    "bridge_time_min = (bridge['compile_time'] + (bridge['stan_time'] + bridge['bridge_time']).cumsum())/60\n",
    "NN_fixed_time_min = (NN_fixed['training_time'] + NN_fixed['inference_time'].cumsum())/60\n",
    "NN_variable_time_min = (NN_variable['training_time'] + NN_variable['inference_time'].cumsum())/60\n",
    "\n",
    "# Set index to represent datasets\n",
    "bridge_time_min.index = bridge_time_min.index+1\n",
    "NN_fixed_time_min.index = NN_fixed_time_min.index+1\n",
    "NN_variable_time_min.index = NN_variable_time_min.index+1\n",
    "\n",
    "# Plot\n",
    "f, ax = plt.subplots(1, 1, figsize=(8, 6))\n",
    "ax.plot(bridge_time_min, label='Bridge Sampling computation time', lw=2)\n",
    "ax.plot(NN_fixed_time_min, label='Hierarchical Network fixed computation time', lw=2)\n",
    "ax.plot(NN_variable_time_min, label='Hierarchical Network variable computation time', lw=2)\n",
    "ax.spines['right'].set_visible(False)\n",
    "ax.spines['top'].set_visible(False)\n",
    "ax.set_xlabel('Dataset')\n",
    "ax.set_ylabel('Computation time in minutes')\n",
    "ax.set_xlim(xmin=1)\n",
    "ax.set_ylim(ymin=0)\n",
    "ax.legend(loc='upper left')\n",
    "f.savefig('figures/BF_N_Toy.png', dpi=300, bbox_inches='tight')"
   ]
  },
  {
   "cell_type": "code",
   "execution_count": 205,
   "id": "buried-dependence",
   "metadata": {},
   "outputs": [
    {
     "data": {
      "image/png": "[encoded data removed]",
      "text/plain": [
       "<Figure size 576x432 with 1 Axes>"
      ]
     },
     "metadata": {
      "needs_background": "light"
     },
     "output_type": "display_data"
    }
   ],
   "source": [
    "# Plot for subset\n",
    "\n",
    "bridge_short = bridge.iloc[:5,:]\n",
    "NN_fixed_short = NN_fixed.iloc[:5,:]\n",
    "NN_variable_short = NN_variable.iloc[:5,:]\n",
    "\n",
    "# Calculate computation times\n",
    "bridge_time_min = ((bridge_short['compile_time'] + (bridge_short['stan_time'] + bridge_short['bridge_time']).cumsum())/60)\n",
    "NN_fixed_time_min = ((NN_fixed_short['training_time'] + NN_fixed_short['inference_time'].cumsum())/60)\n",
    "NN_variable_time_min = ((NN_variable_short['training_time'] + NN_variable_short['inference_time'].cumsum())/60)\n",
    "\n",
    "# Set index to represent datasets\n",
    "bridge_time_min.index = bridge_time_min.index+1\n",
    "NN_fixed_time_min.index = NN_fixed_time_min.index+1\n",
    "NN_variable_time_min.index = NN_variable_time_min.index+1\n",
    "\n",
    "# Plot\n",
    "f, ax = plt.subplots(1, 1, figsize=(8, 6))\n",
    "ax.plot(bridge_time_min, label='Bridge Sampling computation time', lw=2)\n",
    "ax.plot(NN_fixed_time_min, label='Hierarchical Network fixed computation time', lw=2)\n",
    "ax.plot(NN_variable_time_min, label='Hierarchical Network variable computation time', lw=2)\n",
    "ax.spines['right'].set_visible(False)\n",
    "ax.spines['top'].set_visible(False)\n",
    "ax.set_xlabel('Dataset')\n",
    "ax.set_ylabel('Computation time in minutes')\n",
    "ax.set_xlim(xmin=1)\n",
    "ax.set_ylim(ymin=0)\n",
    "ax.set_xticks(bridge_time_min.index) # only display ticks for each dataset\n",
    "ax.legend(loc='upper left')\n",
    "f.savefig('figures/BF_N_Toy.png', dpi=300, bbox_inches='tight')"
   ]
  }
 ],
 "metadata": {
  "kernelspec": {
   "display_name": "Python 3",
   "language": "python",
   "name": "python3"
  },
  "language_info": {
   "codemirror_mode": {
    "name": "ipython",
    "version": 3
   },
   "file_extension": ".py",
   "mimetype": "text/x-python",
   "name": "python",
   "nbconvert_exporter": "python",
   "pygments_lexer": "ipython3",
   "version": "3.8.8"
  },
  "toc": {
   "base_numbering": 1,
   "nav_menu": {},
   "number_sections": true,
   "sideBar": true,
   "skip_h1_title": false,
   "title_cell": "Table of Contents",
   "title_sidebar": "Contents",
   "toc_cell": false,
   "toc_position": {},
   "toc_section_display": true,
   "toc_window_display": false
  },
  "varInspector": {
   "cols": {
    "lenName": 16,
    "lenType": 16,
    "lenVar": 40
   },
   "kernels_config": {
    "python": {
     "delete_cmd_postfix": "",
     "delete_cmd_prefix": "del ",
     "library": "var_list.py",
     "varRefreshCmd": "print(var_dic_list())"
    },
    "r": {
     "delete_cmd_postfix": ") ",
     "delete_cmd_prefix": "rm(",
     "library": "var_list.r",
     "varRefreshCmd": "cat(var_dic_list()) "
    }
   },
   "types_to_exclude": [
    "module",
    "function",
    "builtin_function_or_method",
    "instance",
    "_Feature"
   ],
   "window_display": false
  }
 },
 "nbformat": 4,
 "nbformat_minor": 5
}
