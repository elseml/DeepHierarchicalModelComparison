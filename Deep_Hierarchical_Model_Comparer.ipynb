{
 "cells": [
  {
   "cell_type": "markdown",
   "metadata": {},
   "source": [
    "# TO DO\n",
    "\n",
    "Samplen auf Modell 1 erweitern\n",
    "\n",
    "Modellindikatoren einbauen"
   ]
  },
  {
   "cell_type": "markdown",
   "metadata": {},
   "source": [
    "# Offene Fragen\n",
    "\n",
    "Richtig, dass wir hier nur 1 Cluster mit 20 Beobachtungen haben?\n",
    "\n",
    "Inverse Gamma Distribution = 1/np.random.gamma oder über scipy.stats.invgamma ?\n",
    "\n",
    "Jede Variable spezifizieren vs. args/kwarg: Wann hier in dem Code args/kwargs einsetzen? \n",
    "\n",
    "Docstring Konventionen - hier nach BayesFlow Package richten oder Numpy Docstring Standard?"
   ]
  },
  {
   "cell_type": "code",
   "execution_count": 160,
   "metadata": {},
   "outputs": [],
   "source": [
    "import numpy as np\n",
    "import math"
   ]
  },
  {
   "cell_type": "markdown",
   "metadata": {},
   "source": [
    "Hierarchical Normal Example Model\n",
    "\n",
    "$$\n",
    "\\begin{align}\n",
    "\\mu &\\sim p(\\mu | \\mu_0, \\tau_0)\\\\\n",
    "\\tau^2 &\\sim p(\\tau^2 | \\alpha, \\beta)\\\\\n",
    "\\theta_l &\\sim p(\\theta | \\mu, \\tau^2) \\text{ for } l=1,...,L\\\\\n",
    "x_n &\\sim p(x | \\theta_l, \\sigma^2) \\text{ for } n=1,...,N \\text { (assume } \\sigma^2 \\text { to be known (=1))}\\\\\n",
    "\\end{align}\n",
    "$$"
   ]
  },
  {
   "cell_type": "markdown",
   "metadata": {},
   "source": [
    "$$\n",
    "\\begin{align}\n",
    "&\\text{Null Model }H_0 \\text{: } \\mu=0\\\\\n",
    "&\\text{Alternative Model }H_1 \\text{: } \\mu \\text{ allowed to differ from 0} \\\\\n",
    "\\end{align}\n",
    "$$"
   ]
  },
  {
   "cell_type": "code",
   "execution_count": 278,
   "metadata": {},
   "outputs": [],
   "source": [
    "class Simulator:\n",
    "    \n",
    "    def __init__(self):    \n",
    "        pass\n",
    "    \n",
    "    def draw_from_prior(self, model_index, n_clusters, mu0, tau20, alpha, beta):\n",
    "        \"\"\"\n",
    "        Draws parameter values from the specified prior distributions of the \n",
    "        hyperprior and the conditional prior.\n",
    "        ----------\n",
    "        \n",
    "        Arguments:        \n",
    "        n_clusters : int -- number of higher order clusters that the observations are nested in\n",
    "        mu0        : float -- higher order mean prior - mean\n",
    "        tau20      : float -- higher order mean prior - variance\n",
    "        alpha      : float -- higher order variance prior - shape parameter\n",
    "        beta       : float -- higher order variance prior - rate parameter\n",
    "        \"\"\"\n",
    "        \n",
    "        if model_index == 0:\n",
    "            mu = 0\n",
    "        if model_index == 1:\n",
    "            mu = np.random.normal(loc=mu0, scale=math.sqrt(tau20))            \n",
    "        tau2 = 1/np.random.gamma(alpha, beta)\n",
    "        theta = np.random.normal(loc=mu, scale=math.sqrt(tau2), size=n_clusters)\n",
    "        sigma2 = 1\n",
    "        return theta, sigma2\n",
    "    \n",
    "    def gen_from_likelihood(self, params, n_observations):\n",
    "        \"\"\"\n",
    "        Generates a single hierarchical dataset from the sampled parameter values.\n",
    "        ----------\n",
    "        \n",
    "        Arguments: \n",
    "        params         : list -- parameters sampled from prior \n",
    "        n_observations : int -- number of observations per cluster\n",
    "        \"\"\"\n",
    "        \n",
    "        theta, sigma2 = params\n",
    "        X = np.random.normal(loc=theta, scale=math.sqrt(sigma2), size=(n_observations, theta.shape[0])).T\n",
    "        return X\n",
    "    \n",
    "    def simulate(self, batch_size, n_models, n_clusters, n_observations, mu0, tau20, alpha, beta):\n",
    "        \"\"\"\n",
    "        Simulates multiple hierarchical datasets.\n",
    "        ----------\n",
    "        \n",
    "        Arguments:\n",
    "        batch_size     : int -- number of batches to be generated\n",
    "        n_models       : int -- number of models to be simulated from\n",
    "        n_clusters     : int -- number of higher order clusters that the observations are nested in\n",
    "        n_observations : int -- number of observations per cluster\n",
    "        n_variables    : int -- number of variables in the simulated datasets \n",
    "        mu0            : float -- higher order mean prior - mean\n",
    "        tau20          : float -- higher order mean prior - variance\n",
    "        alpha          : float -- higher order variance prior - shape parameter\n",
    "        beta           : float -- higher order variance prior - rate parameter\n",
    "        --------\n",
    "        \n",
    "        Returns:\n",
    "        numpy array of shape (batch_size, n_clusters, n_observations, n_variables) - contains the simulated hierarchical datasets\n",
    "        \"\"\"\n",
    "        \n",
    "        X = []\n",
    "        for b in range(batch_size):\n",
    "            for m_index in range(n_models):\n",
    "                prior_sample = self.draw_from_prior(m_index, n_clusters, mu0, tau20, alpha, beta)\n",
    "                x_gen = self.gen_from_likelihood(prior_sample, n_observations)\n",
    "                X.append(x_gen)\n",
    "        return np.array(X)[...,np.newaxis]"
   ]
  },
  {
   "cell_type": "code",
   "execution_count": 283,
   "metadata": {},
   "outputs": [
    {
     "name": "stdout",
     "output_type": "stream",
     "text": [
      "(2, 1, 20, 1)\n",
      "[[ 0.79278728]\n",
      " [ 1.17021609]\n",
      " [ 0.39257989]\n",
      " [ 0.64095352]\n",
      " [-0.60520439]]\n",
      "[[-2.00956942]\n",
      " [-4.96192579]\n",
      " [-2.94106544]\n",
      " [-2.85043796]\n",
      " [-3.3011672 ]]\n",
      "Wall time: 998 µs\n"
     ]
    }
   ],
   "source": [
    "%%time\n",
    "\n",
    "# prior specification\n",
    "\n",
    "mu0 = 0\n",
    "tau20 = 1\n",
    "alpha = 1\n",
    "beta = 1\n",
    "\n",
    "# run simulator\n",
    "\n",
    "sim = Simulator()\n",
    "x_test = sim.simulate(batch_size=1, n_models = 2, n_clusters=1, n_observations=20, mu0=mu0, tau20=tau20, alpha=alpha, beta=beta)\n",
    "print(x_test.shape)\n",
    "print(x_test[0][0][0:5])\n",
    "print(x_test[1][0][0:5])"
   ]
  },
  {
   "cell_type": "code",
   "execution_count": 284,
   "metadata": {},
   "outputs": [
    {
     "name": "stdout",
     "output_type": "stream",
     "text": [
      "(20,)\n",
      "[-1.73588948  2.42714974  0.35228581  0.83584784  0.60450026]\n"
     ]
    }
   ],
   "source": [
    "# generate data from null model which will serve as 'empirical' dataset\n",
    "\n",
    "#np.random.seed(12345)\n",
    "\n",
    "mu = 0\n",
    "tau2 = 0.5\n",
    "sigma2 = 1\n",
    "\n",
    "N = 20 # Number of observations\n",
    "theta = np.random.normal(loc=mu, scale=math.sqrt(tau2), size=N)\n",
    "X = np.random.normal(loc=theta, scale=math.sqrt(sigma2), size=N)\n",
    "print(X.shape)\n",
    "print(X[0:5])"
   ]
  },
  {
   "cell_type": "code",
   "execution_count": null,
   "metadata": {},
   "outputs": [],
   "source": []
  },
  {
   "cell_type": "code",
   "execution_count": null,
   "metadata": {},
   "outputs": [],
   "source": []
  },
  {
   "cell_type": "code",
   "execution_count": null,
   "metadata": {},
   "outputs": [],
   "source": []
  },
  {
   "cell_type": "code",
   "execution_count": null,
   "metadata": {},
   "outputs": [],
   "source": []
  }
 ],
 "metadata": {
  "kernelspec": {
   "display_name": "Python 3",
   "language": "python",
   "name": "python3"
  },
  "language_info": {
   "codemirror_mode": {
    "name": "ipython",
    "version": 3
   },
   "file_extension": ".py",
   "mimetype": "text/x-python",
   "name": "python",
   "nbconvert_exporter": "python",
   "pygments_lexer": "ipython3",
   "version": "3.7.3"
  },
  "toc": {
   "base_numbering": 1,
   "nav_menu": {},
   "number_sections": true,
   "sideBar": true,
   "skip_h1_title": false,
   "title_cell": "Table of Contents",
   "title_sidebar": "Contents",
   "toc_cell": false,
   "toc_position": {},
   "toc_section_display": true,
   "toc_window_display": false
  }
 },
 "nbformat": 4,
 "nbformat_minor": 2
}
