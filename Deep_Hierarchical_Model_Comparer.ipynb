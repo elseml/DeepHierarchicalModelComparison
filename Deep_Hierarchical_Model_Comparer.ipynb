{
 "cells": [
  {
   "cell_type": "markdown",
   "metadata": {},
   "source": [
    "# Setup"
   ]
  },
  {
   "cell_type": "code",
   "execution_count": 2,
   "metadata": {},
   "outputs": [],
   "source": [
    "import numpy as np\n",
    "import tensorflow as tf"
   ]
  },
  {
   "cell_type": "code",
   "execution_count": 3,
   "metadata": {},
   "outputs": [
    {
     "data": {
      "text/plain": [
       "'2.4.0'"
      ]
     },
     "execution_count": 3,
     "metadata": {},
     "output_type": "execute_result"
    }
   ],
   "source": [
    "tf.version.VERSION"
   ]
  },
  {
   "cell_type": "markdown",
   "metadata": {},
   "source": [
    "Hierarchical Normal Example Model\n",
    "\n",
    "$$\n",
    "\\begin{align}\n",
    "x_n &\\sim p(x | \\theta_l, \\sigma^2) \\text{ for } n=1,...,N \\text { (assume } \\sigma^2 \\text { to be known (=1))}\\\\\n",
    "\\theta_l &\\sim p(\\theta | \\mu, \\tau^2) \\text{ for } l=1,...,L\\\\\n",
    "\\mu &\\sim p(\\mu | \\mu_0, \\tau_0)\\\\\n",
    "\\tau^2 &\\sim p(\\tau^2 | \\alpha, \\beta)\\\\\n",
    "\\end{align}\n",
    "$$"
   ]
  },
  {
   "cell_type": "markdown",
   "metadata": {},
   "source": [
    "$$\n",
    "\\begin{align}\n",
    "&\\text{Null Model }H_0 \\text{: } \\mu=0\\\\\n",
    "&\\text{Alternative Model }H_1 \\text{: } \\mu \\text{ allowed to differ from 0} \\\\\n",
    "\\end{align}\n",
    "$$"
   ]
  },
  {
   "cell_type": "markdown",
   "metadata": {},
   "source": [
    "# Simulator class"
   ]
  },
  {
   "cell_type": "code",
   "execution_count": 4,
   "metadata": {},
   "outputs": [],
   "source": [
    "class HierarchicalNormalSimulator:\n",
    "    \n",
    "    def __init__(self):    \n",
    "        pass\n",
    "    \n",
    "    def draw_from_prior(self, model_index, n_clusters, mu0, tau20, alpha, beta):\n",
    "        \"\"\"\n",
    "        Draws parameter values from the specified prior distributions of the \n",
    "        hyperprior and the conditional prior.\n",
    "        ----------\n",
    "        \n",
    "        Arguments:        \n",
    "        n_clusters : int -- number of higher order clusters that the observations are nested in\n",
    "        mu0        : float -- higher order mean prior - mean\n",
    "        tau20      : float -- higher order mean prior - variance\n",
    "        alpha      : float -- higher order variance prior - shape parameter\n",
    "        beta       : float -- higher order variance prior - rate parameter\n",
    "        \"\"\"\n",
    "        \n",
    "        if model_index == 0: \n",
    "            mu = 0 # must be mu=0 // mu=100 for quick model convergence checks\n",
    "        if model_index == 1:\n",
    "            mu = np.random.normal(loc=mu0, scale=np.sqrt(tau20))\n",
    "            \n",
    "        tau2 = 1/np.random.gamma(alpha, beta)\n",
    "        theta = np.random.normal(loc=mu, scale=np.sqrt(tau2), size=n_clusters)\n",
    "        return theta\n",
    "    \n",
    "    def gen_from_likelihood(self, theta, n_obs):\n",
    "        \"\"\"\n",
    "        Generates a single hierarchical dataset from the sampled parameter values.\n",
    "        ----------\n",
    "        \n",
    "        Arguments: \n",
    "        params : list -- parameters sampled from prior \n",
    "        n_obs  : int -- number of observations per cluster\n",
    "        \"\"\"\n",
    "        \n",
    "        X = np.random.normal(loc=theta, scale=1, size=(n_obs, theta.shape[0])).T \n",
    "        return X\n",
    "    \n",
    "    def generate_single(self, model_index, n_clusters, n_obs, mu0=0, tau20=1, alpha=1, beta=1):\n",
    "        \"\"\"\n",
    "        Generates a single hierarchical dataset.\n",
    "        ----------\n",
    "        \n",
    "        Arguments:\n",
    "        model_index    : int -- index of the model to be simulated from\n",
    "        n_clusters     : int -- number of higher order clusters that the observations are nested in\n",
    "        n_obs          : int -- number of observations per cluster\n",
    "        mu0            : float -- higher order mean prior - mean\n",
    "        tau20          : float -- higher order mean prior - variance\n",
    "        alpha          : float -- higher order variance prior - shape parameter\n",
    "        beta           : float -- higher order variance prior - rate parameter\n",
    "        --------\n",
    "        \n",
    "        Returns:\n",
    "        numpy array of shape (n_clusters, n_obs, n_variables) - contains the simulated hierarchical datasets\n",
    "        \"\"\"\n",
    "        prior_sample = self.draw_from_prior(model_index, n_clusters, mu0, tau20, alpha, beta)\n",
    "        x_generated = self.gen_from_likelihood(prior_sample, n_obs)\n",
    "        return x_generated[...,np.newaxis]\n",
    "        \n",
    "    \n",
    "    def simulate(self, batch_size, n_models, n_clusters, n_obs, mu0=0, tau20=1, alpha=1, beta=1):\n",
    "        \"\"\"\n",
    "        Simulates multiple hierarchical datasets. Useful for single usage and debugging (both without the MainSimulator).\n",
    "        ----------\n",
    "        \n",
    "        Arguments:\n",
    "        batch_size     : int -- number of batches to be generated\n",
    "        n_models       : int -- number of models to be simulated from\n",
    "        n_clusters     : int -- number of higher order clusters that the observations are nested in\n",
    "        n_obs          : int -- number of observations per cluster\n",
    "        n_variables    : int -- number of variables in the simulated datasets \n",
    "        mu0            : float -- higher order mean prior - mean\n",
    "        tau20          : float -- higher order mean prior - variance\n",
    "        alpha          : float -- higher order variance prior - shape parameter\n",
    "        beta           : float -- higher order variance prior - rate parameter\n",
    "        --------\n",
    "        \n",
    "        Returns:\n",
    "        numpy array of shape (batch_size * n_models, n_clusters, n_obs, n_variables) - contains the simulated hierarchical datasets\n",
    "        \"\"\"\n",
    "        \n",
    "        X = []\n",
    "        for b in range(batch_size):\n",
    "            prior_sample = self.draw_from_prior(n_clusters, mu0, tau20, alpha, beta)\n",
    "            x_generated = self.gen_from_likelihood(prior_sample, n_obs)\n",
    "            X.append(x_generated)\n",
    "        return np.array(X)[...,np.newaxis]"
   ]
  },
  {
   "cell_type": "code",
   "execution_count": 5,
   "metadata": {},
   "outputs": [],
   "source": [
    "class MainSimulator:\n",
    "    \n",
    "    def __init__(self, simulator):\n",
    "        \n",
    "        self.simulator = simulator\n",
    "    \n",
    "    def draw_from_model_prior(self, batch_size, n_models, model_prior):\n",
    "        \"\"\"\n",
    "        Creates the sequence of models to be simulated from in the batch.\n",
    "        ----------\n",
    "        \n",
    "        Arguments:\n",
    "        batch_size     : int -- number of batches to be generated\n",
    "        n_models       : int -- number of models to be simulated from\n",
    "        model_prior    : list -- prior model probabilities\n",
    "        --------\n",
    "        \n",
    "        Returns:\n",
    "        array of shape (batch_size) - array of indices corresponding to the sampled model from p(M).\n",
    "        \"\"\"\n",
    "        \n",
    "        # create base list of model indices\n",
    "        model_base_indices = [*range(n_models)]\n",
    "        \n",
    "        # uniform prior over model probabilities if no model prior given\n",
    "        if model_prior == None:\n",
    "            model_prior = [1/n_models] * n_models\n",
    "        \n",
    "        # generate sampling list of model indeces\n",
    "        model_indices = np.random.choice(model_base_indices, size=batch_size, p=model_prior)\n",
    "        return model_indices\n",
    "    \n",
    "    def simulate(self, batch_size, n_models, model_prior, n_clust_min=2, n_clust_max=100, n_obs_min=2, n_obs_max=200):\n",
    "        \"\"\"\n",
    "        Simulates a batch of hierarchical datasets.\n",
    "        ----------\n",
    "        \n",
    "        Arguments:\n",
    "        batch_size     : int -- number of datasets to be generated per batch\n",
    "        n_models       : int -- number of models to be simulated from\n",
    "        model_prior    : list -- prior model probabilities\n",
    "        n_clust_min    : int -- minimum number of clusters\n",
    "        n_clust_max    : int -- maximum number of cluster\n",
    "        n_obs_min      : int -- minimum number of observations\n",
    "        n_obs_max      : int -- maximum number of observations\n",
    "        --------\n",
    "        \n",
    "        Returns:\n",
    "        dict of {'X' : array of shape (batch_size, n_clusters, n_obs, n_variables),  \n",
    "                 'm' : array of shape (batch_size)}\n",
    "        \"\"\"\n",
    "        # Draw K and N (equal for all datasets in the batch)\n",
    "        n_clusters = np.random.randint(n_clust_min, n_clust_max+1)\n",
    "        n_obs = np.random.randint(n_obs_min, n_obs_max+1)\n",
    "        \n",
    "        # Draw sampling list of model indices\n",
    "        model_indices = self.draw_from_model_prior(batch_size, n_models, model_prior)\n",
    "        \n",
    "        # Prepare an array to hold simulations\n",
    "        X_gen = np.zeros((batch_size, n_clusters, n_obs, 1), dtype=np.float32)\n",
    "        \n",
    "        for b in range(batch_size):\n",
    "            X_gen[b] = self.simulator.generate_single(model_indices[b], n_clusters, n_obs)\n",
    "               \n",
    "        return {'X': X_gen, 'm': model_indices}\n",
    "    \n",
    "    def __call__(self, batch_size, n_models=2, model_prior=None, n_clust_min=2, n_clust_max=100, n_obs_min=2, n_obs_max=200):\n",
    "        return self.simulate(batch_size, n_models, model_prior, n_clust_min, n_clust_max, n_obs_min, n_obs_max)"
   ]
  },
  {
   "cell_type": "code",
   "execution_count": 6,
   "metadata": {},
   "outputs": [],
   "source": [
    "# Construct simulator\n",
    "\n",
    "main_sim = MainSimulator(HierarchicalNormalSimulator())"
   ]
  },
  {
   "cell_type": "code",
   "execution_count": 7,
   "metadata": {},
   "outputs": [
    {
     "name": "stdout",
     "output_type": "stream",
     "text": [
      "(64, 173, 1)\n",
      "[34 30]\n",
      "Wall time: 26.4 ms\n"
     ]
    }
   ],
   "source": [
    "%%time\n",
    "# Testing zone: how do shapes and index distribution change in different runs?\n",
    "\n",
    "print(main_sim(64)[\"X\"][:, 0, :, :].shape) # shape of 1 cluster \n",
    "print(np.unique(main_sim(64)[\"m\"], return_counts=True)[1]) # model index distribution in batch"
   ]
  },
  {
   "cell_type": "code",
   "execution_count": 8,
   "metadata": {},
   "outputs": [
    {
     "name": "stdout",
     "output_type": "stream",
     "text": [
      "(2, 53, 99, 1)\n",
      "[[[ 0.07444806]\n",
      "  [-1.8053213 ]\n",
      "  [-0.87056285]]\n",
      "\n",
      " [[ 0.96316373]\n",
      "  [ 2.9117162 ]\n",
      "  [ 0.54146653]]]\n",
      "Wall time: 1 ms\n"
     ]
    }
   ],
   "source": [
    "%%time\n",
    "# Simulate a batch for subsequent NN development\n",
    "\n",
    "simulated_batch = main_sim(2)\n",
    "print(simulated_batch[\"X\"].shape)\n",
    "print(simulated_batch[\"X\"][0,:2,:3,:]) # display the first 3 observations of the first 2 clusters of the first batch"
   ]
  },
  {
   "cell_type": "markdown",
   "metadata": {},
   "source": [
    "# Network Class"
   ]
  },
  {
   "cell_type": "markdown",
   "metadata": {},
   "source": [
    "Structure:\n",
    "- Invariant Layer Class\n",
    "- Equivariant Layer Class\n",
    "- Hierarchical Invariant Network Class (Equivar. + Invar.)\n",
    "- Deep Hierarchical Evidential Model Class (multiple Hier.Inv.Netw.)\n",
    "\n",
    "To do:\n",
    "- Invariant module:\n",
    "- Equivariant module:\n",
    "    - call() Description of arguments and return\n",
    "    \n",
    "- setting dictionary, no units invariant module "
   ]
  },
  {
   "cell_type": "code",
   "execution_count": 9,
   "metadata": {},
   "outputs": [],
   "source": [
    "# DELETE; LEGACY\n",
    "\n",
    "# Settings\n",
    "\n",
    "# DICTIONARY ERSTELLEN, siehe BayesFlow\n",
    "\n",
    "n_dense_inv = 2 # no of layers pre pooling in the invariant network\n",
    "n_dense_post = 2 # no of layers post pooling in the invariant network\n",
    "n_dense_equiv = 2 # no of layers in the equivariant network\n",
    "n_equiv = 2 # no of equivariant modules to be stacked\n",
    "\n"
   ]
  },
  {
   "cell_type": "markdown",
   "metadata": {},
   "source": [
    "## Settings"
   ]
  },
  {
   "cell_type": "code",
   "execution_count": 10,
   "metadata": {},
   "outputs": [],
   "source": [
    "model_settings = {\n",
    "    'n_models'                    : 2,\n",
    "    'dense_inv_pre_pooling_args'  : dict(units=4, activation='elu', kernel_initializer='glorot_normal'),\n",
    "    'dense_inv_post_pooling_args' : dict(units=64, activation='elu', kernel_initializer='glorot_normal'),\n",
    "    'dense_equiv_args'            : dict(units=32, activation='elu', kernel_initializer='glorot_normal'),\n",
    "    'n_dense_inv'                 : 2,\n",
    "    'n_dense_equiv'               : 2\n",
    "}"
   ]
  },
  {
   "cell_type": "markdown",
   "metadata": {},
   "source": [
    "## Invariant Module"
   ]
  },
  {
   "cell_type": "code",
   "execution_count": 11,
   "metadata": {},
   "outputs": [],
   "source": [
    "class InvariantModule(tf.keras.Model):\n",
    "    \"\"\"Implements an invariant nn module as proposed by Bloem-Reddy and Teh (2019).\"\"\"\n",
    "\n",
    "    def __init__(self, model_settings):\n",
    "        \"\"\"\n",
    "        Creates an invariant function with mean pooling.\n",
    "        ----------\n",
    "        \n",
    "        Arguments:\n",
    "        model_settings : dict -- hyperparameter settings for the invariant module\n",
    "        \"\"\"\n",
    "        \n",
    "        super(InvariantModule, self).__init__()\n",
    "        \n",
    "        # Pre pooling network\n",
    "        self.pre_pooling_dense = tf.keras.Sequential([tf.keras.layers.Dense(**model_settings['dense_inv_pre_pooling_args'])\n",
    "                                           for _ in range(model_settings['n_dense_inv'])])\n",
    "        \n",
    "        # Initialize weights\n",
    "        self.weights_layer = None\n",
    "        \n",
    "        # Post pooling network\n",
    "        self.post_pooling_dense = tf.keras.Sequential([tf.keras.layers.Dense(**model_settings['dense_inv_post_pooling_args'])\n",
    "                                                      for _ in range(model_settings['n_dense_inv'])])\n",
    "        \n",
    "            \n",
    "    def call(self, x):\n",
    "        \"\"\"\n",
    "        Transforms the input into an invariant representation.\n",
    "        ----------\n",
    "        \n",
    "        Arguments:\n",
    "        x : tf.Tensor of variable shape - either 4-dimensional with (batch_size, n_clusters, n_obs, n_variables)\n",
    "                                          or 3-dimensional with (batch_size, n_clusters, inv_embedding)\n",
    "        --------\n",
    "        \n",
    "        Returns:\n",
    "        out: tf.Tensor of variable shape - either 3-dimensional (when input is 4D) with (batch_size, n_clusters, inv_embedding)\n",
    "                                           or 2-dimensional (when input is 3D) with (batch_size, inv_embedding)\n",
    "        \"\"\"\n",
    "        \n",
    "        # Embed input\n",
    "        x_emb = self.pre_pooling_dense(x)\n",
    "        \n",
    "        # Perform mean pooling\n",
    "        w_x = tf.reduce_mean(x_emb, axis=-2) # always reduce dimensionality of the lowest exchangable data level \n",
    "        \n",
    "        # Increase representational power\n",
    "        out = self.post_pooling_dense(w_x)\n",
    "        return out"
   ]
  },
  {
   "cell_type": "code",
   "execution_count": 12,
   "metadata": {},
   "outputs": [],
   "source": [
    "# Initialize Invariant Nets before testing\n",
    "\n",
    "inv = InvariantModule(model_settings)\n",
    "inv2 = InvariantModule(model_settings)"
   ]
  },
  {
   "cell_type": "code",
   "execution_count": 13,
   "metadata": {},
   "outputs": [
    {
     "name": "stdout",
     "output_type": "stream",
     "text": [
      "(2, 71, 85, 1) - Shape of the simulated batch of data\n",
      "(2, 71, 64) - Shape of the first invariant module output\n",
      "(2, 64) - Shape of the second invariant module output\n"
     ]
    }
   ],
   "source": [
    "# Test if dimensionality reduction of invariant module works\n",
    "\n",
    "simulated_batch = main_sim(2)\n",
    "\n",
    "print('{} - Shape of the simulated batch of data'.format(simulated_batch[\"X\"].shape))\n",
    "\n",
    "reduce_to_3D = inv(x=simulated_batch[\"X\"])\n",
    "print('{} - Shape of the first invariant module output'.format(reduce_to_3D.shape))\n",
    "\n",
    "reduce_to_2D = inv2(reduce_to_3D)\n",
    "print('{} - Shape of the second invariant module output'.format(reduce_to_2D.shape))"
   ]
  },
  {
   "cell_type": "markdown",
   "metadata": {},
   "source": [
    "### Invariant Net Classifier Experiment"
   ]
  },
  {
   "cell_type": "markdown",
   "metadata": {},
   "source": [
    "#### Hierarchical Network Class "
   ]
  },
  {
   "cell_type": "code",
   "execution_count": 14,
   "metadata": {},
   "outputs": [],
   "source": [
    "class HierarchicalNetwork(tf.keras.Model):\n",
    "    \"\"\"\n",
    "    Implements a network that can process hierarchical data.\n",
    "    \"\"\"\n",
    "    \n",
    "    def __init__(self, model_settings):\n",
    "        \"\"\"\n",
    "        Creates a hierarchical Network consisting of two stacked invariant modules.\n",
    "        ----------\n",
    "        \n",
    "        Arguments:\n",
    "        model_settings : dict -- hyperparameter settings for the invariant module\n",
    "        \"\"\"\n",
    "        \n",
    "        super(HierarchicalNetwork, self).__init__()\n",
    "        \n",
    "        self.inv_4d = InvariantModule(model_settings)\n",
    "        self.inv_3d = InvariantModule(model_settings)\n",
    "        \n",
    "        # The final layer to output model evidences\n",
    "        if model_settings['n_models'] == 2: # Binary Classification\n",
    "            n_out = 1 \n",
    "            act_out = \"sigmoid\"\n",
    "        else:\n",
    "            n_out = model_settings['n_models']\n",
    "            act_out = \"softmax\"\n",
    "        self.model_probs_layer = tf.keras.layers.Dense(n_out, activation=act_out)\n",
    "        \n",
    "        \n",
    "    def call(self, x):\n",
    "        \"\"\"\n",
    "        Transforms the 4-dimensional input into model probabilities.\n",
    "        ----------\n",
    "        \n",
    "        Arguments:\n",
    "        x : tf.Tensor of shape (batch_size, n_clusters, n_obs, n_variables)\n",
    "        --------\n",
    "        \n",
    "        Returns:\n",
    "        model_probs : tf.Tensor of shape (batch_size, n_models) -- the model posterior probabilities\n",
    "        \"\"\"\n",
    "        \n",
    "        x_3d = self.inv_4d(x)\n",
    "        x_2d = self.inv_3d(x_3d)\n",
    "        model_probs = self.model_probs_layer(x_2d)\n",
    "        \n",
    "        return model_probs"
   ]
  },
  {
   "cell_type": "markdown",
   "metadata": {},
   "source": [
    "#### Training "
   ]
  },
  {
   "cell_type": "code",
   "execution_count": 15,
   "metadata": {},
   "outputs": [],
   "source": [
    "from functools import partial"
   ]
  },
  {
   "cell_type": "code",
   "execution_count": 36,
   "metadata": {},
   "outputs": [],
   "source": [
    "# Training Settings\n",
    "\n",
    "model = HierarchicalNetwork(model_settings)\n",
    "optimizer = tf.keras.optimizers.Adam(learning_rate=0.0005)\n",
    "batch_size = 32\n",
    "simulator = partial(MainSimulator(HierarchicalNormalSimulator()), batch_size)\n",
    "loss_fun = tf.losses.BinaryCrossentropy()\n",
    "iterations = 1000\n",
    "epochs = 10"
   ]
  },
  {
   "cell_type": "code",
   "execution_count": 37,
   "metadata": {},
   "outputs": [],
   "source": [
    "def train_online(model, optimizer, simulator, loss_fun, iterations, batch_size, epochs):\n",
    "    \"\"\"\n",
    "    Trains a Hierarchical Network.\n",
    "    ----------\n",
    "        \n",
    "    Arguments:\n",
    "    ... TO DO\n",
    "    --------\n",
    "        \n",
    "    Returns:\n",
    "    losses : numpy array of shape (iterations * epochs)\n",
    "    \"\"\"\n",
    "    \n",
    "    losses = []\n",
    "    \n",
    "    # For loop through epochs\n",
    "    for ep in range(1, epochs+1):\n",
    "        for it in range(1, iterations+1):\n",
    "            \n",
    "            # Simulate batch of datasets\n",
    "            batch = simulator()\n",
    "            \n",
    "            with tf.GradientTape() as tape:\n",
    "                \n",
    "                # Forward pass\n",
    "                outputs = model(batch[\"X\"])[:,0] # [:,0] to match shape of predictions with true indices\n",
    "                \n",
    "                batch_m = batch[\"m\"]\n",
    "                \n",
    "                loss = loss_fun(batch_m, outputs)\n",
    "                \n",
    "            # One step backprop\n",
    "            gradients = tape.gradient(loss, model.trainable_variables)\n",
    "            \n",
    "            optimizer.apply_gradients(zip(gradients, model.trainable_variables))\n",
    "            \n",
    "            # Store losses\n",
    "            losses.append(loss)\n",
    "    \n",
    "    return losses"
   ]
  },
  {
   "cell_type": "code",
   "execution_count": 38,
   "metadata": {},
   "outputs": [
    {
     "name": "stdout",
     "output_type": "stream",
     "text": [
      "Wall time: 3min 11s\n"
     ]
    }
   ],
   "source": [
    "%%time\n",
    "\n",
    "# train model\n",
    "losses = train_online(model, optimizer, simulator, loss_fun, iterations, batch_size, epochs)"
   ]
  },
  {
   "cell_type": "code",
   "execution_count": 75,
   "metadata": {},
   "outputs": [
    {
     "data": {
      "text/plain": [
       "[<matplotlib.lines.Line2D at 0x22131a90d60>]"
      ]
     },
     "execution_count": 75,
     "metadata": {},
     "output_type": "execute_result"
    },
    {
     "data": {
      "image/png": "[encoded data removed]",
      "text/plain": [
       "<Figure size 1440x576 with 1 Axes>"
      ]
     },
     "metadata": {
      "needs_background": "light"
     },
     "output_type": "display_data"
    }
   ],
   "source": [
    "# calculate rolling average of losses to get a trend line\n",
    "import pandas as pd\n",
    "\n",
    "losses_rolling = pd.DataFrame(losses)\n",
    "losses_rolling = losses_rolling.rolling(window=100).mean()\n",
    "\n",
    "# plot losses\n",
    "import matplotlib.pyplot as plt\n",
    "\n",
    "plt.rcParams[\"figure.figsize\"] = (20,8)\n",
    "plt.plot(losses)\n",
    "plt.plot(losses_rolling) # add trend line"
   ]
  },
  {
   "cell_type": "markdown",
   "metadata": {},
   "source": [
    "#### Apply to data and evaluate results"
   ]
  },
  {
   "cell_type": "code",
   "execution_count": 44,
   "metadata": {},
   "outputs": [
    {
     "name": "stdout",
     "output_type": "stream",
     "text": [
      "Mean absolute error: 0.3537650787755847\n",
      "Accuracy: 0.677\n"
     ]
    }
   ],
   "source": [
    "# Test how predictions look like\n",
    "\n",
    "# Simulate test data\n",
    "main_sim = MainSimulator(HierarchicalNormalSimulator())\n",
    "test_data = main_sim(1000)\n",
    "true_indices = test_data[\"m\"]\n",
    "\n",
    "# Predict\n",
    "predictions_for_model1 = model.predict(test_data[\"X\"])[:,0]  # [:,0] to match shape of predictions with true_indices\n",
    "prediction_labels_for_model1 = np.round(predictions_for_model1)\n",
    "\n",
    "# Mean absolute error\n",
    "mae = abs(true_indices-predictions_for_model1).mean()\n",
    "print('Mean absolute error: {}'.format(mae))\n",
    "\n",
    "# Accuracy\n",
    "accuracy = (prediction_labels_for_model1 == true_indices).mean()\n",
    "print('Accuracy: {}'.format(accuracy))"
   ]
  },
  {
   "cell_type": "code",
   "execution_count": 41,
   "metadata": {},
   "outputs": [
    {
     "data": {
      "text/plain": [
       "Text(0, 0.5, 'Model confidence')"
      ]
     },
     "execution_count": 41,
     "metadata": {},
     "output_type": "execute_result"
    },
    {
     "data": {
      "image/png": "[encoded data removed]",
      "text/plain": [
       "<Figure size 576x432 with 1 Axes>"
      ]
     },
     "metadata": {
      "needs_background": "light"
     },
     "output_type": "display_data"
    }
   ],
   "source": [
    "# Calibration curve\n",
    "\n",
    "from sklearn.calibration import calibration_curve\n",
    "\n",
    "f, ax = plt.subplots(figsize=(8,6))\n",
    "prob_true, prob_pred = calibration_curve(test_data[\"m\"], predictions_for_model1, n_bins=10)\n",
    "ax.plot(prob_true, prob_pred)\n",
    "ax.plot(ax.get_xlim(), ax.get_xlim(), '--')\n",
    "ax.set_xlabel('Model accuracy')\n",
    "ax.set_ylabel('Model confidence')"
   ]
  },
  {
   "cell_type": "markdown",
   "metadata": {},
   "source": [
    "### Invariant Module Testing"
   ]
  },
  {
   "cell_type": "code",
   "execution_count": 22,
   "metadata": {},
   "outputs": [],
   "source": [
    "# Generate test data\n",
    "main_sim = MainSimulator(HierarchicalNormalSimulator())\n",
    "test_data = main_sim(1)\n",
    "\n",
    "# Setup \n",
    "rng = np.random.default_rng()\n",
    "preds_unpermuted = model.predict(test_data[\"X\"])\n",
    "\n",
    "# Permute & predict observations within clusters\n",
    "test_data_obs_perm = rng.permutation(test_data[\"X\"], axis = 2)\n",
    "preds_obs_perm = model.predict(test_data_obs_perm)\n",
    "\n",
    "# Permute & predict clusters\n",
    "test_data_clust_perm = rng.permutation(test_data[\"X\"], axis = 1)\n",
    "preds_clust_perm = model.predict(test_data_clust_perm)\n",
    "\n",
    "# Assert equivalence\n",
    "assert preds_unpermuted.all() == preds_obs_perm.all(),\\\n",
    "'The network is behaving differently when the observations are permuted!'\n",
    "\n",
    "assert preds_unpermuted.all() == preds_clust_perm.all(),\\\n",
    "'The network is behaving differently when the clusters are permuted!'"
   ]
  },
  {
   "cell_type": "code",
   "execution_count": 23,
   "metadata": {},
   "outputs": [
    {
     "name": "stdout",
     "output_type": "stream",
     "text": [
      "Should be equal, only obs were shuffled:\n",
      "-0.79952705\n",
      "-0.79952705\n",
      "Should be equal, only clusters were shuffled:\n",
      "-1.0192314\n",
      "-1.0192314\n",
      "Should not be equal, clusters should have changed positions:\n",
      "-0.79952705\n",
      "-0.9027621\n"
     ]
    }
   ],
   "source": [
    "# Permutation check\n",
    "\n",
    "# Obs\n",
    "print('Should be equal, only obs were shuffled:')\n",
    "print(test_data[\"X\"][0,0,:,:].mean())\n",
    "print(test_data_obs_perm[0,0,:,:].mean())\n",
    "\n",
    "# Clusters\n",
    "print('Should be equal, only clusters were shuffled:')\n",
    "print(test_data[\"X\"][0,:,:,:].mean())\n",
    "print(test_data_clust_perm[0,:,:,:].mean())\n",
    "print('Should not be equal, clusters should have changed positions:')\n",
    "print(test_data[\"X\"][0,0,:,:].mean())\n",
    "print(test_data_clust_perm[0,0,:,:].mean())"
   ]
  },
  {
   "cell_type": "markdown",
   "metadata": {},
   "source": [
    "## Equivariant Module"
   ]
  },
  {
   "cell_type": "code",
   "execution_count": 25,
   "metadata": {},
   "outputs": [],
   "source": [
    "class EquivariantModule(tf.keras.Model):\n",
    "    \"\"\"Implements an equivariant nn module as proposed by Bloem-Reddy and Teh (2019).\"\"\"\n",
    "\n",
    "    def __init__(self, model_settings):\n",
    "        \"\"\"\n",
    "        Creates an equivariant neural network consisting of a FC network with\n",
    "        equal number of hidden units in each layer and an invariant module\n",
    "        with the same FC structure.\n",
    "        ----------\n",
    "        \n",
    "        Arguments:\n",
    "        n_dense_equiv : int -- no of layers in the equivariant network\n",
    "        \"\"\"\n",
    "        \n",
    "        super(EquivariantModule,self).__init__()\n",
    "        \n",
    "        # Equivariant Network\n",
    "        self.module = tf.keras.Sequential([tf.keras.layers.Dense(**model_settings['dense_equiv_args'])\n",
    "                                           for _ in range(model_settings['n_dense_equiv'])])\n",
    "        \n",
    "        self.invariant_module = InvariantModule(model_settings)\n",
    "        \n",
    "    def call (self, x):\n",
    "        \"\"\"\n",
    "        Transforms the input into an equivariant representation.\n",
    "        ----------\n",
    "        \n",
    "        Arguments:\n",
    "        x : tf.Tensor of shape ???\n",
    "        --------\n",
    "        \n",
    "        Returns:\n",
    "        out: tf.Tensor of shape ???\n",
    "        \"\"\"\n",
    "        \n",
    "        # Run input through invariant network \n",
    "        x_inv = self.invariant_module(x)\n",
    "        \n",
    "        # Repeat x_inv n times so that it matches x\n",
    "        # read out position -2 so that the layer to be permuted is accessed in 3D as well as 4D\n",
    "        x_inv = tf.stack([x_inv] * int(x.shape[-2]), axis=-2)\n",
    "        \n",
    "        # Concat original input with invariant transformation\n",
    "        x = tf.concat((x_inv, x), axis=-1)\n",
    "        \n",
    "        # Run through equivariant network\n",
    "        out = self.module(x)\n",
    "        \n",
    "        return out"
   ]
  },
  {
   "cell_type": "code",
   "execution_count": 26,
   "metadata": {},
   "outputs": [],
   "source": [
    "# Initialize Equivariant Nets before testing\n",
    "\n",
    "equiv = EquivariantModule(model_settings)\n",
    "equiv2 = EquivariantModule(model_settings)"
   ]
  },
  {
   "cell_type": "code",
   "execution_count": 27,
   "metadata": {},
   "outputs": [
    {
     "name": "stdout",
     "output_type": "stream",
     "text": [
      "(2, 24, 179, 1) - Shape of the simulated batch of data\n",
      "(2, 24, 179, 32) - Shape of the equivariant module output in 4D\n",
      "(2, 71, 32) - Shape of the equivariant module output in 3D\n"
     ]
    }
   ],
   "source": [
    "# Test if equivariant transformation of equivariant module works\n",
    "\n",
    "simulated_batch = main_sim(2)\n",
    "\n",
    "print('{} - Shape of the simulated batch of data'.format(simulated_batch[\"X\"].shape))\n",
    "\n",
    "# test with 4D data\n",
    "x_equiv4D = equiv(x=simulated_batch[\"X\"])\n",
    "print('{} - Shape of the equivariant module output in 4D'.format(x_equiv4D.shape))\n",
    "\n",
    "# test with 3D data\n",
    "x_equiv3D = equiv2(x=reduce_to_3D)\n",
    "print('{} - Shape of the equivariant module output in 3D'.format(x_equiv3D.shape))"
   ]
  },
  {
   "cell_type": "code",
   "execution_count": 28,
   "metadata": {},
   "outputs": [
    {
     "name": "stdout",
     "output_type": "stream",
     "text": [
      "(2, 24, 64) - Shape of the invariant module output when given the 4D-output of the equivariant module\n"
     ]
    }
   ],
   "source": [
    "# Test if the invariant module can handle the output of the equivariant module\n",
    "\n",
    "inv = InvariantModule(model_settings)\n",
    "inv_with_equiv_input = inv(x_equiv4D)\n",
    "print('{} - Shape of the invariant module output when given the 4D-output of the equivariant module'.format(inv_with_equiv_input.shape))"
   ]
  },
  {
   "cell_type": "code",
   "execution_count": 29,
   "metadata": {},
   "outputs": [
    {
     "name": "stdout",
     "output_type": "stream",
     "text": [
      "(2, 24, 179, 32) - Shape of the equivariant module output when given the 4D-output of the equivariant module\n"
     ]
    }
   ],
   "source": [
    "# Test if multiple equivariant modules are stackable\n",
    "\n",
    "equiv = EquivariantModule(model_settings)\n",
    "equiv3 = equiv(x=x_equiv4D)\n",
    "print('{} - Shape of the equivariant module output when given the 4D-output of the equivariant module'.format(x_equiv4D.shape))"
   ]
  },
  {
   "cell_type": "markdown",
   "metadata": {},
   "source": [
    "## Bridge Sampling Comparison - Bayes Factor Approximation"
   ]
  },
  {
   "cell_type": "code",
   "execution_count": 102,
   "metadata": {},
   "outputs": [
    {
     "data": {
      "text/plain": [
       "(2, 53, 94, 1)"
      ]
     },
     "execution_count": 102,
     "metadata": {},
     "output_type": "execute_result"
    }
   ],
   "source": [
    "np.random.seed(42)\n",
    "\n",
    "main_sim = MainSimulator(HierarchicalNormalSimulator())\n",
    "\n",
    "test_data_bf = main_sim(2)\n",
    "test_data_bf_true_indices = test_data_bf[\"m\"]\n",
    "test_data_bf = test_data_bf[\"X\"]\n",
    "test_data_bf.shape"
   ]
  },
  {
   "cell_type": "code",
   "execution_count": 103,
   "metadata": {},
   "outputs": [
    {
     "data": {
      "text/plain": [
       "array([0, 1])"
      ]
     },
     "execution_count": 103,
     "metadata": {},
     "output_type": "execute_result"
    }
   ],
   "source": [
    "test_data_bf_true_indices"
   ]
  },
  {
   "cell_type": "code",
   "execution_count": 93,
   "metadata": {},
   "outputs": [],
   "source": [
    "np.save('test_data_bf', test_data_bf)"
   ]
  }
 ],
 "metadata": {
  "kernelspec": {
   "display_name": "Python [conda env:tf] *",
   "language": "python",
   "name": "conda-env-tf-py"
  },
  "language_info": {
   "codemirror_mode": {
    "name": "ipython",
    "version": 3
   },
   "file_extension": ".py",
   "mimetype": "text/x-python",
   "name": "python",
   "nbconvert_exporter": "python",
   "pygments_lexer": "ipython3",
   "version": "3.8.8"
  },
  "toc": {
   "base_numbering": 1,
   "nav_menu": {},
   "number_sections": true,
   "sideBar": true,
   "skip_h1_title": false,
   "title_cell": "Table of Contents",
   "title_sidebar": "Contents",
   "toc_cell": false,
   "toc_position": {
    "height": "calc(100% - 180px)",
    "left": "10px",
    "top": "150px",
    "width": "165px"
   },
   "toc_section_display": true,
   "toc_window_display": true
  },
  "varInspector": {
   "cols": {
    "lenName": 16,
    "lenType": 16,
    "lenVar": 40
   },
   "kernels_config": {
    "python": {
     "delete_cmd_postfix": "",
     "delete_cmd_prefix": "del ",
     "library": "var_list.py",
     "varRefreshCmd": "print(var_dic_list())"
    },
    "r": {
     "delete_cmd_postfix": ") ",
     "delete_cmd_prefix": "rm(",
     "library": "var_list.r",
     "varRefreshCmd": "cat(var_dic_list()) "
    }
   },
   "types_to_exclude": [
    "module",
    "function",
    "builtin_function_or_method",
    "instance",
    "_Feature"
   ],
   "window_display": false
  }
 },
 "nbformat": 4,
 "nbformat_minor": 2
}
