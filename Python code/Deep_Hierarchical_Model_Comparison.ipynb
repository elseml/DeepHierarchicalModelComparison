{
 "cells": [
  {
   "cell_type": "markdown",
   "metadata": {},
   "source": [
    "# Setup"
   ]
  },
  {
   "cell_type": "code",
   "execution_count": 1,
   "metadata": {},
   "outputs": [],
   "source": [
    "import os\n",
    "from datetime import datetime, timezone, timedelta\n",
    "import numpy as np\n",
    "np.set_printoptions(suppress=True)\n",
    "import pandas as pd\n",
    "import tensorflow as tf\n",
    "from scipy import stats\n",
    "from tqdm.notebook import tqdm\n",
    "from functools import partial\n",
    "import matplotlib.pyplot as plt\n",
    "import seaborn as sns\n",
    "from sklearn.calibration import calibration_curve\n",
    "from sklearn.metrics import confusion_matrix, accuracy_score, mean_absolute_error\n",
    "from time import perf_counter"
   ]
  },
  {
   "cell_type": "markdown",
   "metadata": {},
   "source": [
    "# Model formulation"
   ]
  },
  {
   "cell_type": "markdown",
   "metadata": {},
   "source": [
    "Hierarchical Normal Example Model: New formulation with explicit distributions\n",
    "\n",
    "$$\n",
    "\\begin{align}\n",
    "x_n &\\sim \\mathcal{N}(\\theta_l, \\sigma^2) \\text{ for } n=1,...,N \\\\\n",
    "\\theta_l &\\sim \\mathcal{N}(\\mu, \\tau^2) \\text{ for } l=1,...,L\\\\\n",
    "\\sigma^2 &\\sim Inv.-Gamma(\\alpha_s, \\beta_s)\\\\\n",
    "\\mu &\\sim \\mathcal{N}(\\mu_0, \\tau_0)\\\\\n",
    "\\tau^2 &\\sim Inv.-Gamma(\\alpha_t, \\beta_t)\\\\\n",
    "\\end{align}\n",
    "$$"
   ]
  },
  {
   "cell_type": "markdown",
   "metadata": {},
   "source": [
    "$$\n",
    "\\begin{align}\n",
    "&\\text{Null Model }H_0 \\text{: } \\mu=0\\\\\n",
    "&\\text{Alternative Model }H_1 \\text{: } \\mu \\text{ allowed to differ from 0} \\\\\n",
    "\\end{align}\n",
    "$$"
   ]
  },
  {
   "cell_type": "code",
   "execution_count": 2,
   "metadata": {},
   "outputs": [
    {
     "data": {
      "text/plain": [
       "<matplotlib.legend.Legend at 0x246b344d880>"
      ]
     },
     "execution_count": 2,
     "metadata": {},
     "output_type": "execute_result"
    },
    {
     "data": {
      "image/png": "[encoded data removed]",
      "text/plain": [
       "<Figure size 576x432 with 1 Axes>"
      ]
     },
     "metadata": {
      "needs_background": "light"
     },
     "output_type": "display_data"
    }
   ],
   "source": [
    "# plot model assumptions about mu\n",
    "\n",
    "# plot setup\n",
    "plt.rcParams['font.size'] = 12\n",
    "colors = ['#2f6e9e', '#9e2f36']\n",
    "f, ax = plt.subplots(1, 1, figsize=(8, 6))\n",
    "distri = stats.norm(0, np.sqrt(1))\n",
    "x = np.linspace(-5, 5, 401)\n",
    "\n",
    "# generate model pdfs\n",
    "x_pdf_m0 = [0] * 200 + [1] + [0] * 200\n",
    "x_pdf_m1 = distri.pdf(x)\n",
    "\n",
    "# plot pdfs\n",
    "ax.plot(x, x_pdf_m0, label=r'$\\mu$ = {}'.format(0), color=colors[0], lw=2.5, alpha=0.8)\n",
    "ax.plot(x, x_pdf_m1, label=r'$\\mu \\sim N(\\mu_0$={}, $\\tau_0$={})'.format(0, 1), color=colors[1], lw=2.5, alpha=0.8)\n",
    "ax.set_ylabel('Density')\n",
    "ax.spines['right'].set_visible(False)\n",
    "ax.spines['top'].set_visible(False)\n",
    "ax.set_xlabel('$\\\\mu$')\n",
    "ax.legend(fontsize=12)"
   ]
  },
  {
   "cell_type": "markdown",
   "metadata": {},
   "source": [
    "# Utility functions"
   ]
  },
  {
   "cell_type": "code",
   "execution_count": 3,
   "metadata": {
    "code_folding": [
     0,
     40,
     62,
     90,
     118
    ]
   },
   "outputs": [],
   "source": [
    "# Plotting for training with fixed numbers of clusters and observations\n",
    "\n",
    "def plot_confusion_matrix(m_true, m_pred, model_names, ax, normalize=True, \n",
    "                          cmap=plt.cm.Blues, annotate=True):\n",
    "    \"\"\"\n",
    "    Helper function to print and plot the confusion matrix. \n",
    "    Normalization can be applied by setting `normalize=True`.\n",
    "    \"\"\"\n",
    "\n",
    "\n",
    "    # Compute confusion matrix\n",
    "    cm = confusion_matrix(m_true, m_pred)\n",
    "\n",
    "    if normalize:\n",
    "        cm = cm.astype('float') / cm.sum(axis=1)[:, np.newaxis]\n",
    "\n",
    "    im = ax.imshow(cm, interpolation='nearest', cmap=cmap)\n",
    "    ax.figure.colorbar(im, ax=ax)\n",
    "    # We want to show all ticks...\n",
    "    ax.set(xticks=np.arange(cm.shape[1]),\n",
    "           yticks=np.arange(cm.shape[0]),\n",
    "           xticklabels=model_names, yticklabels=model_names,\n",
    "           ylabel='True Model',\n",
    "           xlabel='Predicted Model')\n",
    "\n",
    "    # Rotate the tick labels and set their alignment.\n",
    "    plt.setp(ax.get_xticklabels(), rotation=45, ha=\"right\",\n",
    "             rotation_mode=\"anchor\")\n",
    "\n",
    "    # Loop over data dimensions and create text annotations.\n",
    "    if annotate:\n",
    "        fmt = '.2f' if normalize else 'd'\n",
    "        thresh = cm.max() / 2.\n",
    "        for i in range(cm.shape[0]):\n",
    "            for j in range(cm.shape[1]):\n",
    "                ax.text(j, i, format(cm[i, j], fmt),\n",
    "                        ha=\"center\", va=\"center\",\n",
    "                        color=\"white\" if cm[i, j] > thresh else \"black\")\n",
    "    ax.set_title('Confusion Matrix')\n",
    "\n",
    "    \n",
    "def plot_calibration_curve(m_true, m_pred, n_bins, ax):\n",
    "    \"\"\"Helper function to plot calibration curve and ece.\"\"\"\n",
    "    \n",
    "    prob_true, prob_pred = calibration_curve(m_true, m_pred, n_bins=n_bins)\n",
    "    cal_err = np.mean(np.abs(prob_true - prob_pred))\n",
    "    ax.plot(prob_true, prob_pred)\n",
    "    ax.set_xlim([0, 1])\n",
    "    ax.set_ylim([0, 1])\n",
    "    ax.plot(ax.get_xlim(), ax.get_xlim(), '--')\n",
    "    ax.set_xticks([0.2, 0.4, 0.6, 0.8, 1.0])\n",
    "    ax.set_yticks([0.2, 0.4, 0.6, 0.8, 1.0])\n",
    "    ax.set_xlabel('Accuracy')\n",
    "    ax.set_ylabel('Confidence')\n",
    "    ax.text(0.1, 0.9,  'ECE = {0:.3f}'.format(cal_err),\n",
    "                        horizontalalignment='left',\n",
    "                        verticalalignment='center',\n",
    "                        transform=ax.transAxes,\n",
    "                        size=12)\n",
    "    ax.set_title('Calibration')\n",
    "    sns.despine(ax=ax)\n",
    "    \n",
    "    \n",
    "def plot_bootstrap_accuracy(m_true, m_pred, n_bootstrap, ax):\n",
    "    \"\"\"Helper function to plot the bootstrap accuracy of recovery.\"\"\"\n",
    "    \n",
    "    \n",
    "    n_test = m_true.shape[0]\n",
    "    accs = []\n",
    "    for bi in range(n_bootstrap):\n",
    "        b_idx = np.random.choice(np.random.permutation(n_test), size=n_test, replace=True)\n",
    "        m_true_b, m_pred_b = m_true[b_idx], m_pred[b_idx]\n",
    "        accs.append(accuracy_score(m_true_b, m_pred_b))\n",
    "    \n",
    "    sns.histplot(accs, ax=ax, stat='probability')\n",
    "    sns.despine(ax=ax)\n",
    "    ax.set_xlabel('Accuracy')\n",
    "    ax.set_ylabel('')\n",
    "    ax.yaxis.set_ticks([])\n",
    "    ax.text(0.05, 0.9,  'Bootstrap accuracy = {0:.3f}'.format(np.mean(accs)),\n",
    "                        horizontalalignment='left',\n",
    "                        verticalalignment='center',\n",
    "                        transform=ax.transAxes,\n",
    "                        size=12)\n",
    "    ax.text(0.05, 0.8,  'SD = {0:.3f}'.format(np.std(accs)),\n",
    "                        horizontalalignment='left',\n",
    "                        verticalalignment='center',\n",
    "                        transform=ax.transAxes,\n",
    "                        size=12)\n",
    "    \n",
    "    \n",
    "def plot_bootstrap_mae(m_true, m_pred, n_bootstrap, ax):\n",
    "    \"\"\"Helper function to plot the bootstrap accuracy of recovery.\"\"\"\n",
    "    \n",
    "    \n",
    "    n_test = m_true.shape[0]\n",
    "    maes = []\n",
    "    for bi in range(n_bootstrap):\n",
    "        b_idx = np.random.choice(np.random.permutation(n_test), size=n_test, replace=True)\n",
    "        m_true_b, m_pred_b = m_true[b_idx], m_pred[b_idx]\n",
    "        maes.append(mean_absolute_error(m_true_b, m_pred_b))\n",
    "    \n",
    "    sns.histplot(maes, ax=ax, stat='probability')\n",
    "    sns.despine(ax=ax)\n",
    "    ax.set_xlabel('MAE')\n",
    "    ax.set_ylabel('')\n",
    "    ax.yaxis.set_ticks([])\n",
    "    ax.text(0.05, 0.9,  'Mean MAE = {0:.3f}'.format(np.mean(maes)),\n",
    "                        horizontalalignment='left',\n",
    "                        verticalalignment='center',\n",
    "                        transform=ax.transAxes,\n",
    "                        size=12)\n",
    "    ax.text(0.05, 0.8,  'SD = {0:.3f}'.format(np.std(maes)),\n",
    "                        horizontalalignment='left',\n",
    "                        verticalalignment='center',\n",
    "                        transform=ax.transAxes,\n",
    "                        size=12)\n",
    "    \n",
    "\n",
    "def perf_tester(model, val_data, n_bootstrap=100, n_cal_bins=15):\n",
    "    \"\"\"Utility function to test the performance of the model.\"\"\"\n",
    "    \n",
    "    # Compute model predictions in chunks so GPU memory does not blow-up\n",
    "    m_soft = tf.concat([model(x_chunk) for x_chunk in tf.split(val_data['X'], 20)], axis=0).numpy()\n",
    "    m_hard = (m_soft > 0.5).astype(np.int32)\n",
    "    m_true = val_data['m']\n",
    "    \n",
    "    # Prepare figures\n",
    "    fig, axarr = plt.subplots(2, 2, figsize=(16, 8))\n",
    "    \n",
    "    # Plot stuff\n",
    "    plot_calibration_curve(m_true, m_soft, n_cal_bins, axarr[0, 0])\n",
    "    plot_confusion_matrix(m_true, m_hard, ['M1', 'M2'], axarr[0, 1])\n",
    "    plot_bootstrap_accuracy(m_true, m_hard, n_bootstrap, axarr[1, 0])\n",
    "    plot_bootstrap_mae(m_true, m_hard, n_bootstrap, axarr[1, 1])\n",
    "    fig.tight_layout()"
   ]
  },
  {
   "cell_type": "code",
   "execution_count": 4,
   "metadata": {},
   "outputs": [],
   "source": [
    "# Plotting for training with fixed numbers of clusters and variable number of observations\n",
    "\n",
    "def plot_eces_over_obs(m_true, m_pred, n_obs_min, n_obs_max, n_bins):\n",
    "    \"\"\"Helper function to plot ece as a function of N.\"\"\"\n",
    "\n",
    "    f, ax = plt.subplots(1, 1, figsize=(8, 6))\n",
    "    \n",
    "    n_obs_points = np.arange(n_obs_min, n_obs_max+1)\n",
    "    prob_true, prob_pred, cal_err = ([] for i in range(3))\n",
    "    \n",
    "    for i in n_obs_points-1:\n",
    "        prob_true_i, prob_pred_i = calibration_curve(m_true[i], m_pred[i], n_bins=n_bins)\n",
    "        prob_true.append(prob_true_i)\n",
    "        prob_pred.append(prob_pred_i)\n",
    "        cal_err_i = np.mean(np.abs(prob_true[i] - prob_pred[i]))\n",
    "        cal_err.append(cal_err_i)\n",
    "    ax.plot(n_obs_points, cal_err)\n",
    "    mean_ece = np.mean(cal_err)\n",
    "    sd_ece = np.std(cal_err)\n",
    "    plt.axhline(y=mean_ece, color='tab:red')\n",
    "    plt.fill_between(n_obs_points, mean_ece-3*sd_ece, mean_ece+3*sd_ece, \n",
    "                     color='tab:red', alpha=0.1)\n",
    "    ax.set_xlim([0, n_obs_max])\n",
    "    ax.set_ylim([0, 1])\n",
    "    ax.set_xlabel('N')\n",
    "    ax.set_ylabel('ECE')\n",
    "    ax.text(0.1, 0.9,  'Mean ECE = {0:.3f}'.format(mean_ece),\n",
    "                        horizontalalignment='left',\n",
    "                        verticalalignment='center',\n",
    "                        transform=ax.transAxes,\n",
    "                        size=12)\n",
    "    ax.text(0.1, 0.85,  'Shaded region: Mean ECE +/- 3SD ',\n",
    "                        horizontalalignment='left',\n",
    "                        verticalalignment='center',\n",
    "                        transform=ax.transAxes,\n",
    "                        size=12)    \n",
    "    ax.set_title('Expected Calibration Error (ECE)')    \n",
    "\n",
    "\n",
    "def perf_tester_over_obs(model, val_data, n_obs_min, n_obs_max, n_bootstrap=100, n_cal_bins=15):\n",
    "    \"\"\"Utility function to test the performance of the model.\"\"\"\n",
    "    \n",
    "    # Compute model predictions in chunks so GPU memory does not blow-up\n",
    "    m_soft, m_hard, m_true = ([] for i in range(3))\n",
    "    \n",
    "    for i in range(n_obs_min-1, n_obs_max):\n",
    "        m_soft_i = tf.concat([model(x_chunk) for x_chunk in tf.split(val_data[i]['X'], 5)], axis=0).numpy()\n",
    "        m_soft.append(m_soft_i)\n",
    "        m_hard_i = (m_soft[i] > 0.5).astype(np.int32)\n",
    "        m_hard.append(m_hard_i)\n",
    "        m_true_i = val_data[i]['m']\n",
    "        m_true.append(m_true_i)\n",
    "\n",
    "    # Plot stuff\n",
    "    plot_eces_over_obs(m_true, m_soft, n_obs_min, n_obs_max, n_cal_bins)"
   ]
  },
  {
   "cell_type": "code",
   "execution_count": 5,
   "metadata": {},
   "outputs": [],
   "source": [
    "# Plotting for training with variable numbers of clusters and variable number of observations\n",
    "\n",
    "def compute_eces_variable(model, simulator, n_val_per_setting, n_clust_min, n_clust_max, n_obs_min, n_obs_max, n_cal_bins=15):\n",
    "    \"\"\"\n",
    "    Simulates validation data per setting and computes the expected calibration error of the model.\n",
    "    --------\n",
    "\n",
    "    Returns:\n",
    "    2 lists of shape((n_clust_max+1 - n_clust_min)*(n_obs_max+1 - n_obs_min)) \n",
    "    - containing the mean (1st list) / sd (2nd list) eces of all possible combinations on L and N.\n",
    "    \"\"\"\n",
    "    \n",
    "    # Create lists\n",
    "    ece_means = []\n",
    "    \n",
    "    with tqdm(total=(n_clust_max+1 - n_clust_min), desc='Loop through clusters progress') as p_bar: \n",
    "        with tqdm(total=(n_obs_max+1 - n_obs_min), desc='Loop through nested observations progress') as p_bar_within:\n",
    "            for l in range(n_clust_min, n_clust_max+1): # Loop through clusters\n",
    "                \n",
    "                p_bar_within.reset((n_obs_max+1 - n_obs_min)) # reuse 2nd bar so that screen doesn't explode\n",
    "                for n in range(n_obs_min, n_obs_max+1): # Loop through nested observations\n",
    "\n",
    "                    # Simulate validation data\n",
    "                    val_data = simulator(batch_size=n_val_per_setting, n_clust_min=l, n_clust_max=l, \n",
    "                                         n_obs_min=n, n_obs_max=n)\n",
    "\n",
    "                    # Predict model probabilities\n",
    "                    m_soft = model(val_data['X']).numpy()        \n",
    "                    m_true = val_data['m']\n",
    "\n",
    "                    # Compute calibration error\n",
    "                    prob_true, prob_pred = calibration_curve(m_true, m_soft, n_bins=n_cal_bins)\n",
    "                    cal_err = np.abs(prob_true - prob_pred)\n",
    "\n",
    "                    mean_ece = np.mean(cal_err)\n",
    "                    ece_means.append(mean_ece)\n",
    "\n",
    "                    # Update inner progess bar\n",
    "                    p_bar_within.set_postfix_str(\"Cluster {0}, Observation {1}\".format(l, n + 1))\n",
    "                    p_bar_within.update()\n",
    "\n",
    "                # Refresh inner + update outer progess bar\n",
    "                p_bar_within.refresh() \n",
    "                p_bar.set_postfix_str(\"Finished clusters: {}\".format(l))\n",
    "                p_bar.update()\n",
    "    \n",
    "    return(ece_means)\n",
    "\n",
    "\n",
    "def plot_eces_variable(ece_means, n_val_per_setting, n_clust_min, n_clust_max, n_obs_min, n_obs_max, n_cal_bins=15):\n",
    "    \"\"\" \n",
    "    Takes the ECE results from compute_eces_variable() and \n",
    "    projects them onto a 3D-plot.\n",
    "    \"\"\"\n",
    "    \n",
    "    # Prepare objects\n",
    "    f = plt.figure(figsize=(16, 12))\n",
    "    ax = plt.axes(projection='3d')\n",
    "\n",
    "    n_clust_points = np.arange(n_clust_min, n_clust_max+1)\n",
    "    n_obs_points = np.arange(n_obs_min, n_obs_max+1)\n",
    "\n",
    "    n_clust_grid, n_obs_grid = np.meshgrid(n_clust_points, n_obs_points)\n",
    "    cal_err_grid = np.reshape(ece_means, (-1, n_clust_max)) # reshape into (#clusters, #observations)\n",
    "    ax.plot_surface(n_clust_grid, n_obs_grid, cal_err_grid, cmap='coolwarm', edgecolor='none')\n",
    "\n",
    "    ax.elev = 15\n",
    "    #ax.set_xlim([n_clust_max, n_clust_min]) # UNCOMMENT FOR INSPECTION: are values close to 1 more prone to high ECEs?\n",
    "    #ax.set_ylim([n_obs_min, n_obs_max]) # UNCOMMENT FOR INSPECTION: are values close to 1 more prone to high ECEs?\n",
    "    ax.set_xlim([n_clust_min, n_clust_max]) # COMMENT IN FOR INSPECTION: are values close to 1 more prone to high ECEs?\n",
    "    ax.set_ylim([n_obs_max, n_obs_min]) # COMMENT IN FOR INSPECTION: are values close to 1 more prone to high ECEs?\n",
    "    ax.set_zlim([0, 1])\n",
    "    ax.set_xlabel('L')\n",
    "    ax.set_ylabel('N')    \n",
    "    ax.set_zlabel('ECE')\n",
    "    ax.text2D(0.05, 0.95, 'Mean ECE = {0:.3f}'.format(np.mean(ece_means)), transform=ax.transAxes)\n",
    "    ax.text2D(0.05, 0.90, 'SD around mean ECE = {0:.3f}'.format(np.std(ece_means)), transform=ax.transAxes)\n",
    "    ax.set_title('Expected Calibration Error (ECE)')\n",
    "    \n",
    "def plot_eces_means_over_obs(ece_means_over_N, ece_means_over_N_sd, n_obs_min, n_obs_max, xlabel='N', n_bins=15):\n",
    "    \"\"\"Helper function to plot ece as a function of N (or L).\"\"\"\n",
    "\n",
    "    f, ax = plt.subplots(1, 1, figsize=(8, 6))\n",
    "    \n",
    "    n_obs_points = np.arange(n_obs_min, n_obs_max+1)\n",
    "    \n",
    "    ax.plot(n_obs_points, ece_means_over_N)\n",
    "    mean_ece = np.mean(ece_means_over_N)\n",
    "    sd_ece = np.std(ece_means_over_N)\n",
    "    plt.axhline(y=mean_ece, color='tab:red')\n",
    "    plt.fill_between(n_obs_points, mean_ece-3*sd_ece, mean_ece+3*sd_ece, \n",
    "                     color='tab:red', alpha=0.1)\n",
    "    ax.set_xlim([0, n_obs_max])\n",
    "    ax.set_ylim([0, 1])\n",
    "    ax.set_xlabel(xlabel)\n",
    "    ax.set_ylabel('ECE')\n",
    "    ax.text(0.1, 0.9,  'Mean ECE = {0:.3f}'.format(mean_ece),\n",
    "                        horizontalalignment='left',\n",
    "                        verticalalignment='center',\n",
    "                        transform=ax.transAxes,\n",
    "                        size=12)\n",
    "    ax.text(0.1, 0.85,  'Shaded region: Mean ECE +/- 3SD ',\n",
    "                        horizontalalignment='left',\n",
    "                        verticalalignment='center',\n",
    "                        transform=ax.transAxes,\n",
    "                        size=12)    \n",
    "    ax.set_title('Expected Calibration Error (ECE)')    "
   ]
  },
  {
   "cell_type": "markdown",
   "metadata": {},
   "source": [
    "# Simulator class"
   ]
  },
  {
   "cell_type": "code",
   "execution_count": 6,
   "metadata": {
    "code_folding": [
     5,
     28,
     41,
     63
    ]
   },
   "outputs": [],
   "source": [
    "class HierarchicalNormalSimulator:\n",
    "    \n",
    "    def __init__(self):    \n",
    "        pass\n",
    "    \n",
    "    def draw_from_prior(self, model_index, n_clusters, mu0, tau20, alpha_t, beta_t, alpha_s, beta_s):\n",
    "        \"\"\"\n",
    "        Draws parameter values from the specified prior distributions of the \n",
    "        hyperprior and the conditional prior.\n",
    "        ----------\n",
    "        \n",
    "        Arguments:\n",
    "        model_index : int -- index of the model to be simulated from\n",
    "        n_clusters : int -- number of higher order clusters that the observations are nested in\n",
    "        mu0        : float -- higher order mean prior - mean\n",
    "        tau20      : float -- higher order mean prior - variance\n",
    "        alpha_t    : float -- higher order variance prior - shape parameter\n",
    "        beta_t     : float -- higher order variance prior - rate parameter\n",
    "        alpha_s    : float -- variance prior - shape parameter\n",
    "        beta_s     : float -- variance prior - rate parameter\n",
    "        \"\"\"\n",
    "        \n",
    "        if model_index == 0: \n",
    "            mu = 0 # must be mu=0 // mu=5 for quick model convergence checks\n",
    "        if model_index == 1:\n",
    "            mu = np.random.normal(loc=mu0, scale=np.sqrt(tau20))\n",
    "            \n",
    "        tau2 = 1/np.random.gamma(alpha_t, beta_t)\n",
    "        sigma2 = 1/np.random.gamma(alpha_s, beta_s)\n",
    "        theta = np.random.normal(loc=mu, scale=np.sqrt(tau2), size=n_clusters)\n",
    "        return theta, sigma2\n",
    "    \n",
    "    def gen_from_likelihood(self, theta, sigma2, n_obs):\n",
    "        \"\"\"\n",
    "        Generates a single hierarchical dataset from the sampled parameter values.\n",
    "        ----------\n",
    "        \n",
    "        Arguments: \n",
    "        params : list -- parameters sampled from prior \n",
    "        n_obs  : int -- number of observations per cluster\n",
    "        \"\"\"\n",
    "        \n",
    "        X = np.random.normal(loc=theta, scale=sigma2, size=(n_obs, theta.shape[0])).T \n",
    "        return X\n",
    "    \n",
    "    def generate_single(self, model_index, n_clusters, n_obs, mu0=0, tau20=1, alpha_t=1, beta_t=1, alpha_s=1, beta_s=1):\n",
    "        \"\"\"\n",
    "        Generates a single hierarchical dataset utilizing the draw_from_prior and gen_from_likelihood functions.\n",
    "        ----------\n",
    "        \n",
    "        Arguments:\n",
    "        model_index : int -- index of the model to be simulated from\n",
    "        n_clusters  : int -- number of higher order clusters that the observations are nested in\n",
    "        n_obs       : int -- number of observations per cluster\n",
    "        mu0         : float -- higher order mean prior - mean\n",
    "        tau20       : float -- higher order mean prior - variance\n",
    "        alpha_t     : float -- higher order variance prior - shape parameter\n",
    "        beta_t      : float -- higher order variance prior - rate parameter\n",
    "        alpha_s     : float -- variance prior - shape parameter\n",
    "        beta_s      : float -- variance prior - rate parameter\n",
    "        --------\n",
    "        \n",
    "        Returns:\n",
    "        numpy array of shape (n_clusters, n_obs, n_variables) - contains the simulated hierarchical datasets\n",
    "        \"\"\"\n",
    "        theta, sigma2 = self.draw_from_prior(model_index, n_clusters, mu0, tau20, alpha_t, beta_t, alpha_s, beta_s)\n",
    "        x_generated = self.gen_from_likelihood(theta, sigma2, n_obs)\n",
    "        return x_generated[...,np.newaxis]\n",
    "        \n",
    "    def simulate(self, batch_size, n_models, n_clusters, n_obs, mu0=0, tau20=1, alpha_t=1, beta_t=1, alpha_s=1, beta_s=1):\n",
    "        \"\"\"\n",
    "        Simulates multiple hierarchical datasets. Useful for single usage and debugging (both without the MainSimulator).\n",
    "        ----------\n",
    "        \n",
    "        Arguments:\n",
    "        batch_size  : int -- number of batches to be generated\n",
    "        n_models    : int -- number of models to be simulated from\n",
    "        n_clusters  : int -- number of higher order clusters that the observations are nested in\n",
    "        n_obs       : int -- number of observations per cluster\n",
    "        n_variables : int -- number of variables in the simulated datasets \n",
    "        mu0         : float -- higher order mean prior - mean\n",
    "        tau20       : float -- higher order mean prior - variance\n",
    "        alpha_t     : float -- higher order variance prior - shape parameter\n",
    "        beta_t      : float -- higher order variance prior - rate parameter\n",
    "        alpha_s     : float -- variance prior - shape parameter\n",
    "        beta_s      : float -- variance prior - rate parameter\n",
    "        --------\n",
    "        \n",
    "        Returns:\n",
    "        numpy array of shape (batch_size * n_models, n_clusters, n_obs, n_variables) - contains the simulated hierarchical datasets\n",
    "        \"\"\"\n",
    "        \n",
    "        X = []\n",
    "        for b in range(batch_size):\n",
    "            prior_sample = self.draw_from_prior(n_clusters, mu0, tau20, alpha_t, beta_t, alpha_s, beta_s)\n",
    "            x_generated = self.gen_from_likelihood(prior_sample, n_obs)\n",
    "            X.append(x_generated)\n",
    "        return np.array(X)[...,np.newaxis]"
   ]
  },
  {
   "cell_type": "code",
   "execution_count": 179,
   "metadata": {},
   "outputs": [],
   "source": [
    "class BinaryTruthSimulator:\n",
    "    \n",
    "    def __init__(self):    \n",
    "        pass\n",
    "    \n",
    "    def draw_from_prior(self, model_index, n_clusters):\n",
    "        \"\"\"\n",
    "        Draws parameter values from the specified prior distributions of the \n",
    "        hyperprior and the conditional prior.\n",
    "        ----------\n",
    "        \n",
    "        Arguments:        \n",
    "        model_index : int -- index of the model to be simulated from\n",
    "        n_clusters : int -- number of higher order clusters that the observations are nested in\n",
    "        \"\"\"\n",
    "        \n",
    "        if model_index == 0: # Null model\n",
    "            theta_i = np.repeat(0, n_clusters)\n",
    "        \n",
    "        else:\n",
    "            # g-prior for location param\n",
    "            rscale = 0.5\n",
    "            prior_g_nu = 1/np.random.gamma(shape=.5, scale=(rscale**2)/2)\n",
    "            prior_nu = np.random.normal(0, np.sqrt(prior_g_nu))\n",
    "            \n",
    "        if model_index == 1: # Common-effect model \n",
    "            theta_i = np.repeat(prior_nu, n_clusters)\n",
    "            \n",
    "        if model_index == 2: # Positive-effects model\n",
    "            theta_i = stats.truncnorm.rvs(loc=prior_nu, scale=1, a=-prior_nu, b=np.inf, size=n_clusters)\n",
    "            \n",
    "        if model_index == 3: # Unconstrained model\n",
    "            # g-prior for scale param\n",
    "            rscale = 0.5\n",
    "            prior_g_theta = 1/np.random.gamma(shape=.5, scale=(rscale**2)/2)\n",
    "            \n",
    "            theta_i = np.random.normal(prior_nu, np.sqrt(prior_g_theta), size=n_clusters)\n",
    "            \n",
    "        # Scale param for alpha_i: prior_g_alpha\n",
    "        prior_g_alpha = 1/np.random.gamma(2**2)\n",
    "\n",
    "        # Scale param for beta: prior_g_beta\n",
    "        prior_g_beta = 1/np.random.gamma(2**2)\n",
    "        \n",
    "        # Final priors for linear model (additional to theta_i)\n",
    "        mu = np.random.normal(0, 1) # Grand mean intercept # just standard-normal instead of Jeffreys prior as we don't have sigma anymore\n",
    "        alpha_i = np.random.normal(0, prior_g_alpha, size=n_clusters) # Person-specific intercept\n",
    "        beta = np.random.normal(0, prior_g_beta) # Effect of factual truth of statement\n",
    "        return mu, alpha_i, beta, theta_i\n",
    "    \n",
    "    def gen_from_likelihood(self, mu, alpha_i, beta, theta_i, n_clusters, n_obs):\n",
    "        \"\"\"\n",
    "        Generates a single hierarchical dataset from the sampled parameter values.\n",
    "        ----------\n",
    "        \n",
    "        Arguments: \n",
    "        params : list -- parameters sampled from prior \n",
    "        n_obs  : int -- number of observations per cluster\n",
    "        \"\"\"\n",
    "        \n",
    "        t_j = np.random.binomial(n=1, p=.5, size=n_obs) # truth status of statement j \n",
    "        x_k = np.random.binomial(n=1, p=.5, size=n_obs) # repetition condition (new=0 / old=1) \n",
    "        # check if both vectors have equal length (satisfied if n_obs is dividable by 4 without rest)\n",
    "        #assert len(t_j)==len(x_k), 't_j and x_k have unequal lengths! Is n_obs dividable by 4?' \n",
    "        \n",
    "        # Specify linear model\n",
    "        lin_model = (mu + alpha_i)[..., np.newaxis] + t_j*beta + x_k*theta_i[..., np.newaxis]\n",
    "\n",
    "        # Optional: surpress overflow and following true_divide warnings\n",
    "        #np.seterr(over='ignore', invalid='ignore')\n",
    "        \n",
    "        # Obtain p\n",
    "        p = np.exp(lin_model)/(1+np.exp(lin_model))\n",
    "        p = np.nan_to_num(p, nan=1)# replace nans stemming from overflow\n",
    "\n",
    "        # Generate x\n",
    "        X = np.random.binomial(n=1, p=p, size=(n_clusters,n_obs))\n",
    " \n",
    "        return X\n",
    "    \n",
    "    def generate_single(self, model_index, n_clusters, n_obs):\n",
    "        \"\"\"\n",
    "        Generates a single hierarchical dataset utilizing the draw_from_prior and gen_from_likelihood functions.\n",
    "        ----------\n",
    "        \n",
    "        Arguments:\n",
    "        model_index : int -- index of the model to be simulated from\n",
    "        n_clusters  : int -- number of higher order clusters that the observations are nested in\n",
    "        n_obs       : int -- number of observations per cluster\n",
    "        --------\n",
    "        \n",
    "        Returns:\n",
    "        numpy array of shape (n_clusters, n_obs, n_variables) - contains the simulated hierarchical datasets\n",
    "        \"\"\"\n",
    "        mu, alpha_i, beta, theta_i = self.draw_from_prior(model_index, n_clusters)\n",
    "        x_generated = self.gen_from_likelihood(mu, alpha_i, beta, theta_i, n_clusters, n_obs)\n",
    "        return x_generated[...,np.newaxis]"
   ]
  },
  {
   "cell_type": "code",
   "execution_count": 180,
   "metadata": {
    "code_folding": [
     2,
     6,
     32,
     67
    ]
   },
   "outputs": [],
   "source": [
    "class MainSimulator:\n",
    "    \n",
    "    def __init__(self, simulator):\n",
    "        \n",
    "        self.simulator = simulator\n",
    "    \n",
    "    def draw_from_model_prior(self, batch_size, n_models, model_prior):\n",
    "        \"\"\"\n",
    "        Creates the sequence of models to be simulated from in the batch.\n",
    "        ----------\n",
    "        \n",
    "        Arguments:\n",
    "        batch_size     : int -- number of batches to be generated\n",
    "        n_models       : int -- number of models to be simulated from\n",
    "        model_prior    : list -- prior model probabilities\n",
    "        --------\n",
    "        \n",
    "        Returns:\n",
    "        array of shape (batch_size) - array of indices corresponding to the sampled model from p(M).\n",
    "        \"\"\"\n",
    "        \n",
    "        # create base list of model indices\n",
    "        model_base_indices = [*range(n_models)]\n",
    "        \n",
    "        # uniform prior over model probabilities if no model prior given\n",
    "        if model_prior == None:\n",
    "            model_prior = [1/n_models] * n_models\n",
    "        \n",
    "        # generate sampling list of model indeces\n",
    "        model_indices = np.random.choice(model_base_indices, size=batch_size, p=model_prior)\n",
    "        return model_indices\n",
    "    \n",
    "    def simulate(self, batch_size, n_models, model_prior, \n",
    "                 n_clust_min=2, n_clust_max=100, n_obs_min=2, n_obs_max=200):\n",
    "        \"\"\"\n",
    "        Simulates a batch of hierarchical datasets.\n",
    "        ----------\n",
    "        \n",
    "        Arguments:\n",
    "        batch_size     : int -- number of datasets to be generated per batch\n",
    "        n_models       : int -- number of models to be simulated from\n",
    "        model_prior    : list -- prior model probabilities\n",
    "        n_clust_min    : int -- minimum number of clusters\n",
    "        n_clust_max    : int -- maximum number of cluster\n",
    "        n_obs_min      : int -- minimum number of observations\n",
    "        n_obs_max      : int -- maximum number of observations\n",
    "        --------\n",
    "        \n",
    "        Returns:\n",
    "        dict of {'X' : array of shape (batch_size, n_clusters, n_obs, n_variables),  \n",
    "                 'm' : array of shape (batch_size)}\n",
    "        \"\"\"\n",
    "        # Draw K and N (drawn values apply for all datasets in the batch)\n",
    "        n_clusters = np.random.randint(n_clust_min, n_clust_max+1)\n",
    "        n_obs = np.random.randint(n_obs_min, n_obs_max+1)\n",
    "        \n",
    "        # Draw sampling list of model indices\n",
    "        model_indices = self.draw_from_model_prior(batch_size, n_models, model_prior)\n",
    "        \n",
    "        # Prepare an array to hold simulations\n",
    "        X_gen = np.zeros((batch_size, n_clusters, n_obs, 1), dtype=np.float32)\n",
    "        \n",
    "        for b in range(batch_size):\n",
    "            X_gen[b] = self.simulator.generate_single(model_indices[b], n_clusters, n_obs)\n",
    "               \n",
    "        return {'X': X_gen, 'm': model_indices, 'n_clusters': n_clusters, 'n_obs': n_obs}\n",
    "    \n",
    "    def __call__(self, batch_size, n_models=2, model_prior=None, \n",
    "                 n_clust_min=2, n_clust_max=100, n_obs_min=2, n_obs_max=200):\n",
    "        return self.simulate(batch_size, n_models, model_prior, n_clust_min, n_clust_max, n_obs_min, n_obs_max)"
   ]
  },
  {
   "cell_type": "code",
   "execution_count": 194,
   "metadata": {},
   "outputs": [
    {
     "name": "stdout",
     "output_type": "stream",
     "text": [
      "Wall time: 4.5 ms\n"
     ]
    },
    {
     "data": {
      "text/plain": [
       "(32, 9, 40, 1)"
      ]
     },
     "execution_count": 194,
     "metadata": {},
     "output_type": "execute_result"
    }
   ],
   "source": [
    "%%time\n",
    "\n",
    "# Test BinaryTruthSimulator\n",
    "\n",
    "s = MainSimulator(BinaryTruthSimulator())\n",
    "s(32, n_models=4, n_clust_min=9, n_clust_max=9)['X'].shape"
   ]
  },
  {
   "cell_type": "markdown",
   "metadata": {},
   "source": [
    "# Neural networks"
   ]
  },
  {
   "cell_type": "markdown",
   "metadata": {},
   "source": [
    "## Invariant Module"
   ]
  },
  {
   "cell_type": "code",
   "execution_count": 8,
   "metadata": {
    "code_folding": [
     3,
     25
    ]
   },
   "outputs": [],
   "source": [
    "class InvariantModule(tf.keras.Model):\n",
    "    \"\"\"Implements an invariant nn module as proposed by Bloem-Reddy and Teh (2019).\"\"\"\n",
    "\n",
    "    def __init__(self, model_settings, pooler=tf.reduce_mean):\n",
    "        \"\"\"\n",
    "        Creates an invariant function with mean pooling.\n",
    "        ----------\n",
    "        \n",
    "        Arguments:\n",
    "        model_settings : dict -- hyperparameter settings for the invariant module\n",
    "        \"\"\"\n",
    "        \n",
    "        super(InvariantModule, self).__init__()\n",
    "        \n",
    "        # Pre pooling network\n",
    "        self.pre_pooling_dense = tf.keras.Sequential([tf.keras.layers.Dense(**model_settings['dense_inv_pre_pooling_args'])\n",
    "                                                     for _ in range(model_settings['n_dense_inv'])])\n",
    "        \n",
    "        self.pooler = pooler\n",
    "        \n",
    "        # Post pooling network\n",
    "        self.post_pooling_dense = tf.keras.Sequential([tf.keras.layers.Dense(**model_settings['dense_inv_post_pooling_args'])\n",
    "                                                      for _ in range(model_settings['n_dense_inv'])])\n",
    "        \n",
    "            \n",
    "    def call(self, x):\n",
    "        \"\"\"\n",
    "        Transforms the input into an invariant representation.\n",
    "        ----------\n",
    "        \n",
    "        Arguments:\n",
    "        x : tf.Tensor of variable shape - 4-dimensional with (batch_size, n_clusters, n_obs, n_variables)\n",
    "                                          or 3-dimensional with (batch_size, n_clusters, inv_embedding)\n",
    "        --------\n",
    "        \n",
    "        Returns:\n",
    "        out: tf.Tensor of variable shape - either 3-dimensional (when input is 4D) with (batch_size, n_clusters, inv_embedding)\n",
    "                                           or 2-dimensional (when input is 3D) with (batch_size, inv_embedding)\n",
    "        \"\"\"\n",
    "        \n",
    "        # Embed input before pooling\n",
    "        x_emb = self.pre_pooling_dense(x)\n",
    "        \n",
    "        # Get dimensionality of lowest exchangeable level before pooling and repeat\n",
    "        # shape of rep_N is (batch_size, K, 1) or (batch_size, 1) depending on input dimensions\n",
    "        log_N = np.log(x_emb.shape[-2])\n",
    "        if len(x.shape) == 4:\n",
    "            rep_N = np.repeat([log_N], x_emb.shape[0]*x_emb.shape[1]).reshape(x_emb.shape[0], x_emb.shape[1], 1)\n",
    "        else:\n",
    "            rep_N = np.repeat([log_N], x_emb.shape[0])[:, np.newaxis]\n",
    "        rep_N = tf.convert_to_tensor(rep_N, dtype=tf.float32)\n",
    "        \n",
    "        # Perform mean pooling, shape of pooled is (batch_size, K, dense_out)\n",
    "        pooled = self.pooler(x_emb, axis=-2) # always reduce dimensionality of the lowest exchangable data level \n",
    "        pooled = tf.concat((pooled, rep_N), axis=-1) # concatenate to preserve info about N\n",
    "        \n",
    "        # Increase representational power\n",
    "        out = self.post_pooling_dense(pooled)\n",
    "        return out"
   ]
  },
  {
   "cell_type": "code",
   "execution_count": 9,
   "metadata": {
    "code_folding": [
     5,
     29
    ]
   },
   "outputs": [],
   "source": [
    "class HierarchicalNetwork(tf.keras.Model):\n",
    "    \"\"\"\n",
    "    Implements a network that is able to process hierarchical data.\n",
    "    \"\"\"\n",
    "    \n",
    "    def __init__(self, model_settings):\n",
    "        \"\"\"\n",
    "        Creates a hierarchical Network consisting of two stacked invariant modules.\n",
    "        ----------\n",
    "        \n",
    "        Arguments:\n",
    "        model_settings : dict -- hyperparameter settings for the invariant module\n",
    "        \"\"\"\n",
    "        \n",
    "        super(HierarchicalNetwork, self).__init__()\n",
    "        \n",
    "        self.inv_4d = InvariantModule(model_settings)\n",
    "        self.inv_3d = InvariantModule(model_settings)\n",
    "        \n",
    "        # The final layer to output model evidences\n",
    "        if model_settings['n_models'] == 2: # Binary Classification\n",
    "            n_out = 1 \n",
    "            act_out = \"sigmoid\"\n",
    "        else:\n",
    "            n_out = model_settings['n_models']\n",
    "            act_out = \"softmax\"\n",
    "        self.model_probs_layer = tf.keras.layers.Dense(n_out, activation=act_out)\n",
    "        \n",
    "    def call(self, x):\n",
    "        \"\"\"\n",
    "        Transforms the 4-dimensional input into model probabilities.\n",
    "        ----------\n",
    "        \n",
    "        Arguments:\n",
    "        x : tf.Tensor of shape (batch_size, n_clusters, n_obs, n_variables)\n",
    "        --------\n",
    "        \n",
    "        Returns:\n",
    "        model_probs : tf.Tensor of shape (batch_size, n_models) -- the model posterior probabilities\n",
    "        \"\"\"\n",
    "        \n",
    "        x_3d = self.inv_4d(x)\n",
    "        x_2d = self.inv_3d(x_3d)\n",
    "        model_probs = self.model_probs_layer(x_2d)\n",
    "        return model_probs"
   ]
  },
  {
   "cell_type": "markdown",
   "metadata": {},
   "source": [
    "### Experiments"
   ]
  },
  {
   "cell_type": "markdown",
   "metadata": {},
   "source": [
    "#### Network settings"
   ]
  },
  {
   "cell_type": "code",
   "execution_count": 10,
   "metadata": {},
   "outputs": [],
   "source": [
    "# Network settings for all experiments\n",
    "model_settings = {\n",
    "    'n_models'                    : 2,\n",
    "    'dense_inv_pre_pooling_args'  : dict(units=4, activation='elu', kernel_initializer='glorot_normal'),\n",
    "    'dense_inv_post_pooling_args' : dict(units=64, activation='elu', kernel_initializer='glorot_normal'),\n",
    "    'dense_equiv_args'            : dict(units=32, activation='elu', kernel_initializer='glorot_normal'),\n",
    "    'n_dense_inv'                 : 2,\n",
    "    'n_dense_equiv'               : 2\n",
    "}"
   ]
  },
  {
   "cell_type": "markdown",
   "metadata": {},
   "source": [
    "#### Helper function for online training"
   ]
  },
  {
   "cell_type": "code",
   "execution_count": 11,
   "metadata": {
    "code_folding": [
     0
    ]
   },
   "outputs": [],
   "source": [
    "def train_online(model, optimizer, simulator, loss_fun, iterations, epochs, batch_size):\n",
    "    \"\"\"\n",
    "    Trains a Hierarchical Network.\n",
    "    ----------\n",
    "        \n",
    "    Arguments:\n",
    "    model      : the hierarchical model to be trained\n",
    "    optimizer  : the algorithm that optimizes the neural network\n",
    "    simulator  : the simulator that generates data from the hierarchical models\n",
    "    loss_fun   : the loss function that shall be minimized during training\n",
    "    iterations : int -- number of iterations per epoch\n",
    "    epochs     : int -- number of epochs \n",
    "    batch_size : int -- batch_size for training\n",
    "    --------\n",
    "        \n",
    "    Returns:\n",
    "    losses : numpy array of shape (iterations * epochs)\n",
    "    \"\"\"\n",
    "    \n",
    "    losses = dict()\n",
    "    # For loop through epochs\n",
    "    for ep in range(1, epochs+1):\n",
    "        # Init losses for this epoch\n",
    "        losses[ep] = []\n",
    "        with tqdm(total=iterations, desc='Training epoch {}'.format(ep)) as p_bar:\n",
    "            for it in range(1, iterations+1):\n",
    "                # Simulate batch of datasets\n",
    "                batch = simulator(batch_size)\n",
    "                with tf.GradientTape() as tape:\n",
    "                    # Forward pass\n",
    "                    preds_m = model(batch[\"X\"])[:,0] # [:,0] to match shape of predictions with true indices\n",
    "                    batch_m = batch[\"m\"]\n",
    "                    loss = loss_fun(batch_m, preds_m)\n",
    "                # One step backprop\n",
    "                gradients = tape.gradient(loss, model.trainable_variables)\n",
    "                optimizer.apply_gradients(zip(gradients, model.trainable_variables))\n",
    "\n",
    "                # Store losses\n",
    "                losses[ep].append(loss)\n",
    "                \n",
    "                # Update progess bar\n",
    "                p_bar.set_postfix_str(\"Epoch {0},Iteration {1},Loss: {2:.3f},Running Loss: {3:.3f}\"\n",
    "                                          .format(ep, it + 1, loss, np.mean(losses[ep])))\n",
    "                p_bar.update(1)\n",
    "    \n",
    "    return losses"
   ]
  },
  {
   "cell_type": "markdown",
   "metadata": {},
   "source": [
    "#### Training with fixed number of clusters and observations"
   ]
  },
  {
   "cell_type": "code",
   "execution_count": null,
   "metadata": {},
   "outputs": [],
   "source": [
    "# Setup\n",
    "# Calibration experiments\n",
    "\n",
    "n_clust_min = 30\n",
    "n_clust_max = 30\n",
    "n_obs_min = 50\n",
    "n_obs_max = 50"
   ]
  },
  {
   "cell_type": "code",
   "execution_count": 81,
   "metadata": {},
   "outputs": [],
   "source": [
    "# Setup\n",
    "# Calibration experiments - Check in Extrembereichen\n",
    "\n",
    "n_clust_min = 30\n",
    "n_clust_max = 30\n",
    "n_obs_min = 5\n",
    "n_obs_max = 5"
   ]
  },
  {
   "cell_type": "code",
   "execution_count": null,
   "metadata": {},
   "outputs": [],
   "source": [
    "# Setup\n",
    "# Bridge Sampling comparison\n",
    "\n",
    "n_clust_min = 53\n",
    "n_clust_max = 53\n",
    "n_obs_min = 94\n",
    "n_obs_max = 94"
   ]
  },
  {
   "cell_type": "code",
   "execution_count": 44,
   "metadata": {},
   "outputs": [],
   "source": [
    "batch_size = 32\n",
    "iterations = 1000\n",
    "epochs = 10\n",
    "\n",
    "optimizer = tf.keras.optimizers.Adam(learning_rate=0.0005)\n",
    "simulator = partial(MainSimulator(HierarchicalNormalSimulator()), \n",
    "                    n_clust_min=n_clust_min, n_clust_max=n_clust_max, \n",
    "                    n_obs_min=n_obs_min, n_obs_max=n_obs_max)\n",
    "loss_fun = tf.losses.BinaryCrossentropy()\n",
    "model = HierarchicalNetwork(model_settings)"
   ]
  },
  {
   "cell_type": "code",
   "execution_count": 82,
   "metadata": {
    "scrolled": true
   },
   "outputs": [
    {
     "data": {
      "application/vnd.jupyter.widget-view+json": {
       "model_id": "98961b55dd30495dab908238ca17b091",
       "version_major": 2,
       "version_minor": 0
      },
      "text/plain": [
       "Training epoch 1:   0%|          | 0/1000 [00:00<?, ?it/s]"
      ]
     },
     "metadata": {},
     "output_type": "display_data"
    },
    {
     "data": {
      "application/vnd.jupyter.widget-view+json": {
       "model_id": "1be4034b8280412cbf196039d9468f38",
       "version_major": 2,
       "version_minor": 0
      },
      "text/plain": [
       "Training epoch 2:   0%|          | 0/1000 [00:00<?, ?it/s]"
      ]
     },
     "metadata": {},
     "output_type": "display_data"
    },
    {
     "data": {
      "application/vnd.jupyter.widget-view+json": {
       "model_id": "c675984ab8fc4c82a9031a65986e6f56",
       "version_major": 2,
       "version_minor": 0
      },
      "text/plain": [
       "Training epoch 3:   0%|          | 0/1000 [00:00<?, ?it/s]"
      ]
     },
     "metadata": {},
     "output_type": "display_data"
    },
    {
     "data": {
      "application/vnd.jupyter.widget-view+json": {
       "model_id": "822d9fd6ed87407086c2e0093452a4d1",
       "version_major": 2,
       "version_minor": 0
      },
      "text/plain": [
       "Training epoch 4:   0%|          | 0/1000 [00:00<?, ?it/s]"
      ]
     },
     "metadata": {},
     "output_type": "display_data"
    },
    {
     "data": {
      "application/vnd.jupyter.widget-view+json": {
       "model_id": "aa90bb2485f84bfd9c25a1c50d99120f",
       "version_major": 2,
       "version_minor": 0
      },
      "text/plain": [
       "Training epoch 5:   0%|          | 0/1000 [00:00<?, ?it/s]"
      ]
     },
     "metadata": {},
     "output_type": "display_data"
    },
    {
     "data": {
      "application/vnd.jupyter.widget-view+json": {
       "model_id": "6d0aed555577451386bd95282df1ea1d",
       "version_major": 2,
       "version_minor": 0
      },
      "text/plain": [
       "Training epoch 6:   0%|          | 0/1000 [00:00<?, ?it/s]"
      ]
     },
     "metadata": {},
     "output_type": "display_data"
    },
    {
     "data": {
      "application/vnd.jupyter.widget-view+json": {
       "model_id": "b0e2e95493604ffebe965b69bc7b6f57",
       "version_major": 2,
       "version_minor": 0
      },
      "text/plain": [
       "Training epoch 7:   0%|          | 0/1000 [00:00<?, ?it/s]"
      ]
     },
     "metadata": {},
     "output_type": "display_data"
    },
    {
     "data": {
      "application/vnd.jupyter.widget-view+json": {
       "model_id": "17c9d21aaf6f46d28d6f2491de43fb0a",
       "version_major": 2,
       "version_minor": 0
      },
      "text/plain": [
       "Training epoch 8:   0%|          | 0/1000 [00:00<?, ?it/s]"
      ]
     },
     "metadata": {},
     "output_type": "display_data"
    },
    {
     "data": {
      "application/vnd.jupyter.widget-view+json": {
       "model_id": "8ec6b07dc81743a5a3828a53ce423812",
       "version_major": 2,
       "version_minor": 0
      },
      "text/plain": [
       "Training epoch 9:   0%|          | 0/1000 [00:00<?, ?it/s]"
      ]
     },
     "metadata": {},
     "output_type": "display_data"
    },
    {
     "data": {
      "application/vnd.jupyter.widget-view+json": {
       "model_id": "3a6f4816d3fa41aba1141c007f7b195c",
       "version_major": 2,
       "version_minor": 0
      },
      "text/plain": [
       "Training epoch 10:   0%|          | 0/1000 [00:00<?, ?it/s]"
      ]
     },
     "metadata": {},
     "output_type": "display_data"
    },
    {
     "name": "stdout",
     "output_type": "stream",
     "text": [
      "Wall time: 6min\n"
     ]
    }
   ],
   "source": [
    "%%time\n",
    "\n",
    "training_time_start = perf_counter()\n",
    "losses = train_online(model, optimizer, simulator, loss_fun, iterations, epochs, batch_size)\n",
    "training_time_stop = perf_counter()"
   ]
  },
  {
   "cell_type": "code",
   "execution_count": 83,
   "metadata": {},
   "outputs": [],
   "source": [
    "# Validation\n",
    "n_val = 5000\n",
    "val_data = simulator(n_val)"
   ]
  },
  {
   "cell_type": "code",
   "execution_count": 84,
   "metadata": {
    "scrolled": true
   },
   "outputs": [
    {
     "data": {
      "image/png": "[encoded data removed]",
      "text/plain": [
       "<Figure size 1152x576 with 5 Axes>"
      ]
     },
     "metadata": {
      "needs_background": "light"
     },
     "output_type": "display_data"
    }
   ],
   "source": [
    "perf_tester(model, val_data, n_cal_bins=10)"
   ]
  },
  {
   "cell_type": "markdown",
   "metadata": {
    "code_folding": [
     0,
     39,
     60,
     88,
     116
    ]
   },
   "source": [
    "#### Training with fixed numbers of clusters and variable number of observations"
   ]
  },
  {
   "cell_type": "code",
   "execution_count": 33,
   "metadata": {},
   "outputs": [],
   "source": [
    "# Experimental variables setup\n",
    "\n",
    "n_clust_min = 30\n",
    "n_clust_max =30\n",
    "n_obs_min = 1\n",
    "n_obs_max = 200"
   ]
  },
  {
   "cell_type": "code",
   "execution_count": 34,
   "metadata": {},
   "outputs": [],
   "source": [
    "# NN setup\n",
    "optimizer = tf.keras.optimizers.Adam(learning_rate=0.0005)\n",
    "simulator = partial(MainSimulator(HierarchicalNormalSimulator()), \n",
    "                    n_clust_min=n_clust_min, n_clust_max=n_clust_max, \n",
    "                    n_obs_min=n_obs_min, n_obs_max=n_obs_max)\n",
    "loss_fun = tf.losses.BinaryCrossentropy()\n",
    "model = HierarchicalNetwork(model_settings)"
   ]
  },
  {
   "cell_type": "code",
   "execution_count": 35,
   "metadata": {},
   "outputs": [
    {
     "data": {
      "application/vnd.jupyter.widget-view+json": {
       "model_id": "6605c391d01c42788f57bd930bdc0043",
       "version_major": 2,
       "version_minor": 0
      },
      "text/plain": [
       "Training epoch 1:   0%|          | 0/1000 [00:00<?, ?it/s]"
      ]
     },
     "metadata": {},
     "output_type": "display_data"
    },
    {
     "data": {
      "application/vnd.jupyter.widget-view+json": {
       "model_id": "ac42d892f5ac4b8d9073c134a6646810",
       "version_major": 2,
       "version_minor": 0
      },
      "text/plain": [
       "Training epoch 2:   0%|          | 0/1000 [00:00<?, ?it/s]"
      ]
     },
     "metadata": {},
     "output_type": "display_data"
    },
    {
     "data": {
      "application/vnd.jupyter.widget-view+json": {
       "model_id": "f1a07cf6bfcb4ecabcaf165acfa7ebc4",
       "version_major": 2,
       "version_minor": 0
      },
      "text/plain": [
       "Training epoch 3:   0%|          | 0/1000 [00:00<?, ?it/s]"
      ]
     },
     "metadata": {},
     "output_type": "display_data"
    },
    {
     "data": {
      "application/vnd.jupyter.widget-view+json": {
       "model_id": "fccaf7dd1df14400bc849a40e5cb9b93",
       "version_major": 2,
       "version_minor": 0
      },
      "text/plain": [
       "Training epoch 4:   0%|          | 0/1000 [00:00<?, ?it/s]"
      ]
     },
     "metadata": {},
     "output_type": "display_data"
    },
    {
     "data": {
      "application/vnd.jupyter.widget-view+json": {
       "model_id": "9a67178cec6448e58371f450f278d725",
       "version_major": 2,
       "version_minor": 0
      },
      "text/plain": [
       "Training epoch 5:   0%|          | 0/1000 [00:00<?, ?it/s]"
      ]
     },
     "metadata": {},
     "output_type": "display_data"
    },
    {
     "data": {
      "application/vnd.jupyter.widget-view+json": {
       "model_id": "cbe5c9aa3386434e815de7017e2d1dae",
       "version_major": 2,
       "version_minor": 0
      },
      "text/plain": [
       "Training epoch 6:   0%|          | 0/1000 [00:00<?, ?it/s]"
      ]
     },
     "metadata": {},
     "output_type": "display_data"
    },
    {
     "data": {
      "application/vnd.jupyter.widget-view+json": {
       "model_id": "d142f82a12d0405e9f1071defbbbdba8",
       "version_major": 2,
       "version_minor": 0
      },
      "text/plain": [
       "Training epoch 7:   0%|          | 0/1000 [00:00<?, ?it/s]"
      ]
     },
     "metadata": {},
     "output_type": "display_data"
    },
    {
     "data": {
      "application/vnd.jupyter.widget-view+json": {
       "model_id": "7e30e10a474f448182de25bdfa6fe34a",
       "version_major": 2,
       "version_minor": 0
      },
      "text/plain": [
       "Training epoch 8:   0%|          | 0/1000 [00:00<?, ?it/s]"
      ]
     },
     "metadata": {},
     "output_type": "display_data"
    },
    {
     "data": {
      "application/vnd.jupyter.widget-view+json": {
       "model_id": "326c62c6af11495d8e507d4043a64c79",
       "version_major": 2,
       "version_minor": 0
      },
      "text/plain": [
       "Training epoch 9:   0%|          | 0/1000 [00:00<?, ?it/s]"
      ]
     },
     "metadata": {},
     "output_type": "display_data"
    },
    {
     "data": {
      "application/vnd.jupyter.widget-view+json": {
       "model_id": "ab88d4e60eff41f7bdb9865066290552",
       "version_major": 2,
       "version_minor": 0
      },
      "text/plain": [
       "Training epoch 10:   0%|          | 0/1000 [00:00<?, ?it/s]"
      ]
     },
     "metadata": {},
     "output_type": "display_data"
    },
    {
     "name": "stdout",
     "output_type": "stream",
     "text": [
      "Wall time: 3min 22s\n"
     ]
    }
   ],
   "source": [
    "%%time\n",
    "losses = train_online(model, optimizer, simulator, loss_fun, iterations, epochs, batch_size)"
   ]
  },
  {
   "cell_type": "code",
   "execution_count": 39,
   "metadata": {},
   "outputs": [],
   "source": [
    "# Validation setup\n",
    "n_val_per_setting = 5000\n",
    "simulator = MainSimulator(HierarchicalNormalSimulator())"
   ]
  },
  {
   "cell_type": "code",
   "execution_count": 40,
   "metadata": {},
   "outputs": [
    {
     "name": "stdout",
     "output_type": "stream",
     "text": [
      "Iteration 10 finished\n",
      "Iteration 20 finished\n",
      "Iteration 30 finished\n",
      "Iteration 40 finished\n",
      "Iteration 50 finished\n",
      "Iteration 60 finished\n",
      "Iteration 70 finished\n",
      "Iteration 80 finished\n",
      "Iteration 90 finished\n",
      "Iteration 100 finished\n",
      "Iteration 110 finished\n",
      "Iteration 120 finished\n",
      "Iteration 130 finished\n",
      "Iteration 140 finished\n",
      "Iteration 150 finished\n",
      "Iteration 160 finished\n",
      "Iteration 170 finished\n",
      "Iteration 180 finished\n",
      "Iteration 190 finished\n",
      "Iteration 200 finished\n"
     ]
    }
   ],
   "source": [
    "# Generate data for each setting\n",
    "\n",
    "# Create list of validation data\n",
    "val_data = []\n",
    "for i in range(n_obs_min, n_obs_max+1):\n",
    "    sim_data = simulator(n_val_per_setting, n_clust_min=n_clust_min, n_clust_max=n_clust_max, \n",
    "                         n_obs_min=i, n_obs_max=i)\n",
    "    val_data.append(sim_data)\n",
    "    if i%10 == 0:\n",
    "        print('Iteration {} finished'.format(i))"
   ]
  },
  {
   "cell_type": "code",
   "execution_count": 41,
   "metadata": {
    "scrolled": false
   },
   "outputs": [
    {
     "name": "stdout",
     "output_type": "stream",
     "text": [
      "Wall time: 9.16 s\n"
     ]
    },
    {
     "data": {
      "image/png": "[encoded data removed]",
      "text/plain": [
       "<Figure size 576x432 with 1 Axes>"
      ]
     },
     "metadata": {
      "needs_background": "light"
     },
     "output_type": "display_data"
    }
   ],
   "source": [
    "%%time\n",
    "\n",
    "perf_tester_over_obs(model, val_data, n_obs_min, n_obs_max)"
   ]
  },
  {
   "cell_type": "markdown",
   "metadata": {},
   "source": [
    "#### Training with variable numbers of clusters and observations"
   ]
  },
  {
   "cell_type": "code",
   "execution_count": 50,
   "metadata": {},
   "outputs": [],
   "source": [
    "# Setup\n",
    "# Calibration experiments\n",
    "\n",
    "n_clust_min = 1\n",
    "n_clust_max = 50\n",
    "n_obs_min = 1\n",
    "n_obs_max = 200"
   ]
  },
  {
   "cell_type": "code",
   "execution_count": 13,
   "metadata": {},
   "outputs": [],
   "source": [
    "# Setup\n",
    "# Bridge Sampling comparison\n",
    "n_clust_min = 1\n",
    "n_clust_max = 100\n",
    "n_obs_min = 50\n",
    "n_obs_max = 150"
   ]
  },
  {
   "cell_type": "code",
   "execution_count": 14,
   "metadata": {},
   "outputs": [],
   "source": [
    "optimizer = tf.keras.optimizers.Adam(learning_rate=0.0005)\n",
    "simulator = partial(MainSimulator(HierarchicalNormalSimulator()), \n",
    "                    n_clust_min=n_clust_min, n_clust_max=n_clust_max, \n",
    "                    n_obs_min=n_obs_min, n_obs_max=n_obs_max)\n",
    "loss_fun = tf.losses.BinaryCrossentropy()\n",
    "model = HierarchicalNetwork(model_settings)"
   ]
  },
  {
   "cell_type": "code",
   "execution_count": 15,
   "metadata": {},
   "outputs": [
    {
     "data": {
      "application/vnd.jupyter.widget-view+json": {
       "model_id": "e817d443ba284c87a7507c30c45c19ab",
       "version_major": 2,
       "version_minor": 0
      },
      "text/plain": [
       "Training epoch 1:   0%|          | 0/1000 [00:00<?, ?it/s]"
      ]
     },
     "metadata": {},
     "output_type": "display_data"
    },
    {
     "data": {
      "application/vnd.jupyter.widget-view+json": {
       "model_id": "510aa75ea35d4208a992a24c1b5e6dc6",
       "version_major": 2,
       "version_minor": 0
      },
      "text/plain": [
       "Training epoch 2:   0%|          | 0/1000 [00:00<?, ?it/s]"
      ]
     },
     "metadata": {},
     "output_type": "display_data"
    },
    {
     "data": {
      "application/vnd.jupyter.widget-view+json": {
       "model_id": "89c1bad8f21048819e6e7867cee229f9",
       "version_major": 2,
       "version_minor": 0
      },
      "text/plain": [
       "Training epoch 3:   0%|          | 0/1000 [00:00<?, ?it/s]"
      ]
     },
     "metadata": {},
     "output_type": "display_data"
    },
    {
     "data": {
      "application/vnd.jupyter.widget-view+json": {
       "model_id": "9416e490ffac4948acbf8f953c989dd7",
       "version_major": 2,
       "version_minor": 0
      },
      "text/plain": [
       "Training epoch 4:   0%|          | 0/1000 [00:00<?, ?it/s]"
      ]
     },
     "metadata": {},
     "output_type": "display_data"
    },
    {
     "data": {
      "application/vnd.jupyter.widget-view+json": {
       "model_id": "8845c98c269b4eefa6b5e55e09808dbe",
       "version_major": 2,
       "version_minor": 0
      },
      "text/plain": [
       "Training epoch 5:   0%|          | 0/1000 [00:00<?, ?it/s]"
      ]
     },
     "metadata": {},
     "output_type": "display_data"
    },
    {
     "data": {
      "application/vnd.jupyter.widget-view+json": {
       "model_id": "344c2612aa894034a71ce3f3fa6f0097",
       "version_major": 2,
       "version_minor": 0
      },
      "text/plain": [
       "Training epoch 6:   0%|          | 0/1000 [00:00<?, ?it/s]"
      ]
     },
     "metadata": {},
     "output_type": "display_data"
    },
    {
     "data": {
      "application/vnd.jupyter.widget-view+json": {
       "model_id": "157687f804fc444fa30df2421300495b",
       "version_major": 2,
       "version_minor": 0
      },
      "text/plain": [
       "Training epoch 7:   0%|          | 0/1000 [00:00<?, ?it/s]"
      ]
     },
     "metadata": {},
     "output_type": "display_data"
    },
    {
     "data": {
      "application/vnd.jupyter.widget-view+json": {
       "model_id": "7dcc6dcbb9c944d2a680bc9145121cbc",
       "version_major": 2,
       "version_minor": 0
      },
      "text/plain": [
       "Training epoch 8:   0%|          | 0/1000 [00:00<?, ?it/s]"
      ]
     },
     "metadata": {},
     "output_type": "display_data"
    },
    {
     "data": {
      "application/vnd.jupyter.widget-view+json": {
       "model_id": "ca217cdd314b445cb5316834fb9fde75",
       "version_major": 2,
       "version_minor": 0
      },
      "text/plain": [
       "Training epoch 9:   0%|          | 0/1000 [00:00<?, ?it/s]"
      ]
     },
     "metadata": {},
     "output_type": "display_data"
    },
    {
     "data": {
      "application/vnd.jupyter.widget-view+json": {
       "model_id": "c9f764dc70c444afb2e98f60a2663a30",
       "version_major": 2,
       "version_minor": 0
      },
      "text/plain": [
       "Training epoch 10:   0%|          | 0/1000 [00:00<?, ?it/s]"
      ]
     },
     "metadata": {},
     "output_type": "display_data"
    },
    {
     "name": "stdout",
     "output_type": "stream",
     "text": [
      "Wall time: 11min 42s\n"
     ]
    }
   ],
   "source": [
    "%%time\n",
    "\n",
    "training_time_start = perf_counter()\n",
    "losses = train_online(model, optimizer, simulator, loss_fun, iterations, epochs, batch_size)\n",
    "training_time_stop = perf_counter()"
   ]
  },
  {
   "cell_type": "code",
   "execution_count": 18,
   "metadata": {},
   "outputs": [],
   "source": [
    "# Validation setup\n",
    "n_val_per_setting = 5000\n",
    "simulator = MainSimulator(HierarchicalNormalSimulator())"
   ]
  },
  {
   "cell_type": "code",
   "execution_count": null,
   "metadata": {},
   "outputs": [],
   "source": [
    "# Compute ECEs\n",
    "ece_means = compute_eces_variable(model, simulator, n_val_per_setting, n_clust_min, n_clust_max, n_obs_min, n_obs_max)"
   ]
  },
  {
   "cell_type": "code",
   "execution_count": 48,
   "metadata": {},
   "outputs": [],
   "source": [
    "# Export ECE data\n",
    "#local_timezone = datetime.now(timezone(timedelta(0))).astimezone().tzinfo\n",
    "#filename = pd.Timestamp.today(tz=local_timezone).strftime('%Y_%m_%d___%H_%M_variable_clusters_variable_obs_eces_20,000_steps')\n",
    "#val_folder = os.path.join(os.getcwd(),'data', 'Validation_datasets')\n",
    "#np.save(os.path.join(val_folder, filename), ece_means)\n",
    "\n",
    "# Load ECE data\n",
    "val_folder = os.path.join(os.getcwd(),'data', 'Validation_datasets')\n",
    "ece_filename = \"2021_07_13___16_07_variable_clusters_variable_obs_eces_20,000_steps.npy\"\n",
    "ece_means = np.load(os.path.join(val_folder, ece_filename))"
   ]
  },
  {
   "cell_type": "code",
   "execution_count": 21,
   "metadata": {},
   "outputs": [
    {
     "data": {
      "image/png": "[encoded data removed]",
      "text/plain": [
       "<Figure size 1152x864 with 1 Axes>"
      ]
     },
     "metadata": {
      "needs_background": "light"
     },
     "output_type": "display_data"
    }
   ],
   "source": [
    "# Plot ECEs\n",
    "plot_eces_variable(ece_means, n_val_per_setting, n_clust_min, n_clust_max, n_obs_min, n_obs_max)"
   ]
  },
  {
   "cell_type": "code",
   "execution_count": 67,
   "metadata": {},
   "outputs": [
    {
     "data": {
      "image/png": "[encoded data removed]",
      "text/plain": [
       "<Figure size 576x432 with 1 Axes>"
      ]
     },
     "metadata": {
      "needs_background": "light"
     },
     "output_type": "display_data"
    }
   ],
   "source": [
    "# Plot ECEs only over N (averaged over L)\n",
    "\n",
    "# Average over L in order to plot over N\n",
    "ece_means_reshaped = np.reshape(ece_means, (-1, n_clust_max)) # reshape into (#clusters, #observations)\n",
    "ece_means_over_N = np.mean(ece_means_reshaped, axis = 1)\n",
    "ece_means_over_N_sd = np.std(ece_means_reshaped, axis = 1)\n",
    "\n",
    "# Plot\n",
    "plot_eces_means_over_obs(ece_means_over_N, ece_means_over_N_sd, n_obs_min, n_obs_max)"
   ]
  },
  {
   "cell_type": "code",
   "execution_count": 100,
   "metadata": {},
   "outputs": [
    {
     "name": "stdout",
     "output_type": "stream",
     "text": [
      "Mean ECE over all L (more stable) = [0.18186985 0.16163864 0.18543966 0.13194074]\n",
      "Mean ECE for L=30 (more comparable) = [0.28357073 0.09129752 0.20401547 0.19677951]\n"
     ]
    },
    {
     "data": {
      "text/html": [
       "<div>\n",
       "<style scoped>\n",
       "    .dataframe tbody tr th:only-of-type {\n",
       "        vertical-align: middle;\n",
       "    }\n",
       "\n",
       "    .dataframe tbody tr th {\n",
       "        vertical-align: top;\n",
       "    }\n",
       "\n",
       "    .dataframe thead th {\n",
       "        text-align: right;\n",
       "    }\n",
       "</style>\n",
       "<table border=\"1\" class=\"dataframe\">\n",
       "  <thead>\n",
       "    <tr style=\"text-align: right;\">\n",
       "      <th></th>\n",
       "      <th>N</th>\n",
       "      <th>Amortized NN</th>\n",
       "      <th>Non-amortized NN</th>\n",
       "    </tr>\n",
       "  </thead>\n",
       "  <tbody>\n",
       "    <tr>\n",
       "      <th>0</th>\n",
       "      <td>2</td>\n",
       "      <td>0.181</td>\n",
       "      <td>0.035</td>\n",
       "    </tr>\n",
       "    <tr>\n",
       "      <th>1</th>\n",
       "      <td>3</td>\n",
       "      <td>0.161</td>\n",
       "      <td>0.031</td>\n",
       "    </tr>\n",
       "    <tr>\n",
       "      <th>2</th>\n",
       "      <td>4</td>\n",
       "      <td>0.185</td>\n",
       "      <td>0.03</td>\n",
       "    </tr>\n",
       "    <tr>\n",
       "      <th>3</th>\n",
       "      <td>5</td>\n",
       "      <td>0.131</td>\n",
       "      <td>0.025</td>\n",
       "    </tr>\n",
       "  </tbody>\n",
       "</table>\n",
       "</div>"
      ],
      "text/plain": [
       "   N Amortized NN Non-amortized NN\n",
       "0  2        0.181            0.035\n",
       "1  3        0.161            0.031\n",
       "2  4        0.185             0.03\n",
       "3  5        0.131            0.025"
      ]
     },
     "execution_count": 100,
     "metadata": {},
     "output_type": "execute_result"
    }
   ],
   "source": [
    "# Amortized vs non amortized NN for small N's\n",
    "# Does the problematic behavior of the variable net stem from an Amortization Gap?\n",
    "print('Mean ECE over all L (more stable) = {}'.format(ece_means_over_N[1:5]))\n",
    "print('Mean ECE for L=30 (more comparable) = {}'.format(ece_means_reshaped[1:5,29]))\n",
    "pd.DataFrame([['2','3','4','5'],[0.181, 0.161, 0.185, 0.131],\n",
    "             [0.035,0.031,0.030,0.025]], index = ['N', 'Amortized NN', 'Non-amortized NN']).transpose()\n"
   ]
  },
  {
   "cell_type": "code",
   "execution_count": 64,
   "metadata": {},
   "outputs": [
    {
     "data": {
      "image/png": "[encoded data removed]",
      "text/plain": [
       "<Figure size 576x432 with 1 Axes>"
      ]
     },
     "metadata": {
      "needs_background": "light"
     },
     "output_type": "display_data"
    }
   ],
   "source": [
    "# Inspect pattern over L (averaged over N)\n",
    "ece_means_reshaped = np.reshape(ece_means, (-1, n_clust_max)) # reshape into (#clusters, #observations)\n",
    "ece_means_over_N = np.mean(ece_means_reshaped, axis = 0)\n",
    "ece_means_over_N_sd = np.std(ece_means_reshaped, axis = 0)\n",
    "\n",
    "# Plot\n",
    "plot_eces_means_over_obs(ece_means_over_N, ece_means_over_N_sd, n_clust_min, n_clust_max, xlabel = 'L')"
   ]
  },
  {
   "cell_type": "markdown",
   "metadata": {},
   "source": [
    "# Bridge Sampling Comparison - Bayes Factor Approximation"
   ]
  },
  {
   "cell_type": "markdown",
   "metadata": {},
   "source": [
    "## Generation of the datasets"
   ]
  },
  {
   "cell_type": "code",
   "execution_count": 16,
   "metadata": {},
   "outputs": [
    {
     "name": "stdout",
     "output_type": "stream",
     "text": [
      "Shape of the simulated datasets (batch_size, n_clusters, n_obs, n_variables): (100, 53, 94, 1)\n"
     ]
    }
   ],
   "source": [
    "np.random.seed(42)\n",
    "\n",
    "simulator = MainSimulator(HierarchicalNormalSimulator())\n",
    "\n",
    "test_data_bf = simulator(100)\n",
    "test_data_bf_true_indices = test_data_bf[\"m\"]\n",
    "test_data_bf_datasets = test_data_bf[\"X\"]\n",
    "\n",
    "print('Shape of the simulated datasets (batch_size, n_clusters, n_obs, n_variables): {}'.format(test_data_bf_datasets.shape))"
   ]
  },
  {
   "cell_type": "code",
   "execution_count": 37,
   "metadata": {},
   "outputs": [],
   "source": [
    "# save datasets\n",
    "#np.save('test_data_bf', test_data_bf)\n",
    "#np.save('test_data_bf_true_indices', test_data_bf_true_indices)\n",
    "#np.save('test_data_bf_datasets', test_data_bf_datasets)"
   ]
  },
  {
   "cell_type": "markdown",
   "metadata": {},
   "source": [
    "## Bayes Factor computation by trained NN"
   ]
  },
  {
   "cell_type": "code",
   "execution_count": 17,
   "metadata": {},
   "outputs": [],
   "source": [
    "def get_preds_and_bfs(model, data, training_time_start, training_time_stop):\n",
    "    \"\"\" Writes model predictions and resulting Bayes Factors for a given \n",
    "    array of datasets into a pandas DataFrame. \n",
    "    \"\"\"\n",
    "\n",
    "    dataset = np.arange(1,test_data_bf[\"X\"].shape[0]+1)\n",
    "    true_model = data[\"m\"]\n",
    "\n",
    "    # Predict\n",
    "    inference_time_start = perf_counter()\n",
    "    m1_prob = np.array(model(test_data_bf[\"X\"]), dtype = np.longdouble)\n",
    "    inference_time_stop = perf_counter()\n",
    "    m0_prob = 1 - m1_prob\n",
    "    selected_model = (m1_prob > 0.5)\n",
    "\n",
    "    # Bayes Factors\n",
    "    bayes_factor = m1_prob / m0_prob\n",
    "    \n",
    "    # Times\n",
    "    training_time = np.repeat((training_time_stop-training_time_start), 100)\n",
    "    inference_time = np.repeat((inference_time_stop-inference_time_start), 100)\n",
    "    \n",
    "    # Final epoch mean loss\n",
    "    final_epoch_loss = np.repeat(np.mean(losses[10]), 100)\n",
    "\n",
    "    # Create DataFrame\n",
    "    vals = np.c_[dataset, true_model, m0_prob, m1_prob, selected_model, bayes_factor,\n",
    "                 training_time, inference_time, final_epoch_loss]\n",
    "    names = ['dataset', 'true_model', 'm0_prob', 'm1_prob', 'selected_model', 'bayes_factor',\n",
    "             'training_time', 'inference_time', 'final_epoch_loss']\n",
    "    df = pd.DataFrame(vals, columns = names)\n",
    "    df[[\"dataset\", \"true_model\", \"selected_model\"]] = df[[\"dataset\", \"true_model\", \"selected_model\"]].astype(int)\n",
    "    \n",
    "    return df"
   ]
  },
  {
   "cell_type": "code",
   "execution_count": 18,
   "metadata": {},
   "outputs": [
    {
     "data": {
      "text/html": [
       "<div>\n",
       "<style scoped>\n",
       "    .dataframe tbody tr th:only-of-type {\n",
       "        vertical-align: middle;\n",
       "    }\n",
       "\n",
       "    .dataframe tbody tr th {\n",
       "        vertical-align: top;\n",
       "    }\n",
       "\n",
       "    .dataframe thead th {\n",
       "        text-align: right;\n",
       "    }\n",
       "</style>\n",
       "<table border=\"1\" class=\"dataframe\">\n",
       "  <thead>\n",
       "    <tr style=\"text-align: right;\">\n",
       "      <th></th>\n",
       "      <th>dataset</th>\n",
       "      <th>true_model</th>\n",
       "      <th>m0_prob</th>\n",
       "      <th>m1_prob</th>\n",
       "      <th>selected_model</th>\n",
       "      <th>bayes_factor</th>\n",
       "      <th>training_time</th>\n",
       "      <th>inference_time</th>\n",
       "      <th>final_epoch_loss</th>\n",
       "    </tr>\n",
       "  </thead>\n",
       "  <tbody>\n",
       "    <tr>\n",
       "      <th>0</th>\n",
       "      <td>1</td>\n",
       "      <td>0</td>\n",
       "      <td>0.854759</td>\n",
       "      <td>0.145241</td>\n",
       "      <td>0</td>\n",
       "      <td>0.169920</td>\n",
       "      <td>702.230798</td>\n",
       "      <td>0.183092</td>\n",
       "      <td>0.451387</td>\n",
       "    </tr>\n",
       "    <tr>\n",
       "      <th>1</th>\n",
       "      <td>2</td>\n",
       "      <td>1</td>\n",
       "      <td>0.000256</td>\n",
       "      <td>0.999744</td>\n",
       "      <td>1</td>\n",
       "      <td>3900.678140</td>\n",
       "      <td>702.230798</td>\n",
       "      <td>0.183092</td>\n",
       "      <td>0.451387</td>\n",
       "    </tr>\n",
       "    <tr>\n",
       "      <th>2</th>\n",
       "      <td>3</td>\n",
       "      <td>1</td>\n",
       "      <td>0.417225</td>\n",
       "      <td>0.582775</td>\n",
       "      <td>1</td>\n",
       "      <td>1.396788</td>\n",
       "      <td>702.230798</td>\n",
       "      <td>0.183092</td>\n",
       "      <td>0.451387</td>\n",
       "    </tr>\n",
       "    <tr>\n",
       "      <th>3</th>\n",
       "      <td>4</td>\n",
       "      <td>0</td>\n",
       "      <td>0.591402</td>\n",
       "      <td>0.408598</td>\n",
       "      <td>0</td>\n",
       "      <td>0.690898</td>\n",
       "      <td>702.230798</td>\n",
       "      <td>0.183092</td>\n",
       "      <td>0.451387</td>\n",
       "    </tr>\n",
       "    <tr>\n",
       "      <th>4</th>\n",
       "      <td>5</td>\n",
       "      <td>0</td>\n",
       "      <td>0.611641</td>\n",
       "      <td>0.388359</td>\n",
       "      <td>0</td>\n",
       "      <td>0.634947</td>\n",
       "      <td>702.230798</td>\n",
       "      <td>0.183092</td>\n",
       "      <td>0.451387</td>\n",
       "    </tr>\n",
       "  </tbody>\n",
       "</table>\n",
       "</div>"
      ],
      "text/plain": [
       "   dataset  true_model   m0_prob   m1_prob  selected_model  bayes_factor  \\\n",
       "0        1           0  0.854759  0.145241               0      0.169920   \n",
       "1        2           1  0.000256  0.999744               1   3900.678140   \n",
       "2        3           1  0.417225  0.582775               1      1.396788   \n",
       "3        4           0  0.591402  0.408598               0      0.690898   \n",
       "4        5           0  0.611641  0.388359               0      0.634947   \n",
       "\n",
       "   training_time  inference_time  final_epoch_loss  \n",
       "0     702.230798        0.183092          0.451387  \n",
       "1     702.230798        0.183092          0.451387  \n",
       "2     702.230798        0.183092          0.451387  \n",
       "3     702.230798        0.183092          0.451387  \n",
       "4     702.230798        0.183092          0.451387  "
      ]
     },
     "execution_count": 18,
     "metadata": {},
     "output_type": "execute_result"
    }
   ],
   "source": [
    "comparison_results = get_preds_and_bfs(model, test_data_bf, training_time_start, training_time_stop)\n",
    "comparison_results.head(5)"
   ]
  },
  {
   "cell_type": "code",
   "execution_count": 170,
   "metadata": {},
   "outputs": [],
   "source": [
    "# Export experimental results\n",
    "# FIXED VARIANT\n",
    "local_timezone = datetime.now(timezone(timedelta(0))).astimezone().tzinfo\n",
    "filename = pd.Timestamp.today(tz=local_timezone).strftime('%Y_%m_%d___%H_%M_BF_NN_comp')\n",
    "comparison_folder = os.path.join(os.getcwd(),'data', 'BF_approximation_comparison')\n",
    "\n",
    "comparison_results.to_csv(os.path.join(comparison_folder, filename), index = False)"
   ]
  },
  {
   "cell_type": "code",
   "execution_count": 19,
   "metadata": {},
   "outputs": [],
   "source": [
    "# Export experimental results\n",
    "# VARIABLE VARIANT\n",
    "local_timezone = datetime.now(timezone(timedelta(0))).astimezone().tzinfo\n",
    "filename = pd.Timestamp.today(tz=local_timezone).strftime('%Y_%m_%d___%H_%M_BF_NN_variable_comp')\n",
    "comparison_folder = os.path.join(os.getcwd(),'data', 'BF_approximation_comparison')\n",
    "\n",
    "comparison_results.to_csv(os.path.join(comparison_folder, filename), index = False)"
   ]
  }
 ],
 "metadata": {
  "kernelspec": {
   "display_name": "Python 3",
   "language": "python",
   "name": "python3"
  },
  "language_info": {
   "codemirror_mode": {
    "name": "ipython",
    "version": 3
   },
   "file_extension": ".py",
   "mimetype": "text/x-python",
   "name": "python",
   "nbconvert_exporter": "python",
   "pygments_lexer": "ipython3",
   "version": "3.8.8"
  },
  "toc": {
   "base_numbering": 1,
   "nav_menu": {},
   "number_sections": true,
   "sideBar": true,
   "skip_h1_title": false,
   "title_cell": "Table of Contents",
   "title_sidebar": "Contents",
   "toc_cell": false,
   "toc_position": {
    "height": "calc(100% - 180px)",
    "left": "10px",
    "top": "150px",
    "width": "165px"
   },
   "toc_section_display": true,
   "toc_window_display": true
  },
  "varInspector": {
   "cols": {
    "lenName": 16,
    "lenType": 16,
    "lenVar": 40
   },
   "kernels_config": {
    "python": {
     "delete_cmd_postfix": "",
     "delete_cmd_prefix": "del ",
     "library": "var_list.py",
     "varRefreshCmd": "print(var_dic_list())"
    },
    "r": {
     "delete_cmd_postfix": ") ",
     "delete_cmd_prefix": "rm(",
     "library": "var_list.r",
     "varRefreshCmd": "cat(var_dic_list()) "
    }
   },
   "types_to_exclude": [
    "module",
    "function",
    "builtin_function_or_method",
    "instance",
    "_Feature"
   ],
   "window_display": false
  }
 },
 "nbformat": 4,
 "nbformat_minor": 2
}
