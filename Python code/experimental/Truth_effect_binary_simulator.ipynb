{
 "cells": [
  {
   "cell_type": "code",
   "execution_count": 1,
   "id": "minute-liabilities",
   "metadata": {},
   "outputs": [],
   "source": [
    "import numpy as np\n",
    "from scipy import stats"
   ]
  },
  {
   "cell_type": "code",
   "execution_count": 2,
   "id": "christian-builder",
   "metadata": {},
   "outputs": [],
   "source": [
    "# Simulation settings\n",
    "\n",
    "n_clusters = 30\n",
    "n_obs = 60"
   ]
  },
  {
   "cell_type": "code",
   "execution_count": 3,
   "id": "photographic-mistress",
   "metadata": {},
   "outputs": [],
   "source": [
    "# Specific priors that vary over models\n",
    "\n",
    "# g-priors for theta\n",
    "rscale = 0.5\n",
    "prior_g_theta = 1/np.random.gamma(shape=.5, scale=(rscale**2)/2)\n",
    "prior_g_nu = 1/np.random.gamma(shape=.5, scale=(rscale**2)/2)\n",
    "prior_nu = np.random.normal(0, np.sqrt(prior_g_nu))\n",
    "\n",
    "# theta prior for each model\n",
    "theta_prior_unconstr = np.random.normal(prior_nu, np.sqrt(prior_g_theta), size=n_clusters) # in code: general\n",
    "theta_prior_pos_eff = stats.truncnorm.rvs(loc=prior_nu, scale=1, a=-prior_nu, b=np.inf, size=n_clusters)\n",
    "theta_prior_com_eff = np.repeat(prior_nu, n_clusters) # in code: one\n",
    "theta_prior_null = np.repeat(0, n_clusters) "
   ]
  },
  {
   "cell_type": "code",
   "execution_count": 4,
   "id": "returning-paragraph",
   "metadata": {},
   "outputs": [],
   "source": [
    "# Common priors for all models\n",
    "\n",
    "# Scale param for alpha_i: prior_g_alpha\n",
    "prior_g_alpha = 1/np.random.gamma(2**2)\n",
    "\n",
    "# Scale param for beta: prior_g_beta\n",
    "prior_g_beta = 1/np.random.gamma(2**2)"
   ]
  },
  {
   "cell_type": "code",
   "execution_count": 5,
   "id": "accessible-basin",
   "metadata": {},
   "outputs": [],
   "source": [
    "# Final priors for linear model\n",
    "mu = np.random.normal(0, 1) # Grand mean intercept # just standard-normal instead of Jeffreys prior as we don't have sigma anymore\n",
    "alpha_i = np.random.normal(0, prior_g_alpha, size=n_clusters) # Person-specific intercept\n",
    "beta = np.random.normal(0, prior_g_beta) # Effect of factual truth of statement\n",
    "theta_i = theta_prior_unconstr # Individuals truth effect as stated by selected model"
   ]
  },
  {
   "cell_type": "code",
   "execution_count": 54,
   "id": "whole-split",
   "metadata": {},
   "outputs": [
    {
     "name": "stdout",
     "output_type": "stream",
     "text": [
      "True\n",
      "Wall time: 17.5 ms\n"
     ]
    },
    {
     "data": {
      "text/plain": [
       "0.26666666666666666"
      ]
     },
     "execution_count": 54,
     "metadata": {},
     "output_type": "execute_result"
    }
   ],
   "source": [
    "%%time\n",
    "\n",
    "# FOR-LOOP VERSION \n",
    "\n",
    "# Simulate a dataset X of binary responses\n",
    "\n",
    "X = []\n",
    "\n",
    "t_j = np.repeat([0,1],n_obs/2) # truth status of statement j / assumed to be 50/50\n",
    "x_k = np.repeat([0,1,0,1],n_obs/4) # repetition condition (new=0 / old=1) / assumed to be 50/50\n",
    "print(len(t_j)==len(x_k)) # check if both vectors have equal length (satisfied if n_obs is dividable by 4 without rest)\n",
    "\n",
    "for l in range(n_clusters):\n",
    "\n",
    "    # list to hold individual responses\n",
    "    x_i = []\n",
    "    \n",
    "    for n in range(n_obs):\n",
    "        \n",
    "        # Specify linear model\n",
    "        lin_model = mu + alpha_i[l] + t_j[n]*beta + x_k[n]*theta_i[l] \n",
    "    \n",
    "        # Estimate p\n",
    "        p = np.exp(lin_model)/(1+np.exp(lin_model))\n",
    "        \n",
    "        # Generate x\n",
    "        np.random.seed(1)\n",
    "        x = np.random.binomial(n=1, p=p)\n",
    "        \n",
    "        x_i.append(x)\n",
    "    \n",
    "    X.append(x_i)\n",
    "\n",
    "X = np.array(X)\n",
    "X.mean()"
   ]
  },
  {
   "cell_type": "code",
   "execution_count": 52,
   "id": "thermal-antigua",
   "metadata": {},
   "outputs": [
    {
     "name": "stdout",
     "output_type": "stream",
     "text": [
      "True\n",
      "Wall time: 500 µs\n"
     ]
    },
    {
     "data": {
      "text/plain": [
       "0.43555555555555553"
      ]
     },
     "execution_count": 52,
     "metadata": {},
     "output_type": "execute_result"
    }
   ],
   "source": [
    "%%time\n",
    "\n",
    "# VECTORIZED VERSION \n",
    "\n",
    "# Simulate a dataset X of binary responses\n",
    "\n",
    "t_j = np.repeat([0,1],n_obs/2) # truth status of statement j / assumed to be 50/50\n",
    "x_k = np.repeat([0,1,0,1],n_obs/4) # repetition condition (new=0 / old=1) / assumed to be 50/50\n",
    "print(len(t_j)==len(x_k)) # check if both vectors have equal length (satisfied if n_obs is dividable by 4 without rest)\n",
    "        \n",
    "# Specify linear model\n",
    "lin_model = (mu + alpha_i)[..., np.newaxis] + t_j*beta + x_k*theta_i[..., np.newaxis]\n",
    "\n",
    "# Estimate p\n",
    "p = np.exp(lin_model)/(1+np.exp(lin_model))\n",
    "\n",
    "# Generate x\n",
    "np.random.seed(1)\n",
    "x = np.random.binomial(n=1, p=p, size=(n_clusters,n_obs))\n",
    "\n",
    "x.mean()"
   ]
  },
  {
   "cell_type": "code",
   "execution_count": 65,
   "id": "transparent-complaint",
   "metadata": {},
   "outputs": [
    {
     "data": {
      "text/plain": [
       "array([0, 0, 0, 0, 0, 0, 0, 0, 0, 0, 0, 0, 0, 0, 0, 0, 0, 0, 0, 0, 0, 0,\n",
       "       0, 0, 0, 0, 0, 0, 0, 0, 1, 1, 1, 1, 1, 1, 1, 1, 1, 1, 1, 1, 1, 1,\n",
       "       1, 1, 1, 1, 1, 1, 1, 1, 1, 1, 1, 1, 1, 1, 1, 1])"
      ]
     },
     "execution_count": 65,
     "metadata": {},
     "output_type": "execute_result"
    }
   ],
   "source": [
    "t_j = np.repeat([0,1],n_obs/2) # truth status of statement j \n",
    "t_j"
   ]
  },
  {
   "cell_type": "code",
   "execution_count": 66,
   "id": "editorial-bullet",
   "metadata": {},
   "outputs": [
    {
     "data": {
      "text/plain": [
       "array([0, 0, 0, 0, 0, 0, 0, 0, 0, 0, 0, 0, 0, 0, 0, 1, 1, 1, 1, 1, 1, 1,\n",
       "       1, 1, 1, 1, 1, 1, 1, 1, 0, 0, 0, 0, 0, 0, 0, 0, 0, 0, 0, 0, 0, 0,\n",
       "       0, 1, 1, 1, 1, 1, 1, 1, 1, 1, 1, 1, 1, 1, 1, 1])"
      ]
     },
     "execution_count": 66,
     "metadata": {},
     "output_type": "execute_result"
    }
   ],
   "source": [
    "x_k = np.repeat([0,1,0,1],n_obs/4) # repetition condition (new=0 / old=1)\n",
    "x_k"
   ]
  },
  {
   "cell_type": "code",
   "execution_count": 60,
   "id": "outer-parking",
   "metadata": {},
   "outputs": [
    {
     "data": {
      "text/plain": [
       "array([0, 0, 0, 0, 0, 0, 0, 1, 0, 1, 0, 1, 0, 1, 0, 1, 0, 0, 1, 1, 0, 1,\n",
       "       1, 1, 0, 0, 0, 1, 0, 0, 1, 1, 1, 0, 1, 1, 0, 1, 1, 1, 0, 1, 0, 0,\n",
       "       1, 0, 0, 0, 0, 1, 0, 0, 0, 0, 1, 0, 1, 1, 0, 0])"
      ]
     },
     "execution_count": 60,
     "metadata": {},
     "output_type": "execute_result"
    }
   ],
   "source": [
    "np.random.binomial(n=1, p=.5, size=n_obs)"
   ]
  },
  {
   "cell_type": "code",
   "execution_count": 61,
   "id": "returning-circulation",
   "metadata": {},
   "outputs": [
    {
     "data": {
      "text/plain": [
       "array([1, 0, 0, 1, 1, 1, 1, 1, 1, 0, 0, 1, 0, 0, 1, 0, 1, 1, 1, 1, 1, 0,\n",
       "       0, 1, 0, 1, 1, 1, 0, 1, 0, 1, 0, 0, 1, 1, 0, 1, 0, 1, 1, 0, 1, 1,\n",
       "       0, 1, 1, 1, 0, 0, 1, 1, 0, 1, 1, 1, 1, 0, 0, 0])"
      ]
     },
     "execution_count": 61,
     "metadata": {},
     "output_type": "execute_result"
    }
   ],
   "source": [
    "np.random.binomial(n=1, p=.5, size=n_obs)"
   ]
  },
  {
   "cell_type": "code",
   "execution_count": 58,
   "id": "prostate-foster",
   "metadata": {},
   "outputs": [
    {
     "data": {
      "text/plain": [
       "array([0, 0, 0, 0, 0, 0, 0, 0, 0, 0, 0, 0, 0, 0, 0, 0, 0, 0, 0, 0, 0, 0,\n",
       "       0, 0, 0, 0, 0, 0, 0, 0, 1, 1, 1, 1, 1, 1, 1, 1, 1, 1, 1, 1, 1, 1,\n",
       "       1, 1, 1, 1, 1, 1, 1, 1, 1, 1, 1, 1, 1, 1, 1, 1])"
      ]
     },
     "execution_count": 58,
     "metadata": {},
     "output_type": "execute_result"
    }
   ],
   "source": [
    "t_j"
   ]
  },
  {
   "cell_type": "code",
   "execution_count": 56,
   "id": "infrared-ticket",
   "metadata": {},
   "outputs": [
    {
     "data": {
      "text/plain": [
       "array([0, 0, 0, 0, 0, 0, 0, 0, 0, 0, 0, 0, 0, 0, 0, 1, 1, 1, 1, 1, 1, 1,\n",
       "       1, 1, 1, 1, 1, 1, 1, 1, 0, 0, 0, 0, 0, 0, 0, 0, 0, 0, 0, 0, 0, 0,\n",
       "       0, 1, 1, 1, 1, 1, 1, 1, 1, 1, 1, 1, 1, 1, 1, 1])"
      ]
     },
     "execution_count": 56,
     "metadata": {},
     "output_type": "execute_result"
    }
   ],
   "source": [
    "x_k"
   ]
  }
 ],
 "metadata": {
  "kernelspec": {
   "display_name": "Python 3",
   "language": "python",
   "name": "python3"
  },
  "language_info": {
   "codemirror_mode": {
    "name": "ipython",
    "version": 3
   },
   "file_extension": ".py",
   "mimetype": "text/x-python",
   "name": "python",
   "nbconvert_exporter": "python",
   "pygments_lexer": "ipython3",
   "version": "3.8.8"
  },
  "toc": {
   "base_numbering": 1,
   "nav_menu": {},
   "number_sections": true,
   "sideBar": true,
   "skip_h1_title": false,
   "title_cell": "Table of Contents",
   "title_sidebar": "Contents",
   "toc_cell": false,
   "toc_position": {},
   "toc_section_display": true,
   "toc_window_display": false
  },
  "varInspector": {
   "cols": {
    "lenName": 16,
    "lenType": 16,
    "lenVar": 40
   },
   "kernels_config": {
    "python": {
     "delete_cmd_postfix": "",
     "delete_cmd_prefix": "del ",
     "library": "var_list.py",
     "varRefreshCmd": "print(var_dic_list())"
    },
    "r": {
     "delete_cmd_postfix": ") ",
     "delete_cmd_prefix": "rm(",
     "library": "var_list.r",
     "varRefreshCmd": "cat(var_dic_list()) "
    }
   },
   "types_to_exclude": [
    "module",
    "function",
    "builtin_function_or_method",
    "instance",
    "_Feature"
   ],
   "window_display": false
  }
 },
 "nbformat": 4,
 "nbformat_minor": 5
}
