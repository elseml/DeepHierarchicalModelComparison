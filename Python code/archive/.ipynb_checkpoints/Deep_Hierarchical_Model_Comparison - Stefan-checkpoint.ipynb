{
 "cells": [
  {
   "cell_type": "markdown",
   "metadata": {},
   "source": [
    "# Setup"
   ]
  },
  {
   "cell_type": "code",
   "execution_count": 133,
   "metadata": {},
   "outputs": [],
   "source": [
    "import numpy as np\n",
    "np.set_printoptions(suppress=True)\n",
    "import tensorflow as tf\n",
    "from tqdm.notebook import tqdm\n",
    "from functools import partial\n",
    "import matplotlib.pyplot as plt\n",
    "import seaborn as sns\n",
    "from sklearn.calibration import calibration_curve\n",
    "from sklearn.metrics import confusion_matrix, accuracy_score, mean_absolute_error"
   ]
  },
  {
   "cell_type": "markdown",
   "metadata": {},
   "source": [
    "Hierarchical Normal Example Model\n",
    "\n",
    "$$\n",
    "\\begin{align}\n",
    "x_n &\\sim p(x | \\theta_l, \\sigma^2) \\text{ for } n=1,...,N \\text { (assume } \\sigma^2 \\text { to be known (=1))}\\\\\n",
    "\\theta_l &\\sim p(\\theta | \\mu, \\tau^2) \\text{ for } l=1,...,L\\\\\n",
    "\\mu &\\sim p(\\mu | \\mu_0, \\tau_0)\\\\\n",
    "\\tau^2 &\\sim p(\\tau^2 | \\alpha, \\beta)\\\\\n",
    "\\end{align}\n",
    "$$"
   ]
  },
  {
   "cell_type": "markdown",
   "metadata": {},
   "source": [
    "$$\n",
    "\\begin{align}\n",
    "&\\text{Null Model }H_0 \\text{: } \\mu=0\\\\\n",
    "&\\text{Alternative Model }H_1 \\text{: } \\mu \\text{ allowed to differ from 0} \\\\\n",
    "\\end{align}\n",
    "$$"
   ]
  },
  {
   "cell_type": "markdown",
   "metadata": {},
   "source": [
    "# Utility functions"
   ]
  },
  {
   "cell_type": "code",
   "execution_count": 194,
   "metadata": {
    "code_folding": [
     0,
     40,
     62,
     90,
     118
    ]
   },
   "outputs": [],
   "source": [
    "def plot_confusion_matrix(m_true, m_pred, model_names, ax, normalize=True, \n",
    "                          cmap=plt.cm.Blues, annotate=True):\n",
    "    \"\"\"\n",
    "    Helper function to print and plot the confusion matrix. \n",
    "    Normalization can be applied by setting `normalize=True`.\n",
    "    \"\"\"\n",
    "\n",
    "\n",
    "    # Compute confusion matrix\n",
    "    cm = confusion_matrix(m_true, m_pred)\n",
    "\n",
    "    if normalize:\n",
    "        cm = cm.astype('float') / cm.sum(axis=1)[:, np.newaxis]\n",
    "\n",
    "    im = ax.imshow(cm, interpolation='nearest', cmap=cmap)\n",
    "    ax.figure.colorbar(im, ax=ax)\n",
    "    # We want to show all ticks...\n",
    "    ax.set(xticks=np.arange(cm.shape[1]),\n",
    "           yticks=np.arange(cm.shape[0]),\n",
    "           xticklabels=model_names, yticklabels=model_names,\n",
    "           ylabel='True Model',\n",
    "           xlabel='Predicted Model')\n",
    "\n",
    "    # Rotate the tick labels and set their alignment.\n",
    "    plt.setp(ax.get_xticklabels(), rotation=45, ha=\"right\",\n",
    "             rotation_mode=\"anchor\")\n",
    "\n",
    "    # Loop over data dimensions and create text annotations.\n",
    "\n",
    "    if annotate:\n",
    "        fmt = '.2f' if normalize else 'd'\n",
    "        thresh = cm.max() / 2.\n",
    "        for i in range(cm.shape[0]):\n",
    "            for j in range(cm.shape[1]):\n",
    "                ax.text(j, i, format(cm[i, j], fmt),\n",
    "                        ha=\"center\", va=\"center\",\n",
    "                        color=\"white\" if cm[i, j] > thresh else \"black\")\n",
    "    ax.set_title('Confusion Matrix')\n",
    "\n",
    "    \n",
    "def plot_calibration_curve(m_true, m_pred, n_bins, ax):\n",
    "    \"\"\"Helper function to plot calibration curve and ece.\"\"\"\n",
    "    \n",
    "    prob_true, prob_pred = calibration_curve(m_true, m_pred, n_bins=n_bins)\n",
    "    cal_err = np.mean(np.abs(prob_true - prob_pred))\n",
    "    ax.plot(prob_true, prob_pred)\n",
    "    ax.set_xlim([0, 1])\n",
    "    ax.set_ylim([0, 1])\n",
    "    ax.plot(ax.get_xlim(), ax.get_xlim(), '--')\n",
    "    ax.set_xticks([0.2, 0.4, 0.6, 0.8, 1.0])\n",
    "    ax.set_yticks([0.2, 0.4, 0.6, 0.8, 1.0])\n",
    "    ax.set_xlabel('Accuracy')\n",
    "    ax.set_ylabel('Confidence')\n",
    "    ax.text(0.1, 0.9,  'ECE = {0:.3f}'.format(cal_err),\n",
    "                        horizontalalignment='left',\n",
    "                        verticalalignment='center',\n",
    "                        transform=ax.transAxes,\n",
    "                        size=12)\n",
    "    ax.set_title('Calibration')\n",
    "    sns.despine(ax=ax)\n",
    "    \n",
    "    \n",
    "def plot_bootstrap_accuracy(m_true, m_pred, n_bootstrap, ax):\n",
    "    \"\"\"Helper function to plot the bootstrap accuracy of recovery.\"\"\"\n",
    "    \n",
    "    \n",
    "    n_test = m_true.shape[0]\n",
    "    accs = []\n",
    "    for bi in range(n_bootstrap):\n",
    "        b_idx = np.random.choice(np.random.permutation(n_test), size=n_test, replace=True)\n",
    "        m_true_b, m_pred_b = m_true[b_idx], m_pred[b_idx]\n",
    "        accs.append(accuracy_score(m_true_b, m_pred_b))\n",
    "    \n",
    "    sns.histplot(accs, ax=ax, stat='probability')\n",
    "    sns.despine(ax=ax)\n",
    "    ax.set_xlabel('Accuracy')\n",
    "    ax.set_ylabel('')\n",
    "    ax.yaxis.set_ticks([])\n",
    "    ax.text(0.05, 0.9,  'Bootstrap accuracy = {0:.3f}'.format(np.mean(accs)),\n",
    "                        horizontalalignment='left',\n",
    "                        verticalalignment='center',\n",
    "                        transform=ax.transAxes,\n",
    "                        size=12)\n",
    "    ax.text(0.05, 0.8,  'SD = {0:.3f}'.format(np.std(accs)),\n",
    "                        horizontalalignment='left',\n",
    "                        verticalalignment='center',\n",
    "                        transform=ax.transAxes,\n",
    "                        size=12)\n",
    "    \n",
    "    \n",
    "def plot_bootstrap_mae(m_true, m_pred, n_bootstrap, ax):\n",
    "    \"\"\"Helper function to plot the bootstrap accuracy of recovery.\"\"\"\n",
    "    \n",
    "    \n",
    "    n_test = m_true.shape[0]\n",
    "    maes = []\n",
    "    for bi in range(n_bootstrap):\n",
    "        b_idx = np.random.choice(np.random.permutation(n_test), size=n_test, replace=True)\n",
    "        m_true_b, m_pred_b = m_true[b_idx], m_pred[b_idx]\n",
    "        maes.append(mean_absolute_error(m_true_b, m_pred_b))\n",
    "    \n",
    "    sns.histplot(maes, ax=ax, stat='probability')\n",
    "    sns.despine(ax=ax)\n",
    "    ax.set_xlabel('MAE')\n",
    "    ax.set_ylabel('')\n",
    "    ax.yaxis.set_ticks([])\n",
    "    ax.text(0.05, 0.9,  'Mean MAE = {0:.3f}'.format(np.mean(maes)),\n",
    "                        horizontalalignment='left',\n",
    "                        verticalalignment='center',\n",
    "                        transform=ax.transAxes,\n",
    "                        size=12)\n",
    "    ax.text(0.05, 0.8,  'SD = {0:.3f}'.format(np.std(maes)),\n",
    "                        horizontalalignment='left',\n",
    "                        verticalalignment='center',\n",
    "                        transform=ax.transAxes,\n",
    "                        size=12)\n",
    "    \n",
    "\n",
    "def perf_tester(model, val_data, n_bootstrap=100, n_cal_bins=15):\n",
    "    \"\"\"Utility function to test the performance of the model.\"\"\"\n",
    "    \n",
    "    # Compute model predictions in chunks so GPU memory does not blow-up\n",
    "    m_soft = tf.concat([model(x_chunk) for x_chunk in tf.split(val_data['X'], 20)], axis=0).numpy()\n",
    "    m_hard = (m_soft > 0.5).astype(np.int32)\n",
    "    m_true = val_data['m']\n",
    "    \n",
    "    # Prepare figures\n",
    "    fig, axarr = plt.subplots(2, 2, figsize=(16, 8))\n",
    "    \n",
    "    # Plot stuff\n",
    "    plot_calibration_curve(m_true, m_soft, n_cal_bins, axarr[0, 0])\n",
    "    plot_confusion_matrix(m_true, m_hard, ['M1', 'M2'], axarr[0, 1])\n",
    "    plot_bootstrap_accuracy(m_true, m_hard, n_bootstrap, axarr[1, 0])\n",
    "    plot_bootstrap_mae(m_true, m_hard, n_bootstrap, axarr[1, 1])\n",
    "    fig.tight_layout()"
   ]
  },
  {
   "cell_type": "markdown",
   "metadata": {},
   "source": [
    "# Simulator class"
   ]
  },
  {
   "cell_type": "code",
   "execution_count": 196,
   "metadata": {
    "code_folding": [
     5,
     28,
     41,
     63
    ]
   },
   "outputs": [],
   "source": [
    "class HierarchicalNormalSimulator:\n",
    "    \n",
    "    def __init__(self):    \n",
    "        pass\n",
    "    \n",
    "    def draw_from_prior(self, model_index, n_clusters, mu0, tau20, alpha, beta):\n",
    "        \"\"\"\n",
    "        Draws parameter values from the specified prior distributions of the \n",
    "        hyperprior and the conditional prior.\n",
    "        ----------\n",
    "        \n",
    "        Arguments:        \n",
    "        n_clusters : int -- number of higher order clusters that the observations are nested in\n",
    "        mu0        : float -- higher order mean prior - mean\n",
    "        tau20      : float -- higher order mean prior - variance\n",
    "        alpha      : float -- higher order variance prior - shape parameter\n",
    "        beta       : float -- higher order variance prior - rate parameter\n",
    "        \"\"\"\n",
    "        \n",
    "        if model_index == 0: \n",
    "            mu = 0 # must be mu=0 // mu=100 for quick model convergence checks\n",
    "        if model_index == 1:\n",
    "            mu = np.random.normal(loc=mu0, scale=np.sqrt(tau20))\n",
    "            \n",
    "        tau2 = 1/np.random.gamma(alpha, beta)\n",
    "        theta = np.random.normal(loc=mu, scale=np.sqrt(tau2), size=n_clusters)\n",
    "        return theta\n",
    "    \n",
    "    def gen_from_likelihood(self, theta, n_obs):\n",
    "        \"\"\"\n",
    "        Generates a single hierarchical dataset from the sampled parameter values.\n",
    "        ----------\n",
    "        \n",
    "        Arguments: \n",
    "        params : list -- parameters sampled from prior \n",
    "        n_obs  : int -- number of observations per cluster\n",
    "        \"\"\"\n",
    "        \n",
    "        X = np.random.normal(loc=theta, scale=1, size=(n_obs, theta.shape[0])).T \n",
    "        return X\n",
    "    \n",
    "    def generate_single(self, model_index, n_clusters, n_obs, mu0=0, tau20=1, alpha=1, beta=1):\n",
    "        \"\"\"\n",
    "        Generates a single hierarchical dataset utilizing the draw_from_prior and gen_from_likelihood functions.\n",
    "        ----------\n",
    "        \n",
    "        Arguments:\n",
    "        model_index    : int -- index of the model to be simulated from\n",
    "        n_clusters     : int -- number of higher order clusters that the observations are nested in\n",
    "        n_obs          : int -- number of observations per cluster\n",
    "        mu0            : float -- higher order mean prior - mean\n",
    "        tau20          : float -- higher order mean prior - variance\n",
    "        alpha          : float -- higher order variance prior - shape parameter\n",
    "        beta           : float -- higher order variance prior - rate parameter\n",
    "        --------\n",
    "        \n",
    "        Returns:\n",
    "        numpy array of shape (n_clusters, n_obs, n_variables) - contains the simulated hierarchical datasets\n",
    "        \"\"\"\n",
    "        prior_sample = self.draw_from_prior(model_index, n_clusters, mu0, tau20, alpha, beta)\n",
    "        x_generated = self.gen_from_likelihood(prior_sample, n_obs)\n",
    "        return x_generated[...,np.newaxis]\n",
    "        \n",
    "    def simulate(self, batch_size, n_models, n_clusters, n_obs, mu0=0, tau20=1, alpha=1, beta=1):\n",
    "        \"\"\"\n",
    "        Simulates multiple hierarchical datasets. Useful for single usage and debugging (both without the MainSimulator).\n",
    "        ----------\n",
    "        \n",
    "        Arguments:\n",
    "        batch_size     : int -- number of batches to be generated\n",
    "        n_models       : int -- number of models to be simulated from\n",
    "        n_clusters     : int -- number of higher order clusters that the observations are nested in\n",
    "        n_obs          : int -- number of observations per cluster\n",
    "        n_variables    : int -- number of variables in the simulated datasets \n",
    "        mu0            : float -- higher order mean prior - mean\n",
    "        tau20          : float -- higher order mean prior - variance\n",
    "        alpha          : float -- higher order variance prior - shape parameter\n",
    "        beta           : float -- higher order variance prior - rate parameter\n",
    "        --------\n",
    "        \n",
    "        Returns:\n",
    "        numpy array of shape (batch_size * n_models, n_clusters, n_obs, n_variables) - contains the simulated hierarchical datasets\n",
    "        \"\"\"\n",
    "        \n",
    "        X = []\n",
    "        for b in range(batch_size):\n",
    "            prior_sample = self.draw_from_prior(n_clusters, mu0, tau20, alpha, beta)\n",
    "            x_generated = self.gen_from_likelihood(prior_sample, n_obs)\n",
    "            X.append(x_generated)\n",
    "        return np.array(X)[...,np.newaxis]"
   ]
  },
  {
   "cell_type": "code",
   "execution_count": 197,
   "metadata": {
    "code_folding": [
     2,
     6,
     32,
     67
    ]
   },
   "outputs": [],
   "source": [
    "class MainSimulator:\n",
    "    \n",
    "    def __init__(self, simulator):\n",
    "        \n",
    "        self.simulator = simulator\n",
    "    \n",
    "    def draw_from_model_prior(self, batch_size, n_models, model_prior):\n",
    "        \"\"\"\n",
    "        Creates the sequence of models to be simulated from in the batch.\n",
    "        ----------\n",
    "        \n",
    "        Arguments:\n",
    "        batch_size     : int -- number of batches to be generated\n",
    "        n_models       : int -- number of models to be simulated from\n",
    "        model_prior    : list -- prior model probabilities\n",
    "        --------\n",
    "        \n",
    "        Returns:\n",
    "        array of shape (batch_size) - array of indices corresponding to the sampled model from p(M).\n",
    "        \"\"\"\n",
    "        \n",
    "        # create base list of model indices\n",
    "        model_base_indices = [*range(n_models)]\n",
    "        \n",
    "        # uniform prior over model probabilities if no model prior given\n",
    "        if model_prior == None:\n",
    "            model_prior = [1/n_models] * n_models\n",
    "        \n",
    "        # generate sampling list of model indeces\n",
    "        model_indices = np.random.choice(model_base_indices, size=batch_size, p=model_prior)\n",
    "        return model_indices\n",
    "    \n",
    "    def simulate(self, batch_size, n_models, model_prior, \n",
    "                 n_clust_min=2, n_clust_max=100, n_obs_min=2, n_obs_max=200):\n",
    "        \"\"\"\n",
    "        Simulates a batch of hierarchical datasets.\n",
    "        ----------\n",
    "        \n",
    "        Arguments:\n",
    "        batch_size     : int -- number of datasets to be generated per batch\n",
    "        n_models       : int -- number of models to be simulated from\n",
    "        model_prior    : list -- prior model probabilities\n",
    "        n_clust_min    : int -- minimum number of clusters\n",
    "        n_clust_max    : int -- maximum number of cluster\n",
    "        n_obs_min      : int -- minimum number of observations\n",
    "        n_obs_max      : int -- maximum number of observations\n",
    "        --------\n",
    "        \n",
    "        Returns:\n",
    "        dict of {'X' : array of shape (batch_size, n_clusters, n_obs, n_variables),  \n",
    "                 'm' : array of shape (batch_size)}\n",
    "        \"\"\"\n",
    "        # Draw K and N (equal for all datasets in the batch)\n",
    "        n_clusters = np.random.randint(n_clust_min, n_clust_max+1)\n",
    "        n_obs = np.random.randint(n_obs_min, n_obs_max+1)\n",
    "        \n",
    "        # Draw sampling list of model indices\n",
    "        model_indices = self.draw_from_model_prior(batch_size, n_models, model_prior)\n",
    "        \n",
    "        # Prepare an array to hold simulations\n",
    "        X_gen = np.zeros((batch_size, n_clusters, n_obs, 1), dtype=np.float32)\n",
    "        \n",
    "        for b in range(batch_size):\n",
    "            X_gen[b] = self.simulator.generate_single(model_indices[b], n_clusters, n_obs)\n",
    "               \n",
    "        return {'X': X_gen, 'm': model_indices}\n",
    "    \n",
    "    def __call__(self, batch_size, n_models=2, model_prior=None, \n",
    "                 n_clust_min=2, n_clust_max=100, n_obs_min=2, n_obs_max=200):\n",
    "        return self.simulate(batch_size, n_models, model_prior, n_clust_min, n_clust_max, n_obs_min, n_obs_max)"
   ]
  },
  {
   "cell_type": "markdown",
   "metadata": {},
   "source": [
    "# Neural networks"
   ]
  },
  {
   "cell_type": "markdown",
   "metadata": {},
   "source": [
    "## Invariant Module"
   ]
  },
  {
   "cell_type": "code",
   "execution_count": 198,
   "metadata": {
    "code_folding": [
     3,
     25
    ]
   },
   "outputs": [],
   "source": [
    "class InvariantModule(tf.keras.Model):\n",
    "    \"\"\"Implements an invariant nn module as proposed by Bloem-Reddy and Teh (2019).\"\"\"\n",
    "\n",
    "    def __init__(self, model_settings, pooler=tf.reduce_mean):\n",
    "        \"\"\"\n",
    "        Creates an invariant function with mean pooling.\n",
    "        ----------\n",
    "        \n",
    "        Arguments:\n",
    "        model_settings : dict -- hyperparameter settings for the invariant module\n",
    "        \"\"\"\n",
    "        \n",
    "        super(InvariantModule, self).__init__()\n",
    "        \n",
    "        # Pre pooling network\n",
    "        self.pre_pooling_dense = tf.keras.Sequential([tf.keras.layers.Dense(**model_settings['dense_inv_pre_pooling_args'])\n",
    "                                                     for _ in range(model_settings['n_dense_inv'])])\n",
    "        \n",
    "        self.pooler = pooler\n",
    "        \n",
    "        # Post pooling network\n",
    "        self.post_pooling_dense = tf.keras.Sequential([tf.keras.layers.Dense(**model_settings['dense_inv_post_pooling_args'])\n",
    "                                                      for _ in range(model_settings['n_dense_inv'])])\n",
    "        \n",
    "            \n",
    "    def call(self, x):\n",
    "        \"\"\"\n",
    "        Transforms the input into an invariant representation.\n",
    "        ----------\n",
    "        \n",
    "        Arguments:\n",
    "        x : tf.Tensor of variable shape - 4-dimensional with (batch_size, n_clusters, n_obs, n_variables)\n",
    "                                          or 3-dimensional with (batch_size, n_clusters, inv_embedding)\n",
    "        --------\n",
    "        \n",
    "        Returns:\n",
    "        out: tf.Tensor of variable shape - either 3-dimensional (when input is 4D) with (batch_size, n_clusters, inv_embedding)\n",
    "                                           or 2-dimensional (when input is 3D) with (batch_size, inv_embedding)\n",
    "        \"\"\"\n",
    "        \n",
    "        # Embed input before pooling\n",
    "        x_emb = self.pre_pooling_dense(x)\n",
    "        \n",
    "        # Get dimensionality of lowest exchangeable level before pooling and repeat\n",
    "        # shape of rep_N is (batch_size, K, 1) or (batch_size, 1) depending on input dimensions\n",
    "        log_N = np.log(x_emb.shape[-2])\n",
    "        if len(x.shape) == 4:\n",
    "            rep_N = np.repeat([log_N], x_emb.shape[0]*x_emb.shape[1]).reshape(x_emb.shape[0], x_emb.shape[1], 1)\n",
    "        else:\n",
    "            rep_N = np.repeat([log_N], x_emb.shape[0])[:, np.newaxis]\n",
    "        rep_N = tf.convert_to_tensor(rep_N, dtype=tf.float32)\n",
    "        \n",
    "        # Perform mean pooling, shape of pooled is (batch_size, K, dense_out)\n",
    "        pooled = self.pooler(x_emb, axis=-2) # always reduce dimensionality of the lowest exchangable data level \n",
    "        pooled = tf.concat((pooled, rep_N), axis=-1) # concatenate to preserve info about N\n",
    "        \n",
    "        # Increase representational power\n",
    "        out = self.post_pooling_dense(pooled)\n",
    "        return out"
   ]
  },
  {
   "cell_type": "code",
   "execution_count": 199,
   "metadata": {
    "code_folding": [
     5,
     29
    ]
   },
   "outputs": [],
   "source": [
    "class HierarchicalNetwork(tf.keras.Model):\n",
    "    \"\"\"\n",
    "    Implements a network that can process hierarchical data.\n",
    "    \"\"\"\n",
    "    \n",
    "    def __init__(self, model_settings):\n",
    "        \"\"\"\n",
    "        Creates a hierarchical Network consisting of two stacked invariant modules.\n",
    "        ----------\n",
    "        \n",
    "        Arguments:\n",
    "        model_settings : dict -- hyperparameter settings for the invariant module\n",
    "        \"\"\"\n",
    "        \n",
    "        super(HierarchicalNetwork, self).__init__()\n",
    "        \n",
    "        self.inv_4d = InvariantModule(model_settings)\n",
    "        self.inv_3d = InvariantModule(model_settings)\n",
    "        \n",
    "        # The final layer to output model evidences\n",
    "        if model_settings['n_models'] == 2: # Binary Classification\n",
    "            n_out = 1 \n",
    "            act_out = \"sigmoid\"\n",
    "        else:\n",
    "            n_out = model_settings['n_models']\n",
    "            act_out = \"softmax\"\n",
    "        self.model_probs_layer = tf.keras.layers.Dense(n_out, activation=act_out)\n",
    "        \n",
    "        \n",
    "    def call(self, x):\n",
    "        \"\"\"\n",
    "        Transforms the 4-dimensional input into model probabilities.\n",
    "        ----------\n",
    "        \n",
    "        Arguments:\n",
    "        x : tf.Tensor of shape (batch_size, n_clusters, n_obs, n_variables)\n",
    "        --------\n",
    "        \n",
    "        Returns:\n",
    "        model_probs : tf.Tensor of shape (batch_size, n_models) -- the model posterior probabilities\n",
    "        \"\"\"\n",
    "        \n",
    "        x_3d = self.inv_4d(x)\n",
    "        x_2d = self.inv_3d(x_3d)\n",
    "        model_probs = self.model_probs_layer(x_2d)\n",
    "        return model_probs"
   ]
  },
  {
   "cell_type": "markdown",
   "metadata": {},
   "source": [
    "### Experiments"
   ]
  },
  {
   "cell_type": "markdown",
   "metadata": {},
   "source": [
    "#### Network settings"
   ]
  },
  {
   "cell_type": "code",
   "execution_count": 200,
   "metadata": {},
   "outputs": [],
   "source": [
    "# Network settings for all experiments\n",
    "model_settings = {\n",
    "    'n_models'                    : 2,\n",
    "    'dense_inv_pre_pooling_args'  : dict(units=4, activation='elu', kernel_initializer='glorot_normal'),\n",
    "    'dense_inv_post_pooling_args' : dict(units=64, activation='elu', kernel_initializer='glorot_normal'),\n",
    "    'dense_equiv_args'            : dict(units=32, activation='elu', kernel_initializer='glorot_normal'),\n",
    "    'n_dense_inv'                 : 2,\n",
    "    'n_dense_equiv'               : 2\n",
    "}"
   ]
  },
  {
   "cell_type": "markdown",
   "metadata": {},
   "source": [
    "#### Helper function for online training"
   ]
  },
  {
   "cell_type": "code",
   "execution_count": 202,
   "metadata": {
    "code_folding": [
     0
    ]
   },
   "outputs": [],
   "source": [
    "def train_online(model, optimizer, simulator, loss_fun, iterations, epochs, batch_size):\n",
    "    \"\"\"\n",
    "    Trains a Hierarchical Network.\n",
    "    ----------\n",
    "        \n",
    "    Arguments:\n",
    "    model      : the hierarchical model to be trained\n",
    "    optimizer  : the algorithm that optimizes the neural network\n",
    "    simulator  : the simulator that generates data from the hierarchical models\n",
    "    loss_fun   : the loss function that shall be minimized during training\n",
    "    iterations : int -- number of iterations per epoch\n",
    "    epochs     : int -- number of epochs \n",
    "    batch_size : int -- batch_size for training\n",
    "    --------\n",
    "        \n",
    "    Returns:\n",
    "    losses : numpy array of shape (iterations * epochs)\n",
    "    \"\"\"\n",
    "    \n",
    "    losses = dict()\n",
    "    # For loop through epochs\n",
    "    for ep in range(1, epochs+1):\n",
    "        # Init lossses for this epoch\n",
    "        losses[ep] = []\n",
    "        with tqdm(total=iterations, desc='Training epoch {}'.format(ep)) as p_bar:\n",
    "            for it in range(1, iterations+1):\n",
    "                # Simulate batch of datasets\n",
    "                batch = simulator(batch_size)\n",
    "                with tf.GradientTape() as tape:\n",
    "                    # Forward pass\n",
    "                    preds_m = model(batch[\"X\"])[:,0] # [:,0] to match shape of predictions with true indices\n",
    "                    batch_m = batch[\"m\"]\n",
    "                    loss = loss_fun(batch_m, preds_m)\n",
    "                # One step backprop\n",
    "                gradients = tape.gradient(loss, model.trainable_variables)\n",
    "                optimizer.apply_gradients(zip(gradients, model.trainable_variables))\n",
    "\n",
    "                # Store losses\n",
    "                losses[ep].append(loss)\n",
    "                p_bar.set_postfix_str(\"Epoch {0},Iteration {1},Loss: {2:.3f},Running Loss: {3:.3f}\"\n",
    "                                          .format(ep, it + 1, loss, np.mean(losses[ep])))\n",
    "                p_bar.update(1)\n",
    "    \n",
    "    return losses"
   ]
  },
  {
   "cell_type": "markdown",
   "metadata": {},
   "source": [
    "#### Training with fixed number of clusters and observations"
   ]
  },
  {
   "cell_type": "code",
   "execution_count": 178,
   "metadata": {},
   "outputs": [],
   "source": [
    "batch_size = 32\n",
    "iterations = 1000\n",
    "epochs = 10\n",
    "starter_learning_rate = 0.0005\n",
    "decay_steps = 1000\n",
    "decay_rate = 0.95\n",
    "\n",
    "\n",
    "learning_rate = tf.keras.optimizers.schedules.ExponentialDecay(\n",
    "    starter_learning_rate, decay_steps, decay_rate, staircase=False\n",
    ")\n",
    "optimizer = tf.keras.optimizers.Adam(learning_rate=0.0005)\n",
    "simulator = partial(MainSimulator(HierarchicalNormalSimulator()), \n",
    "                    n_clust_min=30, n_clust_max=30, n_obs_min=50 n_obs_max=50)\n",
    "loss_fun = tf.losses.BinaryCrossentropy()\n",
    "model = HierarchicalNetwork(model_settings)"
   ]
  },
  {
   "cell_type": "code",
   "execution_count": 180,
   "metadata": {},
   "outputs": [
    {
     "data": {
      "application/vnd.jupyter.widget-view+json": {
       "model_id": "8100172f10ed4ef6a76fe5be54165a62",
       "version_major": 2,
       "version_minor": 0
      },
      "text/plain": [
       "Training epoch 1:   0%|          | 0/1000 [00:00<?, ?it/s]"
      ]
     },
     "metadata": {},
     "output_type": "display_data"
    },
    {
     "data": {
      "application/vnd.jupyter.widget-view+json": {
       "model_id": "afe30b68df97450d9bc6fa2cd06c3ac6",
       "version_major": 2,
       "version_minor": 0
      },
      "text/plain": [
       "Training epoch 2:   0%|          | 0/1000 [00:00<?, ?it/s]"
      ]
     },
     "metadata": {},
     "output_type": "display_data"
    },
    {
     "data": {
      "application/vnd.jupyter.widget-view+json": {
       "model_id": "9b368c72b3284d25a0efcb7899143cc3",
       "version_major": 2,
       "version_minor": 0
      },
      "text/plain": [
       "Training epoch 3:   0%|          | 0/1000 [00:00<?, ?it/s]"
      ]
     },
     "metadata": {},
     "output_type": "display_data"
    },
    {
     "data": {
      "application/vnd.jupyter.widget-view+json": {
       "model_id": "8c836733fdee4b7d9c7fd1bd68653471",
       "version_major": 2,
       "version_minor": 0
      },
      "text/plain": [
       "Training epoch 4:   0%|          | 0/1000 [00:00<?, ?it/s]"
      ]
     },
     "metadata": {},
     "output_type": "display_data"
    },
    {
     "data": {
      "application/vnd.jupyter.widget-view+json": {
       "model_id": "de695ad3502843d5860547a980c38a6c",
       "version_major": 2,
       "version_minor": 0
      },
      "text/plain": [
       "Training epoch 5:   0%|          | 0/1000 [00:00<?, ?it/s]"
      ]
     },
     "metadata": {},
     "output_type": "display_data"
    },
    {
     "data": {
      "application/vnd.jupyter.widget-view+json": {
       "model_id": "a7ec61e54b47487cb8710b9f6e6c1dd5",
       "version_major": 2,
       "version_minor": 0
      },
      "text/plain": [
       "Training epoch 6:   0%|          | 0/1000 [00:00<?, ?it/s]"
      ]
     },
     "metadata": {},
     "output_type": "display_data"
    },
    {
     "data": {
      "application/vnd.jupyter.widget-view+json": {
       "model_id": "f6ef85bf63cc4d36bdb21ca97dd8225a",
       "version_major": 2,
       "version_minor": 0
      },
      "text/plain": [
       "Training epoch 7:   0%|          | 0/1000 [00:00<?, ?it/s]"
      ]
     },
     "metadata": {},
     "output_type": "display_data"
    },
    {
     "data": {
      "application/vnd.jupyter.widget-view+json": {
       "model_id": "4cb05ee2b0094273898e48986ded4aad",
       "version_major": 2,
       "version_minor": 0
      },
      "text/plain": [
       "Training epoch 8:   0%|          | 0/1000 [00:00<?, ?it/s]"
      ]
     },
     "metadata": {},
     "output_type": "display_data"
    },
    {
     "data": {
      "application/vnd.jupyter.widget-view+json": {
       "model_id": "18245039cd7c4cb2ad65e1c748b5dc2f",
       "version_major": 2,
       "version_minor": 0
      },
      "text/plain": [
       "Training epoch 9:   0%|          | 0/1000 [00:00<?, ?it/s]"
      ]
     },
     "metadata": {},
     "output_type": "display_data"
    },
    {
     "data": {
      "application/vnd.jupyter.widget-view+json": {
       "model_id": "1f4e084f97eb49d0b7e4cc6ffbd3c188",
       "version_major": 2,
       "version_minor": 0
      },
      "text/plain": [
       "Training epoch 10:   0%|          | 0/1000 [00:00<?, ?it/s]"
      ]
     },
     "metadata": {},
     "output_type": "display_data"
    },
    {
     "name": "stdout",
     "output_type": "stream",
     "text": [
      "Wall time: 6min 4s\n"
     ]
    }
   ],
   "source": [
    "%%time\n",
    "losses = train_online(model, optimizer, simulator, loss_fun, iterations, epochs, batch_size)"
   ]
  },
  {
   "cell_type": "code",
   "execution_count": 186,
   "metadata": {},
   "outputs": [],
   "source": [
    "# Validation\n",
    "n_val = 5000\n",
    "val_data = simulator(n_val)"
   ]
  },
  {
   "cell_type": "code",
   "execution_count": 189,
   "metadata": {},
   "outputs": [
    {
     "data": {
      "image/png": "[encoded data removed]",
      "text/plain": [
       "<Figure size 1152x576 with 5 Axes>"
      ]
     },
     "metadata": {
      "needs_background": "light"
     },
     "output_type": "display_data"
    }
   ],
   "source": [
    "perf_tester(model, val_data, n_cal_bins=10)"
   ]
  },
  {
   "cell_type": "markdown",
   "metadata": {
    "code_folding": [
     0,
     39,
     60,
     88,
     116
    ]
   },
   "source": [
    "#### Training with fixed numbers of clusters and variable number of observations"
   ]
  },
  {
   "cell_type": "code",
   "execution_count": null,
   "metadata": {},
   "outputs": [],
   "source": [
    "learning_rate = tf.keras.optimizers.schedules.ExponentialDecay(\n",
    "    starter_learning_rate, decay_steps, decay_rate, staircase=False\n",
    ")\n",
    "optimizer = tf.keras.optimizers.Adam(learning_rate=0.0005)\n",
    "simulator = partial(MainSimulator(HierarchicalNormalSimulator()), \n",
    "                    n_clust_min=30, n_clust_max=30, n_obs_min=1 n_obs_max=200)\n",
    "loss_fun = tf.losses.BinaryCrossentropy()\n",
    "model = HierarchicalNetwork(model_settings)"
   ]
  },
  {
   "cell_type": "code",
   "execution_count": null,
   "metadata": {},
   "outputs": [],
   "source": [
    "%%time\n",
    "losses = train_online(model, optimizer, simulator, loss_fun, iterations, epochs, batch_size)"
   ]
  },
  {
   "cell_type": "code",
   "execution_count": null,
   "metadata": {},
   "outputs": [],
   "source": [
    "# Validation..."
   ]
  },
  {
   "cell_type": "code",
   "execution_count": null,
   "metadata": {},
   "outputs": [],
   "source": []
  },
  {
   "cell_type": "markdown",
   "metadata": {},
   "source": [
    "#### Training with variable numbers of clusters and observations"
   ]
  },
  {
   "cell_type": "code",
   "execution_count": null,
   "metadata": {},
   "outputs": [],
   "source": [
    "learning_rate = tf.keras.optimizers.schedules.ExponentialDecay(\n",
    "    starter_learning_rate, decay_steps, decay_rate, staircase=False\n",
    ")\n",
    "optimizer = tf.keras.optimizers.Adam(learning_rate=0.0005)\n",
    "simulator = partial(MainSimulator(HierarchicalNormalSimulator()), \n",
    "                    n_clust_min=1, n_clust_max=50, n_obs_min=1 n_obs_max=200)\n",
    "loss_fun = tf.losses.BinaryCrossentropy()\n",
    "model = HierarchicalNetwork(model_settings)"
   ]
  },
  {
   "cell_type": "code",
   "execution_count": null,
   "metadata": {},
   "outputs": [],
   "source": [
    "%%time\n",
    "losses = train_online(model, optimizer, simulator, loss_fun, iterations, epochs, batch_size)"
   ]
  },
  {
   "cell_type": "code",
   "execution_count": null,
   "metadata": {},
   "outputs": [],
   "source": [
    "# Validation..."
   ]
  }
 ],
 "metadata": {
  "kernelspec": {
   "display_name": "Python 3",
   "language": "python",
   "name": "python3"
  },
  "language_info": {
   "codemirror_mode": {
    "name": "ipython",
    "version": 3
   },
   "file_extension": ".py",
   "mimetype": "text/x-python",
   "name": "python",
   "nbconvert_exporter": "python",
   "pygments_lexer": "ipython3",
   "version": "3.8.8"
  },
  "toc": {
   "base_numbering": 1,
   "nav_menu": {},
   "number_sections": true,
   "sideBar": true,
   "skip_h1_title": false,
   "title_cell": "Table of Contents",
   "title_sidebar": "Contents",
   "toc_cell": false,
   "toc_position": {
    "height": "calc(100% - 180px)",
    "left": "10px",
    "top": "150px",
    "width": "165px"
   },
   "toc_section_display": true,
   "toc_window_display": true
  },
  "varInspector": {
   "cols": {
    "lenName": 16,
    "lenType": 16,
    "lenVar": 40
   },
   "kernels_config": {
    "python": {
     "delete_cmd_postfix": "",
     "delete_cmd_prefix": "del ",
     "library": "var_list.py",
     "varRefreshCmd": "print(var_dic_list())"
    },
    "r": {
     "delete_cmd_postfix": ") ",
     "delete_cmd_prefix": "rm(",
     "library": "var_list.r",
     "varRefreshCmd": "cat(var_dic_list()) "
    }
   },
   "types_to_exclude": [
    "module",
    "function",
    "builtin_function_or_method",
    "instance",
    "_Feature"
   ],
   "window_display": false
  }
 },
 "nbformat": 4,
 "nbformat_minor": 2
}
