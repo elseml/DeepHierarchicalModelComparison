{
 "cells": [
  {
   "cell_type": "code",
   "execution_count": 1,
   "metadata": {},
   "outputs": [],
   "source": [
    "import os\n",
    "import sys\n",
    "from datetime import datetime, timezone, timedelta\n",
    "import numpy as np\n",
    "np.set_printoptions(suppress=True)\n",
    "import pandas as pd\n",
    "import tensorflow as tf\n",
    "from tensorflow.keras.utils import to_categorical\n",
    "from tensorflow.keras.experimental import CosineDecayRestarts\n",
    "from tensorflow.keras.optimizers import Adam\n",
    "from scipy import stats\n",
    "from tqdm.notebook import tqdm\n",
    "from functools import partial\n",
    "import matplotlib.pyplot as plt\n",
    "plt.rcParams['figure.facecolor'] = 'w'\n",
    "import seaborn as sns\n",
    "from sklearn.calibration import calibration_curve\n",
    "from sklearn.metrics import confusion_matrix, accuracy_score, mean_absolute_error, multilabel_confusion_matrix\n",
    "from time import perf_counter"
   ]
  },
  {
   "cell_type": "code",
   "execution_count": 2,
   "metadata": {},
   "outputs": [],
   "source": [
    "sys.path.append(\"C:\\\\Users\\\\lasse\\\\Documents\\\\GitHub\\\\BayesFlow\")"
   ]
  },
  {
   "cell_type": "code",
   "execution_count": 3,
   "metadata": {},
   "outputs": [],
   "source": [
    "from bayesflow.trainers import ModelComparisonTrainer\n",
    "from bayesflow.amortizers import MultiModelAmortizer \n",
    "from bayesflow.losses import log_loss"
   ]
  },
  {
   "cell_type": "markdown",
   "metadata": {},
   "source": [
    "# Model formulation"
   ]
  },
  {
   "cell_type": "markdown",
   "metadata": {},
   "source": [
    "$$\n",
    "\\begin{align}\n",
    "x_n &\\sim \\mathcal{N}(\\theta_l, \\sigma^2) \\text{ for } n=1,...,N \\\\\n",
    "\\theta_l &\\sim \\mathcal{N}(\\mu, \\tau^2) \\text{ for } l=1,...,L\\\\\n",
    "\\sigma^2 &\\sim Half-Normal(\\sigma_s)\\\\\n",
    "\\mu &\\sim \\mathcal{N}(\\mu_0, \\tau_0)\\\\\n",
    "\\tau^2 &\\sim Half-Normal(\\sigma_t)\\\\\n",
    "\\end{align}\n",
    "$$"
   ]
  },
  {
   "cell_type": "markdown",
   "metadata": {},
   "source": [
    "$$\n",
    "\\begin{align}\n",
    "&\\text{Null Model }M_0 \\text{: } \\mu=0\\\\\n",
    "&\\text{Alternative Model }M_1 \\text{: } \\mu \\text{ allowed to differ from 0} \\\\\n",
    "\\end{align}\n",
    "$$"
   ]
  },
  {
   "cell_type": "markdown",
   "metadata": {},
   "source": [
    "# Utility functions"
   ]
  },
  {
   "cell_type": "markdown",
   "metadata": {},
   "source": [
    "## Plotting - fixed numbers of clusters and observations"
   ]
  },
  {
   "cell_type": "code",
   "execution_count": 4,
   "metadata": {
    "code_folding": [
     0,
     40,
     62,
     90,
     118
    ]
   },
   "outputs": [],
   "source": [
    "# Plotting for training with fixed numbers of clusters and observations\n",
    "\n",
    "def plot_confusion_matrix(m_true, m_pred, model_names, ax, normalize=True, \n",
    "                          cmap=plt.cm.Blues, annotate=True):\n",
    "    \"\"\"\n",
    "    Helper function to print and plot the confusion matrix. \n",
    "    Normalization can be applied by setting `normalize=True`.\n",
    "    \"\"\"\n",
    "\n",
    "\n",
    "    # Compute confusion matrix\n",
    "    cm = confusion_matrix(m_true, m_pred)\n",
    "\n",
    "    if normalize:\n",
    "        cm = cm.astype('float') / cm.sum(axis=1)[:, np.newaxis]\n",
    "\n",
    "    im = ax.imshow(cm, interpolation='nearest', cmap=cmap)\n",
    "    ax.figure.colorbar(im, ax=ax)\n",
    "    # We want to show all ticks...\n",
    "    ax.set(xticks=np.arange(cm.shape[1]),\n",
    "           yticks=np.arange(cm.shape[0]),\n",
    "           xticklabels=model_names, yticklabels=model_names,\n",
    "           ylabel='True Model',\n",
    "           xlabel='Predicted Model')\n",
    "\n",
    "    # Rotate the tick labels and set their alignment.\n",
    "    plt.setp(ax.get_xticklabels(), rotation=45, ha=\"right\",\n",
    "             rotation_mode=\"anchor\")\n",
    "\n",
    "    # Loop over data dimensions and create text annotations.\n",
    "    if annotate:\n",
    "        fmt = '.2f' if normalize else 'd'\n",
    "        thresh = cm.max() / 2.\n",
    "        for i in range(cm.shape[0]):\n",
    "            for j in range(cm.shape[1]):\n",
    "                ax.text(j, i, format(cm[i, j], fmt),\n",
    "                        ha=\"center\", va=\"center\",\n",
    "                        color=\"white\" if cm[i, j] > thresh else \"black\")\n",
    "    ax.set_title('Confusion Matrix')\n",
    "\n",
    "    \n",
    "def plot_calibration_curve(m_true, m_pred, n_bins, ax, title='Calibration'):\n",
    "    \"\"\"Helper function to plot calibration curve and ece.\"\"\"\n",
    "    \n",
    "    prob_true, prob_pred = calibration_curve(m_true, m_pred, n_bins=n_bins)\n",
    "    cal_err = np.mean(np.abs(prob_true - prob_pred))\n",
    "    ax.plot(prob_true, prob_pred)\n",
    "    ax.set_xlim([0, 1])\n",
    "    ax.set_ylim([0, 1])\n",
    "    ax.plot(ax.get_xlim(), ax.get_xlim(), '--')\n",
    "    ax.set_xticks([0.2, 0.4, 0.6, 0.8, 1.0])\n",
    "    ax.set_yticks([0.2, 0.4, 0.6, 0.8, 1.0])\n",
    "    ax.set_xlabel('Accuracy')\n",
    "    ax.set_ylabel('Confidence')\n",
    "    ax.text(0.1, 0.9,  'ECE = {0:.3f}'.format(cal_err),\n",
    "                        horizontalalignment='left',\n",
    "                        verticalalignment='center',\n",
    "                        transform=ax.transAxes,\n",
    "                        size=12)\n",
    "    ax.set_title(title)\n",
    "    sns.despine(ax=ax)\n",
    "    \n",
    "    \n",
    "def plot_bootstrap_accuracy(m_true, m_pred, n_bootstrap, ax):\n",
    "    \"\"\"Helper function to plot the bootstrap accuracy of recovery.\"\"\"\n",
    "    \n",
    "    \n",
    "    n_test = m_true.shape[0]\n",
    "    accs = []\n",
    "    for bi in range(n_bootstrap):\n",
    "        b_idx = np.random.choice(np.random.permutation(n_test), size=n_test, replace=True)\n",
    "        m_true_b, m_pred_b = m_true[b_idx], m_pred[b_idx]\n",
    "        accs.append(accuracy_score(m_true_b, m_pred_b))\n",
    "    \n",
    "    sns.histplot(accs, ax=ax, stat='probability')\n",
    "    sns.despine(ax=ax)\n",
    "    ax.set_xlabel('Accuracy')\n",
    "    ax.set_ylabel('')\n",
    "    ax.yaxis.set_ticks([])\n",
    "    ax.text(0.05, 0.9,  'Bootstrap accuracy = {0:.3f}'.format(np.mean(accs)),\n",
    "                        horizontalalignment='left',\n",
    "                        verticalalignment='center',\n",
    "                        transform=ax.transAxes,\n",
    "                        size=12)\n",
    "    ax.text(0.05, 0.8,  'SD = {0:.3f}'.format(np.std(accs)),\n",
    "                        horizontalalignment='left',\n",
    "                        verticalalignment='center',\n",
    "                        transform=ax.transAxes,\n",
    "                        size=12)\n",
    "    \n",
    "    \n",
    "def plot_bootstrap_mae(m_true, m_pred, n_bootstrap, ax):\n",
    "    \"\"\"Helper function to plot the bootstrap accuracy of recovery.\"\"\"\n",
    "    \n",
    "    \n",
    "    n_test = m_true.shape[0]\n",
    "    maes = []\n",
    "    for bi in range(n_bootstrap):\n",
    "        b_idx = np.random.choice(np.random.permutation(n_test), size=n_test, replace=True)\n",
    "        m_true_b, m_pred_b = m_true[b_idx], m_pred[b_idx]\n",
    "        maes.append(mean_absolute_error(m_true_b, m_pred_b))\n",
    "    \n",
    "    sns.histplot(maes, ax=ax, stat='probability')\n",
    "    sns.despine(ax=ax)\n",
    "    ax.set_xlabel('MAE')\n",
    "    ax.set_ylabel('')\n",
    "    ax.yaxis.set_ticks([])\n",
    "    ax.text(0.05, 0.9,  'Mean MAE = {0:.3f}'.format(np.mean(maes)),\n",
    "                        horizontalalignment='left',\n",
    "                        verticalalignment='center',\n",
    "                        transform=ax.transAxes,\n",
    "                        size=12)\n",
    "    ax.text(0.05, 0.8,  'SD = {0:.3f}'.format(np.std(maes)),\n",
    "                        horizontalalignment='left',\n",
    "                        verticalalignment='center',\n",
    "                        transform=ax.transAxes,\n",
    "                        size=12)\n",
    "    \n",
    "\n",
    "def perf_tester(evidence_net, summary_net, val_data, n_bootstrap=100, n_cal_bins=15):\n",
    "    \"\"\"Utility function to test the performance of the model.\"\"\"\n",
    "    \n",
    "    # Compute model predictions in chunks so GPU memory does not blow-up\n",
    "    m_soft = tf.concat([evidence_net.predict(summary_net(x_chunk))['m_probs'][:, 1] for x_chunk in tf.split(val_data['X'], 20)], axis=0).numpy()\n",
    "    m_hard = (m_soft > 0.5).astype(np.int32)\n",
    "    m_true = val_data['m'][:, 1]\n",
    "    \n",
    "    # Prepare figures\n",
    "    fig, axarr = plt.subplots(2, 2, figsize=(16, 8))\n",
    "    \n",
    "    # Plot stuff\n",
    "    plot_calibration_curve(m_true, m_soft, n_cal_bins, axarr[0, 0])\n",
    "    plot_confusion_matrix(m_true, m_hard, ['M1', 'M2'], axarr[0, 1])\n",
    "    plot_bootstrap_accuracy(m_true, m_hard, n_bootstrap, axarr[1, 0])\n",
    "    plot_bootstrap_mae(m_true, m_hard, n_bootstrap, axarr[1, 1])\n",
    "    fig.tight_layout()"
   ]
  },
  {
   "cell_type": "markdown",
   "metadata": {},
   "source": [
    "## Plotting - fixed numbers of clusters and variable number of observations"
   ]
  },
  {
   "cell_type": "code",
   "execution_count": 5,
   "metadata": {
    "code_folding": [
     2,
     39
    ]
   },
   "outputs": [],
   "source": [
    "# Plotting for training with fixed numbers of clusters and variable number of observations\n",
    "\n",
    "def plot_eces_over_obs(m_true, m_pred, n_obs_min, n_obs_max, n_bins):\n",
    "    \"\"\"Helper function to plot ece as a function of N.\"\"\"\n",
    "\n",
    "    f, ax = plt.subplots(1, 1, figsize=(8, 6))\n",
    "    \n",
    "    n_obs_points = np.arange(n_obs_min, n_obs_max+1)\n",
    "    prob_true, prob_pred, cal_err = ([] for i in range(3))\n",
    "    \n",
    "    for i in range(n_obs_max-(n_obs_min-1)):\n",
    "        prob_true_i, prob_pred_i = calibration_curve(m_true[i], m_pred[i], n_bins=n_bins)\n",
    "        prob_true.append(prob_true_i)\n",
    "        prob_pred.append(prob_pred_i)\n",
    "        cal_err_i = np.mean(np.abs(prob_true[i] - prob_pred[i]))\n",
    "        cal_err.append(cal_err_i)\n",
    "    ax.plot(n_obs_points, cal_err)\n",
    "    mean_ece = np.mean(cal_err)\n",
    "    sd_ece = np.std(cal_err)\n",
    "    plt.axhline(y=mean_ece, color='tab:red')\n",
    "    plt.fill_between(n_obs_points, mean_ece-3*sd_ece, mean_ece+3*sd_ece, \n",
    "                     color='tab:red', alpha=0.1)\n",
    "    ax.set_xlim([n_obs_min, n_obs_max])\n",
    "    ax.set_ylim([0, 1])\n",
    "    ax.set_xlabel('N')\n",
    "    ax.set_ylabel('ECE')\n",
    "    ax.text(0.1, 0.9,  'Mean ECE = {0:.3f}'.format(mean_ece),\n",
    "                        horizontalalignment='left',\n",
    "                        verticalalignment='center',\n",
    "                        transform=ax.transAxes,\n",
    "                        size=12)\n",
    "    ax.text(0.1, 0.85,  'Shaded region: Mean ECE +/- 3SD ',\n",
    "                        horizontalalignment='left',\n",
    "                        verticalalignment='center',\n",
    "                        transform=ax.transAxes,\n",
    "                        size=12)    \n",
    "    ax.set_title('Expected Calibration Error (ECE)')    \n",
    "\n",
    "\n",
    "def perf_tester_over_obs(evidence_net, summary_net, val_data, n_obs_min, n_obs_max, n_bootstrap=100, n_cal_bins=15):\n",
    "    \"\"\"Utility function to test the performance of the model.\"\"\"\n",
    "    \n",
    "    # Compute model predictions in chunks so GPU memory does not blow-up\n",
    "    m_soft, m_hard, m_true = ([] for i in range(3))\n",
    "    \n",
    "    for i in range(n_obs_max-(n_obs_min-1)):\n",
    "        m_soft_i = tf.concat([evidence_net.predict(summary_net(x_chunk))['m_probs'][:, 1] for x_chunk in tf.split(val_data['X'][i], 5)], axis=0).numpy()\n",
    "        m_soft.append(m_soft_i)\n",
    "        m_hard_i = (m_soft[i] > 0.5).astype(np.int32)\n",
    "        m_hard.append(m_hard_i)\n",
    "        m_true_i = val_data['m'][i][:, 1]\n",
    "        m_true.append(m_true_i)\n",
    "\n",
    "    # Plot stuff\n",
    "    plot_eces_over_obs(m_true, m_soft, n_obs_min, n_obs_max, n_cal_bins)"
   ]
  },
  {
   "cell_type": "markdown",
   "metadata": {},
   "source": [
    "## Plotting - variable numbers of clusters and variable number of observations"
   ]
  },
  {
   "cell_type": "code",
   "execution_count": 6,
   "metadata": {
    "code_folding": [
     2,
     49,
     77
    ]
   },
   "outputs": [],
   "source": [
    "# Plotting for training with variable numbers of clusters and variable number of observations\n",
    "\n",
    "def compute_eces_variable(evidence_net, summary_net, simulator, n_val_per_setting, n_clust_min, n_clust_max, n_obs_min, n_obs_max, n_cal_bins=15):\n",
    "    \"\"\"\n",
    "    Simulates validation data per setting and computes the expected calibration error of the model.\n",
    "    --------\n",
    "\n",
    "    Returns:\n",
    "    2 lists of shape((n_clust_max+1 - n_clust_min)*(n_obs_max+1 - n_obs_min)) \n",
    "    - containing the mean (1st list) / sd (2nd list) eces of all possible combinations on L and N.\n",
    "    \"\"\"\n",
    "    \n",
    "    def n_clust_obs_f_v_val(l, n):\n",
    "        \"\"\"\n",
    "        Nasty hack to make compatible with BayesFlow.\n",
    "        Defines a fixed number of clusters and a number of observations that is iterated through.\n",
    "        \"\"\"\n",
    "        \n",
    "        K = l\n",
    "        N = n\n",
    "        return (K, N)\n",
    "    \n",
    "    # Create lists\n",
    "    ece_means = []\n",
    "    \n",
    "    with tqdm(total=(n_clust_max+1 - n_clust_min), desc='Loop through clusters progress') as p_bar: \n",
    "        with tqdm(total=(n_obs_max+1 - n_obs_min), desc='Loop through nested observations progress') as p_bar_within:\n",
    "            for l in range(n_clust_min, n_clust_max+1): # Loop through clusters\n",
    "                \n",
    "                p_bar_within.reset((n_obs_max+1 - n_obs_min)) # reuse 2nd bar so that screen doesn't explode\n",
    "                for n in range(n_obs_min, n_obs_max+1): # Loop through nested observations\n",
    "\n",
    "                    # Simulate validation data\n",
    "                    m_val_sim, _, x_val_sim = simulator(n_val_per_setting, n_clust_obs_f_v_val(l, n))\n",
    "\n",
    "                    # Predict model probabilities\n",
    "                    #m_soft = evidence_net.predict(summary_net(x_val_sim))['m_probs'][:, 1]\n",
    "                    m_soft = tf.concat([evidence_net.predict(summary_net(x_chunk))['m_probs'][:, 1] for x_chunk in tf.split(x_val_sim, 20)], axis=0).numpy()      \n",
    "                    m_true = m_val_sim[:, 1]  \n",
    "\n",
    "                    # Compute calibration error\n",
    "                    prob_true, prob_pred = calibration_curve(m_true, m_soft, n_bins=n_cal_bins)\n",
    "                    cal_err = np.abs(prob_true - prob_pred)\n",
    "\n",
    "                    mean_ece = np.mean(cal_err)\n",
    "                    ece_means.append(mean_ece)\n",
    "\n",
    "                    # Update inner progress bar\n",
    "                    p_bar_within.set_postfix_str(\"Cluster {0}, Observation {1}\".format(l, n + 1))\n",
    "                    p_bar_within.update()\n",
    "\n",
    "                # Refresh inner + update outer progress bar\n",
    "                p_bar_within.refresh() \n",
    "                p_bar.set_postfix_str(\"Finished clusters: {}\".format(l))\n",
    "                p_bar.update()\n",
    "    \n",
    "    return(ece_means)\n",
    "\n",
    "\n",
    "def plot_eces_variable(ece_means, n_clust_min, n_clust_max, n_obs_min, n_obs_max):\n",
    "    \"\"\" \n",
    "    Takes the ECE results from compute_eces_variable() and \n",
    "    projects them onto a 3D-plot.\n",
    "    \"\"\"\n",
    "    \n",
    "    # Prepare objects\n",
    "    #f = plt.figure(figsize=(16, 16))\n",
    "    f = plt.figure(figsize=(6, 6))\n",
    "    ax = plt.axes(projection='3d')\n",
    "\n",
    "    n_clust_points = np.arange(n_clust_min, n_clust_max+1)\n",
    "    n_obs_points = np.arange(n_obs_min, n_obs_max+1)\n",
    "\n",
    "    n_clust_grid, n_obs_grid = np.meshgrid(n_clust_points, n_obs_points)\n",
    "    cal_err_grid = np.reshape(ece_means, (-1, n_clust_max)) # reshape into (#clusters, #observations)\n",
    "    ax.plot_surface(n_clust_grid, n_obs_grid, cal_err_grid, cmap='coolwarm', edgecolor='none')\n",
    "\n",
    "    ax.elev = 15\n",
    "    ax.set_xlim([n_clust_min, n_clust_max]) \n",
    "    ax.set_ylim([n_obs_max, n_obs_min])\n",
    "    ax.set_zlim([0, 0.3])\n",
    "    ax.set_xlabel('$J$')\n",
    "    ax.set_ylabel('$N$')    \n",
    "    ax.set_zlabel('ECE')\n",
    "    ax.text2D(0.05, 0.95, 'Mean ECE = {0:.3f}'.format(np.mean(ece_means)), transform=ax.transAxes)\n",
    "    ax.text2D(0.05, 0.90, 'SD around mean ECE = {0:.3f}'.format(np.std(ece_means)), transform=ax.transAxes)\n",
    "    #ax.set_title('Expected Calibration Error (ECE)')\n",
    "    #f.savefig('Calibration_variable_TeaP.png', dpi=300, bbox_inches='tight')\n",
    "    \n",
    "def plot_eces_means_over_obs(ece_means_over_N, ece_means_over_N_sd, n_obs_min, n_obs_max, xlabel='$N$', n_bins=15):\n",
    "    \"\"\"Helper function to plot ece as a function of N (or L).\"\"\"\n",
    "\n",
    "    f, ax = plt.subplots(1, 1, figsize=(10, 10))\n",
    "    \n",
    "    n_obs_points = np.arange(n_obs_min, n_obs_max+1)\n",
    "    \n",
    "    ax.plot(n_obs_points, ece_means_over_N, color='black')\n",
    "    mean_ece = np.mean(ece_means_over_N)\n",
    "    plt.axhline(y=mean_ece, linestyle='--', color='darkgrey')\n",
    "    ax.set_xlim([n_obs_min, n_obs_max])\n",
    "    ax.set_ylim([0, 0.4])\n",
    "    ax.set_xlabel(xlabel)\n",
    "    ax.set_ylabel('ECE')\n",
    "    #ax.set_title('Expected Calibration Error (ECE)')"
   ]
  },
  {
   "cell_type": "markdown",
   "metadata": {},
   "source": [
    "# Simulator classes"
   ]
  },
  {
   "cell_type": "code",
   "execution_count": 7,
   "metadata": {
    "code_folding": [
     43,
     67
    ]
   },
   "outputs": [],
   "source": [
    "class HierarchicalNormalSimulator:\n",
    "    \n",
    "    def __init__(self):    \n",
    "        pass\n",
    "    \n",
    "    def draw_from_prior(self, model_index, n_clusters, mu0, tau20, sigma_t, sigma_s):\n",
    "        \"\"\"\n",
    "        Draws parameter values from the specified prior distributions of the \n",
    "        hyperprior and the conditional prior.\n",
    "        ----------\n",
    "        \n",
    "        Arguments:\n",
    "        model_index : int -- index of the model to be simulated from\n",
    "        n_clusters  : int -- number of higher order clusters that the observations are nested in\n",
    "        mu0         : float -- higher order mean prior - mean\n",
    "        tau20       : float -- higher order mean prior - variance\n",
    "        sigma_t     : float -- higher order variance prior\n",
    "        sigma_s     : float -- variance prior\n",
    "        \"\"\"\n",
    "        \n",
    "        if model_index == 0: \n",
    "            mu = 0\n",
    "        if model_index == 1:\n",
    "            mu = np.random.normal(loc=mu0, scale=np.sqrt(tau20))\n",
    "            \n",
    "        tau2 = stats.halfnorm.rvs(scale=sigma_t)\n",
    "        sigma2 = stats.halfnorm.rvs(scale=sigma_s)\n",
    "        theta = np.random.normal(loc=mu, scale=np.sqrt(tau2), size=n_clusters)\n",
    "        return theta, sigma2\n",
    "    \n",
    "    def gen_from_likelihood(self, theta, sigma2, n_obs):\n",
    "        \"\"\"\n",
    "        Generates a single hierarchical dataset from the sampled parameter values.\n",
    "        ----------\n",
    "        \n",
    "        Arguments: \n",
    "        params : list -- parameters sampled from prior \n",
    "        n_obs  : int -- number of observations per cluster\n",
    "        \"\"\"\n",
    "        \n",
    "        X = np.random.normal(loc=theta, scale=sigma2, size=(n_obs, theta.shape[0])).T \n",
    "        return X\n",
    "    \n",
    "    def generate_single(self, model_index, n_clusters, n_obs, mu0=0, tau20=1, sigma_t=1, sigma_s=1):\n",
    "        \"\"\"\n",
    "        Generates a single hierarchical dataset utilizing the draw_from_prior and gen_from_likelihood functions.\n",
    "        ----------\n",
    "        \n",
    "        Arguments:\n",
    "        model_index : int -- index of the model to be simulated from\n",
    "        n_clusters  : int -- number of higher order clusters that the observations are nested in\n",
    "        n_obs       : int -- number of observations per cluster\n",
    "        mu0         : float -- higher order mean prior - mean\n",
    "        tau20       : float -- higher order mean prior - variance\n",
    "        sigma_t     : float -- higher order variance prior\n",
    "        sigma_s     : float -- variance prior\n",
    "        --------\n",
    "        \n",
    "        Returns:\n",
    "        numpy array of shape (n_clusters, n_obs, n_variables) - contains the simulated hierarchical datasets\n",
    "        \"\"\"\n",
    "        theta, sigma2 = self.draw_from_prior(model_index, n_clusters, mu0, tau20, sigma_t, sigma_s)\n",
    "        x_generated = self.gen_from_likelihood(theta, sigma2, n_obs)\n",
    "        return x_generated[...,np.newaxis]\n",
    "        \n",
    "    def simulate(self, batch_size, n_models, n_clusters, n_obs, mu0=0, tau20=1, sigma_t=1, sigma_s=1):\n",
    "        \"\"\"\n",
    "        Simulates multiple hierarchical datasets. Useful for single usage and debugging (both without the MainSimulator).\n",
    "        ----------\n",
    "        \n",
    "        Arguments:\n",
    "        batch_size  : int -- number of batches to be generated\n",
    "        n_models    : int -- number of models to be simulated from\n",
    "        n_clusters  : int -- number of higher order clusters that the observations are nested in\n",
    "        n_obs       : int -- number of observations per cluster\n",
    "        n_variables : int -- number of variables in the simulated datasets \n",
    "        mu0         : float -- higher order mean prior - mean\n",
    "        tau20       : float -- higher order mean prior - variance\n",
    "        sigma_t     : float -- higher order variance prior\n",
    "        sigma_s     : float -- variance prior\n",
    "        --------\n",
    "        \n",
    "        Returns:\n",
    "        numpy array of shape (batch_size * n_models, n_clusters, n_obs, n_variables) - contains the simulated hierarchical datasets\n",
    "        \"\"\"\n",
    "        \n",
    "        X = []\n",
    "        for b in range(batch_size):\n",
    "            prior_sample = self.draw_from_prior(n_clusters, mu0, tau20, sigma_t, sigma_s)\n",
    "            x_generated = self.gen_from_likelihood(prior_sample, n_obs)\n",
    "            X.append(x_generated)\n",
    "        return np.array(X)[...,np.newaxis]"
   ]
  },
  {
   "cell_type": "code",
   "execution_count": 8,
   "metadata": {
    "code_folding": [
     6
    ]
   },
   "outputs": [],
   "source": [
    "class MainSimulator:\n",
    "    \n",
    "    def __init__(self, simulator):\n",
    "        \n",
    "        self.simulator = simulator\n",
    "    \n",
    "    def draw_from_model_prior(self, batch_size, n_models, model_prior):\n",
    "        \"\"\"\n",
    "        Creates the sequence of models to be simulated from in the batch.\n",
    "        ----------\n",
    "        \n",
    "        Arguments:\n",
    "        batch_size     : int -- number of batches to be generated\n",
    "        n_models       : int -- number of models to be simulated from\n",
    "        model_prior    : list -- prior model probabilities\n",
    "        --------\n",
    "        \n",
    "        Returns:\n",
    "        array of shape (batch_size) - array of indices corresponding to the sampled model from p(M).\n",
    "        \"\"\"\n",
    "        \n",
    "        # create base list of model indices\n",
    "        model_base_indices = [*range(n_models)]\n",
    "        \n",
    "        # uniform prior over model probabilities if no model prior given\n",
    "        if model_prior == None:\n",
    "            model_prior = [1/n_models] * n_models\n",
    "        \n",
    "        # generate sampling list of model indeces\n",
    "        model_indices = np.random.choice(model_base_indices, size=batch_size, p=model_prior)\n",
    "        return model_indices\n",
    "    \n",
    "    def simulate(self, batch_size, n_obs, n_models, model_prior, \n",
    "                 n_clust_min=2, n_clust_max=100, n_obs_min=2, n_obs_max=200):\n",
    "        \"\"\"\n",
    "        Simulates a batch of hierarchical datasets.\n",
    "        ----------\n",
    "        \n",
    "        Arguments:\n",
    "        batch_size     : int -- number of datasets to be generated per batch\n",
    "        n_models       : int -- number of models to be simulated from\n",
    "        model_prior    : list -- prior model probabilities\n",
    "        n_clust_min    : int -- minimum number of clusters\n",
    "        n_clust_max    : int -- maximum number of cluster\n",
    "        n_obs_min      : int -- minimum number of observations\n",
    "        n_obs_max      : int -- maximum number of observations\n",
    "        --------\n",
    "        \n",
    "        Returns:\n",
    "        dict of {'X' : array of shape (batch_size, n_clusters, n_obs, n_variables),  \n",
    "                 'm' : array of shape (batch_size)}\n",
    "        \"\"\"\n",
    "        # Draw K and N (drawn values apply for all datasets in the batch)\n",
    "        K, N = n_obs\n",
    "        \n",
    "        # Draw sampling list of model indices\n",
    "        model_indices = self.draw_from_model_prior(batch_size, n_models, model_prior)\n",
    "        \n",
    "        # Prepare an array to hold simulations\n",
    "        X_gen = np.zeros((batch_size, K, N, 1), dtype=np.float32)\n",
    "        \n",
    "        for b in range(batch_size):\n",
    "            X_gen[b] = self.simulator.generate_single(model_indices[b], K, N)\n",
    "               \n",
    "        return to_categorical(model_indices), None, X_gen\n",
    "    \n",
    "    def __call__(self, batch_size, n_obs, n_models=2, model_prior=None):\n",
    "        return self.simulate(batch_size, n_obs, n_models, model_prior)"
   ]
  },
  {
   "cell_type": "markdown",
   "metadata": {},
   "source": [
    "# Neural networks"
   ]
  },
  {
   "cell_type": "code",
   "execution_count": 9,
   "metadata": {
    "code_folding": [
     0,
     3,
     25,
     61,
     93,
     122,
     160,
     193
    ]
   },
   "outputs": [],
   "source": [
    "class InvariantModule(tf.keras.Model):\n",
    "    \"\"\"Implements an invariant nn module as proposed by Bloem-Reddy and Teh (2019).\"\"\"\n",
    "\n",
    "    def __init__(self, meta, pooler=tf.reduce_mean):\n",
    "        \"\"\"\n",
    "        Creates an invariant function with mean pooling.\n",
    "        ----------\n",
    "        \n",
    "        Arguments:\n",
    "        model_settings : dict -- hyperparameter settings for the invariant module\n",
    "        \"\"\"\n",
    "        \n",
    "        super(InvariantModule, self).__init__()\n",
    "        \n",
    "        # Pre pooling network\n",
    "        self.pre_pooling_dense = tf.keras.Sequential([tf.keras.layers.Dense(**meta['dense_inv_pre_pooling_args'])\n",
    "                                                     for _ in range(meta['n_dense_inv'])])\n",
    "        \n",
    "        self.pooler = pooler\n",
    "        \n",
    "        # Post pooling network\n",
    "        self.post_pooling_dense = tf.keras.Sequential([tf.keras.layers.Dense(**meta['dense_inv_post_pooling_args'])\n",
    "                                                      for _ in range(meta['n_dense_inv'])])\n",
    "        \n",
    "            \n",
    "    def call(self, x):\n",
    "        \"\"\"\n",
    "        Transforms the input into an invariant representation.\n",
    "        ----------\n",
    "        \n",
    "        Arguments:\n",
    "        x : tf.Tensor of variable shape - 4-dimensional with (batch_size, n_clusters, n_obs, n_variables)\n",
    "                                          or 3-dimensional with (batch_size, n_clusters, inv_embedding)\n",
    "        --------\n",
    "        \n",
    "        Returns:\n",
    "        out: tf.Tensor of variable shape - either 3-dimensional (when input is 4D) with (batch_size, n_clusters, inv_embedding)\n",
    "                                           or 2-dimensional (when input is 3D) with (batch_size, inv_embedding)\n",
    "        \"\"\"\n",
    "        \n",
    "        # Embed input before pooling\n",
    "        x_emb = self.pre_pooling_dense(x)\n",
    "        \n",
    "        # Perform mean pooling, shape of pooled is (batch_size, K, dense_out)\n",
    "        pooled = self.pooler(x_emb, axis=-2) # always reduce dimensionality of the lowest exchangable data level\n",
    "\n",
    "        # Increase representational power\n",
    "        out = self.post_pooling_dense(pooled)\n",
    "        return out\n",
    "    \n",
    "    \n",
    "class EquivariantModule(tf.keras.Model):\n",
    "    \n",
    "    def __init__(self, meta):\n",
    "        \"\"\"\n",
    "        Creates an equivariant function.\n",
    "        ----------\n",
    "        \n",
    "        Arguments:\n",
    "        model_settings : dict -- hyperparameter settings for the equivariant module\n",
    "        \"\"\"\n",
    "        \n",
    "        super(EquivariantModule, self).__init__()\n",
    "        \n",
    "        self.inv = InvariantModule(meta['inv_inner'])\n",
    "        self.equiv = tf.keras.Sequential([\n",
    "            tf.keras.layers.Dense(**meta['dense_equiv_args'])\n",
    "            for _ in range(meta['n_dense_equiv'])]\n",
    "        )\n",
    "        \n",
    "    def call(self, x):\n",
    "        \"\"\"\n",
    "        Performs an equivariant transformation using both equiv and inv transforms.\n",
    "        \"\"\"\n",
    "\n",
    "        n_rep = x.shape[-2]\n",
    "        inv = self.inv(x)\n",
    "        inv = tf.stack([inv] * n_rep, axis=-2)\n",
    "        inp = tf.concat([x, inv], axis=-1)\n",
    "        out = self.equiv(inp)\n",
    "        return out\n",
    "    \n",
    "    \n",
    "class InvariantNetwork(tf.keras.Model):\n",
    "    \n",
    "    def __init__(self, meta, pooler=tf.reduce_mean):\n",
    "        \"\"\"\n",
    "        Creates an invariant network consisting of equivariant and invariant functions.\n",
    "        ----------\n",
    "        \n",
    "        Arguments:\n",
    "        model_settings : dict -- hyperparameter settings for the invariant network\n",
    "        \"\"\"\n",
    "        \n",
    "        super(InvariantNetwork, self).__init__()\n",
    "        \n",
    "        self.inv = InvariantModule(meta['inv_outer'])\n",
    "        self.equiv = tf.keras.Sequential([\n",
    "                EquivariantModule(meta)\n",
    "            for _ in range(meta['n_equiv'])\n",
    "        ])\n",
    "        \n",
    "    def call(self, x):\n",
    "        \"\"\"\n",
    "        Performs an invariant transformation using both equiv and inv transforms.\n",
    "        \"\"\"\n",
    "\n",
    "        out = self.equiv(x)\n",
    "        out = self.inv(out)\n",
    "        return out\n",
    "    \n",
    "    \n",
    "class HierarchicalInvariantNetwork(tf.keras.Model):\n",
    "    \"\"\"\n",
    "    Implements a network that is able to summarize hierarchical data.\n",
    "    \"\"\"\n",
    "    \n",
    "    def __init__(self, meta):\n",
    "        \"\"\"\n",
    "        Creates a hierarchical Network consisting of two stacked invariant modules.\n",
    "        ----------\n",
    "        \n",
    "        Arguments:\n",
    "        model_settings : dict -- hyperparameter settings for the hierarchical network\n",
    "        \"\"\"\n",
    "        \n",
    "        super(HierarchicalInvariantNetwork, self).__init__()\n",
    "        \n",
    "        self.inv_4d = InvariantNetwork(meta['level_1'])\n",
    "        self.inv_3d = InvariantNetwork(meta['level_2'])\n",
    "        \n",
    "        \n",
    "    def call(self, x):\n",
    "        \"\"\"\n",
    "        Transforms the 4-dimensional input into learned summary statistics.\n",
    "        ----------\n",
    "        \n",
    "        Arguments:\n",
    "        x : tf.Tensor of shape (batch_size, n_clusters, n_obs, n_variables) -- simulated data\n",
    "        --------\n",
    "        \n",
    "        Returns:\n",
    "        out : tf.Tensor of shape (batch_size, (dense_inv_post_pooling_args on level_2) + 2) -- the learned summary statistics\n",
    "        \"\"\"\n",
    "\n",
    "        # Pass through invariant networks\n",
    "        out = self.inv_4d(x)\n",
    "        out = self.inv_3d(out)\n",
    "\n",
    "        # Extract number of clusters and observations into a repeated vector and concatenate with network output\n",
    "        n_clust = int(x.shape[-3])\n",
    "        n_clust_rep = tf.math.sqrt(n_clust * tf.ones((x.shape[0], 1)))\n",
    "        out = tf.concat((out, n_clust_rep), axis=-1)\n",
    "\n",
    "        n_obs = int(x.shape[-2])\n",
    "        n_obs_rep = tf.math.sqrt(n_obs * tf.ones((x.shape[0], 1)))\n",
    "        out = tf.concat((out, n_obs_rep), axis=-1)\n",
    "\n",
    "        return out\n",
    "    \n",
    "    \n",
    "class EvidentialNetwork(tf.keras.Model):\n",
    "    \"\"\"\n",
    "    Implements a network that infers the parameters of a dirichlet distribution in order to quantify model evidences.\n",
    "    \"\"\"\n",
    "    \n",
    "    def __init__(self, meta):\n",
    "        \"\"\"\n",
    "        Creates an evidential network.\n",
    "        ----------\n",
    "        \n",
    "        Arguments:\n",
    "        model_settings : dict -- hyperparameter settings for the evidential network\n",
    "        \"\"\"\n",
    "        \n",
    "        super(EvidentialNetwork, self).__init__()\n",
    "        \n",
    "        self.dense = tf.keras.Sequential([\n",
    "            tf.keras.layers.Dense(**meta['dense_args'])\n",
    "            for _ in range(meta['n_dense'])\n",
    "        ])\n",
    "        self.evidence_layer = tf.keras.layers.Dense(meta['n_models'], activation=meta['activation_out'])\n",
    "        self.J = meta['n_models']\n",
    "        \n",
    "      \n",
    "    def call(self, x):\n",
    "        \"\"\"\n",
    "        Forward pass through the evidential network.\n",
    "        \"\"\"\n",
    "        \n",
    "        out = self.dense(x)\n",
    "        alpha = self.evidence_layer(out) + 1\n",
    "        return alpha\n",
    "        \n",
    "    def predict(self, obs_data, to_numpy=True):\n",
    "        \"\"\"\n",
    "        Returns the mean, variance and uncertainty implied by the estimated Dirichlet density.\n",
    "\n",
    "        Parameters\n",
    "        ----------\n",
    "        obs_data: tf.Tensor\n",
    "            Observed data\n",
    "        to_numpy: bool, default: True\n",
    "            Flag that controls whether the output is a np.array or tf.Tensor\n",
    "\n",
    "        Returns\n",
    "        -------\n",
    "        out: dict\n",
    "            Dictionary with keys {m_probs, m_var, uncertainty}\n",
    "        \"\"\"\n",
    "\n",
    "        alpha = self(obs_data)\n",
    "        alpha0 = tf.reduce_sum(alpha, axis=1, keepdims=True)\n",
    "        mean = alpha / alpha0\n",
    "        var = alpha * (alpha0 - alpha) / (alpha0 * alpha0 * (alpha0 + 1))\n",
    "        uncertainty = self.J / alpha0\n",
    "\n",
    "        if to_numpy:\n",
    "            mean = mean.numpy()\n",
    "            var = var.numpy()\n",
    "            uncertainty = uncertainty.numpy()\n",
    "\n",
    "        return {'m_probs': mean, 'm_var': var, 'uncertainty': uncertainty}\n",
    "    \n",
    "    def sample(self, obs_data, n_samples, to_numpy=True):\n",
    "        \"\"\"Samples posterior model probabilities from the second-order Dirichlet distro.\n",
    "\n",
    "        Parameters\n",
    "        ----------\n",
    "        obs_data  : tf.Tensor\n",
    "            The summary of the observed (or simulated) data, shape (n_datasets, summary_dim)\n",
    "        n_samples : int\n",
    "            Number of samples to obtain from the approximate posterior\n",
    "        to_numpy  : bool, default: True\n",
    "            Flag indicating whether to return the samples as a np.array or a tf.Tensor\n",
    "\n",
    "        Returns\n",
    "        -------\n",
    "        pm_samples : tf.Tensor or np.array\n",
    "            The posterior samples from the Dirichlet distribution, shape (n_samples, n_batch, n_models)\n",
    "        \"\"\"\n",
    "\n",
    "        # Compute evidential values\n",
    "        alpha = self(obs_data)\n",
    "        n_datasets = alpha.shape[0]\n",
    "\n",
    "        # Sample for each dataset\n",
    "        pm_samples = np.stack([np.random.dirichlet(alpha[n, :], size=n_samples) for n in range(n_datasets)], axis=1)\n",
    "\n",
    "        # Convert to tensor, if specified\n",
    "        if not to_numpy:\n",
    "             pm_samples = tf.convert_to_tensor(pm_samples, dtype=tf.float32)\n",
    "        return pm_samples"
   ]
  },
  {
   "cell_type": "markdown",
   "metadata": {},
   "source": [
    "# Experiments"
   ]
  },
  {
   "cell_type": "markdown",
   "metadata": {},
   "source": [
    "## Network settings"
   ]
  },
  {
   "cell_type": "code",
   "execution_count": 10,
   "metadata": {},
   "outputs": [],
   "source": [
    "# Network settings for all experiments\n",
    "summary_meta = {\n",
    "    'level_1': {\n",
    "        'inv_inner': {\n",
    "            'dense_inv_pre_pooling_args'  : dict(units=8, activation='elu', kernel_initializer='glorot_normal'),\n",
    "            'dense_inv_post_pooling_args' : dict(units=8, activation='elu', kernel_initializer='glorot_normal'),\n",
    "            'n_dense_inv'                 : 2,\n",
    "        },\n",
    "        'inv_outer': {\n",
    "            'dense_inv_pre_pooling_args'  : dict(units=32, activation='elu', kernel_initializer='glorot_normal'),\n",
    "            'dense_inv_post_pooling_args' : dict(units=32, activation='elu', kernel_initializer='glorot_normal'),\n",
    "            'n_dense_inv'                 : 2,\n",
    "        },\n",
    "        'dense_equiv_args': dict(units=16, activation='elu', kernel_initializer='glorot_normal'),\n",
    "        'n_dense_equiv': 2,\n",
    "        'n_equiv': 2,\n",
    "    },\n",
    "    'level_2': {\n",
    "        'inv_inner': {\n",
    "            'dense_inv_pre_pooling_args'  : dict(units=32, activation='elu', kernel_initializer='glorot_normal'),\n",
    "            'dense_inv_post_pooling_args' : dict(units=32, activation='elu', kernel_initializer='glorot_normal'),\n",
    "            'n_dense_inv'                 : 2,\n",
    "        },\n",
    "        'inv_outer': {\n",
    "            'dense_inv_pre_pooling_args'  : dict(units=128, activation='elu', kernel_initializer='glorot_normal'),\n",
    "            'dense_inv_post_pooling_args' : dict(units=128, activation='elu', kernel_initializer='glorot_normal'),\n",
    "            'n_dense_inv'                 : 2,\n",
    "        },\n",
    "        'dense_equiv_args': dict(units=64, activation='elu', kernel_initializer='glorot_normal'),\n",
    "        'n_dense_equiv': 2,\n",
    "        'n_equiv': 2,\n",
    "    },\n",
    "}\n",
    "evidence_meta = {\n",
    "    'dense_args': dict(units=64, activation='elu', kernel_initializer='glorot_normal'),\n",
    "    'n_dense': 2,\n",
    "    'n_models': 2,\n",
    "    'activation_out': 'softplus'\n",
    "}"
   ]
  },
  {
   "cell_type": "code",
   "execution_count": 11,
   "metadata": {},
   "outputs": [],
   "source": [
    "summary_net = HierarchicalInvariantNetwork(summary_meta)\n",
    "evidence_net = EvidentialNetwork(evidence_meta)"
   ]
  },
  {
   "cell_type": "code",
   "execution_count": 12,
   "metadata": {},
   "outputs": [],
   "source": [
    "amortizer = MultiModelAmortizer(evidence_net, summary_net)"
   ]
  },
  {
   "cell_type": "code",
   "execution_count": 13,
   "metadata": {},
   "outputs": [],
   "source": [
    "simulator = MainSimulator(HierarchicalNormalSimulator())"
   ]
  },
  {
   "cell_type": "code",
   "execution_count": 14,
   "metadata": {},
   "outputs": [],
   "source": [
    "# Cosine Decay with Restarts\n",
    "\n",
    "initial_lr = 0.0005\n",
    "first_decay_steps = 1000\n",
    "t_mul = 2\n",
    "m_mul = 0.9\n",
    "alpha = 0.2\n",
    "lr_schedule_restart = CosineDecayRestarts(\n",
    "    initial_lr, first_decay_steps, t_mul=t_mul, m_mul=m_mul, alpha=alpha)\n",
    "\n",
    "trainer = ModelComparisonTrainer(network=amortizer, \n",
    "                                 generative_model=simulator, \n",
    "                                 loss=partial(log_loss, kl_weight=0),\n",
    "                                 optimizer=partial(Adam, lr_schedule_restart),\n",
    "                                 skip_checks=True)"
   ]
  },
  {
   "cell_type": "markdown",
   "metadata": {},
   "source": [
    "## Training with fixed number of clusters and observations"
   ]
  },
  {
   "cell_type": "code",
   "execution_count": 15,
   "metadata": {},
   "outputs": [
    {
     "data": {
      "application/vnd.jupyter.widget-view+json": {
       "model_id": "901d28ccd8e246f5864ee5eb5d0b6658",
       "version_major": 2,
       "version_minor": 0
      },
      "text/plain": [
       "Training epoch 1:   0%|          | 0/1000 [00:00<?, ?it/s]"
      ]
     },
     "metadata": {},
     "output_type": "display_data"
    },
    {
     "data": {
      "application/vnd.jupyter.widget-view+json": {
       "model_id": "2e0e3af34c014aab96ac81f85435b141",
       "version_major": 2,
       "version_minor": 0
      },
      "text/plain": [
       "Training epoch 2:   0%|          | 0/1000 [00:00<?, ?it/s]"
      ]
     },
     "metadata": {},
     "output_type": "display_data"
    },
    {
     "data": {
      "application/vnd.jupyter.widget-view+json": {
       "model_id": "ae7c9c8090f549e288a343c94ea01e85",
       "version_major": 2,
       "version_minor": 0
      },
      "text/plain": [
       "Training epoch 3:   0%|          | 0/1000 [00:00<?, ?it/s]"
      ]
     },
     "metadata": {},
     "output_type": "display_data"
    },
    {
     "data": {
      "application/vnd.jupyter.widget-view+json": {
       "model_id": "6350369ad62447b1bb56379e0ffa650a",
       "version_major": 2,
       "version_minor": 0
      },
      "text/plain": [
       "Training epoch 4:   0%|          | 0/1000 [00:00<?, ?it/s]"
      ]
     },
     "metadata": {},
     "output_type": "display_data"
    },
    {
     "data": {
      "application/vnd.jupyter.widget-view+json": {
       "model_id": "a4dd61f046a14df3bb99c1623dffd37d",
       "version_major": 2,
       "version_minor": 0
      },
      "text/plain": [
       "Training epoch 5:   0%|          | 0/1000 [00:00<?, ?it/s]"
      ]
     },
     "metadata": {},
     "output_type": "display_data"
    },
    {
     "data": {
      "application/vnd.jupyter.widget-view+json": {
       "model_id": "4747ec0c428d4eefa55c15c0e4d0881b",
       "version_major": 2,
       "version_minor": 0
      },
      "text/plain": [
       "Training epoch 6:   0%|          | 0/1000 [00:00<?, ?it/s]"
      ]
     },
     "metadata": {},
     "output_type": "display_data"
    },
    {
     "data": {
      "application/vnd.jupyter.widget-view+json": {
       "model_id": "df74c6d762594bc6863d0fd2ec4b83e8",
       "version_major": 2,
       "version_minor": 0
      },
      "text/plain": [
       "Training epoch 7:   0%|          | 0/1000 [00:00<?, ?it/s]"
      ]
     },
     "metadata": {},
     "output_type": "display_data"
    },
    {
     "data": {
      "application/vnd.jupyter.widget-view+json": {
       "model_id": "182fa8ecd6664def9d03c510856032fb",
       "version_major": 2,
       "version_minor": 0
      },
      "text/plain": [
       "Training epoch 8:   0%|          | 0/1000 [00:00<?, ?it/s]"
      ]
     },
     "metadata": {},
     "output_type": "display_data"
    },
    {
     "data": {
      "application/vnd.jupyter.widget-view+json": {
       "model_id": "83ead175e4ba4dbdb2bed7bc2e0849fa",
       "version_major": 2,
       "version_minor": 0
      },
      "text/plain": [
       "Training epoch 9:   0%|          | 0/1000 [00:00<?, ?it/s]"
      ]
     },
     "metadata": {},
     "output_type": "display_data"
    },
    {
     "data": {
      "application/vnd.jupyter.widget-view+json": {
       "model_id": "fb232890ac2345b0a5165997504a6a22",
       "version_major": 2,
       "version_minor": 0
      },
      "text/plain": [
       "Training epoch 10:   0%|          | 0/1000 [00:00<?, ?it/s]"
      ]
     },
     "metadata": {},
     "output_type": "display_data"
    }
   ],
   "source": [
    "def n_clust_obs_f_f():\n",
    "    \"\"\"\n",
    "    Nasty hack to make compatible with BayesFlow.\n",
    "    Defines a fixed number of clusters and observations.\n",
    "    \"\"\"\n",
    "    \n",
    "    K = 50\n",
    "    N = 50\n",
    "    return (K, N)\n",
    "\n",
    "training_time_start = perf_counter()\n",
    "losses = trainer.train_online(epochs=10, iterations_per_epoch=1000, batch_size=32, n_obs=n_clust_obs_f_f)\n",
    "training_time_stop = perf_counter()"
   ]
  },
  {
   "cell_type": "code",
   "execution_count": 50,
   "metadata": {},
   "outputs": [],
   "source": [
    "# Validation\n",
    "n_val = 5000\n",
    "m_val, _, x_val = simulator(n_val, n_clust_obs_f_f())\n",
    "val_data = {'X' : x_val, 'm' : m_val}"
   ]
  },
  {
   "cell_type": "code",
   "execution_count": 51,
   "metadata": {},
   "outputs": [
    {
     "data": {
      "image/png": "[encoded data removed]",
      "text/plain": [
       "<Figure size 1152x576 with 5 Axes>"
      ]
     },
     "metadata": {},
     "output_type": "display_data"
    }
   ],
   "source": [
    "perf_tester(evidence_net, summary_net, val_data, n_cal_bins=15)"
   ]
  },
  {
   "cell_type": "code",
   "execution_count": 54,
   "metadata": {},
   "outputs": [
    {
     "name": "stdout",
     "output_type": "stream",
     "text": [
      "0.028298580900255055\n"
     ]
    },
    {
     "data": {
      "image/png": "[encoded data removed]",
      "text/plain": [
       "<Figure size 360x360 with 1 Axes>"
      ]
     },
     "metadata": {},
     "output_type": "display_data"
    }
   ],
   "source": [
    "# Plotting for thesis\n",
    "\n",
    "probs = tf.concat([evidence_net.predict(summary_net(x_chunk))['m_probs'][:, 1] for x_chunk in tf.split(val_data['X'], 20)], axis=0).numpy()\n",
    "true_models = val_data['m'][:, 1]\n",
    "\n",
    "#fig, ax = plt.subplots(figsize=(10,10))\n",
    "fig, ax = plt.subplots(figsize=(5,5))\n",
    "\n",
    "prob_true, prob_pred = calibration_curve(true_models, probs, n_bins=15)\n",
    "cal_err = np.mean(np.abs(prob_true - prob_pred))\n",
    "print(cal_err)\n",
    "ax.plot(prob_true, prob_pred, color='black')\n",
    "ax.set_xlim([0, 1])\n",
    "ax.set_ylim([0, 1])\n",
    "ax.plot(ax.get_xlim(), ax.get_xlim(), '--', color='darkgrey')\n",
    "ax.set_xticks([0.2, 0.4, 0.6, 0.8, 1.0])\n",
    "ax.set_yticks([0.2, 0.4, 0.6, 0.8, 1.0])\n",
    "ax.set_xlabel('Accuracy')\n",
    "ax.set_ylabel('Confidence')\n",
    "sns.despine(ax=ax)\n",
    "#fig.savefig('Calibration_fixed_TeaP.png', dpi=300, bbox_inches='tight')"
   ]
  },
  {
   "cell_type": "markdown",
   "metadata": {
    "code_folding": [
     0,
     39,
     60,
     88,
     116
    ]
   },
   "source": [
    "## Training with fixed numbers of clusters and variable number of observations"
   ]
  },
  {
   "cell_type": "code",
   "execution_count": 27,
   "metadata": {},
   "outputs": [
    {
     "data": {
      "application/vnd.jupyter.widget-view+json": {
       "model_id": "d73eee08341447d48d6a04afcfce0e7e",
       "version_major": 2,
       "version_minor": 0
      },
      "text/plain": [
       "Training epoch 1:   0%|          | 0/1000 [00:00<?, ?it/s]"
      ]
     },
     "metadata": {},
     "output_type": "display_data"
    },
    {
     "data": {
      "application/vnd.jupyter.widget-view+json": {
       "model_id": "0ae73f397e824b529a45b69596bacd2d",
       "version_major": 2,
       "version_minor": 0
      },
      "text/plain": [
       "Training epoch 2:   0%|          | 0/1000 [00:00<?, ?it/s]"
      ]
     },
     "metadata": {},
     "output_type": "display_data"
    },
    {
     "data": {
      "application/vnd.jupyter.widget-view+json": {
       "model_id": "a4b6e915929a4220972f26d6c7f24422",
       "version_major": 2,
       "version_minor": 0
      },
      "text/plain": [
       "Training epoch 3:   0%|          | 0/1000 [00:00<?, ?it/s]"
      ]
     },
     "metadata": {},
     "output_type": "display_data"
    },
    {
     "data": {
      "application/vnd.jupyter.widget-view+json": {
       "model_id": "a91125c425624cbbb5d74511e1e94987",
       "version_major": 2,
       "version_minor": 0
      },
      "text/plain": [
       "Training epoch 4:   0%|          | 0/1000 [00:00<?, ?it/s]"
      ]
     },
     "metadata": {},
     "output_type": "display_data"
    },
    {
     "data": {
      "application/vnd.jupyter.widget-view+json": {
       "model_id": "a14b5f5c3b3d40d8bff626e54259ef66",
       "version_major": 2,
       "version_minor": 0
      },
      "text/plain": [
       "Training epoch 5:   0%|          | 0/1000 [00:00<?, ?it/s]"
      ]
     },
     "metadata": {},
     "output_type": "display_data"
    },
    {
     "data": {
      "application/vnd.jupyter.widget-view+json": {
       "model_id": "28f0a68a33994eabb89ef37353e85432",
       "version_major": 2,
       "version_minor": 0
      },
      "text/plain": [
       "Training epoch 6:   0%|          | 0/1000 [00:00<?, ?it/s]"
      ]
     },
     "metadata": {},
     "output_type": "display_data"
    },
    {
     "data": {
      "application/vnd.jupyter.widget-view+json": {
       "model_id": "8e91cf2a10e84b1086e456af12d2a40e",
       "version_major": 2,
       "version_minor": 0
      },
      "text/plain": [
       "Training epoch 7:   0%|          | 0/1000 [00:00<?, ?it/s]"
      ]
     },
     "metadata": {},
     "output_type": "display_data"
    },
    {
     "data": {
      "application/vnd.jupyter.widget-view+json": {
       "model_id": "bd92401114b2496aabb0a251486c9480",
       "version_major": 2,
       "version_minor": 0
      },
      "text/plain": [
       "Training epoch 8:   0%|          | 0/1000 [00:00<?, ?it/s]"
      ]
     },
     "metadata": {},
     "output_type": "display_data"
    },
    {
     "data": {
      "application/vnd.jupyter.widget-view+json": {
       "model_id": "1b640911554f441b8d8e869c4d8c34f4",
       "version_major": 2,
       "version_minor": 0
      },
      "text/plain": [
       "Training epoch 9:   0%|          | 0/1000 [00:00<?, ?it/s]"
      ]
     },
     "metadata": {},
     "output_type": "display_data"
    },
    {
     "data": {
      "application/vnd.jupyter.widget-view+json": {
       "model_id": "aa233012a6d8415a8a4ef71efdb7162b",
       "version_major": 2,
       "version_minor": 0
      },
      "text/plain": [
       "Training epoch 10:   0%|          | 0/1000 [00:00<?, ?it/s]"
      ]
     },
     "metadata": {},
     "output_type": "display_data"
    }
   ],
   "source": [
    "n_obs_min = 1\n",
    "n_obs_max = 100\n",
    "\n",
    "def n_clust_obs_f_v():\n",
    "    \"\"\"\n",
    "    Nasty hack to make compatible with BayesFlow.\n",
    "    Defines a fixed number of clusters and a variable number of observations.\n",
    "    \"\"\"\n",
    "    \n",
    "    K = 50\n",
    "    N = np.random.randint(n_obs_min, n_obs_max)\n",
    "    return (K, N)\n",
    "\n",
    "training_time_start = perf_counter()\n",
    "losses = trainer.train_online(epochs=10, iterations_per_epoch=1000, batch_size=32, n_obs=n_clust_obs_f_v)\n",
    "training_time_stop = perf_counter()"
   ]
  },
  {
   "cell_type": "code",
   "execution_count": 28,
   "metadata": {},
   "outputs": [
    {
     "name": "stdout",
     "output_type": "stream",
     "text": [
      "Iteration 25 finished\n",
      "Iteration 50 finished\n",
      "Iteration 75 finished\n",
      "Iteration 100 finished\n"
     ]
    }
   ],
   "source": [
    "# apply nasty hack to validation data generation to work with BayesFlow simulator\n",
    "def n_clust_obs_f_v_val(n):\n",
    "    \"\"\"\n",
    "    Nasty hack to make compatible with BayesFlow.\n",
    "    Defines a fixed number of clusters and a number of observations that is iterated through.\n",
    "    \"\"\"\n",
    "    \n",
    "    K = 50\n",
    "    N = n\n",
    "    return (K, N)\n",
    "\n",
    "# Generate data for each setting\n",
    "n_val_per_setting = 5000\n",
    "\n",
    "m_val = []\n",
    "x_val = []\n",
    "for n in range(n_obs_min, n_obs_max+1):\n",
    "    m_val_sim, _, x_val_sim = simulator(n_val_per_setting, n_clust_obs_f_v_val(n))\n",
    "    m_val.append(m_val_sim)\n",
    "    x_val.append(x_val_sim)\n",
    "    if n%25 == 0:\n",
    "        print('Iteration {} finished'.format(n))\n",
    "\n",
    "val_data = {'X' : x_val, 'm' : m_val}"
   ]
  },
  {
   "cell_type": "code",
   "execution_count": 29,
   "metadata": {
    "scrolled": false
   },
   "outputs": [
    {
     "name": "stdout",
     "output_type": "stream",
     "text": [
      "Wall time: 25.9 s\n"
     ]
    },
    {
     "data": {
      "image/png": "[encoded data removed]",
      "text/plain": [
       "<Figure size 576x432 with 1 Axes>"
      ]
     },
     "metadata": {},
     "output_type": "display_data"
    }
   ],
   "source": [
    "%%time\n",
    "\n",
    "perf_tester_over_obs(evidence_net, summary_net, val_data, n_obs_min, n_obs_max)"
   ]
  },
  {
   "cell_type": "code",
   "execution_count": 30,
   "metadata": {},
   "outputs": [],
   "source": [
    "# Plotting for thesis\n",
    "\n",
    "def plot_eces_over_obs_thesis(m_true, m_pred, n_obs_min, n_obs_max, n_bins):\n",
    "    \"\"\"Helper function to plot ece as a function of N.\"\"\"\n",
    "\n",
    "    f, ax = plt.subplots(1, 1, figsize=(10, 10))\n",
    "    \n",
    "    n_obs_points = np.arange(n_obs_min, n_obs_max+1)\n",
    "    prob_true, prob_pred, cal_err = ([] for i in range(3))\n",
    "    \n",
    "    for i in range(n_obs_max-(n_obs_min-1)):\n",
    "        prob_true_i, prob_pred_i = calibration_curve(m_true[i], m_pred[i], n_bins=n_bins)\n",
    "        prob_true.append(prob_true_i)\n",
    "        prob_pred.append(prob_pred_i)\n",
    "        cal_err_i = np.mean(np.abs(prob_true[i] - prob_pred[i]))\n",
    "        cal_err.append(cal_err_i)\n",
    "    ax.plot(n_obs_points, cal_err, color='black')\n",
    "    mean_ece = np.mean(cal_err)\n",
    "    print(mean_ece)\n",
    "    #sd_ece = np.std(cal_err)\n",
    "    plt.axhline(y=mean_ece, linestyle='--', color='darkgrey')\n",
    "    #plt.fill_between(n_obs_points, mean_ece-3*sd_ece, mean_ece+3*sd_ece, \n",
    "    #                 color='tab:red', alpha=0.1)\n",
    "    ax.set_xlim([n_obs_min, n_obs_max])\n",
    "    ax.set_ylim([0, 0.4])\n",
    "    ax.set_xlabel('$N$')\n",
    "    ax.set_ylabel('ECE')\n",
    "    print(cal_err[:5])\n",
    "\n",
    "def perf_tester_over_obs_thesis(evidence_net, summary_net, val_data, n_obs_min, n_obs_max, n_bootstrap=100, n_cal_bins=15, save=False):\n",
    "    \"\"\"Utility function to test the performance of the model.\"\"\"\n",
    "    \n",
    "    # Compute model predictions in chunks so GPU memory does not blow-up\n",
    "    m_soft, m_hard, m_true = ([] for i in range(3))\n",
    "    \n",
    "    for i in range(n_obs_max-(n_obs_min-1)):\n",
    "        m_soft_i = tf.concat([evidence_net.predict(summary_net(x_chunk))['m_probs'][:, 1] for x_chunk in tf.split(val_data['X'][i], 5)], axis=0).numpy()\n",
    "        m_soft.append(m_soft_i)\n",
    "        m_hard_i = (m_soft[i] > 0.5).astype(np.int32)\n",
    "        m_hard.append(m_hard_i)\n",
    "        m_true_i = val_data['m'][i][:, 1]\n",
    "        m_true.append(m_true_i)\n",
    "\n",
    "    # Plot stuff\n",
    "    if save == False:\n",
    "        plot_eces_over_obs_thesis(m_true, m_soft, n_obs_min, n_obs_max, n_cal_bins)\n",
    "    if save == True:\n",
    "        cal_err = save_eces_over_obs(m_true, m_soft, n_obs_min, n_obs_max, n_cal_bins)\n",
    "        return cal_err\n",
    "    \n",
    "def save_eces_over_obs(m_true, m_pred, n_obs_min, n_obs_max, n_bins):\n",
    "    \"\"\"Helper function to plot ece as a function of N.\"\"\"\n",
    "    \n",
    "    n_obs_points = np.arange(n_obs_min, n_obs_max+1)\n",
    "    prob_true, prob_pred, cal_err = ([] for i in range(3))\n",
    "    \n",
    "    for i in range(n_obs_max-(n_obs_min-1)):\n",
    "        prob_true_i, prob_pred_i = calibration_curve(m_true[i], m_pred[i], n_bins=n_bins)\n",
    "        prob_true.append(prob_true_i)\n",
    "        prob_pred.append(prob_pred_i)\n",
    "        cal_err_i = np.mean(np.abs(prob_true[i] - prob_pred[i]))\n",
    "        cal_err.append(cal_err_i)\n",
    "        \n",
    "    return cal_err"
   ]
  },
  {
   "cell_type": "code",
   "execution_count": 31,
   "metadata": {},
   "outputs": [
    {
     "name": "stdout",
     "output_type": "stream",
     "text": [
      "0.03679950498082135\n",
      "[0.03060395380621559, 0.03579741499751844, 0.036305752432071105, 0.034042407510824775, 0.028940941603039942]\n"
     ]
    },
    {
     "data": {
      "image/png": "[encoded data removed]",
      "text/plain": [
       "<Figure size 720x720 with 1 Axes>"
      ]
     },
     "metadata": {},
     "output_type": "display_data"
    }
   ],
   "source": [
    "perf_tester_over_obs_thesis(evidence_net, summary_net, val_data, n_obs_min, n_obs_max)"
   ]
  },
  {
   "cell_type": "code",
   "execution_count": 32,
   "metadata": {},
   "outputs": [],
   "source": [
    "# Export ECE data \n",
    "local_timezone = datetime.now(timezone(timedelta(0))).astimezone().tzinfo\n",
    "filename = pd.Timestamp.today(tz=local_timezone).strftime('%Y_%m_%d___%H_%M_fixed_clusters_variable_obs_eces_n_obs_min=2')\n",
    "val_folder = os.path.join(os.path.dirname(os.getcwd()),'data', 'Validation_datasets')\n",
    "ece_means = perf_tester_over_obs_thesis(evidence_net, summary_net, val_data, n_obs_min, n_obs_max, save=True)\n",
    "np.save(os.path.join(val_folder, filename), ece_means)"
   ]
  },
  {
   "cell_type": "code",
   "execution_count": 87,
   "metadata": {},
   "outputs": [],
   "source": [
    "# Load ECE data\n",
    "val_folder = os.path.join(os.path.dirname(os.getcwd()),'data', 'Validation_datasets')\n",
    "ece_filename = \"2021_09_01___14_57_fixed_clusters_variable_obs_eces_n_obs_min=2.npy\"\n",
    "ece_means = np.load(os.path.join(val_folder, ece_filename))"
   ]
  },
  {
   "cell_type": "markdown",
   "metadata": {},
   "source": [
    "## Training with variable numbers of clusters and observations"
   ]
  },
  {
   "cell_type": "code",
   "execution_count": 23,
   "metadata": {},
   "outputs": [
    {
     "data": {
      "application/vnd.jupyter.widget-view+json": {
       "model_id": "9f7798c55c574d4fb5eceaa575783ba9",
       "version_major": 2,
       "version_minor": 0
      },
      "text/plain": [
       "Training epoch 1:   0%|          | 0/1000 [00:00<?, ?it/s]"
      ]
     },
     "metadata": {},
     "output_type": "display_data"
    },
    {
     "data": {
      "application/vnd.jupyter.widget-view+json": {
       "model_id": "c37019af983944bd86a34cc294c976e3",
       "version_major": 2,
       "version_minor": 0
      },
      "text/plain": [
       "Training epoch 2:   0%|          | 0/1000 [00:00<?, ?it/s]"
      ]
     },
     "metadata": {},
     "output_type": "display_data"
    },
    {
     "data": {
      "application/vnd.jupyter.widget-view+json": {
       "model_id": "99a58b24984c485eb542a87f0b468732",
       "version_major": 2,
       "version_minor": 0
      },
      "text/plain": [
       "Training epoch 3:   0%|          | 0/1000 [00:00<?, ?it/s]"
      ]
     },
     "metadata": {},
     "output_type": "display_data"
    },
    {
     "data": {
      "application/vnd.jupyter.widget-view+json": {
       "model_id": "f94d34807bae40b69bba2384ad83cd6b",
       "version_major": 2,
       "version_minor": 0
      },
      "text/plain": [
       "Training epoch 4:   0%|          | 0/1000 [00:00<?, ?it/s]"
      ]
     },
     "metadata": {},
     "output_type": "display_data"
    },
    {
     "data": {
      "application/vnd.jupyter.widget-view+json": {
       "model_id": "274f333809404a6198aa88f0a69f7d32",
       "version_major": 2,
       "version_minor": 0
      },
      "text/plain": [
       "Training epoch 5:   0%|          | 0/1000 [00:00<?, ?it/s]"
      ]
     },
     "metadata": {},
     "output_type": "display_data"
    },
    {
     "data": {
      "application/vnd.jupyter.widget-view+json": {
       "model_id": "78b9dc917bae43bf9890a39b6afc5e29",
       "version_major": 2,
       "version_minor": 0
      },
      "text/plain": [
       "Training epoch 6:   0%|          | 0/1000 [00:00<?, ?it/s]"
      ]
     },
     "metadata": {},
     "output_type": "display_data"
    },
    {
     "data": {
      "application/vnd.jupyter.widget-view+json": {
       "model_id": "761fcb835d2947e78ec7b11cf2a53e75",
       "version_major": 2,
       "version_minor": 0
      },
      "text/plain": [
       "Training epoch 7:   0%|          | 0/1000 [00:00<?, ?it/s]"
      ]
     },
     "metadata": {},
     "output_type": "display_data"
    },
    {
     "data": {
      "application/vnd.jupyter.widget-view+json": {
       "model_id": "597dd5153ee942a883a207b445ada260",
       "version_major": 2,
       "version_minor": 0
      },
      "text/plain": [
       "Training epoch 8:   0%|          | 0/1000 [00:00<?, ?it/s]"
      ]
     },
     "metadata": {},
     "output_type": "display_data"
    },
    {
     "data": {
      "application/vnd.jupyter.widget-view+json": {
       "model_id": "02d60c636151431dbee151492143e5f7",
       "version_major": 2,
       "version_minor": 0
      },
      "text/plain": [
       "Training epoch 9:   0%|          | 0/1000 [00:00<?, ?it/s]"
      ]
     },
     "metadata": {},
     "output_type": "display_data"
    },
    {
     "data": {
      "application/vnd.jupyter.widget-view+json": {
       "model_id": "e15043e9cde34998aeba2ae15b3d4208",
       "version_major": 2,
       "version_minor": 0
      },
      "text/plain": [
       "Training epoch 10:   0%|          | 0/1000 [00:00<?, ?it/s]"
      ]
     },
     "metadata": {},
     "output_type": "display_data"
    },
    {
     "data": {
      "application/vnd.jupyter.widget-view+json": {
       "model_id": "061daca0d7e04ef1816c6514298ea6bf",
       "version_major": 2,
       "version_minor": 0
      },
      "text/plain": [
       "Training epoch 11:   0%|          | 0/1000 [00:00<?, ?it/s]"
      ]
     },
     "metadata": {},
     "output_type": "display_data"
    },
    {
     "data": {
      "application/vnd.jupyter.widget-view+json": {
       "model_id": "cfe1c357ef9c41bc981b45477c0bc642",
       "version_major": 2,
       "version_minor": 0
      },
      "text/plain": [
       "Training epoch 12:   0%|          | 0/1000 [00:00<?, ?it/s]"
      ]
     },
     "metadata": {},
     "output_type": "display_data"
    },
    {
     "data": {
      "application/vnd.jupyter.widget-view+json": {
       "model_id": "8fb95b2d6e1b4484aed06c1698dc8005",
       "version_major": 2,
       "version_minor": 0
      },
      "text/plain": [
       "Training epoch 13:   0%|          | 0/1000 [00:00<?, ?it/s]"
      ]
     },
     "metadata": {},
     "output_type": "display_data"
    },
    {
     "data": {
      "application/vnd.jupyter.widget-view+json": {
       "model_id": "27a6255a3595447babd1dde2383501fd",
       "version_major": 2,
       "version_minor": 0
      },
      "text/plain": [
       "Training epoch 14:   0%|          | 0/1000 [00:00<?, ?it/s]"
      ]
     },
     "metadata": {},
     "output_type": "display_data"
    },
    {
     "data": {
      "application/vnd.jupyter.widget-view+json": {
       "model_id": "cd52228a340245fe8fa4957f91353c23",
       "version_major": 2,
       "version_minor": 0
      },
      "text/plain": [
       "Training epoch 15:   0%|          | 0/1000 [00:00<?, ?it/s]"
      ]
     },
     "metadata": {},
     "output_type": "display_data"
    },
    {
     "data": {
      "application/vnd.jupyter.widget-view+json": {
       "model_id": "46c70a405ec440b0a361e8665a09a1ca",
       "version_major": 2,
       "version_minor": 0
      },
      "text/plain": [
       "Training epoch 16:   0%|          | 0/1000 [00:00<?, ?it/s]"
      ]
     },
     "metadata": {},
     "output_type": "display_data"
    },
    {
     "data": {
      "application/vnd.jupyter.widget-view+json": {
       "model_id": "d23a9f7f1e9c480699ddfd646c4e3c92",
       "version_major": 2,
       "version_minor": 0
      },
      "text/plain": [
       "Training epoch 17:   0%|          | 0/1000 [00:00<?, ?it/s]"
      ]
     },
     "metadata": {},
     "output_type": "display_data"
    },
    {
     "data": {
      "application/vnd.jupyter.widget-view+json": {
       "model_id": "ac7e8f385c564644b8e8b7c6ac16feac",
       "version_major": 2,
       "version_minor": 0
      },
      "text/plain": [
       "Training epoch 18:   0%|          | 0/1000 [00:00<?, ?it/s]"
      ]
     },
     "metadata": {},
     "output_type": "display_data"
    },
    {
     "data": {
      "application/vnd.jupyter.widget-view+json": {
       "model_id": "e4970f37cf084918a0faca459ec10b06",
       "version_major": 2,
       "version_minor": 0
      },
      "text/plain": [
       "Training epoch 19:   0%|          | 0/1000 [00:00<?, ?it/s]"
      ]
     },
     "metadata": {},
     "output_type": "display_data"
    },
    {
     "data": {
      "application/vnd.jupyter.widget-view+json": {
       "model_id": "7ec3e9d9f5264ad3a7726d4d854a788c",
       "version_major": 2,
       "version_minor": 0
      },
      "text/plain": [
       "Training epoch 20:   0%|          | 0/1000 [00:00<?, ?it/s]"
      ]
     },
     "metadata": {},
     "output_type": "display_data"
    },
    {
     "data": {
      "application/vnd.jupyter.widget-view+json": {
       "model_id": "88c2b9dce26a4d7ca6e99d9289743d69",
       "version_major": 2,
       "version_minor": 0
      },
      "text/plain": [
       "Training epoch 21:   0%|          | 0/1000 [00:00<?, ?it/s]"
      ]
     },
     "metadata": {},
     "output_type": "display_data"
    },
    {
     "data": {
      "application/vnd.jupyter.widget-view+json": {
       "model_id": "b707f25b43734285a06f37f2fafc37fc",
       "version_major": 2,
       "version_minor": 0
      },
      "text/plain": [
       "Training epoch 22:   0%|          | 0/1000 [00:00<?, ?it/s]"
      ]
     },
     "metadata": {},
     "output_type": "display_data"
    },
    {
     "data": {
      "application/vnd.jupyter.widget-view+json": {
       "model_id": "b59b6d49723e437d90a4c9e59d6d3396",
       "version_major": 2,
       "version_minor": 0
      },
      "text/plain": [
       "Training epoch 23:   0%|          | 0/1000 [00:00<?, ?it/s]"
      ]
     },
     "metadata": {},
     "output_type": "display_data"
    },
    {
     "data": {
      "application/vnd.jupyter.widget-view+json": {
       "model_id": "cc6c54cf5739471eaf0b2a6d1f6869a1",
       "version_major": 2,
       "version_minor": 0
      },
      "text/plain": [
       "Training epoch 24:   0%|          | 0/1000 [00:00<?, ?it/s]"
      ]
     },
     "metadata": {},
     "output_type": "display_data"
    },
    {
     "data": {
      "application/vnd.jupyter.widget-view+json": {
       "model_id": "13381ed9eab044d396a18fa6e39946ca",
       "version_major": 2,
       "version_minor": 0
      },
      "text/plain": [
       "Training epoch 25:   0%|          | 0/1000 [00:00<?, ?it/s]"
      ]
     },
     "metadata": {},
     "output_type": "display_data"
    },
    {
     "data": {
      "application/vnd.jupyter.widget-view+json": {
       "model_id": "ca13ba6aa6ba44a5a561234154320f04",
       "version_major": 2,
       "version_minor": 0
      },
      "text/plain": [
       "Training epoch 26:   0%|          | 0/1000 [00:00<?, ?it/s]"
      ]
     },
     "metadata": {},
     "output_type": "display_data"
    },
    {
     "data": {
      "application/vnd.jupyter.widget-view+json": {
       "model_id": "625c6cb388d24caf9f106f2c79f8cef7",
       "version_major": 2,
       "version_minor": 0
      },
      "text/plain": [
       "Training epoch 27:   0%|          | 0/1000 [00:00<?, ?it/s]"
      ]
     },
     "metadata": {},
     "output_type": "display_data"
    },
    {
     "data": {
      "application/vnd.jupyter.widget-view+json": {
       "model_id": "296881d2d76f4f48ba254e2e4200813c",
       "version_major": 2,
       "version_minor": 0
      },
      "text/plain": [
       "Training epoch 28:   0%|          | 0/1000 [00:00<?, ?it/s]"
      ]
     },
     "metadata": {},
     "output_type": "display_data"
    },
    {
     "data": {
      "application/vnd.jupyter.widget-view+json": {
       "model_id": "66132e0b43ce41898fd677b5bebdf7c7",
       "version_major": 2,
       "version_minor": 0
      },
      "text/plain": [
       "Training epoch 29:   0%|          | 0/1000 [00:00<?, ?it/s]"
      ]
     },
     "metadata": {},
     "output_type": "display_data"
    },
    {
     "data": {
      "application/vnd.jupyter.widget-view+json": {
       "model_id": "233a5a5ff87746658458cb254670e107",
       "version_major": 2,
       "version_minor": 0
      },
      "text/plain": [
       "Training epoch 30:   0%|          | 0/1000 [00:00<?, ?it/s]"
      ]
     },
     "metadata": {},
     "output_type": "display_data"
    },
    {
     "data": {
      "application/vnd.jupyter.widget-view+json": {
       "model_id": "407d68544c6c4c93bfdfa98bf2625e3d",
       "version_major": 2,
       "version_minor": 0
      },
      "text/plain": [
       "Training epoch 31:   0%|          | 0/1000 [00:00<?, ?it/s]"
      ]
     },
     "metadata": {},
     "output_type": "display_data"
    },
    {
     "data": {
      "application/vnd.jupyter.widget-view+json": {
       "model_id": "1d059ce6a5064e5a8cfa6f93c94cce30",
       "version_major": 2,
       "version_minor": 0
      },
      "text/plain": [
       "Training epoch 32:   0%|          | 0/1000 [00:00<?, ?it/s]"
      ]
     },
     "metadata": {},
     "output_type": "display_data"
    },
    {
     "data": {
      "application/vnd.jupyter.widget-view+json": {
       "model_id": "5ab984460dc94ffe841cb5c6b63cb4be",
       "version_major": 2,
       "version_minor": 0
      },
      "text/plain": [
       "Training epoch 33:   0%|          | 0/1000 [00:00<?, ?it/s]"
      ]
     },
     "metadata": {},
     "output_type": "display_data"
    },
    {
     "data": {
      "application/vnd.jupyter.widget-view+json": {
       "model_id": "2472c45c0a8f4213822d3f4be3688096",
       "version_major": 2,
       "version_minor": 0
      },
      "text/plain": [
       "Training epoch 34:   0%|          | 0/1000 [00:00<?, ?it/s]"
      ]
     },
     "metadata": {},
     "output_type": "display_data"
    },
    {
     "data": {
      "application/vnd.jupyter.widget-view+json": {
       "model_id": "07c1080592a94d83be027f71b1fa352c",
       "version_major": 2,
       "version_minor": 0
      },
      "text/plain": [
       "Training epoch 35:   0%|          | 0/1000 [00:00<?, ?it/s]"
      ]
     },
     "metadata": {},
     "output_type": "display_data"
    },
    {
     "data": {
      "application/vnd.jupyter.widget-view+json": {
       "model_id": "32c2c2c3948241c6bca08e84e4447491",
       "version_major": 2,
       "version_minor": 0
      },
      "text/plain": [
       "Training epoch 36:   0%|          | 0/1000 [00:00<?, ?it/s]"
      ]
     },
     "metadata": {},
     "output_type": "display_data"
    },
    {
     "data": {
      "application/vnd.jupyter.widget-view+json": {
       "model_id": "be489e28de504462bf3bea9e6fb90b0b",
       "version_major": 2,
       "version_minor": 0
      },
      "text/plain": [
       "Training epoch 37:   0%|          | 0/1000 [00:00<?, ?it/s]"
      ]
     },
     "metadata": {},
     "output_type": "display_data"
    },
    {
     "data": {
      "application/vnd.jupyter.widget-view+json": {
       "model_id": "7d55b1638a064cd6b5971517d04eaf76",
       "version_major": 2,
       "version_minor": 0
      },
      "text/plain": [
       "Training epoch 38:   0%|          | 0/1000 [00:00<?, ?it/s]"
      ]
     },
     "metadata": {},
     "output_type": "display_data"
    },
    {
     "data": {
      "application/vnd.jupyter.widget-view+json": {
       "model_id": "9abdab97a6724f95a03c2b53c8cccb84",
       "version_major": 2,
       "version_minor": 0
      },
      "text/plain": [
       "Training epoch 39:   0%|          | 0/1000 [00:00<?, ?it/s]"
      ]
     },
     "metadata": {},
     "output_type": "display_data"
    },
    {
     "data": {
      "application/vnd.jupyter.widget-view+json": {
       "model_id": "f7a696658561498cae6c38082f1d5bcb",
       "version_major": 2,
       "version_minor": 0
      },
      "text/plain": [
       "Training epoch 40:   0%|          | 0/1000 [00:00<?, ?it/s]"
      ]
     },
     "metadata": {},
     "output_type": "display_data"
    }
   ],
   "source": [
    "n_clust_min = 1\n",
    "n_clust_max = 100\n",
    "n_obs_min = 1\n",
    "n_obs_max = 100\n",
    "\n",
    "def n_clust_obs_v_v():\n",
    "    \"\"\"\n",
    "    Nasty hack to make compatible with BayesFlow.\n",
    "    Defines a variable number of clusters and observations.\n",
    "    \"\"\"\n",
    "    \n",
    "    K = np.random.randint(n_clust_min, n_clust_max)\n",
    "    N = np.random.randint(n_obs_min, n_obs_max)\n",
    "    return (K, N)\n",
    "\n",
    "training_time_start = perf_counter()\n",
    "losses = trainer.train_online(epochs=40, iterations_per_epoch=1000, batch_size=32, n_obs=n_clust_obs_v_v) # more steps than before\n",
    "training_time_stop = perf_counter()"
   ]
  },
  {
   "cell_type": "code",
   "execution_count": 24,
   "metadata": {},
   "outputs": [],
   "source": [
    "# Validation setup\n",
    "n_val_per_setting = 5000"
   ]
  },
  {
   "cell_type": "code",
   "execution_count": 25,
   "metadata": {},
   "outputs": [
    {
     "data": {
      "application/vnd.jupyter.widget-view+json": {
       "model_id": "b8657c3e1d9f42799b0a750615a92759",
       "version_major": 2,
       "version_minor": 0
      },
      "text/plain": [
       "Loop through clusters progress:   0%|          | 0/100 [00:00<?, ?it/s]"
      ]
     },
     "metadata": {},
     "output_type": "display_data"
    },
    {
     "data": {
      "application/vnd.jupyter.widget-view+json": {
       "model_id": "6a24e07a6a9a46f184ab03c3809129e0",
       "version_major": 2,
       "version_minor": 0
      },
      "text/plain": [
       "Loop through nested observations progress:   0%|          | 0/100 [00:00<?, ?it/s]"
      ]
     },
     "metadata": {},
     "output_type": "display_data"
    }
   ],
   "source": [
    "# Compute ECEs\n",
    "ece_means = compute_eces_variable(evidence_net, summary_net, simulator, n_val_per_setting, n_clust_min, n_clust_max, n_obs_min, n_obs_max)"
   ]
  },
  {
   "cell_type": "code",
   "execution_count": 26,
   "metadata": {},
   "outputs": [],
   "source": [
    "# Export ECE data\n",
    "local_timezone = datetime.now(timezone(timedelta(0))).astimezone().tzinfo\n",
    "filename = pd.Timestamp.today(tz=local_timezone).strftime('%Y_%m_%d___%H_%M_variable_clusters_variable_obs_eces_n_obs')\n",
    "val_folder = os.path.join(os.path.dirname(os.getcwd()),'data', 'Validation_datasets')\n",
    "np.save(os.path.join(val_folder, filename), ece_means)"
   ]
  },
  {
   "cell_type": "code",
   "execution_count": 56,
   "metadata": {},
   "outputs": [],
   "source": [
    "# Load ECE data\n",
    "n_val_per_setting = 5000\n",
    "\n",
    "n_clust_min = 1\n",
    "n_clust_max = 100\n",
    "n_obs_min = 1\n",
    "n_obs_max = 100\n",
    "\n",
    "val_folder = os.path.join(os.path.dirname(os.getcwd()),'data', 'Validation_datasets')\n",
    "ece_filename = \"2022_03_18___14_19_variable_clusters_variable_obs_eces.npy\"\n",
    "ece_means = np.load(os.path.join(val_folder, ece_filename))"
   ]
  },
  {
   "cell_type": "code",
   "execution_count": 73,
   "metadata": {},
   "outputs": [
    {
     "data": {
      "image/png": "[encoded data removed]",
      "text/plain": [
       "<Figure size 432x432 with 1 Axes>"
      ]
     },
     "metadata": {},
     "output_type": "display_data"
    }
   ],
   "source": [
    "# Plot ECEs\n",
    "\n",
    "plot_eces_variable(ece_means, n_clust_min, n_clust_max, n_obs_min, n_obs_max)"
   ]
  },
  {
   "cell_type": "code",
   "execution_count": 28,
   "metadata": {},
   "outputs": [
    {
     "data": {
      "image/png": "[encoded data removed]",
      "text/plain": [
       "<Figure size 720x720 with 1 Axes>"
      ]
     },
     "metadata": {},
     "output_type": "display_data"
    }
   ],
   "source": [
    "# Plot ECEs only over N (averaged over L)\n",
    "\n",
    "# Average over L in order to plot over N\n",
    "ece_means_reshaped = np.reshape(ece_means, (-1, n_clust_max)) # reshape into (#clusters, #observations)\n",
    "ece_means_over_N = np.mean(ece_means_reshaped, axis = 1)\n",
    "ece_means_over_N_sd = np.std(ece_means_reshaped, axis = 1)\n",
    "\n",
    "# Plot\n",
    "plot_eces_means_over_obs(ece_means_over_N, ece_means_over_N_sd, n_obs_min, n_obs_max)"
   ]
  },
  {
   "cell_type": "code",
   "execution_count": 20,
   "metadata": {},
   "outputs": [
    {
     "data": {
      "text/plain": [
       "array([0.07981659, 0.03685651, 0.02982986, 0.0288946 , 0.03269165])"
      ]
     },
     "execution_count": 20,
     "metadata": {},
     "output_type": "execute_result"
    }
   ],
   "source": [
    "ece_means_over_N[:5]"
   ]
  },
  {
   "cell_type": "code",
   "execution_count": 100,
   "metadata": {},
   "outputs": [
    {
     "name": "stdout",
     "output_type": "stream",
     "text": [
      "Mean ECE over all L (more stable) = [0.18186985 0.16163864 0.18543966 0.13194074]\n",
      "Mean ECE for L=30 (more comparable) = [0.28357073 0.09129752 0.20401547 0.19677951]\n"
     ]
    },
    {
     "data": {
      "text/html": [
       "<div>\n",
       "<style scoped>\n",
       "    .dataframe tbody tr th:only-of-type {\n",
       "        vertical-align: middle;\n",
       "    }\n",
       "\n",
       "    .dataframe tbody tr th {\n",
       "        vertical-align: top;\n",
       "    }\n",
       "\n",
       "    .dataframe thead th {\n",
       "        text-align: right;\n",
       "    }\n",
       "</style>\n",
       "<table border=\"1\" class=\"dataframe\">\n",
       "  <thead>\n",
       "    <tr style=\"text-align: right;\">\n",
       "      <th></th>\n",
       "      <th>N</th>\n",
       "      <th>Amortized NN</th>\n",
       "      <th>Non-amortized NN</th>\n",
       "    </tr>\n",
       "  </thead>\n",
       "  <tbody>\n",
       "    <tr>\n",
       "      <th>0</th>\n",
       "      <td>2</td>\n",
       "      <td>0.181</td>\n",
       "      <td>0.035</td>\n",
       "    </tr>\n",
       "    <tr>\n",
       "      <th>1</th>\n",
       "      <td>3</td>\n",
       "      <td>0.161</td>\n",
       "      <td>0.031</td>\n",
       "    </tr>\n",
       "    <tr>\n",
       "      <th>2</th>\n",
       "      <td>4</td>\n",
       "      <td>0.185</td>\n",
       "      <td>0.03</td>\n",
       "    </tr>\n",
       "    <tr>\n",
       "      <th>3</th>\n",
       "      <td>5</td>\n",
       "      <td>0.131</td>\n",
       "      <td>0.025</td>\n",
       "    </tr>\n",
       "  </tbody>\n",
       "</table>\n",
       "</div>"
      ],
      "text/plain": [
       "   N Amortized NN Non-amortized NN\n",
       "0  2        0.181            0.035\n",
       "1  3        0.161            0.031\n",
       "2  4        0.185             0.03\n",
       "3  5        0.131            0.025"
      ]
     },
     "execution_count": 100,
     "metadata": {},
     "output_type": "execute_result"
    }
   ],
   "source": [
    "# Amortized vs non amortized NN for small N's\n",
    "# Does the problematic behavior of the variable net stem from an Amortization Gap?\n",
    "print('Mean ECE over all L (more stable) = {}'.format(ece_means_over_N[1:5]))\n",
    "print('Mean ECE for L=30 (more comparable) = {}'.format(ece_means_reshaped[1:5,29]))\n",
    "pd.DataFrame([['2','3','4','5'],[0.181, 0.161, 0.185, 0.131],\n",
    "             [0.035,0.031,0.030,0.025]], index = ['N', 'Amortized NN', 'Non-amortized NN']).transpose()\n"
   ]
  },
  {
   "cell_type": "code",
   "execution_count": 47,
   "metadata": {},
   "outputs": [
    {
     "data": {
      "image/png": "[encoded data removed]",
      "text/plain": [
       "<Figure size 720x720 with 1 Axes>"
      ]
     },
     "metadata": {},
     "output_type": "display_data"
    }
   ],
   "source": [
    "# Inspect pattern over L (averaged over N)\n",
    "ece_means_reshaped = np.reshape(ece_means, (-1, n_clust_max)) # reshape into (#clusters, #observations)\n",
    "ece_means_over_N = np.mean(ece_means_reshaped, axis = 0)\n",
    "ece_means_over_N_sd = np.std(ece_means_reshaped, axis = 0)\n",
    "\n",
    "# Plot\n",
    "plot_eces_means_over_obs(ece_means_over_N, ece_means_over_N_sd, n_clust_min, n_clust_max, xlabel = 'L')"
   ]
  },
  {
   "cell_type": "markdown",
   "metadata": {},
   "source": [
    "# Bridge Sampling Comparison - Bayes Factor Approximation"
   ]
  },
  {
   "cell_type": "markdown",
   "metadata": {},
   "source": [
    "## Generation of the datasets"
   ]
  },
  {
   "cell_type": "code",
   "execution_count": 72,
   "metadata": {},
   "outputs": [
    {
     "name": "stdout",
     "output_type": "stream",
     "text": [
      "Shape of the simulated datasets (batch_size, n_clusters, n_obs, n_variables): (100, 50, 50, 1)\n"
     ]
    }
   ],
   "source": [
    "# TODO: generate exactly 50 datasets from each model -> np.random.seed(11)\n",
    "\n",
    "np.random.seed(42)\n",
    "\n",
    "simulator = MainSimulator(HierarchicalNormalSimulator())\n",
    "\n",
    "n_val = 100\n",
    "test_data_bf_true_indices, _, test_data_bf_datasets = simulator(n_val, n_clust_obs_f_f())\n",
    "test_data_bf = {'X' : test_data_bf_datasets, 'm' : test_data_bf_true_indices}\n",
    "\n",
    "print('Shape of the simulated datasets (batch_size, n_clusters, n_obs, n_variables): {}'.format(test_data_bf_datasets.shape))"
   ]
  },
  {
   "cell_type": "code",
   "execution_count": 37,
   "metadata": {},
   "outputs": [],
   "source": [
    "# save datasets\n",
    "#np.save('test_data_bf', test_data_bf)\n",
    "#np.save('test_data_bf_true_indices', test_data_bf_true_indices)\n",
    "#np.save('test_data_bf_datasets', test_data_bf_datasets)"
   ]
  },
  {
   "cell_type": "markdown",
   "metadata": {},
   "source": [
    "## Bayes Factor computation by trained NN"
   ]
  },
  {
   "cell_type": "code",
   "execution_count": 73,
   "metadata": {},
   "outputs": [],
   "source": [
    "def get_preds_and_bfs(evidence_net, summary_net, data, training_time_start, training_time_stop):\n",
    "    \"\"\" \n",
    "    Writes model predictions and resulting Bayes Factors for a given \n",
    "    array of datasets into a pandas DataFrame. \n",
    "    \"\"\"\n",
    "\n",
    "    dataset = np.arange(1,data['X'].shape[0]+1)\n",
    "    true_model = data['m'][:, 1]\n",
    "\n",
    "    # Predict\n",
    "    inference_time_start = perf_counter()\n",
    "    m1_prob = np.array(evidence_net.predict(summary_net(data['X']))['m_probs'][:, 1], dtype = np.longdouble)\n",
    "    inference_time_stop = perf_counter()\n",
    "    m0_prob = 1 - m1_prob\n",
    "    selected_model = (m1_prob > 0.5)\n",
    "\n",
    "    # Bayes Factors\n",
    "    bayes_factor = m1_prob / m0_prob\n",
    "    \n",
    "    # Times\n",
    "    training_time = np.repeat((training_time_stop-training_time_start), 100)\n",
    "    inference_time = np.repeat((inference_time_stop-inference_time_start), 100)\n",
    "    \n",
    "    # Final epoch mean loss\n",
    "    final_epoch_loss = np.repeat(np.mean(losses[10]), 100)\n",
    "\n",
    "    # Create DataFrame\n",
    "    vals = np.c_[dataset, true_model, m0_prob, m1_prob, selected_model, bayes_factor,\n",
    "                 training_time, inference_time, final_epoch_loss]\n",
    "    names = ['dataset', 'true_model', 'm0_prob', 'm1_prob', 'selected_model', 'bayes_factor',\n",
    "             'training_time', 'inference_time', 'final_epoch_loss']\n",
    "    df = pd.DataFrame(vals, columns = names)\n",
    "    df[[\"dataset\", \"true_model\", \"selected_model\"]] = df[[\"dataset\", \"true_model\", \"selected_model\"]].astype(int)\n",
    "    \n",
    "    return df"
   ]
  },
  {
   "cell_type": "code",
   "execution_count": 74,
   "metadata": {},
   "outputs": [
    {
     "data": {
      "text/html": [
       "<div>\n",
       "<style scoped>\n",
       "    .dataframe tbody tr th:only-of-type {\n",
       "        vertical-align: middle;\n",
       "    }\n",
       "\n",
       "    .dataframe tbody tr th {\n",
       "        vertical-align: top;\n",
       "    }\n",
       "\n",
       "    .dataframe thead th {\n",
       "        text-align: right;\n",
       "    }\n",
       "</style>\n",
       "<table border=\"1\" class=\"dataframe\">\n",
       "  <thead>\n",
       "    <tr style=\"text-align: right;\">\n",
       "      <th></th>\n",
       "      <th>dataset</th>\n",
       "      <th>true_model</th>\n",
       "      <th>m0_prob</th>\n",
       "      <th>m1_prob</th>\n",
       "      <th>selected_model</th>\n",
       "      <th>bayes_factor</th>\n",
       "      <th>training_time</th>\n",
       "      <th>inference_time</th>\n",
       "      <th>final_epoch_loss</th>\n",
       "    </tr>\n",
       "  </thead>\n",
       "  <tbody>\n",
       "    <tr>\n",
       "      <th>0</th>\n",
       "      <td>1</td>\n",
       "      <td>0</td>\n",
       "      <td>0.938310</td>\n",
       "      <td>0.061690</td>\n",
       "      <td>0</td>\n",
       "      <td>0.065746</td>\n",
       "      <td>667.831701</td>\n",
       "      <td>0.016649</td>\n",
       "      <td>0.291394</td>\n",
       "    </tr>\n",
       "    <tr>\n",
       "      <th>1</th>\n",
       "      <td>2</td>\n",
       "      <td>1</td>\n",
       "      <td>0.001911</td>\n",
       "      <td>0.998089</td>\n",
       "      <td>1</td>\n",
       "      <td>522.421084</td>\n",
       "      <td>667.831701</td>\n",
       "      <td>0.016649</td>\n",
       "      <td>0.291394</td>\n",
       "    </tr>\n",
       "    <tr>\n",
       "      <th>2</th>\n",
       "      <td>3</td>\n",
       "      <td>1</td>\n",
       "      <td>0.001337</td>\n",
       "      <td>0.998663</td>\n",
       "      <td>1</td>\n",
       "      <td>746.981097</td>\n",
       "      <td>667.831701</td>\n",
       "      <td>0.016649</td>\n",
       "      <td>0.291394</td>\n",
       "    </tr>\n",
       "    <tr>\n",
       "      <th>3</th>\n",
       "      <td>4</td>\n",
       "      <td>1</td>\n",
       "      <td>0.042312</td>\n",
       "      <td>0.957688</td>\n",
       "      <td>1</td>\n",
       "      <td>22.633909</td>\n",
       "      <td>667.831701</td>\n",
       "      <td>0.016649</td>\n",
       "      <td>0.291394</td>\n",
       "    </tr>\n",
       "    <tr>\n",
       "      <th>4</th>\n",
       "      <td>5</td>\n",
       "      <td>0</td>\n",
       "      <td>0.939231</td>\n",
       "      <td>0.060769</td>\n",
       "      <td>0</td>\n",
       "      <td>0.064701</td>\n",
       "      <td>667.831701</td>\n",
       "      <td>0.016649</td>\n",
       "      <td>0.291394</td>\n",
       "    </tr>\n",
       "  </tbody>\n",
       "</table>\n",
       "</div>"
      ],
      "text/plain": [
       "   dataset  true_model   m0_prob   m1_prob  selected_model  bayes_factor  \\\n",
       "0        1           0  0.938310  0.061690               0      0.065746   \n",
       "1        2           1  0.001911  0.998089               1    522.421084   \n",
       "2        3           1  0.001337  0.998663               1    746.981097   \n",
       "3        4           1  0.042312  0.957688               1     22.633909   \n",
       "4        5           0  0.939231  0.060769               0      0.064701   \n",
       "\n",
       "   training_time  inference_time  final_epoch_loss  \n",
       "0     667.831701        0.016649          0.291394  \n",
       "1     667.831701        0.016649          0.291394  \n",
       "2     667.831701        0.016649          0.291394  \n",
       "3     667.831701        0.016649          0.291394  \n",
       "4     667.831701        0.016649          0.291394  "
      ]
     },
     "execution_count": 74,
     "metadata": {},
     "output_type": "execute_result"
    }
   ],
   "source": [
    "comparison_results = get_preds_and_bfs(evidence_net, summary_net, test_data_bf, training_time_start, training_time_stop)\n",
    "comparison_results.head(5)"
   ]
  },
  {
   "cell_type": "markdown",
   "metadata": {},
   "source": [
    "## Exportation of experimental results"
   ]
  },
  {
   "cell_type": "code",
   "execution_count": 75,
   "metadata": {},
   "outputs": [],
   "source": [
    "# FIXED VARIANT\n",
    "local_timezone = datetime.now(timezone(timedelta(0))).astimezone().tzinfo\n",
    "filename = pd.Timestamp.today(tz=local_timezone).strftime('%Y_%m_%d___%H_%M_BF_NN_comp')\n",
    "comparison_folder = os.path.join(os.path.dirname(os.getcwd()),'data', 'BF_approximation_comparison')\n",
    "\n",
    "comparison_results.to_csv(os.path.join(comparison_folder, filename), index = False)"
   ]
  },
  {
   "cell_type": "code",
   "execution_count": 61,
   "metadata": {},
   "outputs": [],
   "source": [
    "# VARIABLE VARIANT\n",
    "local_timezone = datetime.now(timezone(timedelta(0))).astimezone().tzinfo\n",
    "filename = pd.Timestamp.today(tz=local_timezone).strftime('%Y_%m_%d___%H_%M_BF_NN_variable_comp')\n",
    "comparison_folder = os.path.join(os.path.dirname(os.getcwd()),'data', 'BF_approximation_comparison')\n",
    "\n",
    "comparison_results.to_csv(os.path.join(comparison_folder, filename), index = False)"
   ]
  },
  {
   "cell_type": "markdown",
   "metadata": {},
   "source": [
    "# Levy flight application"
   ]
  },
  {
   "cell_type": "markdown",
   "metadata": {},
   "source": [
    "## Load in data"
   ]
  },
  {
   "cell_type": "code",
   "execution_count": 14,
   "metadata": {},
   "outputs": [],
   "source": [
    "# TODO: Outsource loading & transformation procedures to helper functions"
   ]
  },
  {
   "cell_type": "code",
   "execution_count": 24,
   "metadata": {},
   "outputs": [],
   "source": [
    "# 100 trials for pre-training, 900 trials for fine-tuning\n",
    "levy_sims_folder = 'c:\\\\Users\\\\lasse\\\\documents\\\\hierarchical model comparison project\\\\data\\\\Levy_flight_application'"
   ]
  },
  {
   "cell_type": "code",
   "execution_count": 25,
   "metadata": {},
   "outputs": [],
   "source": [
    "# 100 trials\n",
    "indices_100_filename = \"train_indices_100_trials.npy\"\n",
    "datasets_100_filename = \"train_datasets_100_trials.npy\"\n",
    "\n",
    "indices_100 = np.load(os.path.join(levy_sims_folder, indices_100_filename))\n",
    "datasets_100 = np.load(os.path.join(levy_sims_folder, datasets_100_filename))\n",
    "\n",
    "# unpack indices\n",
    "indices_100 = indices_100[:,0,0,0]-1\n",
    "\n",
    "# one-hot encode indices\n",
    "indices_100 = to_categorical(indices_100, num_classes=4)"
   ]
  },
  {
   "cell_type": "code",
   "execution_count": 12,
   "metadata": {},
   "outputs": [],
   "source": [
    "# 900 trials\n",
    "indices_900_filename = \"train_indices_900_trials.npy\"\n",
    "datasets_900_filename = \"train_datasets_900_trials.npy\"\n",
    "\n",
    "indices_900 = np.load(os.path.join(levy_sims_folder, indices_900_filename))\n",
    "datasets_900 = np.load(os.path.join(levy_sims_folder, datasets_900_filename))\n",
    "\n",
    "# unpack indices\n",
    "indices_900 = indices_900[:,0,0,0]-1\n",
    "\n",
    "# one-hot encode indices\n",
    "indices_900 = to_categorical(indices_900, num_classes=4)"
   ]
  },
  {
   "cell_type": "markdown",
   "metadata": {},
   "source": [
    "## Training"
   ]
  },
  {
   "cell_type": "code",
   "execution_count": 62,
   "metadata": {},
   "outputs": [],
   "source": [
    "# Network settings for all experiments\n",
    "summary_meta = {\n",
    "    'level_1': {\n",
    "        'inv_inner': {\n",
    "            'dense_inv_pre_pooling_args'  : dict(units=8, activation='elu', kernel_initializer='glorot_normal'),\n",
    "            'dense_inv_post_pooling_args' : dict(units=8, activation='elu', kernel_initializer='glorot_normal'),\n",
    "            'n_dense_inv'                 : 2,\n",
    "        },\n",
    "        'inv_outer': {\n",
    "            'dense_inv_pre_pooling_args'  : dict(units=32, activation='elu', kernel_initializer='glorot_normal'),\n",
    "            'dense_inv_post_pooling_args' : dict(units=32, activation='elu', kernel_initializer='glorot_normal'),\n",
    "            'n_dense_inv'                 : 2,\n",
    "        },\n",
    "        'dense_equiv_args': dict(units=16, activation='elu', kernel_initializer='glorot_normal'),\n",
    "        'n_dense_equiv': 2,\n",
    "        'n_equiv': 2,\n",
    "    },\n",
    "    'level_2': {\n",
    "        'inv_inner': {\n",
    "            'dense_inv_pre_pooling_args'  : dict(units=32, activation='elu', kernel_initializer='glorot_normal'),\n",
    "            'dense_inv_post_pooling_args' : dict(units=32, activation='elu', kernel_initializer='glorot_normal'),\n",
    "            'n_dense_inv'                 : 2,\n",
    "        },\n",
    "        'inv_outer': {\n",
    "            'dense_inv_pre_pooling_args'  : dict(units=128, activation='elu', kernel_initializer='glorot_normal'),\n",
    "            'dense_inv_post_pooling_args' : dict(units=128, activation='elu', kernel_initializer='glorot_normal'),\n",
    "            'n_dense_inv'                 : 2,\n",
    "        },\n",
    "        'dense_equiv_args': dict(units=64, activation='elu', kernel_initializer='glorot_normal'),\n",
    "        'n_dense_equiv': 2,\n",
    "        'n_equiv': 2,\n",
    "    },\n",
    "}\n",
    "evidence_meta = {\n",
    "    'dense_args': dict(units=64, activation='elu', kernel_initializer='glorot_normal'),\n",
    "    'n_dense': 2,\n",
    "    'n_models': 4,\n",
    "    'activation_out': 'softplus'\n",
    "}"
   ]
  },
  {
   "cell_type": "markdown",
   "metadata": {},
   "source": [
    "### Pre-training with 100 trials per person"
   ]
  },
  {
   "cell_type": "markdown",
   "metadata": {},
   "source": [
    "When retraining: Move to new Trial folder so that networks are initialized from scratch."
   ]
  },
  {
   "cell_type": "code",
   "execution_count": 16,
   "metadata": {},
   "outputs": [
    {
     "name": "stdout",
     "output_type": "stream",
     "text": [
      "TRAINER INITIALIZATION: No generative model provided. Only offline learning mode is available!\n",
      "Networks loaded from c:\\Users\\lasse\\Dropbox\\Uni Mannheim\\M.Sc\\4. Semester\\Masterarbeit\\Coding\\Python code\\checkpoints\\trial_1\\ckpt-32\n"
     ]
    }
   ],
   "source": [
    "batch_size = 32\n",
    "\n",
    "# BayesFlow splits data set into a number of parts equal to batch_size\n",
    "# So having n_epochs = batch_size results in one pass through the whole data set \n",
    "n_epochs = batch_size \n",
    "\n",
    "summary_net = HierarchicalInvariantNetwork(summary_meta)\n",
    "evidence_net = EvidentialNetwork(evidence_meta)\n",
    "amortizer = MultiModelAmortizer(evidence_net, summary_net)\n",
    "\n",
    "# Cosine Decay with Restarts\n",
    "initial_lr = 0.0005\n",
    "first_decay_steps = 1000\n",
    "t_mul = 2\n",
    "m_mul = 0.9\n",
    "alpha = 0.2\n",
    "lr_schedule_restart = CosineDecayRestarts(\n",
    "    initial_lr, first_decay_steps, t_mul=t_mul, m_mul=m_mul, alpha=alpha)\n",
    "\n",
    "# Checkpoint path for storing pretrained network\n",
    "trial = 'trial_1'\n",
    "checkpoint_path = os.path.join(os.getcwd(), 'checkpoints', trial)\n",
    "\n",
    "trainer = ModelComparisonTrainer(network=amortizer, \n",
    "                                 loss=partial(log_loss, kl_weight=0),\n",
    "                                 optimizer=partial(Adam, lr_schedule_restart),\n",
    "                                 checkpoint_path=checkpoint_path,\n",
    "                                 skip_checks=True)"
   ]
  },
  {
   "cell_type": "code",
   "execution_count": 15,
   "metadata": {},
   "outputs": [
    {
     "name": "stdout",
     "output_type": "stream",
     "text": [
      "Converting 40000 simulations to a TensorFlow data set...\n"
     ]
    },
    {
     "data": {
      "application/vnd.jupyter.widget-view+json": {
       "model_id": "72d66154a083431c9609d81662e4f27b",
       "version_major": 2,
       "version_minor": 0
      },
      "text/plain": [
       "Training epoch 1:   0%|          | 0/1250 [00:00<?, ?it/s]"
      ]
     },
     "metadata": {},
     "output_type": "display_data"
    },
    {
     "data": {
      "application/vnd.jupyter.widget-view+json": {
       "model_id": "331b51b5859b497f9aa2ff264713f4db",
       "version_major": 2,
       "version_minor": 0
      },
      "text/plain": [
       "Training epoch 2:   0%|          | 0/1250 [00:00<?, ?it/s]"
      ]
     },
     "metadata": {},
     "output_type": "display_data"
    },
    {
     "data": {
      "application/vnd.jupyter.widget-view+json": {
       "model_id": "2373f636a4fa4b079c5f3b9b3d2d1f0d",
       "version_major": 2,
       "version_minor": 0
      },
      "text/plain": [
       "Training epoch 3:   0%|          | 0/1250 [00:00<?, ?it/s]"
      ]
     },
     "metadata": {},
     "output_type": "display_data"
    },
    {
     "data": {
      "application/vnd.jupyter.widget-view+json": {
       "model_id": "4fa728cac1ee4b63b73bb3e8549ef931",
       "version_major": 2,
       "version_minor": 0
      },
      "text/plain": [
       "Training epoch 4:   0%|          | 0/1250 [00:00<?, ?it/s]"
      ]
     },
     "metadata": {},
     "output_type": "display_data"
    },
    {
     "data": {
      "application/vnd.jupyter.widget-view+json": {
       "model_id": "e0797bb6316847ff96e4b247ea1b6a34",
       "version_major": 2,
       "version_minor": 0
      },
      "text/plain": [
       "Training epoch 5:   0%|          | 0/1250 [00:00<?, ?it/s]"
      ]
     },
     "metadata": {},
     "output_type": "display_data"
    },
    {
     "data": {
      "application/vnd.jupyter.widget-view+json": {
       "model_id": "cadffdefb6de4c348f85df9f86ce1523",
       "version_major": 2,
       "version_minor": 0
      },
      "text/plain": [
       "Training epoch 6:   0%|          | 0/1250 [00:00<?, ?it/s]"
      ]
     },
     "metadata": {},
     "output_type": "display_data"
    },
    {
     "data": {
      "application/vnd.jupyter.widget-view+json": {
       "model_id": "c39252db4e85445794488a465120d353",
       "version_major": 2,
       "version_minor": 0
      },
      "text/plain": [
       "Training epoch 7:   0%|          | 0/1250 [00:00<?, ?it/s]"
      ]
     },
     "metadata": {},
     "output_type": "display_data"
    },
    {
     "data": {
      "application/vnd.jupyter.widget-view+json": {
       "model_id": "0e0caabdb5ea489b8d5559073129b108",
       "version_major": 2,
       "version_minor": 0
      },
      "text/plain": [
       "Training epoch 8:   0%|          | 0/1250 [00:00<?, ?it/s]"
      ]
     },
     "metadata": {},
     "output_type": "display_data"
    },
    {
     "data": {
      "application/vnd.jupyter.widget-view+json": {
       "model_id": "10d3abdd65db45b583492a2dfa0d602f",
       "version_major": 2,
       "version_minor": 0
      },
      "text/plain": [
       "Training epoch 9:   0%|          | 0/1250 [00:00<?, ?it/s]"
      ]
     },
     "metadata": {},
     "output_type": "display_data"
    },
    {
     "data": {
      "application/vnd.jupyter.widget-view+json": {
       "model_id": "2dc9b8fc79fd4f7b85dd9efa899de3ab",
       "version_major": 2,
       "version_minor": 0
      },
      "text/plain": [
       "Training epoch 10:   0%|          | 0/1250 [00:00<?, ?it/s]"
      ]
     },
     "metadata": {},
     "output_type": "display_data"
    },
    {
     "data": {
      "application/vnd.jupyter.widget-view+json": {
       "model_id": "5e32ba9379744571bf298616acbc21bb",
       "version_major": 2,
       "version_minor": 0
      },
      "text/plain": [
       "Training epoch 11:   0%|          | 0/1250 [00:00<?, ?it/s]"
      ]
     },
     "metadata": {},
     "output_type": "display_data"
    },
    {
     "data": {
      "application/vnd.jupyter.widget-view+json": {
       "model_id": "0be97cbdbf8243ecaacfe118f5773e94",
       "version_major": 2,
       "version_minor": 0
      },
      "text/plain": [
       "Training epoch 12:   0%|          | 0/1250 [00:00<?, ?it/s]"
      ]
     },
     "metadata": {},
     "output_type": "display_data"
    },
    {
     "data": {
      "application/vnd.jupyter.widget-view+json": {
       "model_id": "e746dfdf618d40b09f2229e235955bf9",
       "version_major": 2,
       "version_minor": 0
      },
      "text/plain": [
       "Training epoch 13:   0%|          | 0/1250 [00:00<?, ?it/s]"
      ]
     },
     "metadata": {},
     "output_type": "display_data"
    },
    {
     "data": {
      "application/vnd.jupyter.widget-view+json": {
       "model_id": "502b898c64f04edcb05323aec57d7ef9",
       "version_major": 2,
       "version_minor": 0
      },
      "text/plain": [
       "Training epoch 14:   0%|          | 0/1250 [00:00<?, ?it/s]"
      ]
     },
     "metadata": {},
     "output_type": "display_data"
    },
    {
     "data": {
      "application/vnd.jupyter.widget-view+json": {
       "model_id": "4d6e62228dac458490529be20f2e86a2",
       "version_major": 2,
       "version_minor": 0
      },
      "text/plain": [
       "Training epoch 15:   0%|          | 0/1250 [00:00<?, ?it/s]"
      ]
     },
     "metadata": {},
     "output_type": "display_data"
    },
    {
     "data": {
      "application/vnd.jupyter.widget-view+json": {
       "model_id": "339b4fc5767b4aadb8d28aa999035aff",
       "version_major": 2,
       "version_minor": 0
      },
      "text/plain": [
       "Training epoch 16:   0%|          | 0/1250 [00:00<?, ?it/s]"
      ]
     },
     "metadata": {},
     "output_type": "display_data"
    },
    {
     "data": {
      "application/vnd.jupyter.widget-view+json": {
       "model_id": "97f8acb3963f45168fc23fa829d90eaa",
       "version_major": 2,
       "version_minor": 0
      },
      "text/plain": [
       "Training epoch 17:   0%|          | 0/1250 [00:00<?, ?it/s]"
      ]
     },
     "metadata": {},
     "output_type": "display_data"
    },
    {
     "data": {
      "application/vnd.jupyter.widget-view+json": {
       "model_id": "d410b298aea64d0182aac0cd4d96f814",
       "version_major": 2,
       "version_minor": 0
      },
      "text/plain": [
       "Training epoch 18:   0%|          | 0/1250 [00:00<?, ?it/s]"
      ]
     },
     "metadata": {},
     "output_type": "display_data"
    },
    {
     "data": {
      "application/vnd.jupyter.widget-view+json": {
       "model_id": "317ebbb0a65648a5a9c1c041f879b445",
       "version_major": 2,
       "version_minor": 0
      },
      "text/plain": [
       "Training epoch 19:   0%|          | 0/1250 [00:00<?, ?it/s]"
      ]
     },
     "metadata": {},
     "output_type": "display_data"
    },
    {
     "data": {
      "application/vnd.jupyter.widget-view+json": {
       "model_id": "c117adc1bf9944cdbf5672f8062c70b0",
       "version_major": 2,
       "version_minor": 0
      },
      "text/plain": [
       "Training epoch 20:   0%|          | 0/1250 [00:00<?, ?it/s]"
      ]
     },
     "metadata": {},
     "output_type": "display_data"
    },
    {
     "data": {
      "application/vnd.jupyter.widget-view+json": {
       "model_id": "aacfd3fb3ec14530888761943bca2c84",
       "version_major": 2,
       "version_minor": 0
      },
      "text/plain": [
       "Training epoch 21:   0%|          | 0/1250 [00:00<?, ?it/s]"
      ]
     },
     "metadata": {},
     "output_type": "display_data"
    },
    {
     "data": {
      "application/vnd.jupyter.widget-view+json": {
       "model_id": "7a12c44e90bc4c4e93e18765fe480e65",
       "version_major": 2,
       "version_minor": 0
      },
      "text/plain": [
       "Training epoch 22:   0%|          | 0/1250 [00:00<?, ?it/s]"
      ]
     },
     "metadata": {},
     "output_type": "display_data"
    },
    {
     "data": {
      "application/vnd.jupyter.widget-view+json": {
       "model_id": "7d5b84c1898d46a1843bf816ee689a5e",
       "version_major": 2,
       "version_minor": 0
      },
      "text/plain": [
       "Training epoch 23:   0%|          | 0/1250 [00:00<?, ?it/s]"
      ]
     },
     "metadata": {},
     "output_type": "display_data"
    },
    {
     "data": {
      "application/vnd.jupyter.widget-view+json": {
       "model_id": "09c776f05fca4139b181a0cf524f45e9",
       "version_major": 2,
       "version_minor": 0
      },
      "text/plain": [
       "Training epoch 24:   0%|          | 0/1250 [00:00<?, ?it/s]"
      ]
     },
     "metadata": {},
     "output_type": "display_data"
    },
    {
     "data": {
      "application/vnd.jupyter.widget-view+json": {
       "model_id": "621e91e511844573bc423b071f44b16b",
       "version_major": 2,
       "version_minor": 0
      },
      "text/plain": [
       "Training epoch 25:   0%|          | 0/1250 [00:00<?, ?it/s]"
      ]
     },
     "metadata": {},
     "output_type": "display_data"
    },
    {
     "data": {
      "application/vnd.jupyter.widget-view+json": {
       "model_id": "ce594d8dcc86488f81ce826eb551e43e",
       "version_major": 2,
       "version_minor": 0
      },
      "text/plain": [
       "Training epoch 26:   0%|          | 0/1250 [00:00<?, ?it/s]"
      ]
     },
     "metadata": {},
     "output_type": "display_data"
    },
    {
     "data": {
      "application/vnd.jupyter.widget-view+json": {
       "model_id": "5b33ca3ecb874145937076e8ea3dcc5f",
       "version_major": 2,
       "version_minor": 0
      },
      "text/plain": [
       "Training epoch 27:   0%|          | 0/1250 [00:00<?, ?it/s]"
      ]
     },
     "metadata": {},
     "output_type": "display_data"
    },
    {
     "data": {
      "application/vnd.jupyter.widget-view+json": {
       "model_id": "ad8d71efde464d3e99b0e8aa22659f63",
       "version_major": 2,
       "version_minor": 0
      },
      "text/plain": [
       "Training epoch 28:   0%|          | 0/1250 [00:00<?, ?it/s]"
      ]
     },
     "metadata": {},
     "output_type": "display_data"
    },
    {
     "data": {
      "application/vnd.jupyter.widget-view+json": {
       "model_id": "b1556a04bbe84a0da5ae292a70e103cd",
       "version_major": 2,
       "version_minor": 0
      },
      "text/plain": [
       "Training epoch 29:   0%|          | 0/1250 [00:00<?, ?it/s]"
      ]
     },
     "metadata": {},
     "output_type": "display_data"
    },
    {
     "data": {
      "application/vnd.jupyter.widget-view+json": {
       "model_id": "0fae20725b02498abe10ad4ad7d58a31",
       "version_major": 2,
       "version_minor": 0
      },
      "text/plain": [
       "Training epoch 30:   0%|          | 0/1250 [00:00<?, ?it/s]"
      ]
     },
     "metadata": {},
     "output_type": "display_data"
    },
    {
     "data": {
      "application/vnd.jupyter.widget-view+json": {
       "model_id": "b0af159fd03a4ae6a7b10c878d153659",
       "version_major": 2,
       "version_minor": 0
      },
      "text/plain": [
       "Training epoch 31:   0%|          | 0/1250 [00:00<?, ?it/s]"
      ]
     },
     "metadata": {},
     "output_type": "display_data"
    },
    {
     "data": {
      "application/vnd.jupyter.widget-view+json": {
       "model_id": "41d5d50f904149d18b6beda700da3768",
       "version_major": 2,
       "version_minor": 0
      },
      "text/plain": [
       "Training epoch 32:   0%|          | 0/1250 [00:00<?, ?it/s]"
      ]
     },
     "metadata": {},
     "output_type": "display_data"
    }
   ],
   "source": [
    "losses = trainer.train_offline(epochs=n_epochs, batch_size=batch_size, \n",
    "                               model_indices=indices_100, sim_data=datasets_100)"
   ]
  },
  {
   "cell_type": "markdown",
   "metadata": {},
   "source": [
    "- training time = 62 minutes\n",
    "- running loss after 32 epochs = 0.469"
   ]
  },
  {
   "cell_type": "markdown",
   "metadata": {},
   "source": [
    "### Fine-tuning with 900 trials per person"
   ]
  },
  {
   "cell_type": "markdown",
   "metadata": {},
   "source": [
    "When only conducting fine-tuning: manually move/delete fine-tuning checkpoints in checkpoints folder so that training resumes from pretrained network."
   ]
  },
  {
   "cell_type": "code",
   "execution_count": 63,
   "metadata": {},
   "outputs": [
    {
     "name": "stdout",
     "output_type": "stream",
     "text": [
      "TRAINER INITIALIZATION: No generative model provided. Only offline learning mode is available!\n",
      "Networks loaded from c:\\Users\\lasse\\Dropbox\\Uni Mannheim\\M.Sc\\4. Semester\\Masterarbeit\\Coding\\Python code\\checkpoints\\trial_1\\ckpt-64\n"
     ]
    }
   ],
   "source": [
    "batch_size = 32\n",
    "\n",
    "# BayesFlow splits data set into a number of parts equal to batch_size\n",
    "# So having n_epochs = batch_size results in one pass through the whole data set \n",
    "n_epochs = batch_size \n",
    "\n",
    "summary_net = HierarchicalInvariantNetwork(summary_meta)\n",
    "evidence_net = EvidentialNetwork(evidence_meta)\n",
    "amortizer = MultiModelAmortizer(evidence_net, summary_net)\n",
    "\n",
    "# Cosine Decay with Restarts\n",
    "initial_lr = 0.00005 # Shrink LR by factor 10 for fine-tuning\n",
    "first_decay_steps = 1000\n",
    "t_mul = 2\n",
    "m_mul = 0.9\n",
    "alpha = 0.2\n",
    "lr_schedule_restart = CosineDecayRestarts(\n",
    "    initial_lr, first_decay_steps, t_mul=t_mul, m_mul=m_mul, alpha=alpha)\n",
    "\n",
    "# Checkpoint path for loading pretrained network and saving the final network\n",
    "trial = 'trial_1'\n",
    "checkpoint_path = os.path.join(os.getcwd(), 'checkpoints', trial)\n",
    "\n",
    "trainer = ModelComparisonTrainer(network=amortizer, \n",
    "                                 loss=partial(log_loss, kl_weight=0),\n",
    "                                 optimizer=partial(Adam, lr_schedule_restart),\n",
    "                                 checkpoint_path=checkpoint_path,\n",
    "                                 skip_checks=True)"
   ]
  },
  {
   "cell_type": "code",
   "execution_count": 19,
   "metadata": {},
   "outputs": [
    {
     "name": "stdout",
     "output_type": "stream",
     "text": [
      "Converting 8000 simulations to a TensorFlow data set...\n"
     ]
    },
    {
     "data": {
      "application/vnd.jupyter.widget-view+json": {
       "model_id": "6b11f2a585b549ccb9a319e374a2f652",
       "version_major": 2,
       "version_minor": 0
      },
      "text/plain": [
       "Training epoch 1:   0%|          | 0/250 [00:00<?, ?it/s]"
      ]
     },
     "metadata": {},
     "output_type": "display_data"
    },
    {
     "data": {
      "application/vnd.jupyter.widget-view+json": {
       "model_id": "94d166d7507f4eb39340221f21bbcdd1",
       "version_major": 2,
       "version_minor": 0
      },
      "text/plain": [
       "Training epoch 2:   0%|          | 0/250 [00:00<?, ?it/s]"
      ]
     },
     "metadata": {},
     "output_type": "display_data"
    },
    {
     "data": {
      "application/vnd.jupyter.widget-view+json": {
       "model_id": "48e06beacc1243bdb8f7a7f32f367d2a",
       "version_major": 2,
       "version_minor": 0
      },
      "text/plain": [
       "Training epoch 3:   0%|          | 0/250 [00:00<?, ?it/s]"
      ]
     },
     "metadata": {},
     "output_type": "display_data"
    },
    {
     "data": {
      "application/vnd.jupyter.widget-view+json": {
       "model_id": "5fc55790b294479bb0ebc3317fb4ec46",
       "version_major": 2,
       "version_minor": 0
      },
      "text/plain": [
       "Training epoch 4:   0%|          | 0/250 [00:00<?, ?it/s]"
      ]
     },
     "metadata": {},
     "output_type": "display_data"
    },
    {
     "data": {
      "application/vnd.jupyter.widget-view+json": {
       "model_id": "f1eda94f974148a7a35818a1c5a1f747",
       "version_major": 2,
       "version_minor": 0
      },
      "text/plain": [
       "Training epoch 5:   0%|          | 0/250 [00:00<?, ?it/s]"
      ]
     },
     "metadata": {},
     "output_type": "display_data"
    },
    {
     "data": {
      "application/vnd.jupyter.widget-view+json": {
       "model_id": "848ddd37014b4c9ea2f5232e4a37b00f",
       "version_major": 2,
       "version_minor": 0
      },
      "text/plain": [
       "Training epoch 6:   0%|          | 0/250 [00:00<?, ?it/s]"
      ]
     },
     "metadata": {},
     "output_type": "display_data"
    },
    {
     "data": {
      "application/vnd.jupyter.widget-view+json": {
       "model_id": "60ed307ca291489cb26a88a697092dfd",
       "version_major": 2,
       "version_minor": 0
      },
      "text/plain": [
       "Training epoch 7:   0%|          | 0/250 [00:00<?, ?it/s]"
      ]
     },
     "metadata": {},
     "output_type": "display_data"
    },
    {
     "data": {
      "application/vnd.jupyter.widget-view+json": {
       "model_id": "c703ba82a7de403da7cc9c0762a900ac",
       "version_major": 2,
       "version_minor": 0
      },
      "text/plain": [
       "Training epoch 8:   0%|          | 0/250 [00:00<?, ?it/s]"
      ]
     },
     "metadata": {},
     "output_type": "display_data"
    },
    {
     "data": {
      "application/vnd.jupyter.widget-view+json": {
       "model_id": "cca39c980c0a4540ae9a6b9ddfc82cf5",
       "version_major": 2,
       "version_minor": 0
      },
      "text/plain": [
       "Training epoch 9:   0%|          | 0/250 [00:00<?, ?it/s]"
      ]
     },
     "metadata": {},
     "output_type": "display_data"
    },
    {
     "data": {
      "application/vnd.jupyter.widget-view+json": {
       "model_id": "01b00fd85b7c484fb688e49a6b5e8582",
       "version_major": 2,
       "version_minor": 0
      },
      "text/plain": [
       "Training epoch 10:   0%|          | 0/250 [00:00<?, ?it/s]"
      ]
     },
     "metadata": {},
     "output_type": "display_data"
    },
    {
     "data": {
      "application/vnd.jupyter.widget-view+json": {
       "model_id": "bd183f5869ec49dfa13b558eec24dc3d",
       "version_major": 2,
       "version_minor": 0
      },
      "text/plain": [
       "Training epoch 11:   0%|          | 0/250 [00:00<?, ?it/s]"
      ]
     },
     "metadata": {},
     "output_type": "display_data"
    },
    {
     "data": {
      "application/vnd.jupyter.widget-view+json": {
       "model_id": "59b844a901c246258a031f2c276e0d3d",
       "version_major": 2,
       "version_minor": 0
      },
      "text/plain": [
       "Training epoch 12:   0%|          | 0/250 [00:00<?, ?it/s]"
      ]
     },
     "metadata": {},
     "output_type": "display_data"
    },
    {
     "data": {
      "application/vnd.jupyter.widget-view+json": {
       "model_id": "6c7fffc7656f405496a41d1daceccdbd",
       "version_major": 2,
       "version_minor": 0
      },
      "text/plain": [
       "Training epoch 13:   0%|          | 0/250 [00:00<?, ?it/s]"
      ]
     },
     "metadata": {},
     "output_type": "display_data"
    },
    {
     "data": {
      "application/vnd.jupyter.widget-view+json": {
       "model_id": "e620c3eac39a4368a54304f37c1c0399",
       "version_major": 2,
       "version_minor": 0
      },
      "text/plain": [
       "Training epoch 14:   0%|          | 0/250 [00:00<?, ?it/s]"
      ]
     },
     "metadata": {},
     "output_type": "display_data"
    },
    {
     "data": {
      "application/vnd.jupyter.widget-view+json": {
       "model_id": "b574d7f026864a9bb5a5e68c0dcbd26e",
       "version_major": 2,
       "version_minor": 0
      },
      "text/plain": [
       "Training epoch 15:   0%|          | 0/250 [00:00<?, ?it/s]"
      ]
     },
     "metadata": {},
     "output_type": "display_data"
    },
    {
     "data": {
      "application/vnd.jupyter.widget-view+json": {
       "model_id": "c939a0d62117459caf9788ed5314a963",
       "version_major": 2,
       "version_minor": 0
      },
      "text/plain": [
       "Training epoch 16:   0%|          | 0/250 [00:00<?, ?it/s]"
      ]
     },
     "metadata": {},
     "output_type": "display_data"
    },
    {
     "data": {
      "application/vnd.jupyter.widget-view+json": {
       "model_id": "1bdfc2a58db34e3d8cf3ccee93f32b7b",
       "version_major": 2,
       "version_minor": 0
      },
      "text/plain": [
       "Training epoch 17:   0%|          | 0/250 [00:00<?, ?it/s]"
      ]
     },
     "metadata": {},
     "output_type": "display_data"
    },
    {
     "data": {
      "application/vnd.jupyter.widget-view+json": {
       "model_id": "04613f85b21741a29115419f3a2402e8",
       "version_major": 2,
       "version_minor": 0
      },
      "text/plain": [
       "Training epoch 18:   0%|          | 0/250 [00:00<?, ?it/s]"
      ]
     },
     "metadata": {},
     "output_type": "display_data"
    },
    {
     "data": {
      "application/vnd.jupyter.widget-view+json": {
       "model_id": "bc802fbd91104665a970c2c5fa6d5af8",
       "version_major": 2,
       "version_minor": 0
      },
      "text/plain": [
       "Training epoch 19:   0%|          | 0/250 [00:00<?, ?it/s]"
      ]
     },
     "metadata": {},
     "output_type": "display_data"
    },
    {
     "data": {
      "application/vnd.jupyter.widget-view+json": {
       "model_id": "58a347fbe3834271a68074c66c879ab5",
       "version_major": 2,
       "version_minor": 0
      },
      "text/plain": [
       "Training epoch 20:   0%|          | 0/250 [00:00<?, ?it/s]"
      ]
     },
     "metadata": {},
     "output_type": "display_data"
    },
    {
     "data": {
      "application/vnd.jupyter.widget-view+json": {
       "model_id": "82113c68892a4b7eb6e4dda6fcf7247a",
       "version_major": 2,
       "version_minor": 0
      },
      "text/plain": [
       "Training epoch 21:   0%|          | 0/250 [00:00<?, ?it/s]"
      ]
     },
     "metadata": {},
     "output_type": "display_data"
    },
    {
     "data": {
      "application/vnd.jupyter.widget-view+json": {
       "model_id": "5e683b86b4474ad292c6dc9be265cd9d",
       "version_major": 2,
       "version_minor": 0
      },
      "text/plain": [
       "Training epoch 22:   0%|          | 0/250 [00:00<?, ?it/s]"
      ]
     },
     "metadata": {},
     "output_type": "display_data"
    },
    {
     "data": {
      "application/vnd.jupyter.widget-view+json": {
       "model_id": "8e67adbd38bf471b8019dabf9e53fa2a",
       "version_major": 2,
       "version_minor": 0
      },
      "text/plain": [
       "Training epoch 23:   0%|          | 0/250 [00:00<?, ?it/s]"
      ]
     },
     "metadata": {},
     "output_type": "display_data"
    },
    {
     "data": {
      "application/vnd.jupyter.widget-view+json": {
       "model_id": "a9d99f5dd4ef4c28a5e0bc0595a13111",
       "version_major": 2,
       "version_minor": 0
      },
      "text/plain": [
       "Training epoch 24:   0%|          | 0/250 [00:00<?, ?it/s]"
      ]
     },
     "metadata": {},
     "output_type": "display_data"
    },
    {
     "data": {
      "application/vnd.jupyter.widget-view+json": {
       "model_id": "d3697da035e94dabb52fafa3234ccfbf",
       "version_major": 2,
       "version_minor": 0
      },
      "text/plain": [
       "Training epoch 25:   0%|          | 0/250 [00:00<?, ?it/s]"
      ]
     },
     "metadata": {},
     "output_type": "display_data"
    },
    {
     "data": {
      "application/vnd.jupyter.widget-view+json": {
       "model_id": "7216fd7a5c3d4eb68313a59a52481256",
       "version_major": 2,
       "version_minor": 0
      },
      "text/plain": [
       "Training epoch 26:   0%|          | 0/250 [00:00<?, ?it/s]"
      ]
     },
     "metadata": {},
     "output_type": "display_data"
    },
    {
     "data": {
      "application/vnd.jupyter.widget-view+json": {
       "model_id": "2381b4448ea148f4a70dcb99117d986d",
       "version_major": 2,
       "version_minor": 0
      },
      "text/plain": [
       "Training epoch 27:   0%|          | 0/250 [00:00<?, ?it/s]"
      ]
     },
     "metadata": {},
     "output_type": "display_data"
    },
    {
     "data": {
      "application/vnd.jupyter.widget-view+json": {
       "model_id": "b405cabc6fff4106aaefedf2b5c8a7b6",
       "version_major": 2,
       "version_minor": 0
      },
      "text/plain": [
       "Training epoch 28:   0%|          | 0/250 [00:00<?, ?it/s]"
      ]
     },
     "metadata": {},
     "output_type": "display_data"
    },
    {
     "data": {
      "application/vnd.jupyter.widget-view+json": {
       "model_id": "2bb5317fc6e24e0a9419105dd90dc2d5",
       "version_major": 2,
       "version_minor": 0
      },
      "text/plain": [
       "Training epoch 29:   0%|          | 0/250 [00:00<?, ?it/s]"
      ]
     },
     "metadata": {},
     "output_type": "display_data"
    },
    {
     "data": {
      "application/vnd.jupyter.widget-view+json": {
       "model_id": "a56f74b88bfe4926a1e6a2cad19a4f74",
       "version_major": 2,
       "version_minor": 0
      },
      "text/plain": [
       "Training epoch 30:   0%|          | 0/250 [00:00<?, ?it/s]"
      ]
     },
     "metadata": {},
     "output_type": "display_data"
    },
    {
     "data": {
      "application/vnd.jupyter.widget-view+json": {
       "model_id": "8e6fd8df31d34b5b9ff12722062533bc",
       "version_major": 2,
       "version_minor": 0
      },
      "text/plain": [
       "Training epoch 31:   0%|          | 0/250 [00:00<?, ?it/s]"
      ]
     },
     "metadata": {},
     "output_type": "display_data"
    },
    {
     "data": {
      "application/vnd.jupyter.widget-view+json": {
       "model_id": "383be860f055482dafc35273af705aba",
       "version_major": 2,
       "version_minor": 0
      },
      "text/plain": [
       "Training epoch 32:   0%|          | 0/250 [00:00<?, ?it/s]"
      ]
     },
     "metadata": {},
     "output_type": "display_data"
    }
   ],
   "source": [
    "losses = trainer.train_offline(epochs=n_epochs, batch_size=batch_size, \n",
    "                               model_indices=indices_900, sim_data=datasets_900)"
   ]
  },
  {
   "cell_type": "markdown",
   "metadata": {},
   "source": [
    "- training time = 68 minutes\n",
    "- running loss after 32 epochs = 0.281"
   ]
  },
  {
   "cell_type": "markdown",
   "metadata": {},
   "source": [
    "## Validation"
   ]
  },
  {
   "cell_type": "markdown",
   "metadata": {},
   "source": [
    "### Data preparation"
   ]
  },
  {
   "cell_type": "code",
   "execution_count": 20,
   "metadata": {},
   "outputs": [],
   "source": [
    "# Load in data\n",
    "\n",
    "levy_sims_folder = 'c:\\\\Users\\\\lasse\\\\documents\\\\hierarchical model comparison project\\\\data\\\\Levy_flight_application'\n",
    "\n",
    "val_indices_100_filename = \"val_indices_100_trials.npy\"\n",
    "val_datasets_100_filename = \"val_datasets_100_trials.npy\"\n",
    "val_indices_900_filename = \"val_indices_900_trials.npy\"\n",
    "val_datasets_900_filename = \"val_datasets_900_trials.npy\"\n",
    "\n",
    "val_indices_100 = np.load(os.path.join(levy_sims_folder, val_indices_100_filename))\n",
    "val_datasets_100 = np.load(os.path.join(levy_sims_folder, val_datasets_100_filename))\n",
    "val_indices_900 = np.load(os.path.join(levy_sims_folder, val_indices_900_filename))\n",
    "val_datasets_900 = np.load(os.path.join(levy_sims_folder, val_datasets_900_filename))\n",
    "\n",
    "# Split 900 trials into 2 parts so that GPU does not blow up during prediction\n",
    "val_datasets_900_1 = val_datasets_900[:4000,:,:,:]\n",
    "val_datasets_900_2 = val_datasets_900[4000:8000,:,:,:]\n",
    "\n",
    "# unpack indices\n",
    "val_indices_100 = val_indices_100[:,0,0,0]-1\n",
    "val_indices_900 = val_indices_900[:,0,0,0]-1\n",
    "\n",
    "# one-hot encode indices\n",
    "val_indices_100 = to_categorical(val_indices_100, num_classes=4)\n",
    "val_indices_900 = to_categorical(val_indices_900, num_classes=4)"
   ]
  },
  {
   "cell_type": "code",
   "execution_count": 21,
   "metadata": {},
   "outputs": [],
   "source": [
    "# Get & transform predictions & true indices\n",
    "\n",
    "probs_100 = tf.concat([evidence_net.predict(summary_net(x_chunk))['m_probs'] \n",
    "                    for x_chunk in tf.split(val_datasets_100, 500)], axis=0).numpy()\n",
    "probs_900_1 = tf.concat([evidence_net.predict(summary_net(x_chunk))['m_probs'] \n",
    "                    for x_chunk in tf.split(val_datasets_900_1, 500)], axis=0).numpy()\n",
    "probs_900_2 = tf.concat([evidence_net.predict(summary_net(x_chunk))['m_probs'] \n",
    "                    for x_chunk in tf.split(val_datasets_900_2, 500)], axis=0).numpy()\n",
    "probs_900 = tf.concat([probs_900_1, probs_900_2], axis=0).numpy()\n",
    "\n",
    "rounded_predictions_100 = tf.one_hot(tf.argmax(probs_100, axis=1), depth=4)\n",
    "rounded_predictions_900 = tf.one_hot(tf.argmax(probs_900, axis=1), depth=4)\n",
    "\n",
    "rounded_predictions_flat_100 = tf.argmax(probs_100, axis=1)\n",
    "rounded_predictions_flat_900 = tf.argmax(probs_900, axis=1)\n",
    "\n",
    "true_models_flat_100 = tf.argmax(val_indices_100, axis=1)\n",
    "true_models_flat_900 = tf.argmax(val_indices_900, axis=1)"
   ]
  },
  {
   "cell_type": "code",
   "execution_count": 22,
   "metadata": {},
   "outputs": [],
   "source": [
    "# Export predictions\n",
    "local_timezone = datetime.now(timezone(timedelta(0))).astimezone().tzinfo\n",
    "filename = pd.Timestamp.today(tz=local_timezone).strftime('%Y_%m_%d___%H_%M_predictions_finetuned_900')\n",
    "val_folder = os.path.join(os.path.dirname(os.getcwd()),'data', 'Levy_flight_application')\n",
    "\n",
    "np.save(os.path.join(val_folder, filename), probs_900)"
   ]
  },
  {
   "cell_type": "code",
   "execution_count": null,
   "metadata": {},
   "outputs": [],
   "source": [
    "# Load in predictions\n",
    "\n",
    "# TODO"
   ]
  },
  {
   "cell_type": "markdown",
   "metadata": {},
   "source": [
    "### Results"
   ]
  },
  {
   "cell_type": "code",
   "execution_count": 24,
   "metadata": {},
   "outputs": [
    {
     "name": "stdout",
     "output_type": "stream",
     "text": [
      "Accuracy = 0.8702499866485596, MAE = 0.09256470203399658\n"
     ]
    }
   ],
   "source": [
    "# Accuracy & MAE\n",
    "accuracy = tf.reduce_sum(tf.cast(rounded_predictions_flat_900 == true_models_flat_900, tf.float32))/len(true_models_flat_900)\n",
    "mae = mean_absolute_error(val_indices_900, probs_900)\n",
    "print('Accuracy = {}, MAE = {}'.format(accuracy, mae))"
   ]
  },
  {
   "cell_type": "code",
   "execution_count": 25,
   "metadata": {},
   "outputs": [
    {
     "data": {
      "text/plain": [
       "Text(23.499999999999993, 0.5, 'True underlying model')"
      ]
     },
     "execution_count": 25,
     "metadata": {},
     "output_type": "execute_result"
    },
    {
     "data": {
      "image/png": "[encoded data removed]",
      "text/plain": [
       "<Figure size 360x288 with 2 Axes>"
      ]
     },
     "metadata": {},
     "output_type": "display_data"
    }
   ],
   "source": [
    "# Confusion matrix \n",
    "\n",
    "cm = confusion_matrix(true_models_flat_900, rounded_predictions_flat_900)\n",
    "cm = cm.astype('float') / cm.sum(axis=1)[:, np.newaxis]\n",
    "cm = cm.round(2)\n",
    "\n",
    "labels = ['Basic Diffusion Model',\n",
    "          'Basic Lévy Flight Model',\n",
    "           'Full Diffusion Model',\n",
    "           'Full Lévy Flight Model',]\n",
    "df_cm = pd.DataFrame(cm, index = labels, columns = labels)\n",
    "plt.figure(figsize = (5,4))\n",
    "sns.heatmap(df_cm, annot=True)\n",
    "plt.xticks(rotation=45)\n",
    "plt.xlabel('Predicted model')\n",
    "plt.ylabel('True underlying model')\n",
    "#plt.savefig('Diffusion_conf_matrix.png', dpi=300, bbox_inches='tight')"
   ]
  },
  {
   "cell_type": "code",
   "execution_count": 30,
   "metadata": {},
   "outputs": [
    {
     "data": {
      "image/png": "[encoded data removed]",
      "text/plain": [
       "<Figure size 720x720 with 4 Axes>"
      ]
     },
     "metadata": {},
     "output_type": "display_data"
    }
   ],
   "source": [
    "# Calibration curves\n",
    "\n",
    "fig, axarr = plt.subplots(2, 2, figsize=(10, 10))\n",
    "n_cal_bins = 15\n",
    "plt.subplots_adjust(hspace = .3)\n",
    "pos1 = [0,0,1,1]\n",
    "pos2 = [0,1,0,1]\n",
    "labels = ['Basic Diffusion Model',\n",
    "          'Basic Lévy Flight Model',\n",
    "           'Full Diffusion Model',\n",
    "           'Full Lévy Flight Model',]\n",
    "\n",
    "for m in range(4):\n",
    "    m_true = val_indices_900[:,m]\n",
    "    m_soft = probs_900[:,m]\n",
    "    plot_calibration_curve(m_true, m_soft, 10, \n",
    "                           axarr[pos1[m], pos2[m]], title=labels[m])"
   ]
  },
  {
   "cell_type": "markdown",
   "metadata": {},
   "source": [
    "## Application to real data"
   ]
  },
  {
   "cell_type": "code",
   "execution_count": 58,
   "metadata": {},
   "outputs": [],
   "source": [
    "# Load and transform data\n",
    "\n",
    "# Expected shape: (1, 40, 900, 3) \n",
    "# Example output: [1.        , 0.93565676, 1.        ]\n",
    "# stimulus_type, rt, decision\n",
    "\n",
    "def load_from_folder(load_dir):\n",
    "    \"\"\"\n",
    "    Reads single subject datasets from a folder and transforms into list of 4D-arrays \n",
    "    which allows for a variable number of observations between participants.\n",
    "    Assumes data files have a three-column csv format (Condition, Response, Response Time).\n",
    "    ----------\n",
    "    \n",
    "    Arguments:\n",
    "    load_dir : str -- a string indicating the directory from which to load the data\n",
    "    --------\n",
    "        \n",
    "    Returns:\n",
    "    X: list of length (n_clusters), containing tf.Tensors of shape (1, 1, n_obs, 3) \n",
    "        -- variable order now (Condition, Response Time, Response)\n",
    "    \"\"\"\n",
    "    \n",
    "    data_files = os.listdir(load_dir)\n",
    "    X = []\n",
    "    \n",
    "    # Loop through data files and estimate\n",
    "    for data_file in data_files:\n",
    "        \n",
    "        ### Read in and transform data\n",
    "        data = pd.read_csv(os.path.join(load_dir, data_file), header=None, sep=' ')\n",
    "        data = data[[0,2,1]].values # reorder columns\n",
    "        X_file = tf.convert_to_tensor(data, dtype=tf.float32)[np.newaxis][np.newaxis] # get 4D tensor\n",
    "        X.append(X_file)\n",
    "      \n",
    "    return X"
   ]
  },
  {
   "cell_type": "code",
   "execution_count": 102,
   "metadata": {},
   "outputs": [],
   "source": [
    "# Load data from folders\n",
    "\n",
    "parent_folder = os.path.dirname(os.getcwd())\n",
    "color_folder = os.path.join(parent_folder, 'data\\\\Levy_flight_application\\\\data_rts\\\\color')\n",
    "lexical_folder = os.path.join(parent_folder, 'data\\\\Levy_flight_application\\\\data_rts\\\\lexical')\n",
    "\n",
    "color_data = load_from_folder(color_folder)\n",
    "lexical_data = load_from_folder(lexical_folder)"
   ]
  },
  {
   "cell_type": "code",
   "execution_count": 103,
   "metadata": {},
   "outputs": [],
   "source": [
    "# Join experimental data\n",
    "\n",
    "n_clusters = len(color_data)\n",
    "empirical_data = []\n",
    "\n",
    "for cluster in range(n_clusters):\n",
    "    joint_data = tf.concat([color_data[cluster], lexical_data[cluster]], axis=2).numpy()\n",
    "    empirical_data.append(joint_data)"
   ]
  },
  {
   "cell_type": "code",
   "execution_count": 110,
   "metadata": {},
   "outputs": [],
   "source": [
    "# Reduce variable size datasets to fixed length summary vectors, then join into single 3D tensor\n",
    "summarized_data = []\n",
    "\n",
    "for cluster in range(n_clusters):\n",
    "    summarized_cluster = summary_net(empirical_data[cluster])\n",
    "    summarized_data.append(summarized_cluster)\n",
    "\n",
    "summarized_data = tf.convert_to_tensor(summarized_data)\n",
    "summarized_data = tf.reshape(summarized_data, shape=(1, n_clusters, summarized_data.shape[2]))"
   ]
  },
  {
   "cell_type": "code",
   "execution_count": 112,
   "metadata": {},
   "outputs": [
    {
     "data": {
      "text/plain": [
       "TensorShape([1, 40, 130])"
      ]
     },
     "execution_count": 112,
     "metadata": {},
     "output_type": "execute_result"
    }
   ],
   "source": [
    "summarized_data.shape"
   ]
  },
  {
   "cell_type": "code",
   "execution_count": 111,
   "metadata": {},
   "outputs": [
    {
     "data": {
      "text/plain": [
       "{'m_probs': array([[[0.00051637, 0.02918763, 0.00800159, 0.00538307],\n",
       "         [0.00051644, 0.02199042, 0.00800159, 0.00538307],\n",
       "         [0.00051637, 0.02482419, 0.00800159, 0.00538307],\n",
       "         [0.00051637, 0.01895292, 0.00800159, 0.00538307],\n",
       "         [0.00051637, 0.07514445, 0.00800159, 0.00538307],\n",
       "         [0.00051637, 0.03312628, 0.00800159, 0.00538307],\n",
       "         [0.01392228, 0.01545576, 0.00800159, 0.00538307],\n",
       "         [0.00051637, 0.02235707, 0.00800159, 0.00538307],\n",
       "         [0.00051637, 0.02195396, 0.00800159, 0.00538307],\n",
       "         [0.00051637, 0.04668735, 0.00800159, 0.00538307],\n",
       "         [0.00051637, 0.00002565, 0.68639106, 0.4745728 ],\n",
       "         [0.00051637, 0.0315997 , 0.00800159, 0.00538307],\n",
       "         [0.00051637, 0.02425586, 0.00800159, 0.00538307],\n",
       "         [0.26165357, 0.00223879, 0.00800159, 0.00538307],\n",
       "         [0.02955761, 0.01511965, 0.00800159, 0.00538307],\n",
       "         [0.15276736, 0.00396891, 0.00800159, 0.00538307],\n",
       "         [0.00051637, 0.02578303, 0.00800159, 0.00538307],\n",
       "         [0.00051637, 0.02875891, 0.00800159, 0.00538307],\n",
       "         [0.00051637, 0.02647844, 0.00800159, 0.00538307],\n",
       "         [0.00051637, 0.02342837, 0.00800159, 0.00538307],\n",
       "         [0.04019192, 0.01102695, 0.00800159, 0.00538307],\n",
       "         [0.00051637, 0.02603132, 0.00800159, 0.00538307],\n",
       "         [0.00051637, 0.03205253, 0.00800159, 0.00538307],\n",
       "         [0.00051866, 0.00163521, 0.00954855, 0.00547725],\n",
       "         [0.00051637, 0.03230568, 0.00800159, 0.00538307],\n",
       "         [0.00051637, 0.02404993, 0.00800159, 0.00538307],\n",
       "         [0.00051637, 0.03528358, 0.00800159, 0.00538307],\n",
       "         [0.00051637, 0.02045438, 0.00800159, 0.00538307],\n",
       "         [0.40586483, 0.00010707, 0.00800159, 0.00538307],\n",
       "         [0.00051637, 0.03921682, 0.00800159, 0.00538307],\n",
       "         [0.00051637, 0.03142627, 0.00800159, 0.00538307],\n",
       "         [0.079     , 0.01301184, 0.00800159, 0.00538307],\n",
       "         [0.00051637, 0.03720826, 0.00800159, 0.00538307],\n",
       "         [0.00051637, 0.00502427, 0.00800172, 0.32077646],\n",
       "         [0.00051637, 0.02086451, 0.00800159, 0.00538307],\n",
       "         [0.00051637, 0.04672865, 0.00800159, 0.00538307],\n",
       "         [0.00051637, 0.03462347, 0.00800159, 0.00538307],\n",
       "         [0.00051637, 0.03061858, 0.00800159, 0.00538307],\n",
       "         [0.00051637, 0.0393585 , 0.00800159, 0.00538307],\n",
       "         [0.00051637, 0.02763481, 0.00800159, 0.00538307]]], dtype=float32),\n",
       " 'm_var': array([[[0.00000027, 0.00000073, 0.00006301, 0.00002867],\n",
       "         [0.00000027, 0.00000055, 0.00006301, 0.00002867],\n",
       "         [0.00000027, 0.00000062, 0.00006301, 0.00002867],\n",
       "         [0.00000027, 0.00000048, 0.00006301, 0.00002867],\n",
       "         [0.00000027, 0.00000178, 0.00006301, 0.00002867],\n",
       "         [0.00000027, 0.00000082, 0.00006301, 0.00002867],\n",
       "         [0.00000709, 0.00000039, 0.00006301, 0.00002867],\n",
       "         [0.00000027, 0.00000056, 0.00006301, 0.00002867],\n",
       "         [0.00000027, 0.00000055, 0.00006301, 0.00002867],\n",
       "         [0.00000027, 0.00000114, 0.00006301, 0.00002867],\n",
       "         [0.00000027, 0.        , 0.00170874, 0.0013351 ],\n",
       "         [0.00000027, 0.00000078, 0.00006301, 0.00002867],\n",
       "         [0.00000027, 0.00000061, 0.00006301, 0.00002867],\n",
       "         [0.00009971, 0.00000006, 0.00006301, 0.00002867],\n",
       "         [0.0000148 , 0.00000038, 0.00006301, 0.00002867],\n",
       "         [0.0000668 , 0.0000001 , 0.00006301, 0.00002867],\n",
       "         [0.00000027, 0.00000064, 0.00006301, 0.00002867],\n",
       "         [0.00000027, 0.00000072, 0.00006301, 0.00002867],\n",
       "         [0.00000027, 0.00000066, 0.00006301, 0.00002867],\n",
       "         [0.00000027, 0.00000059, 0.00006301, 0.00002867],\n",
       "         [0.00001991, 0.00000028, 0.00006301, 0.00002867],\n",
       "         [0.00000027, 0.00000065, 0.00006301, 0.00002867],\n",
       "         [0.00000027, 0.0000008 , 0.00006301, 0.00002867],\n",
       "         [0.00000027, 0.00000004, 0.00007507, 0.00002917],\n",
       "         [0.00000027, 0.0000008 , 0.00006301, 0.00002867],\n",
       "         [0.00000027, 0.0000006 , 0.00006301, 0.00002867],\n",
       "         [0.00000027, 0.00000087, 0.00006301, 0.00002867],\n",
       "         [0.00000027, 0.00000051, 0.00006301, 0.00002867],\n",
       "         [0.00012445, 0.        , 0.00006301, 0.00002867],\n",
       "         [0.00000027, 0.00000097, 0.00006301, 0.00002867],\n",
       "         [0.00000027, 0.00000078, 0.00006301, 0.00002867],\n",
       "         [0.00003755, 0.00000033, 0.00006301, 0.00002867],\n",
       "         [0.00000027, 0.00000092, 0.00006301, 0.00002867],\n",
       "         [0.00000027, 0.00000013, 0.00006301, 0.00116658],\n",
       "         [0.00000027, 0.00000052, 0.00006301, 0.00002867],\n",
       "         [0.00000027, 0.00000114, 0.00006301, 0.00002867],\n",
       "         [0.00000027, 0.00000086, 0.00006301, 0.00002867],\n",
       "         [0.00000027, 0.00000076, 0.00006301, 0.00002867],\n",
       "         [0.00000027, 0.00000097, 0.00006301, 0.00002867],\n",
       "         [0.00000027, 0.00000069, 0.00006301, 0.00002867]]], dtype=float32),\n",
       " 'uncertainty': array([[[0.00206546, 0.00010254, 0.03200634, 0.02153227]]], dtype=float32)}"
      ]
     },
     "execution_count": 111,
     "metadata": {},
     "output_type": "execute_result"
    }
   ],
   "source": [
    "evidence_net.predict(summarized_data)\n",
    "\n",
    "# This sequential approach does not work as summary network reduces from 4D to 2D data, which requires feeding in all clusters at once!"
   ]
  },
  {
   "cell_type": "markdown",
   "metadata": {},
   "source": [
    "## Visualize model comparison results"
   ]
  },
  {
   "cell_type": "code",
   "execution_count": 69,
   "metadata": {},
   "outputs": [
    {
     "data": {
      "text/plain": [
       "array([[0.00170894, 0.00170894, 0.09262215, 0.90396   ],\n",
       "       [0.00074346, 0.00074346, 0.00269924, 0.9958139 ],\n",
       "       [0.00146696, 0.00146696, 0.00146696, 0.99559915],\n",
       "       [0.000823  , 0.000823  , 0.000823  , 0.997531  ],\n",
       "       [0.00109269, 0.00109269, 0.3616679 , 0.6361467 ],\n",
       "       [0.00131404, 0.00131404, 0.00131404, 0.99605787],\n",
       "       [0.00199702, 0.00199702, 0.29393634, 0.7020696 ],\n",
       "       [0.00098333, 0.00098333, 0.4503833 , 0.54765004],\n",
       "       [0.00161997, 0.00161997, 0.0821996 , 0.9145605 ],\n",
       "       [0.00169285, 0.00169285, 0.01422751, 0.9823868 ],\n",
       "       [0.00142255, 0.00142255, 0.07457791, 0.92257696],\n",
       "       [0.00129661, 0.00129661, 0.00129661, 0.9961102 ],\n",
       "       [0.00130267, 0.00130267, 0.6663192 , 0.33107543],\n",
       "       [0.00309698, 0.18870306, 0.00309698, 0.80510294],\n",
       "       [0.00110066, 0.00110066, 0.5683778 , 0.42942092],\n",
       "       [0.00139576, 0.00139576, 0.09450055, 0.9027079 ],\n",
       "       [0.00088571, 0.00088571, 0.00107242, 0.99715614],\n",
       "       [0.0022778 , 0.0022778 , 0.38830248, 0.60714185],\n",
       "       [0.00259946, 0.01318833, 0.00259946, 0.98161274],\n",
       "       [0.00168804, 0.00168804, 0.3637906 , 0.63283336],\n",
       "       [0.00593787, 0.00600375, 0.04784271, 0.94021565],\n",
       "       [0.00115459, 0.00115459, 0.23891973, 0.7587711 ],\n",
       "       [0.00182702, 0.00182702, 0.09331328, 0.9030327 ],\n",
       "       [0.0008732 , 0.0008732 , 0.6876873 , 0.31056634],\n",
       "       [0.00134616, 0.00134616, 0.00134714, 0.99596053],\n",
       "       [0.0018914 , 0.0018914 , 0.8119198 , 0.18429735],\n",
       "       [0.00149235, 0.00149235, 0.8002723 , 0.19674309],\n",
       "       [0.0010995 , 0.0010995 , 0.5166603 , 0.48114073],\n",
       "       [0.00099373, 0.00099373, 0.01485734, 0.9831552 ],\n",
       "       [0.00273653, 0.00273653, 0.19440566, 0.8001213 ],\n",
       "       [0.00139844, 0.00139844, 0.00139852, 0.9958046 ],\n",
       "       [0.00118649, 0.00118649, 0.36757472, 0.6300523 ],\n",
       "       [0.00188258, 0.00188258, 0.00188258, 0.9943523 ],\n",
       "       [0.21605128, 0.46162903, 0.09682929, 0.22549044],\n",
       "       [0.00116216, 0.00116216, 0.3776531 , 0.62002254],\n",
       "       [0.00128316, 0.00128316, 0.754245  , 0.24318875],\n",
       "       [0.00112488, 0.00112488, 0.01477019, 0.9829801 ],\n",
       "       [0.00139503, 0.00139503, 0.11730045, 0.87990946],\n",
       "       [0.00108127, 0.00108127, 0.3790403 , 0.6187972 ],\n",
       "       [0.0016903 , 0.0016903 , 0.03040689, 0.9662125 ],\n",
       "       [0.00101672, 0.00101672, 0.0950048 , 0.90296173],\n",
       "       [0.00299024, 0.00299024, 0.00299029, 0.99102926],\n",
       "       [0.00125343, 0.00125343, 0.8463021 , 0.15119103],\n",
       "       [0.00120242, 0.00120242, 0.00120242, 0.9963927 ],\n",
       "       [0.00178977, 0.00178977, 0.44217306, 0.5542473 ],\n",
       "       [0.00129562, 0.00129562, 0.01998569, 0.9774231 ],\n",
       "       [0.00118357, 0.00118357, 0.7143169 , 0.28331596],\n",
       "       [0.00120735, 0.00120735, 0.2227865 , 0.7747988 ],\n",
       "       [0.00097222, 0.00097222, 0.00097222, 0.9970833 ],\n",
       "       [0.00140426, 0.00140426, 0.00140426, 0.9957872 ]], dtype=float32)"
      ]
     },
     "execution_count": 69,
     "metadata": {},
     "output_type": "execute_result"
    }
   ],
   "source": [
    "probs[15000:15050,:]"
   ]
  },
  {
   "cell_type": "code",
   "execution_count": 70,
   "metadata": {},
   "outputs": [],
   "source": [
    "# Violin plot on a validation dataset\n",
    "\n",
    "example_dataset = val_datasets[15006:15007,:,:,:]\n",
    "\n",
    "example_preds = evidence_net.predict(summary_net(example_dataset))"
   ]
  },
  {
   "cell_type": "code",
   "execution_count": 71,
   "metadata": {},
   "outputs": [
    {
     "data": {
      "text/plain": [
       "{'m_probs': array([[0.00199722, 0.00199722, 0.29398242, 0.70202315]], dtype=float32),\n",
       " 'm_var': array([[0.00000397, 0.00000397, 0.00041371, 0.00041696]], dtype=float32),\n",
       " 'uncertainty': array([[0.00798889]], dtype=float32)}"
      ]
     },
     "execution_count": 71,
     "metadata": {},
     "output_type": "execute_result"
    }
   ],
   "source": [
    "example_preds"
   ]
  },
  {
   "cell_type": "code",
   "execution_count": 72,
   "metadata": {},
   "outputs": [],
   "source": [
    "example_evidences = evidence_net(summary_net(example_dataset))"
   ]
  },
  {
   "cell_type": "code",
   "execution_count": 73,
   "metadata": {},
   "outputs": [
    {
     "data": {
      "text/plain": [
       "<tf.Tensor: shape=(1, 4), dtype=float32, numpy=array([[  1.     ,   1.     , 147.19568, 351.49985]], dtype=float32)>"
      ]
     },
     "execution_count": 73,
     "metadata": {},
     "output_type": "execute_result"
    }
   ],
   "source": [
    "example_evidences"
   ]
  },
  {
   "cell_type": "code",
   "execution_count": 74,
   "metadata": {},
   "outputs": [],
   "source": [
    "example_dirichlet = evidence_net.sample(summary_net(example_dataset),10000)\n",
    "example_dirichlet = np.squeeze(example_dirichlet)"
   ]
  },
  {
   "cell_type": "code",
   "execution_count": 134,
   "metadata": {},
   "outputs": [
    {
     "data": {
      "image/png": "[encoded data removed]",
      "text/plain": [
       "<Figure size 360x360 with 1 Axes>"
      ]
     },
     "metadata": {},
     "output_type": "display_data"
    }
   ],
   "source": [
    "fig, ax = plt.subplots(figsize=(5,5))\n",
    "labels = ['Basic Diffusion Model',\n",
    "          'Basic Lévy Flight Model',\n",
    "           'Full Diffusion Model',\n",
    "           'Full Lévy Flight Model',]\n",
    "\n",
    "ax.violinplot(np.squeeze(example_dirichlet), showmedians=True)\n",
    "ax.set_xticks([1, 2, 3, 4])\n",
    "ax.set_xticklabels(labels, rotation=45)\n",
    "ax.set_ylabel('Approximated posterior model probability')\n",
    "fig.savefig('Diffusion_violin_plot.png', dpi=300, bbox_inches='tight')"
   ]
  }
 ],
 "metadata": {
  "kernelspec": {
   "display_name": "Python 3",
   "language": "python",
   "name": "python3"
  },
  "language_info": {
   "codemirror_mode": {
    "name": "ipython",
    "version": 3
   },
   "file_extension": ".py",
   "mimetype": "text/x-python",
   "name": "python",
   "nbconvert_exporter": "python",
   "pygments_lexer": "ipython3",
   "version": "3.8.8"
  },
  "toc": {
   "base_numbering": 1,
   "nav_menu": {},
   "number_sections": true,
   "sideBar": true,
   "skip_h1_title": false,
   "title_cell": "Table of Contents",
   "title_sidebar": "Contents",
   "toc_cell": false,
   "toc_position": {
    "height": "calc(100% - 180px)",
    "left": "10px",
    "top": "150px",
    "width": "165px"
   },
   "toc_section_display": true,
   "toc_window_display": true
  },
  "varInspector": {
   "cols": {
    "lenName": 16,
    "lenType": 16,
    "lenVar": 40
   },
   "kernels_config": {
    "python": {
     "delete_cmd_postfix": "",
     "delete_cmd_prefix": "del ",
     "library": "var_list.py",
     "varRefreshCmd": "print(var_dic_list())"
    },
    "r": {
     "delete_cmd_postfix": ") ",
     "delete_cmd_prefix": "rm(",
     "library": "var_list.r",
     "varRefreshCmd": "cat(var_dic_list()) "
    }
   },
   "types_to_exclude": [
    "module",
    "function",
    "builtin_function_or_method",
    "instance",
    "_Feature"
   ],
   "window_display": false
  }
 },
 "nbformat": 4,
 "nbformat_minor": 2
}
