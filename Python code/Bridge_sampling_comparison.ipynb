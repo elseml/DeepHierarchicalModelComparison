{
 "cells": [
  {
   "cell_type": "markdown",
   "id": "distinct-dance",
   "metadata": {},
   "source": [
    "# Setup"
   ]
  },
  {
   "cell_type": "code",
   "execution_count": 62,
   "id": "sophisticated-english",
   "metadata": {},
   "outputs": [],
   "source": [
    "import os\n",
    "import numpy as np\n",
    "np.set_printoptions(suppress=True)\n",
    "import pandas as pd\n",
    "import matplotlib.pyplot as plt\n",
    "import seaborn as sns\n",
    "from sklearn.metrics import roc_curve, roc_auc_score, RocCurveDisplay\n",
    "import sys"
   ]
  },
  {
   "cell_type": "markdown",
   "id": "north-newport",
   "metadata": {},
   "source": [
    "# Load data"
   ]
  },
  {
   "cell_type": "code",
   "execution_count": null,
   "id": "respiratory-medline",
   "metadata": {},
   "outputs": [],
   "source": []
  },
  {
   "cell_type": "code",
   "execution_count": 63,
   "id": "underlying-speech",
   "metadata": {},
   "outputs": [],
   "source": [
    "comparison_folder = os.path.join(os.path.dirname(os.getcwd()),'data', 'BF_approximation_comparison')\n",
    "bridge_file = '2021_06_29___15_12_BF_approx_comp'\n",
    "NN_fixed_file = '2021_07_13___17_52_BF_NN_comp'\n",
    "NN_variable_file = '2021_07_01___15_24_BF_NN_variable_comp'\n",
    "\n",
    "bridge = pd.read_csv(os.path.join(comparison_folder, bridge_file), sep = \" \").reset_index(drop=True)\n",
    "NN_fixed = pd.read_csv(os.path.join(comparison_folder, NN_fixed_file))\n",
    "NN_variable = pd.read_csv(os.path.join(comparison_folder, NN_variable_file))"
   ]
  },
  {
   "cell_type": "code",
   "execution_count": 64,
   "id": "large-helping",
   "metadata": {},
   "outputs": [
    {
     "data": {
      "text/html": [
       "<div>\n",
       "<style scoped>\n",
       "    .dataframe tbody tr th:only-of-type {\n",
       "        vertical-align: middle;\n",
       "    }\n",
       "\n",
       "    .dataframe tbody tr th {\n",
       "        vertical-align: top;\n",
       "    }\n",
       "\n",
       "    .dataframe thead th {\n",
       "        text-align: right;\n",
       "    }\n",
       "</style>\n",
       "<table border=\"1\" class=\"dataframe\">\n",
       "  <thead>\n",
       "    <tr style=\"text-align: right;\">\n",
       "      <th></th>\n",
       "      <th>dataset</th>\n",
       "      <th>true_model</th>\n",
       "      <th>m0_prob</th>\n",
       "      <th>m1_prob</th>\n",
       "      <th>selected_model</th>\n",
       "      <th>bayes_factor</th>\n",
       "      <th>m0_bridge_error</th>\n",
       "      <th>m1_bridge_error</th>\n",
       "      <th>compile_time</th>\n",
       "      <th>stan_time</th>\n",
       "      <th>bridge_time</th>\n",
       "    </tr>\n",
       "  </thead>\n",
       "  <tbody>\n",
       "    <tr>\n",
       "      <th>0</th>\n",
       "      <td>1</td>\n",
       "      <td>0</td>\n",
       "      <td>8.388963e-01</td>\n",
       "      <td>0.161104</td>\n",
       "      <td>0</td>\n",
       "      <td>1.920424e-01</td>\n",
       "      <td>0%</td>\n",
       "      <td>0%</td>\n",
       "      <td>39.907145</td>\n",
       "      <td>52.258780</td>\n",
       "      <td>35.962266</td>\n",
       "    </tr>\n",
       "    <tr>\n",
       "      <th>1</th>\n",
       "      <td>2</td>\n",
       "      <td>1</td>\n",
       "      <td>2.226466e-27</td>\n",
       "      <td>1.000000</td>\n",
       "      <td>1</td>\n",
       "      <td>4.491424e+26</td>\n",
       "      <td>0%</td>\n",
       "      <td>0%</td>\n",
       "      <td>39.907145</td>\n",
       "      <td>48.838711</td>\n",
       "      <td>35.385838</td>\n",
       "    </tr>\n",
       "    <tr>\n",
       "      <th>2</th>\n",
       "      <td>3</td>\n",
       "      <td>1</td>\n",
       "      <td>5.490843e-01</td>\n",
       "      <td>0.450916</td>\n",
       "      <td>0</td>\n",
       "      <td>8.212140e-01</td>\n",
       "      <td>1%</td>\n",
       "      <td>1%</td>\n",
       "      <td>39.907145</td>\n",
       "      <td>125.710194</td>\n",
       "      <td>37.204897</td>\n",
       "    </tr>\n",
       "    <tr>\n",
       "      <th>3</th>\n",
       "      <td>4</td>\n",
       "      <td>0</td>\n",
       "      <td>7.737407e-01</td>\n",
       "      <td>0.226259</td>\n",
       "      <td>0</td>\n",
       "      <td>2.924226e-01</td>\n",
       "      <td>0%</td>\n",
       "      <td>0%</td>\n",
       "      <td>39.907145</td>\n",
       "      <td>48.535535</td>\n",
       "      <td>35.359315</td>\n",
       "    </tr>\n",
       "    <tr>\n",
       "      <th>4</th>\n",
       "      <td>5</td>\n",
       "      <td>0</td>\n",
       "      <td>5.384046e-01</td>\n",
       "      <td>0.461595</td>\n",
       "      <td>0</td>\n",
       "      <td>8.573394e-01</td>\n",
       "      <td>0%</td>\n",
       "      <td>0%</td>\n",
       "      <td>39.907145</td>\n",
       "      <td>49.718692</td>\n",
       "      <td>35.450406</td>\n",
       "    </tr>\n",
       "  </tbody>\n",
       "</table>\n",
       "</div>"
      ],
      "text/plain": [
       "   dataset  true_model       m0_prob   m1_prob  selected_model  bayes_factor  \\\n",
       "0        1           0  8.388963e-01  0.161104               0  1.920424e-01   \n",
       "1        2           1  2.226466e-27  1.000000               1  4.491424e+26   \n",
       "2        3           1  5.490843e-01  0.450916               0  8.212140e-01   \n",
       "3        4           0  7.737407e-01  0.226259               0  2.924226e-01   \n",
       "4        5           0  5.384046e-01  0.461595               0  8.573394e-01   \n",
       "\n",
       "  m0_bridge_error m1_bridge_error  compile_time   stan_time  bridge_time  \n",
       "0              0%              0%     39.907145   52.258780    35.962266  \n",
       "1              0%              0%     39.907145   48.838711    35.385838  \n",
       "2              1%              1%     39.907145  125.710194    37.204897  \n",
       "3              0%              0%     39.907145   48.535535    35.359315  \n",
       "4              0%              0%     39.907145   49.718692    35.450406  "
      ]
     },
     "execution_count": 64,
     "metadata": {},
     "output_type": "execute_result"
    }
   ],
   "source": [
    "bridge.head()"
   ]
  },
  {
   "cell_type": "code",
   "execution_count": 65,
   "id": "neural-giving",
   "metadata": {},
   "outputs": [
    {
     "data": {
      "text/html": [
       "<div>\n",
       "<style scoped>\n",
       "    .dataframe tbody tr th:only-of-type {\n",
       "        vertical-align: middle;\n",
       "    }\n",
       "\n",
       "    .dataframe tbody tr th {\n",
       "        vertical-align: top;\n",
       "    }\n",
       "\n",
       "    .dataframe thead th {\n",
       "        text-align: right;\n",
       "    }\n",
       "</style>\n",
       "<table border=\"1\" class=\"dataframe\">\n",
       "  <thead>\n",
       "    <tr style=\"text-align: right;\">\n",
       "      <th></th>\n",
       "      <th>dataset</th>\n",
       "      <th>true_model</th>\n",
       "      <th>m0_prob</th>\n",
       "      <th>m1_prob</th>\n",
       "      <th>selected_model</th>\n",
       "      <th>bayes_factor</th>\n",
       "      <th>training_time</th>\n",
       "      <th>inference_time</th>\n",
       "      <th>final_epoch_loss</th>\n",
       "    </tr>\n",
       "  </thead>\n",
       "  <tbody>\n",
       "    <tr>\n",
       "      <th>0</th>\n",
       "      <td>1</td>\n",
       "      <td>0</td>\n",
       "      <td>0.830657</td>\n",
       "      <td>0.169343</td>\n",
       "      <td>0</td>\n",
       "      <td>0.203867</td>\n",
       "      <td>160.790968</td>\n",
       "      <td>0.055943</td>\n",
       "      <td>0.474433</td>\n",
       "    </tr>\n",
       "    <tr>\n",
       "      <th>1</th>\n",
       "      <td>2</td>\n",
       "      <td>1</td>\n",
       "      <td>0.000056</td>\n",
       "      <td>0.999944</td>\n",
       "      <td>1</td>\n",
       "      <td>17961.758030</td>\n",
       "      <td>160.790968</td>\n",
       "      <td>0.055943</td>\n",
       "      <td>0.474433</td>\n",
       "    </tr>\n",
       "    <tr>\n",
       "      <th>2</th>\n",
       "      <td>3</td>\n",
       "      <td>1</td>\n",
       "      <td>0.550600</td>\n",
       "      <td>0.449400</td>\n",
       "      <td>0</td>\n",
       "      <td>0.816201</td>\n",
       "      <td>160.790968</td>\n",
       "      <td>0.055943</td>\n",
       "      <td>0.474433</td>\n",
       "    </tr>\n",
       "    <tr>\n",
       "      <th>3</th>\n",
       "      <td>4</td>\n",
       "      <td>0</td>\n",
       "      <td>0.856114</td>\n",
       "      <td>0.143886</td>\n",
       "      <td>0</td>\n",
       "      <td>0.168069</td>\n",
       "      <td>160.790968</td>\n",
       "      <td>0.055943</td>\n",
       "      <td>0.474433</td>\n",
       "    </tr>\n",
       "    <tr>\n",
       "      <th>4</th>\n",
       "      <td>5</td>\n",
       "      <td>0</td>\n",
       "      <td>0.552386</td>\n",
       "      <td>0.447614</td>\n",
       "      <td>0</td>\n",
       "      <td>0.810329</td>\n",
       "      <td>160.790968</td>\n",
       "      <td>0.055943</td>\n",
       "      <td>0.474433</td>\n",
       "    </tr>\n",
       "  </tbody>\n",
       "</table>\n",
       "</div>"
      ],
      "text/plain": [
       "   dataset  true_model   m0_prob   m1_prob  selected_model  bayes_factor  \\\n",
       "0        1           0  0.830657  0.169343               0      0.203867   \n",
       "1        2           1  0.000056  0.999944               1  17961.758030   \n",
       "2        3           1  0.550600  0.449400               0      0.816201   \n",
       "3        4           0  0.856114  0.143886               0      0.168069   \n",
       "4        5           0  0.552386  0.447614               0      0.810329   \n",
       "\n",
       "   training_time  inference_time  final_epoch_loss  \n",
       "0     160.790968        0.055943          0.474433  \n",
       "1     160.790968        0.055943          0.474433  \n",
       "2     160.790968        0.055943          0.474433  \n",
       "3     160.790968        0.055943          0.474433  \n",
       "4     160.790968        0.055943          0.474433  "
      ]
     },
     "execution_count": 65,
     "metadata": {},
     "output_type": "execute_result"
    }
   ],
   "source": [
    "NN_fixed.head()"
   ]
  },
  {
   "cell_type": "code",
   "execution_count": 66,
   "id": "incomplete-penny",
   "metadata": {},
   "outputs": [
    {
     "data": {
      "text/html": [
       "<div>\n",
       "<style scoped>\n",
       "    .dataframe tbody tr th:only-of-type {\n",
       "        vertical-align: middle;\n",
       "    }\n",
       "\n",
       "    .dataframe tbody tr th {\n",
       "        vertical-align: top;\n",
       "    }\n",
       "\n",
       "    .dataframe thead th {\n",
       "        text-align: right;\n",
       "    }\n",
       "</style>\n",
       "<table border=\"1\" class=\"dataframe\">\n",
       "  <thead>\n",
       "    <tr style=\"text-align: right;\">\n",
       "      <th></th>\n",
       "      <th>dataset</th>\n",
       "      <th>true_model</th>\n",
       "      <th>m0_prob</th>\n",
       "      <th>m1_prob</th>\n",
       "      <th>selected_model</th>\n",
       "      <th>bayes_factor</th>\n",
       "      <th>training_time</th>\n",
       "      <th>inference_time</th>\n",
       "    </tr>\n",
       "  </thead>\n",
       "  <tbody>\n",
       "    <tr>\n",
       "      <th>0</th>\n",
       "      <td>1</td>\n",
       "      <td>0</td>\n",
       "      <td>0.824269</td>\n",
       "      <td>0.175731</td>\n",
       "      <td>0</td>\n",
       "      <td>0.213197</td>\n",
       "      <td>238.349188</td>\n",
       "      <td>0.014821</td>\n",
       "    </tr>\n",
       "    <tr>\n",
       "      <th>1</th>\n",
       "      <td>2</td>\n",
       "      <td>1</td>\n",
       "      <td>0.001745</td>\n",
       "      <td>0.998255</td>\n",
       "      <td>1</td>\n",
       "      <td>572.129368</td>\n",
       "      <td>238.349188</td>\n",
       "      <td>0.014821</td>\n",
       "    </tr>\n",
       "    <tr>\n",
       "      <th>2</th>\n",
       "      <td>3</td>\n",
       "      <td>1</td>\n",
       "      <td>0.353277</td>\n",
       "      <td>0.646723</td>\n",
       "      <td>1</td>\n",
       "      <td>1.830639</td>\n",
       "      <td>238.349188</td>\n",
       "      <td>0.014821</td>\n",
       "    </tr>\n",
       "    <tr>\n",
       "      <th>3</th>\n",
       "      <td>4</td>\n",
       "      <td>0</td>\n",
       "      <td>0.630828</td>\n",
       "      <td>0.369172</td>\n",
       "      <td>0</td>\n",
       "      <td>0.585218</td>\n",
       "      <td>238.349188</td>\n",
       "      <td>0.014821</td>\n",
       "    </tr>\n",
       "    <tr>\n",
       "      <th>4</th>\n",
       "      <td>5</td>\n",
       "      <td>0</td>\n",
       "      <td>0.556635</td>\n",
       "      <td>0.443365</td>\n",
       "      <td>0</td>\n",
       "      <td>0.796510</td>\n",
       "      <td>238.349188</td>\n",
       "      <td>0.014821</td>\n",
       "    </tr>\n",
       "  </tbody>\n",
       "</table>\n",
       "</div>"
      ],
      "text/plain": [
       "   dataset  true_model   m0_prob   m1_prob  selected_model  bayes_factor  \\\n",
       "0        1           0  0.824269  0.175731               0      0.213197   \n",
       "1        2           1  0.001745  0.998255               1    572.129368   \n",
       "2        3           1  0.353277  0.646723               1      1.830639   \n",
       "3        4           0  0.630828  0.369172               0      0.585218   \n",
       "4        5           0  0.556635  0.443365               0      0.796510   \n",
       "\n",
       "   training_time  inference_time  \n",
       "0     238.349188        0.014821  \n",
       "1     238.349188        0.014821  \n",
       "2     238.349188        0.014821  \n",
       "3     238.349188        0.014821  \n",
       "4     238.349188        0.014821  "
      ]
     },
     "execution_count": 66,
     "metadata": {},
     "output_type": "execute_result"
    }
   ],
   "source": [
    "NN_variable.head()"
   ]
  },
  {
   "cell_type": "markdown",
   "id": "automated-guitar",
   "metadata": {},
   "source": [
    "# Calculate performance metrics"
   ]
  },
  {
   "cell_type": "code",
   "execution_count": 67,
   "id": "finished-amino",
   "metadata": {},
   "outputs": [],
   "source": [
    "def performance_metrics(bridge_sampling_results, NN_fixed_results, NN_variable_results, names):\n",
    "    \n",
    "    mae = []\n",
    "    rmse = []\n",
    "    roc_auc = [] \n",
    "    accuracy = []\n",
    "    \n",
    "    for d in (bridge_sampling_results, NN_fixed_results, NN_variable_results):\n",
    "        mae_temp = np.mean(abs(d['true_model']-d['m1_prob']))\n",
    "        mae.append(mae_temp)\n",
    "        rmse_temp = np.sqrt(((d['true_model']-d['m1_prob'])**2).mean())\n",
    "        rmse.append(rmse_temp)\n",
    "        roc_auc_temp = roc_auc_score(d['true_model'], d['m1_prob'])\n",
    "        roc_auc.append(roc_auc_temp)\n",
    "        accuracy_temp = (d['true_model'] == d['selected_model']).mean()\n",
    "        accuracy.append(accuracy_temp)\n",
    "\n",
    "    \n",
    "    df = pd.DataFrame([mae, rmse, roc_auc, accuracy], index = ['MAE', 'RMSE', 'ROC AUC', 'Accuracy'], \n",
    "                      columns = names).transpose()\n",
    "    \n",
    "    return df"
   ]
  },
  {
   "cell_type": "code",
   "execution_count": 68,
   "id": "turkish-precipitation",
   "metadata": {
    "scrolled": true
   },
   "outputs": [
    {
     "data": {
      "text/html": [
       "<div>\n",
       "<style scoped>\n",
       "    .dataframe tbody tr th:only-of-type {\n",
       "        vertical-align: middle;\n",
       "    }\n",
       "\n",
       "    .dataframe tbody tr th {\n",
       "        vertical-align: top;\n",
       "    }\n",
       "\n",
       "    .dataframe thead th {\n",
       "        text-align: right;\n",
       "    }\n",
       "</style>\n",
       "<table border=\"1\" class=\"dataframe\">\n",
       "  <thead>\n",
       "    <tr style=\"text-align: right;\">\n",
       "      <th></th>\n",
       "      <th>MAE</th>\n",
       "      <th>RMSE</th>\n",
       "      <th>ROC AUC</th>\n",
       "      <th>Accuracy</th>\n",
       "    </tr>\n",
       "  </thead>\n",
       "  <tbody>\n",
       "    <tr>\n",
       "      <th>Bridge Sampling</th>\n",
       "      <td>0.228593</td>\n",
       "      <td>0.322116</td>\n",
       "      <td>0.941176</td>\n",
       "      <td>0.86</td>\n",
       "    </tr>\n",
       "    <tr>\n",
       "      <th>Hierarchical Network fixed</th>\n",
       "      <td>0.255016</td>\n",
       "      <td>0.349507</td>\n",
       "      <td>0.907163</td>\n",
       "      <td>0.82</td>\n",
       "    </tr>\n",
       "    <tr>\n",
       "      <th>Hierarchical Network variable</th>\n",
       "      <td>0.255145</td>\n",
       "      <td>0.333028</td>\n",
       "      <td>0.922769</td>\n",
       "      <td>0.83</td>\n",
       "    </tr>\n",
       "  </tbody>\n",
       "</table>\n",
       "</div>"
      ],
      "text/plain": [
       "                                    MAE      RMSE   ROC AUC  Accuracy\n",
       "Bridge Sampling                0.228593  0.322116  0.941176      0.86\n",
       "Hierarchical Network fixed     0.255016  0.349507  0.907163      0.82\n",
       "Hierarchical Network variable  0.255145  0.333028  0.922769      0.83"
      ]
     },
     "execution_count": 68,
     "metadata": {},
     "output_type": "execute_result"
    }
   ],
   "source": [
    "perf_metrics = performance_metrics(bridge, NN_fixed, NN_variable, \n",
    "                                   names = ['Bridge Sampling', 'Hierarchical Network fixed', \n",
    "                                            'Hierarchical Network variable'])\n",
    "perf_metrics"
   ]
  },
  {
   "cell_type": "code",
   "execution_count": 69,
   "id": "tutorial-italian",
   "metadata": {},
   "outputs": [
    {
     "data": {
      "text/plain": [
       "<sklearn.metrics._plot.roc_curve.RocCurveDisplay at 0x2869570ea90>"
      ]
     },
     "execution_count": 69,
     "metadata": {},
     "output_type": "execute_result"
    },
    {
     "data": {
      "image/png": "[encoded data removed]",
      "text/plain": [
       "<Figure size 432x288 with 1 Axes>"
      ]
     },
     "metadata": {
      "needs_background": "light"
     },
     "output_type": "display_data"
    }
   ],
   "source": [
    "fpr, tpr, thesholds = roc_curve(bridge['true_model'], bridge['m1_prob'])\n",
    "RocCurveDisplay(fpr=fpr, tpr=tpr).plot() "
   ]
  },
  {
   "cell_type": "code",
   "execution_count": 70,
   "id": "massive-dialogue",
   "metadata": {},
   "outputs": [
    {
     "data": {
      "text/plain": [
       "<sklearn.metrics._plot.roc_curve.RocCurveDisplay at 0x28695b9aeb0>"
      ]
     },
     "execution_count": 70,
     "metadata": {},
     "output_type": "execute_result"
    },
    {
     "data": {
      "image/png": "[encoded data removed]",
      "text/plain": [
       "<Figure size 432x288 with 1 Axes>"
      ]
     },
     "metadata": {
      "needs_background": "light"
     },
     "output_type": "display_data"
    }
   ],
   "source": [
    "fpr, tpr, thesholds = roc_curve(NN_fixed['true_model'], NN_fixed['m1_prob'])\n",
    "RocCurveDisplay(fpr=fpr, tpr=tpr).plot() "
   ]
  },
  {
   "cell_type": "code",
   "execution_count": 71,
   "id": "illegal-tractor",
   "metadata": {},
   "outputs": [
    {
     "data": {
      "text/plain": [
       "<sklearn.metrics._plot.roc_curve.RocCurveDisplay at 0x28695623f10>"
      ]
     },
     "execution_count": 71,
     "metadata": {},
     "output_type": "execute_result"
    },
    {
     "data": {
      "image/png": "[encoded data removed]",
      "text/plain": [
       "<Figure size 432x288 with 1 Axes>"
      ]
     },
     "metadata": {
      "needs_background": "light"
     },
     "output_type": "display_data"
    }
   ],
   "source": [
    "fpr, tpr, thesholds = roc_curve(NN_variable['true_model'], NN_variable['m1_prob'])\n",
    "RocCurveDisplay(fpr=fpr, tpr=tpr).plot() "
   ]
  },
  {
   "cell_type": "code",
   "execution_count": 72,
   "id": "general-style",
   "metadata": {},
   "outputs": [
    {
     "name": "stdout",
     "output_type": "stream",
     "text": [
      "True prior probability for m1 = 0.5\n",
      "True proportion in simulated datasets = 0.49\n",
      "Bridge Sampling average m1 probability = 0.4974335423669033\n",
      "NN fixed average m1 probability = 0.4510535007715225\n",
      "NN variable average m1 probability = 0.5137272714078427\n"
     ]
    }
   ],
   "source": [
    "# Inspired by simulation-based calibration: \n",
    "# Do the average posterior probabilities match the 50/50 prior \n",
    "# / the 49/51 proportion in the simulated datasets?\n",
    "\n",
    "print('True prior probability for m1 = {}'.format(0.5))\n",
    "print('True proportion in simulated datasets = {}'.format(bridge['true_model'].mean()))\n",
    "print('Bridge Sampling average m1 probability = {}'.format(bridge['m1_prob'].mean()))\n",
    "print('NN fixed average m1 probability = {}'.format(NN_fixed['m1_prob'].mean()))\n",
    "print('NN variable average m1 probability = {}'.format(NN_variable['m1_prob'].mean()))"
   ]
  },
  {
   "cell_type": "code",
   "execution_count": 73,
   "id": "tracked-sierra",
   "metadata": {},
   "outputs": [
    {
     "name": "stdout",
     "output_type": "stream",
     "text": [
      "True proportion = 0.49\n",
      "Bridge Sampling proportion = 0.39\n",
      "NN fixed proportion = 0.33\n",
      "NN variable proportion = 0.46\n"
     ]
    }
   ],
   "source": [
    "# How do the proportions of selected models look like?\n",
    "\n",
    "print('True proportion = {}'.format(bridge['true_model'].mean()))\n",
    "print('Bridge Sampling proportion = {}'.format(bridge['selected_model'].mean()))\n",
    "print('NN fixed proportion = {}'.format(NN_fixed['selected_model'].mean()))\n",
    "print('NN variable proportion = {}'.format(NN_variable['selected_model'].mean()))"
   ]
  },
  {
   "cell_type": "markdown",
   "id": "circular-fortune",
   "metadata": {},
   "source": [
    "# Plot log BF approximation"
   ]
  },
  {
   "cell_type": "code",
   "execution_count": 74,
   "id": "fifteen-nitrogen",
   "metadata": {},
   "outputs": [],
   "source": [
    "### Variant 1: Replace infinite BFs by highest number possible\n",
    "\n",
    "def log_with_inf_replacement(x):\n",
    "    \"\"\" Replaces Inf values with highest value possible and \n",
    "    then computes the log of the given array. \n",
    "    \"\"\"\n",
    "    \n",
    "    x_copy = x.copy()\n",
    "    if all(np.isfinite(x)) == False:\n",
    "        x_copy[np.isfinite(x) == False] = sys.maxsize\n",
    "    x_copy = np.log(x_copy)\n",
    "    return x_copy"
   ]
  },
  {
   "cell_type": "code",
   "execution_count": 112,
   "id": "intellectual-zimbabwe",
   "metadata": {},
   "outputs": [],
   "source": [
    "### Variant 2: Add noise to model probs in case of infinite BFs and recompute BFs\n",
    "\n",
    "def log_with_inf_noise_addition(x):\n",
    "    \"\"\" Replaces Inf values with highest value possible and \n",
    "    then computes the log of the given array. \n",
    "    \"\"\"\n",
    "    \n",
    "    x_copy = x.copy()\n",
    "    for i in range(x.shape[0]):\n",
    "        if x.loc[i,'m0_prob'] == 0:\n",
    "            x_copy.loc[i,'m0_prob'] = x_copy.loc[i,'m0_prob'] + 0.000000001\n",
    "            x_copy.loc[i,'m1_prob'] = x_copy.loc[i,'m1_prob'] - 0.000000001\n",
    "            x_copy.loc[i,'bayes_factor'] = x_copy.loc[i,'m1_prob'] / x_copy.loc[i,'m0_prob']\n",
    "    x_copy = np.log(x_copy['bayes_factor'])\n",
    "    return x_copy"
   ]
  },
  {
   "cell_type": "code",
   "execution_count": 113,
   "id": "danish-simon",
   "metadata": {},
   "outputs": [],
   "source": [
    "# Compute Log BFs\n",
    "\n",
    "log_bridge_bfs = log_with_inf_noise_addition(bridge)\n",
    "log_NN_fixed_bfs = log_with_inf_noise_addition(NN_fixed)\n",
    "log_NN_variable_bfs = log_with_inf_noise_addition(NN_variable)"
   ]
  },
  {
   "cell_type": "code",
   "execution_count": 114,
   "id": "conditional-content",
   "metadata": {},
   "outputs": [],
   "source": [
    "# Plotting settings\n",
    "\n",
    "colors = {0:'darkgrey', 1:'black'}\n",
    "figsize = (5, 5)"
   ]
  },
  {
   "cell_type": "code",
   "execution_count": 115,
   "id": "variable-engineer",
   "metadata": {},
   "outputs": [
    {
     "data": {
      "text/plain": [
       "Text(0, 0.5, 'p($M_{2}$|$D$), nicht-amortisiertes Netz')"
      ]
     },
     "execution_count": 115,
     "metadata": {},
     "output_type": "execute_result"
    },
    {
     "data": {
      "image/png": "[encoded data removed]",
      "text/plain": [
       "<Figure size 360x360 with 1 Axes>"
      ]
     },
     "metadata": {
      "needs_background": "light"
     },
     "output_type": "display_data"
    }
   ],
   "source": [
    "# Posterior probabilities for model 1\n",
    "# Bridge Sampling vs fixed NN\n",
    "\n",
    "f, ax = plt.subplots(1, 1, figsize=figsize)\n",
    "ax.scatter(bridge['m1_prob'], NN_fixed['m1_prob'], c=bridge['true_model'].map(colors))\n",
    "ax.plot(ax.get_xlim(), ax.get_xlim(), '--', color='black')\n",
    "ax.spines['right'].set_visible(False)\n",
    "ax.spines['top'].set_visible(False)\n",
    "ax.set_xlabel('p($M_{2}$|$D$), Bridge Sampling')\n",
    "ax.set_ylabel('p($M_{2}$|$D$), nicht-amortisiertes Netz')\n",
    "#ax.set_title('Posterior probability approximation: Hierarchical Network trained with fixed dataset sizes')\n",
    "#f.savefig('figures/BF_toy.png', dpi=300, bbox_inches='tight')"
   ]
  },
  {
   "cell_type": "code",
   "execution_count": 123,
   "id": "surface-officer",
   "metadata": {},
   "outputs": [
    {
     "data": {
      "text/plain": [
       "Text(0, 0.5, 'Log $BF_{21}$, nicht-amortisiertes Netz')"
      ]
     },
     "execution_count": 123,
     "metadata": {},
     "output_type": "execute_result"
    },
    {
     "data": {
      "image/png": "[encoded data removed]",
      "text/plain": [
       "<Figure size 360x360 with 1 Axes>"
      ]
     },
     "metadata": {
      "needs_background": "light"
     },
     "output_type": "display_data"
    }
   ],
   "source": [
    "# BFs vs fixed NN\n",
    "\n",
    "f, ax = plt.subplots(1, 1, figsize=figsize)\n",
    "ax.scatter(log_bridge_bfs, log_NN_fixed_bfs, c=bridge['true_model'].map(colors))\n",
    "ax.plot(ax.get_xlim(), ax.get_xlim(), '--', color='black')\n",
    "ax.spines['right'].set_visible(False)\n",
    "ax.spines['top'].set_visible(False)\n",
    "ax.set_xlabel(r'Log $BF_{21}$, Bridge Sampling ')\n",
    "ax.set_ylabel('Log $BF_{21}$, nicht-amortisiertes Netz')\n",
    "#ax.set_title('Log Bayes Factor approximation: Hierarchical Network trained with fixed dataset sizes')\n",
    "#f.savefig('figures/BF_toy.png', dpi=300, bbox_inches='tight')"
   ]
  },
  {
   "cell_type": "code",
   "execution_count": 117,
   "id": "absolute-monaco",
   "metadata": {},
   "outputs": [
    {
     "data": {
      "text/plain": [
       "Text(0, 0.5, 'p($M_{2}$|$D$), über $L$ & $N$ amortisiertes Netz')"
      ]
     },
     "execution_count": 117,
     "metadata": {},
     "output_type": "execute_result"
    },
    {
     "data": {
      "image/png": "[encoded data removed]",
      "text/plain": [
       "<Figure size 360x360 with 1 Axes>"
      ]
     },
     "metadata": {
      "needs_background": "light"
     },
     "output_type": "display_data"
    }
   ],
   "source": [
    "# Posterior probabilities for model 1\n",
    "# Bridge Sampling vs variable NN\n",
    "\n",
    "f, ax = plt.subplots(1, 1, figsize=figsize)\n",
    "ax.scatter(bridge['m1_prob'], NN_variable['m1_prob'], c=bridge['true_model'].map(colors))\n",
    "ax.plot(ax.get_xlim(), ax.get_xlim(), '--', color='black')\n",
    "ax.spines['right'].set_visible(False)\n",
    "ax.spines['top'].set_visible(False)\n",
    "ax.set_xlabel('p($M_{2}$|$D$), Bridge Sampling')\n",
    "ax.set_ylabel('p($M_{2}$|$D$), über $L$ & $N$ amortisiertes Netz')\n",
    "#ax.set_title('Posterior probability approximation: Hierarchical Network trained with variable dataset sizes')\n",
    "#f.savefig('figures/BF_toy.png', dpi=300, bbox_inches='tight')"
   ]
  },
  {
   "cell_type": "code",
   "execution_count": 125,
   "id": "streaming-questionnaire",
   "metadata": {},
   "outputs": [
    {
     "data": {
      "text/plain": [
       "Text(0, 0.5, 'Log $BF_{21}$, über $L$ & $N$ amortisiertes Netz')"
      ]
     },
     "execution_count": 125,
     "metadata": {},
     "output_type": "execute_result"
    },
    {
     "data": {
      "image/png": "[encoded data removed]",
      "text/plain": [
       "<Figure size 360x360 with 1 Axes>"
      ]
     },
     "metadata": {
      "needs_background": "light"
     },
     "output_type": "display_data"
    }
   ],
   "source": [
    "# vs variable NN\n",
    "\n",
    "f, ax = plt.subplots(1, 1, figsize=figsize)\n",
    "ax.scatter(log_bridge_bfs, log_NN_variable_bfs, c=bridge['true_model'].map(colors))\n",
    "ax.plot(ax.get_xlim(), ax.get_xlim(), '--', color='black')\n",
    "ax.spines['right'].set_visible(False)\n",
    "ax.spines['top'].set_visible(False)\n",
    "ax.set_xlabel('Log $BF_{21}$, Bridge Sampling ')\n",
    "ax.set_ylabel('Log $BF_{21}$, über $L$ & $N$ amortisiertes Netz')\n",
    "#ax.set_title('Log Bayes Factor approximation: Hierarchical Network trained with variable dataset sizes')\n",
    "#f.savefig('figures/BF_toy.png', dpi=300, bbox_inches='tight')"
   ]
  },
  {
   "cell_type": "markdown",
   "id": "innocent-sullivan",
   "metadata": {},
   "source": [
    "# Plot computation time as function of datasets"
   ]
  },
  {
   "cell_type": "code",
   "execution_count": null,
   "id": "dominican-movement",
   "metadata": {},
   "outputs": [],
   "source": [
    "# Calculate computation times\n",
    "bridge_time_min = (bridge['compile_time'] + (bridge['stan_time'] + bridge['bridge_time']).cumsum())/60\n",
    "NN_fixed_time_min = (NN_fixed['training_time'] + NN_fixed['inference_time'].cumsum())/60\n",
    "NN_variable_time_min = (NN_variable['training_time'] + NN_variable['inference_time'].cumsum())/60\n",
    "\n",
    "# Set index to represent datasets\n",
    "bridge_time_min.index = bridge_time_min.index+1\n",
    "NN_fixed_time_min.index = NN_fixed_time_min.index+1\n",
    "NN_variable_time_min.index = NN_variable_time_min.index+1"
   ]
  },
  {
   "cell_type": "code",
   "execution_count": 141,
   "id": "dimensional-composition",
   "metadata": {},
   "outputs": [
    {
     "data": {
      "text/plain": [
       "0     0.870980\n",
       "1     0.813979\n",
       "2     2.095170\n",
       "3     0.808926\n",
       "4     0.828645\n",
       "        ...   \n",
       "95    0.996661\n",
       "96    0.831937\n",
       "97    0.828789\n",
       "98    0.822810\n",
       "99    0.805737\n",
       "Name: stan_time, Length: 100, dtype: float64"
      ]
     },
     "execution_count": 141,
     "metadata": {},
     "output_type": "execute_result"
    }
   ],
   "source": [
    "bridge['stan_time']/60"
   ]
  },
  {
   "cell_type": "code",
   "execution_count": 149,
   "id": "extensive-windsor",
   "metadata": {},
   "outputs": [
    {
     "name": "stdout",
     "output_type": "stream",
     "text": [
      "Stan: 51.95640207290649\n",
      "Bridge: 35.198642358779914\n",
      "NN fixed training: 160.79096840000057\n",
      "NN fixed inference: 0.055943399998795905\n",
      "NN variable training: 238.34918789999935\n",
      "NN variable inference: 0.014820800002780698\n"
     ]
    }
   ],
   "source": [
    "# Mean computation times per phase\n",
    "# Bridge Sampling\n",
    "print('Stan: {}'.format(np.mean(bridge['stan_time'])))\n",
    "print('Bridge: {}'.format(np.mean(bridge['bridge_time'])))\n",
    "\n",
    "# NN fixed\n",
    "print('NN fixed training: {}'.format(np.mean(NN_fixed['training_time'])))\n",
    "print('NN fixed inference: {}'.format(np.mean(NN_fixed['inference_time'])))\n",
    "\n",
    "# NN variable\n",
    "print('NN variable training: {}'.format(np.mean(NN_variable['training_time'])))\n",
    "print('NN variable inference: {}'.format(np.mean(NN_variable['inference_time'])))"
   ]
  },
  {
   "cell_type": "code",
   "execution_count": 126,
   "id": "dated-receiver",
   "metadata": {},
   "outputs": [
    {
     "data": {
      "text/plain": [
       "(0.0, 153.11292930086452)"
      ]
     },
     "execution_count": 126,
     "metadata": {},
     "output_type": "execute_result"
    },
    {
     "data": {
      "image/png": "[encoded data removed]",
      "text/plain": [
       "<Figure size 360x360 with 1 Axes>"
      ]
     },
     "metadata": {
      "needs_background": "light"
     },
     "output_type": "display_data"
    }
   ],
   "source": [
    "# Plot for all datasets\n",
    "f, ax = plt.subplots(1, 1, figsize=figsize)\n",
    "ax.plot(bridge_time_min, label='Bridge Sampling computation time', lw=2, color='black')\n",
    "ax.plot(NN_fixed_time_min, label='Hierarchical Network fixed computation time', lw=2, linestyle='dotted', color='black')\n",
    "ax.plot(NN_variable_time_min, label='Hierarchical Network variable computation time', lw=2, linestyle='dashed', color='black')\n",
    "ax.spines['right'].set_visible(False)\n",
    "ax.spines['top'].set_visible(False)\n",
    "ax.set_xlabel('Datensatz')\n",
    "ax.set_ylabel('Berechnungszeit in Minuten')\n",
    "ax.set_xlim(xmin=1)\n",
    "ax.set_ylim(ymin=0)\n",
    "#ax.legend(loc='upper left')\n",
    "#f.savefig('figures/BF_N_Toy.png', dpi=300, bbox_inches='tight')"
   ]
  },
  {
   "cell_type": "code",
   "execution_count": 120,
   "id": "buried-dependence",
   "metadata": {},
   "outputs": [
    {
     "data": {
      "text/plain": [
       "[<matplotlib.axis.XTick at 0x2869753c820>,\n",
       " <matplotlib.axis.XTick at 0x2869753c7f0>,\n",
       " <matplotlib.axis.XTick at 0x28697539280>,\n",
       " <matplotlib.axis.XTick at 0x286975668e0>,\n",
       " <matplotlib.axis.XTick at 0x28697566df0>]"
      ]
     },
     "execution_count": 120,
     "metadata": {},
     "output_type": "execute_result"
    },
    {
     "data": {
      "image/png": "[encoded data removed]",
      "text/plain": [
       "<Figure size 360x360 with 1 Axes>"
      ]
     },
     "metadata": {
      "needs_background": "light"
     },
     "output_type": "display_data"
    }
   ],
   "source": [
    "# Plot time for subset of 1-5 datasets\n",
    "\n",
    "bridge_short = bridge.iloc[:5,:]\n",
    "NN_fixed_short = NN_fixed.iloc[:5,:]\n",
    "NN_variable_short = NN_variable.iloc[:5,:]\n",
    "\n",
    "# Calculate computation times\n",
    "bridge_time_min = ((bridge_short['compile_time'] + (bridge_short['stan_time'] + bridge_short['bridge_time']).cumsum())/60)\n",
    "NN_fixed_time_min = ((NN_fixed_short['training_time'] + NN_fixed_short['inference_time'].cumsum())/60)\n",
    "NN_variable_time_min = ((NN_variable_short['training_time'] + NN_variable_short['inference_time'].cumsum())/60)\n",
    "\n",
    "# Set index to represent datasets\n",
    "bridge_time_min.index = bridge_time_min.index+1\n",
    "NN_fixed_time_min.index = NN_fixed_time_min.index+1\n",
    "NN_variable_time_min.index = NN_variable_time_min.index+1\n",
    "\n",
    "# Plot\n",
    "f, ax = plt.subplots(1, 1, figsize=figsize)\n",
    "ax.plot(bridge_time_min, label='Bridge Sampling computation time', lw=2, marker='D', color='black')\n",
    "ax.plot(NN_fixed_time_min, label='Hierarchical Network fixed computation time', lw=2, linestyle='dotted', marker='D', color='black')\n",
    "ax.plot(NN_variable_time_min, label='Hierarchical Network variable computation time', lw=2, linestyle='dashed', marker='D', color='black')\n",
    "ax.spines['right'].set_visible(False)\n",
    "ax.spines['top'].set_visible(False)\n",
    "ax.set_xlabel('Datensatz')\n",
    "ax.set_ylabel('Berechnungszeit in Minuten')\n",
    "ax.set_xlim(xmin=1)\n",
    "ax.set_ylim(ymin=0)\n",
    "ax.set_xticks(bridge_time_min.index) # only display ticks for each dataset\n",
    "#ax.legend(loc='upper left')\n",
    "#f.savefig('figures/BF_N_Toy.png', dpi=300, bbox_inches='tight')"
   ]
  }
 ],
 "metadata": {
  "kernelspec": {
   "display_name": "Python 3",
   "language": "python",
   "name": "python3"
  },
  "language_info": {
   "codemirror_mode": {
    "name": "ipython",
    "version": 3
   },
   "file_extension": ".py",
   "mimetype": "text/x-python",
   "name": "python",
   "nbconvert_exporter": "python",
   "pygments_lexer": "ipython3",
   "version": "3.8.8"
  },
  "toc": {
   "base_numbering": 1,
   "nav_menu": {},
   "number_sections": true,
   "sideBar": true,
   "skip_h1_title": false,
   "title_cell": "Table of Contents",
   "title_sidebar": "Contents",
   "toc_cell": false,
   "toc_position": {},
   "toc_section_display": true,
   "toc_window_display": false
  },
  "varInspector": {
   "cols": {
    "lenName": 16,
    "lenType": 16,
    "lenVar": 40
   },
   "kernels_config": {
    "python": {
     "delete_cmd_postfix": "",
     "delete_cmd_prefix": "del ",
     "library": "var_list.py",
     "varRefreshCmd": "print(var_dic_list())"
    },
    "r": {
     "delete_cmd_postfix": ") ",
     "delete_cmd_prefix": "rm(",
     "library": "var_list.r",
     "varRefreshCmd": "cat(var_dic_list()) "
    }
   },
   "types_to_exclude": [
    "module",
    "function",
    "builtin_function_or_method",
    "instance",
    "_Feature"
   ],
   "window_display": false
  }
 },
 "nbformat": 4,
 "nbformat_minor": 5
}
