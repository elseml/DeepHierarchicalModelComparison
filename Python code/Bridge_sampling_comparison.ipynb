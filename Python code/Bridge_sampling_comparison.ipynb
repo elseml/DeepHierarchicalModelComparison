{
 "cells": [
  {
   "cell_type": "markdown",
   "id": "distinct-dance",
   "metadata": {},
   "source": [
    "# Setup"
   ]
  },
  {
   "cell_type": "code",
   "execution_count": 154,
   "id": "sophisticated-english",
   "metadata": {},
   "outputs": [],
   "source": [
    "import os\n",
    "import numpy as np\n",
    "np.set_printoptions(suppress=True)\n",
    "import pandas as pd\n",
    "import matplotlib.pyplot as plt\n",
    "import seaborn as sns\n",
    "from sklearn.metrics import roc_curve, roc_auc_score, RocCurveDisplay\n",
    "import sys"
   ]
  },
  {
   "cell_type": "markdown",
   "id": "north-newport",
   "metadata": {},
   "source": [
    "# Load data"
   ]
  },
  {
   "cell_type": "code",
   "execution_count": 155,
   "id": "underlying-speech",
   "metadata": {},
   "outputs": [],
   "source": [
    "comparison_folder = os.path.join(os.getcwd(),'data', 'BF_approximation_comparison')\n",
    "bridge_file = '2021_06_29___15_12_BF_approx_comp'\n",
    "NN_fixed_file = '2021_07_13___17_52_BF_NN_comp'\n",
    "NN_variable_file = '2021_07_01___15_24_BF_NN_variable_comp'\n",
    "\n",
    "bridge = pd.read_csv(os.path.join(comparison_folder, bridge_file), sep = \" \").reset_index(drop=True)\n",
    "NN_fixed = pd.read_csv(os.path.join(comparison_folder, NN_fixed_file))\n",
    "NN_variable = pd.read_csv(os.path.join(comparison_folder, NN_variable_file))"
   ]
  },
  {
   "cell_type": "code",
   "execution_count": 156,
   "id": "large-helping",
   "metadata": {},
   "outputs": [
    {
     "data": {
      "text/html": [
       "<div>\n",
       "<style scoped>\n",
       "    .dataframe tbody tr th:only-of-type {\n",
       "        vertical-align: middle;\n",
       "    }\n",
       "\n",
       "    .dataframe tbody tr th {\n",
       "        vertical-align: top;\n",
       "    }\n",
       "\n",
       "    .dataframe thead th {\n",
       "        text-align: right;\n",
       "    }\n",
       "</style>\n",
       "<table border=\"1\" class=\"dataframe\">\n",
       "  <thead>\n",
       "    <tr style=\"text-align: right;\">\n",
       "      <th></th>\n",
       "      <th>dataset</th>\n",
       "      <th>true_model</th>\n",
       "      <th>m0_prob</th>\n",
       "      <th>m1_prob</th>\n",
       "      <th>selected_model</th>\n",
       "      <th>bayes_factor</th>\n",
       "      <th>m0_bridge_error</th>\n",
       "      <th>m1_bridge_error</th>\n",
       "      <th>compile_time</th>\n",
       "      <th>stan_time</th>\n",
       "      <th>bridge_time</th>\n",
       "    </tr>\n",
       "  </thead>\n",
       "  <tbody>\n",
       "    <tr>\n",
       "      <th>0</th>\n",
       "      <td>1</td>\n",
       "      <td>0</td>\n",
       "      <td>8.388963e-01</td>\n",
       "      <td>0.161104</td>\n",
       "      <td>0</td>\n",
       "      <td>1.920424e-01</td>\n",
       "      <td>0%</td>\n",
       "      <td>0%</td>\n",
       "      <td>39.907145</td>\n",
       "      <td>52.258780</td>\n",
       "      <td>35.962266</td>\n",
       "    </tr>\n",
       "    <tr>\n",
       "      <th>1</th>\n",
       "      <td>2</td>\n",
       "      <td>1</td>\n",
       "      <td>2.226466e-27</td>\n",
       "      <td>1.000000</td>\n",
       "      <td>1</td>\n",
       "      <td>4.491424e+26</td>\n",
       "      <td>0%</td>\n",
       "      <td>0%</td>\n",
       "      <td>39.907145</td>\n",
       "      <td>48.838711</td>\n",
       "      <td>35.385838</td>\n",
       "    </tr>\n",
       "    <tr>\n",
       "      <th>2</th>\n",
       "      <td>3</td>\n",
       "      <td>1</td>\n",
       "      <td>5.490843e-01</td>\n",
       "      <td>0.450916</td>\n",
       "      <td>0</td>\n",
       "      <td>8.212140e-01</td>\n",
       "      <td>1%</td>\n",
       "      <td>1%</td>\n",
       "      <td>39.907145</td>\n",
       "      <td>125.710194</td>\n",
       "      <td>37.204897</td>\n",
       "    </tr>\n",
       "    <tr>\n",
       "      <th>3</th>\n",
       "      <td>4</td>\n",
       "      <td>0</td>\n",
       "      <td>7.737407e-01</td>\n",
       "      <td>0.226259</td>\n",
       "      <td>0</td>\n",
       "      <td>2.924226e-01</td>\n",
       "      <td>0%</td>\n",
       "      <td>0%</td>\n",
       "      <td>39.907145</td>\n",
       "      <td>48.535535</td>\n",
       "      <td>35.359315</td>\n",
       "    </tr>\n",
       "    <tr>\n",
       "      <th>4</th>\n",
       "      <td>5</td>\n",
       "      <td>0</td>\n",
       "      <td>5.384046e-01</td>\n",
       "      <td>0.461595</td>\n",
       "      <td>0</td>\n",
       "      <td>8.573394e-01</td>\n",
       "      <td>0%</td>\n",
       "      <td>0%</td>\n",
       "      <td>39.907145</td>\n",
       "      <td>49.718692</td>\n",
       "      <td>35.450406</td>\n",
       "    </tr>\n",
       "  </tbody>\n",
       "</table>\n",
       "</div>"
      ],
      "text/plain": [
       "   dataset  true_model       m0_prob   m1_prob  selected_model  bayes_factor  \\\n",
       "0        1           0  8.388963e-01  0.161104               0  1.920424e-01   \n",
       "1        2           1  2.226466e-27  1.000000               1  4.491424e+26   \n",
       "2        3           1  5.490843e-01  0.450916               0  8.212140e-01   \n",
       "3        4           0  7.737407e-01  0.226259               0  2.924226e-01   \n",
       "4        5           0  5.384046e-01  0.461595               0  8.573394e-01   \n",
       "\n",
       "  m0_bridge_error m1_bridge_error  compile_time   stan_time  bridge_time  \n",
       "0              0%              0%     39.907145   52.258780    35.962266  \n",
       "1              0%              0%     39.907145   48.838711    35.385838  \n",
       "2              1%              1%     39.907145  125.710194    37.204897  \n",
       "3              0%              0%     39.907145   48.535535    35.359315  \n",
       "4              0%              0%     39.907145   49.718692    35.450406  "
      ]
     },
     "execution_count": 156,
     "metadata": {},
     "output_type": "execute_result"
    }
   ],
   "source": [
    "bridge.head()"
   ]
  },
  {
   "cell_type": "code",
   "execution_count": 5,
   "id": "neural-giving",
   "metadata": {},
   "outputs": [
    {
     "data": {
      "text/html": [
       "<div>\n",
       "<style scoped>\n",
       "    .dataframe tbody tr th:only-of-type {\n",
       "        vertical-align: middle;\n",
       "    }\n",
       "\n",
       "    .dataframe tbody tr th {\n",
       "        vertical-align: top;\n",
       "    }\n",
       "\n",
       "    .dataframe thead th {\n",
       "        text-align: right;\n",
       "    }\n",
       "</style>\n",
       "<table border=\"1\" class=\"dataframe\">\n",
       "  <thead>\n",
       "    <tr style=\"text-align: right;\">\n",
       "      <th></th>\n",
       "      <th>dataset</th>\n",
       "      <th>true_model</th>\n",
       "      <th>m0_prob</th>\n",
       "      <th>m1_prob</th>\n",
       "      <th>selected_model</th>\n",
       "      <th>bayes_factor</th>\n",
       "      <th>training_time</th>\n",
       "      <th>inference_time</th>\n",
       "      <th>final_epoch_loss</th>\n",
       "    </tr>\n",
       "  </thead>\n",
       "  <tbody>\n",
       "    <tr>\n",
       "      <th>0</th>\n",
       "      <td>1</td>\n",
       "      <td>0</td>\n",
       "      <td>0.830657</td>\n",
       "      <td>0.169343</td>\n",
       "      <td>0</td>\n",
       "      <td>0.203867</td>\n",
       "      <td>160.790968</td>\n",
       "      <td>0.055943</td>\n",
       "      <td>0.474433</td>\n",
       "    </tr>\n",
       "    <tr>\n",
       "      <th>1</th>\n",
       "      <td>2</td>\n",
       "      <td>1</td>\n",
       "      <td>0.000056</td>\n",
       "      <td>0.999944</td>\n",
       "      <td>1</td>\n",
       "      <td>17961.758030</td>\n",
       "      <td>160.790968</td>\n",
       "      <td>0.055943</td>\n",
       "      <td>0.474433</td>\n",
       "    </tr>\n",
       "    <tr>\n",
       "      <th>2</th>\n",
       "      <td>3</td>\n",
       "      <td>1</td>\n",
       "      <td>0.550600</td>\n",
       "      <td>0.449400</td>\n",
       "      <td>0</td>\n",
       "      <td>0.816201</td>\n",
       "      <td>160.790968</td>\n",
       "      <td>0.055943</td>\n",
       "      <td>0.474433</td>\n",
       "    </tr>\n",
       "    <tr>\n",
       "      <th>3</th>\n",
       "      <td>4</td>\n",
       "      <td>0</td>\n",
       "      <td>0.856114</td>\n",
       "      <td>0.143886</td>\n",
       "      <td>0</td>\n",
       "      <td>0.168069</td>\n",
       "      <td>160.790968</td>\n",
       "      <td>0.055943</td>\n",
       "      <td>0.474433</td>\n",
       "    </tr>\n",
       "    <tr>\n",
       "      <th>4</th>\n",
       "      <td>5</td>\n",
       "      <td>0</td>\n",
       "      <td>0.552386</td>\n",
       "      <td>0.447614</td>\n",
       "      <td>0</td>\n",
       "      <td>0.810329</td>\n",
       "      <td>160.790968</td>\n",
       "      <td>0.055943</td>\n",
       "      <td>0.474433</td>\n",
       "    </tr>\n",
       "  </tbody>\n",
       "</table>\n",
       "</div>"
      ],
      "text/plain": [
       "   dataset  true_model   m0_prob   m1_prob  selected_model  bayes_factor  \\\n",
       "0        1           0  0.830657  0.169343               0      0.203867   \n",
       "1        2           1  0.000056  0.999944               1  17961.758030   \n",
       "2        3           1  0.550600  0.449400               0      0.816201   \n",
       "3        4           0  0.856114  0.143886               0      0.168069   \n",
       "4        5           0  0.552386  0.447614               0      0.810329   \n",
       "\n",
       "   training_time  inference_time  final_epoch_loss  \n",
       "0     160.790968        0.055943          0.474433  \n",
       "1     160.790968        0.055943          0.474433  \n",
       "2     160.790968        0.055943          0.474433  \n",
       "3     160.790968        0.055943          0.474433  \n",
       "4     160.790968        0.055943          0.474433  "
      ]
     },
     "execution_count": 5,
     "metadata": {},
     "output_type": "execute_result"
    }
   ],
   "source": [
    "NN_fixed.head()"
   ]
  },
  {
   "cell_type": "code",
   "execution_count": 6,
   "id": "incomplete-penny",
   "metadata": {},
   "outputs": [
    {
     "data": {
      "text/html": [
       "<div>\n",
       "<style scoped>\n",
       "    .dataframe tbody tr th:only-of-type {\n",
       "        vertical-align: middle;\n",
       "    }\n",
       "\n",
       "    .dataframe tbody tr th {\n",
       "        vertical-align: top;\n",
       "    }\n",
       "\n",
       "    .dataframe thead th {\n",
       "        text-align: right;\n",
       "    }\n",
       "</style>\n",
       "<table border=\"1\" class=\"dataframe\">\n",
       "  <thead>\n",
       "    <tr style=\"text-align: right;\">\n",
       "      <th></th>\n",
       "      <th>dataset</th>\n",
       "      <th>true_model</th>\n",
       "      <th>m0_prob</th>\n",
       "      <th>m1_prob</th>\n",
       "      <th>selected_model</th>\n",
       "      <th>bayes_factor</th>\n",
       "      <th>training_time</th>\n",
       "      <th>inference_time</th>\n",
       "    </tr>\n",
       "  </thead>\n",
       "  <tbody>\n",
       "    <tr>\n",
       "      <th>0</th>\n",
       "      <td>1</td>\n",
       "      <td>0</td>\n",
       "      <td>0.824269</td>\n",
       "      <td>0.175731</td>\n",
       "      <td>0</td>\n",
       "      <td>0.213197</td>\n",
       "      <td>238.349188</td>\n",
       "      <td>0.014821</td>\n",
       "    </tr>\n",
       "    <tr>\n",
       "      <th>1</th>\n",
       "      <td>2</td>\n",
       "      <td>1</td>\n",
       "      <td>0.001745</td>\n",
       "      <td>0.998255</td>\n",
       "      <td>1</td>\n",
       "      <td>572.129368</td>\n",
       "      <td>238.349188</td>\n",
       "      <td>0.014821</td>\n",
       "    </tr>\n",
       "    <tr>\n",
       "      <th>2</th>\n",
       "      <td>3</td>\n",
       "      <td>1</td>\n",
       "      <td>0.353277</td>\n",
       "      <td>0.646723</td>\n",
       "      <td>1</td>\n",
       "      <td>1.830639</td>\n",
       "      <td>238.349188</td>\n",
       "      <td>0.014821</td>\n",
       "    </tr>\n",
       "    <tr>\n",
       "      <th>3</th>\n",
       "      <td>4</td>\n",
       "      <td>0</td>\n",
       "      <td>0.630828</td>\n",
       "      <td>0.369172</td>\n",
       "      <td>0</td>\n",
       "      <td>0.585218</td>\n",
       "      <td>238.349188</td>\n",
       "      <td>0.014821</td>\n",
       "    </tr>\n",
       "    <tr>\n",
       "      <th>4</th>\n",
       "      <td>5</td>\n",
       "      <td>0</td>\n",
       "      <td>0.556635</td>\n",
       "      <td>0.443365</td>\n",
       "      <td>0</td>\n",
       "      <td>0.796510</td>\n",
       "      <td>238.349188</td>\n",
       "      <td>0.014821</td>\n",
       "    </tr>\n",
       "  </tbody>\n",
       "</table>\n",
       "</div>"
      ],
      "text/plain": [
       "   dataset  true_model   m0_prob   m1_prob  selected_model  bayes_factor  \\\n",
       "0        1           0  0.824269  0.175731               0      0.213197   \n",
       "1        2           1  0.001745  0.998255               1    572.129368   \n",
       "2        3           1  0.353277  0.646723               1      1.830639   \n",
       "3        4           0  0.630828  0.369172               0      0.585218   \n",
       "4        5           0  0.556635  0.443365               0      0.796510   \n",
       "\n",
       "   training_time  inference_time  \n",
       "0     238.349188        0.014821  \n",
       "1     238.349188        0.014821  \n",
       "2     238.349188        0.014821  \n",
       "3     238.349188        0.014821  \n",
       "4     238.349188        0.014821  "
      ]
     },
     "execution_count": 6,
     "metadata": {},
     "output_type": "execute_result"
    }
   ],
   "source": [
    "NN_variable.head()"
   ]
  },
  {
   "cell_type": "markdown",
   "id": "automated-guitar",
   "metadata": {},
   "source": [
    "# Calculate performance metrics"
   ]
  },
  {
   "cell_type": "code",
   "execution_count": 86,
   "id": "finished-amino",
   "metadata": {},
   "outputs": [],
   "source": [
    "def performance_metrics(bridge_sampling_results, NN_fixed_results, NN_variable_results, names):\n",
    "    \n",
    "    mae = []\n",
    "    rmse = []\n",
    "    roc_auc = [] \n",
    "    accuracy = []\n",
    "    \n",
    "    for d in (bridge_sampling_results, NN_fixed_results, NN_variable_results):\n",
    "        mae_temp = np.mean(abs(d['true_model']-d['m1_prob']))\n",
    "        mae.append(mae_temp)\n",
    "        rmse_temp = np.sqrt(((d['true_model']-d['m1_prob'])**2).mean())\n",
    "        rmse.append(rmse_temp)\n",
    "        roc_auc_temp = roc_auc_score(d['true_model'], d['m1_prob'])\n",
    "        roc_auc.append(roc_auc_temp)\n",
    "        accuracy_temp = (d['true_model'] == d['selected_model']).mean()\n",
    "        accuracy.append(accuracy_temp)\n",
    "\n",
    "    \n",
    "    df = pd.DataFrame([mae, rmse, roc_auc, accuracy], index = ['MAE', 'RMSE', 'ROC AUC', 'Accuracy'], \n",
    "                      columns = names).transpose()\n",
    "    \n",
    "    return df"
   ]
  },
  {
   "cell_type": "code",
   "execution_count": 87,
   "id": "turkish-precipitation",
   "metadata": {
    "scrolled": true
   },
   "outputs": [
    {
     "data": {
      "text/html": [
       "<div>\n",
       "<style scoped>\n",
       "    .dataframe tbody tr th:only-of-type {\n",
       "        vertical-align: middle;\n",
       "    }\n",
       "\n",
       "    .dataframe tbody tr th {\n",
       "        vertical-align: top;\n",
       "    }\n",
       "\n",
       "    .dataframe thead th {\n",
       "        text-align: right;\n",
       "    }\n",
       "</style>\n",
       "<table border=\"1\" class=\"dataframe\">\n",
       "  <thead>\n",
       "    <tr style=\"text-align: right;\">\n",
       "      <th></th>\n",
       "      <th>MAE</th>\n",
       "      <th>RMSE</th>\n",
       "      <th>ROC AUC</th>\n",
       "      <th>Accuracy</th>\n",
       "    </tr>\n",
       "  </thead>\n",
       "  <tbody>\n",
       "    <tr>\n",
       "      <th>Bridge Sampling</th>\n",
       "      <td>0.228593</td>\n",
       "      <td>0.322116</td>\n",
       "      <td>0.941176</td>\n",
       "      <td>0.86</td>\n",
       "    </tr>\n",
       "    <tr>\n",
       "      <th>Hierarchical Network fixed</th>\n",
       "      <td>0.255016</td>\n",
       "      <td>0.349507</td>\n",
       "      <td>0.907163</td>\n",
       "      <td>0.82</td>\n",
       "    </tr>\n",
       "    <tr>\n",
       "      <th>Hierarchical Network variable</th>\n",
       "      <td>0.255145</td>\n",
       "      <td>0.333028</td>\n",
       "      <td>0.922769</td>\n",
       "      <td>0.83</td>\n",
       "    </tr>\n",
       "  </tbody>\n",
       "</table>\n",
       "</div>"
      ],
      "text/plain": [
       "                                    MAE      RMSE   ROC AUC  Accuracy\n",
       "Bridge Sampling                0.228593  0.322116  0.941176      0.86\n",
       "Hierarchical Network fixed     0.255016  0.349507  0.907163      0.82\n",
       "Hierarchical Network variable  0.255145  0.333028  0.922769      0.83"
      ]
     },
     "execution_count": 87,
     "metadata": {},
     "output_type": "execute_result"
    }
   ],
   "source": [
    "perf_metrics = performance_metrics(bridge, NN_fixed, NN_variable, \n",
    "                                   names = ['Bridge Sampling', 'Hierarchical Network fixed', \n",
    "                                            'Hierarchical Network variable'])\n",
    "perf_metrics"
   ]
  },
  {
   "cell_type": "code",
   "execution_count": 85,
   "id": "tutorial-italian",
   "metadata": {},
   "outputs": [
    {
     "data": {
      "text/plain": [
       "<sklearn.metrics._plot.roc_curve.RocCurveDisplay at 0x1bfc1a3fd60>"
      ]
     },
     "execution_count": 85,
     "metadata": {},
     "output_type": "execute_result"
    },
    {
     "data": {
      "image/png": "[encoded data removed]",
      "text/plain": [
       "<Figure size 432x288 with 1 Axes>"
      ]
     },
     "metadata": {
      "needs_background": "light"
     },
     "output_type": "display_data"
    }
   ],
   "source": [
    "fpr, tpr, thesholds = roc_curve(bridge['true_model'], bridge['m1_prob'])\n",
    "RocCurveDisplay(fpr=fpr, tpr=tpr).plot() "
   ]
  },
  {
   "cell_type": "code",
   "execution_count": 81,
   "id": "massive-dialogue",
   "metadata": {},
   "outputs": [
    {
     "data": {
      "text/plain": [
       "<sklearn.metrics._plot.roc_curve.RocCurveDisplay at 0x1bfc1a7cd90>"
      ]
     },
     "execution_count": 81,
     "metadata": {},
     "output_type": "execute_result"
    },
    {
     "data": {
      "image/png": "[encoded data removed]",
      "text/plain": [
       "<Figure size 432x288 with 1 Axes>"
      ]
     },
     "metadata": {
      "needs_background": "light"
     },
     "output_type": "display_data"
    }
   ],
   "source": [
    "fpr, tpr, thesholds = roc_curve(NN_fixed['true_model'], NN_fixed['m1_prob'])\n",
    "RocCurveDisplay(fpr=fpr, tpr=tpr).plot() "
   ]
  },
  {
   "cell_type": "code",
   "execution_count": 82,
   "id": "illegal-tractor",
   "metadata": {},
   "outputs": [
    {
     "data": {
      "text/plain": [
       "<sklearn.metrics._plot.roc_curve.RocCurveDisplay at 0x1bfc192c970>"
      ]
     },
     "execution_count": 82,
     "metadata": {},
     "output_type": "execute_result"
    },
    {
     "data": {
      "image/png": "[encoded data removed]",
      "text/plain": [
       "<Figure size 432x288 with 1 Axes>"
      ]
     },
     "metadata": {
      "needs_background": "light"
     },
     "output_type": "display_data"
    }
   ],
   "source": [
    "fpr, tpr, thesholds = roc_curve(NN_variable['true_model'], NN_variable['m1_prob'])\n",
    "RocCurveDisplay(fpr=fpr, tpr=tpr).plot() "
   ]
  },
  {
   "cell_type": "code",
   "execution_count": 46,
   "id": "general-style",
   "metadata": {},
   "outputs": [
    {
     "name": "stdout",
     "output_type": "stream",
     "text": [
      "True prior probability for m1 = 0.5\n",
      "True proportion in simulated datasets = 0.49\n",
      "Bridge Sampling average m1 probability = 0.4974335423669033\n",
      "NN fixed average m1 probability = 0.4510535007715225\n",
      "NN variable average m1 probability = 0.5137272714078427\n"
     ]
    }
   ],
   "source": [
    "# Inspired by simulation-based calibration: \n",
    "# Do the average posterior probabilities match the 50/50 prior \n",
    "# / the 49/51 proportion in the simulated datasets?\n",
    "\n",
    "print('True prior probability for m1 = {}'.format(0.5))\n",
    "print('True proportion in simulated datasets = {}'.format(bridge['true_model'].mean()))\n",
    "print('Bridge Sampling average m1 probability = {}'.format(bridge['m1_prob'].mean()))\n",
    "print('NN fixed average m1 probability = {}'.format(NN_fixed['m1_prob'].mean()))\n",
    "print('NN variable average m1 probability = {}'.format(NN_variable['m1_prob'].mean()))"
   ]
  },
  {
   "cell_type": "code",
   "execution_count": 11,
   "id": "tracked-sierra",
   "metadata": {},
   "outputs": [
    {
     "name": "stdout",
     "output_type": "stream",
     "text": [
      "True proportion = 0.49\n",
      "Bridge Sampling proportion = 0.39\n",
      "NN fixed proportion = 0.33\n",
      "NN variable proportion = 0.46\n"
     ]
    }
   ],
   "source": [
    "# How do the proportions of selected models look like?\n",
    "\n",
    "print('True proportion = {}'.format(bridge['true_model'].mean()))\n",
    "print('Bridge Sampling proportion = {}'.format(bridge['selected_model'].mean()))\n",
    "print('NN fixed proportion = {}'.format(NN_fixed['selected_model'].mean()))\n",
    "print('NN variable proportion = {}'.format(NN_variable['selected_model'].mean()))"
   ]
  },
  {
   "cell_type": "markdown",
   "id": "circular-fortune",
   "metadata": {},
   "source": [
    "# Plot log BF approximation"
   ]
  },
  {
   "cell_type": "code",
   "execution_count": 12,
   "id": "fifteen-nitrogen",
   "metadata": {},
   "outputs": [],
   "source": [
    "### Variant 1: Replace infinite BFs by highest number possible\n",
    "\n",
    "def log_with_inf_replacement(x):\n",
    "    \"\"\" Replaces Inf values with highest value possible and \n",
    "    then computes the log of the given array. \n",
    "    \"\"\"\n",
    "    \n",
    "    x_copy = x.copy()\n",
    "    if all(np.isfinite(x)) == False:\n",
    "        x_copy[np.isfinite(x) == False] = sys.maxsize\n",
    "    x_copy = np.log(x_copy)\n",
    "    return x_copy"
   ]
  },
  {
   "cell_type": "code",
   "execution_count": 32,
   "id": "intellectual-zimbabwe",
   "metadata": {},
   "outputs": [],
   "source": [
    "### Variant 2: Add noise to model probs in case of infinite BFs and recompute BFs\n",
    "\n",
    "def log_with_inf_noise_addition(x):\n",
    "    \"\"\" Replaces Inf values with highest value possible and \n",
    "    then computes the log of the given array. \n",
    "    \"\"\"\n",
    "    \n",
    "    x_copy = x.copy()\n",
    "    for i in range(x.shape[0]):\n",
    "        if x.loc[i,'m0_prob'] == 0:\n",
    "            x_copy.loc[i,'m0_prob'] = x_copy.loc[i,'m0_prob'] + 0.000000001\n",
    "            x_copy.loc[i,'m1_prob'] = x_copy.loc[i,'m1_prob'] - 0.000000001\n",
    "            x_copy.loc[i,'bayes_factor'] = x_copy.loc[i,'m1_prob'] / x_copy.loc[i,'m0_prob']\n",
    "    x_copy = np.log(x_copy['bayes_factor'])\n",
    "    return x_copy"
   ]
  },
  {
   "cell_type": "code",
   "execution_count": 160,
   "id": "literary-japanese",
   "metadata": {},
   "outputs": [
    {
     "data": {
      "text/plain": [
       "22026.465794806718"
      ]
     },
     "execution_count": 160,
     "metadata": {},
     "output_type": "execute_result"
    }
   ],
   "source": [
    "np.exp(10)"
   ]
  },
  {
   "cell_type": "code",
   "execution_count": 27,
   "id": "danish-simon",
   "metadata": {},
   "outputs": [],
   "source": [
    "# Compute Log BFs\n",
    "\n",
    "log_bridge_bfs = log_with_inf_noise_addition(bridge)\n",
    "log_NN_fixed_bfs = log_with_inf_noise_addition(NN_fixed)\n",
    "log_NN_variable_bfs = log_with_inf_noise_addition(NN_variable)"
   ]
  },
  {
   "cell_type": "code",
   "execution_count": 165,
   "id": "instructional-michigan",
   "metadata": {},
   "outputs": [
    {
     "data": {
      "text/plain": [
       "array([ 0.08976884,  0.10249567,  0.10340879,  0.11279363,  0.11655228,\n",
       "        0.12507037,  0.12866583,  0.12998589,  0.13637609,  0.14099811,\n",
       "        0.14238797,  0.14402889,  0.14536824,  0.14855502,  0.14909988,\n",
       "        0.1539192 ,  0.15816054,  0.16257114,  0.17579001,  0.1810069 ,\n",
       "        0.18103744,  0.18288746,  0.18927806,  0.19204243,  0.19508471,\n",
       "        0.19748363,  0.2071235 ,  0.23590953,  0.23716463,  0.24239773,\n",
       "        0.24890857,  0.27037473,  0.28814861,  0.29242265,  0.30044889,\n",
       "        0.30115403,  0.3016934 ,  0.30403035,  0.33064646,  0.34172327,\n",
       "        0.38301918,  0.3966449 ,  0.43967894,  0.4410801 ,  0.44645651,\n",
       "        0.45325386,  0.50028493,  0.53555951,  0.54822107,  0.56028597,\n",
       "        0.61063063,  0.64712925,  0.69179539,  0.72765541,  0.75566254,\n",
       "        0.82121396,  0.85733935,  0.85925063,  0.90040455,  0.94491869,\n",
       "        0.99638602,  1.06234148,  1.11735588,  1.19155001,  1.26478246,\n",
       "        1.29098694,  1.74674693,  2.21875415,  3.60067273,  5.65205791,\n",
       "        6.96743867,  7.90640302, 19.39742161, 24.78982532, 28.44532796])"
      ]
     },
     "execution_count": 165,
     "metadata": {},
     "output_type": "execute_result"
    }
   ],
   "source": [
    "np.sort(bridge['bayes_factor'].loc[bridge['bayes_factor'] < 50])"
   ]
  },
  {
   "cell_type": "code",
   "execution_count": 153,
   "id": "fluid-document",
   "metadata": {},
   "outputs": [
    {
     "data": {
      "text/plain": [
       "array([-2.74314832, -2.53192959, -2.52527042, -2.48463708, -2.46906376,\n",
       "       -2.44615344, -2.43138707, -2.40361641, -2.39902503, -2.39360874,\n",
       "       -2.36014938, -2.34561758, -2.25358673, -2.17310179, -2.16871886,\n",
       "       -2.09889674, -2.06950382, -1.97629362, -1.92520663, -1.92390712,\n",
       "       -1.88929541, -1.78337823, -1.76818457, -1.67472821, -1.62342865,\n",
       "       -1.59028778, -1.56039822, -1.47751186, -1.43012695, -1.42551868,\n",
       "       -1.38156444, -1.3111948 , -1.25953616, -1.23300926, -1.1844259 ,\n",
       "       -1.17310065, -1.13835242, -1.10854789, -1.09311444, -1.04038768,\n",
       "       -1.02288413, -0.99681427, -0.97711973, -0.97366402, -0.93080648,\n",
       "       -0.88350244, -0.86992945, -0.86501201, -0.84961992, -0.83028217,\n",
       "       -0.79317831, -0.72574113, -0.67118694, -0.62999576, -0.60382491,\n",
       "       -0.5572531 , -0.43185949, -0.41485847, -0.32348576, -0.28578658,\n",
       "       -0.21874572, -0.21031553, -0.20309448, -0.13770999, -0.12299427,\n",
       "       -0.07824978, -0.0345082 ,  0.00841766,  0.33976356,  0.40564179,\n",
       "        0.571273  ,  0.65956303,  0.77148317,  0.90985968,  1.08282224,\n",
       "        1.23034148,  2.23262944,  2.54242618,  2.7645717 ,  2.80349099,\n",
       "        3.71095068,  3.72554044,  3.83176037,  4.27083241,  4.4089005 ,\n",
       "        4.50266555,  5.00626309,  5.1238066 ,  5.4115168 ,  5.84777394,\n",
       "        6.70364177,  6.71323648,  6.77255635,  7.93166644,  8.42654934,\n",
       "        8.93737179,  9.25518093,  9.25767805,  9.63422126,  9.79600022])"
      ]
     },
     "execution_count": 153,
     "metadata": {},
     "output_type": "execute_result"
    }
   ],
   "source": [
    "np.sort(log_NN_fixed_bfs)"
   ]
  },
  {
   "cell_type": "code",
   "execution_count": 58,
   "id": "least-personal",
   "metadata": {},
   "outputs": [
    {
     "data": {
      "text/html": [
       "<div>\n",
       "<style scoped>\n",
       "    .dataframe tbody tr th:only-of-type {\n",
       "        vertical-align: middle;\n",
       "    }\n",
       "\n",
       "    .dataframe tbody tr th {\n",
       "        vertical-align: top;\n",
       "    }\n",
       "\n",
       "    .dataframe thead th {\n",
       "        text-align: right;\n",
       "    }\n",
       "</style>\n",
       "<table border=\"1\" class=\"dataframe\">\n",
       "  <thead>\n",
       "    <tr style=\"text-align: right;\">\n",
       "      <th></th>\n",
       "      <th>bayes_factor</th>\n",
       "      <th>true_model</th>\n",
       "    </tr>\n",
       "  </thead>\n",
       "  <tbody>\n",
       "    <tr>\n",
       "      <th>0</th>\n",
       "      <td>1.920424e-01</td>\n",
       "      <td>0</td>\n",
       "    </tr>\n",
       "    <tr>\n",
       "      <th>1</th>\n",
       "      <td>4.491424e+26</td>\n",
       "      <td>1</td>\n",
       "    </tr>\n",
       "    <tr>\n",
       "      <th>2</th>\n",
       "      <td>8.212140e-01</td>\n",
       "      <td>1</td>\n",
       "    </tr>\n",
       "    <tr>\n",
       "      <th>3</th>\n",
       "      <td>2.924226e-01</td>\n",
       "      <td>0</td>\n",
       "    </tr>\n",
       "    <tr>\n",
       "      <th>4</th>\n",
       "      <td>8.573394e-01</td>\n",
       "      <td>0</td>\n",
       "    </tr>\n",
       "    <tr>\n",
       "      <th>...</th>\n",
       "      <td>...</td>\n",
       "      <td>...</td>\n",
       "    </tr>\n",
       "    <tr>\n",
       "      <th>95</th>\n",
       "      <td>9.449187e-01</td>\n",
       "      <td>1</td>\n",
       "    </tr>\n",
       "    <tr>\n",
       "      <th>96</th>\n",
       "      <td>1.453682e-01</td>\n",
       "      <td>0</td>\n",
       "    </tr>\n",
       "    <tr>\n",
       "      <th>97</th>\n",
       "      <td>1.024957e-01</td>\n",
       "      <td>0</td>\n",
       "    </tr>\n",
       "    <tr>\n",
       "      <th>98</th>\n",
       "      <td>1.539192e-01</td>\n",
       "      <td>0</td>\n",
       "    </tr>\n",
       "    <tr>\n",
       "      <th>99</th>\n",
       "      <td>1.264782e+00</td>\n",
       "      <td>1</td>\n",
       "    </tr>\n",
       "  </tbody>\n",
       "</table>\n",
       "<p>100 rows × 2 columns</p>\n",
       "</div>"
      ],
      "text/plain": [
       "    bayes_factor  true_model\n",
       "0   1.920424e-01           0\n",
       "1   4.491424e+26           1\n",
       "2   8.212140e-01           1\n",
       "3   2.924226e-01           0\n",
       "4   8.573394e-01           0\n",
       "..           ...         ...\n",
       "95  9.449187e-01           1\n",
       "96  1.453682e-01           0\n",
       "97  1.024957e-01           0\n",
       "98  1.539192e-01           0\n",
       "99  1.264782e+00           1\n",
       "\n",
       "[100 rows x 2 columns]"
      ]
     },
     "execution_count": 58,
     "metadata": {},
     "output_type": "execute_result"
    }
   ],
   "source": [
    "bridge[['bayes_factor','true_model']]"
   ]
  },
  {
   "cell_type": "code",
   "execution_count": 174,
   "id": "choice-croatia",
   "metadata": {},
   "outputs": [],
   "source": [
    "# Compute BFs up to 100 (based on Bridge Sampling BFs)\n",
    "\n",
    "bridge_bfs_till_100 = bridge[['bayes_factor','true_model']].loc[bridge['bayes_factor'] <= 100]\n",
    "NN_fixed_bfs_till_100 = NN_fixed['bayes_factor'].loc[bridge['bayes_factor'] <= 100]\n",
    "NN_variable_bfs_till_100 = NN_variable['bayes_factor'].loc[bridge['bayes_factor'] <= 100]"
   ]
  },
  {
   "cell_type": "code",
   "execution_count": 47,
   "id": "conditional-content",
   "metadata": {},
   "outputs": [],
   "source": [
    "# Plotting settings\n",
    "\n",
    "colors = {0:'darkgrey', 1:'black'}"
   ]
  },
  {
   "cell_type": "code",
   "execution_count": 134,
   "id": "variable-engineer",
   "metadata": {},
   "outputs": [
    {
     "data": {
      "text/plain": [
       "Text(0.5, 1.0, 'Posterior probability approximation: Hierarchical Network trained with fixed dataset sizes')"
      ]
     },
     "execution_count": 134,
     "metadata": {},
     "output_type": "execute_result"
    },
    {
     "data": {
      "image/png": "[encoded data removed]",
      "text/plain": [
       "<Figure size 576x432 with 1 Axes>"
      ]
     },
     "metadata": {
      "needs_background": "light"
     },
     "output_type": "display_data"
    }
   ],
   "source": [
    "# Posterior probabilities for model 1\n",
    "# Bridge Sampling vs fixed NN\n",
    "\n",
    "f, ax = plt.subplots(1, 1, figsize=(8, 6))\n",
    "ax.scatter(bridge['m1_prob'], NN_fixed['m1_prob'], c=bridge['true_model'].map(colors))\n",
    "ax.plot(ax.get_xlim(), ax.get_xlim(), '--', color='black')\n",
    "ax.spines['right'].set_visible(False)\n",
    "ax.spines['top'].set_visible(False)\n",
    "ax.set_xlabel(r'Bridge Sampling p($M_{1}$)')\n",
    "ax.set_ylabel('Hierarchical Network fixed p($M_{1}$)')\n",
    "ax.set_title('Posterior probability approximation: Hierarchical Network trained with fixed dataset sizes')\n",
    "#f.savefig('figures/BF_toy.png', dpi=300, bbox_inches='tight')"
   ]
  },
  {
   "cell_type": "code",
   "execution_count": 30,
   "id": "surface-officer",
   "metadata": {},
   "outputs": [
    {
     "data": {
      "text/plain": [
       "Text(0.5, 1.0, 'Log Bayes Factor approximation: Hierarchical Network trained with fixed dataset sizes')"
      ]
     },
     "execution_count": 30,
     "metadata": {},
     "output_type": "execute_result"
    },
    {
     "data": {
      "image/png": "[encoded data removed]",
      "text/plain": [
       "<Figure size 576x432 with 1 Axes>"
      ]
     },
     "metadata": {
      "needs_background": "light"
     },
     "output_type": "display_data"
    }
   ],
   "source": [
    "# BFs vs fixed NN\n",
    "\n",
    "f, ax = plt.subplots(1, 1, figsize=(8, 6))\n",
    "ax.scatter(log_bridge_bfs, log_NN_fixed_bfs, c=bridge['true_model'].map(colors))\n",
    "ax.plot(ax.get_xlim(), ax.get_xlim(), '--', color='black')\n",
    "ax.spines['right'].set_visible(False)\n",
    "ax.spines['top'].set_visible(False)\n",
    "ax.set_xlabel(r'Bridge Sampling Log $BF_{10}$')\n",
    "ax.set_ylabel('Hierarchical Network fixed Log $BF_{10}$')\n",
    "ax.set_title('Log Bayes Factor approximation: Hierarchical Network trained with fixed dataset sizes')\n",
    "#f.savefig('figures/BF_toy.png', dpi=300, bbox_inches='tight')"
   ]
  },
  {
   "cell_type": "code",
   "execution_count": 175,
   "id": "sophisticated-tuning",
   "metadata": {},
   "outputs": [
    {
     "data": {
      "text/plain": [
       "Text(0.5, 1.0, 'Bayes Factor approximation for BF <= 100: Hierarchical Network trained with fixed dataset sizes')"
      ]
     },
     "execution_count": 175,
     "metadata": {},
     "output_type": "execute_result"
    },
    {
     "data": {
      "image/png": "[encoded data removed]",
      "text/plain": [
       "<Figure size 576x432 with 1 Axes>"
      ]
     },
     "metadata": {
      "needs_background": "light"
     },
     "output_type": "display_data"
    }
   ],
   "source": [
    "# Plot BFs up to 100 (based on Bridge Sampling BFs)\n",
    "\n",
    "f, ax = plt.subplots(1, 1, figsize=(8, 6))\n",
    "ax.scatter(bridge_bfs_till_100['bayes_factor'], NN_fixed_bfs_till_100, c=bridge_bfs_till_100['true_model'].map(colors))\n",
    "ax.plot(ax.get_xlim(), ax.get_xlim(), '--', color='black')\n",
    "ax.spines['right'].set_visible(False)\n",
    "ax.spines['top'].set_visible(False)\n",
    "ax.set_xlabel(r'Bridge Sampling $BF_{10}$')\n",
    "ax.set_ylabel('Hierarchical Network fixed $BF_{10}$')\n",
    "ax.set_title('Bayes Factor approximation for BF <= 100: Hierarchical Network trained with fixed dataset sizes')"
   ]
  },
  {
   "cell_type": "code",
   "execution_count": 35,
   "id": "infinite-proof",
   "metadata": {},
   "outputs": [
    {
     "data": {
      "text/html": [
       "<div>\n",
       "<style scoped>\n",
       "    .dataframe tbody tr th:only-of-type {\n",
       "        vertical-align: middle;\n",
       "    }\n",
       "\n",
       "    .dataframe tbody tr th {\n",
       "        vertical-align: top;\n",
       "    }\n",
       "\n",
       "    .dataframe thead th {\n",
       "        text-align: right;\n",
       "    }\n",
       "</style>\n",
       "<table border=\"1\" class=\"dataframe\">\n",
       "  <thead>\n",
       "    <tr style=\"text-align: right;\">\n",
       "      <th></th>\n",
       "      <th>Bridge Sampling</th>\n",
       "      <th>NN_fixed</th>\n",
       "      <th>True model</th>\n",
       "    </tr>\n",
       "  </thead>\n",
       "  <tbody>\n",
       "    <tr>\n",
       "      <th>5</th>\n",
       "      <td>1.746747</td>\n",
       "      <td>0.649301</td>\n",
       "      <td>0</td>\n",
       "    </tr>\n",
       "    <tr>\n",
       "      <th>19</th>\n",
       "      <td>5.652058</td>\n",
       "      <td>0.966080</td>\n",
       "      <td>0</td>\n",
       "    </tr>\n",
       "    <tr>\n",
       "      <th>27</th>\n",
       "      <td>0.996386</td>\n",
       "      <td>1.404615</td>\n",
       "      <td>0</td>\n",
       "    </tr>\n",
       "    <tr>\n",
       "      <th>29</th>\n",
       "      <td>1.062341</td>\n",
       "      <td>0.871351</td>\n",
       "      <td>1</td>\n",
       "    </tr>\n",
       "    <tr>\n",
       "      <th>40</th>\n",
       "      <td>1.290987</td>\n",
       "      <td>0.309406</td>\n",
       "      <td>1</td>\n",
       "    </tr>\n",
       "    <tr>\n",
       "      <th>47</th>\n",
       "      <td>1.191550</td>\n",
       "      <td>0.803526</td>\n",
       "      <td>1</td>\n",
       "    </tr>\n",
       "    <tr>\n",
       "      <th>77</th>\n",
       "      <td>1.117356</td>\n",
       "      <td>0.884269</td>\n",
       "      <td>1</td>\n",
       "    </tr>\n",
       "    <tr>\n",
       "      <th>99</th>\n",
       "      <td>1.264782</td>\n",
       "      <td>0.320346</td>\n",
       "      <td>1</td>\n",
       "    </tr>\n",
       "  </tbody>\n",
       "</table>\n",
       "</div>"
      ],
      "text/plain": [
       "    Bridge Sampling  NN_fixed  True model\n",
       "5          1.746747  0.649301           0\n",
       "19         5.652058  0.966080           0\n",
       "27         0.996386  1.404615           0\n",
       "29         1.062341  0.871351           1\n",
       "40         1.290987  0.309406           1\n",
       "47         1.191550  0.803526           1\n",
       "77         1.117356  0.884269           1\n",
       "99         1.264782  0.320346           1"
      ]
     },
     "execution_count": 35,
     "metadata": {},
     "output_type": "execute_result"
    }
   ],
   "source": [
    "# Show only BFs that lead to different decisions (Modellselektion ungleich)\n",
    "df = pd.DataFrame([bridge['bayes_factor'].loc[bridge['selected_model'] != NN_fixed['selected_model']],\n",
    "                   NN_fixed['bayes_factor'].loc[bridge['selected_model'] != NN_fixed['selected_model']],\n",
    "                   bridge['true_model'].loc[bridge['selected_model'] != NN_fixed['selected_model']]]).T\n",
    "df.columns = ['Bridge Sampling', 'NN_fixed', 'True model']\n",
    "df['True model'] = df['True model'].astype(int)\n",
    "df"
   ]
  },
  {
   "cell_type": "code",
   "execution_count": 38,
   "id": "absolute-monaco",
   "metadata": {},
   "outputs": [
    {
     "data": {
      "text/plain": [
       "Text(0.5, 1.0, 'Posterior probability approximation: Hierarchical Network trained with variable dataset sizes')"
      ]
     },
     "execution_count": 38,
     "metadata": {},
     "output_type": "execute_result"
    },
    {
     "data": {
      "image/png": "[encoded data removed]",
      "text/plain": [
       "<Figure size 576x432 with 1 Axes>"
      ]
     },
     "metadata": {
      "needs_background": "light"
     },
     "output_type": "display_data"
    }
   ],
   "source": [
    "# Posterior probabilities for model 1\n",
    "# Bridge Sampling vs variable NN\n",
    "\n",
    "f, ax = plt.subplots(1, 1, figsize=(8, 6))\n",
    "ax.scatter(bridge['m1_prob'], NN_variable['m1_prob'], c=bridge['true_model'].map(colors))\n",
    "ax.plot(ax.get_xlim(), ax.get_xlim(), '--', color='black')\n",
    "ax.spines['right'].set_visible(False)\n",
    "ax.spines['top'].set_visible(False)\n",
    "ax.set_xlabel(r'Bridge Sampling p($M_{1}$)')\n",
    "ax.set_ylabel('Hierarchical Network variable p($M_{1}$)')\n",
    "ax.set_title('Posterior probability approximation: Hierarchical Network trained with variable dataset sizes')\n",
    "#f.savefig('figures/BF_toy.png', dpi=300, bbox_inches='tight')"
   ]
  },
  {
   "cell_type": "code",
   "execution_count": 170,
   "id": "streaming-questionnaire",
   "metadata": {},
   "outputs": [
    {
     "data": {
      "text/plain": [
       "Text(0.5, 1.0, 'Log Bayes Factor approximation: Hierarchical Network trained with variable dataset sizes')"
      ]
     },
     "execution_count": 170,
     "metadata": {},
     "output_type": "execute_result"
    },
    {
     "data": {
      "image/png": "[encoded data removed]",
      "text/plain": [
       "<Figure size 576x432 with 1 Axes>"
      ]
     },
     "metadata": {
      "needs_background": "light"
     },
     "output_type": "display_data"
    }
   ],
   "source": [
    "# vs variable NN\n",
    "\n",
    "f, ax = plt.subplots(1, 1, figsize=(8, 6))\n",
    "ax.scatter(log_bridge_bfs, log_NN_variable_bfs, c=bridge['true_model'].map(colors))\n",
    "ax.plot(ax.get_xlim(), ax.get_xlim(), '--', color='black')\n",
    "ax.spines['right'].set_visible(False)\n",
    "ax.spines['top'].set_visible(False)\n",
    "ax.set_xlabel(r'Bridge Sampling Log $BF_{10}$')\n",
    "ax.set_ylabel('Hierarchical Network variable Log $BF_{10}$')\n",
    "ax.set_title('Log Bayes Factor approximation: Hierarchical Network trained with variable dataset sizes')\n",
    "#f.savefig('figures/BF_toy.png', dpi=300, bbox_inches='tight')"
   ]
  },
  {
   "cell_type": "code",
   "execution_count": 171,
   "id": "nervous-centre",
   "metadata": {},
   "outputs": [
    {
     "data": {
      "text/plain": [
       "Text(0.5, 1.0, 'Bayes Factor approximation for BF <= 100: Hierarchical Network trained with variable dataset sizes')"
      ]
     },
     "execution_count": 171,
     "metadata": {},
     "output_type": "execute_result"
    },
    {
     "data": {
      "image/png": "[encoded data removed]",
      "text/plain": [
       "<Figure size 576x432 with 1 Axes>"
      ]
     },
     "metadata": {
      "needs_background": "light"
     },
     "output_type": "display_data"
    }
   ],
   "source": [
    "# Plot BFs up to 100 (based on Bridge Sampling BFs)\n",
    "\n",
    "f, ax = plt.subplots(1, 1, figsize=(8, 6))\n",
    "ax.scatter(bridge_bfs_till_100['bayes_factor'], NN_variable_bfs_till_100, c=bridge_bfs_till_100['true_model'].map(colors))\n",
    "ax.plot(ax.get_xlim(), ax.get_xlim(), '--', color='black')\n",
    "ax.spines['right'].set_visible(False)\n",
    "ax.spines['top'].set_visible(False)\n",
    "ax.set_xlabel(r'Bridge Sampling $BF_{10}$')\n",
    "ax.set_ylabel('Hierarchical Network variable $BF_{10}$')\n",
    "ax.set_title('Bayes Factor approximation for BF <= 100: Hierarchical Network trained with variable dataset sizes')"
   ]
  },
  {
   "cell_type": "code",
   "execution_count": 41,
   "id": "announced-scene",
   "metadata": {},
   "outputs": [
    {
     "data": {
      "text/html": [
       "<div>\n",
       "<style scoped>\n",
       "    .dataframe tbody tr th:only-of-type {\n",
       "        vertical-align: middle;\n",
       "    }\n",
       "\n",
       "    .dataframe tbody tr th {\n",
       "        vertical-align: top;\n",
       "    }\n",
       "\n",
       "    .dataframe thead th {\n",
       "        text-align: right;\n",
       "    }\n",
       "</style>\n",
       "<table border=\"1\" class=\"dataframe\">\n",
       "  <thead>\n",
       "    <tr style=\"text-align: right;\">\n",
       "      <th></th>\n",
       "      <th>Bridge Sampling</th>\n",
       "      <th>NN_variable</th>\n",
       "      <th>True model</th>\n",
       "    </tr>\n",
       "  </thead>\n",
       "  <tbody>\n",
       "    <tr>\n",
       "      <th>2</th>\n",
       "      <td>0.821214</td>\n",
       "      <td>1.830639</td>\n",
       "      <td>1</td>\n",
       "    </tr>\n",
       "    <tr>\n",
       "      <th>16</th>\n",
       "      <td>0.560286</td>\n",
       "      <td>1.247811</td>\n",
       "      <td>0</td>\n",
       "    </tr>\n",
       "    <tr>\n",
       "      <th>27</th>\n",
       "      <td>0.996386</td>\n",
       "      <td>1.716274</td>\n",
       "      <td>0</td>\n",
       "    </tr>\n",
       "    <tr>\n",
       "      <th>28</th>\n",
       "      <td>0.859251</td>\n",
       "      <td>1.445082</td>\n",
       "      <td>1</td>\n",
       "    </tr>\n",
       "    <tr>\n",
       "      <th>35</th>\n",
       "      <td>0.548221</td>\n",
       "      <td>1.470246</td>\n",
       "      <td>0</td>\n",
       "    </tr>\n",
       "    <tr>\n",
       "      <th>37</th>\n",
       "      <td>0.755663</td>\n",
       "      <td>1.069422</td>\n",
       "      <td>0</td>\n",
       "    </tr>\n",
       "    <tr>\n",
       "      <th>47</th>\n",
       "      <td>1.191550</td>\n",
       "      <td>0.961479</td>\n",
       "      <td>1</td>\n",
       "    </tr>\n",
       "    <tr>\n",
       "      <th>66</th>\n",
       "      <td>0.900405</td>\n",
       "      <td>1.135542</td>\n",
       "      <td>0</td>\n",
       "    </tr>\n",
       "    <tr>\n",
       "      <th>75</th>\n",
       "      <td>0.727655</td>\n",
       "      <td>1.128338</td>\n",
       "      <td>1</td>\n",
       "    </tr>\n",
       "    <tr>\n",
       "      <th>77</th>\n",
       "      <td>1.117356</td>\n",
       "      <td>0.758457</td>\n",
       "      <td>1</td>\n",
       "    </tr>\n",
       "    <tr>\n",
       "      <th>91</th>\n",
       "      <td>0.691795</td>\n",
       "      <td>1.228060</td>\n",
       "      <td>1</td>\n",
       "    </tr>\n",
       "  </tbody>\n",
       "</table>\n",
       "</div>"
      ],
      "text/plain": [
       "    Bridge Sampling  NN_variable  True model\n",
       "2          0.821214     1.830639           1\n",
       "16         0.560286     1.247811           0\n",
       "27         0.996386     1.716274           0\n",
       "28         0.859251     1.445082           1\n",
       "35         0.548221     1.470246           0\n",
       "37         0.755663     1.069422           0\n",
       "47         1.191550     0.961479           1\n",
       "66         0.900405     1.135542           0\n",
       "75         0.727655     1.128338           1\n",
       "77         1.117356     0.758457           1\n",
       "91         0.691795     1.228060           1"
      ]
     },
     "execution_count": 41,
     "metadata": {},
     "output_type": "execute_result"
    }
   ],
   "source": [
    "# Show only BFs that lead to different decisions (Modellselektion ungleich)\n",
    "df = pd.DataFrame([bridge['bayes_factor'].loc[bridge['selected_model'] != NN_variable['selected_model']],\n",
    "                   NN_variable['bayes_factor'].loc[bridge['selected_model'] != NN_variable['selected_model']],\n",
    "                   bridge['true_model'].loc[bridge['selected_model'] != NN_variable['selected_model']]]).T\n",
    "df.columns = ['Bridge Sampling', 'NN_variable', 'True model']\n",
    "df['True model'] = df['True model'].astype(int)\n",
    "df"
   ]
  },
  {
   "cell_type": "markdown",
   "id": "innocent-sullivan",
   "metadata": {},
   "source": [
    "# Plot Computation time as function of datasets"
   ]
  },
  {
   "cell_type": "code",
   "execution_count": 113,
   "id": "dated-receiver",
   "metadata": {},
   "outputs": [
    {
     "data": {
      "image/png": "[encoded data removed]",
      "text/plain": [
       "<Figure size 576x432 with 1 Axes>"
      ]
     },
     "metadata": {
      "needs_background": "light"
     },
     "output_type": "display_data"
    }
   ],
   "source": [
    "# Plot for all datasets\n",
    "\n",
    "# Calculate computation times\n",
    "bridge_time_min = (bridge['compile_time'] + (bridge['stan_time'] + bridge['bridge_time']).cumsum())/60\n",
    "NN_fixed_time_min = (NN_fixed['training_time'] + NN_fixed['inference_time'].cumsum())/60\n",
    "NN_variable_time_min = (NN_variable['training_time'] + NN_variable['inference_time'].cumsum())/60\n",
    "\n",
    "# Set index to represent datasets\n",
    "bridge_time_min.index = bridge_time_min.index+1\n",
    "NN_fixed_time_min.index = NN_fixed_time_min.index+1\n",
    "NN_variable_time_min.index = NN_variable_time_min.index+1\n",
    "\n",
    "# Plot\n",
    "f, ax = plt.subplots(1, 1, figsize=(8, 6))\n",
    "ax.plot(bridge_time_min, label='Bridge Sampling computation time', lw=2, color='black')\n",
    "ax.plot(NN_fixed_time_min, label='Hierarchical Network fixed computation time', lw=2, linestyle='dotted', color='black')\n",
    "ax.plot(NN_variable_time_min, label='Hierarchical Network variable computation time', lw=2, linestyle='dashed', color='black')\n",
    "ax.spines['right'].set_visible(False)\n",
    "ax.spines['top'].set_visible(False)\n",
    "ax.set_xlabel('Dataset')\n",
    "ax.set_ylabel('Computation time in minutes')\n",
    "ax.set_xlim(xmin=1)\n",
    "ax.set_ylim(ymin=0)\n",
    "ax.legend(loc='upper left')\n",
    "f.savefig('figures/BF_N_Toy.png', dpi=300, bbox_inches='tight')"
   ]
  },
  {
   "cell_type": "code",
   "execution_count": 114,
   "id": "buried-dependence",
   "metadata": {},
   "outputs": [
    {
     "data": {
      "image/png": "[encoded data removed]",
      "text/plain": [
       "<Figure size 576x432 with 1 Axes>"
      ]
     },
     "metadata": {
      "needs_background": "light"
     },
     "output_type": "display_data"
    }
   ],
   "source": [
    "# Plot time for subset of 1-5 datasets\n",
    "\n",
    "bridge_short = bridge.iloc[:5,:]\n",
    "NN_fixed_short = NN_fixed.iloc[:5,:]\n",
    "NN_variable_short = NN_variable.iloc[:5,:]\n",
    "\n",
    "# Calculate computation times\n",
    "bridge_time_min = ((bridge_short['compile_time'] + (bridge_short['stan_time'] + bridge_short['bridge_time']).cumsum())/60)\n",
    "NN_fixed_time_min = ((NN_fixed_short['training_time'] + NN_fixed_short['inference_time'].cumsum())/60)\n",
    "NN_variable_time_min = ((NN_variable_short['training_time'] + NN_variable_short['inference_time'].cumsum())/60)\n",
    "\n",
    "# Set index to represent datasets\n",
    "bridge_time_min.index = bridge_time_min.index+1\n",
    "NN_fixed_time_min.index = NN_fixed_time_min.index+1\n",
    "NN_variable_time_min.index = NN_variable_time_min.index+1\n",
    "\n",
    "# Plot\n",
    "f, ax = plt.subplots(1, 1, figsize=(8, 6))\n",
    "ax.plot(bridge_time_min, label='Bridge Sampling computation time', lw=2, marker='D', color='black')\n",
    "ax.plot(NN_fixed_time_min, label='Hierarchical Network fixed computation time', lw=2, linestyle='dotted', marker='D', color='black')\n",
    "ax.plot(NN_variable_time_min, label='Hierarchical Network variable computation time', lw=2, linestyle='dashed', marker='D', color='black')\n",
    "ax.spines['right'].set_visible(False)\n",
    "ax.spines['top'].set_visible(False)\n",
    "ax.set_xlabel('Dataset')\n",
    "ax.set_ylabel('Computation time in minutes')\n",
    "ax.set_xlim(xmin=1)\n",
    "ax.set_ylim(ymin=0)\n",
    "ax.set_xticks(bridge_time_min.index) # only display ticks for each dataset\n",
    "ax.legend(loc='upper left')\n",
    "f.savefig('figures/BF_N_Toy.png', dpi=300, bbox_inches='tight')"
   ]
  }
 ],
 "metadata": {
  "kernelspec": {
   "display_name": "Python 3",
   "language": "python",
   "name": "python3"
  },
  "language_info": {
   "codemirror_mode": {
    "name": "ipython",
    "version": 3
   },
   "file_extension": ".py",
   "mimetype": "text/x-python",
   "name": "python",
   "nbconvert_exporter": "python",
   "pygments_lexer": "ipython3",
   "version": "3.8.8"
  },
  "toc": {
   "base_numbering": 1,
   "nav_menu": {},
   "number_sections": true,
   "sideBar": true,
   "skip_h1_title": false,
   "title_cell": "Table of Contents",
   "title_sidebar": "Contents",
   "toc_cell": false,
   "toc_position": {},
   "toc_section_display": true,
   "toc_window_display": false
  },
  "varInspector": {
   "cols": {
    "lenName": 16,
    "lenType": 16,
    "lenVar": 40
   },
   "kernels_config": {
    "python": {
     "delete_cmd_postfix": "",
     "delete_cmd_prefix": "del ",
     "library": "var_list.py",
     "varRefreshCmd": "print(var_dic_list())"
    },
    "r": {
     "delete_cmd_postfix": ") ",
     "delete_cmd_prefix": "rm(",
     "library": "var_list.r",
     "varRefreshCmd": "cat(var_dic_list()) "
    }
   },
   "types_to_exclude": [
    "module",
    "function",
    "builtin_function_or_method",
    "instance",
    "_Feature"
   ],
   "window_display": false
  }
 },
 "nbformat": 4,
 "nbformat_minor": 5
}
